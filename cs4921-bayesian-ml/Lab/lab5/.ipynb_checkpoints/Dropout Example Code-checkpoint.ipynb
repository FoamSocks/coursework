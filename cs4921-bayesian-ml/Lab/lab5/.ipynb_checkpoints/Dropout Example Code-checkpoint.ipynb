{
 "cells": [
  {
   "cell_type": "markdown",
   "metadata": {
    "id": "ZrwVQsM9TiUw"
   },
   "source": [
    "##### Copyright 2019 The TensorFlow Probability Authors.\n",
    "\n",
    "Licensed under the Apache License, Version 2.0 (the \"License\");"
   ]
  },
  {
   "cell_type": "code",
   "execution_count": 3,
   "metadata": {
    "id": "CpDUTVKYTowI"
   },
   "outputs": [],
   "source": [
    "#@title Licensed under the Apache License, Version 2.0 (the \"License\"); { display-mode: \"form\" }\n",
    "# you may not use this file except in compliance with the License.\n",
    "# You may obtain a copy of the License at\n",
    "#\n",
    "# https://www.apache.org/licenses/LICENSE-2.0\n",
    "#\n",
    "# Unless required by applicable law or agreed to in writing, software\n",
    "# distributed under the License is distributed on an \"AS IS\" BASIS,\n",
    "# WITHOUT WARRANTIES OR CONDITIONS OF ANY KIND, either express or implied.\n",
    "# See the License for the specific language governing permissions and\n",
    "# limitations under the License."
   ]
  },
  {
   "cell_type": "markdown",
   "metadata": {
    "id": "ltPJCG6pAUoc"
   },
   "source": [
    "# TFP Probabilistic Layers: Regression\n",
    "\n",
    "<table class=\"tfo-notebook-buttons\" align=\"left\">\n",
    "  <td>\n",
    "    <a target=\"_blank\" href=\"https://www.tensorflow.org/probability/examples/Probabilistic_Layers_Regression\"><img src=\"https://www.tensorflow.org/images/tf_logo_32px.png\" />View on TensorFlow.org</a>\n",
    "  </td>\n",
    "  <td>\n",
    "    <a target=\"_blank\" href=\"https://colab.research.google.com/github/tensorflow/probability/blob/main/tensorflow_probability/examples/jupyter_notebooks/Probabilistic_Layers_Regression.ipynb\"><img src=\"https://www.tensorflow.org/images/colab_logo_32px.png\" />Run in Google Colab</a>\n",
    "  </td>\n",
    "  <td>\n",
    "    <a target=\"_blank\" href=\"https://github.com/tensorflow/probability/blob/main/tensorflow_probability/examples/jupyter_notebooks/Probabilistic_Layers_Regression.ipynb\"><img src=\"https://www.tensorflow.org/images/GitHub-Mark-32px.png\" />View source on GitHub</a>\n",
    "  </td>\n",
    "  <td>\n",
    "    <a href=\"https://storage.googleapis.com/tensorflow_docs/probability/tensorflow_probability/examples/jupyter_notebooks/Probabilistic_Layers_Regression.ipynb\"><img src=\"https://www.tensorflow.org/images/download_logo_32px.png\" />Download notebook</a>\n",
    "  </td>\n",
    "</table>"
   ]
  },
  {
   "cell_type": "markdown",
   "metadata": {
    "id": "WRVR-tGTR31S"
   },
   "source": [
    "In this example we show how to fit regression models using TFP's \"probabilistic layers.\""
   ]
  },
  {
   "cell_type": "markdown",
   "metadata": {
    "id": "uiR4-VOt9NFX"
   },
   "source": [
    "### Dependencies & Prerequisites\n"
   ]
  },
  {
   "cell_type": "code",
   "execution_count": 4,
   "metadata": {
    "id": "kZ0MdF1j8WJf"
   },
   "outputs": [
    {
     "name": "stderr",
     "output_type": "stream",
     "text": [
      "2023-02-11 12:38:58.697261: I tensorflow/core/platform/cpu_feature_guard.cc:193] This TensorFlow binary is optimized with oneAPI Deep Neural Network Library (oneDNN) to use the following CPU instructions in performance-critical operations:  AVX2 FMA\n",
      "To enable them in other operations, rebuild TensorFlow with the appropriate compiler flags.\n"
     ]
    }
   ],
   "source": [
    "#@title Import { display-mode: \"form\" }\n",
    "\n",
    "\n",
    "from pprint import pprint\n",
    "import matplotlib.pyplot as plt\n",
    "import numpy as np\n",
    "import seaborn as sns\n",
    "\n",
    "import tensorflow.compat.v2 as tf\n",
    "tf.enable_v2_behavior()\n",
    "\n",
    "import tensorflow_probability as tfp\n",
    "\n",
    "sns.reset_defaults()\n",
    "#sns.set_style('whitegrid')\n",
    "#sns.set_context('talk')\n",
    "sns.set_context(context='talk',font_scale=0.7)\n",
    "\n",
    "%matplotlib inline\n",
    "\n",
    "tfd = tfp.distributions"
   ]
  },
  {
   "cell_type": "markdown",
   "metadata": {
    "id": "7nnwjUdVoWN2"
   },
   "source": [
    "### Make things Fast!"
   ]
  },
  {
   "cell_type": "markdown",
   "metadata": {
    "id": "2CK9RaDcoYPG"
   },
   "source": [
    "Before we dive in, let's make sure we're using a GPU for this demo.  \n",
    "\n",
    "To do this, select \"Runtime\" -> \"Change runtime type\" -> \"Hardware accelerator\" -> \"GPU\".\n",
    "\n",
    "The following snippet will verify that we have access to a GPU."
   ]
  },
  {
   "cell_type": "code",
   "execution_count": 5,
   "metadata": {
    "colab": {
     "base_uri": "https://localhost:8080/"
    },
    "id": "qP_4Xr8vpA42",
    "outputId": "28239f65-cffa-4321-8cd7-c066780e8784"
   },
   "outputs": [
    {
     "name": "stdout",
     "output_type": "stream",
     "text": [
      "WARNING: GPU device not found.\n"
     ]
    },
    {
     "name": "stderr",
     "output_type": "stream",
     "text": [
      "2023-02-11 12:39:11.887160: I tensorflow/core/platform/cpu_feature_guard.cc:193] This TensorFlow binary is optimized with oneAPI Deep Neural Network Library (oneDNN) to use the following CPU instructions in performance-critical operations:  AVX2 FMA\n",
      "To enable them in other operations, rebuild TensorFlow with the appropriate compiler flags.\n"
     ]
    }
   ],
   "source": [
    "if tf.test.gpu_device_name() != '/device:GPU:0':\n",
    "  print('WARNING: GPU device not found.')\n",
    "else:\n",
    "  print('SUCCESS: Found GPU: {}'.format(tf.test.gpu_device_name()))"
   ]
  },
  {
   "cell_type": "markdown",
   "metadata": {
    "id": "FJRBc_S0ppfE"
   },
   "source": [
    "Note: if for some reason you cannot access a GPU, this colab will still work. (Training will just take longer.)"
   ]
  },
  {
   "cell_type": "markdown",
   "metadata": {
    "id": "xuqxMmryiduM"
   },
   "source": [
    "## Motivation"
   ]
  },
  {
   "cell_type": "markdown",
   "metadata": {
    "id": "RtBLNF-tin2L"
   },
   "source": [
    "Wouldn't it be great if we could use TFP to specify a probabilistic model then simply minimize the negative log-likelihood, i.e.,"
   ]
  },
  {
   "cell_type": "code",
   "execution_count": 6,
   "metadata": {
    "id": "3PFfNeJzifo7"
   },
   "outputs": [],
   "source": [
    "negloglik = lambda y, rv_y: -rv_y.log_prob(y)"
   ]
  },
  {
   "cell_type": "markdown",
   "metadata": {
    "id": "cN4IP8n_jIvT"
   },
   "source": [
    "Well not only is it possible, but this colab shows how! (In context of linear regression problems.)"
   ]
  },
  {
   "cell_type": "code",
   "execution_count": 7,
   "metadata": {
    "id": "5zCEYpzu7bDX"
   },
   "outputs": [],
   "source": [
    "#@title Synthesize dataset.\n",
    "w0 = 0.125\n",
    "b0 = 5.\n",
    "x_range = [-20, 60]\n",
    "\n",
    "def load_dataset(n=150, n_tst=150):\n",
    "  np.random.seed(43)\n",
    "  def s(x):\n",
    "    g = (x - x_range[0]) / (x_range[1] - x_range[0])\n",
    "    return 3 * (0.25 + g**2.)\n",
    "  x = (x_range[1] - x_range[0]) * np.random.rand(n) + x_range[0]\n",
    "  eps = np.random.randn(n) * s(x)\n",
    "  y = (w0 * x * (1. + np.sin(x)) + b0) + eps\n",
    "  x = x[..., np.newaxis]\n",
    "  x_tst = np.linspace(*x_range, num=n_tst).astype(np.float32)\n",
    "  x_tst = x_tst[..., np.newaxis]\n",
    "  return y, x, x_tst\n",
    "\n",
    "y, x, x_tst = load_dataset()"
   ]
  },
  {
   "cell_type": "code",
   "execution_count": 8,
   "metadata": {
    "colab": {
     "base_uri": "https://localhost:8080/"
    },
    "id": "XW9COvZayoeb",
    "outputId": "c332deb6-0352-4ec6-aa9c-197ba241d0f4"
   },
   "outputs": [
    {
     "data": {
      "text/plain": [
       "array([[-10.79563469],\n",
       "       [ 28.72532314],\n",
       "       [ -9.32872287],\n",
       "       [ -0.7528304 ],\n",
       "       [  6.17112446],\n",
       "       [ 48.73099928],\n",
       "       [ 33.28721705],\n",
       "       [ 23.29297698],\n",
       "       [-17.67889405],\n",
       "       [ 38.6998637 ],\n",
       "       [ 11.59600147],\n",
       "       [ 44.16376949],\n",
       "       [  0.35369007],\n",
       "       [-15.44920507],\n",
       "       [ 49.33189127],\n",
       "       [ -2.31768033],\n",
       "       [ 12.39915584],\n",
       "       [  5.28771768],\n",
       "       [-13.866984  ],\n",
       "       [ 47.45797554],\n",
       "       [ 47.91513182],\n",
       "       [ 57.71720731],\n",
       "       [ 10.83015315],\n",
       "       [ 56.35905001],\n",
       "       [ 15.66066887],\n",
       "       [ 33.57797214],\n",
       "       [-13.39999602],\n",
       "       [ 51.7678864 ],\n",
       "       [  3.84028006],\n",
       "       [  0.98438581],\n",
       "       [-19.58963607],\n",
       "       [ 23.45620122],\n",
       "       [ 18.04770936],\n",
       "       [ 30.90989421],\n",
       "       [ 58.25633073],\n",
       "       [ 52.69302063],\n",
       "       [ 52.81224606],\n",
       "       [ 22.02045369],\n",
       "       [-11.67848401],\n",
       "       [ -5.52683238],\n",
       "       [ 56.24321768],\n",
       "       [ 12.95623867],\n",
       "       [ 49.20136965],\n",
       "       [ 33.77418236],\n",
       "       [ 30.30286367],\n",
       "       [  2.04470213],\n",
       "       [ 51.73978158],\n",
       "       [ -3.44869029],\n",
       "       [ 12.35241945],\n",
       "       [ 59.48579939],\n",
       "       [ 38.85816652],\n",
       "       [ 15.604913  ],\n",
       "       [ 24.85305356],\n",
       "       [ 12.90043913],\n",
       "       [ 38.15903936],\n",
       "       [ 11.93575087],\n",
       "       [ 33.61161318],\n",
       "       [ 36.37724863],\n",
       "       [ 28.7647897 ],\n",
       "       [ 23.20275713],\n",
       "       [ -3.51345193],\n",
       "       [ -4.06708187],\n",
       "       [ 43.65910919],\n",
       "       [  3.22662222],\n",
       "       [ 32.47702623],\n",
       "       [  3.96934206],\n",
       "       [ -8.44172973],\n",
       "       [ 12.31653336],\n",
       "       [  4.82156215],\n",
       "       [ -0.5281587 ],\n",
       "       [ 27.04832341],\n",
       "       [ -0.37253976],\n",
       "       [ 39.82164894],\n",
       "       [ 37.61173183],\n",
       "       [ 35.62086936],\n",
       "       [-11.78057771],\n",
       "       [ 55.49139425],\n",
       "       [ 20.26717063],\n",
       "       [ 51.97388955],\n",
       "       [ -4.11360925],\n",
       "       [ 27.55593495],\n",
       "       [ 57.23268653],\n",
       "       [ 59.89585967],\n",
       "       [-18.06651   ],\n",
       "       [ 18.50426668],\n",
       "       [  3.31381517],\n",
       "       [-14.90235453],\n",
       "       [ 25.56995192],\n",
       "       [-19.59333722],\n",
       "       [ 28.90220717],\n",
       "       [ 49.61451816],\n",
       "       [ 50.6881172 ],\n",
       "       [ 56.34555866],\n",
       "       [ 39.18910558],\n",
       "       [ -5.2229634 ],\n",
       "       [ 14.77426569],\n",
       "       [ 50.87195964],\n",
       "       [  0.40370243],\n",
       "       [ 15.46501558],\n",
       "       [ 29.35495807],\n",
       "       [-11.73179913],\n",
       "       [ 19.20877289],\n",
       "       [-16.42364781],\n",
       "       [  4.93019754],\n",
       "       [ 40.16317491],\n",
       "       [ 37.23992692],\n",
       "       [ 55.3243395 ],\n",
       "       [ 42.15162934],\n",
       "       [ -2.7817188 ],\n",
       "       [ 52.39769445],\n",
       "       [ 24.18113176],\n",
       "       [ 47.59183101],\n",
       "       [ 53.7991587 ],\n",
       "       [ 46.31690232],\n",
       "       [ 11.53583984],\n",
       "       [ 27.85505093],\n",
       "       [ 14.61584637],\n",
       "       [ 35.53177086],\n",
       "       [ 18.77491917],\n",
       "       [ -9.73917267],\n",
       "       [ 31.54963973],\n",
       "       [ -3.62350271],\n",
       "       [ 39.59657004],\n",
       "       [-11.55062349],\n",
       "       [-19.4152405 ],\n",
       "       [  6.75911932],\n",
       "       [ 57.54044031],\n",
       "       [ 36.07805515],\n",
       "       [ 13.09484278],\n",
       "       [-10.33982636],\n",
       "       [-15.17091645],\n",
       "       [ 38.0969339 ],\n",
       "       [ 52.43607875],\n",
       "       [-18.71792657],\n",
       "       [ 26.73126646],\n",
       "       [ 38.28832402],\n",
       "       [  3.37580354],\n",
       "       [ 21.82380931],\n",
       "       [ 45.1881509 ],\n",
       "       [ 27.70615841],\n",
       "       [ 10.28442716],\n",
       "       [-13.79537556],\n",
       "       [ 18.9524941 ],\n",
       "       [ 17.45551249],\n",
       "       [ -5.47721946],\n",
       "       [-14.38912524],\n",
       "       [ 20.67207457],\n",
       "       [  6.54813879],\n",
       "       [ -2.84017437],\n",
       "       [-12.42744846]])"
      ]
     },
     "execution_count": 8,
     "metadata": {},
     "output_type": "execute_result"
    }
   ],
   "source": [
    "x"
   ]
  },
  {
   "cell_type": "code",
   "execution_count": 9,
   "metadata": {
    "id": "e_MV7I1MzaFw"
   },
   "outputs": [],
   "source": [
    "n_examples = y.shape[0]"
   ]
  },
  {
   "cell_type": "code",
   "execution_count": 10,
   "metadata": {
    "id": "Do2lzfeczIQM"
   },
   "outputs": [],
   "source": [
    "expectednegloglik = lambda y, rv_y: -rv_y.log_prob(y)/n_examples"
   ]
  },
  {
   "cell_type": "markdown",
   "metadata": {
    "id": "N8Shtn_e99XC"
   },
   "source": [
    "### Case 1: MLE Linear Regression with Constant Uncertainty"
   ]
  },
  {
   "cell_type": "code",
   "execution_count": 11,
   "metadata": {
    "colab": {
     "base_uri": "https://localhost:8080/"
    },
    "id": "RxKJ_RPI0K4N",
    "outputId": "460d1ddf-2647-407f-e0d1-db6c94fd0fdc"
   },
   "outputs": [
    {
     "name": "stdout",
     "output_type": "stream",
     "text": [
      "WARNING:tensorflow:From /Users/leximendolia/opt/anaconda3/lib/python3.9/site-packages/tensorflow/python/autograph/pyct/static_analysis/liveness.py:83: Analyzer.lamba_check (from tensorflow.python.autograph.pyct.static_analysis.liveness) is deprecated and will be removed after 2023-09-23.\n",
      "Instructions for updating:\n",
      "Lambda fuctions will be no more assumed to be used in the statement where they are used, or at least in the same block. https://github.com/tensorflow/tensorflow/issues/56089\n",
      "0.14021504\n",
      "5.1353703\n"
     ]
    }
   ],
   "source": [
    "# Build model.\n",
    "input = tf.keras.layers.Input(1)\n",
    "linear = tf.keras.layers.Dense(1)(input)\n",
    "p = tfp.layers.DistributionLambda(lambda t: tfd.Normal(loc=t, scale=1))(linear)\n",
    "model = tf.keras.Model(inputs=input, outputs=p)\n",
    "\n",
    "# Do inference.\n",
    "model.compile(optimizer=tf.optimizers.Adam(learning_rate=0.01), loss=expectednegloglik)\n",
    "model.fit(x, y, epochs=1000, verbose=False);\n",
    "\n",
    "# Profit.\n",
    "[print(np.squeeze(w.numpy())) for w in model.weights];\n",
    "yhat = model(x_tst)\n",
    "assert isinstance(yhat, tfd.Distribution)"
   ]
  },
  {
   "cell_type": "code",
   "execution_count": 12,
   "metadata": {
    "colab": {
     "base_uri": "https://localhost:8080/",
     "height": 138
    },
    "id": "1AE9ElaKI6Er",
    "outputId": "02641038-a097-4761-8f28-1bbac567aacb"
   },
   "outputs": [
    {
     "data": {
      "image/png": "[encoded data removed]",
      "text/plain": [
       "<Figure size 432x108 with 1 Axes>"
      ]
     },
     "metadata": {
      "needs_background": "light"
     },
     "output_type": "display_data"
    }
   ],
   "source": [
    "\n",
    "w = np.squeeze(model.layers[-2].kernel.numpy())\n",
    "b = np.squeeze(model.layers[-2].bias.numpy())\n",
    "\n",
    "plt.figure(figsize=[6, 1.5])  # inches\n",
    "#plt.figure(figsize=[8, 5])  # inches\n",
    "plt.plot(x, y, 'b.', label='observed');\n",
    "plt.plot(x_tst, yhat.mean(),'r', label='mean', linewidth=4);\n",
    "plt.ylim(-0.,17);\n",
    "plt.yticks(np.linspace(0, 15, 4)[1:]);\n",
    "plt.xticks(np.linspace(*x_range, num=9));\n",
    "\n",
    "ax=plt.gca();\n",
    "ax.xaxis.set_ticks_position('bottom')\n",
    "ax.yaxis.set_ticks_position('left')\n",
    "ax.spines['left'].set_position(('data', 0))\n",
    "ax.spines['top'].set_visible(False)\n",
    "ax.spines['right'].set_visible(False)\n",
    "#ax.spines['left'].set_smart_bounds(True)\n",
    "#ax.spines['bottom'].set_smart_bounds(True)\n",
    "plt.legend(loc='center left', fancybox=True, framealpha=0., bbox_to_anchor=(1.05, 0.5))\n",
    "\n",
    "plt.savefig('/tmp/fig1.png', bbox_inches='tight', dpi=300)"
   ]
  },
  {
   "cell_type": "markdown",
   "metadata": {
    "id": "91kwRqs4O5Yv"
   },
   "source": [
    "### Case 2: MLE Linear Model with Homoscedastic Uncertainty"
   ]
  },
  {
   "cell_type": "code",
   "execution_count": 13,
   "metadata": {
    "colab": {
     "base_uri": "https://localhost:8080/"
    },
    "id": "TLZ97_V4PP-f",
    "outputId": "7a8fc991-8ea0-4e18-fa82-6953c0c70404"
   },
   "outputs": [
    {
     "name": "stdout",
     "output_type": "stream",
     "text": [
      "0.12974936\n",
      "5.1233916\n"
     ]
    }
   ],
   "source": [
    "# Build model.\n",
    "input = tf.keras.layers.Input(1)\n",
    "linear = tf.keras.layers.Dense(1)(input)\n",
    "s = tf.keras.layers.Dense(1, activation=tf.keras.activations.exponential,use_bias=False)(tf.constant(np.ones([1,1])))\n",
    "p = tfp.layers.DistributionLambda(lambda t: tfd.Normal(loc=t[0], scale=t[1]))([linear,s])\n",
    "model = tf.keras.Model(inputs=input, outputs=p)\n",
    "\n",
    "# Do inference.\n",
    "model.compile(optimizer=tf.optimizers.Adam(learning_rate=0.01), loss=expectednegloglik)\n",
    "model.fit(x, y, epochs=1000, verbose=False);\n",
    "\n",
    "# Profit.\n",
    "[print(np.squeeze(w.numpy())) for w in model.weights];\n",
    "yhat = model(x_tst)\n",
    "assert isinstance(yhat, tfd.Distribution)"
   ]
  },
  {
   "cell_type": "code",
   "execution_count": 14,
   "metadata": {
    "colab": {
     "base_uri": "https://localhost:8080/"
    },
    "id": "dYjL4-H3n3k1",
    "outputId": "6ebd39de-5119-4617-9c01-c987b6925a4c"
   },
   "outputs": [
    {
     "name": "stdout",
     "output_type": "stream",
     "text": [
      "0.19.0\n"
     ]
    }
   ],
   "source": [
    "print(tfp.__version__)"
   ]
  },
  {
   "cell_type": "code",
   "execution_count": 15,
   "metadata": {
    "colab": {
     "base_uri": "https://localhost:8080/",
     "height": 138
    },
    "id": "JSSWw2-FPCiG",
    "outputId": "29c3a242-9428-48c3-b668-3e012722c684"
   },
   "outputs": [
    {
     "data": {
      "image/png": "[encoded data removed]",
      "text/plain": [
       "<Figure size 432x108 with 1 Axes>"
      ]
     },
     "metadata": {
      "needs_background": "light"
     },
     "output_type": "display_data"
    }
   ],
   "source": [
    "\n",
    "plt.figure(figsize=[6, 1.5])  # inches\n",
    "plt.plot(x, y, 'b.', label='observed');\n",
    "\n",
    "m = yhat.mean()\n",
    "s = yhat.stddev()\n",
    "\n",
    "plt.plot(x_tst, m, 'r', linewidth=4, label='mean');\n",
    "plt.plot(x_tst, m + 2 * s, 'g', linewidth=2, label=r'mean + 2 stddev');\n",
    "plt.plot(x_tst, m - 2 * s, 'g', linewidth=2, label=r'mean - 2 stddev');\n",
    "\n",
    "plt.ylim(-0.,17);\n",
    "plt.yticks(np.linspace(0, 15, 4)[1:]);\n",
    "plt.xticks(np.linspace(*x_range, num=9));\n",
    "\n",
    "ax=plt.gca();\n",
    "ax.xaxis.set_ticks_position('bottom')\n",
    "ax.yaxis.set_ticks_position('left')\n",
    "ax.spines['left'].set_position(('data', 0))\n",
    "ax.spines['top'].set_visible(False)\n",
    "ax.spines['right'].set_visible(False)\n",
    "#ax.spines['left'].set_smart_bounds(True)\n",
    "#ax.spines['bottom'].set_smart_bounds(True)\n",
    "plt.legend(loc='center left', fancybox=True, framealpha=0., bbox_to_anchor=(1.05, 0.5))\n",
    "\n",
    "plt.savefig('/tmp/fig2.png', bbox_inches='tight', dpi=300)"
   ]
  },
  {
   "cell_type": "markdown",
   "metadata": {
    "id": "6I1ZvjQWTAfX"
   },
   "source": [
    "### Case 2: MLE Neural Network Regression with Heteroscedastic Uncertainty"
   ]
  },
  {
   "cell_type": "code",
   "execution_count": 16,
   "metadata": {
    "colab": {
     "base_uri": "https://localhost:8080/"
    },
    "id": "e5gacKQ5qrM4",
    "outputId": "9e477056-f52f-4917-a8ba-e5c1f7ed2ba3"
   },
   "outputs": [
    {
     "name": "stdout",
     "output_type": "stream",
     "text": [
      "[-0.6791633  -0.26551056 -0.252435   -0.56735146 -0.07856088  0.10064892\n",
      "  0.1220852  -0.04012313 -0.7713941  -0.2193699 ]\n",
      "[ 0.06750059 -0.06646462 -0.06807033 -0.07287685  0.06896556  1.2134539\n",
      "  1.5661223  -0.0703612   0.06986236 -0.06836775]\n",
      "[ 0.4524561  -0.58929664 -0.51691556  0.5382614   0.29641813  0.9939421\n",
      "  1.129547    0.2910429   0.06670853 -0.20463817]\n",
      "0.06474826\n",
      "[ 0.24696416 -0.14874619 -0.65857077 -0.39600375  0.67390156 -0.19288334\n",
      "  0.3996212  -0.41796637  0.3913368  -0.45911428]\n",
      "0.06944727\n"
     ]
    }
   ],
   "source": [
    "# Build model.\n",
    "input = tf.keras.layers.Input(1)\n",
    "h1 = tf.keras.layers.Dense(10,activation=tf.keras.activations.relu)(input)\n",
    "m = tf.keras.layers.Dense(1)(h1)\n",
    "s = tf.keras.layers.Dense(1,activation=tf.keras.activations.exponential)(h1)\n",
    "p = tfp.layers.DistributionLambda(lambda t: tfd.Normal(loc=t[0], scale=t[1]))([m,s])\n",
    "model = tf.keras.Model(inputs=input, outputs=p)\n",
    "\n",
    "# Do inference.\n",
    "model.compile(optimizer=tf.optimizers.Adam(learning_rate=0.01), loss=expectednegloglik)\n",
    "model.fit(x, y, epochs=1000, verbose=False);\n",
    "\n",
    "# Profit.\n",
    "[print(np.squeeze(w.numpy())) for w in model.weights];\n",
    "yhat = model(x_tst)\n",
    "assert isinstance(yhat, tfd.Distribution)"
   ]
  },
  {
   "cell_type": "code",
   "execution_count": 17,
   "metadata": {
    "colab": {
     "base_uri": "https://localhost:8080/",
     "height": 138
    },
    "id": "9SRGjArDrgus",
    "outputId": "a6dc6307-b555-43c1-b90b-2a0c81409ea1"
   },
   "outputs": [
    {
     "data": {
      "image/png": "[encoded data removed]",
      "text/plain": [
       "<Figure size 432x108 with 1 Axes>"
      ]
     },
     "metadata": {
      "needs_background": "light"
     },
     "output_type": "display_data"
    }
   ],
   "source": [
    "plt.figure(figsize=[6, 1.5])  # inches\n",
    "plt.plot(x, y, 'b.', label='observed');\n",
    "\n",
    "m = yhat.mean()\n",
    "s = yhat.stddev()\n",
    "\n",
    "plt.plot(x_tst, m, 'r', linewidth=4, label='mean');\n",
    "plt.plot(x_tst, m + 2 * s, 'g', linewidth=2, label=r'mean + 2 stddev');\n",
    "plt.plot(x_tst, m - 2 * s, 'g', linewidth=2, label=r'mean - 2 stddev');\n",
    "\n",
    "plt.ylim(-0.,17);\n",
    "plt.yticks(np.linspace(0, 15, 4)[1:]);\n",
    "plt.xticks(np.linspace(*x_range, num=9));\n",
    "\n",
    "ax=plt.gca();\n",
    "ax.xaxis.set_ticks_position('bottom')\n",
    "ax.yaxis.set_ticks_position('left')\n",
    "ax.spines['left'].set_position(('data', 0))\n",
    "ax.spines['top'].set_visible(False)\n",
    "ax.spines['right'].set_visible(False)\n",
    "#ax.spines['left'].set_smart_bounds(True)\n",
    "#ax.spines['bottom'].set_smart_bounds(True)\n",
    "plt.legend(loc='center left', fancybox=True, framealpha=0., bbox_to_anchor=(1.05, 0.5))\n",
    "\n",
    "plt.savefig('/tmp/fig2.png', bbox_inches='tight', dpi=300)"
   ]
  },
  {
   "cell_type": "markdown",
   "metadata": {
    "id": "gEgaaos6TWYt"
   },
   "source": [
    "### Case 3: MAP Neural Network Regression with Heteroscedastic Uncertainty"
   ]
  },
  {
   "cell_type": "code",
   "execution_count": 18,
   "metadata": {
    "colab": {
     "base_uri": "https://localhost:8080/"
    },
    "id": "F4NnGnszthbA",
    "outputId": "85d69f93-6d40-405d-f96a-d67b9a7e7bbe"
   },
   "outputs": [
    {
     "name": "stdout",
     "output_type": "stream",
     "text": [
      "[-5.72525582e-09 -3.43712236e-06 -4.28040858e-06 -1.75141823e-03\n",
      " -1.13106508e-12 -1.09254279e-06 -5.34508271e-11 -1.51449833e-02\n",
      " -2.49077581e-11 -1.61088392e-05 -1.65822465e-04 -1.23337120e-01\n",
      " -2.12989643e-11 -2.58006249e-02 -2.09527230e-03  9.50242504e-02\n",
      " -3.48033827e-05 -6.40020808e-05 -7.50536699e-09 -2.54954305e-03\n",
      "  3.46282776e-03 -1.32429874e-11 -5.81617787e-05  2.28442550e-02\n",
      " -1.03014139e-02 -5.30401303e-06 -4.87273675e-04 -2.36809552e-01\n",
      " -3.27877060e-04 -5.20703434e-05 -3.71672485e-07 -6.13988261e-04\n",
      " -1.50503113e-03 -2.14751594e-07  6.08533435e-03  5.87825254e-02\n",
      "  7.44056670e-05 -2.09365404e-04 -3.89869492e-05 -9.47550070e-05\n",
      " -3.04388777e-06 -6.20416424e-04  7.94240311e-02 -3.35265393e-03\n",
      " -1.28934644e-05 -4.37925155e-06  3.15560326e-02  6.53936267e-02\n",
      " -8.18066269e-07 -6.11421204e-16 -4.92522784e-04 -1.11730820e-07\n",
      " -3.48971707e-06 -7.59598017e-02 -1.01610269e-07 -3.46365547e-10\n",
      " -7.20905211e-11 -1.09658021e-11 -4.68568260e-08 -3.00407237e-06\n",
      " -8.61116510e-04 -2.42702886e-02 -4.13241301e-04 -3.91017791e-04\n",
      " -2.84880315e-07 -1.05522474e-06 -1.93285407e-04 -7.74597400e-13\n",
      " -2.46759062e-03 -1.55825779e-04 -1.01865708e-05 -2.01900070e-06\n",
      " -1.60260303e-08 -1.22539249e-14 -2.50293780e-03  8.75963084e-03\n",
      " -7.70361256e-03  2.18401495e-02 -9.69864988e-09 -7.23851845e-02\n",
      " -5.03986848e-05 -8.08679488e-07 -7.10624299e-05  1.75727103e-02\n",
      "  4.29434702e-02 -4.48594597e-04  9.18303244e-03 -2.18018358e-05\n",
      " -2.94507947e-02 -1.45565411e-06 -1.96050451e-07  2.00630290e-09\n",
      " -2.79025444e-05  2.91240104e-02 -7.19902300e-06  1.84913544e-04\n",
      " -4.40492913e-05 -4.37321539e-08 -3.80863507e-10 -1.74609909e-07]\n",
      "[-1.7999543e-08 -1.0272988e-06 -9.3443832e-06  1.5718453e-02\n",
      " -1.1371362e-12 -1.9357781e-06 -2.8329207e-11 -3.2272618e-02\n",
      " -1.9903499e-11 -2.7379281e-05  1.9607584e-03 -1.1211132e-01\n",
      "  8.9262538e-12  6.2302893e-01 -3.3704808e-03  5.9321886e-01\n",
      " -6.8467532e-05  4.4231024e-04 -2.2212653e-08  2.2305619e-02\n",
      "  3.5181627e-02 -7.6025601e-12  5.7986716e-04  4.1175239e-02\n",
      " -4.4276430e-03 -2.5279780e-06 -4.9026439e-04 -1.9320577e-01\n",
      "  2.5352845e-03  4.4802719e-04 -1.1326821e-07  5.7459050e-03\n",
      "  8.1649944e-03 -1.0452623e-06  6.4987399e-02  1.7236283e-01\n",
      "  8.7946112e-04  1.0424737e-03  1.3302540e-05  1.6206702e-04\n",
      " -8.0600421e-06  4.7880798e-03  4.8965922e-01 -1.7702342e-03\n",
      " -3.3045460e-05  1.3615664e-04  7.3518835e-02  8.2661837e-02\n",
      " -1.5911479e-07 -1.7100807e-15  2.3040199e-03 -1.6582493e-07\n",
      "  2.7414710e-05  7.5560004e-01 -6.9942772e-09 -2.3377589e-09\n",
      " -2.8521545e-11 -1.5878251e-12  3.2876672e-09 -6.8669783e-06\n",
      " -1.8495738e-03  1.1741687e-01 -1.8052722e-04  2.4300707e-03\n",
      "  2.3537066e-06  4.5515426e-06  2.2037546e-03 -2.1548411e-11\n",
      "  2.5307111e-02 -3.1897699e-04 -2.8093376e-05 -4.5806346e-06\n",
      "  1.4670315e-08 -4.8611742e-15  2.2846179e-02  1.2589285e-01\n",
      " -1.4824705e-02  1.4081326e+00  1.5126302e-09 -7.1976207e-02\n",
      "  3.7601672e-04 -8.3199836e-07 -5.9116606e-05  1.9649976e-01\n",
      "  4.1384074e-01  4.0835072e-03  9.4026402e-02 -1.7271583e-05\n",
      " -4.6521887e-02 -9.1201964e-06 -5.9904374e-07 -1.3820997e-08\n",
      " -1.9219521e-04  3.3822900e-01 -2.0312042e-05  2.0015801e-03\n",
      "  7.3769339e-04 -9.4185504e-09  1.1497648e-09 -3.4722152e-07]\n",
      "[-1.14657785e-08 -1.68627696e-06  8.58722331e-07  9.96904727e-03\n",
      " -6.59937762e-13  1.16662231e-05 -5.50259421e-11 -7.18884356e-03\n",
      " -1.23531556e-12 -9.36068536e-05  1.07391144e-03 -8.29917714e-02\n",
      "  7.89378805e-12  5.78354180e-01 -2.53797253e-03  5.71730018e-01\n",
      "  3.55002994e-05  1.70672778e-04  1.09495968e-08  7.83415791e-03\n",
      "  3.22358385e-02 -3.81787440e-12  2.95647391e-04  2.84108873e-02\n",
      " -1.46111497e-03  1.84530609e-06  6.05912879e-04 -1.44419670e-01\n",
      "  1.10275322e-03  2.56234722e-04 -2.06322071e-07  1.10615787e-04\n",
      "  3.34737310e-03 -4.51461148e-07  6.35111630e-02  1.51520908e-01\n",
      "  7.88701465e-04  4.50168503e-04 -2.77822073e-05  6.63359751e-05\n",
      " -8.06402966e-07  2.77134473e-03  4.48599786e-01 -3.36683635e-03\n",
      " -6.33463151e-06  1.14016097e-04  5.37323020e-02  4.91579473e-02\n",
      " -5.07998664e-07 -2.19766503e-17  1.47837016e-03 -1.41598040e-08\n",
      "  1.21493104e-05  5.17557502e-01 -4.99164798e-08 -1.06519060e-09\n",
      "  1.41882816e-11 -3.76634227e-12  1.54299560e-08  8.99627821e-07\n",
      " -7.28158746e-04  8.79771039e-02 -2.53936945e-04  1.34170835e-03\n",
      "  6.20463254e-07  2.55677287e-06  1.09327456e-03 -8.58275517e-12\n",
      "  1.39734624e-02 -2.84860580e-04 -7.54158918e-06 -1.34722427e-06\n",
      "  2.84549113e-08 -3.53740017e-15  1.27420397e-02  1.19606182e-01\n",
      " -8.44644476e-03  1.36006272e+00 -1.40229894e-09 -5.27621731e-02\n",
      "  1.83764947e-04  3.00824922e-07 -6.08146111e-05  1.83750644e-01\n",
      "  4.00212139e-01  2.33325711e-03  9.32590216e-02 -2.86903160e-05\n",
      "  4.20908909e-03  2.70826854e-06  4.88602893e-07 -6.98446723e-09\n",
      " -5.84624831e-05  3.24799001e-01 -3.31877527e-06  1.91695464e-03\n",
      "  8.52074707e-04 -1.65375660e-08  2.15832663e-09  6.18145890e-08]\n",
      "1.0713156\n",
      "[-4.43681314e-10 -4.90702661e-08  7.81201561e-06 -1.09030446e-02\n",
      "  9.46085441e-13  1.14276818e-05 -7.22511981e-11  1.59489159e-02\n",
      "  2.17009362e-11 -1.41628261e-04 -1.22670480e-03  1.35652736e-01\n",
      " -1.80878975e-11 -5.63117005e-02  1.82437873e-03  8.28059018e-02\n",
      " -1.53401415e-05 -2.93822406e-04  1.89513361e-09 -1.94060970e-02\n",
      "  1.65050034e-03  4.05409603e-12 -3.64955660e-04  2.80589517e-02\n",
      "  1.20975804e-02  4.06669778e-06  6.01640204e-04  2.63088375e-01\n",
      " -1.86421501e-03 -2.97436607e-04 -2.53950617e-07 -1.47517854e-02\n",
      " -6.54323259e-03 -1.23088864e-06  7.95962638e-04  7.51529187e-02\n",
      "  4.52212589e-05 -6.40024140e-04 -4.06022882e-05 -1.04225313e-04\n",
      "  1.39351039e-06 -3.42044723e-03  7.33936429e-02 -2.45906087e-03\n",
      "  3.07402770e-05 -3.82808548e-06  4.36212979e-02  8.39470327e-02\n",
      " -5.05876812e-07  7.18462134e-16 -1.59271318e-03 -6.98488067e-09\n",
      " -2.17715824e-05 -4.93628740e-01 -3.06908881e-08 -2.58328825e-09\n",
      "  1.43610276e-10 -1.58408833e-12 -4.99839210e-08  2.30055298e-06\n",
      "  1.77667034e-03 -5.52873276e-02 -7.44268691e-05 -1.70253403e-03\n",
      " -1.68546364e-06 -2.61202945e-06 -1.42522156e-03 -3.95999726e-12\n",
      " -1.91921107e-02  7.95397937e-05  1.11465743e-05  2.82189217e-06\n",
      " -1.47975765e-08 -1.34280197e-15 -1.96293592e-02  2.15511536e-03\n",
      "  1.17477039e-02  1.56329162e-02 -3.21058913e-09  7.82272220e-02\n",
      " -2.75812723e-04 -6.73425333e-08  4.29620413e-05  8.41926318e-03\n",
      "  3.31007615e-02 -2.79341219e-03  1.14547438e-03 -1.15464154e-05\n",
      "  2.81799044e-02  3.59699197e-06  7.39118633e-08  1.29109168e-10\n",
      " -4.38042371e-05  2.03594361e-02  1.86592861e-05  6.76124619e-05\n",
      "  2.41544811e-04 -3.98080235e-09 -7.02184907e-11  3.12885845e-07]\n",
      "0.0087227095\n"
     ]
    }
   ],
   "source": [
    "l2_reg = tf.keras.regularizers.l2(l2=0.0001)\n",
    "# Build model.\n",
    "input = tf.keras.layers.Input(1)\n",
    "h1 = tf.keras.layers.Dense(100,activation=tf.keras.activations.relu,kernel_regularizer=l2_reg,bias_regularizer=l2_reg)(input)\n",
    "m = tf.keras.layers.Dense(1,kernel_regularizer=l2_reg,bias_regularizer=l2_reg)(h1)\n",
    "s = tf.keras.layers.Dense(1,activation=tf.keras.activations.exponential,kernel_regularizer=l2_reg,bias_regularizer=l2_reg)(h1)\n",
    "p = tfp.layers.DistributionLambda(lambda t: tfd.Normal(loc=t[0], scale=t[1]))([m,s])\n",
    "model = tf.keras.Model(inputs=input, outputs=p)\n",
    "\n",
    "# Do inference.\n",
    "model.compile(optimizer=tf.optimizers.Adam(learning_rate=0.01), loss=expectednegloglik)\n",
    "model.fit(x, y, epochs=1000, verbose=False);\n",
    "\n",
    "# Profit.\n",
    "[print(np.squeeze(w.numpy())) for w in model.weights];\n",
    "yhat = model(x_tst)\n",
    "assert isinstance(yhat, tfd.Distribution)"
   ]
  },
  {
   "cell_type": "code",
   "execution_count": 19,
   "metadata": {
    "colab": {
     "base_uri": "https://localhost:8080/",
     "height": 138
    },
    "id": "fn4_FWV-ty03",
    "outputId": "91212614-a728-4c40-e740-9a1596292673"
   },
   "outputs": [
    {
     "data": {
      "image/png": "[encoded data removed]",
      "text/plain": [
       "<Figure size 432x108 with 1 Axes>"
      ]
     },
     "metadata": {
      "needs_background": "light"
     },
     "output_type": "display_data"
    }
   ],
   "source": [
    "plt.figure(figsize=[6, 1.5])  # inches\n",
    "plt.plot(x, y, 'b.', label='observed');\n",
    "\n",
    "m = yhat.mean()\n",
    "s = yhat.stddev()\n",
    "\n",
    "plt.plot(x_tst, m, 'r', linewidth=4, label='mean');\n",
    "plt.plot(x_tst, m + 2 * s, 'g', linewidth=2, label=r'mean + 2 stddev');\n",
    "plt.plot(x_tst, m - 2 * s, 'g', linewidth=2, label=r'mean - 2 stddev');\n",
    "\n",
    "plt.ylim(-0.,17);\n",
    "plt.yticks(np.linspace(0, 15, 4)[1:]);\n",
    "plt.xticks(np.linspace(*x_range, num=9));\n",
    "\n",
    "ax=plt.gca();\n",
    "ax.xaxis.set_ticks_position('bottom')\n",
    "ax.yaxis.set_ticks_position('left')\n",
    "ax.spines['left'].set_position(('data', 0))\n",
    "ax.spines['top'].set_visible(False)\n",
    "ax.spines['right'].set_visible(False)\n",
    "#ax.spines['left'].set_smart_bounds(True)\n",
    "#ax.spines['bottom'].set_smart_bounds(True)\n",
    "plt.legend(loc='center left', fancybox=True, framealpha=0., bbox_to_anchor=(1.05, 0.5))\n",
    "\n",
    "plt.savefig('/tmp/fig2.png', bbox_inches='tight', dpi=300)"
   ]
  },
  {
   "cell_type": "markdown",
   "metadata": {
    "id": "ltGTdUt5U19I"
   },
   "source": [
    "### Case 4: Laplace Approximation Neural Network Regression with Heteroscedastic Uncertainty"
   ]
  },
  {
   "cell_type": "code",
   "execution_count": 20,
   "metadata": {
    "id": "-UbDziyxUM-A"
   },
   "outputs": [],
   "source": [
    "import tensorflow as tf\n",
    "import numpy as np\n",
    "import math\n",
    "class LaplaceApproximation(tf.keras.Model):\n",
    "\n",
    "    def __init__(self,model):\n",
    "        super().__init__()\n",
    "        self.model = model\n",
    "        self.mean = None\n",
    "        self.std = None\n",
    "        self.lam = None\n",
    "\n",
    "    def fit(self,dataset,training=False):\n",
    "        \"\"\"\n",
    "        Fit the Laplace approximation for a model. Setting the mean of the Laplace approximation to the weights of the model \n",
    "            and, using the diagonal of the Fisher matrix, set the standard deviation of the Laplace approximation.\n",
    "        :param model: Model whose Fisher matrix is to be computed.\n",
    "        :param dataset: Dataset which the model has been trained on, but which will not be seen in the future. \n",
    "            Formatted as (inputs, labels).\n",
    "        :param samples: Number of samples to take from the dataset. More samples\n",
    "            gives a better approximation of the true variance.\n",
    "        \"\"\"\n",
    "        inputs, labels = dataset\n",
    "        trainable_weights = self.model.trainable_weights\n",
    "        variance = [tf.zeros_like(tensor) for tensor in trainable_weights]\n",
    "        \n",
    "        pb = tf.keras.utils.Progbar(inputs.shape[0])\n",
    "\n",
    "        for i in range(inputs.shape[0]):\n",
    "            pb.update(i)\n",
    "            index = i#np.random.randint(len(inputs))\n",
    "            # Select an element from the dataset.\n",
    "            data = inputs[index]\n",
    "            target = labels[index]\n",
    "\n",
    "            # When extracting from the array we lost a dimension so put it back.\n",
    "            data = tf.expand_dims(data, axis=0)\n",
    "\n",
    "            # Collect gradients.\n",
    "            with tf.GradientTape() as tape:\n",
    "                output = self.model(data,training=training)\n",
    "                log_likelihood = output.log_prob(target)\n",
    "\n",
    "            gradients = tape.gradient(log_likelihood, trainable_weights)\n",
    "\n",
    "            # If the model has converged, we can assume that the current weights\n",
    "            # are the mean, and each gradient we see is a deviation. The variance is\n",
    "            # the average of the square of this deviation.\n",
    "            variance = [var + (grad ** 2) for var, grad in zip(variance, gradients)]\n",
    "\n",
    "        self.fisher_diagonal = [tensor.numpy() for tensor in variance]\n",
    "        #self.fisher_diagonal = [tensor.numpy() / samples * inputs.shape[0] for tensor in variance]\n",
    "        \n",
    "        mins = [np.min(f) for f in self.fisher_diagonal]\n",
    "        for i,x in enumerate(mins):\n",
    "          if i==0 or min > x:\n",
    "            min = x\n",
    "        print(min)\n",
    "        #print('FISHER')\n",
    "        #print(fisher_diagonal)\n",
    "        self.mean = self.model.get_weights()       \n",
    "        \n",
    "\n",
    "    def reset_weights(self):\n",
    "        if self.mean:\n",
    "            self.model.set_weights(self.mean)\n",
    "\n",
    "    def set_std(self, weight_decay):\n",
    "      self.std = [np.reciprocal(np.sqrt(x+weight_decay)) for x in self.fisher_diagonal]\n",
    "\n",
    "    def call(self, inputs, training=False):\n",
    "        e = [np.random.standard_normal(x.shape) for x in self.mean]\n",
    "        sample = [m+s*e for m, s, e in zip(self.mean,self.std,e)]\n",
    "        self.model.set_weights(sample)\n",
    "        return self.model(inputs,training=training)"
   ]
  },
  {
   "cell_type": "code",
   "execution_count": 21,
   "metadata": {
    "colab": {
     "base_uri": "https://localhost:8080/"
    },
    "id": "H7kEk6DVwSP6",
    "outputId": "7fd09f76-3a52-41fa-8fc1-60d25dfe87ba"
   },
   "outputs": [
    {
     "name": "stdout",
     "output_type": "stream",
     "text": [
      "148/150 [============================>.] - ETA: 0s0.0\n"
     ]
    }
   ],
   "source": [
    "la = LaplaceApproximation(model)\n",
    "la.fit([x,y])\n",
    "la.set_std(100)"
   ]
  },
  {
   "cell_type": "code",
   "execution_count": 22,
   "metadata": {
    "colab": {
     "base_uri": "https://localhost:8080/",
     "height": 166
    },
    "id": "xzYnRMrywnSi",
    "outputId": "d0da4d3a-fc9c-4303-e354-8fecb0b6a836"
   },
   "outputs": [
    {
     "data": {
      "image/png": "[encoded data removed]",
      "text/plain": [
       "<Figure size 432x108 with 1 Axes>"
      ]
     },
     "metadata": {
      "needs_background": "light"
     },
     "output_type": "display_data"
    }
   ],
   "source": [
    "plt.figure(figsize=[6, 1.5])  # inches\n",
    "plt.plot(x, y, 'b.', label='observed');\n",
    "\n",
    "yhats = [la(x_tst) for _ in range(100)]\n",
    "avgm = np.zeros_like(x_tst[..., 0])\n",
    "ms = []\n",
    "ss = []\n",
    "for i, yhat in enumerate(yhats):\n",
    "  m = np.squeeze(yhat.mean())\n",
    "  s = np.squeeze(yhat.stddev())\n",
    "  if i < 15:\n",
    "    plt.plot(x_tst, m, 'r', label='ensemble means' if i == 0 else None, linewidth=1.)\n",
    "    plt.plot(x_tst, m + 2 * s, 'g', linewidth=0.5, label='ensemble means + 2 ensemble stdev' if i == 0 else None);\n",
    "    plt.plot(x_tst, m - 2 * s, 'g', linewidth=0.5, label='ensemble means - 2 ensemble stdev' if i == 0 else None);\n",
    "  ms += [m]\n",
    "  ss += [s]\n",
    "ms = np.array(ms)\n",
    "avgm = ms.mean(axis=0)\n",
    "ss = np.array(ss)\n",
    "avgs = np.sqrt((ms**2+ss**2).mean(axis=0)-avgm**2)\n",
    "plt.plot(x_tst, avgm, 'r', label='overall mean', linewidth=4)\n",
    "plt.plot(x_tst, avgm + 2 * avgs, 'g', linewidth=4, label='overall mean + 2 overall stdev');\n",
    "plt.plot(x_tst, avgm - 2 * avgs, 'g', linewidth=4, label='overall means - 2 overall stdev');\n",
    "\n",
    "plt.ylim(-0.,17);\n",
    "plt.yticks(np.linspace(0, 15, 4)[1:]);\n",
    "plt.xticks(np.linspace(*x_range, num=9));\n",
    "\n",
    "ax=plt.gca();\n",
    "ax.xaxis.set_ticks_position('bottom')\n",
    "ax.yaxis.set_ticks_position('left')\n",
    "ax.spines['left'].set_position(('data', 0))\n",
    "ax.spines['top'].set_visible(False)\n",
    "ax.spines['right'].set_visible(False)\n",
    "#ax.spines['left'].set_smart_bounds(True)\n",
    "#ax.spines['bottom'].set_smart_bounds(True)\n",
    "plt.legend(loc='center left', fancybox=True, framealpha=0., bbox_to_anchor=(1.05, 0.5))\n",
    "\n",
    "plt.savefig('/tmp/fig4.png', bbox_inches='tight', dpi=300)"
   ]
  },
  {
   "cell_type": "markdown",
   "metadata": {
    "id": "uhMuqC3-U7si"
   },
   "source": [
    "### Case 5: MAP Neural Network Regression with Heteroscedastic Uncertainty and Parameter Pruning"
   ]
  },
  {
   "cell_type": "code",
   "execution_count": 23,
   "metadata": {
    "id": "6SLGi7gdQsyG"
   },
   "outputs": [],
   "source": [
    "lambda_prune= 0.83"
   ]
  },
  {
   "cell_type": "code",
   "execution_count": 24,
   "metadata": {
    "id": "R1j-oLkdQj3o"
   },
   "outputs": [],
   "source": [
    "W1_prune = model.trainable_weights[0] * tf.cast(tf.abs(model.trainable_weights[0]/la.std[0]) > lambda_prune,tf.float32)\n",
    "b1_prune = model.trainable_weights[1] * tf.cast(tf.abs(model.trainable_weights[1]/la.std[1]) > lambda_prune,tf.float32)\n",
    "W2_mu_prune = model.trainable_weights[2] * tf.cast(tf.abs(model.trainable_weights[2]/la.std[2]) > lambda_prune,tf.float32)\n",
    "b2_mu_prune = model.trainable_weights[3] * tf.cast(tf.abs(model.trainable_weights[3]/la.std[3]) > lambda_prune,tf.float32)\n",
    "W2_sig_prune = model.trainable_weights[4] * tf.cast(tf.abs(model.trainable_weights[4]/la.std[4]) > lambda_prune,tf.float32)\n",
    "b2_sig_prune = model.trainable_weights[5] * tf.cast(tf.abs(model.trainable_weights[5]/la.std[5]) > lambda_prune,tf.float32)"
   ]
  },
  {
   "cell_type": "code",
   "execution_count": 25,
   "metadata": {
    "id": "JeaZVpmhSw9V"
   },
   "outputs": [],
   "source": [
    "trainable_weights_pruned = [W1_prune,b1_prune,W2_mu_prune,b2_mu_prune,W2_sig_prune,b2_sig_prune]"
   ]
  },
  {
   "cell_type": "code",
   "execution_count": 26,
   "metadata": {
    "id": "bhGlXYHfViUr"
   },
   "outputs": [],
   "source": [
    "not_pruned = 0\n",
    "pruned = 0\n",
    "for w in trainable_weights_pruned:\n",
    "  not_pruned += tf.reduce_sum(tf.cast(w!=0.,tf.float32))\n",
    "  pruned += tf.reduce_sum(tf.cast(w==0.,tf.float32))\n",
    "percent_pruned = (pruned/(pruned+not_pruned)).numpy()"
   ]
  },
  {
   "cell_type": "code",
   "execution_count": 27,
   "metadata": {
    "colab": {
     "base_uri": "https://localhost:8080/"
    },
    "id": "9Nw-t3NUWeIF",
    "outputId": "606eef77-a3c3-4609-ef7f-f5dd92699692"
   },
   "outputs": [
    {
     "data": {
      "text/plain": [
       "0.51492536"
      ]
     },
     "execution_count": 27,
     "metadata": {},
     "output_type": "execute_result"
    }
   ],
   "source": [
    "percent_pruned"
   ]
  },
  {
   "cell_type": "code",
   "execution_count": 28,
   "metadata": {
    "id": "YuP-IhsVS-BG"
   },
   "outputs": [],
   "source": [
    "model_pruned = tf.keras.models.clone_model(model)"
   ]
  },
  {
   "cell_type": "code",
   "execution_count": 29,
   "metadata": {
    "id": "8bUd7_J7TG61"
   },
   "outputs": [],
   "source": [
    "model_pruned.set_weights(trainable_weights_pruned)\n",
    "yhat = model_pruned(x_tst)"
   ]
  },
  {
   "cell_type": "code",
   "execution_count": 30,
   "metadata": {
    "colab": {
     "base_uri": "https://localhost:8080/",
     "height": 138
    },
    "id": "0plM2fs6TP_9",
    "outputId": "40811c83-4ff8-4df8-995e-0db1bcf1a96d"
   },
   "outputs": [
    {
     "data": {
      "image/png": "[encoded data removed]",
      "text/plain": [
       "<Figure size 432x108 with 1 Axes>"
      ]
     },
     "metadata": {
      "needs_background": "light"
     },
     "output_type": "display_data"
    }
   ],
   "source": [
    "plt.figure(figsize=[6, 1.5])  # inches\n",
    "plt.plot(x, y, 'b.', label='observed');\n",
    "\n",
    "m = yhat.mean()\n",
    "s = yhat.stddev()\n",
    "\n",
    "plt.plot(x_tst, m, 'r', linewidth=4, label='mean');\n",
    "plt.plot(x_tst, m + 2 * s, 'g', linewidth=2, label=r'mean + 2 stddev');\n",
    "plt.plot(x_tst, m - 2 * s, 'g', linewidth=2, label=r'mean - 2 stddev');\n",
    "\n",
    "plt.ylim(-0.,17);\n",
    "plt.yticks(np.linspace(0, 15, 4)[1:]);\n",
    "plt.xticks(np.linspace(*x_range, num=9));\n",
    "\n",
    "ax=plt.gca();\n",
    "ax.xaxis.set_ticks_position('bottom')\n",
    "ax.yaxis.set_ticks_position('left')\n",
    "ax.spines['left'].set_position(('data', 0))\n",
    "ax.spines['top'].set_visible(False)\n",
    "ax.spines['right'].set_visible(False)\n",
    "#ax.spines['left'].set_smart_bounds(True)\n",
    "#ax.spines['bottom'].set_smart_bounds(True)\n",
    "plt.legend(loc='center left', fancybox=True, framealpha=0., bbox_to_anchor=(1.05, 0.5))\n",
    "\n",
    "plt.savefig('/tmp/fig2.png', bbox_inches='tight', dpi=300)"
   ]
  },
  {
   "cell_type": "code",
   "execution_count": 31,
   "metadata": {
    "id": "7f4vB5VCUmlw"
   },
   "outputs": [],
   "source": [
    "#@title Synthesize New Dataset.\n",
    "w0 = 0.125\n",
    "b0 = 5.\n",
    "x_range = [-20, 60]\n",
    "\n",
    "def load_dataset(n=150, n_tst=150):\n",
    "  np.random.seed(42)\n",
    "  def s(x):\n",
    "    g = (x - x_range[0]) / (x_range[1] - x_range[0])\n",
    "    return 3 * (0.25 + g**2.)\n",
    "  x = (x_range[1] - x_range[0]) * np.random.rand(n) + x_range[0]\n",
    "  eps = np.random.randn(n) * s(x)\n",
    "  y = (w0 * x * (1. + np.sin(x)) + b0) + eps\n",
    "  x = x[..., np.newaxis]\n",
    "  x_tst = np.linspace(*x_range, num=n_tst).astype(np.float32)\n",
    "  x_tst = x_tst[..., np.newaxis]\n",
    "  return y, x, x_tst\n",
    "\n",
    "y_2, x_2, x_tst_2 = load_dataset()"
   ]
  },
  {
   "cell_type": "markdown",
   "metadata": {
    "id": "iXvgX4r-QFIE"
   },
   "source": [
    "### MAP Neural Network Regression with Heteroscedastic Uncertainty and a Laplace Approximation Prior"
   ]
  },
  {
   "cell_type": "code",
   "execution_count": 32,
   "metadata": {
    "id": "lWb_OFXtxa_6"
   },
   "outputs": [],
   "source": [
    "class GaussianPriorRegularizer(tf.keras.regularizers.Regularizer):\n",
    "  def __init__(self, loc, scale,n_examples):\n",
    "    self.loc = loc\n",
    "    self.scale= scale\n",
    "\n",
    "  def __call__(self, x):\n",
    "    return 0.5/float(n_examples) * tf.math.reduce_sum(tf.square(tf.math.reciprocal(self.scale)) * tf.math.square(x-self.loc))\n",
    "\n",
    "  def get_config(self):\n",
    "    return {'loc': self.loc, 'scale': self.scale}"
   ]
  },
  {
   "cell_type": "code",
   "execution_count": 33,
   "metadata": {
    "id": "HMmE0KLRNYxm"
   },
   "outputs": [],
   "source": [
    "W1_loc = model.trainable_weights[0]\n",
    "b1_loc = model.trainable_weights[1]\n",
    "W2_mu_loc = model.trainable_weights[2]\n",
    "b2_mu_loc = model.trainable_weights[3]\n",
    "W2_sig_loc = model.trainable_weights[4]\n",
    "b2_sig_loc = model.trainable_weights[5]"
   ]
  },
  {
   "cell_type": "code",
   "execution_count": 34,
   "metadata": {
    "id": "TFBaAp91Ps3B"
   },
   "outputs": [],
   "source": [
    "W1_scale = la.std[0]\n",
    "b1_scale = la.std[1]\n",
    "W2_mu_scale = la.std[2]\n",
    "b2_mu_scale = la.std[3]\n",
    "W2_sig_scale = la.std[4]\n",
    "b2_sig_scale = la.std[5]"
   ]
  },
  {
   "cell_type": "code",
   "execution_count": 35,
   "metadata": {
    "id": "GpWW-1iFP_Mo"
   },
   "outputs": [],
   "source": [
    "reg_W1 = GaussianPriorRegularizer(loc=W1_loc,scale=W1_scale,n_examples=n_examples)\n",
    "reg_b1 = GaussianPriorRegularizer(loc=b1_loc,scale=b1_scale,n_examples=n_examples)\n",
    "reg_W2_mu = GaussianPriorRegularizer(loc=W2_mu_loc,scale=W2_mu_scale,n_examples=n_examples)\n",
    "reg_b2_mu = GaussianPriorRegularizer(loc=b2_mu_loc,scale=b2_mu_scale,n_examples=n_examples)\n",
    "reg_W2_sig = GaussianPriorRegularizer(loc=W2_sig_loc,scale=W2_sig_scale,n_examples=n_examples)\n",
    "reg_b2_sig = GaussianPriorRegularizer(loc=b2_sig_loc,scale=b2_sig_scale,n_examples=n_examples)"
   ]
  },
  {
   "cell_type": "code",
   "execution_count": 36,
   "metadata": {
    "colab": {
     "base_uri": "https://localhost:8080/"
    },
    "id": "HAhrm3QdO_mU",
    "outputId": "e865133c-898e-49c8-c5f9-8b5d7ef097f2"
   },
   "outputs": [
    {
     "name": "stdout",
     "output_type": "stream",
     "text": [
      "[ 0.05916218  0.06050172  0.01002087  0.13189465  0.17174035  0.0201985\n",
      "  0.01322666  0.01556745 -0.15077567  0.07157827  0.06107814 -0.12823401\n",
      "  0.11225078  0.00080912 -0.02130081  0.09900587  0.01073907  0.04964404\n",
      " -0.07161885  0.06132927  0.03831033  0.05991207 -0.01355937  0.03244933\n",
      " -0.03499343 -0.00886125  0.0860264  -0.2670782  -0.03778781  0.23303024\n",
      " -0.12449968 -0.09019753  0.01880415 -0.01356789  0.05627112  0.05333805\n",
      " -0.11094648  0.18172336 -0.14076771 -0.01155913  0.01579859  0.10026112\n",
      "  0.08533088  0.06707844  0.19213693 -0.02497051 -0.01557297  0.05855561\n",
      "  0.1082238   0.02568623 -0.00444933  0.04614507  0.20656821 -0.07069845\n",
      "  0.09391773 -0.0517294   0.00230633 -0.00393439  0.00356353  0.00938072\n",
      " -0.11918675 -0.03828534  0.02749302  0.04573273 -0.01617923  0.20724694\n",
      "  0.12894814  0.05430825 -0.05405803 -0.1625308  -0.02663239  0.04338188\n",
      " -0.02461362  0.04836112 -0.01492835 -0.02571171 -0.08978467  0.0299087\n",
      "  0.17283732 -0.13316569  0.09994975 -0.08640356 -0.00153807  0.01575974\n",
      "  0.04032246  0.14023556 -0.09861246  0.06763092 -0.05806755  0.06604768\n",
      " -0.06872495  0.19526024 -0.02740911  0.03234937  0.0471062  -0.02258511\n",
      " -0.04690542 -0.14723943 -0.02971129  0.08162937]\n",
      "[ 0.00154656  0.28180623  0.02173994  0.05917067 -0.02660189  0.0303655\n",
      " -0.03548441 -0.03202143 -0.01992173  0.08949959  0.04210343 -0.23105015\n",
      " -0.02483821  0.6226657  -0.09202328  0.5542896  -0.05232171  0.02593761\n",
      "  0.02008636 -0.04240286 -0.13005361 -0.02317809  0.2118049   0.09404806\n",
      "  0.03667083  0.02168874  0.06247878 -0.24004818 -0.03021016  0.08072449\n",
      "  0.05535194  0.18812956 -0.11467209  0.0856576   0.07256798  0.0513078\n",
      "  0.09036338  0.16983792  0.00165878 -0.0230322   0.1240615  -0.03609576\n",
      "  0.56217563 -0.03946358  0.12357912  0.12068956  0.03838971  0.08696711\n",
      "  0.08415836  0.12186976  0.02645844  0.07268883 -0.00720225  0.7635001\n",
      " -0.05082602  0.09915881  0.1912232   0.04117332  0.15622622  0.17510782\n",
      " -0.01448323  0.16808672 -0.01505703  0.05520564 -0.04599686 -0.06352571\n",
      "  0.1216434  -0.12543106 -0.00853449  0.21122292  0.09579425  0.06904832\n",
      " -0.10962152  0.08315244 -0.10133553  0.34682742 -0.00866007  1.4597714\n",
      "  0.08469862 -0.06676903  0.19308941  0.10818832  0.00397065  0.2631968\n",
      "  0.2251229  -0.00879737  0.03913831 -0.05979982 -0.18553816 -0.09947126\n",
      " -0.04808784  0.16625345 -0.18901242  0.35479927 -0.11091353  0.07050764\n",
      " -0.1389954   0.15345258 -0.13115393 -0.06315291]\n",
      "[ 7.49873072e-02  1.50189996e-01 -3.47218737e-02  5.92089556e-02\n",
      " -9.58478544e-03 -8.58533382e-02 -1.56217948e-01 -7.96047896e-02\n",
      "  1.92464575e-01  6.80947304e-02 -5.20024411e-02  1.41897134e-03\n",
      "  1.22940689e-01  6.44395292e-01  1.52453527e-01  6.06799066e-01\n",
      "  2.74716653e-02  1.16718605e-01  7.58253038e-02  1.59430191e-01\n",
      "  6.19341396e-02  7.07544908e-02 -1.16730101e-01 -3.83773893e-02\n",
      "  6.05703145e-02  9.05921385e-02 -1.12065107e-01 -8.14869925e-02\n",
      "  5.49895167e-02  1.97236594e-02  2.81099901e-02  1.91013813e-01\n",
      " -1.33911325e-02  9.69661772e-03  1.18823826e-01  1.04910411e-01\n",
      " -9.57998633e-02 -2.25604564e-01  2.65738014e-02 -1.71067577e-03\n",
      " -1.14226237e-01  2.32424244e-01  4.52174246e-01 -7.43178949e-02\n",
      " -1.80449799e-01 -1.16599046e-01  1.74070448e-01  8.34526196e-02\n",
      " -3.38940173e-02 -2.19911933e-02 -1.05374515e-01 -1.05052930e-03\n",
      "  1.78379584e-02  3.96527976e-01 -1.64462700e-02 -4.44744229e-02\n",
      "  2.64859032e-02 -2.67331041e-02 -9.84907895e-02  9.01941210e-02\n",
      " -9.24879164e-02  9.29188728e-02  9.93622914e-02  2.21016049e-01\n",
      "  6.77153394e-02  1.35708854e-01 -7.91567713e-02 -1.25621166e-02\n",
      "  6.78318292e-02 -1.07647523e-01  1.62444398e-01  2.80152727e-02\n",
      " -5.84159084e-02 -9.39264372e-02 -2.01169655e-01  1.30555093e-01\n",
      " -6.60491735e-02  1.33422124e+00 -1.98713336e-02 -1.07485496e-01\n",
      "  5.81202060e-02 -2.11502947e-02  2.87917517e-02  1.18016405e-02\n",
      "  2.83533990e-01 -2.92578507e-02  2.47932021e-02 -1.95065308e-02\n",
      "  1.00283893e-02  1.60477892e-01  1.69623941e-02 -7.89683983e-02\n",
      "  1.88939720e-01  3.25439751e-01  1.27642006e-01 -8.51864591e-02\n",
      "  1.75049916e-01  7.42406026e-02 -3.21385451e-02 -1.48469090e-01]\n",
      "1.0906744\n",
      "[ 0.02296079 -0.05831016  0.07710264 -0.11755548  0.14565262 -0.10104384\n",
      " -0.0903488  -0.04799752 -0.11322679 -0.23664173  0.02419004  0.22153679\n",
      " -0.07467926 -0.07486163 -0.07788119  0.10037282  0.03890229 -0.2251392\n",
      " -0.09408121 -0.08806363 -0.20641007 -0.10414717  0.20769039  0.09240822\n",
      "  0.06297963  0.05500083  0.02083834  0.3666415  -0.03349112 -0.09310483\n",
      " -0.09675981 -0.0360641   0.09878601 -0.14601323 -0.03505722  0.04504818\n",
      " -0.11743414  0.03611984 -0.12805782  0.16951089 -0.07287621 -0.03033413\n",
      "  0.05696742 -0.08999937  0.15574755  0.03528397 -0.05007825  0.05362551\n",
      "  0.27647993 -0.0740409  -0.13605699 -0.01981932  0.05871828 -0.46315557\n",
      "  0.03566412 -0.01512915  0.17290631 -0.26820612 -0.01244849  0.05185375\n",
      "  0.09042388 -0.09882684 -0.01104268 -0.01808288  0.1718288  -0.04831158\n",
      " -0.0226789   0.00297398 -0.08770411  0.01996191 -0.04257759 -0.02666355\n",
      " -0.02826509  0.10858311  0.09189299  0.11446658 -0.0863312   0.00553829\n",
      "  0.0110178   0.11326609 -0.11439952  0.0074025   0.16595633  0.07580938\n",
      "  0.03901876  0.23187707 -0.08754006 -0.07945567 -0.00341675  0.03026649\n",
      "  0.04933577  0.03685487  0.02935378 -0.09664053  0.10698494  0.04250837\n",
      "  0.00464057 -0.0343463   0.11827195 -0.04553811]\n",
      "0.049547303\n"
     ]
    }
   ],
   "source": [
    "\n",
    "# Build model.\n",
    "input = tf.keras.layers.Input(1)\n",
    "h1 = tf.keras.layers.Dense(100,activation=tf.keras.activations.relu,kernel_regularizer=reg_W1,bias_regularizer=reg_b1)(input)\n",
    "m = tf.keras.layers.Dense(1,kernel_regularizer=reg_W2_mu,bias_regularizer=reg_W2_mu)(h1)\n",
    "s = tf.keras.layers.Dense(1,activation=tf.keras.activations.exponential,kernel_regularizer=reg_W2_sig,bias_regularizer=reg_b2_sig)(h1)\n",
    "p = tfp.layers.DistributionLambda(lambda t: tfd.Normal(loc=t[0], scale=t[1]))([m,s])\n",
    "model_2 = tf.keras.Model(inputs=input, outputs=p)\n",
    "\n",
    "# Do inference.\n",
    "model_2.compile(optimizer=tf.optimizers.Adam(learning_rate=0.01), loss=expectednegloglik)\n",
    "model_2.fit(x_2, y_2, epochs=1000, verbose=False);\n",
    "\n",
    "# Profit.\n",
    "[print(np.squeeze(w.numpy())) for w in model.weights];\n",
    "yhat_2 = model_2(x_tst_2)\n",
    "assert isinstance(yhat_2, tfd.Distribution)"
   ]
  },
  {
   "cell_type": "code",
   "execution_count": 37,
   "metadata": {
    "colab": {
     "base_uri": "https://localhost:8080/",
     "height": 138
    },
    "id": "_bXohfdcRUcf",
    "outputId": "c793a44e-0059-4411-ad6f-b74938031b71"
   },
   "outputs": [
    {
     "data": {
      "image/png": "[encoded data removed]",
      "text/plain": [
       "<Figure size 432x108 with 1 Axes>"
      ]
     },
     "metadata": {
      "needs_background": "light"
     },
     "output_type": "display_data"
    }
   ],
   "source": [
    "plt.figure(figsize=[6, 1.5])  # inches\n",
    "plt.plot(x_2, y_2, 'b.', label='observed');\n",
    "\n",
    "m = yhat_2.mean()\n",
    "s = yhat_2.stddev()\n",
    "\n",
    "plt.plot(x_tst_2, m, 'r', linewidth=4, label='mean');\n",
    "plt.plot(x_tst_2, m + 2 * s, 'g', linewidth=2, label=r'mean + 2 stddev');\n",
    "plt.plot(x_tst_2, m - 2 * s, 'g', linewidth=2, label=r'mean - 2 stddev');\n",
    "\n",
    "plt.ylim(-0.,17);\n",
    "plt.yticks(np.linspace(0, 15, 4)[1:]);\n",
    "plt.xticks(np.linspace(*x_range, num=9));\n",
    "\n",
    "ax=plt.gca();\n",
    "ax.xaxis.set_ticks_position('bottom')\n",
    "ax.yaxis.set_ticks_position('left')\n",
    "ax.spines['left'].set_position(('data', 0))\n",
    "ax.spines['top'].set_visible(False)\n",
    "ax.spines['right'].set_visible(False)\n",
    "#ax.spines['left'].set_smart_bounds(True)\n",
    "#ax.spines['bottom'].set_smart_bounds(True)\n",
    "plt.legend(loc='center left', fancybox=True, framealpha=0., bbox_to_anchor=(1.05, 0.5))\n",
    "\n",
    "plt.savefig('/tmp/fig2.png', bbox_inches='tight', dpi=300)"
   ]
  },
  {
   "cell_type": "code",
   "execution_count": 38,
   "metadata": {
    "id": "GUXeJSeoZTch"
   },
   "outputs": [],
   "source": [
    "prior = tfp.layers.default_mean_field_normal_fn(\n",
    "    is_singular=False,\n",
    "    loc_initializer=tf.zeros_initializer(),\n",
    "    untransformed_scale_initializer=tf.constant_initializer(0.01),\n",
    "    loc_regularizer=None,\n",
    "    untransformed_scale_regularizer=None,\n",
    "    loc_constraint=None,\n",
    "    untransformed_scale_constraint=None\n",
    ")"
   ]
  },
  {
   "cell_type": "code",
   "execution_count": 39,
   "metadata": {
    "id": "XcMfkd87fGZ6"
   },
   "outputs": [],
   "source": [
    "def get_kernel_divergence_fn(train_size, kl_weight=1.0):\n",
    "  def kernel_divergence_fn(q, p, _):\n",
    "    kernel_divergence = tfp.distributions.kl_divergence(q, p) / tf.cast(train_size, tf.float32)\n",
    "    return kl_weight * kernel_divergence\n",
    "  return kernel_divergence_fn"
   ]
  },
  {
   "cell_type": "code",
   "execution_count": 40,
   "metadata": {
    "id": "HuU11IENfm-7"
   },
   "outputs": [],
   "source": [
    "kl_div = get_kernel_divergence_fn(y.shape[0])"
   ]
  },
  {
   "cell_type": "code",
   "execution_count": 41,
   "metadata": {
    "colab": {
     "base_uri": "https://localhost:8080/"
    },
    "id": "TTwBVfaaYQ9I",
    "outputId": "ce49260d-819d-4615-dc18-db093369d860"
   },
   "outputs": [
    {
     "name": "stderr",
     "output_type": "stream",
     "text": [
      "/Users/leximendolia/opt/anaconda3/lib/python3.9/site-packages/tensorflow_probability/python/layers/util.py:95: UserWarning: `layer.add_variable` is deprecated and will be removed in a future version. Please use the `layer.add_weight()` method instead.\n",
      "  loc = add_variable_fn(\n",
      "/Users/leximendolia/opt/anaconda3/lib/python3.9/site-packages/tensorflow_probability/python/layers/util.py:105: UserWarning: `layer.add_variable` is deprecated and will be removed in a future version. Please use the `layer.add_weight()` method instead.\n",
      "  untransformed_scale = add_variable_fn(\n"
     ]
    },
    {
     "name": "stdout",
     "output_type": "stream",
     "text": [
      "[ 0.09013883  0.21236779 -0.01506043  0.08930971 -0.09932493  0.0680507\n",
      "  0.05071645  0.12317439 -0.03906307  0.17099056  0.02321005  0.03634262\n",
      " -0.04157001 -0.00118317  0.09015179  0.12282304  0.1484798  -0.03017027\n",
      "  0.10687948 -0.06771535  0.02064572  0.03606103  0.02631844 -0.00948103\n",
      "  0.07610092  0.1183769   0.160095    0.23767921  0.07188466 -0.01373676\n",
      " -0.03525993 -0.10059746  0.12154543  0.0317048  -0.02959654  0.07807422\n",
      "  0.0621531   0.14905825 -0.08540899  0.08460533  0.03603171 -0.07626349\n",
      " -0.03011102  0.13072163  0.07091419 -0.03354255  0.04287031 -0.03668632\n",
      "  0.008637    0.16164826 -0.00160503 -0.08037981  0.06948859  0.03030969\n",
      "  0.01513573  0.10508746 -0.13300924 -0.03753972  0.02314295  0.0605303\n",
      " -0.06766158 -0.06257708  0.16148438  0.1970369   0.02304333 -0.03026419\n",
      "  0.08769991  0.26999187 -0.01626774  0.20486882 -0.02817171  0.01051051\n",
      "  0.00529058  0.14932317  0.0314275  -0.06007002 -0.04302731 -0.0854793\n",
      "  0.01359987 -0.08422798  0.05173315 -0.00424361  0.01842045 -0.01279414\n",
      "  0.14186491 -0.04740719  0.0307723   0.05761804  0.08688452 -0.03337632\n",
      " -0.05922142  0.05178745  0.03245436 -0.04163461 -0.00410137  0.02577893\n",
      "  0.06225893 -0.05805518 -0.05710074  0.03371476]\n",
      "[-3.0462415 -3.0550964 -3.1760843 -2.8413253 -2.993985  -2.0599182\n",
      " -3.0225306 -3.1885347 -3.2121015 -2.988399  -2.7968087 -3.049108\n",
      " -3.0237293 -3.0500126 -3.057437  -2.9497354 -2.9848819 -3.0272832\n",
      " -3.0942328 -2.4753802 -2.8758743 -2.946646  -2.9941075 -2.79759\n",
      " -2.9087863 -3.0292757 -3.0256376 -3.0161164 -3.102662  -2.9062123\n",
      " -3.0514758 -2.905148  -3.048729  -3.1712763 -3.0074856 -3.0941546\n",
      " -2.94222   -3.0533905 -2.9373102 -2.9847093 -2.899934  -3.0626554\n",
      " -3.1257095 -2.9095585 -2.9407008 -2.959021  -2.9203975 -2.8514714\n",
      " -2.9859993 -2.9300756 -2.1585345 -2.9618797 -3.0593336 -2.9214404\n",
      " -3.1410623 -3.0266726 -2.6772728 -3.008123  -2.9964187 -2.9603357\n",
      " -2.8359141 -1.9957868 -2.8870971 -2.7186105 -3.0955565 -2.9488688\n",
      " -1.8332281 -2.9813812 -3.1175244 -2.9938266 -2.9574206 -2.8895152\n",
      " -3.0301347 -3.157188  -2.3769956 -2.3713849 -3.0426748 -2.9555924\n",
      " -2.3186316 -3.1665084 -3.1131623 -2.9184031 -2.973105  -2.6668227\n",
      " -2.921591  -2.8318574 -3.0131798 -3.063157  -3.0533442 -3.0677588\n",
      " -2.9477434 -2.9287555 -3.0593772 -2.958595  -3.030054  -2.9170086\n",
      " -3.1154516 -3.09429   -3.0668843 -3.200615 ]\n",
      "[ 0.09013809  0.21233784 -0.01506043  0.08930971 -0.09932381  0.06804571\n",
      "  0.0507149   0.12317439 -0.03906307  0.17099068  0.02321003  0.03634295\n",
      " -0.04156956 -0.00118236  0.09015179  0.12282301  0.14848165 -0.03017602\n",
      "  0.10687527 -0.0677192   0.02065403  0.03606103  0.02631522 -0.00949454\n",
      "  0.07610086  0.11836658  0.16009498  0.23767921  0.07188465 -0.01373674\n",
      " -0.03526777 -0.10059744  0.12154545  0.03170472 -0.02959679  0.07807422\n",
      "  0.06216066  0.14905831 -0.08540926  0.08460533  0.0360311  -0.07626344\n",
      " -0.03011139  0.13072158  0.07099162 -0.03354103  0.04287036 -0.03668632\n",
      "  0.00863715  0.1616437  -0.00160554 -0.08037628  0.06948861  0.03030968\n",
      "  0.01513858  0.10508746 -0.13301346 -0.03754007  0.02314297  0.06053061\n",
      " -0.06766173 -0.06257535  0.16148438  0.19703928  0.0230439  -0.03026419\n",
      "  0.08770115  0.26999184 -0.01626775  0.2048688  -0.02817139  0.01050905\n",
      "  0.00529037  0.14932317  0.03142814 -0.06007332 -0.04302508 -0.08547905\n",
      "  0.01359871 -0.08421721  0.05180235 -0.00424453  0.01842045 -0.01279415\n",
      "  0.14191106 -0.04740736  0.0307723   0.05761807  0.08691549 -0.03337632\n",
      " -0.05922177  0.0517954   0.03245539 -0.04163459 -0.00410137  0.02577888\n",
      "  0.06225893 -0.05805071 -0.057215    0.03371307]\n",
      "[-3.0462275 -3.0550828 -3.1760507 -2.8413117 -2.993971  -2.0555272\n",
      " -3.022515  -3.1884992 -3.212059  -2.9883854 -2.7967954 -3.0490942\n",
      " -3.0237057 -3.0499988 -3.057423  -2.9497213 -2.984868  -3.0272696\n",
      " -3.0942187 -2.4748614 -2.8758605 -2.9466321 -2.9940937 -2.797577\n",
      " -2.9087727 -3.029262  -3.0256238 -3.0161026 -3.1026466 -2.9061985\n",
      " -3.051462  -2.9051337 -3.0487154 -3.171244  -3.007471  -3.0941408\n",
      " -2.942206  -3.0533767 -2.9372964 -2.9846954 -2.8999205 -3.0626416\n",
      " -3.125688  -2.9095447 -2.9406867 -2.9590073 -2.9203837 -2.8514576\n",
      " -2.985985  -2.930062  -2.1576295 -2.9618516 -3.0593197 -2.9214265\n",
      " -3.1410372 -3.0266588 -2.677058  -3.008109  -2.996405  -2.9603221\n",
      " -2.8359005 -1.991813  -2.8870833 -2.7132516 -3.0955427 -2.948855\n",
      " -1.8289899 -2.9813673 -3.1175053 -2.9938128 -2.9574068 -2.8895233\n",
      " -3.030121  -3.1571605 -2.3759487 -2.3707552 -3.0426602 -2.9555788\n",
      " -2.316413  -3.1664777 -3.1131446 -2.9183893 -2.9730911 -2.66681\n",
      " -2.9215765 -2.8318446 -3.013166  -3.0631433 -3.0533304 -3.0677452\n",
      " -2.9477293 -2.928742  -3.0593636 -2.958581  -3.0300405 -2.916995\n",
      " -3.1154332 -3.0942762 -3.0668705 -3.2005746]\n",
      "[ 0.01879763 -0.04467798 -0.03251141 -0.06988232  0.16081537  0.82864505\n",
      "  0.10914498 -0.24323906 -0.00852591  0.10507873 -0.04895145  0.01418503\n",
      "  0.11819983  0.12505798 -0.08509135  0.2140274  -0.11405658  0.04271014\n",
      "  0.08255855 -0.25378963  0.00787139  0.03226678  0.17725676  0.06592876\n",
      "  0.07834928  0.05162387  0.04985451  0.11611307  0.09795658  0.05726799\n",
      "  0.09485686 -0.0862978   0.00570976  0.01743846  0.02899224  0.07969184\n",
      "  0.01598079  0.10249681  0.1386932  -0.07251116  0.02154433 -0.02565066\n",
      "  0.00407394  0.1474743  -0.01882137  0.0361632   0.05238835  0.01472209\n",
      "  0.10850409  0.2087056   0.38544473  0.07974318  0.07083082  0.18676461\n",
      "  0.03258727 -0.09048433  0.15046515  0.05575053 -0.22985394 -0.15376338\n",
      " -0.073433    1.2136012   0.03671934  0.33716276  0.0621122   0.14412127\n",
      "  1.4018735   0.14620627 -0.06112019  0.06248786  0.0096011  -0.09602463\n",
      "  0.02608288  0.02566327  0.33366683 -0.01860496 -0.07757245  0.01339295\n",
      "  0.72389483  0.11390519 -0.04895166  0.24374254 -0.0520562   0.37909096\n",
      " -0.00941042 -0.12572724 -0.00352548  0.01661655  0.01077314  0.07798501\n",
      " -0.17785423  0.14182873  0.02276823 -0.24769594 -0.06273808  0.064677\n",
      " -0.1797574  -0.01288455 -0.04079368  0.00373163]\n",
      "[ 0.01887463 -0.04464994 -0.03251141 -0.06987675  0.16081914  0.8286753\n",
      "  0.10914498 -0.2432358  -0.0085287   0.10508318 -0.04894258  0.01417938\n",
      "  0.11824039  0.12497201 -0.08521767  0.21402343 -0.1140528   0.0427165\n",
      "  0.08255044 -0.25390714  0.00784697  0.03230946  0.177544    0.06592724\n",
      "  0.07828674  0.05163644  0.04985521  0.1160657   0.09806076  0.05726786\n",
      "  0.09485612 -0.08630079  0.00571478  0.01745094  0.02899071  0.07969227\n",
      "  0.01598079  0.10256989  0.13869369 -0.07249083  0.02154877 -0.02564757\n",
      "  0.00402699  0.1474743  -0.01896824  0.03618445  0.05239012  0.01472478\n",
      "  0.10850409  0.20870373  0.3854803   0.0798343   0.0708066   0.18669975\n",
      "  0.0327071  -0.09047914  0.15043887  0.05577449 -0.22985394 -0.15371235\n",
      " -0.07341653  1.2136204   0.03672511  0.337165    0.06211205  0.14410165\n",
      "  1.4018862   0.14620627 -0.06118335  0.06249128  0.00958388 -0.09580039\n",
      "  0.0259858   0.02565623  0.33366156 -0.01860361 -0.07757011  0.01338594\n",
      "  0.7239991   0.11392338 -0.04887946  0.2437423  -0.0520562   0.37908894\n",
      " -0.00941298 -0.12574781 -0.0035268   0.01662669  0.01077782  0.07798501\n",
      " -0.17786255  0.14182873  0.02276431 -0.24771571 -0.06261996  0.06474241\n",
      " -0.1797574  -0.01288032 -0.04077271  0.00370049]\n",
      "[-5.1951995 -5.1952624 -5.195186  -5.19579   -5.2030034 -5.1969852\n",
      " -5.1980047 -5.218107  -5.1952133 -5.1974583 -5.1955485 -5.1952457\n",
      " -5.1956644 -5.198638  -5.196276  -5.2111926 -5.1977406 -5.195253\n",
      " -5.196529  -5.201473  -5.195216  -5.1952214 -5.2056017 -5.196033\n",
      " -5.1960535 -5.1954217 -5.1956177 -5.197882  -5.196866  -5.1971364\n",
      " -5.1975837 -5.196453  -5.1952147 -5.195264  -5.1956277 -5.1964154\n",
      " -5.195174  -5.1971183 -5.1985946 -5.1962075 -5.1952696 -5.1953573\n",
      " -5.195249  -5.200689  -5.1952043 -5.1953793 -5.1956563 -5.1952057\n",
      " -5.1974154 -5.210059  -5.195507  -5.1956964 -5.1958184 -5.2067127\n",
      " -5.195284  -5.196503  -5.1951075 -5.1954217 -5.2147484 -5.2013664\n",
      " -5.196289  -5.195313  -5.195254  -5.19688   -5.195869  -5.200549\n",
      " -5.195697  -5.200539  -5.195631  -5.195891  -5.195472  -5.198945\n",
      " -5.195287  -5.195148  -5.195203  -5.1956263 -5.1958666 -5.195188\n",
      " -5.197911  -5.198653  -5.1953745 -5.2177215 -5.1956716 -5.195725\n",
      " -5.195249  -5.1975946 -5.1951995 -5.1952076 -5.1951957 -5.196319\n",
      " -5.204636  -5.20089   -5.195255  -5.2192836 -5.1956115 -5.1956615\n",
      " -5.2049685 -5.195333  -5.195338  -5.1952047]\n",
      "[ 4.77844849e-02 -1.66551359e-02  1.53467372e-01 -9.57119688e-02\n",
      " -1.45743966e-01  7.00291812e-01  8.47133100e-02  1.21219672e-01\n",
      " -7.10262954e-02 -6.02009445e-02 -2.37944839e-03  9.44635198e-02\n",
      " -6.21649474e-02  2.44519666e-01 -4.65199053e-02  1.78609032e-03\n",
      " -1.12792337e-02 -5.19273803e-02 -2.53083762e-02 -2.38032639e-02\n",
      " -1.61942527e-01  7.93893356e-03  4.98816706e-02  2.08041176e-01\n",
      " -1.75525084e-01 -6.86090160e-03 -4.29193303e-02 -6.11644462e-02\n",
      "  1.59463342e-02  2.34515205e-01 -8.02993253e-02  5.92492409e-02\n",
      " -1.16736345e-01  2.27299333e-02  2.32852533e-01  1.06629848e-01\n",
      "  1.01385601e-01 -1.88580930e-01  8.01832005e-02 -5.69672650e-03\n",
      " -1.37518838e-01  1.32039443e-01  1.14740141e-01 -4.16809991e-02\n",
      " -2.84846127e-02 -9.11284164e-02 -4.88583222e-02 -4.70458269e-02\n",
      " -3.09866779e-02  9.57749188e-02  2.26115420e-01  4.76483703e-02\n",
      " -5.89478016e-02  6.50103390e-02 -9.05949324e-02 -5.74885532e-02\n",
      "  2.77420670e-01 -5.33533329e-03  5.55662774e-02  9.14613158e-02\n",
      " -1.32381320e-01  5.75917780e-01  5.81597036e-04  5.10608375e-01\n",
      "  2.59954240e-02 -1.79096870e-02  6.91921651e-01 -7.02107698e-02\n",
      "  2.84524579e-02 -8.19085762e-02  3.60845663e-02  7.31123462e-02\n",
      " -1.30936205e-01  1.71225011e-01  3.53034735e-01  1.75940722e-01\n",
      " -3.59686627e-03 -7.58662298e-02  8.45831752e-01  1.29184365e-01\n",
      "  1.98103418e-03 -4.19315621e-02 -1.97566882e-01  3.45193774e-01\n",
      "  6.19027205e-02 -1.06628858e-01 -5.04796021e-03 -2.31665093e-02\n",
      " -1.67253856e-02 -2.39870027e-01  9.14651752e-02  5.52919656e-02\n",
      "  1.20843062e-03 -3.52730416e-02  9.24103558e-02 -6.63190857e-02\n",
      " -1.02457069e-01 -5.63896149e-02 -2.48145927e-02  1.51127592e-01]\n",
      "[-3.2243865 -2.974688  -3.0367818 -3.0361362 -2.5772028 -1.5841192\n",
      " -2.9616048 -3.0386915 -3.044831  -3.1026027 -2.8904505 -2.9985554\n",
      " -1.5881125 -2.6703181 -3.1350563 -2.8473535 -3.206383  -2.7556124\n",
      " -3.00591   -1.5571623 -2.8564727 -2.8774583 -2.903867  -2.8740876\n",
      " -2.9519224 -3.0517962 -3.0875716 -3.054865  -2.9758337 -1.757031\n",
      " -2.667212  -2.7246518 -2.8270876 -3.0333512 -1.5706977 -3.0487936\n",
      " -3.0981202 -2.8983533 -1.6490864 -2.826858  -2.997091  -1.5976297\n",
      " -1.8654182 -3.0975027 -3.051561  -2.840706  -2.965774  -2.85579\n",
      " -2.8854995 -2.9115474 -1.5924208 -1.4782144 -3.2308424 -2.9846938\n",
      " -2.842876  -2.9859712 -1.5668443 -2.1746495 -2.9911747 -2.9097214\n",
      " -1.7701799 -1.6235046 -2.9492633 -1.6184615 -2.9732978 -3.1092653\n",
      " -1.6794441 -3.070205  -2.5853887 -3.2030108 -2.036202  -1.8124952\n",
      " -2.8364909 -2.9445615 -1.6448663 -1.5802882 -2.2836928 -1.5856584\n",
      " -1.6024135 -1.993319  -2.831329  -3.103018  -2.9977329 -1.5493604\n",
      " -2.9674318 -2.8858516 -3.1272914 -2.8805146 -3.13911   -2.734803\n",
      " -2.4600143 -2.9819632 -2.9465625 -2.0476327 -2.9051783 -3.0843933\n",
      " -2.820207  -1.6115484 -2.8155928 -2.8927286]\n",
      "[ 4.77830805e-02 -1.66551583e-02  1.53467372e-01 -9.57119837e-02\n",
      " -1.45743877e-01  7.00276971e-01  8.47133324e-02  1.21219695e-01\n",
      " -7.10262954e-02 -6.02100566e-02 -2.37925001e-03  9.44631919e-02\n",
      " -6.21640682e-02  2.44519681e-01 -4.65197116e-02  1.79241807e-03\n",
      " -1.12789404e-02 -5.19637726e-02 -2.53755338e-02 -2.37473436e-02\n",
      " -1.61941424e-01  7.93940108e-03  4.98042181e-02  2.08041131e-01\n",
      " -1.75563872e-01 -6.86087040e-03 -4.29193527e-02 -6.11643419e-02\n",
      "  1.59460455e-02  2.34514937e-01 -8.02992061e-02  5.92657849e-02\n",
      " -1.16409771e-01  2.27304623e-02  2.32854322e-01  1.06629848e-01\n",
      "  1.01385601e-01 -1.88580960e-01  8.01822692e-02 -5.67757199e-03\n",
      " -1.37518838e-01  1.32041663e-01  1.14740007e-01 -4.16809916e-02\n",
      " -2.84846462e-02 -9.11280885e-02 -4.88583073e-02 -4.70458455e-02\n",
      " -3.09388395e-02  9.57749262e-02  2.26116166e-01  4.77050580e-02\n",
      " -5.89455441e-02  6.50103390e-02 -9.05949101e-02 -5.74874282e-02\n",
      "  2.77513623e-01 -5.33523550e-03  5.55663370e-02  9.14610028e-02\n",
      " -1.32380888e-01  5.76330662e-01  5.74524398e-04  5.10612428e-01\n",
      "  2.59953663e-02 -1.79096777e-02  6.91821337e-01 -7.02107698e-02\n",
      "  2.84523666e-02 -8.19090232e-02  3.60530391e-02  7.31124803e-02\n",
      " -1.30936190e-01  1.71225995e-01  3.53034198e-01  1.76002145e-01\n",
      " -3.59795219e-03 -7.58602396e-02  8.45831513e-01  1.29184306e-01\n",
      "  1.98104372e-03 -4.19314392e-02 -1.97566882e-01  3.45193863e-01\n",
      "  6.18850514e-02 -1.06638029e-01 -5.04790805e-03 -2.31952723e-02\n",
      " -1.67254247e-02 -2.39870027e-01  9.14636627e-02  5.52135818e-02\n",
      "  1.20110321e-03 -3.52731235e-02  9.24103707e-02 -6.63189963e-02\n",
      " -1.02457069e-01 -5.63895851e-02 -2.48137154e-02  1.51116446e-01]\n",
      "[-3.2243412 -2.9746737 -3.0367677 -3.0361223 -2.577164  -1.5822121\n",
      " -2.961591  -3.038678  -3.0448172 -3.1025875 -2.8904366 -2.9985414\n",
      " -1.5879278 -2.6703045 -3.1350322 -2.8473396 -3.2063417 -2.755599\n",
      " -3.0058963 -1.5568511 -2.856459  -2.8774447 -2.9038532 -2.8740737\n",
      " -2.9519086 -3.0517824 -3.087558  -3.054851  -2.9758198 -1.7569282\n",
      " -2.6671994 -2.7246392 -2.827074  -3.033337  -1.570443  -3.0487797\n",
      " -3.0981061 -2.8983395 -1.6488371 -2.826844  -2.9970775 -1.5973678\n",
      " -1.865354  -3.0974886 -3.0515473 -2.840692  -2.9657605 -2.8557756\n",
      " -2.8854856 -2.9115336 -1.5914372 -1.4777348 -3.2307956 -2.9846802\n",
      " -2.8428621 -2.9859576 -1.5653958 -2.1746225 -2.9911597 -2.9097078\n",
      " -1.7700328 -1.6214597 -2.9492495 -1.6176249 -2.9732838 -3.1092515\n",
      " -1.6758455 -3.0701914 -2.585377  -3.2029674 -2.0361586 -1.8123864\n",
      " -2.836477  -2.944547  -1.6442087 -1.5799656 -2.2836616 -1.5853589\n",
      " -1.601885  -1.9931267 -2.8313155 -3.1030037 -2.997719  -1.548956\n",
      " -2.967418  -2.885837  -3.1272688 -2.8805008 -3.1390858 -2.7347896\n",
      " -2.459984  -2.9819496 -2.9465482 -2.0475996 -2.9051645 -3.0843794\n",
      " -2.8201933 -1.6113687 -2.8155787 -2.8927145]\n",
      "0.087230936\n",
      "0.08725034\n",
      "-5.1963577\n",
      "[ 0.11828846 -0.07782853 -0.08614476  0.00418653 -0.04395713  0.41424242\n",
      " -0.02021229 -0.0006493  -0.09357285  0.04097785  0.01479177 -0.03681371\n",
      "  0.20148239  0.00933325 -0.18856056  0.08156522 -0.19319023  0.17380638\n",
      " -0.15538506  0.01911759  0.00572043  0.08605723 -0.15187472 -0.02724798\n",
      "  0.03703663  0.06644091 -0.04273235  0.09024008  0.04674942  0.18549994\n",
      " -0.20846072 -0.06971252  0.00385975 -0.08213902  0.18284716 -0.0482996\n",
      " -0.03319848  0.09487283  0.10256606  0.10904394 -0.09761114  0.12328256\n",
      "  0.13137366  0.03846712 -0.08527755 -0.08905429 -0.08353664  0.04135413\n",
      "  0.07876923  0.28623128  0.11997047  0.22213666  0.07201321  0.01576675\n",
      " -0.12854387 -0.06220392  0.27443913  0.01647031 -0.16877759 -0.04190753\n",
      "  0.0449314   0.28452402  0.08989172  0.510944   -0.152311    0.01243265\n",
      "  0.21484232  0.10742194 -0.13623177 -0.10238676  0.10289165  0.07533532\n",
      " -0.13680845  0.12983772  0.24021119  0.09953678 -0.1188838   0.19718824\n",
      "  0.4075927  -0.02373153  0.0037319   0.08095725  0.05569708  0.2705125\n",
      "  0.10092897 -0.12611529 -0.04842196  0.02374537  0.02875282 -0.07733271\n",
      " -0.0157208  -0.02938011  0.01629426  0.01030416 -0.12212531  0.10764082\n",
      "  0.01619926  0.08626373 -0.02592187  0.02594989]\n",
      "[-3.0211792 -3.1220176 -2.8927956 -2.8970418 -3.0395339 -1.6263579\n",
      " -2.912657  -3.0694845 -2.9211478 -2.9183557 -2.9619799 -2.9507294\n",
      " -2.4763162 -2.952233  -2.9948778 -2.9002206 -2.996246  -3.0109532\n",
      " -3.1913447 -1.6667111 -3.1408992 -2.9351778 -3.1270936 -2.858731\n",
      " -3.0827231 -3.0288818 -3.1440961 -3.1000721 -3.132713  -2.5976737\n",
      " -2.7893977 -3.088287  -3.1091037 -3.0698702 -2.2692103 -3.0360835\n",
      " -3.0982163 -2.9815836 -1.7972603 -3.0747895 -2.9583883 -1.6362519\n",
      " -2.8319917 -3.0224748 -2.9880574 -3.1269224 -3.0010135 -3.2516663\n",
      " -2.9133914 -3.1289022 -1.9207811 -1.57856   -3.2141583 -3.0070713\n",
      " -2.90289   -3.0310116 -1.6414032 -2.949469  -3.0525258 -2.979811\n",
      " -2.7400386 -1.7595466 -3.052657  -1.994156  -3.0139778 -2.9940383\n",
      " -1.6566693 -3.1289165 -2.9547117 -3.0728185 -2.8524942 -2.9125102\n",
      " -2.9541416 -2.9608493 -1.9420017 -1.6153717 -3.1422017 -2.0233479\n",
      " -1.5674913 -2.9339993 -2.9918182 -3.0303345 -3.0080912 -2.4534156\n",
      " -2.8960588 -3.1602755 -2.8907886 -3.0072143 -2.885187  -2.9245985\n",
      " -3.0583358 -2.9925709 -2.9898255 -2.8834565 -3.1125555 -3.044731\n",
      " -3.1651535 -2.820703  -3.1348763 -3.2000697]\n",
      "[ 0.1182887  -0.07782853 -0.08614476  0.00418652 -0.04395586  0.41423893\n",
      " -0.02021232 -0.00064934 -0.09357285  0.04097777  0.01479172 -0.0368139\n",
      "  0.20148249  0.00933353 -0.18856056  0.08156414 -0.19319047  0.17389192\n",
      " -0.15538506  0.01911926  0.0057207   0.08607662 -0.15187472 -0.02724743\n",
      "  0.03703663  0.06644092 -0.04273123  0.09025304  0.04674942  0.18549971\n",
      " -0.20846072 -0.06971174  0.00384133 -0.082115    0.18284723 -0.0482996\n",
      " -0.03319848  0.09487282  0.10256631  0.10905084 -0.09761114  0.12328254\n",
      "  0.13137403  0.03846711 -0.08527754 -0.08907838 -0.08353659  0.04135419\n",
      "  0.07877249  0.28623128  0.11997036  0.22213614  0.07201321  0.01576675\n",
      " -0.12854394 -0.06232319  0.27440298  0.01647515 -0.16877742 -0.04190759\n",
      "  0.04493129  0.284564    0.08989172  0.5109464  -0.1523096   0.01243289\n",
      "  0.21492334  0.10746513 -0.1362321  -0.10238642  0.10289151  0.07533532\n",
      " -0.13680845  0.12983774  0.24020821  0.09953778 -0.1188846   0.19718859\n",
      "  0.40758982 -0.02373107  0.00373299  0.08095691  0.05569708  0.27051038\n",
      "  0.10092895 -0.12611513 -0.04842196  0.02374493  0.0287529  -0.0773327\n",
      " -0.01569445 -0.02937676  0.01629422  0.01030407 -0.1221253   0.10764082\n",
      "  0.01619925  0.08626529 -0.02592183  0.02594988]\n",
      "[-3.0211654 -3.1219976 -2.8927817 -2.897028  -3.0395193 -1.6249927\n",
      " -2.9126434 -3.0694706 -2.921134  -2.9183419 -2.961966  -2.950715\n",
      " -2.476306  -2.9522188 -2.994864  -2.900207  -2.9962323 -3.0109394\n",
      " -3.1913097 -1.6661181 -3.1408734 -2.935164  -3.1270738 -2.8587174\n",
      " -3.0827096 -3.028868  -3.1440706 -3.1000574 -3.1326902 -2.597661\n",
      " -2.7893846 -3.088273  -3.1090865 -3.0698555 -2.269129  -3.0360699\n",
      " -3.098202  -2.9815698 -1.7967045 -3.0747755 -2.9583745 -1.6356795\n",
      " -2.8319783 -3.022461  -2.9880438 -3.126901  -3.001     -3.25161\n",
      " -2.9133778 -3.1288884 -1.9206913 -1.5778944 -3.2141156 -3.0070577\n",
      " -2.9028761 -3.0309978 -1.6395953 -2.949455  -3.052512  -2.9797974\n",
      " -2.7400098 -1.7555151 -3.052643  -1.9940354 -3.013964  -2.9940233\n",
      " -1.6538866 -3.1288953 -2.9546978 -3.0728047 -2.8524802 -2.912476\n",
      " -2.9541278 -2.960835  -1.9416982 -1.6149727 -3.1421778 -2.0228999\n",
      " -1.5674359 -2.9339852 -2.9918044 -3.0303082 -3.0080776 -2.4533958\n",
      " -2.8960452 -3.1602466 -2.8907747 -3.007201  -2.8851733 -2.9245846\n",
      " -3.0583158 -2.9925573 -2.989812  -2.8834426 -3.1125388 -3.044717\n",
      " -3.165123  -2.820681  -3.1348538 -3.2000306]\n",
      "-0.05085445\n",
      "-0.050864413\n",
      "-5.195644\n"
     ]
    },
    {
     "data": {
      "image/png": "[encoded data removed]",
      "text/plain": [
       "<Figure size 432x288 with 1 Axes>"
      ]
     },
     "metadata": {
      "needs_background": "light"
     },
     "output_type": "display_data"
    }
   ],
   "source": [
    "\n",
    "# Build model.\n",
    "input = tf.keras.layers.Input(1)\n",
    "h1 = tfp.layers.DenseLocalReparameterization(100,activation=tf.keras.activations.relu,kernel_prior_fn=prior,bias_prior_fn=prior,kernel_divergence_fn=kl_div,bias_divergence_fn=kl_div)(input)\n",
    "m = tfp.layers.DenseLocalReparameterization(1,kernel_prior_fn=prior,bias_prior_fn=prior,kernel_divergence_fn=kl_div,bias_divergence_fn=kl_div)(h1)\n",
    "s = tfp.layers.DenseLocalReparameterization(1,activation=tf.keras.activations.softplus,kernel_prior_fn=prior,bias_prior_fn=prior,kernel_divergence_fn=kl_div,bias_divergence_fn=kl_div)(h1)\n",
    "p = tfp.layers.DistributionLambda(lambda t: tfd.Normal(loc=t[0], scale=t[1]))([m,s])\n",
    "model = tf.keras.Model(inputs=input, outputs=p)\n",
    "\n",
    "# Do inference.\n",
    "model.compile(optimizer=tf.optimizers.Adam(learning_rate=0.001), loss=expectednegloglik)\n",
    "history = model.fit(x, y, epochs=1000, verbose=False);\n",
    "plt.plot(history.history['loss'])\n",
    "\n",
    "\n",
    "# Profit.\n",
    "[print(np.squeeze(w.numpy())) for w in model.weights];\n",
    "yhat = model(x_tst)\n",
    "assert isinstance(yhat, tfd.Distribution)"
   ]
  },
  {
   "cell_type": "code",
   "execution_count": 42,
   "metadata": {
    "colab": {
     "base_uri": "https://localhost:8080/",
     "height": 166
    },
    "id": "WVTDjXrqdETN",
    "outputId": "d0c33701-1e8b-41af-885c-e7b40a2719a3"
   },
   "outputs": [
    {
     "data": {
      "image/png": "[encoded data removed]",
      "text/plain": [
       "<Figure size 432x108 with 1 Axes>"
      ]
     },
     "metadata": {
      "needs_background": "light"
     },
     "output_type": "display_data"
    }
   ],
   "source": [
    "plt.figure(figsize=[6, 1.5])  # inches\n",
    "plt.plot(x, y, 'b.', label='observed');\n",
    "\n",
    "yhats = [model(x_tst) for _ in range(100)]\n",
    "avgm = np.zeros_like(x_tst[..., 0])\n",
    "ms = []\n",
    "ss = []\n",
    "for i, yhat in enumerate(yhats):\n",
    "  m = np.squeeze(yhat.mean())\n",
    "  s = np.squeeze(yhat.stddev())\n",
    "  if i < 15:\n",
    "    plt.plot(x_tst, m, 'r', label='ensemble means' if i == 0 else None, linewidth=1.)\n",
    "    plt.plot(x_tst, m + 2 * s, 'g', linewidth=0.5, label='ensemble means + 2 ensemble stdev' if i == 0 else None);\n",
    "    plt.plot(x_tst, m - 2 * s, 'g', linewidth=0.5, label='ensemble means - 2 ensemble stdev' if i == 0 else None);\n",
    "  ms += [m]\n",
    "  ss += [s]\n",
    "ms = np.array(ms)\n",
    "avgm = ms.mean(axis=0)\n",
    "ss = np.array(ss)\n",
    "avgs = np.sqrt((ms**2+ss**2).mean(axis=0)-avgm**2)\n",
    "plt.plot(x_tst, avgm, 'r', label='overall mean', linewidth=4)\n",
    "plt.plot(x_tst, avgm + 2 * avgs, 'g', linewidth=4, label='overall mean + 2 overall stdev');\n",
    "plt.plot(x_tst, avgm - 2 * avgs, 'g', linewidth=4, label='overall means - 2 overall stdev');\n",
    "\n",
    "plt.ylim(-20,30);\n",
    "plt.yticks(np.linspace(-20, 30, 4)[1:]);\n",
    "plt.xticks(np.linspace(*x_range, num=9));\n",
    "\n",
    "ax=plt.gca();\n",
    "ax.xaxis.set_ticks_position('bottom')\n",
    "ax.yaxis.set_ticks_position('left')\n",
    "ax.spines['left'].set_position(('data', 0))\n",
    "ax.spines['top'].set_visible(False)\n",
    "ax.spines['right'].set_visible(False)\n",
    "#ax.spines['left'].set_smart_bounds(True)\n",
    "#ax.spines['bottom'].set_smart_bounds(True)\n",
    "plt.legend(loc='center left', fancybox=True, framealpha=0., bbox_to_anchor=(1.05, 0.5))\n",
    "\n",
    "plt.savefig('/tmp/fig4.png', bbox_inches='tight', dpi=300)"
   ]
  },
  {
   "cell_type": "code",
   "execution_count": 43,
   "metadata": {
    "colab": {
     "base_uri": "https://localhost:8080/"
    },
    "id": "h7jlEwTDgXzv",
    "outputId": "786715ea-96f0-4898-fc61-ed9f50a1ab71"
   },
   "outputs": [
    {
     "name": "stderr",
     "output_type": "stream",
     "text": [
      "/Users/leximendolia/opt/anaconda3/lib/python3.9/site-packages/tensorflow_probability/python/layers/util.py:95: UserWarning: `layer.add_variable` is deprecated and will be removed in a future version. Please use the `layer.add_weight()` method instead.\n",
      "  loc = add_variable_fn(\n",
      "/Users/leximendolia/opt/anaconda3/lib/python3.9/site-packages/tensorflow_probability/python/layers/util.py:105: UserWarning: `layer.add_variable` is deprecated and will be removed in a future version. Please use the `layer.add_weight()` method instead.\n",
      "  untransformed_scale = add_variable_fn(\n"
     ]
    },
    {
     "name": "stdout",
     "output_type": "stream",
     "text": [
      "[-0.12616335 -0.19229399  0.21469644 -0.00174453  0.1566002  -0.08857593\n",
      " -0.05010524  0.2658426  -0.04223911  0.02777871 -0.04855728 -0.16740848\n",
      " -0.06305763  0.13038869  0.01492952  0.15666734 -0.10222868 -0.07496775\n",
      " -0.0174743  -0.06530225  0.04113786 -0.05083604  0.01002779  0.2899031\n",
      " -0.01547319  0.11814368  0.01615835  0.14416178  0.10089283  0.06464396\n",
      "  0.07745745  0.2798585  -0.05088906 -0.03087177  0.06171957  0.0713995\n",
      " -0.02549787  0.04010431  0.02548257  0.09296066  0.02175261  0.04334576\n",
      " -0.19357893 -0.04420012 -0.01578212 -0.02659388 -0.0664797   0.00301449\n",
      " -0.06795823  0.11497023 -0.07767568 -0.00174946 -0.0228751  -0.01983249\n",
      "  0.11839744  0.05472431 -0.04459631  0.18324919  0.04546393  0.1619474\n",
      "  0.01389606  0.11345335 -0.03208916 -0.02618537  0.14015748 -0.08823296\n",
      "  0.03524289  0.01673695 -0.03870377 -0.12224731  0.07879116 -0.24945392\n",
      " -0.00231745 -0.01896826  0.25118074 -0.04642351 -0.01835403 -0.07042328\n",
      "  0.07765453  0.00475406  0.04250741  0.0258912  -0.09076329 -0.01054101\n",
      " -0.13280681  0.12841578  0.05979406 -0.08383639  0.04353913 -0.0566871\n",
      "  0.3494308  -0.01767564  0.06955418 -0.12054815 -0.09975185 -0.08627597\n",
      "  0.10751615  0.15731916 -0.0188731   0.02037056]\n",
      "[-1.539741  -1.6805775 -2.422534  -2.287041  -2.0890312 -1.6922221\n",
      " -1.685444  -1.7970241 -1.562613  -2.6496263 -2.2923486 -1.6240726\n",
      " -1.6494094 -2.843853  -2.035133  -2.6056564 -1.600134  -1.6352947\n",
      " -2.6235332 -2.697084  -2.217505  -1.60534   -2.5167701 -2.3858051\n",
      " -2.978783  -3.0038784 -1.9167151 -2.740989  -2.1033478 -1.6849126\n",
      " -2.6860101 -3.0055366 -1.6358075 -2.995719  -2.8955717 -2.7425222\n",
      " -1.5965508 -1.6552846 -1.732396  -2.1714203 -2.4516711 -2.4501698\n",
      " -1.6456131 -2.4774582 -2.345542  -1.8361998 -1.5570366 -3.1831303\n",
      " -2.6092525 -2.813659  -1.6116916 -2.6846437 -1.7779648 -2.8070712\n",
      " -2.8206768 -2.9047925 -1.532694  -2.3572583 -2.2942736 -2.684921\n",
      " -2.5806906 -2.4827178 -1.6898319 -3.0971572 -2.935066  -2.4080045\n",
      " -1.7602838 -1.7451943 -1.8151284 -1.5555629 -2.0780084 -1.5807421\n",
      " -2.3691275 -2.7440925 -2.7916853 -1.9862248 -2.7978296 -1.557232\n",
      " -2.3723547 -3.0521615 -2.2541878 -2.1160836 -1.8792644 -1.6499666\n",
      " -1.692732  -2.8852987 -2.6231883 -3.0320702 -2.2456584 -1.596894\n",
      " -2.6481464 -3.0007932 -2.6801367 -1.5477335 -1.6434442 -2.7564216\n",
      " -2.688829  -2.2658205 -1.6260049 -2.5448995]\n",
      "[-0.12616344 -0.19234179  0.21469644 -0.00174466  0.1566002  -0.08857594\n",
      " -0.05009574  0.2658426  -0.04223949  0.02777871 -0.04855708 -0.16728826\n",
      " -0.06305974  0.13038597  0.01492955  0.15666737 -0.10222866 -0.07496775\n",
      " -0.01746257 -0.06530242  0.04113781 -0.05068591  0.01004143  0.2899031\n",
      " -0.01547273  0.11814368  0.01615836  0.1441618   0.10089283  0.06464396\n",
      "  0.07745746  0.2798585  -0.05088906 -0.03087169  0.06171958  0.0713995\n",
      " -0.02549776  0.04007481  0.02548286  0.09296068  0.02175225  0.04334576\n",
      " -0.1936071  -0.04419865 -0.015782   -0.02659386 -0.06647949  0.00299989\n",
      " -0.06795833  0.11498464 -0.0776512  -0.00175031 -0.02287509 -0.01983249\n",
      "  0.11839743  0.05466003 -0.04389919  0.18324919  0.04546393  0.16194725\n",
      "  0.01389203  0.11345291 -0.03208846 -0.02618561  0.14015748 -0.08825905\n",
      "  0.03524055  0.01673695 -0.03870377 -0.12224691  0.07879134 -0.24945319\n",
      " -0.00231738 -0.01896829  0.25118074 -0.04642351 -0.01835468 -0.07042108\n",
      "  0.07765558  0.00475399  0.04250666  0.0258971  -0.09076209 -0.01054101\n",
      " -0.13281351  0.12841578  0.05979355 -0.08383631  0.04353929 -0.05672742\n",
      "  0.3494308  -0.01760233  0.06955446 -0.12054651 -0.09985574 -0.08627519\n",
      "  0.10751615  0.15731916 -0.0188731   0.02037487]\n",
      "[-1.5395687 -1.679076  -2.4225233 -2.287031  -2.0890222 -1.6922183\n",
      " -1.6806232 -1.7970201 -1.5623672 -2.6496136 -2.2923605 -1.6205469\n",
      " -1.6470928 -2.8438404 -2.0351062 -2.6056476 -1.6001306 -1.6352911\n",
      " -2.623521  -2.697127  -2.2175028 -1.6026474 -2.5167584 -2.3857934\n",
      " -2.978801  -3.0038645 -1.9167111 -2.7409766 -2.1033382 -1.6849086\n",
      " -2.6859972 -3.005523  -1.6358037 -2.9957051 -2.8955579 -2.7425091\n",
      " -1.5965282 -1.6526883 -1.7323056 -2.1714103 -2.4516602 -2.4503124\n",
      " -1.6444237 -2.477299  -2.3456995 -1.8361958 -1.5570322 -3.183096\n",
      " -2.6089642 -2.8136454 -1.6096847 -2.684631  -1.7779611 -2.8070574\n",
      " -2.820663  -2.9047785 -1.52951   -2.3572474 -2.2942634 -2.684908\n",
      " -2.5806787 -2.4827063 -1.6898069 -3.0971699 -2.9350522 -2.4080606\n",
      " -1.7601033 -1.7451905 -1.8151243 -1.5552616 -2.0779803 -1.5806237\n",
      " -2.3696115 -2.7440794 -2.791672  -1.9862206 -2.7978163 -1.5554761\n",
      " -2.372344  -3.0521476 -2.2541726 -2.1156228 -1.8790932 -1.649963\n",
      " -1.6915174 -2.885285  -2.623176  -3.032049  -2.2456877 -1.597166\n",
      " -2.6481345 -3.0007796 -2.6801238 -1.547658  -1.6404612 -2.7563915\n",
      " -2.688816  -2.2658103 -1.626001  -2.5448875]\n",
      "[ 0.709865    0.21695489  0.11022484 -0.04313548 -0.06762532 -0.15637094\n",
      "  0.84230185  0.67092127 -0.3021171   0.15506391 -0.17204368  0.14680609\n",
      "  0.09804754  0.158524    0.12155749 -0.07706088  0.5458815   0.13300677\n",
      "  0.14804593  0.00786491  0.01216801  0.75541794 -0.09862299 -0.04227613\n",
      "  0.02224818  0.31468683 -0.21625172  0.21346287  0.17600557  0.11334952\n",
      " -0.11523072  0.0013684  -0.14381641  0.10643607 -0.04520922  0.0548237\n",
      "  0.0047144   0.64823776  0.24279577  0.02893491 -0.03413583 -0.06203577\n",
      "  0.34538537  0.19992797 -0.10559213 -0.1116957  -0.31259435 -0.08663592\n",
      " -0.08374491  0.02559102  0.56072086 -0.06447369 -0.14061199 -0.08102293\n",
      "  0.00862705 -0.00105317  0.1188157   0.11801775  0.27930897 -0.01036781\n",
      "  0.10171867  0.06544361  0.15147744 -0.12802614  0.06862314 -0.1429666\n",
      "  0.03602725  0.68183684  0.10933608  0.03164809 -0.08508032  0.36556438\n",
      " -0.14656766  0.07491603  0.32177323 -0.0543367  -0.07204723 -0.06160626\n",
      "  0.00585236 -0.17130727 -0.08188196 -0.12688808  0.07457081  0.03106629\n",
      "  0.40417415 -0.02237999  0.07069784 -0.04224098  0.10423481 -0.17456862\n",
      "  0.02602771 -0.0903219  -0.01492826  0.49049395  0.6347946   0.03324328\n",
      "  0.06195    -0.04739397  0.7368614   0.20783043]\n",
      "[ 0.70984316  0.21682745  0.11023166 -0.04313098 -0.06754289 -0.15636243\n",
      "  0.84230494  0.67092127 -0.30210254  0.1550639  -0.17201655  0.14715715\n",
      "  0.09792016  0.15852629  0.12154958 -0.07705727  0.5458796   0.13292034\n",
      "  0.14805956  0.0078062   0.01215604  0.7552349  -0.09861876 -0.04226699\n",
      "  0.02225742  0.31448326 -0.21625687  0.21346512  0.17600346  0.11335258\n",
      " -0.11522124  0.00131764 -0.14379928  0.10643368 -0.04517682  0.05482034\n",
      "  0.00477671  0.6481299   0.2427547   0.02897223 -0.03417375 -0.06194927\n",
      "  0.34491     0.19991441 -0.1055759  -0.11174985 -0.3126128  -0.08667057\n",
      " -0.08376517  0.02559866  0.56069994 -0.06448404 -0.14054705 -0.08101371\n",
      "  0.00862752 -0.00106626  0.11881185  0.11805115  0.27941078 -0.01037478\n",
      "  0.10171022  0.06532679  0.1516708  -0.12801223  0.06862051 -0.14295533\n",
      "  0.03619032  0.6818465   0.1093661   0.03145737 -0.08515339  0.3655204\n",
      " -0.1466214   0.07496723  0.3220201  -0.05424859 -0.072049   -0.06150245\n",
      "  0.00585856 -0.17130065 -0.08179186 -0.12684138  0.07457456  0.03129437\n",
      "  0.40403083 -0.02241327  0.07070159 -0.04234799  0.10425051 -0.17462738\n",
      "  0.02607637 -0.09024549 -0.01493184  0.49051756  0.6348597   0.03324376\n",
      "  0.06195682 -0.04739346  0.73678976  0.2078989 ]\n",
      "[-5.1951637 -5.195361  -5.197079  -5.1954656 -5.195302  -5.195725\n",
      " -5.1978083 -5.1969953 -5.1959863 -5.206609  -5.201729  -5.1955132\n",
      " -5.1971736 -5.199288  -5.195208  -5.1971335 -5.1952457 -5.1952057\n",
      " -5.19589   -5.195496  -5.195604  -5.195925  -5.1959558 -5.196439\n",
      " -5.195271  -5.2561164 -5.2082953 -5.195381  -5.195389  -5.1957254\n",
      " -5.196521  -5.195206  -5.1956377 -5.196054  -5.195922  -5.195312\n",
      " -5.1952147 -5.195103  -5.195146  -5.195191  -5.1952057 -5.1951513\n",
      " -5.198559  -5.196026  -5.1956606 -5.1955214 -5.1965294 -5.1956224\n",
      " -5.198102  -5.1952186 -5.1952014 -5.195269  -5.200169  -5.1953554\n",
      " -5.1952567 -5.1953764 -5.195085  -5.1962395 -5.198298  -5.195264\n",
      " -5.197292  -5.1952343 -5.1953635 -5.1971426 -5.1964083 -5.196969\n",
      " -5.195258  -5.201317  -5.196815  -5.1973085 -5.1967125 -5.2046733\n",
      " -5.1958036 -5.195355  -5.2325974 -5.195221  -5.1953387 -5.1995506\n",
      " -5.1952453 -5.2002487 -5.1951547 -5.1981616 -5.195234  -5.195223\n",
      " -5.195201  -5.195854  -5.1965513 -5.195851  -5.1955676 -5.1951604\n",
      " -5.1955285 -5.195621  -5.1954927 -5.199038  -5.1955814 -5.195175\n",
      " -5.19528   -5.195852  -5.1956377 -5.1954947]\n",
      "[ 0.22971778  0.01023164 -0.23707423 -0.10701089  0.03389055 -0.13919641\n",
      "  0.54087967  0.42613196 -0.11727146  0.01647899  0.08071799 -0.05298075\n",
      "  0.06614889 -0.06123732  0.12393302 -0.03989625  0.13812688  0.03148105\n",
      "  0.0859436  -0.03406533  0.0783804   0.33563074 -0.06595419 -0.08977389\n",
      " -0.04752979  0.2943806   0.0071545  -0.0032256   0.07390727 -0.08593521\n",
      " -0.02246128 -0.05376969 -0.14101323 -0.04708591 -0.11067199 -0.10782477\n",
      "  0.10738891  0.38043824  0.20396021 -0.02535528 -0.15628119  0.02004335\n",
      " -0.01940762  0.08213501  0.13776775 -0.07076162 -0.09198131 -0.10352858\n",
      " -0.05819769  0.05334961  0.25197268 -0.04332631 -0.01446108  0.01590349\n",
      " -0.11134437 -0.13110852  0.05177517 -0.08841788  0.20724072 -0.12834558\n",
      " -0.01307231 -0.13406953  0.16838807 -0.03520938  0.05511095 -0.07788929\n",
      "  0.15820226  0.41856185  0.05347203 -0.04122083  0.20235915 -0.03856174\n",
      "  0.0270611  -0.02086885  0.19977492  0.11888724  0.05699325  0.04409412\n",
      "  0.1912406   0.05658527 -0.14306785 -0.08589117  0.01864323 -0.01490932\n",
      "  0.12283646 -0.04789368  0.10278816  0.03631498  0.11576326 -0.0565097\n",
      "  0.01670571  0.05657585 -0.04325718  0.2065198   0.3439211   0.21691413\n",
      " -0.11039232 -0.15379342  0.22990634  0.16071579]\n",
      "[-1.4896846 -1.6145473 -1.865813  -1.745031  -2.554953  -1.6496165\n",
      " -1.4630806 -1.865763  -1.545582  -2.2012239 -1.5963937 -1.5427754\n",
      " -1.5774338 -2.1095893 -1.7191342 -1.7731155 -1.6717528 -1.7028435\n",
      " -1.6995023 -1.7428279 -1.7196503 -1.5880314 -1.6105212 -2.5217464\n",
      " -1.603291  -2.0588071 -1.6176611 -1.6187761 -1.5401139 -1.6379043\n",
      " -1.7080866 -2.322789  -1.6666145 -1.6894051 -2.1552577 -1.7660177\n",
      " -1.5823374 -1.6699389 -1.5389771 -1.6832517 -1.7136414 -1.6827022\n",
      " -1.6202583 -1.4982178 -1.6121567 -1.575621  -1.5434881 -1.6856217\n",
      " -1.5408368 -1.6696104 -1.5347301 -1.6676118 -1.6700649 -2.0248635\n",
      " -2.4484236 -2.1427796 -1.4824599 -2.4602919 -1.9530916 -2.5606976\n",
      " -1.9231888 -1.7001733 -1.4938008 -2.26901   -1.8835456 -1.543836\n",
      " -1.5915906 -1.6658807 -1.7166758 -1.5890908 -1.6258839 -1.6006771\n",
      " -1.5094527 -1.7609174 -2.2525556 -1.5339022 -2.179727  -1.5604979\n",
      " -1.6058854 -1.9651748 -1.696912  -1.7476704 -1.4760263 -1.6002644\n",
      " -1.5843364 -2.259051  -2.2925112 -1.5611316 -1.8758291 -1.5335848\n",
      " -2.3909938 -1.9149592 -1.7858415 -1.6861343 -1.550061  -1.6494241\n",
      " -1.7371125 -1.9173495 -1.6226751 -1.7194537]\n",
      "[ 0.2297134   0.01023405 -0.23707424 -0.10701086  0.03389047 -0.13919641\n",
      "  0.54082644  0.426132   -0.11727563  0.01647901  0.08071801 -0.05291375\n",
      "  0.06618269 -0.06124125  0.1238722  -0.03998699  0.13812688  0.03148102\n",
      "  0.08594368 -0.03406442  0.07838039  0.3355447  -0.06595429 -0.08980403\n",
      " -0.04752629  0.29438066  0.0071545  -0.00322569  0.07390726 -0.08593521\n",
      " -0.02246113 -0.05377602 -0.14101323 -0.04708585 -0.11067203 -0.10782477\n",
      "  0.10738882  0.3804727   0.20387319 -0.02535544 -0.15628123  0.02003439\n",
      " -0.01945837  0.08213226  0.1377719  -0.07076159 -0.09198147 -0.10352856\n",
      " -0.0581967   0.05334963  0.2521413  -0.04332633 -0.01446108  0.0159024\n",
      " -0.1113444  -0.13110852  0.05195548 -0.08841685  0.20724072 -0.12834558\n",
      " -0.01306251 -0.13406956  0.16838793 -0.03520946  0.05511095 -0.07788516\n",
      "  0.15823446  0.4185619   0.05347203 -0.04121895  0.20235811 -0.03856358\n",
      "  0.02706412 -0.0208685   0.1997749   0.11888722  0.05699322  0.04407821\n",
      "  0.1912406   0.05658527 -0.14306761 -0.08588059  0.01864974 -0.01490934\n",
      "  0.12283681 -0.04788578  0.10278817  0.03631553  0.1157662  -0.05636794\n",
      "  0.01670681  0.05657585 -0.04325718  0.20651853  0.34385464  0.2169193\n",
      " -0.11039229 -0.15379344  0.22990634  0.16071579]\n",
      "[-1.4887431 -1.6144971 -1.865809  -1.745027  -2.5549414 -1.6496127\n",
      " -1.4628311 -1.8657588 -1.5455902 -2.2012138 -1.5963824 -1.5418974\n",
      " -1.5766146 -2.10958   -1.7191304 -1.7731116 -1.6717491 -1.7028469\n",
      " -1.699499  -1.7428734 -1.7196482 -1.5873569 -1.6105231 -2.5217345\n",
      " -1.603291  -2.0587983 -1.6176575 -1.6187729 -1.5401103 -1.6379005\n",
      " -1.7080827 -2.322779  -1.6666111 -1.6894046 -2.1552482 -1.7660136\n",
      " -1.5822847 -1.6696873 -1.5387528 -1.6832479 -1.7136376 -1.6824753\n",
      " -1.6197392 -1.498191  -1.6121572 -1.5756172 -1.5434655 -1.685618\n",
      " -1.5408541 -1.6696063 -1.534464  -1.667608  -1.6700469 -2.0248544\n",
      " -2.4484124 -2.14277   -1.4808382 -2.4602807 -1.9530872 -2.5606854\n",
      " -1.9231845 -1.7001694 -1.4937814 -2.2690022 -1.8835411 -1.5438529\n",
      " -1.59121   -1.6658772 -1.7166717 -1.5890211 -1.6258206 -1.6006393\n",
      " -1.5093852 -1.7609135 -2.2525456 -1.5338985 -2.1797173 -1.5600429\n",
      " -1.6058819 -1.9651703 -1.6967933 -1.7474597 -1.4759812 -1.6002622\n",
      " -1.5843093 -2.2590406 -2.2925012 -1.5610259 -1.8757282 -1.5328639\n",
      " -2.3909829 -1.9149569 -1.7858374 -1.6859326 -1.5495995 -1.6495072\n",
      " -1.7371087 -1.9173452 -1.6226714 -1.7194499]\n",
      "0.050871152\n",
      "0.050867345\n",
      "-5.1952586\n",
      "[ 0.19819303  0.2023539   0.109105    0.04604961  0.01077338  0.03707226\n",
      "  0.18360664  0.23330286  0.0817855  -0.00813536 -0.03567537  0.20788851\n",
      "  0.07329817  0.0700625   0.24412127  0.01875614  0.2915726   0.10066076\n",
      "  0.2630702  -0.07455839  0.09157389  0.10943241  0.01996503  0.14723954\n",
      " -0.08824713  0.0218997   0.02909282  0.33617997  0.21433915  0.134968\n",
      "  0.03106221 -0.03548374  0.04420467  0.1537049   0.00515075 -0.00595252\n",
      "  0.00133852  0.08686125  0.02519137  0.07877713  0.03865162 -0.08746094\n",
      "  0.19415392  0.18466695 -0.09369325  0.05293715  0.02268342  0.05225646\n",
      "  0.31765887  0.10483886  0.106286    0.00316459 -0.02443549 -0.05513283\n",
      "  0.11320668 -0.00957735 -0.06445286  0.11469024  0.11580454  0.05941792\n",
      " -0.03852323  0.16982634  0.03367823 -0.22106479  0.06937429 -0.1186427\n",
      "  0.0163649   0.1959572   0.07673728  0.13986322  0.061487    0.30212054\n",
      " -0.10919808  0.18763813  0.15421678 -0.05829423 -0.05583791  0.1085617\n",
      " -0.00595973 -0.18253805 -0.02988013  0.05763358  0.13141787  0.03443684\n",
      "  0.3237532   0.09638903  0.00952785  0.12486607 -0.02909103 -0.10230169\n",
      "  0.05914716 -0.10348989  0.11853724  0.24143717  0.1552496   0.24302895\n",
      "  0.17799199  0.067625    0.249507    0.14657857]\n",
      "[-1.6023448 -1.6137893 -3.0321975 -1.6228637 -2.7320907 -1.6708199\n",
      " -1.6520636 -2.588903  -1.5920495 -2.8406038 -1.625816  -1.5822799\n",
      " -1.539171  -2.8790286 -1.9920619 -2.8258493 -1.622841  -1.8796746\n",
      " -1.771085  -2.7350328 -2.3171935 -1.5600584 -2.8877852 -3.0993276\n",
      " -2.906963  -2.8855038 -2.4514534 -1.7075075 -2.1461704 -2.3967571\n",
      " -2.9486694 -2.8966572 -1.6638396 -1.9168247 -2.3095603 -2.8497543\n",
      " -1.505753  -2.0901644 -2.181311  -2.9775126 -2.8067646 -2.521869\n",
      " -1.6384665 -1.6026431 -1.583979  -2.039854  -1.627954  -3.0808816\n",
      " -1.5470003 -2.2264364 -1.5724365 -2.57382   -2.0100253 -2.89085\n",
      " -2.900213  -2.7843924 -1.6500425 -3.0948155 -1.650882  -3.000668\n",
      " -2.0561583 -2.656186  -1.5747638 -2.4429653 -2.7629545 -1.7986318\n",
      " -1.628927  -1.695862  -1.7976003 -1.573722  -1.9098079 -1.5936301\n",
      " -1.8927286 -2.7964935 -2.9772496 -3.0518136 -2.8842902 -1.5379419\n",
      " -2.1565485 -2.6838312 -2.364177  -1.9195765 -1.6856254 -1.5432155\n",
      " -1.5620755 -2.7762263 -3.1401665 -1.7459319 -2.7288773 -1.539538\n",
      " -3.040097  -2.6582556 -2.5498102 -1.5468655 -1.5665314 -1.5209779\n",
      " -2.7541578 -2.8737056 -1.739346  -1.6057885]\n",
      "[ 0.1981972   0.20235343  0.10910537  0.04604962  0.01077096  0.03707227\n",
      "  0.18365577  0.23330286  0.08178642 -0.00816032 -0.03567544  0.20792434\n",
      "  0.07343649  0.0700625   0.24412127  0.01875617  0.2915726   0.10066078\n",
      "  0.26307023 -0.07455825  0.091585    0.10947727  0.01996418  0.14723954\n",
      " -0.08824731  0.02190173  0.02909263  0.33618     0.21433915  0.134968\n",
      "  0.03106187 -0.03548373  0.04420466  0.15370488  0.00514955 -0.00595248\n",
      "  0.00133895  0.08684912  0.02518582  0.07877713  0.03865156 -0.08745911\n",
      "  0.19415915  0.18466735 -0.09369306  0.05295036  0.02268362  0.0522553\n",
      "  0.31766078  0.10483886  0.10628846  0.00312244 -0.02443548 -0.05513268\n",
      "  0.11320928 -0.00957791 -0.0644917   0.11469026  0.11580453  0.05941791\n",
      " -0.03852324  0.16982634  0.03367794 -0.22106478  0.06937429 -0.11865382\n",
      "  0.01636433  0.1959572   0.07673728  0.1398636   0.06148808  0.30212122\n",
      " -0.1091984   0.18763813  0.15421678 -0.05829457 -0.05583827  0.10856172\n",
      " -0.00595973 -0.18253805 -0.02988066  0.05764115  0.13141923  0.03443683\n",
      "  0.323754    0.09638821  0.00952845  0.12486689 -0.02909229 -0.10226318\n",
      "  0.05914713 -0.10348991  0.11853699  0.24143709  0.15525863  0.24303095\n",
      "  0.17799196  0.067625    0.24950692  0.14657857]\n",
      "[-1.6021762 -1.6137857 -3.0321786 -1.6228597 -2.7320774 -1.6708165\n",
      " -1.6519415 -2.5888908 -1.5920111 -2.8405902 -1.6258135 -1.5825075\n",
      " -1.5388331 -2.8790147 -1.9920572 -2.8258355 -1.6228371 -1.8796705\n",
      " -1.771081  -2.7350192 -2.317183  -1.5595526 -2.8877745 -3.0993137\n",
      " -2.9069488 -2.88549   -2.4514422 -1.7075038 -2.1461608 -2.3967462\n",
      " -2.948656  -2.8966436 -1.6638358 -1.9168205 -2.3095498 -2.8497407\n",
      " -1.5057364 -2.090275  -2.18128   -2.9774988 -2.806751  -2.5219028\n",
      " -1.6382134 -1.6026472 -1.5839484 -2.039845  -1.6279515 -3.0808678\n",
      " -1.5469729 -2.2264264 -1.5720018 -2.5738082 -2.0100162 -2.8908365\n",
      " -2.900199  -2.7843788 -1.6480582 -3.094802  -1.6508782 -3.0006542\n",
      " -2.0561492 -2.6561735 -1.5747637 -2.4429743 -2.7629411 -1.798457\n",
      " -1.62906   -1.6958584 -1.7975965 -1.5737256 -1.9098095 -1.5936245\n",
      " -1.8927381 -2.79648   -2.977236  -3.0518    -2.8842764 -1.5379338\n",
      " -2.156539  -2.6838183 -2.3641632 -1.9197658 -1.6856258 -1.5432122\n",
      " -1.5620718 -2.7762146 -3.1401422 -1.7459775 -2.728897  -1.5393819\n",
      " -3.0400832 -2.6582432 -2.5497987 -1.5467896 -1.5661925 -1.5209677\n",
      " -2.7541432 -2.873692  -1.7393421 -1.6057845]\n",
      "-0.08993176\n",
      "-0.08987523\n",
      "-5.1991096\n"
     ]
    }
   ],
   "source": [
    "\n",
    "# Build model.\n",
    "input = tf.keras.layers.Input(1)\n",
    "h1 = tfp.layers.DenseFlipout(100,activation=tf.keras.activations.relu,kernel_prior_fn=prior,bias_prior_fn=prior,kernel_divergence_fn=kl_div,bias_divergence_fn=kl_div)(input)\n",
    "m = tfp.layers.DenseFlipout(1,kernel_prior_fn=prior,bias_prior_fn=prior,kernel_divergence_fn=kl_div,bias_divergence_fn=kl_div)(h1)\n",
    "s = tfp.layers.DenseFlipout(1,activation=tf.keras.activations.softplus,kernel_prior_fn=prior,bias_prior_fn=prior,kernel_divergence_fn=kl_div,bias_divergence_fn=kl_div)(h1)\n",
    "p = tfp.layers.DistributionLambda(lambda t: tfd.Normal(loc=t[0], scale=t[1]))([m,s])\n",
    "model = tf.keras.Model(inputs=input, outputs=p)\n",
    "\n",
    "# Do inference.\n",
    "model.compile(optimizer=tf.optimizers.Adam(learning_rate=0.001), loss=expectednegloglik)\n",
    "model.fit(x, y, epochs=1000, verbose=False);\n",
    "\n",
    "# Profit.\n",
    "[print(np.squeeze(w.numpy())) for w in model.weights];\n",
    "yhat = model(x_tst)\n",
    "assert isinstance(yhat, tfd.Distribution)"
   ]
  },
  {
   "cell_type": "code",
   "execution_count": 44,
   "metadata": {
    "colab": {
     "base_uri": "https://localhost:8080/",
     "height": 166
    },
    "id": "dItEnkyddM05",
    "outputId": "cff96b52-f356-4195-f713-e494537ce8c7"
   },
   "outputs": [
    {
     "data": {
      "image/png": "[encoded data removed]",
      "text/plain": [
       "<Figure size 432x108 with 1 Axes>"
      ]
     },
     "metadata": {
      "needs_background": "light"
     },
     "output_type": "display_data"
    }
   ],
   "source": [
    "plt.figure(figsize=[6, 1.5])  # inches\n",
    "plt.plot(x, y, 'b.', label='observed');\n",
    "\n",
    "yhats = [model(x_tst) for _ in range(100)]\n",
    "avgm = np.zeros_like(x_tst[..., 0])\n",
    "ms = []\n",
    "ss = []\n",
    "for i, yhat in enumerate(yhats):\n",
    "  m = np.squeeze(yhat.mean())\n",
    "  s = np.squeeze(yhat.stddev())\n",
    "  if i < 15:\n",
    "    plt.plot(x_tst, m, 'r', label='ensemble means' if i == 0 else None, linewidth=1.)\n",
    "    plt.plot(x_tst, m + 2 * s, 'g', linewidth=0.5, label='ensemble means + 2 ensemble stdev' if i == 0 else None);\n",
    "    plt.plot(x_tst, m - 2 * s, 'g', linewidth=0.5, label='ensemble means - 2 ensemble stdev' if i == 0 else None);\n",
    "  ms += [m]\n",
    "  ss += [s]\n",
    "ms = np.array(ms)\n",
    "avgm = ms.mean(axis=0)\n",
    "ss = np.array(ss)\n",
    "avgs = np.sqrt((ms**2+ss**2).mean(axis=0)-avgm**2)\n",
    "plt.plot(x_tst, avgm, 'r', label='overall mean', linewidth=4)\n",
    "plt.plot(x_tst, avgm + 2 * avgs, 'g', linewidth=4, label='overall mean + 2 overall stdev');\n",
    "plt.plot(x_tst, avgm - 2 * avgs, 'g', linewidth=4, label='overall means - 2 overall stdev');\n",
    "\n",
    "plt.ylim(-20,50);\n",
    "plt.yticks(np.linspace(-20, 50, 4)[1:]);\n",
    "plt.xticks(np.linspace(*x_range, num=9));\n",
    "\n",
    "ax=plt.gca();\n",
    "ax.xaxis.set_ticks_position('bottom')\n",
    "ax.yaxis.set_ticks_position('left')\n",
    "ax.spines['left'].set_position(('data', 0))\n",
    "ax.spines['top'].set_visible(False)\n",
    "ax.spines['right'].set_visible(False)\n",
    "#ax.spines['left'].set_smart_bounds(True)\n",
    "#ax.spines['bottom'].set_smart_bounds(True)\n",
    "plt.legend(loc='center left', fancybox=True, framealpha=0., bbox_to_anchor=(1.05, 0.5))\n",
    "\n",
    "plt.savefig('/tmp/fig4.png', bbox_inches='tight', dpi=300)"
   ]
  },
  {
   "cell_type": "code",
   "execution_count": 45,
   "metadata": {
    "id": "ANtDqbiZgoFP"
   },
   "outputs": [],
   "source": [
    "# Copyright 2015 The TensorFlow Authors. All Rights Reserved.\n",
    "#\n",
    "# Licensed under the Apache License, Version 2.0 (the \"License\");\n",
    "# you may not use this file except in compliance with the License.\n",
    "# You may obtain a copy of the License at\n",
    "#\n",
    "#     http://www.apache.org/licenses/LICENSE-2.0\n",
    "#\n",
    "# Unless required by applicable law or agreed to in writing, software\n",
    "# distributed under the License is distributed on an \"AS IS\" BASIS,\n",
    "# WITHOUT WARRANTIES OR CONDITIONS OF ANY KIND, either express or implied.\n",
    "# See the License for the specific language governing permissions and\n",
    "# limitations under the License.\n",
    "# ==============================================================================\n",
    "\"\"\"Contains the MCDropout layer.\"\"\"\n",
    "\n",
    "\n",
    "import tensorflow.compat.v2 as tf\n",
    "\n",
    "from keras import backend\n",
    "from keras.engine import base_layer\n",
    "from keras.utils import control_flow_util\n",
    "\n",
    "# isort: off\n",
    "from tensorflow.python.util.tf_export import keras_export\n",
    "\n",
    "\n",
    "#@keras_export(\"keras.layers.Dropout\")\n",
    "class MCDropout(base_layer.BaseRandomLayer):\n",
    "    \"\"\"Applies MCDropout to the input.\n",
    "\n",
    "    The MCDropout layer randomly sets input units to 0 with a frequency of `rate`\n",
    "    at each step, which helps prevent overfitting.\n",
    "    Inputs not set to 0 are scaled up by 1/(1 - rate) such that the sum over\n",
    "    all inputs is unchanged.\n",
    "\n",
    "    >>> tf.random.set_seed(0)\n",
    "    >>> layer = tf.keras.layers.Dropout(.2, input_shape=(2,))\n",
    "    >>> data = np.arange(10).reshape(5, 2).astype(np.float32)\n",
    "    >>> print(data)\n",
    "    [[0. 1.]\n",
    "     [2. 3.]\n",
    "     [4. 5.]\n",
    "     [6. 7.]\n",
    "     [8. 9.]]\n",
    "    >>> outputs = layer(data)\n",
    "    >>> print(outputs)\n",
    "    tf.Tensor(\n",
    "    [[ 0.    1.25]\n",
    "     [ 2.5   3.75]\n",
    "     [ 5.    6.25]\n",
    "     [ 7.5   8.75]\n",
    "     [10.    0.  ]], shape=(5, 2), dtype=float32)\n",
    "\n",
    "    Args:\n",
    "      rate: Float between 0 and 1. Fraction of the input units to drop.\n",
    "      noise_shape: 1D integer tensor representing the shape of the\n",
    "        binary dropout mask that will be multiplied with the input.\n",
    "        For instance, if your inputs have shape\n",
    "        `(batch_size, timesteps, features)` and\n",
    "        you want the dropout mask to be the same for all timesteps,\n",
    "        you can use `noise_shape=(batch_size, 1, features)`.\n",
    "      seed: A Python integer to use as random seed.\n",
    "\n",
    "    Call arguments:\n",
    "      inputs: Input tensor (of any rank).\n",
    "    \"\"\"\n",
    "\n",
    "    def __init__(self, rate=0.30, noise_shape=None, seed=None, **kwargs):\n",
    "        super().__init__(seed=seed, **kwargs)\n",
    "        if isinstance(rate, (int, float)) and not 0 <= rate <= 1:\n",
    "            raise ValueError(\n",
    "                f\"Invalid value {rate} received for \"\n",
    "                f\"`rate`, expected a value between 0 and 1.\"\n",
    "            )\n",
    "        self.rate = rate\n",
    "        self.noise_shape = noise_shape\n",
    "        self.seed = seed\n",
    "        self.supports_masking = True\n",
    "\n",
    "    def _get_noise_shape(self, inputs):\n",
    "        # Subclasses of `Dropout` may implement `_get_noise_shape(self,\n",
    "        # inputs)`, which will override `self.noise_shape`, and allows for\n",
    "        # custom noise shapes with dynamically sized inputs.\n",
    "        if self.noise_shape is None:\n",
    "            return None\n",
    "\n",
    "        concrete_inputs_shape = tf.shape(inputs)\n",
    "        noise_shape = []\n",
    "        for i, value in enumerate(self.noise_shape):\n",
    "            noise_shape.append(\n",
    "                concrete_inputs_shape[i] if value is None else value\n",
    "            )\n",
    "        return tf.convert_to_tensor(noise_shape)\n",
    "\n",
    "    def call(self, inputs, training=None):\n",
    "\n",
    "        output = self._random_generator.dropout(\n",
    "                inputs, self.rate, noise_shape=self._get_noise_shape(inputs))\n",
    "        \n",
    "        return output\n",
    "\n",
    "    def compute_output_shape(self, input_shape):\n",
    "        return input_shape\n",
    "\n",
    "    def get_config(self):\n",
    "        config = {\n",
    "            \"rate\": self.rate,\n",
    "            \"noise_shape\": self.noise_shape,\n",
    "            \"seed\": self.seed,\n",
    "        }\n",
    "        base_config = super().get_config()\n",
    "        return dict(list(base_config.items()) + list(config.items()))"
   ]
  },
  {
   "cell_type": "code",
   "execution_count": 46,
   "metadata": {
    "colab": {
     "base_uri": "https://localhost:8080/"
    },
    "id": "NVX1Poq2F4H0",
    "outputId": "b54fba06-8652-4f92-ecf8-e2a4d5d7db66"
   },
   "outputs": [
    {
     "name": "stdout",
     "output_type": "stream",
     "text": [
      "[ 1.97749538e-03  6.81250170e-02 -1.61212198e-02  2.88564097e-02\n",
      "  8.02631006e-02  1.83506384e-02  7.52869546e-02 -1.15760505e-01\n",
      "  7.46953413e-02  2.65024919e-02  8.15933347e-02 -9.41173211e-02\n",
      "  1.15173325e-01 -2.72549465e-02  4.01243232e-02 -8.97983462e-02\n",
      " -1.33450747e-01 -4.27827612e-02 -9.58557427e-03  1.63152050e-02\n",
      "  7.78909102e-02  9.62795615e-02 -3.70616168e-02  1.01808151e-02\n",
      "  3.38760987e-02 -2.63441987e-02 -2.32068524e-02  1.06846832e-01\n",
      "  6.76419511e-02 -4.81196605e-02 -7.87172765e-02 -1.71400532e-02\n",
      "  6.39521703e-02 -1.11008920e-01 -3.23066972e-02  2.46632099e-02\n",
      " -5.05886599e-03  2.36345660e-02  1.10212332e-02  8.57956633e-02\n",
      " -9.84995514e-02 -5.33811413e-02  5.22010960e-03  2.49472745e-02\n",
      " -1.38646796e-01 -3.00937910e-02  1.84067711e-02  1.38522714e-01\n",
      " -5.47501110e-02 -4.17618006e-02 -5.42822666e-03  1.04934059e-01\n",
      " -1.84385218e-02  5.73391281e-02  1.04350902e-01 -6.07081540e-02\n",
      " -5.49566709e-02  4.34463397e-02 -6.67399541e-02  8.24969858e-02\n",
      "  1.51604146e-01 -5.74865304e-02 -7.15139359e-02  4.42391075e-02\n",
      " -1.25601918e-01  1.16415985e-01  1.07082605e-01 -1.74311455e-02\n",
      " -4.82845865e-02  6.00994229e-02 -8.70822817e-02 -1.25091344e-01\n",
      "  1.41674764e-02  6.81258589e-02  1.13456128e-02  2.50358675e-02\n",
      " -2.46206112e-02  4.58719805e-02  7.47636380e-03 -5.13805561e-02\n",
      " -9.71867144e-02 -7.31307119e-02 -6.37943149e-02 -1.04600027e-01\n",
      "  8.50184783e-02 -4.39687259e-02 -9.48306359e-03  4.15749475e-02\n",
      " -5.07982560e-02  1.03141584e-01 -4.54591922e-02  2.95607187e-02\n",
      " -9.28353742e-02 -1.27841241e-03  1.48859039e-01 -9.34212357e-02\n",
      "  1.72186568e-02  8.99283141e-02  4.64458540e-02 -7.73579776e-02\n",
      "  7.27790296e-02 -8.59156251e-02 -5.23247868e-02 -1.52485142e-03\n",
      " -5.53273670e-02 -9.31243524e-02 -1.20588969e-02  5.59277982e-02\n",
      " -9.06981006e-02 -6.07587304e-03 -1.14604449e-02  2.48774588e-02\n",
      "  4.35047187e-02  2.69572227e-03  9.23622474e-02  4.72531654e-02\n",
      " -5.24433516e-02  1.32920206e-01  3.96305807e-02 -1.87832601e-02\n",
      "  8.72498825e-02  5.91388904e-03  3.11989151e-02  1.10547822e-02\n",
      " -6.37478679e-02  1.30081937e-01  5.77577092e-02 -4.23857011e-03\n",
      " -1.06610224e-01  9.39484313e-02 -3.58164832e-02  1.12751149e-01\n",
      " -2.13189446e-03 -9.47794120e-04  8.32267106e-03  2.25980859e-02\n",
      "  7.09568411e-02  1.04472831e-01  9.22171995e-02 -1.16130874e-01\n",
      "  9.35830455e-03  4.87792753e-02 -1.43301785e-02 -1.88298970e-02\n",
      "  5.11286967e-03  9.80504602e-02  7.56062660e-03 -5.10188788e-02\n",
      " -2.09069960e-02  9.32874978e-02 -8.53683278e-02 -2.93871984e-02\n",
      " -2.04043966e-02 -9.95368063e-02 -6.68946803e-02  1.01603083e-01\n",
      "  8.68920833e-02 -1.83735024e-02 -6.82367310e-02 -1.44181689e-02\n",
      "  7.84666166e-02  1.96167454e-03 -1.22249955e-02 -2.40359008e-02\n",
      " -7.21774325e-02  1.32230008e-02 -1.29437819e-01  4.16683219e-02\n",
      "  7.94081315e-02 -2.38197297e-03  7.26033654e-03 -8.13177302e-02\n",
      "  5.32189224e-05 -1.09124901e-02  1.41391173e-01 -5.85253611e-02\n",
      " -9.46088508e-02  2.73234844e-02  3.77193689e-02  7.77718648e-02\n",
      " -6.04036497e-03 -9.08116028e-02 -7.83029348e-02 -7.90705308e-02\n",
      " -5.84643930e-02 -7.61594325e-02 -8.24000388e-02  2.61323210e-02\n",
      "  1.17000908e-01  4.23467793e-02 -5.80552667e-02 -8.70678481e-03\n",
      "  4.97426391e-02  2.18137950e-02  8.48110095e-02 -3.78629453e-02\n",
      "  1.06792808e-01  3.61795314e-02 -1.21322714e-01  4.45646755e-02]\n",
      "[ 4.16896313e-01 -1.32552232e-03  6.34546161e-01  3.78725976e-02\n",
      "  6.73020363e-01  7.11274296e-02 -7.81365857e-02 -2.02079400e-01\n",
      " -1.66274369e-01 -5.89488596e-02  8.77657831e-02  4.57800061e-01\n",
      " -8.18913132e-02 -3.68868895e-02  1.92985833e-02 -4.69383374e-02\n",
      "  2.38614500e-01 -9.46026668e-02  1.80670191e-02  9.51844919e-03\n",
      " -5.20274974e-02 -2.35908572e-02  1.56803131e-01  4.04305935e-01\n",
      " -2.75697298e-02 -1.50261242e-02  1.21366404e-01 -2.62798704e-02\n",
      " -6.60504848e-02 -2.61926968e-02 -1.38899520e-01 -2.35039070e-02\n",
      " -4.44088355e-02 -6.01537004e-02  8.35735351e-02  1.25758067e-01\n",
      "  1.71044469e-01  5.41062541e-02  4.64838147e-01 -2.95497105e-02\n",
      "  2.75997370e-01  1.06606454e-01  2.20078349e-01 -3.22159491e-02\n",
      " -1.33753851e-01  9.09801200e-02  8.33817348e-02 -8.98459405e-02\n",
      "  1.45681828e-01 -1.11243889e-01  1.71843067e-01 -1.52290836e-02\n",
      "  9.02956724e-02  3.11557222e-02  2.18613341e-01 -9.50154364e-02\n",
      "  4.81481217e-02  7.27029741e-02 -1.60487190e-01 -1.84203878e-01\n",
      "  7.87345767e-01 -1.97199851e-01 -9.76328254e-02  2.14911908e-01\n",
      "  1.19289920e-01 -1.79289445e-01 -3.86161692e-02  5.63742518e-01\n",
      " -1.19687609e-01  1.52684987e-01  1.14511317e-02 -1.39389172e-01\n",
      " -5.87195568e-02 -2.87576709e-02 -5.18650375e-02 -2.35606357e-02\n",
      "  1.40010133e-01  3.07129640e-02 -4.61803935e-02 -4.19721417e-02\n",
      "  8.96956101e-02 -7.36717507e-02  9.71608311e-02 -1.65554741e-03\n",
      " -4.22904119e-02 -2.27544177e-02 -2.27418896e-02 -1.49735987e-01\n",
      " -1.48407117e-01  1.25537038e-01 -3.64904925e-02 -1.09513380e-01\n",
      "  4.03917842e-02 -2.94401217e-02  9.61826220e-02  6.71091527e-02\n",
      "  6.20324135e-01 -1.09217344e-02 -2.41352729e-02 -4.87854779e-02\n",
      "  4.48466949e-02 -2.43563112e-02 -8.21538419e-02  3.66537660e-01\n",
      " -1.36281386e-01 -1.66335985e-01  3.95040780e-01 -2.31999271e-02\n",
      "  6.20456832e-03  3.26693594e-01  3.71155590e-01  4.60375920e-02\n",
      "  3.01728584e-03  1.09737195e-01 -1.05216252e-02  9.67805907e-02\n",
      " -2.78714877e-02  1.41040990e-02 -1.45529639e-02 -1.91559047e-02\n",
      " -3.43023576e-02  4.18358773e-01 -4.24509570e-02  7.48794973e-01\n",
      "  7.13068470e-02  8.11840966e-03  1.32275969e-01  1.35457426e-01\n",
      "  9.30485839e-05  1.20948896e-01  2.55595502e-02 -7.55219609e-02\n",
      "  7.21223727e-02 -2.65272781e-02  4.88247514e-01  5.20255379e-02\n",
      "  5.47321923e-02 -6.48383275e-02 -1.95094600e-01 -6.39999136e-02\n",
      "  3.85980457e-01 -2.48122402e-02  1.49341702e-01  8.37886781e-02\n",
      "  5.28042555e-01  7.99341127e-03  3.31047773e-01 -1.30791500e-01\n",
      "  1.14381433e-01 -2.46966407e-02 -4.31427062e-02 -2.69052200e-03\n",
      " -5.67407683e-02  4.40609902e-01  1.57644331e-01  3.88857536e-02\n",
      " -7.75435418e-02 -2.79633980e-02 -1.54589280e-01 -2.31326718e-04\n",
      "  4.60839182e-01 -1.28516063e-01  1.19979642e-02 -2.86304690e-02\n",
      " -3.83627862e-02 -2.87238155e-02  2.67969240e-02 -5.19382097e-02\n",
      "  8.06951746e-02 -2.49024853e-02  2.18852445e-01 -2.75084555e-01\n",
      " -1.53133608e-02  1.72843263e-02  8.57791528e-02 -1.48729369e-01\n",
      " -3.72430012e-02 -4.96731400e-02 -1.31375073e-02 -4.91261072e-02\n",
      "  4.55651194e-01 -4.95041497e-02 -1.57081351e-01 -4.43877727e-02\n",
      "  3.24142665e-01  8.97013545e-02 -8.39513019e-02 -4.95833978e-02\n",
      " -5.85945621e-02 -3.82373072e-02 -3.09843011e-02  4.94787935e-03\n",
      " -7.03020841e-02  6.00048490e-02 -6.90731257e-02  1.67926028e-01\n",
      " -3.64732854e-02 -3.70917730e-02 -1.57462820e-01 -6.93069622e-02]\n",
      "[ 6.38106644e-01  1.05372891e-02  7.40734875e-01  4.56230715e-02\n",
      "  1.64434224e-01 -2.28232909e-02 -1.20622911e-01 -4.77132276e-02\n",
      " -1.47400513e-01 -6.17436059e-02  1.95110273e-02  1.20468557e-01\n",
      " -1.03151418e-01 -4.56664042e-04  1.45006239e-01 -7.13618174e-02\n",
      "  5.74230291e-02 -1.37128904e-01 -3.58538516e-02 -4.41915356e-03\n",
      "  5.00481501e-02 -5.60828745e-02  1.18120700e-01  5.09782076e-01\n",
      "  7.58266896e-02 -3.77560332e-02  1.13103151e-01  1.40691698e-01\n",
      " -1.14070244e-01 -9.71981883e-02 -5.86510375e-02  6.76529249e-03\n",
      " -1.38722416e-02 -1.11956134e-01  1.42879248e-01  1.84812754e-01\n",
      "  3.70219499e-01  6.54327199e-02  8.88849139e-01  3.88244614e-02\n",
      "  1.14637651e-01  7.71264061e-02  2.10301116e-01 -1.28955334e-01\n",
      " -5.39354980e-02  1.78917274e-01  1.84193552e-02 -1.34120628e-01\n",
      "  1.00866586e-01 -1.13995224e-01  3.22412699e-01  1.43061373e-02\n",
      "  1.70687944e-01  8.63516182e-02  1.78709447e-01 -3.60266678e-02\n",
      "  2.57942993e-02  6.07886873e-02 -4.08979766e-02 -1.20904043e-01\n",
      "  1.98793896e-02 -1.55625671e-01 -1.22125804e-01  1.82338357e-01\n",
      "  4.54678610e-02 -1.44659296e-01  1.35362104e-01  2.48808503e-01\n",
      " -1.19031198e-01  1.00420617e-01  7.61004314e-02 -5.05365916e-02\n",
      " -3.66000161e-02 -1.08554266e-01 -5.09311110e-02  3.99385802e-02\n",
      "  1.06646977e-01  1.53419852e-01 -6.76864162e-02 -9.24518891e-03\n",
      "  7.93234259e-02 -7.20905233e-03  1.17384039e-01  2.41938643e-02\n",
      " -1.40281856e-01 -1.38024658e-01 -3.50284241e-02 -7.64136687e-02\n",
      " -6.61746338e-02  1.26113638e-01  1.10476101e-02 -5.98943867e-02\n",
      "  8.90292600e-02 -6.30252510e-02  1.00405820e-01  5.66216148e-02\n",
      "  2.02854604e-01  4.27782275e-02 -6.53226068e-03 -1.48353800e-01\n",
      "  1.11773223e-01  3.07811145e-02 -3.38220336e-02  2.14887276e-01\n",
      " -1.32394418e-01 -1.43909141e-01  2.52095550e-01 -1.11684337e-01\n",
      "  8.57284851e-03  5.55743694e-01  3.96841854e-01  8.15609396e-02\n",
      "  1.34060577e-01  1.38579980e-01  3.96456197e-02  1.67778432e-01\n",
      " -1.03048369e-01  7.10283220e-02  1.62731767e-01 -4.06076945e-02\n",
      "  9.78718847e-02  7.53458679e-01  7.21971169e-02  2.16221422e-01\n",
      "  1.00953989e-01  1.55340269e-01  2.39669338e-01  1.58818826e-01\n",
      "  8.38776398e-03  1.63278222e-01  1.16046436e-01 -8.84268507e-02\n",
      "  1.73529088e-01 -1.49967864e-01  3.01931947e-01  1.20721675e-01\n",
      "  1.58884794e-01 -3.28388587e-02 -1.18812904e-01 -6.71186224e-02\n",
      "  3.06498438e-01  1.19213358e-01  1.70791909e-01  1.63298368e-01\n",
      "  2.08232284e-01  9.86657571e-03  2.29186028e-01 -1.15753174e-01\n",
      "  1.41189635e-01  4.54085842e-02 -5.24890497e-02 -5.64216711e-02\n",
      " -6.58985898e-02  2.93559767e-02  9.70190987e-02  1.73192397e-01\n",
      " -1.17085844e-01 -4.81503084e-03 -7.60781690e-02 -5.88220432e-02\n",
      "  1.74503222e-01 -1.15388930e-01 -3.07011716e-02 -1.95238456e-01\n",
      " -1.29270911e-01  1.09805614e-01  1.08749177e-02 -2.45099086e-02\n",
      "  1.64008513e-01  1.48951277e-01  2.22080320e-01 -1.19109161e-01\n",
      " -2.75894254e-03 -1.95151884e-02  5.15880771e-02 -1.09646536e-01\n",
      "  4.10653464e-02 -4.78531048e-02  1.21377841e-01  7.05655059e-03\n",
      "  3.07629645e-01 -6.69974908e-02 -8.27091262e-02 -1.28911570e-01\n",
      "  5.02991378e-02  1.22259155e-01 -2.12782808e-02 -1.31096140e-01\n",
      " -6.78398609e-02  1.54546738e-01 -8.16731825e-02 -5.28301820e-02\n",
      " -1.11711226e-01  5.05356677e-02 -1.21180965e-02  1.14423349e-01\n",
      "  6.95405900e-02 -1.49674177e-01 -5.13243861e-02 -1.19163945e-01]\n",
      "0.20676075\n",
      "[ 0.07778951  0.07011108 -0.08497488  0.11937309 -0.0784137   0.1288473\n",
      " -0.09248387  0.025782    0.01030202 -0.04399356  0.01572563 -0.00685804\n",
      "  0.02856988  0.14199981 -0.03719376 -0.04932697  0.00835705  0.02411086\n",
      " -0.05942279 -0.0736578   0.08690953  0.06803819  0.03563749  0.0897678\n",
      " -0.03326639  0.00525733 -0.10144092 -0.03885493  0.1182341  -0.09281424\n",
      "  0.05610359  0.11871615 -0.0052746  -0.07200221  0.1089213   0.05879089\n",
      "  0.07218191  0.11947615 -0.07445098  0.10305028  0.00313647  0.04029304\n",
      "  0.02471689 -0.06143815  0.01221523  0.09107754  0.15129289 -0.04785279\n",
      "  0.03786067  0.0804887   0.08373324  0.05595293  0.09198824  0.0963228\n",
      "  0.02526181  0.06009233  0.03160663  0.08668463  0.04586212  0.0071957\n",
      " -0.1402038   0.0669111   0.01917784  0.00889319  0.01617886  0.01491893\n",
      " -0.06672467  0.00098159  0.06593517  0.00682223 -0.10399096  0.01129877\n",
      " -0.05772869  0.14161879 -0.11210067 -0.07475853 -0.09300214 -0.01755758\n",
      " -0.1015814   0.0332108   0.03256451  0.06216035  0.07292123 -0.05806204\n",
      "  0.10833726 -0.09834316  0.0876551   0.01502607  0.05268186 -0.00093585\n",
      "  0.12557903  0.01990241 -0.07381378 -0.11727839  0.0023227  -0.0430459\n",
      " -0.02522415  0.06415574 -0.14740176 -0.1078467   0.05005872  0.06206088\n",
      "  0.06826522 -0.1247424   0.10779363  0.02228104 -0.04478559  0.05554628\n",
      " -0.04213637 -0.05866222 -0.01669967  0.15667112 -0.02327572 -0.14197399\n",
      "  0.04571523  0.10096596 -0.07682233 -0.00867894  0.10631085  0.00389672\n",
      "  0.0949306   0.19492133 -0.12680922 -0.02608043  0.05343557  0.06004785\n",
      " -0.05852676  0.07289776  0.02629833  0.01321219  0.12675102 -0.05840478\n",
      "  0.12897041 -0.03148523 -0.04460117 -0.1409903   0.0710476  -0.01286349\n",
      "  0.01252276 -0.03450491 -0.01695085  0.06447735 -0.12121051  0.11479228\n",
      " -0.01114798  0.05886985  0.00225961  0.0878641   0.05662149  0.07069869\n",
      " -0.01171461 -0.0765836   0.1128484  -0.00849561  0.0360955   0.06746893\n",
      " -0.07461914  0.17967284  0.04745018 -0.13871074 -0.00806304  0.00518451\n",
      " -0.12870061  0.0199995  -0.06716595 -0.07572227  0.02558634 -0.0653083\n",
      "  0.06084199 -0.0634417   0.02749915  0.04001458 -0.0236171  -0.14327213\n",
      "  0.03232282  0.11581264  0.07980721 -0.07911418 -0.08872516  0.00840037\n",
      " -0.0806531  -0.07112961  0.0595711  -0.07213188 -0.00241647 -0.09332868\n",
      "  0.06040151  0.12096735  0.03688494 -0.1269276  -0.08151905 -0.07051359\n",
      " -0.05351533  0.04159873 -0.1239396   0.04990875 -0.01966104  0.0493625\n",
      "  0.03148519 -0.04094604]\n",
      "0.034690928\n"
     ]
    }
   ],
   "source": [
    "l2_reg = tf.keras.regularizers.l2(l2=0.0000001)\n",
    "# Build model.\n",
    "input = tf.keras.layers.Input(1)\n",
    "h1 = tf.keras.layers.Dense(200,activation=tf.keras.activations.relu,kernel_regularizer=l2_reg,bias_regularizer=l2_reg)(input)\n",
    "h1 = MCDropout(rate=0.2)(h1)\n",
    "m = tf.keras.layers.Dense(1,kernel_regularizer=l2_reg,bias_regularizer=l2_reg)(h1)\n",
    "s = tf.keras.layers.Dense(1,activation=tf.keras.activations.exponential,kernel_regularizer=l2_reg,bias_regularizer=l2_reg)(h1)\n",
    "p = tfp.layers.DistributionLambda(lambda t: tfd.Normal(loc=t[0], scale=t[1]))([m,s])\n",
    "model = tf.keras.Model(inputs=input, outputs=p)\n",
    "\n",
    "# Do inference.\n",
    "model.compile(optimizer=tf.optimizers.Adam(learning_rate=0.0005), loss=expectednegloglik)\n",
    "model.fit(x, y, epochs=1000, verbose=False);\n",
    "\n",
    "# Profit.\n",
    "[print(np.squeeze(w.numpy())) for w in model.weights];\n",
    "yhat = model(x_tst)\n",
    "assert isinstance(yhat, tfd.Distribution)"
   ]
  },
  {
   "cell_type": "code",
   "execution_count": 47,
   "metadata": {
    "colab": {
     "base_uri": "https://localhost:8080/",
     "height": 166
    },
    "id": "W_x4s1p_N5r2",
    "outputId": "3f49f829-51e0-4d51-ff04-ee4c78b7a1c9"
   },
   "outputs": [
    {
     "data": {
      "image/png": "[encoded data removed]",
      "text/plain": [
       "<Figure size 432x108 with 1 Axes>"
      ]
     },
     "metadata": {
      "needs_background": "light"
     },
     "output_type": "display_data"
    }
   ],
   "source": [
    "plt.figure(figsize=[6, 1.5])  # inches\n",
    "plt.plot(x, y, 'b.', label='observed');\n",
    "\n",
    "yhats = [model(x_tst) for _ in range(100)]\n",
    "avgm = np.zeros_like(x_tst[..., 0])\n",
    "ms = []\n",
    "ss = []\n",
    "for i, yhat in enumerate(yhats):\n",
    "  m = np.squeeze(yhat.mean())\n",
    "  s = np.squeeze(yhat.stddev())\n",
    "  if i < 15:\n",
    "    plt.plot(x_tst, m, 'r', label='ensemble means' if i == 0 else None, linewidth=1.)\n",
    "    plt.plot(x_tst, m + 2 * s, 'g', linewidth=0.5, label='ensemble means + 2 ensemble stdev' if i == 0 else None);\n",
    "    plt.plot(x_tst, m - 2 * s, 'g', linewidth=0.5, label='ensemble means - 2 ensemble stdev' if i == 0 else None);\n",
    "  ms += [m]\n",
    "  ss += [s]\n",
    "ms = np.array(ms)\n",
    "avgm = ms.mean(axis=0)\n",
    "ss = np.array(ss)\n",
    "avgs = np.sqrt((ms**2+ss**2).mean(axis=0)-avgm**2)\n",
    "plt.plot(x_tst, avgm, 'r', label='overall mean', linewidth=4)\n",
    "plt.plot(x_tst, avgm + 2 * avgs, 'g', linewidth=4, label='overall mean + 2 overall stdev');\n",
    "plt.plot(x_tst, avgm - 2 * avgs, 'g', linewidth=4, label='overall means - 2 overall stdev');\n",
    "\n",
    "plt.ylim(-50,60);\n",
    "plt.yticks(np.linspace(-50, 60, 4)[1:]);\n",
    "plt.xticks(np.linspace(*x_range, num=9));\n",
    "\n",
    "ax=plt.gca();\n",
    "ax.xaxis.set_ticks_position('bottom')\n",
    "ax.yaxis.set_ticks_position('left')\n",
    "ax.spines['left'].set_position(('data', 0))\n",
    "ax.spines['top'].set_visible(False)\n",
    "ax.spines['right'].set_visible(False)\n",
    "#ax.spines['left'].set_smart_bounds(True)\n",
    "#ax.spines['bottom'].set_smart_bounds(True)\n",
    "plt.legend(loc='center left', fancybox=True, framealpha=0., bbox_to_anchor=(1.05, 0.5))\n",
    "\n",
    "plt.savefig('/tmp/fig4.png', bbox_inches='tight', dpi=300)"
   ]
  },
  {
   "cell_type": "code",
   "execution_count": 48,
   "metadata": {
    "id": "Ys9fQ7PeZSa2"
   },
   "outputs": [],
   "source": [
    "import tensorflow as tf\n",
    "import numpy as np\n",
    "import math\n",
    "class LaplaceApproximation(tf.keras.Model):\n",
    "\n",
    "    def __init__(self,model):\n",
    "        super().__init__()\n",
    "        self.model = model\n",
    "        self.mean = None\n",
    "        self.std = None\n",
    "        self.lam = None\n",
    "\n",
    "    def fit(self,dataset,training=False):\n",
    "        \"\"\"\n",
    "        Fit the Laplace approximation for a model. Setting the mean of the Laplace approximation to the weights of the model \n",
    "            and, using the diagonal of the Fisher matrix, set the standard deviation of the Laplace approximation.\n",
    "        :param model: Model whose Fisher matrix is to be computed.\n",
    "        :param dataset: Dataset which the model has been trained on, but which will not be seen in the future. \n",
    "            Formatted as (inputs, labels).\n",
    "        :param samples: Number of samples to take from the dataset. More samples\n",
    "            gives a better approximation of the true variance.\n",
    "        \"\"\"\n",
    "        inputs, labels = dataset\n",
    "        trainable_weights = self.model.trainable_weights\n",
    "        variance = [tf.zeros_like(tensor) for tensor in trainable_weights]\n",
    "        n_epochs = 3\n",
    "        pb = tf.keras.utils.Progbar(inputs.shape[0])\n",
    "        for e in range(n_epochs):\n",
    "          for i in range(inputs.shape[0]):\n",
    "              pb.update(i)\n",
    "              index = i#np.random.randint(len(inputs))\n",
    "              # Select an element from the dataset.\n",
    "              data = inputs[index]\n",
    "              target = labels[index]\n",
    "\n",
    "              # When extracting from the array we lost a dimension so put it back.\n",
    "              data = tf.expand_dims(data, axis=0)\n",
    "\n",
    "              # Collect gradients.\n",
    "              with tf.GradientTape() as tape:\n",
    "                  output = self.model(data,training=training)\n",
    "                  log_likelihood = output.log_prob(target)\n",
    "\n",
    "              gradients = tape.gradient(log_likelihood, trainable_weights)\n",
    "\n",
    "              # If the model has converged, we can assume that the current weights\n",
    "              # are the mean, and each gradient we see is a deviation. The variance is\n",
    "              # the average of the square of this deviation.\n",
    "              variance = [var + (grad ** 2)/n_epochs for var, grad in zip(variance, gradients)]\n",
    "\n",
    "        self.fisher_diagonal = [tensor.numpy() for tensor in variance]\n",
    "        #self.fisher_diagonal = [tensor.numpy() / samples * inputs.shape[0] for tensor in variance]\n",
    "        \n",
    "        mins = [np.min(f) for f in self.fisher_diagonal]\n",
    "        for i,x in enumerate(mins):\n",
    "          if i==0 or min > x:\n",
    "            min = x\n",
    "        print(min)\n",
    "        #print('FISHER')\n",
    "        #print(fisher_diagonal)\n",
    "        self.mean = self.model.get_weights()       \n",
    "        \n",
    "\n",
    "    def reset_weights(self):\n",
    "        if self.mean:\n",
    "            self.model.set_weights(self.mean)\n",
    "\n",
    "    def set_std(self, weight_decay):\n",
    "      self.std = [np.reciprocal(np.sqrt(x+weight_decay)) for x in self.fisher_diagonal]\n",
    "\n",
    "    def call(self, inputs, training=False):\n",
    "        e = [np.random.standard_normal(x.shape) for x in self.mean]\n",
    "        sample = [m+s*e for m, s, e in zip(self.mean,self.std,e)]\n",
    "        self.model.set_weights(sample)\n",
    "        return self.model(inputs,training=training)"
   ]
  },
  {
   "cell_type": "code",
   "execution_count": 49,
   "metadata": {
    "colab": {
     "base_uri": "https://localhost:8080/"
    },
    "id": "twMWQnYdYcUo",
    "outputId": "fa995399-baa0-49e8-f0d5-18d77ea61915"
   },
   "outputs": [
    {
     "name": "stdout",
     "output_type": "stream",
     "text": [
      "146/150 [============================>.] - ETA: 0s0.0\n"
     ]
    }
   ],
   "source": [
    "la = LaplaceApproximation(model)\n",
    "la.fit([x,y])\n",
    "la.set_std(weight_decay=1000)"
   ]
  },
  {
   "cell_type": "code",
   "execution_count": 50,
   "metadata": {
    "colab": {
     "base_uri": "https://localhost:8080/",
     "height": 166
    },
    "id": "NKFFbSYBYeC7",
    "outputId": "10d99e8f-e5c5-4797-8198-eb936632eb76"
   },
   "outputs": [
    {
     "data": {
      "image/png": "[encoded data removed]",
      "text/plain": [
       "<Figure size 432x108 with 1 Axes>"
      ]
     },
     "metadata": {
      "needs_background": "light"
     },
     "output_type": "display_data"
    }
   ],
   "source": [
    "plt.figure(figsize=[6, 1.5])  # inches\n",
    "plt.plot(x, y, 'b.', label='observed');\n",
    "\n",
    "yhats = [model(x_tst) for _ in range(100)]\n",
    "avgm = np.zeros_like(x_tst[..., 0])\n",
    "ms = []\n",
    "ss = []\n",
    "for i, yhat in enumerate(yhats):\n",
    "  m = np.squeeze(yhat.mean())\n",
    "  s = np.squeeze(yhat.stddev())\n",
    "  if i < 15:\n",
    "    plt.plot(x_tst, m, 'r', label='ensemble means' if i == 0 else None, linewidth=1.)\n",
    "    plt.plot(x_tst, m + 2 * s, 'g', linewidth=0.5, label='ensemble means + 2 ensemble stdev' if i == 0 else None);\n",
    "    plt.plot(x_tst, m - 2 * s, 'g', linewidth=0.5, label='ensemble means - 2 ensemble stdev' if i == 0 else None);\n",
    "  ms += [m]\n",
    "  ss += [s]\n",
    "ms = np.array(ms)\n",
    "avgm = ms.mean(axis=0)\n",
    "ss = np.array(ss)\n",
    "avgs = np.sqrt((ms**2+ss**2).mean(axis=0)-avgm**2)\n",
    "plt.plot(x_tst, avgm, 'r', label='overall mean', linewidth=4)\n",
    "plt.plot(x_tst, avgm + 2 * avgs, 'g', linewidth=4, label='overall mean + 2 overall stdev');\n",
    "plt.plot(x_tst, avgm - 2 * avgs, 'g', linewidth=4, label='overall means - 2 overall stdev');\n",
    "\n",
    "plt.ylim(-50,60);\n",
    "plt.yticks(np.linspace(-50, 60, 4)[1:]);\n",
    "plt.xticks(np.linspace(*x_range, num=9));\n",
    "\n",
    "ax=plt.gca();\n",
    "ax.xaxis.set_ticks_position('bottom')\n",
    "ax.yaxis.set_ticks_position('left')\n",
    "ax.spines['left'].set_position(('data', 0))\n",
    "ax.spines['top'].set_visible(False)\n",
    "ax.spines['right'].set_visible(False)\n",
    "#ax.spines['left'].set_smart_bounds(True)\n",
    "#ax.spines['bottom'].set_smart_bounds(True)\n",
    "plt.legend(loc='center left', fancybox=True, framealpha=0., bbox_to_anchor=(1.05, 0.5))\n",
    "\n",
    "plt.savefig('/tmp/fig4.png', bbox_inches='tight', dpi=300)"
   ]
  },
  {
   "cell_type": "code",
   "execution_count": 51,
   "metadata": {
    "id": "wd_PN587TO0h"
   },
   "outputs": [],
   "source": [
    "import tensorflow as tf\n",
    "import tensorflow.keras.backend as K\n",
    "from tensorflow.keras.layers import Wrapper, InputSpec\n",
    "\n",
    "# IMPORTANT: these layers perform dropout BEFORE the wrapped operation.\n",
    "\n",
    "# base class\n",
    "\n",
    "\n",
    "class ConcreteDropout(Wrapper):\n",
    "    \"\"\"\n",
    "    Base class for ConcreteDropout. It allows to learn the dropout probability for a given layer.\n",
    "    # Arguments\n",
    "        layer: a layer instance.\n",
    "        weight_regularizer:\n",
    "            A positive number which satisfies\n",
    "                $weight_regularizer = l**2 / (\\tau * N)$\n",
    "            with prior lengthscale l, model precision $\\tau$ (inverse observation noise),\n",
    "            and N the number of instances in the dataset.\n",
    "            Note that kernel_regularizer is not needed.\n",
    "        dropout_regularizer:\n",
    "            A positive number which satisfies\n",
    "                $dropout_regularizer = 2 / (\\tau * N)$\n",
    "            with model precision $\\tau$ (inverse observation noise) and N the number of\n",
    "            instances in the dataset.\n",
    "            Note the relation between dropout_regularizer and weight_regularizer:\n",
    "                $weight_regularizer / dropout_regularizer = l**2 / 2$\n",
    "            with prior lengthscale l. Note also that the factor of two should be\n",
    "            ignored for cross-entropy loss, and used only for the eculedian loss.\n",
    "        temperature:\n",
    "            The temperature of the Concrete Distribution. \n",
    "            Must be low enough in order to have the correct KL approximation\n",
    "            For:\n",
    "                $t \\rightarrow 0$ we obtain the discrete distribution.\n",
    "                $t \\rightarrow \\infty$ we obtain a uniform distribution\n",
    "    \"\"\"\n",
    "\n",
    "    def __init__(self, layer, weight_regularizer=1e-6, dropout_regularizer=1e-5,\n",
    "                 init_min=0.1, init_max=0.1, is_mc_dropout=True, data_format=None, temperature=0.1, **kwargs):\n",
    "        assert 'kernel_regularizer' not in kwargs, \"Must not provide a kernel regularizer.\"\n",
    "        super(ConcreteDropout, self).__init__(layer, **kwargs)\n",
    "        self.temperature = temperature\n",
    "        self.weight_regularizer = weight_regularizer\n",
    "        self.dropout_regularizer = dropout_regularizer\n",
    "        self.is_mc_dropout = is_mc_dropout\n",
    "        self.supports_masking = True\n",
    "        self.p_logit = None\n",
    "        self.init_min = tf.math.log(init_min) - tf.math.log(1. - init_min)\n",
    "        self.init_max = tf.math.log(init_max) - tf.math.log(1. - init_max)\n",
    "        self.data_format = 'channels_last' if data_format is None else 'channels_first'\n",
    "\n",
    "    def build(self, input_shape=None):\n",
    "        self.input_spec = InputSpec(shape=input_shape)\n",
    "        # build the superclass layers\n",
    "        if not self.layer.built:\n",
    "            self.layer.build(input_shape)\n",
    "            self.layer.built = True\n",
    "        super(ConcreteDropout, self).build()\n",
    "\n",
    "        # initialise p (learnable dropout probability)\n",
    "        self.p_logit = self.add_weight(name='p_logit',\n",
    "                                       shape=(1,),\n",
    "                                       initializer=tf.random_uniform_initializer(\n",
    "                                           self.init_min, self.init_max),\n",
    "                                       dtype=tf.dtypes.float32,\n",
    "                                       trainable=True)\n",
    "\n",
    "    def _get_noise_shape(self, inputs):\n",
    "        raise NotImplementedError(\n",
    "            \"Subclasses of ConcreteDropout must implement the noise shape\")\n",
    "\n",
    "    def compute_output_shape(self, input_shape):\n",
    "        return self.layer.compute_output_shape(input_shape)\n",
    "\n",
    "    def spatial_concrete_dropout(self, x, p):\n",
    "        '''\n",
    "        Concrete dropout - used at training time (gradients can be propagated)\n",
    "        :param x: input\n",
    "        :return:  approx. dropped out input\n",
    "        '''\n",
    "        eps = K.cast_to_floatx(\n",
    "            K.epsilon())  # machine precision epsilon for numerical stability inside the log\n",
    "\n",
    "        # this is the shape of the dropout noise, same as tf.nn.dropout\n",
    "        noise_shape = self._get_noise_shape(x)\n",
    "\n",
    "        unif_noise = K.random_uniform(shape=noise_shape)  # uniform noise\n",
    "        # bracket inside equation 5, where u=uniform_noise\n",
    "        drop_prob = (\n",
    "            tf.math.log(p + eps)\n",
    "            - tf.math.log1p(eps - p)\n",
    "            + tf.math.log(unif_noise + eps)\n",
    "            - tf.math.log1p(eps - unif_noise)\n",
    "        )\n",
    "        drop_prob = tf.math.sigmoid(drop_prob / self.temperature)  # z of eq 5\n",
    "        random_tensor = 1. - drop_prob\n",
    "\n",
    "        retain_prob = 1. - p\n",
    "        x *= random_tensor  # we multiply the input by the concrete dropout mask\n",
    "        x /= retain_prob  # we normalise by the probability to retain\n",
    "\n",
    "        return x\n",
    "\n",
    "    def call(self, inputs, training=None):\n",
    "        p = tf.nn.sigmoid(self.p_logit)\n",
    "        # We will now compute the KL terms following eq.3 of 1705.07832\n",
    "        weight = self.layer.kernel\n",
    "        # The kernel regularizer corresponds to the first term\n",
    "        # Note: we  divide by (1 - p) because  we  scaled  layer  output  by(1 - p)\n",
    "        kernel_regularizer = self.weight_regularizer * tf.reduce_sum(tf.square(\n",
    "            weight)) / (1. - p)\n",
    "        # the dropout regularizer corresponds to the second term\n",
    "        dropout_regularizer = p * tf.math.log(p)\n",
    "        dropout_regularizer += (1. - p) * tf.math.log1p(- p)\n",
    "        dropout_regularizer *= self.dropout_regularizer * self.input_dim\n",
    "        # this is the KL term to be added as a loss\n",
    "        regularizer = tf.reduce_sum(kernel_regularizer + dropout_regularizer)\n",
    "\n",
    "        self.layer.add_loss(regularizer)\n",
    "\n",
    "        if self.is_mc_dropout:\n",
    "            return self.layer.call(self.spatial_concrete_dropout(inputs, p))\n",
    "        else:\n",
    "            def relaxed_dropped_inputs():\n",
    "                return self.layer.call(self.spatial_concrete_dropout(inputs, p))\n",
    "            return K.in_train_phase(relaxed_dropped_inputs,\n",
    "                                    self.layer.call(inputs),\n",
    "                                    training=training)\n",
    "\n",
    "# dense layers\n",
    "\n",
    "\n",
    "class ConcreteDenseDropout(ConcreteDropout):\n",
    "    \"\"\"\n",
    "    This wrapper allows to learn the dropout probability for any given Dense input layer.\n",
    "    ```python\n",
    "        x = # some input layer\n",
    "        x = ConcreteDenseDropout(Dense(64))(x)\n",
    "    ```\n",
    "    # Arguments\n",
    "        layer: a layer instance.\n",
    "        weight_regularizer:\n",
    "            A positive number which satisfies\n",
    "                $weight_regularizer = l**2 / (\\tau * N)$\n",
    "            with prior lengthscale l, model precision $\\tau$ (inverse observation noise),\n",
    "            and N the number of instances in the dataset.\n",
    "            Note that kernel_regularizer is not needed.\n",
    "        dropout_regularizer:\n",
    "            A positive number which satisfies\n",
    "                $dropout_regularizer = 2 / (\\tau * N)$\n",
    "            with model precision $\\tau$ (inverse observation noise) and N the number of\n",
    "            instances in the dataset.\n",
    "            Note the relation between dropout_regularizer and weight_regularizer:\n",
    "                $weight_regularizer / dropout_regularizer = l**2 / 2$\n",
    "            with prior lengthscale l. Note also that the factor of two should be\n",
    "            ignored for cross-entropy loss, and used only for the eculedian loss.\n",
    "        temperature:\n",
    "            The temperature of the Concrete Distribution. \n",
    "            Must be low enough in order to have the correct KL approximation.\n",
    "            For:\n",
    "                $t \\rightarrow 0$ we obtain the discrete distribution\n",
    "                $t \\rightarrow \\infty$ we obtain a uniform distribution\n",
    "    \"\"\"\n",
    "\n",
    "    def __init__(self, layer, temperature=0.1, **kwargs):\n",
    "        super(ConcreteDenseDropout, self).__init__(\n",
    "            layer, temperature=temperature, **kwargs)\n",
    "\n",
    "    # implement the noise shape for regular dropout\n",
    "    def _get_noise_shape(self, inputs):\n",
    "        input_shape = tf.shape(inputs)\n",
    "        return input_shape\n",
    "\n",
    "    def build(self, input_shape=None):\n",
    "        self.input_spec = InputSpec(shape=input_shape)\n",
    "\n",
    "        super(ConcreteDenseDropout, self).build(input_shape=input_shape)\n",
    "\n",
    "        # initialise regulariser / prior KL term\n",
    "        assert len(input_shape) == 2, 'this wrapper only supports Dense layers'\n",
    "        self.input_dim = input_shape[1]  # we drop only channels\n",
    "\n",
    "    def call(self, inputs, training=None):\n",
    "        return super().call(inputs, training=training)\n"
   ]
  },
  {
   "cell_type": "code",
   "execution_count": 52,
   "metadata": {
    "id": "9GekY0_hQIMQ"
   },
   "outputs": [],
   "source": [
    "def get_weight_regularizer(N, s=1e-2):\n",
    "    return 1. / (2. *s**2 * N)\n",
    "\n",
    "def get_dropout_regularizer(N):\n",
    "    reg = 1 / N\n",
    "    return reg"
   ]
  },
  {
   "cell_type": "code",
   "execution_count": 53,
   "metadata": {
    "colab": {
     "base_uri": "https://localhost:8080/"
    },
    "id": "GQYJte8l_8Ik",
    "outputId": "05e108c0-3ad1-42cd-ddba-460f04511e31"
   },
   "outputs": [
    {
     "name": "stdout",
     "output_type": "stream",
     "text": [
      "[ 0.16768229 -0.229457    0.1386525   0.16625665  0.22736251 -0.04262785\n",
      " -0.08126352  0.13207561  0.13252832  0.11293801 -0.16632919  0.0737479\n",
      "  0.19570436 -0.12385597 -0.06854004  0.05136056 -0.16505663  0.16140777\n",
      "  0.17431554 -0.2047309  -0.01117484 -0.05222329  0.2269829   0.06259713\n",
      "  0.20732327  0.19248518  0.01314733 -0.1863762  -0.2134808  -0.0561041\n",
      " -0.1784806  -0.20034555 -0.13719463 -0.16882429  0.02125408 -0.19716308\n",
      " -0.09727165  0.10978398  0.13976428 -0.13108666 -0.11128309  0.11076032\n",
      "  0.02910713 -0.07243548 -0.01000783 -0.18377358  0.00275213 -0.20401591\n",
      " -0.05173523 -0.10988742 -0.21448818  0.09904647  0.08944617  0.15180391\n",
      "  0.02261529  0.06208768  0.13500649  0.05163849  0.20976345 -0.09354095\n",
      " -0.21591036  0.19136997  0.08015241  0.14292282  0.09420123  0.19614784\n",
      " -0.0098582   0.12183134  0.13005857  0.04864721  0.08665683  0.09209356\n",
      "  0.00544127 -0.08920784 -0.01041108 -0.1713035  -0.11491863  0.01908029\n",
      "  0.23226415  0.15125962  0.10349175 -0.21954373  0.07137941  0.01129749\n",
      "  0.06831003  0.06459463  0.10330987  0.18110597  0.00412132  0.06623858\n",
      " -0.12447917 -0.14468402  0.00654526 -0.01865539  0.20174418  0.17299294\n",
      " -0.2049599   0.00075956  0.2411765   0.05345923]\n",
      "[ 0.00187916  0.015424    0.00397188  0.00179756 -0.00196924  0.24899472\n",
      " -0.05279689 -0.00213424 -0.00164862  0.00231425 -0.05491856 -0.00218\n",
      " -0.00029348 -0.02556377 -0.16040829 -0.00117541 -0.07188135  0.00207247\n",
      " -0.00354162  0.08663543  0.23505792 -0.16364108  0.00039367 -0.00099627\n",
      "  0.00180372 -0.00244786  0.15700434 -0.08704116  0.09811566  0.29049674\n",
      " -0.02646669  0.12054396  0.10935044  0.01593261  0.00298733  0.16191952\n",
      "  0.10669742  0.0018013  -0.0016648  -0.11887868 -0.02341608 -0.0037506\n",
      " -0.00249336  0.15085232  0.18920329  0.19076145  0.18897355  0.07688118\n",
      "  0.19169681  0.00470681  0.02710778 -0.00232276  0.0017091  -0.00169718\n",
      "  0.00173261  0.00174851 -0.00264852 -0.00170108 -0.00160841  0.01485724\n",
      "  0.14077194  0.001882   -0.00242222 -0.00189689 -0.00252756  0.00187113\n",
      "  0.17832704 -0.00354504 -0.00223074  0.00130272  0.00277401 -0.00171246\n",
      "  0.00624961 -0.12624328  0.20890073  0.08235274 -0.08781626  0.00531315\n",
      "  0.00262539 -0.00176594 -0.00120702 -0.18640201  0.00303895  0.0717319\n",
      "  0.00306578 -0.00306698 -0.00199591  0.00158332  0.19915634 -0.00210438\n",
      " -0.02491834 -0.08957423  0.00253559 -0.05671294 -0.00249789 -0.00180254\n",
      " -0.05417553  0.20112926  0.00182281 -0.00267425]\n",
      "-2.1713953\n",
      "[[ 0.06834579  0.02176487  0.12349383 ...  0.08998195  0.11321152\n",
      "   0.12914065]\n",
      " [ 0.00358086  0.17537843 -0.07293618 ...  0.0993469   0.0574847\n",
      "   0.13668753]\n",
      " [-0.0415484   0.13041416  0.04290703 ...  0.07907448 -0.03660107\n",
      "   0.06081154]\n",
      " ...\n",
      " [-0.04558297 -0.22235297  0.10794056 ... -0.05450683 -0.07959778\n",
      "  -0.00085702]\n",
      " [-0.00367434  0.01214317  0.12744498 ...  0.04532022  0.0542313\n",
      "   0.00771201]\n",
      " [-0.13540703  0.03411732  0.01235563 ...  0.09827948  0.07356444\n",
      "   0.15820095]]\n",
      "[-0.0024806   0.00186529  0.00257053  0.00532281 -0.0029258   0.00404492\n",
      " -0.00268278  0.00370999 -0.00327625  0.00234363  0.00145921 -0.00215034\n",
      " -0.00252647  0.17908423 -0.0400001  -0.00202233 -0.001006    0.0123154\n",
      " -0.0034772   0.00303777 -0.01272815  0.00202795 -0.03178907 -0.00229198\n",
      "  0.0099204  -0.00632285  0.00221478  0.00285883  0.00261048  0.0176278\n",
      " -0.00441918  0.00471398  0.00586247 -0.0532683   0.0056885  -0.00280662\n",
      "  0.00354499  0.00247032  0.0042812  -0.00302142 -0.00283066  0.00526185\n",
      " -0.00145181 -0.0024983  -0.00072431  0.2963846  -0.00172664 -0.00116408\n",
      " -0.00383432  0.03213022 -0.0019326   0.22235194 -0.00215446  0.11886791\n",
      "  0.18829595  0.00560198  0.01375341  0.00245774  0.00250866 -0.00246607\n",
      " -0.00284597 -0.00192097  0.03994554  0.00282449 -0.03163661  0.15293339\n",
      "  0.01272527  0.00184246 -0.00150203  0.094859    0.00225734  0.00488962\n",
      "  0.00972614  0.00322     0.00303674  0.00352031 -0.00256858 -0.00115842\n",
      " -0.00844501  0.00291121 -0.00268585 -0.0557946   0.04733962  0.004489\n",
      " -0.00291565 -0.00273302  0.00185246 -0.00195966  0.00323611  0.0039866\n",
      "  0.00865603  0.00326517 -0.03357129 -0.00253129  0.03199359 -0.00994131\n",
      " -0.00289947 -0.00437283 -0.00342398  0.00516965]\n",
      "[ 0.09102451 -0.20573838 -0.21387458 -0.18028124 -0.1979777  -0.04958744\n",
      "  0.03178351 -0.03820987 -0.08485784 -0.16831894 -0.15433463  0.07270981\n",
      "  0.09263898  0.23039275  0.0116445   0.14959688 -0.23810478  0.0797928\n",
      " -0.1538286   0.14808102 -0.21670109 -0.22511314 -0.09621999  0.23753743\n",
      "  0.12458913 -0.03094473 -0.17644204  0.17155819 -0.09326784  0.09508013\n",
      " -0.03942     0.08739899  0.11083648 -0.16606005  0.18770793  0.13685703\n",
      "  0.22682203 -0.22185214  0.05525671 -0.19809546 -0.07472776  0.00705852\n",
      "  0.05964709  0.03629814 -0.09008483  0.5193186   0.09334649  0.21576354\n",
      "  0.07060938 -0.12574628  0.18797155  0.30212128 -0.02571864  0.05222405\n",
      "  0.2620983   0.13397238  0.15089296 -0.14650093 -0.19635828  0.19822189\n",
      " -0.04587932  0.2386864   0.02030051 -0.00674369 -0.19536553  0.27001113\n",
      "  0.22996612  0.03714975 -0.21443644  0.11061956 -0.19449772  0.13828069\n",
      "  0.16583116  0.18638583  0.11280024  0.19050094  0.07335823  0.2172293\n",
      " -0.21568999  0.1865576  -0.16369313 -0.05556656 -0.1163244   0.09618957\n",
      " -0.16900493 -0.12335089 -0.08411374  0.05982306  0.0344977   0.10594874\n",
      "  0.07154465  0.2326494  -0.01475518  0.09246682  0.03495376 -0.03851134\n",
      " -0.10752038 -0.06748863 -0.12813231  0.20278417]\n",
      "0.007629792\n",
      "[-0.21504371  0.11234856  0.24041095  0.07838423 -0.20637399  0.19824788\n",
      " -0.12481028  0.02266689 -0.0052917   0.09879041  0.03913261 -0.09646757\n",
      " -0.12389798  0.30385095 -0.21547873 -0.09641271  0.0609052  -0.02614542\n",
      " -0.01698591  0.23046708  0.01166255  0.08369445  0.00559455 -0.14322102\n",
      " -0.00045432 -0.05435244  0.09021642  0.228791    0.13311203 -0.10191219\n",
      " -0.21091002  0.17125253  0.00666486 -0.1360003   0.01057637 -0.05439505\n",
      "  0.09456857  0.18782906  0.0442958  -0.11581872 -0.1097646   0.14211442\n",
      " -0.05874542 -0.08003291 -0.06840081  0.12937452 -0.23561284 -0.11970872\n",
      " -0.07022174  0.15099339 -0.08422903 -0.0374232  -0.19242346  0.2097107\n",
      "  0.00412903  0.09762856 -0.00410695  0.12008584  0.1718935  -0.17143519\n",
      " -0.05256274 -0.18357705  0.11157771  0.09346439 -0.20594268  0.07574353\n",
      "  0.22571504  0.2313079   0.02640715  0.16643776  0.12748973  0.15860036\n",
      " -0.00262937  0.03495051  0.14238891  0.07510933 -0.15923509 -0.06231082\n",
      " -0.05307046 -0.02248312 -0.21086808 -0.13480867  0.20358878  0.10788137\n",
      " -0.22389098 -0.14145896  0.02623155 -0.05945332  0.02512092 -0.0973452\n",
      "  0.04614586  0.1541682  -0.16512686 -0.23947984  0.01699827 -0.18567777\n",
      " -0.12751627 -0.03267367 -0.16540764 -0.02102598]\n",
      "0.0028232501\n"
     ]
    }
   ],
   "source": [
    "l2_reg = tf.keras.regularizers.l2(l2=0.0000001)\n",
    "w_reg = get_weight_regularizer(x.shape[0],100)\n",
    "p_reg = get_dropout_regularizer(x.shape[0])                              \n",
    "# Build model.\n",
    "input = tf.keras.layers.Input(1)\n",
    "h1 = tf.keras.layers.Dense(100,kernel_regularizer=l2_reg,bias_regularizer=l2_reg,activation=tf.keras.activations.relu)(input)\n",
    "dense2 = tf.keras.layers.Dense(100,activation=tf.keras.activations.relu)\n",
    "h2 = ConcreteDenseDropout(dense2, weight_regularizer=w_reg, dropout_regularizer=p_reg)(h1)\n",
    "m = tf.keras.layers.Dense(1,kernel_regularizer=l2_reg,bias_regularizer=l2_reg)(h2)\n",
    "s = tf.keras.layers.Dense(1,activation=tf.keras.activations.exponential,kernel_regularizer=l2_reg,bias_regularizer=l2_reg)(h2)\n",
    "p = tfp.layers.DistributionLambda(lambda t: tfd.Normal(loc=t[0], scale=t[1]))([m,s])\n",
    "model = tf.keras.Model(inputs=input, outputs=p)\n",
    "\n",
    "# Do inference.\n",
    "model.compile(optimizer=tf.optimizers.Adam(learning_rate=0.0001), loss=expectednegloglik)\n",
    "model.fit(x, y, epochs=1000, verbose=False);\n",
    "\n",
    "# Profit.\n",
    "[print(np.squeeze(w.numpy())) for w in model.weights];\n",
    "yhat = model(x_tst)\n",
    "assert isinstance(yhat, tfd.Distribution)"
   ]
  },
  {
   "cell_type": "code",
   "execution_count": 54,
   "metadata": {
    "colab": {
     "base_uri": "https://localhost:8080/",
     "height": 166
    },
    "id": "TqLZ3R2kCPFI",
    "outputId": "9750a1b6-e9d7-4070-ece3-1740fee8a1c2"
   },
   "outputs": [
    {
     "data": {
      "image/png": "[encoded data removed]",
      "text/plain": [
       "<Figure size 432x108 with 1 Axes>"
      ]
     },
     "metadata": {
      "needs_background": "light"
     },
     "output_type": "display_data"
    }
   ],
   "source": [
    "plt.figure(figsize=[6, 1.5])  # inches\n",
    "plt.plot(x, y, 'b.', label='observed');\n",
    "\n",
    "yhats = [model(x_tst) for _ in range(100)]\n",
    "avgm = np.zeros_like(x_tst[..., 0])\n",
    "ms = []\n",
    "ss = []\n",
    "for i, yhat in enumerate(yhats):\n",
    "  m = np.squeeze(yhat.mean())\n",
    "  s = np.squeeze(yhat.stddev())\n",
    "  if i < 15:\n",
    "    plt.plot(x_tst, m, 'r', label='ensemble means' if i == 0 else None, linewidth=1.)\n",
    "    plt.plot(x_tst, m + 2 * s, 'g', linewidth=0.5, label='ensemble means + 2 ensemble stdev' if i == 0 else None);\n",
    "    plt.plot(x_tst, m - 2 * s, 'g', linewidth=0.5, label='ensemble means - 2 ensemble stdev' if i == 0 else None);\n",
    "  ms += [m]\n",
    "  ss += [s]\n",
    "ms = np.array(ms)\n",
    "avgm = ms.mean(axis=0)\n",
    "ss = np.array(ss)\n",
    "avgs = np.sqrt((ms**2+ss**2).mean(axis=0)-avgm**2)\n",
    "plt.plot(x_tst, avgm, 'r', label='overall mean', linewidth=4)\n",
    "plt.plot(x_tst, avgm + 2 * avgs, 'g', linewidth=4, label='overall mean + 2 overall stdev');\n",
    "plt.plot(x_tst, avgm - 2 * avgs, 'g', linewidth=4, label='overall means - 2 overall stdev');\n",
    "\n",
    "plt.ylim(-20,30);\n",
    "plt.yticks(np.linspace(-20, 30, 4)[1:]);\n",
    "plt.xticks(np.linspace(*x_range, num=9));\n",
    "\n",
    "ax=plt.gca();\n",
    "ax.xaxis.set_ticks_position('bottom')\n",
    "ax.yaxis.set_ticks_position('left')\n",
    "ax.spines['left'].set_position(('data', 0))\n",
    "ax.spines['top'].set_visible(False)\n",
    "ax.spines['right'].set_visible(False)\n",
    "#ax.spines['left'].set_smart_bounds(True)\n",
    "#ax.spines['bottom'].set_smart_bounds(True)\n",
    "plt.legend(loc='center left', fancybox=True, framealpha=0., bbox_to_anchor=(1.05, 0.5))\n",
    "\n",
    "plt.savefig('/tmp/fig4.png', bbox_inches='tight', dpi=300)"
   ]
  },
  {
   "cell_type": "code",
   "execution_count": null,
   "metadata": {
    "id": "ym1KzQYrEV71"
   },
   "outputs": [],
   "source": []
  }
 ],
 "metadata": {
  "colab": {
   "provenance": []
  },
  "kernelspec": {
   "display_name": "base",
   "language": "python",
   "name": "python3"
  },
  "language_info": {
   "codemirror_mode": {
    "name": "ipython",
    "version": 3
   },
   "file_extension": ".py",
   "mimetype": "text/x-python",
   "name": "python",
   "nbconvert_exporter": "python",
   "pygments_lexer": "ipython3",
   "version": "3.9.7 (default, Sep 16 2021, 08:50:36) \n[Clang 10.0.0 ]"
  },
  "vscode": {
   "interpreter": {
    "hash": "576716f5615fb5fe85d712829ed92bc8664f3f0ae95537e793678bca9165ad52"
   }
  }
 },
 "nbformat": 4,
 "nbformat_minor": 0
}
