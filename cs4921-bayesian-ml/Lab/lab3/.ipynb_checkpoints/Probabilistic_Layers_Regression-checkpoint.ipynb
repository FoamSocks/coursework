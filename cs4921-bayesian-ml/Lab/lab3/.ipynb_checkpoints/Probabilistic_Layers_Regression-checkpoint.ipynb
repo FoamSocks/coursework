{
 "cells": [
  {
   "cell_type": "markdown",
   "metadata": {
    "id": "ZrwVQsM9TiUw"
   },
   "source": [
    "##### Copyright 2019 The TensorFlow Probability Authors.\n",
    "\n",
    "Licensed under the Apache License, Version 2.0 (the \"License\");"
   ]
  },
  {
   "cell_type": "code",
   "execution_count": null,
   "metadata": {
    "id": "CpDUTVKYTowI"
   },
   "outputs": [],
   "source": [
    "#@title Licensed under the Apache License, Version 2.0 (the \"License\"); { display-mode: \"form\" }\n",
    "# you may not use this file except in compliance with the License.\n",
    "# You may obtain a copy of the License at\n",
    "#\n",
    "# https://www.apache.org/licenses/LICENSE-2.0\n",
    "#\n",
    "# Unless required by applicable law or agreed to in writing, software\n",
    "# distributed under the License is distributed on an \"AS IS\" BASIS,\n",
    "# WITHOUT WARRANTIES OR CONDITIONS OF ANY KIND, either express or implied.\n",
    "# See the License for the specific language governing permissions and\n",
    "# limitations under the License."
   ]
  },
  {
   "cell_type": "markdown",
   "metadata": {
    "id": "ltPJCG6pAUoc"
   },
   "source": [
    "# TFP Probabilistic Layers: Regression\n",
    "\n",
    "<table class=\"tfo-notebook-buttons\" align=\"left\">\n",
    "  <td>\n",
    "    <a target=\"_blank\" href=\"https://www.tensorflow.org/probability/examples/Probabilistic_Layers_Regression\"><img src=\"https://www.tensorflow.org/images/tf_logo_32px.png\" />View on TensorFlow.org</a>\n",
    "  </td>\n",
    "  <td>\n",
    "    <a target=\"_blank\" href=\"https://colab.research.google.com/github/tensorflow/probability/blob/main/tensorflow_probability/examples/jupyter_notebooks/Probabilistic_Layers_Regression.ipynb\"><img src=\"https://www.tensorflow.org/images/colab_logo_32px.png\" />Run in Google Colab</a>\n",
    "  </td>\n",
    "  <td>\n",
    "    <a target=\"_blank\" href=\"https://github.com/tensorflow/probability/blob/main/tensorflow_probability/examples/jupyter_notebooks/Probabilistic_Layers_Regression.ipynb\"><img src=\"https://www.tensorflow.org/images/GitHub-Mark-32px.png\" />View source on GitHub</a>\n",
    "  </td>\n",
    "  <td>\n",
    "    <a href=\"https://storage.googleapis.com/tensorflow_docs/probability/tensorflow_probability/examples/jupyter_notebooks/Probabilistic_Layers_Regression.ipynb\"><img src=\"https://www.tensorflow.org/images/download_logo_32px.png\" />Download notebook</a>\n",
    "  </td>\n",
    "</table>"
   ]
  },
  {
   "cell_type": "markdown",
   "metadata": {
    "id": "WRVR-tGTR31S"
   },
   "source": [
    "In this example we show how to fit regression models using TFP's \"probabilistic layers.\""
   ]
  },
  {
   "cell_type": "markdown",
   "metadata": {
    "id": "uiR4-VOt9NFX"
   },
   "source": [
    "### Dependencies & Prerequisites\n"
   ]
  },
  {
   "cell_type": "code",
   "execution_count": 5,
   "metadata": {
    "id": "kZ0MdF1j8WJf"
   },
   "outputs": [],
   "source": [
    "#@title Import { display-mode: \"form\" }\n",
    "\n",
    "\n",
    "from pprint import pprint\n",
    "import matplotlib.pyplot as plt\n",
    "import numpy as np\n",
    "import seaborn as sns\n",
    "\n",
    "import tensorflow.compat.v2 as tf\n",
    "tf.enable_v2_behavior()\n",
    "\n",
    "import tensorflow_probability as tfp\n",
    "\n",
    "sns.reset_defaults()\n",
    "#sns.set_style('whitegrid')\n",
    "#sns.set_context('talk')\n",
    "sns.set_context(context='talk',font_scale=0.7)\n",
    "\n",
    "%matplotlib inline\n",
    "\n",
    "tfd = tfp.distributions"
   ]
  },
  {
   "cell_type": "markdown",
   "metadata": {
    "id": "7nnwjUdVoWN2"
   },
   "source": [
    "### Make things Fast!"
   ]
  },
  {
   "cell_type": "markdown",
   "metadata": {
    "id": "2CK9RaDcoYPG"
   },
   "source": [
    "Before we dive in, let's make sure we're using a GPU for this demo.  \n",
    "\n",
    "To do this, select \"Runtime\" -> \"Change runtime type\" -> \"Hardware accelerator\" -> \"GPU\".\n",
    "\n",
    "The following snippet will verify that we have access to a GPU."
   ]
  },
  {
   "cell_type": "code",
   "execution_count": 6,
   "metadata": {
    "colab": {
     "base_uri": "https://localhost:8080/"
    },
    "id": "qP_4Xr8vpA42",
    "outputId": "a2c2eab2-3ab5-4784-e8ce-d7bfd9734c87"
   },
   "outputs": [
    {
     "name": "stdout",
     "output_type": "stream",
     "text": [
      "WARNING: GPU device not found.\n"
     ]
    }
   ],
   "source": [
    "if tf.test.gpu_device_name() != '/device:GPU:0':\n",
    "  print('WARNING: GPU device not found.')\n",
    "else:\n",
    "  print('SUCCESS: Found GPU: {}'.format(tf.test.gpu_device_name()))"
   ]
  },
  {
   "cell_type": "markdown",
   "metadata": {
    "id": "FJRBc_S0ppfE"
   },
   "source": [
    "Note: if for some reason you cannot access a GPU, this colab will still work. (Training will just take longer.)"
   ]
  },
  {
   "cell_type": "markdown",
   "metadata": {
    "id": "xuqxMmryiduM"
   },
   "source": [
    "## Motivation"
   ]
  },
  {
   "cell_type": "markdown",
   "metadata": {
    "id": "RtBLNF-tin2L"
   },
   "source": [
    "Wouldn't it be great if we could use TFP to specify a probabilistic model then simply minimize the negative log-likelihood, i.e.,"
   ]
  },
  {
   "cell_type": "code",
   "execution_count": 7,
   "metadata": {
    "id": "3PFfNeJzifo7"
   },
   "outputs": [],
   "source": [
    "negloglik = lambda y, rv_y: -rv_y.log_prob(y)"
   ]
  },
  {
   "cell_type": "markdown",
   "metadata": {
    "id": "cN4IP8n_jIvT"
   },
   "source": [
    "Well not only is it possible, but this colab shows how! (In context of linear regression problems.)"
   ]
  },
  {
   "cell_type": "code",
   "execution_count": 8,
   "metadata": {
    "id": "5zCEYpzu7bDX"
   },
   "outputs": [],
   "source": [
    "#@title Synthesize dataset.\n",
    "w0 = 0.125\n",
    "b0 = 5.\n",
    "x_range = [-20, 60]\n",
    "\n",
    "def load_dataset(n=150, n_tst=150):\n",
    "  np.random.seed(43)\n",
    "  def s(x):\n",
    "    g = (x - x_range[0]) / (x_range[1] - x_range[0])\n",
    "    return 3 * (0.25 + g**2.)\n",
    "  x = (x_range[1] - x_range[0]) * np.random.rand(n) + x_range[0]\n",
    "  eps = np.random.randn(n) * s(x)\n",
    "  y = (w0 * x * (1. + np.sin(x)) + b0) + eps\n",
    "  x = x[..., np.newaxis]\n",
    "  x_tst = np.linspace(*x_range, num=n_tst).astype(np.float32)\n",
    "  x_tst = x_tst[..., np.newaxis]\n",
    "  return y, x, x_tst\n",
    "\n",
    "y, x, x_tst = load_dataset()"
   ]
  },
  {
   "cell_type": "code",
   "execution_count": 9,
   "metadata": {
    "id": "e_MV7I1MzaFw"
   },
   "outputs": [],
   "source": [
    "n_examples = y.shape[0]"
   ]
  },
  {
   "cell_type": "code",
   "execution_count": 10,
   "metadata": {
    "id": "Do2lzfeczIQM"
   },
   "outputs": [],
   "source": [
    "expectednegloglik = lambda y, rv_y: -rv_y.log_prob(y)/n_examples"
   ]
  },
  {
   "cell_type": "markdown",
   "metadata": {
    "id": "N8Shtn_e99XC"
   },
   "source": [
    "### Case 1: MLE Linear Regression with Constant Uncertainty"
   ]
  },
  {
   "cell_type": "code",
   "execution_count": 11,
   "metadata": {
    "colab": {
     "base_uri": "https://localhost:8080/"
    },
    "id": "RxKJ_RPI0K4N",
    "outputId": "a266dbc6-aef1-4e61-8c2b-dd7d6474b21c"
   },
   "outputs": [
    {
     "name": "stdout",
     "output_type": "stream",
     "text": [
      "0.14110081\n",
      "5.1371503\n"
     ]
    }
   ],
   "source": [
    "# Build model.\n",
    "input = tf.keras.layers.Input(1)\n",
    "linear = tf.keras.layers.Dense(1)(input)\n",
    "p = tfp.layers.DistributionLambda(lambda t: tfd.Normal(loc=t, scale=1))(linear)\n",
    "model = tf.keras.Model(inputs=input, outputs=p)\n",
    "\n",
    "# Do inference.\n",
    "model.compile(optimizer=tf.optimizers.Adam(learning_rate=0.01), loss=expectednegloglik)\n",
    "model.fit(x, y, epochs=1000, verbose=False);\n",
    "\n",
    "# Profit.\n",
    "[print(np.squeeze(w.numpy())) for w in model.weights];\n",
    "yhat = model(x_tst)\n",
    "assert isinstance(yhat, tfd.Distribution)"
   ]
  },
  {
   "cell_type": "code",
   "execution_count": 12,
   "metadata": {
    "colab": {
     "base_uri": "https://localhost:8080/",
     "height": 138
    },
    "id": "1AE9ElaKI6Er",
    "outputId": "204e19dd-ee2a-402a-eb8b-8422dd164646"
   },
   "outputs": [
    {
     "data": {
      "image/png": "[encoded data removed]",
      "text/plain": [
       "<Figure size 432x108 with 1 Axes>"
      ]
     },
     "metadata": {
      "needs_background": "light"
     },
     "output_type": "display_data"
    }
   ],
   "source": [
    "\n",
    "w = np.squeeze(model.layers[-2].kernel.numpy())\n",
    "b = np.squeeze(model.layers[-2].bias.numpy())\n",
    "\n",
    "plt.figure(figsize=[6, 1.5])  # inches\n",
    "#plt.figure(figsize=[8, 5])  # inches\n",
    "plt.plot(x, y, 'b.', label='observed');\n",
    "plt.plot(x_tst, yhat.mean(),'r', label='mean', linewidth=4);\n",
    "plt.ylim(-0.,17);\n",
    "plt.yticks(np.linspace(0, 15, 4)[1:]);\n",
    "plt.xticks(np.linspace(*x_range, num=9));\n",
    "\n",
    "ax=plt.gca();\n",
    "ax.xaxis.set_ticks_position('bottom')\n",
    "ax.yaxis.set_ticks_position('left')\n",
    "ax.spines['left'].set_position(('data', 0))\n",
    "ax.spines['top'].set_visible(False)\n",
    "ax.spines['right'].set_visible(False)\n",
    "#ax.spines['left'].set_smart_bounds(True)\n",
    "#ax.spines['bottom'].set_smart_bounds(True)\n",
    "plt.legend(loc='center left', fancybox=True, framealpha=0., bbox_to_anchor=(1.05, 0.5))\n",
    "\n",
    "plt.savefig('/tmp/fig1.png', bbox_inches='tight', dpi=300)"
   ]
  },
  {
   "cell_type": "markdown",
   "metadata": {
    "id": "91kwRqs4O5Yv"
   },
   "source": [
    "### Case 2: MLE Linear Model with Homoscedastic Uncertainty"
   ]
  },
  {
   "cell_type": "code",
   "execution_count": 13,
   "metadata": {
    "colab": {
     "base_uri": "https://localhost:8080/"
    },
    "id": "TLZ97_V4PP-f",
    "outputId": "3a8c957c-0b12-4f71-b899-94ca7cefe8b6"
   },
   "outputs": [
    {
     "name": "stdout",
     "output_type": "stream",
     "text": [
      "0.13211185\n",
      "5.1306562\n"
     ]
    }
   ],
   "source": [
    "# Build model.\n",
    "input = tf.keras.layers.Input(1)\n",
    "linear = tf.keras.layers.Dense(1)(input)\n",
    "s = tf.keras.layers.Dense(1, activation=tf.keras.activations.exponential,use_bias=False)(tf.constant(np.ones([1,1])))\n",
    "p = tfp.layers.DistributionLambda(lambda t: tfd.Normal(loc=t[0], scale=t[1]))([linear,s])\n",
    "model = tf.keras.Model(inputs=input, outputs=p)\n",
    "\n",
    "# Do inference.\n",
    "model.compile(optimizer=tf.optimizers.Adam(learning_rate=0.01), loss=expectednegloglik)\n",
    "model.fit(x, y, epochs=1000, verbose=False);\n",
    "\n",
    "# Profit.\n",
    "[print(np.squeeze(w.numpy())) for w in model.weights];\n",
    "yhat = model(x_tst)\n",
    "assert isinstance(yhat, tfd.Distribution)"
   ]
  },
  {
   "cell_type": "code",
   "execution_count": 14,
   "metadata": {
    "colab": {
     "base_uri": "https://localhost:8080/"
    },
    "id": "2WxPbKhHZcbv",
    "outputId": "9be143bc-4001-4b3e-c960-e214f15aca90"
   },
   "outputs": [
    {
     "data": {
      "text/plain": [
       "<tf.Tensor: shape=(150, 1), dtype=float32, numpy=\n",
       "array([[0.902336],\n",
       "       [0.902336],\n",
       "       [0.902336],\n",
       "       [0.902336],\n",
       "       [0.902336],\n",
       "       [0.902336],\n",
       "       [0.902336],\n",
       "       [0.902336],\n",
       "       [0.902336],\n",
       "       [0.902336],\n",
       "       [0.902336],\n",
       "       [0.902336],\n",
       "       [0.902336],\n",
       "       [0.902336],\n",
       "       [0.902336],\n",
       "       [0.902336],\n",
       "       [0.902336],\n",
       "       [0.902336],\n",
       "       [0.902336],\n",
       "       [0.902336],\n",
       "       [0.902336],\n",
       "       [0.902336],\n",
       "       [0.902336],\n",
       "       [0.902336],\n",
       "       [0.902336],\n",
       "       [0.902336],\n",
       "       [0.902336],\n",
       "       [0.902336],\n",
       "       [0.902336],\n",
       "       [0.902336],\n",
       "       [0.902336],\n",
       "       [0.902336],\n",
       "       [0.902336],\n",
       "       [0.902336],\n",
       "       [0.902336],\n",
       "       [0.902336],\n",
       "       [0.902336],\n",
       "       [0.902336],\n",
       "       [0.902336],\n",
       "       [0.902336],\n",
       "       [0.902336],\n",
       "       [0.902336],\n",
       "       [0.902336],\n",
       "       [0.902336],\n",
       "       [0.902336],\n",
       "       [0.902336],\n",
       "       [0.902336],\n",
       "       [0.902336],\n",
       "       [0.902336],\n",
       "       [0.902336],\n",
       "       [0.902336],\n",
       "       [0.902336],\n",
       "       [0.902336],\n",
       "       [0.902336],\n",
       "       [0.902336],\n",
       "       [0.902336],\n",
       "       [0.902336],\n",
       "       [0.902336],\n",
       "       [0.902336],\n",
       "       [0.902336],\n",
       "       [0.902336],\n",
       "       [0.902336],\n",
       "       [0.902336],\n",
       "       [0.902336],\n",
       "       [0.902336],\n",
       "       [0.902336],\n",
       "       [0.902336],\n",
       "       [0.902336],\n",
       "       [0.902336],\n",
       "       [0.902336],\n",
       "       [0.902336],\n",
       "       [0.902336],\n",
       "       [0.902336],\n",
       "       [0.902336],\n",
       "       [0.902336],\n",
       "       [0.902336],\n",
       "       [0.902336],\n",
       "       [0.902336],\n",
       "       [0.902336],\n",
       "       [0.902336],\n",
       "       [0.902336],\n",
       "       [0.902336],\n",
       "       [0.902336],\n",
       "       [0.902336],\n",
       "       [0.902336],\n",
       "       [0.902336],\n",
       "       [0.902336],\n",
       "       [0.902336],\n",
       "       [0.902336],\n",
       "       [0.902336],\n",
       "       [0.902336],\n",
       "       [0.902336],\n",
       "       [0.902336],\n",
       "       [0.902336],\n",
       "       [0.902336],\n",
       "       [0.902336],\n",
       "       [0.902336],\n",
       "       [0.902336],\n",
       "       [0.902336],\n",
       "       [0.902336],\n",
       "       [0.902336],\n",
       "       [0.902336],\n",
       "       [0.902336],\n",
       "       [0.902336],\n",
       "       [0.902336],\n",
       "       [0.902336],\n",
       "       [0.902336],\n",
       "       [0.902336],\n",
       "       [0.902336],\n",
       "       [0.902336],\n",
       "       [0.902336],\n",
       "       [0.902336],\n",
       "       [0.902336],\n",
       "       [0.902336],\n",
       "       [0.902336],\n",
       "       [0.902336],\n",
       "       [0.902336],\n",
       "       [0.902336],\n",
       "       [0.902336],\n",
       "       [0.902336],\n",
       "       [0.902336],\n",
       "       [0.902336],\n",
       "       [0.902336],\n",
       "       [0.902336],\n",
       "       [0.902336],\n",
       "       [0.902336],\n",
       "       [0.902336],\n",
       "       [0.902336],\n",
       "       [0.902336],\n",
       "       [0.902336],\n",
       "       [0.902336],\n",
       "       [0.902336],\n",
       "       [0.902336],\n",
       "       [0.902336],\n",
       "       [0.902336],\n",
       "       [0.902336],\n",
       "       [0.902336],\n",
       "       [0.902336],\n",
       "       [0.902336],\n",
       "       [0.902336],\n",
       "       [0.902336],\n",
       "       [0.902336],\n",
       "       [0.902336],\n",
       "       [0.902336],\n",
       "       [0.902336],\n",
       "       [0.902336],\n",
       "       [0.902336],\n",
       "       [0.902336],\n",
       "       [0.902336],\n",
       "       [0.902336]], dtype=float32)>"
      ]
     },
     "execution_count": 14,
     "metadata": {},
     "output_type": "execute_result"
    }
   ],
   "source": [
    "yhat.stddev()"
   ]
  },
  {
   "cell_type": "code",
   "execution_count": 15,
   "metadata": {
    "colab": {
     "base_uri": "https://localhost:8080/",
     "height": 138
    },
    "id": "JSSWw2-FPCiG",
    "outputId": "e8449440-567c-400b-d8a0-d3295cdf7b83"
   },
   "outputs": [
    {
     "data": {
      "image/png": "[encoded data removed]",
      "text/plain": [
       "<Figure size 432x108 with 1 Axes>"
      ]
     },
     "metadata": {
      "needs_background": "light"
     },
     "output_type": "display_data"
    }
   ],
   "source": [
    "\n",
    "plt.figure(figsize=[6, 1.5])  # inches\n",
    "plt.plot(x, y, 'b.', label='observed');\n",
    "\n",
    "m = yhat.mean()\n",
    "s = yhat.stddev()\n",
    "\n",
    "plt.plot(x_tst, m, 'r', linewidth=4, label='mean');\n",
    "plt.plot(x_tst, m + 2 * s, 'g', linewidth=2, label=r'mean + 2 stddev');\n",
    "plt.plot(x_tst, m - 2 * s, 'g', linewidth=2, label=r'mean - 2 stddev');\n",
    "\n",
    "plt.ylim(-0.,17);\n",
    "plt.yticks(np.linspace(0, 15, 4)[1:]);\n",
    "plt.xticks(np.linspace(*x_range, num=9));\n",
    "\n",
    "ax=plt.gca();\n",
    "ax.xaxis.set_ticks_position('bottom')\n",
    "ax.yaxis.set_ticks_position('left')\n",
    "ax.spines['left'].set_position(('data', 0))\n",
    "ax.spines['top'].set_visible(False)\n",
    "ax.spines['right'].set_visible(False)\n",
    "#ax.spines['left'].set_smart_bounds(True)\n",
    "#ax.spines['bottom'].set_smart_bounds(True)\n",
    "plt.legend(loc='center left', fancybox=True, framealpha=0., bbox_to_anchor=(1.05, 0.5))\n",
    "\n",
    "plt.savefig('/tmp/fig2.png', bbox_inches='tight', dpi=300)"
   ]
  },
  {
   "cell_type": "markdown",
   "metadata": {
    "id": "6I1ZvjQWTAfX"
   },
   "source": [
    "### Case 2: MLE Neural Network Regression with Heteroscedastic Uncertainty"
   ]
  },
  {
   "cell_type": "code",
   "execution_count": 16,
   "metadata": {
    "colab": {
     "base_uri": "https://localhost:8080/"
    },
    "id": "e5gacKQ5qrM4",
    "outputId": "62509cbd-052b-4086-d6b0-a8e8d6fd9fe1"
   },
   "outputs": [
    {
     "name": "stdout",
     "output_type": "stream",
     "text": [
      "[ 0.20272157  0.01671838  0.32886705 -0.31481758  0.00794551  0.37844884\n",
      "  0.07927635 -0.02494952 -0.4343873  -0.15043119]\n",
      "[ 1.1441292   0.05719575 -0.19753651  1.203364    0.00295206  0.2030902\n",
      "  0.06174732  1.4990402  -0.3140743   1.1692333 ]\n",
      "[ 1.5808429  -0.3032365  -0.08850172  0.77154964  0.28098765 -0.41770244\n",
      "  0.5047463   0.81595874 -0.4782048  -0.33550304]\n",
      "1.6530157\n",
      "[ 0.03369476  0.03577065  0.20234145 -0.0233365   0.0016363  -0.11627112\n",
      "  0.0156379   0.02176585  0.4509229  -0.75056046]\n",
      "0.24297854\n"
     ]
    }
   ],
   "source": [
    "# Build model.\n",
    "input = tf.keras.layers.Input(1)\n",
    "h1 = tf.keras.layers.Dense(10,activation=tf.keras.activations.relu)(input)\n",
    "m = tf.keras.layers.Dense(1)(h1)\n",
    "s = tf.keras.layers.Dense(1,activation=tf.keras.activations.exponential)(h1)\n",
    "p = tfp.layers.DistributionLambda(lambda t: tfd.Normal(loc=t[0], scale=t[1]))([m,s])\n",
    "model = tf.keras.Model(inputs=input, outputs=p)\n",
    "\n",
    "# Do inference.\n",
    "model.compile(optimizer=tf.optimizers.Adam(learning_rate=0.01), loss=expectednegloglik)\n",
    "model.fit(x, y, epochs=1000, verbose=False);\n",
    "\n",
    "# Profit.\n",
    "[print(np.squeeze(w.numpy())) for w in model.weights];\n",
    "yhat = model(x_tst)\n",
    "assert isinstance(yhat, tfd.Distribution)"
   ]
  },
  {
   "cell_type": "code",
   "execution_count": 17,
   "metadata": {
    "colab": {
     "base_uri": "https://localhost:8080/",
     "height": 138
    },
    "id": "9SRGjArDrgus",
    "outputId": "cd46a263-4339-49b2-d6c0-7259c163b4b1"
   },
   "outputs": [
    {
     "data": {
      "image/png": "[encoded data removed]",
      "text/plain": [
       "<Figure size 432x108 with 1 Axes>"
      ]
     },
     "metadata": {
      "needs_background": "light"
     },
     "output_type": "display_data"
    }
   ],
   "source": [
    "plt.figure(figsize=[6, 1.5])  # inches\n",
    "plt.plot(x, y, 'b.', label='observed');\n",
    "\n",
    "m = yhat.mean()\n",
    "s = yhat.stddev()\n",
    "\n",
    "plt.plot(x_tst, m, 'r', linewidth=4, label='mean');\n",
    "plt.plot(x_tst, m + 2 * s, 'g', linewidth=2, label=r'mean + 2 stddev');\n",
    "plt.plot(x_tst, m - 2 * s, 'g', linewidth=2, label=r'mean - 2 stddev');\n",
    "\n",
    "plt.ylim(-0.,17);\n",
    "plt.yticks(np.linspace(0, 15, 4)[1:]);\n",
    "plt.xticks(np.linspace(*x_range, num=9));\n",
    "\n",
    "ax=plt.gca();\n",
    "ax.xaxis.set_ticks_position('bottom')\n",
    "ax.yaxis.set_ticks_position('left')\n",
    "ax.spines['left'].set_position(('data', 0))\n",
    "ax.spines['top'].set_visible(False)\n",
    "ax.spines['right'].set_visible(False)\n",
    "#ax.spines['left'].set_smart_bounds(True)\n",
    "#ax.spines['bottom'].set_smart_bounds(True)\n",
    "plt.legend(loc='center left', fancybox=True, framealpha=0., bbox_to_anchor=(1.05, 0.5))\n",
    "\n",
    "plt.savefig('/tmp/fig2.png', bbox_inches='tight', dpi=300)"
   ]
  },
  {
   "cell_type": "markdown",
   "metadata": {
    "id": "gEgaaos6TWYt"
   },
   "source": [
    "### Case 2: MAP Neural Network Regression with Heteroscedastic Uncertainty"
   ]
  },
  {
   "cell_type": "code",
   "execution_count": 18,
   "metadata": {
    "colab": {
     "base_uri": "https://localhost:8080/"
    },
    "id": "F4NnGnszthbA",
    "outputId": "5ccf718f-a544-468c-96f5-0d10e174685c"
   },
   "outputs": [
    {
     "name": "stdout",
     "output_type": "stream",
     "text": [
      "[ 6.22067861e-02 -9.46047287e-16  4.01225034e-03  3.58297713e-02\n",
      " -4.60407871e-04 -5.79395673e-05 -2.93223570e-11  2.12026876e-03\n",
      " -5.63695910e-04  3.99892405e-03  3.54661001e-03 -1.30579046e-17\n",
      " -1.69170380e-05 -3.36294215e-05 -5.90086729e-11  8.59671384e-02\n",
      " -3.16868906e-15  9.27863643e-04 -4.99942340e-02 -5.96420352e-12\n",
      " -1.82857533e-04 -6.43793028e-04 -3.61031780e-05 -6.89120963e-02\n",
      "  5.61266430e-02 -6.82739122e-03 -8.55208491e-05  2.42661972e-05\n",
      " -3.07861536e-16 -1.52829163e-08  9.39404890e-02 -5.34037268e-03\n",
      " -1.11923160e-04 -1.10120254e-07 -1.37885811e-03  1.71661526e-02\n",
      "  3.32793826e-03  1.19274577e-04 -6.34765229e-07  2.74318568e-02\n",
      " -2.14654793e-15  4.17793915e-02 -3.11522376e-06 -4.71178559e-04\n",
      "  6.44104257e-02 -1.64665807e-12 -5.51133006e-08 -6.66048843e-04\n",
      "  2.71061086e-04 -2.87529245e-12 -7.13423342e-02 -5.01823696e-15\n",
      " -5.56881616e-07  1.23846598e-01  7.26088509e-02 -4.34274133e-03\n",
      " -2.81323880e-01  2.05414873e-02  1.58433407e-03 -5.59030706e-03\n",
      " -8.74774457e-07 -5.84546562e-08  1.97937060e-03 -9.17465570e-08\n",
      " -2.51840567e-03 -3.57276209e-09 -1.72818458e-04  3.46464440e-02\n",
      " -7.20829749e-03 -5.26200631e-04 -1.12016245e-14 -6.40538123e-10\n",
      " -1.63662445e-03  1.26646170e-02  4.86554615e-02 -6.74764044e-04\n",
      "  4.01231870e-02  7.83138722e-03  1.14002156e-04 -2.75056949e-10\n",
      " -2.73828518e-05 -5.10102080e-04 -1.72696644e-04 -1.06489670e-05\n",
      "  5.59348334e-03 -1.25348894e-02 -2.56586219e-08 -7.05599831e-03\n",
      "  3.38863209e-02  2.10990175e-03 -3.44513683e-04  1.71234808e-03\n",
      " -1.24483562e-16 -8.72310721e-08 -3.19423079e-02  1.96201634e-03\n",
      "  2.87926067e-02 -2.05905009e-02 -6.28644993e-05  1.29984715e-03]\n",
      "[ 8.98531303e-02 -1.54755852e-15 -2.70868950e-02 -8.77944529e-02\n",
      "  3.80091835e-03 -5.60140470e-05 -6.42655512e-11 -1.59816593e-02\n",
      " -8.51440593e-04  2.41997950e-02 -1.81032605e-02 -1.11357180e-17\n",
      "  8.13967017e-06 -4.10554167e-05 -6.03608968e-11 -1.07680790e-01\n",
      "  8.90872196e-16 -5.90564730e-03 -4.44599763e-02 -1.11321386e-11\n",
      "  4.35602255e-02  2.32672598e-03 -3.71109090e-05 -3.21645252e-02\n",
      "  5.93643904e-01  1.76933501e-02  2.99477242e-02  1.95025699e-04\n",
      "  2.18471932e-17 -2.42065159e-08  6.06683731e-01  4.48638983e-02\n",
      "  9.94207105e-04 -5.12311971e-09 -1.12004820e-02  1.44680560e-01\n",
      " -1.64641384e-02 -8.28739721e-04 -7.91914943e-07  2.36732677e-01\n",
      " -5.46030769e-15  4.43914607e-02 -6.41590668e-06 -6.72408147e-04\n",
      "  3.65945399e-01 -5.57487487e-13  2.43546509e-07 -8.15317442e-04\n",
      " -1.74814009e-03 -8.33788680e-12  7.68985331e-01  3.62792390e-16\n",
      " -1.98547605e-06  4.83025350e-02  6.19660988e-02 -3.97941936e-03\n",
      " -2.19271585e-01 -2.87172403e-02  5.01384493e-03  8.68160665e-01\n",
      "  2.05100974e-07 -2.74245821e-07 -5.99642377e-03 -1.51286443e-07\n",
      "  1.19349798e-02 -5.34321920e-09  4.65276726e-02  2.56588668e-01\n",
      " -8.73737317e-03  1.91917703e-01 -6.87308664e-15 -6.98256697e-09\n",
      "  1.55749163e-02  1.17509209e-01  2.76918113e-01 -6.82996819e-04\n",
      "  2.64266998e-01  2.28583179e-02  3.27455899e-04 -2.64538613e-10\n",
      " -6.14190576e-05  4.57962137e-03 -2.22169998e-04  8.23629364e-07\n",
      "  6.12960532e-02  5.33769690e-02 -3.44481279e-08  5.95373772e-02\n",
      "  2.41328686e-01  2.17327313e-03  1.11873043e+00  5.54593606e-03\n",
      " -2.60008860e-16 -8.31146991e-08 -2.90795937e-02 -1.38428155e-02\n",
      "  5.60660250e-02 -1.85401700e-02 -9.17452999e-05 -8.56407452e-03]\n",
      "[ 5.51718697e-02 -8.54637980e-16 -1.02605037e-02 -2.32776739e-02\n",
      "  2.32820166e-03 -2.53863891e-05 -2.27213491e-11 -5.79008553e-03\n",
      " -2.53681443e-04  2.29955167e-02 -4.87231323e-03 -1.20116816e-17\n",
      " -2.14500778e-05 -1.37935476e-05 -8.70893635e-11 -7.37379119e-03\n",
      " -6.65599919e-16 -2.48754770e-03 -1.34035824e-02 -4.92930176e-12\n",
      "  4.08670381e-02  2.03657872e-03  9.23029256e-06 -3.39894816e-02\n",
      "  5.85159779e-01  1.41074904e-03  2.81292517e-02  1.99701986e-04\n",
      " -3.82248631e-17 -1.25242643e-08  6.13683641e-01  3.22233774e-02\n",
      "  5.79192536e-04 -1.68133056e-07 -4.03569452e-03  1.48865700e-01\n",
      " -4.04192926e-03 -3.36614641e-04 -3.81241506e-07  2.45757490e-01\n",
      " -5.17645975e-16  2.14219987e-02 -9.03708678e-06 -2.38189998e-04\n",
      "  3.66483539e-01 -3.19761524e-13  1.62994326e-07 -3.62016784e-04\n",
      " -7.49433006e-04 -2.80115623e-12  5.46064854e-01 -2.93968777e-15\n",
      " -6.06249500e-07  3.66501734e-02  3.06112058e-02 -2.86950846e-03\n",
      " -1.65488571e-01 -5.34281135e-03  5.41865546e-03  8.30092311e-01\n",
      "  6.13711791e-07 -4.70307242e-08 -3.25709814e-03 -1.50950772e-08\n",
      "  9.14815348e-03 -5.03875741e-09  4.38158289e-02  2.55923241e-01\n",
      " -4.24003880e-03  1.74281999e-01 -3.98832451e-15 -5.66355096e-09\n",
      "  1.06641306e-02  1.25210837e-01  2.77420282e-01 -5.34429972e-04\n",
      "  2.64437199e-01  2.23244354e-02  2.64432281e-04 -2.39594650e-10\n",
      " -8.42372719e-06  3.27695161e-03 -7.68575192e-05 -1.04229230e-08\n",
      "  6.51296526e-02  4.47120406e-02 -1.71375465e-08  4.14816029e-02\n",
      "  2.40404710e-01  1.15724851e-03  1.07975447e+00  5.89297432e-03\n",
      " -2.63365678e-16 -2.51281431e-08 -1.80389155e-02 -5.16086491e-03\n",
      "  3.85619961e-02 -1.28096230e-02 -4.58067407e-05 -3.51347867e-03]\n",
      "1.0683631\n",
      "[ 8.77724886e-02  2.13088502e-15 -2.64750961e-02 -7.42572397e-02\n",
      " -3.03995470e-03  6.79192744e-05  4.03166320e-11 -1.48448842e-02\n",
      "  1.03391998e-03  6.54302363e-04 -1.61917564e-02  8.29654544e-18\n",
      " -1.97379068e-05  4.44437828e-05  2.69170580e-12 -1.07415974e-01\n",
      " -5.20078738e-15 -6.03227783e-03  3.62644903e-04  8.96444551e-12\n",
      "  1.04350867e-04 -1.63382676e-03  5.56267078e-05 -1.78405771e-03\n",
      "  1.68795157e-02 -1.19673982e-02  5.41815243e-05  6.71596717e-06\n",
      " -3.03230417e-17  3.38681829e-08  3.02514844e-02 -3.29311676e-02\n",
      " -7.93781073e-04  1.00774074e-07  2.16330728e-03  4.72149020e-03\n",
      " -1.46691585e-02 -7.94123684e-04  8.37823904e-07  1.34773990e-02\n",
      "  2.42136650e-15  6.37878180e-02  2.68274493e-06  8.11654143e-04\n",
      "  1.97164323e-02 -7.15880046e-13 -1.88153649e-07  1.06126838e-03\n",
      " -1.72674889e-03  5.28388791e-12 -5.00463068e-01 -1.96595585e-15\n",
      "  5.31161788e-07  1.37370378e-01  8.15480202e-02  5.00999903e-03\n",
      "  3.10946673e-01 -2.84852590e-02  3.43735772e-03  2.05328059e-03\n",
      "  1.00714665e-07  1.01850617e-07 -5.64824045e-03  1.12006155e-07\n",
      " -8.67267046e-03  3.89141874e-09 -1.13049243e-03  8.63302127e-03\n",
      "  1.04146153e-02  1.00613688e-04 -1.01202660e-15  4.33209202e-09\n",
      " -1.09822275e-02  4.30367980e-03  6.51205108e-02  3.06853181e-04\n",
      "  1.02597345e-02  1.72654334e-02  2.53765174e-04  1.74620068e-10\n",
      "  5.50064724e-05 -3.25546204e-03  2.74146005e-04  1.15775015e-06\n",
      "  1.36867189e-03 -3.38803083e-02  2.49046792e-08 -4.18091677e-02\n",
      "  8.40055011e-03  3.03133414e-03  1.85285416e-03  3.59145319e-03\n",
      "  3.02733572e-16  6.74286049e-09  4.10888828e-02 -1.32482294e-02\n",
      "  4.80719842e-02  2.35480200e-02  1.04666309e-04 -8.61833617e-03]\n",
      "0.0007542977\n"
     ]
    }
   ],
   "source": [
    "l2_reg = tf.keras.regularizers.l2(l2=0.0001)\n",
    "# Build model.\n",
    "input = tf.keras.layers.Input(1)\n",
    "h1 = tf.keras.layers.Dense(100,activation=tf.keras.activations.relu,kernel_regularizer=l2_reg,bias_regularizer=l2_reg)(input)\n",
    "m = tf.keras.layers.Dense(1,kernel_regularizer=l2_reg,bias_regularizer=l2_reg)(h1)\n",
    "s = tf.keras.layers.Dense(1,activation=tf.keras.activations.exponential,kernel_regularizer=l2_reg,bias_regularizer=l2_reg)(h1)\n",
    "p = tfp.layers.DistributionLambda(lambda t: tfd.Normal(loc=t[0], scale=t[1]))([m,s])\n",
    "model = tf.keras.Model(inputs=input, outputs=p)\n",
    "\n",
    "# Do inference.\n",
    "model.compile(optimizer=tf.optimizers.Adam(learning_rate=0.01), loss=expectednegloglik)\n",
    "model.fit(x, y, epochs=1000, verbose=False);\n",
    "\n",
    "# Profit.\n",
    "[print(np.squeeze(w.numpy())) for w in model.weights];\n",
    "yhat = model(x_tst)\n",
    "assert isinstance(yhat, tfd.Distribution)"
   ]
  },
  {
   "cell_type": "code",
   "execution_count": 19,
   "metadata": {
    "colab": {
     "base_uri": "https://localhost:8080/",
     "height": 138
    },
    "id": "fn4_FWV-ty03",
    "outputId": "2b156dae-6865-49c2-9809-68d0cd96d483"
   },
   "outputs": [
    {
     "data": {
      "image/png": "[encoded data removed]",
      "text/plain": [
       "<Figure size 432x108 with 1 Axes>"
      ]
     },
     "metadata": {
      "needs_background": "light"
     },
     "output_type": "display_data"
    }
   ],
   "source": [
    "plt.figure(figsize=[6, 1.5])  # inches\n",
    "plt.plot(x, y, 'b.', label='observed');\n",
    "\n",
    "m = yhat.mean()\n",
    "s = yhat.stddev()\n",
    "\n",
    "plt.plot(x_tst, m, 'r', linewidth=4, label='mean');\n",
    "plt.plot(x_tst, m + 2 * s, 'g', linewidth=2, label=r'mean + 2 stddev');\n",
    "plt.plot(x_tst, m - 2 * s, 'g', linewidth=2, label=r'mean - 2 stddev');\n",
    "\n",
    "plt.ylim(-0.,17);\n",
    "plt.yticks(np.linspace(0, 15, 4)[1:]);\n",
    "plt.xticks(np.linspace(*x_range, num=9));\n",
    "\n",
    "ax=plt.gca();\n",
    "ax.xaxis.set_ticks_position('bottom')\n",
    "ax.yaxis.set_ticks_position('left')\n",
    "ax.spines['left'].set_position(('data', 0))\n",
    "ax.spines['top'].set_visible(False)\n",
    "ax.spines['right'].set_visible(False)\n",
    "#ax.spines['left'].set_smart_bounds(True)\n",
    "#ax.spines['bottom'].set_smart_bounds(True)\n",
    "plt.legend(loc='center left', fancybox=True, framealpha=0., bbox_to_anchor=(1.05, 0.5))\n",
    "\n",
    "plt.savefig('/tmp/fig2.png', bbox_inches='tight', dpi=300)"
   ]
  },
  {
   "cell_type": "code",
   "execution_count": 20,
   "metadata": {
    "id": "-UbDziyxUM-A"
   },
   "outputs": [],
   "source": [
    "import tensorflow as tf\n",
    "import numpy as np\n",
    "import math\n",
    "class LaplaceApproximation(tf.keras.Model):\n",
    "\n",
    "    def __init__(self,model):\n",
    "        super().__init__()\n",
    "        self.model = model\n",
    "        self.mean = None\n",
    "        self.std = None\n",
    "        self.lam = None\n",
    "\n",
    "    def fit(self,dataset,training=False):\n",
    "        \"\"\"\n",
    "        Fit the Laplace approximation for a model. Setting the mean of the Laplace approximation to the weights of the model \n",
    "            and, using the diagonal of the Fisher matrix, set the standard deviation of the Laplace approximation.\n",
    "        :param model: Model whose Fisher matrix is to be computed.\n",
    "        :param dataset: Dataset which the model has been trained on, but which will not be seen in the future. \n",
    "            Formatted as (inputs, labels).\n",
    "        :param samples: Number of samples to take from the dataset. More samples\n",
    "            gives a better approximation of the true variance.\n",
    "        \"\"\"\n",
    "        inputs, labels = dataset\n",
    "        trainable_weights = self.model.trainable_weights\n",
    "        variance = [tf.zeros_like(tensor) for tensor in trainable_weights]\n",
    "        \n",
    "        pb = tf.keras.utils.Progbar(inputs.shape[0])\n",
    "\n",
    "        for i in range(inputs.shape[0]):\n",
    "            pb.update(i)\n",
    "            index = i#np.random.randint(len(inputs))\n",
    "            # Select an element from the dataset.\n",
    "            data = inputs[index]\n",
    "            target = labels[index]\n",
    "\n",
    "            # When extracting from the array we lost a dimension so put it back.\n",
    "            data = tf.expand_dims(data, axis=0)\n",
    "\n",
    "            # Collect gradients.\n",
    "            with tf.GradientTape() as tape:\n",
    "                output = self.model(data,training=training)\n",
    "                log_likelihood = output.log_prob(target)\n",
    "\n",
    "            gradients = tape.gradient(log_likelihood, trainable_weights)\n",
    "\n",
    "            # If the model has converged, we can assume that the current weights\n",
    "            # are the mean, and each gradient we see is a deviation. The variance is\n",
    "            # the average of the square of this deviation.\n",
    "            variance = [var + (grad ** 2) for var, grad in zip(variance, gradients)]\n",
    "\n",
    "        self.fisher_diagonal = [tensor.numpy() for tensor in variance]\n",
    "        #self.fisher_diagonal = [tensor.numpy() / samples * inputs.shape[0] for tensor in variance]\n",
    "        \n",
    "        mins = [np.min(f) for f in self.fisher_diagonal]\n",
    "        for i,x in enumerate(mins):\n",
    "          if i==0 or min > x:\n",
    "            min = x\n",
    "        print(min)\n",
    "        #print('FISHER')\n",
    "        #print(fisher_diagonal)\n",
    "        self.mean = self.model.get_weights()       \n",
    "        \n",
    "\n",
    "    def reset_weights(self):\n",
    "        if self.mean:\n",
    "            self.model.set_weights(self.mean)\n",
    "\n",
    "    def set_std(self, weight_decay):\n",
    "      self.std = [np.reciprocal(np.sqrt(x+weight_decay)) for x in self.fisher_diagonal]\n",
    "\n",
    "    def call(self, inputs, training=False):\n",
    "        e = [np.random.standard_normal(x.shape) for x in self.mean]\n",
    "        sample = [m+s*e for m, s, e in zip(self.mean,self.std,e)]\n",
    "        self.model.set_weights(sample)\n",
    "        return self.model(inputs,training=training)"
   ]
  },
  {
   "cell_type": "code",
   "execution_count": 21,
   "metadata": {
    "id": "H7kEk6DVwSP6"
   },
   "outputs": [],
   "source": [
    "la = LaplaceApproximation(model)"
   ]
  },
  {
   "cell_type": "code",
   "execution_count": 22,
   "metadata": {
    "colab": {
     "base_uri": "https://localhost:8080/"
    },
    "id": "4zVZ4J0gwaXg",
    "outputId": "ed5e68e2-8830-40a0-c58f-5b89d5405199"
   },
   "outputs": [
    {
     "name": "stdout",
     "output_type": "stream",
     "text": [
      "144/150 [===========================>..] - ETA: 0s6.6672886e-33\n"
     ]
    }
   ],
   "source": [
    "la.fit([x,y])"
   ]
  },
  {
   "cell_type": "code",
   "execution_count": 23,
   "metadata": {
    "id": "ayqOa8sxxe1L"
   },
   "outputs": [],
   "source": [
    "la.set_std(100)"
   ]
  },
  {
   "cell_type": "code",
   "execution_count": 24,
   "metadata": {
    "colab": {
     "base_uri": "https://localhost:8080/",
     "height": 166
    },
    "id": "xzYnRMrywnSi",
    "outputId": "b4324316-fecf-4087-f11b-a0743b86a099"
   },
   "outputs": [
    {
     "data": {
      "image/png": "[encoded data removed]",
      "text/plain": [
       "<Figure size 432x108 with 1 Axes>"
      ]
     },
     "metadata": {
      "needs_background": "light"
     },
     "output_type": "display_data"
    }
   ],
   "source": [
    "plt.figure(figsize=[6, 1.5])  # inches\n",
    "plt.plot(x, y, 'b.', label='observed');\n",
    "\n",
    "yhats = [la(x_tst) for _ in range(100)]\n",
    "avgm = np.zeros_like(x_tst[..., 0])\n",
    "ms = []\n",
    "ss = []\n",
    "for i, yhat in enumerate(yhats):\n",
    "  m = np.squeeze(yhat.mean())\n",
    "  s = np.squeeze(yhat.stddev())\n",
    "  if i < 15:\n",
    "    plt.plot(x_tst, m, 'r', label='ensemble means' if i == 0 else None, linewidth=1.)\n",
    "    plt.plot(x_tst, m + 2 * s, 'g', linewidth=0.5, label='ensemble means + 2 ensemble stdev' if i == 0 else None);\n",
    "    plt.plot(x_tst, m - 2 * s, 'g', linewidth=0.5, label='ensemble means - 2 ensemble stdev' if i == 0 else None);\n",
    "  ms += [m]\n",
    "  ss += [s]\n",
    "ms = np.array(ms)\n",
    "avgm = ms.mean(axis=0)\n",
    "ss = np.array(ss)\n",
    "avgs = np.sqrt((ms**2+ss**2).mean(axis=0)-avgm**2)\n",
    "plt.plot(x_tst, avgm, 'r', label='overall mean', linewidth=4)\n",
    "plt.plot(x_tst, avgm + 2 * avgs, 'g', linewidth=4, label='overall mean + 2 overall stdev');\n",
    "plt.plot(x_tst, avgm - 2 * avgs, 'g', linewidth=4, label='overall means - 2 overall stdev');\n",
    "\n",
    "plt.ylim(-0.,17);\n",
    "plt.yticks(np.linspace(0, 15, 4)[1:]);\n",
    "plt.xticks(np.linspace(*x_range, num=9));\n",
    "\n",
    "ax=plt.gca();\n",
    "ax.xaxis.set_ticks_position('bottom')\n",
    "ax.yaxis.set_ticks_position('left')\n",
    "ax.spines['left'].set_position(('data', 0))\n",
    "ax.spines['top'].set_visible(False)\n",
    "ax.spines['right'].set_visible(False)\n",
    "#ax.spines['left'].set_smart_bounds(True)\n",
    "#ax.spines['bottom'].set_smart_bounds(True)\n",
    "plt.legend(loc='center left', fancybox=True, framealpha=0., bbox_to_anchor=(1.05, 0.5))\n",
    "\n",
    "plt.savefig('/tmp/fig4.png', bbox_inches='tight', dpi=300)"
   ]
  },
  {
   "cell_type": "code",
   "execution_count": 25,
   "metadata": {
    "id": "N-qbK-Z6QCwx"
   },
   "outputs": [],
   "source": [
    "#@title Synthesize New Dataset.\n",
    "w0 = 0.125\n",
    "b0 = 5.\n",
    "x_range = [-20, 60]\n",
    "\n",
    "def load_dataset(n=150, n_tst=150):\n",
    "  np.random.seed(42)\n",
    "  def s(x):\n",
    "    g = (x - x_range[0]) / (x_range[1] - x_range[0])\n",
    "    return 3 * (0.25 + g**2.)\n",
    "  x = (x_range[1] - x_range[0]) * np.random.rand(n) + x_range[0]\n",
    "  eps = np.random.randn(n) * s(x)\n",
    "  y = (w0 * x * (1. + np.sin(x)) + b0) + eps\n",
    "  x = x[..., np.newaxis]\n",
    "  x_tst = np.linspace(*x_range, num=n_tst).astype(np.float32)\n",
    "  x_tst = x_tst[..., np.newaxis]\n",
    "  return y, x, x_tst\n",
    "\n",
    "y_2, x_2, x_tst_2 = load_dataset()"
   ]
  },
  {
   "cell_type": "markdown",
   "metadata": {
    "id": "iXvgX4r-QFIE"
   },
   "source": [
    "### MAP Neural Network Regression with Heteroscedastic Uncertainty and a Laplace Approximation Prior"
   ]
  },
  {
   "cell_type": "code",
   "execution_count": 26,
   "metadata": {
    "id": "lWb_OFXtxa_6"
   },
   "outputs": [],
   "source": [
    "class GaussianPriorRegularizer(tf.keras.regularizers.Regularizer):\n",
    "  def __init__(self, loc, scale,n_examples):\n",
    "    self.loc = loc\n",
    "    self.scale= scale\n",
    "\n",
    "  def __call__(self, x):\n",
    "    return 0.5/float(n_examples) * tf.math.reduce_sum(tf.square(tf.math.reciprocal(self.scale)) * tf.math.square(x-self.loc))\n",
    "\n",
    "  def get_config(self):\n",
    "    return {'loc': self.loc, 'scale': self.scale}"
   ]
  },
  {
   "cell_type": "code",
   "execution_count": 27,
   "metadata": {
    "id": "HMmE0KLRNYxm"
   },
   "outputs": [],
   "source": [
    "W1_loc = model.trainable_weights[0]\n",
    "b1_loc = model.trainable_weights[1]\n",
    "W2_mu_loc = model.trainable_weights[2]\n",
    "b2_mu_loc = model.trainable_weights[3]\n",
    "W2_sig_loc = model.trainable_weights[4]\n",
    "b2_sig_loc = model.trainable_weights[5]"
   ]
  },
  {
   "cell_type": "code",
   "execution_count": 28,
   "metadata": {
    "id": "TFBaAp91Ps3B"
   },
   "outputs": [],
   "source": [
    "W1_scale = la.std[0]\n",
    "b1_scale = la.std[1]\n",
    "W2_mu_scale = la.std[2]\n",
    "b2_mu_scale = la.std[3]\n",
    "W2_sig_scale = la.std[4]\n",
    "b2_sig_scale = la.std[5]"
   ]
  },
  {
   "cell_type": "code",
   "execution_count": 29,
   "metadata": {
    "id": "GpWW-1iFP_Mo"
   },
   "outputs": [],
   "source": [
    "reg_W1 = GaussianPriorRegularizer(loc=W1_loc,scale=W1_scale,n_examples=n_examples)\n",
    "reg_b1 = GaussianPriorRegularizer(loc=b1_loc,scale=b1_scale,n_examples=n_examples)\n",
    "reg_W2_mu = GaussianPriorRegularizer(loc=W2_mu_loc,scale=W2_mu_scale,n_examples=n_examples)\n",
    "reg_b2_mu = GaussianPriorRegularizer(loc=b2_mu_loc,scale=b2_mu_scale,n_examples=n_examples)\n",
    "reg_W2_sig = GaussianPriorRegularizer(loc=W2_sig_loc,scale=W2_sig_scale,n_examples=n_examples)\n",
    "reg_b2_sig = GaussianPriorRegularizer(loc=b2_sig_loc,scale=b2_sig_scale,n_examples=n_examples)"
   ]
  },
  {
   "cell_type": "code",
   "execution_count": 30,
   "metadata": {
    "colab": {
     "base_uri": "https://localhost:8080/"
    },
    "id": "HAhrm3QdO_mU",
    "outputId": "b21cb911-c9df-4410-af57-c3376bf30eb3"
   },
   "outputs": [
    {
     "name": "stdout",
     "output_type": "stream",
     "text": [
      "[ 0.07443348  0.06050516  0.00974501  0.06835424  0.1712031   0.02014165\n",
      "  0.01322666  0.02645529 -0.1513343   0.07342391  0.04954278 -0.00945537\n",
      "  0.11223386  0.14521721 -0.01921391  0.09133232  0.01077387  0.04817864\n",
      " -0.12140865  0.06544052  0.03310148  0.05925758 -0.01353747 -0.05131273\n",
      "  0.05231785 -0.01564658  0.08163156 -0.09946912 -0.03746968  0.23308419\n",
      "  0.07561215 -0.09078916  0.02025738 -0.01356779  0.06067039  0.00410213\n",
      " -0.08347935  0.18189026 -0.14072937  0.02344365  0.01580163  0.06980103\n",
      "  0.03906565  0.06998456  0.11082297 -0.02496614 -0.12564853 -0.033077\n",
      "  0.10802601  0.02568623 -0.07203516  0.04614519  0.20657115  0.12888147\n",
      "  0.09332608 -0.05602095 -0.2805284   0.01841156  0.0050877  -0.00467962\n",
      " -0.11835048 -0.0194316   0.02867237  0.04613513 -0.01862732  0.20724799\n",
      "  0.11261694  0.05290936 -0.0601466  -0.06883242 -0.0266222   0.0433839\n",
      " -0.0260831   0.0411768   0.04571909 -0.06173946  0.01300578  0.11387533\n",
      "  0.17293522 -0.08487515  0.09997336 -0.08685935 -0.00163971 -0.00435603\n",
      " -0.00506776  0.11799495 -0.1576533   0.05464636  0.02334473  0.06728482\n",
      " -0.00547875  0.19336797 -0.02738121  0.01314574  0.01256018 -0.01654336\n",
      "  0.01189986 -0.16477312 -0.02977414  0.07526822]\n",
      "[ 9.13837552e-02  2.81807244e-01 -5.35660656e-03 -4.46474366e-02\n",
      " -2.28008777e-02  3.03114168e-02 -3.54844071e-02 -1.57305188e-02\n",
      " -2.07731705e-02  1.13714777e-01  2.20262073e-02 -1.19795039e-01\n",
      " -2.48300675e-02 -4.44489095e-04 -8.86530280e-02 -1.49424732e-01\n",
      " -5.22532426e-02  1.95884965e-02 -2.43741088e-02 -6.47186935e-02\n",
      " -1.21629514e-01 -2.08513346e-02  2.11187929e-01  2.07609497e-02\n",
      "  6.31484926e-01  3.93839963e-02  9.29003283e-02 -4.78397310e-02\n",
      " -3.27455029e-02  8.02764371e-02  6.57407880e-01  2.27166519e-01\n",
      " -1.21845126e-01  8.56586471e-02 -3.61190201e-03  2.28753518e-02\n",
      "  7.29954913e-02  1.67966619e-01  1.64468540e-03  2.13885620e-01\n",
      "  1.24069557e-01  3.73006309e-03  7.66517743e-02 -3.83658856e-02\n",
      "  4.85552579e-01  1.20553397e-01 -3.52366492e-02  3.53196566e-03\n",
      "  8.24100673e-02  1.21869758e-01  7.90405869e-01  7.26889968e-02\n",
      " -7.23165227e-03  5.72469682e-02  1.15901297e-02  9.51788425e-02\n",
      " -3.18613313e-02  1.24121187e-02  1.61237046e-01  1.01333523e+00\n",
      " -1.26334634e-02  5.08278087e-02 -2.08723154e-02  5.27755022e-02\n",
      " -3.40628140e-02 -6.35302588e-02  1.65890560e-01  1.33187115e-01\n",
      " -4.25849371e-02  4.01367694e-01  9.58223492e-02  6.90528974e-02\n",
      " -9.40403119e-02  2.00333565e-01  1.55555993e-01  2.21264318e-01\n",
      "  2.70325691e-01  1.01913378e-01  8.50260705e-02  5.22035826e-03\n",
      "  1.92651972e-01  1.12768203e-01  3.80759267e-03  6.73184320e-02\n",
      " -1.35045797e-01  4.05039638e-02 -5.50122075e-02 -1.94282242e-04\n",
      "  1.04275674e-01 -9.72876325e-02  1.08258712e+00  1.71795830e-01\n",
      " -1.88820228e-01  1.70626137e-02 -1.39935702e-01  5.46487048e-02\n",
      " -8.32231268e-02  1.34894162e-01 -1.31245673e-01 -7.17107952e-02]\n",
      "[ 1.15868412e-01  1.50191680e-01 -4.49628979e-02  2.30520610e-02\n",
      " -7.25648087e-03 -8.58903900e-02 -1.56217948e-01 -7.84740448e-02\n",
      "  1.92210168e-01  9.10796076e-02 -5.79212084e-02  1.07839726e-01\n",
      "  1.22919239e-01  7.70855322e-02  1.55004069e-01  3.59488055e-02\n",
      "  2.74361651e-02  1.14056654e-01  6.00003041e-02  1.51670530e-01\n",
      "  7.05933124e-02  7.27902651e-02 -1.17016554e-01 -9.89186913e-02\n",
      "  6.31013572e-01  9.19014215e-02 -8.45094323e-02  1.15671858e-01\n",
      "  5.38871549e-02  1.94674172e-02  6.30657136e-01  2.22852439e-01\n",
      " -1.61612537e-02  9.69690084e-03  5.15518077e-02  9.29390639e-02\n",
      " -1.00585781e-01 -2.26391703e-01  2.66012009e-02  2.44117633e-01\n",
      " -1.14225432e-01  2.28439316e-01  5.33512933e-03 -7.12066963e-02\n",
      "  2.30989337e-01 -1.16713062e-01  1.28936887e-01  4.28563543e-02\n",
      " -3.46428491e-02 -2.19911933e-02  4.63821322e-01 -1.05051510e-03\n",
      "  1.78252012e-02 -6.31422400e-02  1.79450642e-02 -4.73327339e-02\n",
      " -1.50599808e-01 -3.14773992e-02 -9.30530429e-02  9.04130876e-01\n",
      " -9.17602852e-02  5.07901888e-03  9.63405892e-02  2.19676241e-01\n",
      "  7.68490583e-02  1.35706291e-01 -3.63782346e-02  2.44706213e-01\n",
      "  4.96119149e-02  6.81846812e-02  1.62451953e-01  2.80166138e-02\n",
      " -4.77426201e-02  3.30609418e-02  9.91794169e-02  1.05587076e-02\n",
      "  2.14266539e-01 -1.89614538e-02 -1.96068808e-02 -6.03115708e-02\n",
      "  5.79280294e-02 -1.78733412e-02  2.87756994e-02 -1.79197773e-01\n",
      " -7.53495544e-02  1.32687939e-02 -6.92158788e-02  2.20537651e-02\n",
      "  2.45717973e-01  1.61585346e-01  1.09230709e+00 -7.30574131e-02\n",
      "  1.88998178e-01  7.14488386e-04  1.07900426e-01 -9.22527686e-02\n",
      "  2.03377694e-01  6.10130988e-02 -3.21843550e-02 -1.51973367e-01]\n",
      "1.0881131\n",
      "[ 0.09399676 -0.05831011  0.04939472 -0.12529056  0.1426104  -0.10098734\n",
      " -0.0903488  -0.0790531  -0.11219206 -0.22843033  0.00887415  0.13145076\n",
      " -0.074699   -0.02321127 -0.07971952 -0.08418275  0.03891763 -0.23067744\n",
      " -0.08849388 -0.06871643 -0.2135018  -0.1057791   0.20811108  0.09329902\n",
      "  0.0292904   0.0429301   0.02026699  0.25397724 -0.03162731 -0.0928074\n",
      "  0.01455959 -0.05419935  0.10455808 -0.14601189 -0.03688721 -0.06613893\n",
      " -0.13070479  0.03596537 -0.12801638  0.09347385 -0.0728776   0.05328939\n",
      " -0.08506372 -0.08677401  0.05666222  0.0352878  -0.19582665 -0.11510465\n",
      "  0.27473277 -0.0740409  -0.59650016 -0.01981931  0.05874058  0.14457947\n",
      "  0.09003865 -0.01011227  0.38909647 -0.21027522 -0.00895577  0.03386098\n",
      "  0.08864973 -0.04577601 -0.01656243 -0.0163805   0.1631031  -0.04830896\n",
      " -0.02232605  0.00982094 -0.05807835  0.01906999 -0.04258874 -0.02666636\n",
      " -0.03924098  0.08597824  0.0994513   0.13561547 -0.02494783 -0.01614728\n",
      "  0.01127132  0.04229227 -0.11406874  0.00414695  0.16618745  0.10841917\n",
      "  0.01861353  0.19906363 -0.10553934 -0.12095842 -0.00497062  0.03308181\n",
      "  0.02437072  0.04025454  0.02939759 -0.2730066   0.14551385  0.02903512\n",
      "  0.05033648 -0.01045154  0.11837661 -0.05407836]\n",
      "0.041924622\n"
     ]
    }
   ],
   "source": [
    "\n",
    "# Build model.\n",
    "input = tf.keras.layers.Input(1)\n",
    "h1 = tf.keras.layers.Dense(100,activation=tf.keras.activations.relu,kernel_regularizer=reg_W1,bias_regularizer=reg_b1)(input)\n",
    "m = tf.keras.layers.Dense(1,kernel_regularizer=reg_W2_mu,bias_regularizer=reg_W2_mu)(h1)\n",
    "s = tf.keras.layers.Dense(1,activation=tf.keras.activations.exponential,kernel_regularizer=reg_W2_sig,bias_regularizer=reg_b2_sig)(h1)\n",
    "p = tfp.layers.DistributionLambda(lambda t: tfd.Normal(loc=t[0], scale=t[1]))([m,s])\n",
    "model_2 = tf.keras.Model(inputs=input, outputs=p)\n",
    "\n",
    "# Do inference.\n",
    "model_2.compile(optimizer=tf.optimizers.Adam(learning_rate=0.01), loss=expectednegloglik)\n",
    "model_2.fit(x_2, y_2, epochs=1000, verbose=False);\n",
    "\n",
    "# Profit.\n",
    "[print(np.squeeze(w.numpy())) for w in model.weights];\n",
    "yhat_2 = model_2(x_tst_2)\n",
    "assert isinstance(yhat_2, tfd.Distribution)"
   ]
  },
  {
   "cell_type": "code",
   "execution_count": 31,
   "metadata": {
    "colab": {
     "base_uri": "https://localhost:8080/",
     "height": 138
    },
    "id": "_bXohfdcRUcf",
    "outputId": "5105908b-5934-4903-e2eb-e344db926c38"
   },
   "outputs": [
    {
     "data": {
      "image/png": "[encoded data removed]",
      "text/plain": [
       "<Figure size 432x108 with 1 Axes>"
      ]
     },
     "metadata": {
      "needs_background": "light"
     },
     "output_type": "display_data"
    }
   ],
   "source": [
    "plt.figure(figsize=[6, 1.5])  # inches\n",
    "plt.plot(x_2, y_2, 'b.', label='observed');\n",
    "\n",
    "m = yhat_2.mean()\n",
    "s = yhat_2.stddev()\n",
    "\n",
    "plt.plot(x_tst_2, m, 'r', linewidth=4, label='mean');\n",
    "plt.plot(x_tst_2, m + 2 * s, 'g', linewidth=2, label=r'mean + 2 stddev');\n",
    "plt.plot(x_tst_2, m - 2 * s, 'g', linewidth=2, label=r'mean - 2 stddev');\n",
    "\n",
    "plt.ylim(-0.,17);\n",
    "plt.yticks(np.linspace(0, 15, 4)[1:]);\n",
    "plt.xticks(np.linspace(*x_range, num=9));\n",
    "\n",
    "ax=plt.gca();\n",
    "ax.xaxis.set_ticks_position('bottom')\n",
    "ax.yaxis.set_ticks_position('left')\n",
    "ax.spines['left'].set_position(('data', 0))\n",
    "ax.spines['top'].set_visible(False)\n",
    "ax.spines['right'].set_visible(False)\n",
    "#ax.spines['left'].set_smart_bounds(True)\n",
    "#ax.spines['bottom'].set_smart_bounds(True)\n",
    "plt.legend(loc='center left', fancybox=True, framealpha=0., bbox_to_anchor=(1.05, 0.5))\n",
    "\n",
    "plt.savefig('/tmp/fig2.png', bbox_inches='tight', dpi=300)"
   ]
  },
  {
   "cell_type": "code",
   "execution_count": null,
   "metadata": {
    "id": "uVzS11EukmlV"
   },
   "outputs": [],
   "source": []
  }
 ],
 "metadata": {
  "colab": {
   "provenance": []
  },
  "kernelspec": {
   "display_name": "Python 3",
   "name": "python3"
  }
 },
 "nbformat": 4,
 "nbformat_minor": 0
}
