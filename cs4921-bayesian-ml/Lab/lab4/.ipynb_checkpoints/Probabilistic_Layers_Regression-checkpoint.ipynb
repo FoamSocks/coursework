{
 "cells": [
  {
   "cell_type": "markdown",
   "metadata": {
    "id": "ZrwVQsM9TiUw"
   },
   "source": [
    "##### Copyright 2019 The TensorFlow Probability Authors.\n",
    "\n",
    "Licensed under the Apache License, Version 2.0 (the \"License\");"
   ]
  },
  {
   "cell_type": "code",
   "execution_count": null,
   "metadata": {
    "id": "CpDUTVKYTowI"
   },
   "outputs": [],
   "source": [
    "#@title Licensed under the Apache License, Version 2.0 (the \"License\"); { display-mode: \"form\" }\n",
    "# you may not use this file except in compliance with the License.\n",
    "# You may obtain a copy of the License at\n",
    "#\n",
    "# https://www.apache.org/licenses/LICENSE-2.0\n",
    "#\n",
    "# Unless required by applicable law or agreed to in writing, software\n",
    "# distributed under the License is distributed on an \"AS IS\" BASIS,\n",
    "# WITHOUT WARRANTIES OR CONDITIONS OF ANY KIND, either express or implied.\n",
    "# See the License for the specific language governing permissions and\n",
    "# limitations under the License."
   ]
  },
  {
   "cell_type": "markdown",
   "metadata": {
    "id": "ltPJCG6pAUoc"
   },
   "source": [
    "# TFP Probabilistic Layers: Regression\n",
    "\n",
    "<table class=\"tfo-notebook-buttons\" align=\"left\">\n",
    "  <td>\n",
    "    <a target=\"_blank\" href=\"https://www.tensorflow.org/probability/examples/Probabilistic_Layers_Regression\"><img src=\"https://www.tensorflow.org/images/tf_logo_32px.png\" />View on TensorFlow.org</a>\n",
    "  </td>\n",
    "  <td>\n",
    "    <a target=\"_blank\" href=\"https://colab.research.google.com/github/tensorflow/probability/blob/main/tensorflow_probability/examples/jupyter_notebooks/Probabilistic_Layers_Regression.ipynb\"><img src=\"https://www.tensorflow.org/images/colab_logo_32px.png\" />Run in Google Colab</a>\n",
    "  </td>\n",
    "  <td>\n",
    "    <a target=\"_blank\" href=\"https://github.com/tensorflow/probability/blob/main/tensorflow_probability/examples/jupyter_notebooks/Probabilistic_Layers_Regression.ipynb\"><img src=\"https://www.tensorflow.org/images/GitHub-Mark-32px.png\" />View source on GitHub</a>\n",
    "  </td>\n",
    "  <td>\n",
    "    <a href=\"https://storage.googleapis.com/tensorflow_docs/probability/tensorflow_probability/examples/jupyter_notebooks/Probabilistic_Layers_Regression.ipynb\"><img src=\"https://www.tensorflow.org/images/download_logo_32px.png\" />Download notebook</a>\n",
    "  </td>\n",
    "</table>"
   ]
  },
  {
   "cell_type": "markdown",
   "metadata": {
    "id": "WRVR-tGTR31S"
   },
   "source": [
    "In this example we show how to fit regression models using TFP's \"probabilistic layers.\""
   ]
  },
  {
   "cell_type": "markdown",
   "metadata": {
    "id": "uiR4-VOt9NFX"
   },
   "source": [
    "### Dependencies & Prerequisites\n"
   ]
  },
  {
   "cell_type": "code",
   "execution_count": 2,
   "metadata": {
    "id": "kZ0MdF1j8WJf"
   },
   "outputs": [],
   "source": [
    "#@title Import { display-mode: \"form\" }\n",
    "\n",
    "\n",
    "from pprint import pprint\n",
    "import matplotlib.pyplot as plt\n",
    "import numpy as np\n",
    "import seaborn as sns\n",
    "\n",
    "import tensorflow.compat.v2 as tf\n",
    "tf.enable_v2_behavior()\n",
    "\n",
    "import tensorflow_probability as tfp\n",
    "\n",
    "sns.reset_defaults()\n",
    "#sns.set_style('whitegrid')\n",
    "#sns.set_context('talk')\n",
    "sns.set_context(context='talk',font_scale=0.7)\n",
    "\n",
    "%matplotlib inline\n",
    "\n",
    "tfd = tfp.distributions"
   ]
  },
  {
   "cell_type": "markdown",
   "metadata": {
    "id": "7nnwjUdVoWN2"
   },
   "source": [
    "### Make things Fast!"
   ]
  },
  {
   "cell_type": "markdown",
   "metadata": {
    "id": "2CK9RaDcoYPG"
   },
   "source": [
    "Before we dive in, let's make sure we're using a GPU for this demo.  \n",
    "\n",
    "To do this, select \"Runtime\" -> \"Change runtime type\" -> \"Hardware accelerator\" -> \"GPU\".\n",
    "\n",
    "The following snippet will verify that we have access to a GPU."
   ]
  },
  {
   "cell_type": "code",
   "execution_count": 3,
   "metadata": {
    "colab": {
     "base_uri": "https://localhost:8080/"
    },
    "id": "qP_4Xr8vpA42",
    "outputId": "28239f65-cffa-4321-8cd7-c066780e8784"
   },
   "outputs": [
    {
     "name": "stdout",
     "output_type": "stream",
     "text": [
      "WARNING: GPU device not found.\n"
     ]
    }
   ],
   "source": [
    "if tf.test.gpu_device_name() != '/device:GPU:0':\n",
    "  print('WARNING: GPU device not found.')\n",
    "else:\n",
    "  print('SUCCESS: Found GPU: {}'.format(tf.test.gpu_device_name()))"
   ]
  },
  {
   "cell_type": "markdown",
   "metadata": {
    "id": "FJRBc_S0ppfE"
   },
   "source": [
    "Note: if for some reason you cannot access a GPU, this colab will still work. (Training will just take longer.)"
   ]
  },
  {
   "cell_type": "markdown",
   "metadata": {
    "id": "xuqxMmryiduM"
   },
   "source": [
    "## Motivation"
   ]
  },
  {
   "cell_type": "markdown",
   "metadata": {
    "id": "RtBLNF-tin2L"
   },
   "source": [
    "Wouldn't it be great if we could use TFP to specify a probabilistic model then simply minimize the negative log-likelihood, i.e.,"
   ]
  },
  {
   "cell_type": "code",
   "execution_count": 4,
   "metadata": {
    "id": "3PFfNeJzifo7"
   },
   "outputs": [],
   "source": [
    "negloglik = lambda y, rv_y: -rv_y.log_prob(y)"
   ]
  },
  {
   "cell_type": "markdown",
   "metadata": {
    "id": "cN4IP8n_jIvT"
   },
   "source": [
    "Well not only is it possible, but this colab shows how! (In context of linear regression problems.)"
   ]
  },
  {
   "cell_type": "code",
   "execution_count": 5,
   "metadata": {
    "id": "5zCEYpzu7bDX"
   },
   "outputs": [],
   "source": [
    "#@title Synthesize dataset.\n",
    "w0 = 0.125\n",
    "b0 = 5.\n",
    "x_range = [-20, 60]\n",
    "\n",
    "def load_dataset(n=150, n_tst=150):\n",
    "  np.random.seed(43)\n",
    "  def s(x):\n",
    "    g = (x - x_range[0]) / (x_range[1] - x_range[0])\n",
    "    return 3 * (0.25 + g**2.)\n",
    "  x = (x_range[1] - x_range[0]) * np.random.rand(n) + x_range[0]\n",
    "  eps = np.random.randn(n) * s(x)\n",
    "  y = (w0 * x * (1. + np.sin(x)) + b0) + eps\n",
    "  x = x[..., np.newaxis]\n",
    "  x_tst = np.linspace(*x_range, num=n_tst).astype(np.float32)\n",
    "  x_tst = x_tst[..., np.newaxis]\n",
    "  return y, x, x_tst\n",
    "\n",
    "y, x, x_tst = load_dataset()"
   ]
  },
  {
   "cell_type": "code",
   "execution_count": 6,
   "metadata": {
    "colab": {
     "base_uri": "https://localhost:8080/"
    },
    "id": "XW9COvZayoeb",
    "outputId": "c332deb6-0352-4ec6-aa9c-197ba241d0f4"
   },
   "outputs": [
    {
     "data": {
      "text/plain": [
       "array([[-10.79563469],\n",
       "       [ 28.72532314],\n",
       "       [ -9.32872287],\n",
       "       [ -0.7528304 ],\n",
       "       [  6.17112446],\n",
       "       [ 48.73099928],\n",
       "       [ 33.28721705],\n",
       "       [ 23.29297698],\n",
       "       [-17.67889405],\n",
       "       [ 38.6998637 ],\n",
       "       [ 11.59600147],\n",
       "       [ 44.16376949],\n",
       "       [  0.35369007],\n",
       "       [-15.44920507],\n",
       "       [ 49.33189127],\n",
       "       [ -2.31768033],\n",
       "       [ 12.39915584],\n",
       "       [  5.28771768],\n",
       "       [-13.866984  ],\n",
       "       [ 47.45797554],\n",
       "       [ 47.91513182],\n",
       "       [ 57.71720731],\n",
       "       [ 10.83015315],\n",
       "       [ 56.35905001],\n",
       "       [ 15.66066887],\n",
       "       [ 33.57797214],\n",
       "       [-13.39999602],\n",
       "       [ 51.7678864 ],\n",
       "       [  3.84028006],\n",
       "       [  0.98438581],\n",
       "       [-19.58963607],\n",
       "       [ 23.45620122],\n",
       "       [ 18.04770936],\n",
       "       [ 30.90989421],\n",
       "       [ 58.25633073],\n",
       "       [ 52.69302063],\n",
       "       [ 52.81224606],\n",
       "       [ 22.02045369],\n",
       "       [-11.67848401],\n",
       "       [ -5.52683238],\n",
       "       [ 56.24321768],\n",
       "       [ 12.95623867],\n",
       "       [ 49.20136965],\n",
       "       [ 33.77418236],\n",
       "       [ 30.30286367],\n",
       "       [  2.04470213],\n",
       "       [ 51.73978158],\n",
       "       [ -3.44869029],\n",
       "       [ 12.35241945],\n",
       "       [ 59.48579939],\n",
       "       [ 38.85816652],\n",
       "       [ 15.604913  ],\n",
       "       [ 24.85305356],\n",
       "       [ 12.90043913],\n",
       "       [ 38.15903936],\n",
       "       [ 11.93575087],\n",
       "       [ 33.61161318],\n",
       "       [ 36.37724863],\n",
       "       [ 28.7647897 ],\n",
       "       [ 23.20275713],\n",
       "       [ -3.51345193],\n",
       "       [ -4.06708187],\n",
       "       [ 43.65910919],\n",
       "       [  3.22662222],\n",
       "       [ 32.47702623],\n",
       "       [  3.96934206],\n",
       "       [ -8.44172973],\n",
       "       [ 12.31653336],\n",
       "       [  4.82156215],\n",
       "       [ -0.5281587 ],\n",
       "       [ 27.04832341],\n",
       "       [ -0.37253976],\n",
       "       [ 39.82164894],\n",
       "       [ 37.61173183],\n",
       "       [ 35.62086936],\n",
       "       [-11.78057771],\n",
       "       [ 55.49139425],\n",
       "       [ 20.26717063],\n",
       "       [ 51.97388955],\n",
       "       [ -4.11360925],\n",
       "       [ 27.55593495],\n",
       "       [ 57.23268653],\n",
       "       [ 59.89585967],\n",
       "       [-18.06651   ],\n",
       "       [ 18.50426668],\n",
       "       [  3.31381517],\n",
       "       [-14.90235453],\n",
       "       [ 25.56995192],\n",
       "       [-19.59333722],\n",
       "       [ 28.90220717],\n",
       "       [ 49.61451816],\n",
       "       [ 50.6881172 ],\n",
       "       [ 56.34555866],\n",
       "       [ 39.18910558],\n",
       "       [ -5.2229634 ],\n",
       "       [ 14.77426569],\n",
       "       [ 50.87195964],\n",
       "       [  0.40370243],\n",
       "       [ 15.46501558],\n",
       "       [ 29.35495807],\n",
       "       [-11.73179913],\n",
       "       [ 19.20877289],\n",
       "       [-16.42364781],\n",
       "       [  4.93019754],\n",
       "       [ 40.16317491],\n",
       "       [ 37.23992692],\n",
       "       [ 55.3243395 ],\n",
       "       [ 42.15162934],\n",
       "       [ -2.7817188 ],\n",
       "       [ 52.39769445],\n",
       "       [ 24.18113176],\n",
       "       [ 47.59183101],\n",
       "       [ 53.7991587 ],\n",
       "       [ 46.31690232],\n",
       "       [ 11.53583984],\n",
       "       [ 27.85505093],\n",
       "       [ 14.61584637],\n",
       "       [ 35.53177086],\n",
       "       [ 18.77491917],\n",
       "       [ -9.73917267],\n",
       "       [ 31.54963973],\n",
       "       [ -3.62350271],\n",
       "       [ 39.59657004],\n",
       "       [-11.55062349],\n",
       "       [-19.4152405 ],\n",
       "       [  6.75911932],\n",
       "       [ 57.54044031],\n",
       "       [ 36.07805515],\n",
       "       [ 13.09484278],\n",
       "       [-10.33982636],\n",
       "       [-15.17091645],\n",
       "       [ 38.0969339 ],\n",
       "       [ 52.43607875],\n",
       "       [-18.71792657],\n",
       "       [ 26.73126646],\n",
       "       [ 38.28832402],\n",
       "       [  3.37580354],\n",
       "       [ 21.82380931],\n",
       "       [ 45.1881509 ],\n",
       "       [ 27.70615841],\n",
       "       [ 10.28442716],\n",
       "       [-13.79537556],\n",
       "       [ 18.9524941 ],\n",
       "       [ 17.45551249],\n",
       "       [ -5.47721946],\n",
       "       [-14.38912524],\n",
       "       [ 20.67207457],\n",
       "       [  6.54813879],\n",
       "       [ -2.84017437],\n",
       "       [-12.42744846]])"
      ]
     },
     "execution_count": 6,
     "metadata": {},
     "output_type": "execute_result"
    }
   ],
   "source": [
    "x"
   ]
  },
  {
   "cell_type": "code",
   "execution_count": 7,
   "metadata": {
    "id": "e_MV7I1MzaFw"
   },
   "outputs": [],
   "source": [
    "n_examples = y.shape[0]"
   ]
  },
  {
   "cell_type": "code",
   "execution_count": 8,
   "metadata": {
    "id": "Do2lzfeczIQM"
   },
   "outputs": [],
   "source": [
    "expectednegloglik = lambda y, rv_y: -rv_y.log_prob(y)/n_examples"
   ]
  },
  {
   "cell_type": "markdown",
   "metadata": {
    "id": "N8Shtn_e99XC"
   },
   "source": [
    "### Case 1: MLE Linear Regression with Constant Uncertainty"
   ]
  },
  {
   "cell_type": "code",
   "execution_count": 9,
   "metadata": {
    "colab": {
     "base_uri": "https://localhost:8080/"
    },
    "id": "RxKJ_RPI0K4N",
    "outputId": "460d1ddf-2647-407f-e0d1-db6c94fd0fdc"
   },
   "outputs": [
    {
     "name": "stdout",
     "output_type": "stream",
     "text": [
      "0.1351214\n",
      "5.1272707\n"
     ]
    }
   ],
   "source": [
    "# Build model.\n",
    "input = tf.keras.layers.Input(1)\n",
    "linear = tf.keras.layers.Dense(1)(input)\n",
    "p = tfp.layers.DistributionLambda(lambda t: tfd.Normal(loc=t, scale=1))(linear)\n",
    "model = tf.keras.Model(inputs=input, outputs=p)\n",
    "\n",
    "# Do inference.\n",
    "model.compile(optimizer=tf.optimizers.Adam(learning_rate=0.01), loss=expectednegloglik)\n",
    "model.fit(x, y, epochs=1000, verbose=False);\n",
    "\n",
    "# Profit.\n",
    "[print(np.squeeze(w.numpy())) for w in model.weights];\n",
    "yhat = model(x_tst)\n",
    "assert isinstance(yhat, tfd.Distribution)"
   ]
  },
  {
   "cell_type": "code",
   "execution_count": 10,
   "metadata": {
    "colab": {
     "base_uri": "https://localhost:8080/",
     "height": 138
    },
    "id": "1AE9ElaKI6Er",
    "outputId": "02641038-a097-4761-8f28-1bbac567aacb"
   },
   "outputs": [
    {
     "data": {
      "image/png": "[encoded data removed]",
      "text/plain": [
       "<Figure size 432x108 with 1 Axes>"
      ]
     },
     "metadata": {
      "needs_background": "light"
     },
     "output_type": "display_data"
    }
   ],
   "source": [
    "\n",
    "w = np.squeeze(model.layers[-2].kernel.numpy())\n",
    "b = np.squeeze(model.layers[-2].bias.numpy())\n",
    "\n",
    "plt.figure(figsize=[6, 1.5])  # inches\n",
    "#plt.figure(figsize=[8, 5])  # inches\n",
    "plt.plot(x, y, 'b.', label='observed');\n",
    "plt.plot(x_tst, yhat.mean(),'r', label='mean', linewidth=4);\n",
    "plt.ylim(-0.,17);\n",
    "plt.yticks(np.linspace(0, 15, 4)[1:]);\n",
    "plt.xticks(np.linspace(*x_range, num=9));\n",
    "\n",
    "ax=plt.gca();\n",
    "ax.xaxis.set_ticks_position('bottom')\n",
    "ax.yaxis.set_ticks_position('left')\n",
    "ax.spines['left'].set_position(('data', 0))\n",
    "ax.spines['top'].set_visible(False)\n",
    "ax.spines['right'].set_visible(False)\n",
    "#ax.spines['left'].set_smart_bounds(True)\n",
    "#ax.spines['bottom'].set_smart_bounds(True)\n",
    "plt.legend(loc='center left', fancybox=True, framealpha=0., bbox_to_anchor=(1.05, 0.5))\n",
    "\n",
    "plt.savefig('/tmp/fig1.png', bbox_inches='tight', dpi=300)"
   ]
  },
  {
   "cell_type": "markdown",
   "metadata": {
    "id": "91kwRqs4O5Yv"
   },
   "source": [
    "### Case 2: MLE Linear Model with Homoscedastic Uncertainty"
   ]
  },
  {
   "cell_type": "code",
   "execution_count": 11,
   "metadata": {
    "colab": {
     "base_uri": "https://localhost:8080/"
    },
    "id": "TLZ97_V4PP-f",
    "outputId": "7a8fc991-8ea0-4e18-fa82-6953c0c70404"
   },
   "outputs": [
    {
     "name": "stdout",
     "output_type": "stream",
     "text": [
      "0.13650055\n",
      "5.1312\n"
     ]
    }
   ],
   "source": [
    "# Build model.\n",
    "input = tf.keras.layers.Input(1)\n",
    "linear = tf.keras.layers.Dense(1)(input)\n",
    "s = tf.keras.layers.Dense(1, activation=tf.keras.activations.exponential,use_bias=False)(tf.constant(np.ones([1,1])))\n",
    "p = tfp.layers.DistributionLambda(lambda t: tfd.Normal(loc=t[0], scale=t[1]))([linear,s])\n",
    "model = tf.keras.Model(inputs=input, outputs=p)\n",
    "\n",
    "# Do inference.\n",
    "model.compile(optimizer=tf.optimizers.Adam(learning_rate=0.01), loss=expectednegloglik)\n",
    "model.fit(x, y, epochs=1000, verbose=False);\n",
    "\n",
    "# Profit.\n",
    "[print(np.squeeze(w.numpy())) for w in model.weights];\n",
    "yhat = model(x_tst)\n",
    "assert isinstance(yhat, tfd.Distribution)"
   ]
  },
  {
   "cell_type": "code",
   "execution_count": 12,
   "metadata": {
    "colab": {
     "base_uri": "https://localhost:8080/"
    },
    "id": "dYjL4-H3n3k1",
    "outputId": "6ebd39de-5119-4617-9c01-c987b6925a4c"
   },
   "outputs": [
    {
     "name": "stdout",
     "output_type": "stream",
     "text": [
      "0.17.0\n"
     ]
    }
   ],
   "source": [
    "print(tfp.__version__)"
   ]
  },
  {
   "cell_type": "code",
   "execution_count": 13,
   "metadata": {
    "colab": {
     "base_uri": "https://localhost:8080/",
     "height": 138
    },
    "id": "JSSWw2-FPCiG",
    "outputId": "29c3a242-9428-48c3-b668-3e012722c684"
   },
   "outputs": [
    {
     "data": {
      "image/png": "[encoded data removed]",
      "text/plain": [
       "<Figure size 432x108 with 1 Axes>"
      ]
     },
     "metadata": {
      "needs_background": "light"
     },
     "output_type": "display_data"
    }
   ],
   "source": [
    "\n",
    "plt.figure(figsize=[6, 1.5])  # inches\n",
    "plt.plot(x, y, 'b.', label='observed');\n",
    "\n",
    "m = yhat.mean()\n",
    "s = yhat.stddev()\n",
    "\n",
    "plt.plot(x_tst, m, 'r', linewidth=4, label='mean');\n",
    "plt.plot(x_tst, m + 2 * s, 'g', linewidth=2, label=r'mean + 2 stddev');\n",
    "plt.plot(x_tst, m - 2 * s, 'g', linewidth=2, label=r'mean - 2 stddev');\n",
    "\n",
    "plt.ylim(-0.,17);\n",
    "plt.yticks(np.linspace(0, 15, 4)[1:]);\n",
    "plt.xticks(np.linspace(*x_range, num=9));\n",
    "\n",
    "ax=plt.gca();\n",
    "ax.xaxis.set_ticks_position('bottom')\n",
    "ax.yaxis.set_ticks_position('left')\n",
    "ax.spines['left'].set_position(('data', 0))\n",
    "ax.spines['top'].set_visible(False)\n",
    "ax.spines['right'].set_visible(False)\n",
    "#ax.spines['left'].set_smart_bounds(True)\n",
    "#ax.spines['bottom'].set_smart_bounds(True)\n",
    "plt.legend(loc='center left', fancybox=True, framealpha=0., bbox_to_anchor=(1.05, 0.5))\n",
    "\n",
    "plt.savefig('/tmp/fig2.png', bbox_inches='tight', dpi=300)"
   ]
  },
  {
   "cell_type": "markdown",
   "metadata": {
    "id": "6I1ZvjQWTAfX"
   },
   "source": [
    "### Case 2: MLE Neural Network Regression with Heteroscedastic Uncertainty"
   ]
  },
  {
   "cell_type": "code",
   "execution_count": 14,
   "metadata": {
    "colab": {
     "base_uri": "https://localhost:8080/"
    },
    "id": "e5gacKQ5qrM4",
    "outputId": "9e477056-f52f-4917-a8ba-e5c1f7ed2ba3"
   },
   "outputs": [
    {
     "name": "stdout",
     "output_type": "stream",
     "text": [
      "[-0.05542188  0.1965428  -0.02110689  0.08125608  0.00278999 -0.39273024\n",
      " -0.30923605 -0.02135507 -0.00627433 -0.31399435]\n",
      "[ 1.7793899   1.1081283  -0.0140158   0.0408124  -0.20527966 -0.21496885\n",
      "  0.11476908  1.3628616   0.3787682   1.446859  ]\n",
      "[-0.04644132  1.0338163  -0.10226362 -0.16741347 -0.1753534  -0.5227655\n",
      "  0.10624185  1.5841297   0.03720129  0.3259674 ]\n",
      "1.3384416\n",
      "[-0.3605128   0.0403275   0.02485763  0.14256415  0.30930766  0.32871065\n",
      "  0.3504029   0.01645518  0.00142024 -0.46746945]\n",
      "0.5637228\n"
     ]
    }
   ],
   "source": [
    "# Build model.\n",
    "input = tf.keras.layers.Input(1)\n",
    "h1 = tf.keras.layers.Dense(10,activation=tf.keras.activations.relu)(input)\n",
    "m = tf.keras.layers.Dense(1)(h1)\n",
    "s = tf.keras.layers.Dense(1,activation=tf.keras.activations.exponential)(h1)\n",
    "p = tfp.layers.DistributionLambda(lambda t: tfd.Normal(loc=t[0], scale=t[1]))([m,s])\n",
    "model = tf.keras.Model(inputs=input, outputs=p)\n",
    "\n",
    "# Do inference.\n",
    "model.compile(optimizer=tf.optimizers.Adam(learning_rate=0.01), loss=expectednegloglik)\n",
    "model.fit(x, y, epochs=1000, verbose=False);\n",
    "\n",
    "# Profit.\n",
    "[print(np.squeeze(w.numpy())) for w in model.weights];\n",
    "yhat = model(x_tst)\n",
    "assert isinstance(yhat, tfd.Distribution)"
   ]
  },
  {
   "cell_type": "code",
   "execution_count": 15,
   "metadata": {
    "colab": {
     "base_uri": "https://localhost:8080/",
     "height": 138
    },
    "id": "9SRGjArDrgus",
    "outputId": "a6dc6307-b555-43c1-b90b-2a0c81409ea1"
   },
   "outputs": [
    {
     "data": {
      "image/png": "[encoded data removed]",
      "text/plain": [
       "<Figure size 432x108 with 1 Axes>"
      ]
     },
     "metadata": {
      "needs_background": "light"
     },
     "output_type": "display_data"
    }
   ],
   "source": [
    "plt.figure(figsize=[6, 1.5])  # inches\n",
    "plt.plot(x, y, 'b.', label='observed');\n",
    "\n",
    "m = yhat.mean()\n",
    "s = yhat.stddev()\n",
    "\n",
    "plt.plot(x_tst, m, 'r', linewidth=4, label='mean');\n",
    "plt.plot(x_tst, m + 2 * s, 'g', linewidth=2, label=r'mean + 2 stddev');\n",
    "plt.plot(x_tst, m - 2 * s, 'g', linewidth=2, label=r'mean - 2 stddev');\n",
    "\n",
    "plt.ylim(-0.,17);\n",
    "plt.yticks(np.linspace(0, 15, 4)[1:]);\n",
    "plt.xticks(np.linspace(*x_range, num=9));\n",
    "\n",
    "ax=plt.gca();\n",
    "ax.xaxis.set_ticks_position('bottom')\n",
    "ax.yaxis.set_ticks_position('left')\n",
    "ax.spines['left'].set_position(('data', 0))\n",
    "ax.spines['top'].set_visible(False)\n",
    "ax.spines['right'].set_visible(False)\n",
    "#ax.spines['left'].set_smart_bounds(True)\n",
    "#ax.spines['bottom'].set_smart_bounds(True)\n",
    "plt.legend(loc='center left', fancybox=True, framealpha=0., bbox_to_anchor=(1.05, 0.5))\n",
    "\n",
    "plt.savefig('/tmp/fig2.png', bbox_inches='tight', dpi=300)"
   ]
  },
  {
   "cell_type": "markdown",
   "metadata": {
    "id": "gEgaaos6TWYt"
   },
   "source": [
    "### Case 3: MAP Neural Network Regression with Heteroscedastic Uncertainty"
   ]
  },
  {
   "cell_type": "code",
   "execution_count": 16,
   "metadata": {
    "colab": {
     "base_uri": "https://localhost:8080/"
    },
    "id": "F4NnGnszthbA",
    "outputId": "85d69f93-6d40-405d-f96a-d67b9a7e7bbe"
   },
   "outputs": [
    {
     "name": "stdout",
     "output_type": "stream",
     "text": [
      "[-1.13066201e-09 -1.11850510e-04 -3.50798058e-12 -3.45690772e-19\n",
      " -4.33780087e-07 -6.65837803e-08 -1.94306764e-07 -4.40960685e-06\n",
      " -1.75575024e-05 -2.85065122e-04 -3.47217934e-08 -1.80125153e-05\n",
      " -1.48834412e-14 -2.61796378e-02 -2.33275787e-04 -8.96946631e-07\n",
      " -5.32665115e-04 -3.54264239e-06 -3.50507069e-03 -2.58277007e-03\n",
      " -3.36234374e-10 -1.92228981e-06 -2.41888798e-09  5.09160852e-18\n",
      "  3.03874966e-02 -7.23329884e-15 -2.16281649e-07 -2.50981729e-02\n",
      " -3.32435079e-09 -6.29888754e-03 -5.10759988e-19  9.94206712e-05\n",
      "  7.33014316e-10  1.54666200e-01 -1.05102528e-02  1.22309815e-10\n",
      " -1.23845757e-06 -3.89246910e-04 -2.64608730e-02 -2.89856107e-04\n",
      "  9.88013005e-16 -2.17658758e-09  1.10539236e-12 -4.23657637e-11\n",
      "  6.04821518e-02 -2.66011489e-06 -4.86342167e-08 -1.19403619e-02\n",
      " -5.56627029e-08 -2.07325256e-14 -1.54426274e-07 -1.26402574e-02\n",
      " -6.25049722e-07 -1.90022831e-06 -5.20212825e-06 -4.39528141e-14\n",
      " -6.76291808e-02 -3.11145136e-08 -1.00142985e-16 -1.31099000e-06\n",
      " -9.81476569e-06 -1.15591729e-06 -2.59985263e-05 -1.62581354e-02\n",
      " -4.99795897e-06 -9.56055235e-10 -3.07324082e-01 -9.12633445e-03\n",
      " -1.72539077e-12 -7.13427052e-14 -1.11305306e-03 -7.06519154e-09\n",
      " -1.97595902e-04 -8.57373493e-07 -5.63255278e-04 -1.65907875e-01\n",
      " -1.05530307e-05  2.42458831e-12 -1.42165300e-06 -3.44603061e-04\n",
      " -9.51857615e-09 -1.34982085e-02 -3.96777527e-13 -5.70094816e-09\n",
      " -4.91098774e-07 -1.15444651e-15 -2.27659758e-09 -3.92692145e-09\n",
      " -3.50482901e-06 -6.46631548e-08 -3.48383859e-02 -4.22666832e-14\n",
      " -2.08902685e-14 -9.03628387e-12 -2.71556692e-05 -6.62584207e-04\n",
      "  2.05044984e-04 -2.25169109e-19  1.38181262e-02 -2.45101051e-10]\n",
      "[-8.4574205e-09 -8.4031322e-05 -5.4968426e-11 -1.8554571e-18\n",
      " -5.0657957e-07  2.3048326e-08 -1.8843281e-08 -8.6681093e-06\n",
      " -2.7771659e-05  1.5193158e-03 -1.5912457e-07 -1.6504171e-05\n",
      " -1.6227966e-12 -1.7779430e-02 -4.7558657e-05 -7.2648783e-07\n",
      "  5.6005521e-03  2.1593401e-05 -1.8499449e-02  1.0569901e-01\n",
      " -1.0083585e-09 -4.1790585e-08 -2.6505020e-09 -3.7463298e-16\n",
      "  3.6303216e-01 -1.3389690e-15 -5.0384305e-08 -6.6668265e-02\n",
      " -4.3370343e-09  1.7058714e-01 -3.0041901e-18  1.0988077e-03\n",
      " -1.3249293e-08  9.0283400e-01  9.6263778e-01 -2.7752495e-10\n",
      " -6.1163837e-06  2.1474138e-03 -2.0854125e-02  1.7806321e-03\n",
      " -1.1738475e-13 -7.7660847e-09 -3.1774331e-12 -9.3001107e-10\n",
      "  5.5942082e-01 -2.0484790e-06 -1.3188097e-07  5.5662137e-01\n",
      " -1.9356847e-07 -5.3244654e-14 -4.2184564e-07 -1.1342767e-02\n",
      "  4.0303678e-07 -2.4559479e-06 -8.5625325e-06 -5.1761677e-13\n",
      "  7.7825451e-01 -6.2561685e-07 -3.8518671e-17 -2.2561899e-06\n",
      "  1.4520419e-04 -1.4830235e-06  1.7273818e-04  8.9287853e-01\n",
      " -6.9294174e-06 -4.5511994e-09 -2.2063452e-01 -1.1754698e-02\n",
      "  4.3739990e-12 -4.8752093e-14 -4.3677059e-03  6.1424386e-09\n",
      "  1.0968066e-02 -1.6826071e-06  4.9168640e-03 -7.0735045e-02\n",
      " -2.6207214e-04 -1.3621132e-11 -2.7591088e-06  8.9369854e-03\n",
      " -3.4796908e-08 -1.2381083e-02 -2.3610820e-12 -3.2839307e-09\n",
      " -1.1009308e-06  7.4687198e-15 -2.0008795e-09 -6.1302416e-09\n",
      " -2.1573867e-06  5.6727572e-07 -2.8877288e-02  4.8451504e-15\n",
      " -8.7257247e-16 -1.3881062e-11  9.4348873e-04  4.5056366e-03\n",
      " -7.9406630e-03 -1.5925469e-19  4.4517655e-02 -3.0488743e-11]\n",
      "[ 1.0101714e-08 -6.3753534e-05  1.1169329e-12 -6.9101725e-18\n",
      " -1.1884913e-07  1.2890272e-08  3.9057434e-07 -1.8754507e-06\n",
      " -4.3843179e-06  1.2530127e-03 -5.1777874e-08 -1.9359552e-05\n",
      "  5.4135098e-13 -9.3068229e-03  1.8280434e-05  1.8156104e-08\n",
      "  3.8852955e-03  1.6482505e-05 -1.2577469e-03  9.6212983e-02\n",
      " -5.3851573e-10  1.2164585e-06 -2.8434763e-09  2.7390838e-16\n",
      "  3.6007255e-01 -5.9228652e-15 -1.5397693e-07  9.7647822e-04\n",
      "  1.3329025e-09  1.4023690e-01 -5.1305625e-18  1.1623439e-03\n",
      "  3.8364965e-09  8.7620783e-01  9.2704469e-01 -1.8190384e-10\n",
      " -4.0933878e-06  1.7667940e-03 -1.8637508e-02  1.3048161e-03\n",
      "  4.3217274e-14  4.1268029e-09 -9.2436790e-13 -4.4634652e-10\n",
      "  5.4874837e-01  2.1114233e-06  4.8324145e-10  5.2942502e-01\n",
      " -3.7732292e-08 -2.0053769e-14 -1.2887686e-07  6.5557221e-03\n",
      "  4.6929773e-07 -1.0485934e-06  2.9863611e-07  2.9778542e-13\n",
      "  5.5222678e-01  1.9974644e-07 -8.2449909e-17 -1.3920422e-07\n",
      "  9.5635703e-05 -3.2829817e-07  1.2761015e-04  8.6002457e-01\n",
      " -4.6512073e-06 -4.3425605e-10 -2.1122856e-01 -3.3615318e-03\n",
      "  7.6720173e-13  1.0542145e-14 -1.5733450e-03  4.7630042e-09\n",
      "  1.0061789e-02  1.2516607e-06  3.8078201e-03 -3.0487839e-02\n",
      " -9.9683988e-05  5.1007493e-12  7.2074386e-07  8.1108026e-03\n",
      " -1.3107177e-08 -1.8118840e-03  2.5691725e-12 -3.5791841e-09\n",
      " -4.8011219e-07  7.0126086e-15  4.6391385e-10 -1.2421387e-09\n",
      " -1.0561715e-06  3.9734627e-07 -2.2930786e-02 -2.9211557e-14\n",
      "  6.7981983e-14  2.9200683e-12  8.1568095e-04  3.3622987e-03\n",
      " -4.3877694e-03 -1.2506701e-20  5.1049504e-02 -3.0577384e-11]\n",
      "1.0747621\n",
      "[ 3.88346155e-09 -7.19290110e-05 -4.51097493e-13  9.41302586e-19\n",
      "  6.47059551e-07  7.05006613e-08  6.27449879e-07  4.24632344e-06\n",
      "  3.35970144e-05 -8.16293468e-04  2.66346404e-07 -1.98266407e-05\n",
      " -4.63653469e-15  4.62714471e-02 -3.77422839e-05  1.34929587e-06\n",
      " -4.61117085e-03 -2.03695017e-05  1.25404559e-02  5.07087493e-03\n",
      "  4.18279938e-10  2.19819344e-06 -1.16647858e-10  5.10414279e-17\n",
      "  3.02028526e-02  9.69989944e-15  1.89424298e-07  2.33680792e-02\n",
      "  6.41939124e-09 -5.76578602e-02  2.28748982e-18  1.15006413e-04\n",
      " -6.03244965e-09  1.66785926e-01  1.02432286e-02 -1.58798905e-10\n",
      "  1.25493552e-05 -1.18596980e-03  2.71865763e-02 -1.38862268e-03\n",
      " -1.19686340e-14  4.96357710e-09 -1.32789005e-12 -1.56729449e-10\n",
      "  6.96121976e-02  3.76355456e-06  8.22930133e-08  1.19326245e-02\n",
      "  7.17885200e-08  7.82155441e-14  2.08597825e-07  4.72927094e-03\n",
      "  7.29965052e-07  1.81799078e-06  7.42511020e-06  5.48040515e-14\n",
      " -5.00468671e-01  1.39031675e-08  5.65893448e-17  1.41281885e-06\n",
      " -7.26375583e-05  1.52039422e-06 -1.41773693e-04  1.08106760e-02\n",
      "  1.74871002e-05  5.36080236e-10  3.21868777e-01  9.75814089e-03\n",
      "  1.52982878e-12 -1.82148879e-14 -1.23338818e-04  7.72426390e-09\n",
      "  7.52369873e-04 -1.68498858e-07 -2.10990338e-03 -2.33172104e-02\n",
      " -2.98546292e-05 -2.62935745e-12  2.81292728e-06  6.68764755e-04\n",
      "  3.43955042e-09  1.68085769e-02  7.99511824e-13  4.39271064e-09\n",
      "  4.20107540e-07  2.55203298e-15  3.39348927e-09  4.93622387e-09\n",
      "  2.65296740e-06 -4.53874065e-07  3.64234895e-02  6.33150284e-14\n",
      "  3.55129439e-14  1.09654074e-11  8.68284769e-05 -3.31967743e-03\n",
      " -1.43141043e-03  6.87558406e-20  2.30005756e-02  4.54080835e-11]\n",
      "-0.031078806\n"
     ]
    }
   ],
   "source": [
    "l2_reg = tf.keras.regularizers.l2(l2=0.0001)\n",
    "# Build model.\n",
    "input = tf.keras.layers.Input(1)\n",
    "h1 = tf.keras.layers.Dense(100,activation=tf.keras.activations.relu,kernel_regularizer=l2_reg,bias_regularizer=l2_reg)(input)\n",
    "m = tf.keras.layers.Dense(1,kernel_regularizer=l2_reg,bias_regularizer=l2_reg)(h1)\n",
    "s = tf.keras.layers.Dense(1,activation=tf.keras.activations.exponential,kernel_regularizer=l2_reg,bias_regularizer=l2_reg)(h1)\n",
    "p = tfp.layers.DistributionLambda(lambda t: tfd.Normal(loc=t[0], scale=t[1]))([m,s])\n",
    "model = tf.keras.Model(inputs=input, outputs=p)\n",
    "\n",
    "# Do inference.\n",
    "model.compile(optimizer=tf.optimizers.Adam(learning_rate=0.01), loss=expectednegloglik)\n",
    "model.fit(x, y, epochs=1000, verbose=False);\n",
    "\n",
    "# Profit.\n",
    "[print(np.squeeze(w.numpy())) for w in model.weights];\n",
    "yhat = model(x_tst)\n",
    "assert isinstance(yhat, tfd.Distribution)"
   ]
  },
  {
   "cell_type": "code",
   "execution_count": 17,
   "metadata": {
    "colab": {
     "base_uri": "https://localhost:8080/",
     "height": 138
    },
    "id": "fn4_FWV-ty03",
    "outputId": "91212614-a728-4c40-e740-9a1596292673"
   },
   "outputs": [
    {
     "data": {
      "image/png": "[encoded data removed]",
      "text/plain": [
       "<Figure size 432x108 with 1 Axes>"
      ]
     },
     "metadata": {
      "needs_background": "light"
     },
     "output_type": "display_data"
    }
   ],
   "source": [
    "plt.figure(figsize=[6, 1.5])  # inches\n",
    "plt.plot(x, y, 'b.', label='observed');\n",
    "\n",
    "m = yhat.mean()\n",
    "s = yhat.stddev()\n",
    "\n",
    "plt.plot(x_tst, m, 'r', linewidth=4, label='mean');\n",
    "plt.plot(x_tst, m + 2 * s, 'g', linewidth=2, label=r'mean + 2 stddev');\n",
    "plt.plot(x_tst, m - 2 * s, 'g', linewidth=2, label=r'mean - 2 stddev');\n",
    "\n",
    "plt.ylim(-0.,17);\n",
    "plt.yticks(np.linspace(0, 15, 4)[1:]);\n",
    "plt.xticks(np.linspace(*x_range, num=9));\n",
    "\n",
    "ax=plt.gca();\n",
    "ax.xaxis.set_ticks_position('bottom')\n",
    "ax.yaxis.set_ticks_position('left')\n",
    "ax.spines['left'].set_position(('data', 0))\n",
    "ax.spines['top'].set_visible(False)\n",
    "ax.spines['right'].set_visible(False)\n",
    "#ax.spines['left'].set_smart_bounds(True)\n",
    "#ax.spines['bottom'].set_smart_bounds(True)\n",
    "plt.legend(loc='center left', fancybox=True, framealpha=0., bbox_to_anchor=(1.05, 0.5))\n",
    "\n",
    "plt.savefig('/tmp/fig2.png', bbox_inches='tight', dpi=300)"
   ]
  },
  {
   "cell_type": "markdown",
   "metadata": {
    "id": "ltGTdUt5U19I"
   },
   "source": [
    "### Case 4: Laplace Approximation Neural Network Regression with Heteroscedastic Uncertainty"
   ]
  },
  {
   "cell_type": "code",
   "execution_count": 18,
   "metadata": {
    "id": "-UbDziyxUM-A"
   },
   "outputs": [],
   "source": [
    "import tensorflow as tf\n",
    "import numpy as np\n",
    "import math\n",
    "class LaplaceApproximation(tf.keras.Model):\n",
    "\n",
    "    def __init__(self,model):\n",
    "        super().__init__()\n",
    "        self.model = model\n",
    "        self.mean = None\n",
    "        self.std = None\n",
    "        self.lam = None\n",
    "\n",
    "    def fit(self,dataset,training=False):\n",
    "        \"\"\"\n",
    "        Fit the Laplace approximation for a model. Setting the mean of the Laplace approximation to the weights of the model \n",
    "            and, using the diagonal of the Fisher matrix, set the standard deviation of the Laplace approximation.\n",
    "        :param model: Model whose Fisher matrix is to be computed.\n",
    "        :param dataset: Dataset which the model has been trained on, but which will not be seen in the future. \n",
    "            Formatted as (inputs, labels).\n",
    "        :param samples: Number of samples to take from the dataset. More samples\n",
    "            gives a better approximation of the true variance.\n",
    "        \"\"\"\n",
    "        inputs, labels = dataset\n",
    "        trainable_weights = self.model.trainable_weights\n",
    "        variance = [tf.zeros_like(tensor) for tensor in trainable_weights]\n",
    "        \n",
    "        pb = tf.keras.utils.Progbar(inputs.shape[0])\n",
    "\n",
    "        for i in range(inputs.shape[0]):\n",
    "            pb.update(i)\n",
    "            index = i#np.random.randint(len(inputs))\n",
    "            # Select an element from the dataset.\n",
    "            data = inputs[index]\n",
    "            target = labels[index]\n",
    "\n",
    "            # When extracting from the array we lost a dimension so put it back.\n",
    "            data = tf.expand_dims(data, axis=0)\n",
    "\n",
    "            # Collect gradients.\n",
    "            with tf.GradientTape() as tape:\n",
    "                output = self.model(data,training=training)\n",
    "                log_likelihood = output.log_prob(target)\n",
    "\n",
    "            gradients = tape.gradient(log_likelihood, trainable_weights)\n",
    "\n",
    "            # If the model has converged, we can assume that the current weights\n",
    "            # are the mean, and each gradient we see is a deviation. The variance is\n",
    "            # the average of the square of this deviation.\n",
    "            variance = [var + (grad ** 2) for var, grad in zip(variance, gradients)]\n",
    "\n",
    "        self.fisher_diagonal = [tensor.numpy() for tensor in variance]\n",
    "        #self.fisher_diagonal = [tensor.numpy() / samples * inputs.shape[0] for tensor in variance]\n",
    "        \n",
    "        mins = [np.min(f) for f in self.fisher_diagonal]\n",
    "        for i,x in enumerate(mins):\n",
    "          if i==0 or min > x:\n",
    "            min = x\n",
    "        print(min)\n",
    "        #print('FISHER')\n",
    "        #print(fisher_diagonal)\n",
    "        self.mean = self.model.get_weights()       \n",
    "        \n",
    "\n",
    "    def reset_weights(self):\n",
    "        if self.mean:\n",
    "            self.model.set_weights(self.mean)\n",
    "\n",
    "    def set_std(self, weight_decay):\n",
    "      self.std = [np.reciprocal(np.sqrt(x+weight_decay)) for x in self.fisher_diagonal]\n",
    "\n",
    "    def call(self, inputs, training=False):\n",
    "        e = [np.random.standard_normal(x.shape) for x in self.mean]\n",
    "        sample = [m+s*e for m, s, e in zip(self.mean,self.std,e)]\n",
    "        self.model.set_weights(sample)\n",
    "        return self.model(inputs,training=training)"
   ]
  },
  {
   "cell_type": "code",
   "execution_count": 19,
   "metadata": {
    "colab": {
     "base_uri": "https://localhost:8080/"
    },
    "id": "H7kEk6DVwSP6",
    "outputId": "7fd09f76-3a52-41fa-8fc1-60d25dfe87ba"
   },
   "outputs": [
    {
     "name": "stdout",
     "output_type": "stream",
     "text": [
      "146/150 [============================>.] - ETA: 0s0.0\n"
     ]
    }
   ],
   "source": [
    "la = LaplaceApproximation(model)\n",
    "la.fit([x,y])\n",
    "la.set_std(100)"
   ]
  },
  {
   "cell_type": "code",
   "execution_count": 20,
   "metadata": {
    "colab": {
     "base_uri": "https://localhost:8080/",
     "height": 166
    },
    "id": "xzYnRMrywnSi",
    "outputId": "d0da4d3a-fc9c-4303-e354-8fecb0b6a836"
   },
   "outputs": [
    {
     "data": {
      "image/png": "[encoded data removed]",
      "text/plain": [
       "<Figure size 432x108 with 1 Axes>"
      ]
     },
     "metadata": {
      "needs_background": "light"
     },
     "output_type": "display_data"
    }
   ],
   "source": [
    "plt.figure(figsize=[6, 1.5])  # inches\n",
    "plt.plot(x, y, 'b.', label='observed');\n",
    "\n",
    "yhats = [la(x_tst) for _ in range(100)]\n",
    "avgm = np.zeros_like(x_tst[..., 0])\n",
    "ms = []\n",
    "ss = []\n",
    "for i, yhat in enumerate(yhats):\n",
    "  m = np.squeeze(yhat.mean())\n",
    "  s = np.squeeze(yhat.stddev())\n",
    "  if i < 15:\n",
    "    plt.plot(x_tst, m, 'r', label='ensemble means' if i == 0 else None, linewidth=1.)\n",
    "    plt.plot(x_tst, m + 2 * s, 'g', linewidth=0.5, label='ensemble means + 2 ensemble stdev' if i == 0 else None);\n",
    "    plt.plot(x_tst, m - 2 * s, 'g', linewidth=0.5, label='ensemble means - 2 ensemble stdev' if i == 0 else None);\n",
    "  ms += [m]\n",
    "  ss += [s]\n",
    "ms = np.array(ms)\n",
    "avgm = ms.mean(axis=0)\n",
    "ss = np.array(ss)\n",
    "avgs = np.sqrt((ms**2+ss**2).mean(axis=0)-avgm**2)\n",
    "plt.plot(x_tst, avgm, 'r', label='overall mean', linewidth=4)\n",
    "plt.plot(x_tst, avgm + 2 * avgs, 'g', linewidth=4, label='overall mean + 2 overall stdev');\n",
    "plt.plot(x_tst, avgm - 2 * avgs, 'g', linewidth=4, label='overall means - 2 overall stdev');\n",
    "\n",
    "plt.ylim(-0.,17);\n",
    "plt.yticks(np.linspace(0, 15, 4)[1:]);\n",
    "plt.xticks(np.linspace(*x_range, num=9));\n",
    "\n",
    "ax=plt.gca();\n",
    "ax.xaxis.set_ticks_position('bottom')\n",
    "ax.yaxis.set_ticks_position('left')\n",
    "ax.spines['left'].set_position(('data', 0))\n",
    "ax.spines['top'].set_visible(False)\n",
    "ax.spines['right'].set_visible(False)\n",
    "#ax.spines['left'].set_smart_bounds(True)\n",
    "#ax.spines['bottom'].set_smart_bounds(True)\n",
    "plt.legend(loc='center left', fancybox=True, framealpha=0., bbox_to_anchor=(1.05, 0.5))\n",
    "\n",
    "plt.savefig('/tmp/fig4.png', bbox_inches='tight', dpi=300)"
   ]
  },
  {
   "cell_type": "markdown",
   "metadata": {
    "id": "uhMuqC3-U7si"
   },
   "source": [
    "### Case 5: MAP Neural Network Regression with Heteroscedastic Uncertainty and Parameter Pruning"
   ]
  },
  {
   "cell_type": "code",
   "execution_count": 21,
   "metadata": {
    "id": "6SLGi7gdQsyG"
   },
   "outputs": [],
   "source": [
    "lambda_prune= 0.83"
   ]
  },
  {
   "cell_type": "code",
   "execution_count": 22,
   "metadata": {
    "id": "R1j-oLkdQj3o"
   },
   "outputs": [],
   "source": [
    "W1_prune = model.trainable_weights[0] * tf.cast(tf.abs(model.trainable_weights[0]/la.std[0]) > lambda_prune,tf.float32)\n",
    "b1_prune = model.trainable_weights[1] * tf.cast(tf.abs(model.trainable_weights[1]/la.std[1]) > lambda_prune,tf.float32)\n",
    "W2_mu_prune = model.trainable_weights[2] * tf.cast(tf.abs(model.trainable_weights[2]/la.std[2]) > lambda_prune,tf.float32)\n",
    "b2_mu_prune = model.trainable_weights[3] * tf.cast(tf.abs(model.trainable_weights[3]/la.std[3]) > lambda_prune,tf.float32)\n",
    "W2_sig_prune = model.trainable_weights[4] * tf.cast(tf.abs(model.trainable_weights[4]/la.std[4]) > lambda_prune,tf.float32)\n",
    "b2_sig_prune = model.trainable_weights[5] * tf.cast(tf.abs(model.trainable_weights[5]/la.std[5]) > lambda_prune,tf.float32)"
   ]
  },
  {
   "cell_type": "code",
   "execution_count": 23,
   "metadata": {
    "id": "JeaZVpmhSw9V"
   },
   "outputs": [],
   "source": [
    "trainable_weights_pruned = [W1_prune,b1_prune,W2_mu_prune,b2_mu_prune,W2_sig_prune,b2_sig_prune]"
   ]
  },
  {
   "cell_type": "code",
   "execution_count": 24,
   "metadata": {
    "id": "bhGlXYHfViUr"
   },
   "outputs": [],
   "source": [
    "not_pruned = 0\n",
    "pruned = 0\n",
    "for w in trainable_weights_pruned:\n",
    "  not_pruned += tf.reduce_sum(tf.cast(w!=0.,tf.float32))\n",
    "  pruned += tf.reduce_sum(tf.cast(w==0.,tf.float32))\n",
    "percent_pruned = (pruned/(pruned+not_pruned)).numpy()"
   ]
  },
  {
   "cell_type": "code",
   "execution_count": 25,
   "metadata": {
    "colab": {
     "base_uri": "https://localhost:8080/"
    },
    "id": "9Nw-t3NUWeIF",
    "outputId": "606eef77-a3c3-4609-ef7f-f5dd92699692"
   },
   "outputs": [
    {
     "data": {
      "text/plain": [
       "0.54477614"
      ]
     },
     "execution_count": 25,
     "metadata": {},
     "output_type": "execute_result"
    }
   ],
   "source": [
    "percent_pruned"
   ]
  },
  {
   "cell_type": "code",
   "execution_count": 26,
   "metadata": {
    "id": "YuP-IhsVS-BG"
   },
   "outputs": [],
   "source": [
    "model_pruned = tf.keras.models.clone_model(model)"
   ]
  },
  {
   "cell_type": "code",
   "execution_count": 27,
   "metadata": {
    "id": "8bUd7_J7TG61"
   },
   "outputs": [],
   "source": [
    "model_pruned.set_weights(trainable_weights_pruned)\n",
    "yhat = model_pruned(x_tst)"
   ]
  },
  {
   "cell_type": "code",
   "execution_count": 28,
   "metadata": {
    "colab": {
     "base_uri": "https://localhost:8080/",
     "height": 138
    },
    "id": "0plM2fs6TP_9",
    "outputId": "40811c83-4ff8-4df8-995e-0db1bcf1a96d"
   },
   "outputs": [
    {
     "data": {
      "image/png": "[encoded data removed]",
      "text/plain": [
       "<Figure size 432x108 with 1 Axes>"
      ]
     },
     "metadata": {
      "needs_background": "light"
     },
     "output_type": "display_data"
    }
   ],
   "source": [
    "plt.figure(figsize=[6, 1.5])  # inches\n",
    "plt.plot(x, y, 'b.', label='observed');\n",
    "\n",
    "m = yhat.mean()\n",
    "s = yhat.stddev()\n",
    "\n",
    "plt.plot(x_tst, m, 'r', linewidth=4, label='mean');\n",
    "plt.plot(x_tst, m + 2 * s, 'g', linewidth=2, label=r'mean + 2 stddev');\n",
    "plt.plot(x_tst, m - 2 * s, 'g', linewidth=2, label=r'mean - 2 stddev');\n",
    "\n",
    "plt.ylim(-0.,17);\n",
    "plt.yticks(np.linspace(0, 15, 4)[1:]);\n",
    "plt.xticks(np.linspace(*x_range, num=9));\n",
    "\n",
    "ax=plt.gca();\n",
    "ax.xaxis.set_ticks_position('bottom')\n",
    "ax.yaxis.set_ticks_position('left')\n",
    "ax.spines['left'].set_position(('data', 0))\n",
    "ax.spines['top'].set_visible(False)\n",
    "ax.spines['right'].set_visible(False)\n",
    "#ax.spines['left'].set_smart_bounds(True)\n",
    "#ax.spines['bottom'].set_smart_bounds(True)\n",
    "plt.legend(loc='center left', fancybox=True, framealpha=0., bbox_to_anchor=(1.05, 0.5))\n",
    "\n",
    "plt.savefig('/tmp/fig2.png', bbox_inches='tight', dpi=300)"
   ]
  },
  {
   "cell_type": "code",
   "execution_count": 29,
   "metadata": {
    "id": "7f4vB5VCUmlw"
   },
   "outputs": [],
   "source": [
    "#@title Synthesize New Dataset.\n",
    "w0 = 0.125\n",
    "b0 = 5.\n",
    "x_range = [-20, 60]\n",
    "\n",
    "def load_dataset(n=150, n_tst=150):\n",
    "  np.random.seed(42)\n",
    "  def s(x):\n",
    "    g = (x - x_range[0]) / (x_range[1] - x_range[0])\n",
    "    return 3 * (0.25 + g**2.)\n",
    "  x = (x_range[1] - x_range[0]) * np.random.rand(n) + x_range[0]\n",
    "  eps = np.random.randn(n) * s(x)\n",
    "  y = (w0 * x * (1. + np.sin(x)) + b0) + eps\n",
    "  x = x[..., np.newaxis]\n",
    "  x_tst = np.linspace(*x_range, num=n_tst).astype(np.float32)\n",
    "  x_tst = x_tst[..., np.newaxis]\n",
    "  return y, x, x_tst\n",
    "\n",
    "y_2, x_2, x_tst_2 = load_dataset()"
   ]
  },
  {
   "cell_type": "markdown",
   "metadata": {
    "id": "iXvgX4r-QFIE"
   },
   "source": [
    "### MAP Neural Network Regression with Heteroscedastic Uncertainty and a Laplace Approximation Prior"
   ]
  },
  {
   "cell_type": "code",
   "execution_count": 30,
   "metadata": {
    "id": "lWb_OFXtxa_6"
   },
   "outputs": [],
   "source": [
    "class GaussianPriorRegularizer(tf.keras.regularizers.Regularizer):\n",
    "  def __init__(self, loc, scale,n_examples):\n",
    "    self.loc = loc\n",
    "    self.scale= scale\n",
    "\n",
    "  def __call__(self, x):\n",
    "    return 0.5/float(n_examples) * tf.math.reduce_sum(tf.square(tf.math.reciprocal(self.scale)) * tf.math.square(x-self.loc))\n",
    "\n",
    "  def get_config(self):\n",
    "    return {'loc': self.loc, 'scale': self.scale}"
   ]
  },
  {
   "cell_type": "code",
   "execution_count": 31,
   "metadata": {
    "id": "HMmE0KLRNYxm"
   },
   "outputs": [],
   "source": [
    "W1_loc = model.trainable_weights[0]\n",
    "b1_loc = model.trainable_weights[1]\n",
    "W2_mu_loc = model.trainable_weights[2]\n",
    "b2_mu_loc = model.trainable_weights[3]\n",
    "W2_sig_loc = model.trainable_weights[4]\n",
    "b2_sig_loc = model.trainable_weights[5]"
   ]
  },
  {
   "cell_type": "code",
   "execution_count": 32,
   "metadata": {
    "id": "TFBaAp91Ps3B"
   },
   "outputs": [],
   "source": [
    "W1_scale = la.std[0]\n",
    "b1_scale = la.std[1]\n",
    "W2_mu_scale = la.std[2]\n",
    "b2_mu_scale = la.std[3]\n",
    "W2_sig_scale = la.std[4]\n",
    "b2_sig_scale = la.std[5]"
   ]
  },
  {
   "cell_type": "code",
   "execution_count": 33,
   "metadata": {
    "id": "GpWW-1iFP_Mo"
   },
   "outputs": [],
   "source": [
    "reg_W1 = GaussianPriorRegularizer(loc=W1_loc,scale=W1_scale,n_examples=n_examples)\n",
    "reg_b1 = GaussianPriorRegularizer(loc=b1_loc,scale=b1_scale,n_examples=n_examples)\n",
    "reg_W2_mu = GaussianPriorRegularizer(loc=W2_mu_loc,scale=W2_mu_scale,n_examples=n_examples)\n",
    "reg_b2_mu = GaussianPriorRegularizer(loc=b2_mu_loc,scale=b2_mu_scale,n_examples=n_examples)\n",
    "reg_W2_sig = GaussianPriorRegularizer(loc=W2_sig_loc,scale=W2_sig_scale,n_examples=n_examples)\n",
    "reg_b2_sig = GaussianPriorRegularizer(loc=b2_sig_loc,scale=b2_sig_scale,n_examples=n_examples)"
   ]
  },
  {
   "cell_type": "code",
   "execution_count": 34,
   "metadata": {
    "colab": {
     "base_uri": "https://localhost:8080/"
    },
    "id": "HAhrm3QdO_mU",
    "outputId": "e865133c-898e-49c8-c5f9-8b5d7ef097f2"
   },
   "outputs": [
    {
     "name": "stdout",
     "output_type": "stream",
     "text": [
      "[ 0.05916218  0.06039331  0.01002515  0.13514479  0.17173992  0.02019953\n",
      "  0.01322647  0.03121969 -0.15079322  0.07130699  0.06125479 -0.00947338\n",
      "  0.11225078  0.11390032 -0.01944718  0.03200696  0.01023417  0.04970482\n",
      " -0.07494317  0.04666055  0.03728557  0.05991015 -0.01350137  0.01790313\n",
      "  0.02381311 -0.00885594  0.08651501 -0.12377267 -0.03746968  0.13984111\n",
      " -0.12449931 -0.0904896   0.02036991  0.15343638 -0.00364477 -0.02497818\n",
      " -0.11102737  0.18153709 -0.16466016 -0.01175353  0.01580163  0.10098517\n",
      "  0.03906877  0.07045724  0.09241552 -0.0249688  -0.12564851 -0.01859842\n",
      "  0.10822456  0.02568623 -0.0039579   0.0334839   0.20657107  0.03794939\n",
      "  0.09391263 -0.0517294  -0.06711393 -0.00393442  0.00356357  0.00938241\n",
      " -0.11835937 -0.0194327   0.02788029 -0.01064012 -0.01618394  0.20724799\n",
      " -0.2548669   0.04508211 -0.0531387  -0.16237544 -0.02773477  0.0433839\n",
      " -0.02468466  0.04836026 -0.01335351 -0.22634298 -0.08299527  0.14484146\n",
      "  0.1728359  -0.08512551  0.10000074 -0.09949929 -0.00146701 -0.00434539\n",
      " -0.01317039  0.14078234 -0.15765327  0.06765271 -0.02966651  0.06604906\n",
      " -0.10147977  0.19526024 -0.02738121  0.01314582  0.04708507 -0.02342974\n",
      " -0.04660352 -0.14723939 -0.00614176  0.08162955]\n",
      "[ 1.5465713e-03  2.8172320e-01  2.1749284e-02  4.3455470e-02\n",
      " -2.6602400e-02  3.0367455e-02 -3.5484426e-02  2.4254038e-04\n",
      " -1.9949507e-02  9.1046251e-02  4.0142566e-02 -1.1981154e-01\n",
      " -2.4838207e-02 -1.8182762e-02 -8.8700585e-02 -4.2382773e-02\n",
      " -4.6652362e-02  2.5516897e-02  1.5866908e-03  4.1111693e-02\n",
      " -1.6528080e-01 -2.3178132e-02  2.1122503e-01  5.2936118e-02\n",
      "  4.0305230e-01  2.1691270e-02  6.2968999e-02 -1.1470034e-01\n",
      " -3.2745507e-02  2.5041538e-01  5.5352051e-02  1.8349649e-01\n",
      " -1.2283938e-01  9.7692549e-01  9.6909827e-01 -1.2248677e-01\n",
      "  8.9477815e-02  1.7094278e-01 -1.9208841e-02 -2.1413621e-02\n",
      "  1.2406956e-01 -4.0884126e-02  7.6658189e-02 -3.7693482e-02\n",
      "  6.7622793e-01  1.2055135e-01 -3.5237025e-02  5.6072444e-01\n",
      "  8.4158331e-02  1.2186976e-01  2.4154032e-02  6.1345808e-02\n",
      " -7.2292639e-03  9.1620367e-03 -5.0834574e-02  9.9158809e-02\n",
      "  9.5359921e-01  4.1172694e-02  1.5622622e-01  1.7511243e-01\n",
      " -1.2488464e-02  5.0826598e-02 -1.4703765e-02  9.3871200e-01\n",
      " -4.6006147e-02 -6.3530259e-02 -1.0314627e-01 -1.3718429e-01\n",
      " -3.3848278e-02  2.1154189e-01  9.1454625e-02  6.9052912e-02\n",
      " -9.8650962e-02  8.3150752e-02 -1.1928849e-01  1.5117519e-01\n",
      "  5.9029306e-03  7.9090826e-02  8.4695861e-02  1.4157277e-02\n",
      "  1.9271336e-01  9.5804721e-02  4.0297625e-03  6.7317605e-02\n",
      " -1.9656706e-01 -1.2880939e-02 -5.5012178e-02 -5.9782553e-02\n",
      " -1.3904591e-01 -9.9461570e-02 -7.6954871e-02  1.6625346e-01\n",
      " -1.8882023e-01  1.7062698e-02 -1.0994971e-01  7.3011510e-02\n",
      " -1.4767370e-01  1.5345259e-01 -8.6529158e-02 -6.3152559e-02]\n",
      "[ 7.49873295e-02  1.50127918e-01 -3.47227305e-02  4.92516048e-02\n",
      " -9.58490465e-03 -8.58649909e-02 -1.56217545e-01 -7.26970211e-02\n",
      "  1.92460194e-01  6.94412366e-02 -5.30765615e-02  1.07820362e-01\n",
      "  1.22940689e-01  6.74096346e-02  1.55022293e-01  5.84518723e-02\n",
      "  3.13211605e-02  1.16564453e-01  7.45649114e-02  2.47528628e-01\n",
      "  2.97445282e-02  7.07557127e-02 -1.17025785e-01 -6.92362636e-02\n",
      "  4.17364925e-01  9.05902982e-02 -1.12671718e-01  1.16089709e-01\n",
      "  5.38871549e-02  1.59579441e-01  2.81101950e-02  1.92071199e-01\n",
      " -1.67404525e-02  8.81117165e-01  9.74230647e-01 -5.77766187e-02\n",
      " -9.65927318e-02 -2.24287719e-01  7.83184357e-03 -4.72192914e-04\n",
      " -1.14225432e-01  2.29658857e-01  5.34416642e-03 -7.09686950e-02\n",
      "  4.05067921e-01 -1.16710946e-01  1.28936723e-01  5.70094645e-01\n",
      " -3.38935480e-02 -2.19911933e-02 -1.06854230e-01  5.50638093e-03\n",
      "  1.78262778e-02 -1.70742989e-01 -1.64459217e-02 -4.44744229e-02\n",
      "  5.74660182e-01 -2.67329048e-02 -9.84908044e-02  9.01930779e-02\n",
      " -9.16652605e-02  5.07873762e-03  9.97442156e-02  1.05041778e+00\n",
      "  6.77100718e-02  1.35706291e-01 -2.63368040e-01 -1.59168486e-02\n",
      "  5.38874045e-02 -1.07362702e-01  1.60877824e-01  2.80166250e-02\n",
      " -4.83526848e-02 -9.39251855e-02 -2.10207269e-01 -2.11823676e-02\n",
      " -5.77620901e-02 -4.14777361e-02 -1.98706109e-02 -5.21996841e-02\n",
      "  5.79364412e-02 -2.29356308e-02  2.88525689e-02 -1.79197758e-01\n",
      " -1.41079530e-01 -3.15916091e-02 -6.92158639e-02 -1.94778405e-02\n",
      "  5.91111695e-03  1.60475582e-01 -6.11314690e-03 -7.89683908e-02\n",
      "  1.88998178e-01  7.14513531e-04  1.28460988e-01 -8.37405995e-02\n",
      "  1.69810131e-01  7.42406249e-02  1.92098953e-02 -1.48469150e-01]\n",
      "1.0959632\n",
      "[ 0.02296079 -0.05838203  0.07709483 -0.10669654  0.14565328 -0.1010552\n",
      " -0.09034818 -0.0644808  -0.11319319 -0.23731577  0.02541713  0.13143092\n",
      " -0.07467926  0.02323744 -0.07975719  0.10842631  0.03430584 -0.22486585\n",
      " -0.08153332 -0.0633956  -0.21410783 -0.10414498  0.20805545  0.10607269\n",
      "  0.05611636  0.05499676  0.0202371   0.2757051  -0.0316273  -0.14963482\n",
      " -0.09675956 -0.02119811  0.10535195  0.1475113  -0.01739398 -0.10877045\n",
      " -0.11746854  0.03557387 -0.09960431  0.16822608 -0.0728776  -0.02691492\n",
      " -0.0850664  -0.0875861   0.11624262  0.03529156 -0.19582637 -0.09336855\n",
      "  0.2764805  -0.0740409  -0.13446693 -0.01504695  0.05874078  0.05006431\n",
      "  0.03567157 -0.01512915 -0.3621881  -0.26820612 -0.01244844  0.05185286\n",
      "  0.08857699 -0.04577459 -0.01111012 -0.0020616   0.17184798 -0.04830896\n",
      "  0.3107441   0.01272894 -0.06857509  0.01988239 -0.04271164 -0.02666636\n",
      " -0.02751138  0.10858294  0.10950629  0.07734279 -0.09832997 -0.03684242\n",
      "  0.01102062  0.04295998 -0.11412374  0.02419286  0.16591342  0.10841802\n",
      "  0.01858467  0.23467693 -0.10553937 -0.07944411 -0.03267322  0.03026244\n",
      "  0.08495335  0.03685487  0.02939759 -0.27300662  0.10705308  0.03912406\n",
      "  0.00296762 -0.0343463   0.1231704  -0.04553843]\n",
      "0.018009758\n"
     ]
    }
   ],
   "source": [
    "\n",
    "# Build model.\n",
    "input = tf.keras.layers.Input(1)\n",
    "h1 = tf.keras.layers.Dense(100,activation=tf.keras.activations.relu,kernel_regularizer=reg_W1,bias_regularizer=reg_b1)(input)\n",
    "m = tf.keras.layers.Dense(1,kernel_regularizer=reg_W2_mu,bias_regularizer=reg_W2_mu)(h1)\n",
    "s = tf.keras.layers.Dense(1,activation=tf.keras.activations.exponential,kernel_regularizer=reg_W2_sig,bias_regularizer=reg_b2_sig)(h1)\n",
    "p = tfp.layers.DistributionLambda(lambda t: tfd.Normal(loc=t[0], scale=t[1]))([m,s])\n",
    "model_2 = tf.keras.Model(inputs=input, outputs=p)\n",
    "\n",
    "# Do inference.\n",
    "model_2.compile(optimizer=tf.optimizers.Adam(learning_rate=0.01), loss=expectednegloglik)\n",
    "model_2.fit(x_2, y_2, epochs=1000, verbose=False);\n",
    "\n",
    "# Profit.\n",
    "[print(np.squeeze(w.numpy())) for w in model.weights];\n",
    "yhat_2 = model_2(x_tst_2)\n",
    "assert isinstance(yhat_2, tfd.Distribution)"
   ]
  },
  {
   "cell_type": "code",
   "execution_count": 35,
   "metadata": {
    "colab": {
     "base_uri": "https://localhost:8080/",
     "height": 138
    },
    "id": "_bXohfdcRUcf",
    "outputId": "c793a44e-0059-4411-ad6f-b74938031b71"
   },
   "outputs": [
    {
     "data": {
      "image/png": "[encoded data removed]",
      "text/plain": [
       "<Figure size 432x108 with 1 Axes>"
      ]
     },
     "metadata": {
      "needs_background": "light"
     },
     "output_type": "display_data"
    }
   ],
   "source": [
    "plt.figure(figsize=[6, 1.5])  # inches\n",
    "plt.plot(x_2, y_2, 'b.', label='observed');\n",
    "\n",
    "m = yhat_2.mean()\n",
    "s = yhat_2.stddev()\n",
    "\n",
    "plt.plot(x_tst_2, m, 'r', linewidth=4, label='mean');\n",
    "plt.plot(x_tst_2, m + 2 * s, 'g', linewidth=2, label=r'mean + 2 stddev');\n",
    "plt.plot(x_tst_2, m - 2 * s, 'g', linewidth=2, label=r'mean - 2 stddev');\n",
    "\n",
    "plt.ylim(-0.,17);\n",
    "plt.yticks(np.linspace(0, 15, 4)[1:]);\n",
    "plt.xticks(np.linspace(*x_range, num=9));\n",
    "\n",
    "ax=plt.gca();\n",
    "ax.xaxis.set_ticks_position('bottom')\n",
    "ax.yaxis.set_ticks_position('left')\n",
    "ax.spines['left'].set_position(('data', 0))\n",
    "ax.spines['top'].set_visible(False)\n",
    "ax.spines['right'].set_visible(False)\n",
    "#ax.spines['left'].set_smart_bounds(True)\n",
    "#ax.spines['bottom'].set_smart_bounds(True)\n",
    "plt.legend(loc='center left', fancybox=True, framealpha=0., bbox_to_anchor=(1.05, 0.5))\n",
    "\n",
    "plt.savefig('/tmp/fig2.png', bbox_inches='tight', dpi=300)"
   ]
  },
  {
   "cell_type": "code",
   "execution_count": 36,
   "metadata": {
    "id": "GUXeJSeoZTch"
   },
   "outputs": [],
   "source": [
    "prior = tfp.layers.default_mean_field_normal_fn(\n",
    "    is_singular=False,\n",
    "    loc_initializer=tf.zeros_initializer(),\n",
    "    untransformed_scale_initializer=tf.constant_initializer(0.01),\n",
    "    loc_regularizer=None,\n",
    "    untransformed_scale_regularizer=None,\n",
    "    loc_constraint=None,\n",
    "    untransformed_scale_constraint=None\n",
    ")"
   ]
  },
  {
   "cell_type": "code",
   "execution_count": 37,
   "metadata": {
    "id": "XcMfkd87fGZ6"
   },
   "outputs": [],
   "source": [
    "def get_kernel_divergence_fn(train_size, kl_weight=1.0):\n",
    "  def kernel_divergence_fn(q, p, _):\n",
    "    kernel_divergence = tfp.distributions.kl_divergence(q, p) / tf.cast(train_size, tf.float32)\n",
    "    return kl_weight * kernel_divergence\n",
    "  return kernel_divergence_fn"
   ]
  },
  {
   "cell_type": "code",
   "execution_count": 38,
   "metadata": {
    "id": "HuU11IENfm-7"
   },
   "outputs": [],
   "source": [
    "kl_div = get_kernel_divergence_fn(y.shape[0])"
   ]
  },
  {
   "cell_type": "code",
   "execution_count": 39,
   "metadata": {
    "colab": {
     "base_uri": "https://localhost:8080/"
    },
    "id": "TTwBVfaaYQ9I",
    "outputId": "ce49260d-819d-4615-dc18-db093369d860"
   },
   "outputs": [
    {
     "name": "stderr",
     "output_type": "stream",
     "text": [
      "/usr/local/lib/python3.8/dist-packages/tensorflow_probability/python/layers/util.py:95: UserWarning: `layer.add_variable` is deprecated and will be removed in a future version. Please use the `layer.add_weight()` method instead.\n",
      "  loc = add_variable_fn(\n",
      "/usr/local/lib/python3.8/dist-packages/tensorflow_probability/python/layers/util.py:105: UserWarning: `layer.add_variable` is deprecated and will be removed in a future version. Please use the `layer.add_weight()` method instead.\n",
      "  untransformed_scale = add_variable_fn(\n"
     ]
    },
    {
     "name": "stdout",
     "output_type": "stream",
     "text": [
      "[ 0.02463434  0.01590078  0.07765995 -0.03509473 -0.02654509 -0.10388184\n",
      "  0.23613144 -0.08870454 -0.00714778  0.03612787 -0.04000979 -0.2222842\n",
      "  0.00913704 -0.05077347 -0.01092676 -0.01898094  0.20103537 -0.07577986\n",
      "  0.08038832  0.03926961 -0.02864997  0.18574345  0.07216625 -0.11131147\n",
      " -0.08677786 -0.05183881  0.14445662  0.06369171  0.02358827  0.00971955\n",
      " -0.05001715 -0.07512014  0.11165366  0.05322575  0.07390898  0.05767261\n",
      " -0.04644142  0.00060724 -0.00755884 -0.09971436 -0.10862705 -0.2385097\n",
      "  0.23397192  0.00465878 -0.01388792  0.08354698 -0.09898965  0.05821409\n",
      "  0.0027182  -0.0932178  -0.03112281 -0.27654558 -0.05821005  0.03802714\n",
      "  0.12589279 -0.09763315 -0.08178193 -0.02342281 -0.05557724  0.23545657\n",
      " -0.00698787  0.13327625  0.05461029  0.08504099  0.08589575 -0.08368289\n",
      "  0.07940994 -0.092768   -0.21860269  0.07747575  0.08812207  0.04998966\n",
      " -0.00367442  0.12429439  0.03399698 -0.03004245  0.05425544  0.13426913\n",
      "  0.11018794 -0.03065885  0.0465782   0.03636187 -0.1606495  -0.24831492\n",
      "  0.04289646 -0.01783281 -0.02378815 -0.07769164 -0.07631645  0.07825462\n",
      "  0.02586145 -0.0321826  -0.09246373  0.10130388  0.07672028  0.00295052\n",
      "  0.18353836  0.0801157  -0.10867731 -0.02677968]\n",
      "[-3.119557  -3.0028815 -3.0513866 -2.5361543 -2.7838755 -3.0513241\n",
      " -3.0802126 -2.8312805 -3.059758  -3.0790253 -3.1243489 -2.6310887\n",
      " -3.074027  -2.8228626 -2.9948704 -2.9988832 -2.9445534 -2.9719176\n",
      " -2.9384336 -2.7726314 -2.9173417 -3.1624832 -2.9739168 -2.959234\n",
      " -3.1557906 -3.15325   -2.9501114 -2.9074025 -3.0287185 -2.997029\n",
      " -2.9219122 -3.1257849 -2.9630919 -3.0499969 -3.2056148 -3.0168617\n",
      " -3.038591  -2.9638143 -3.0019767 -2.9397647 -3.0252411 -2.237426\n",
      " -2.3479087 -3.0274007 -2.9368815 -2.8854325 -2.7291002 -3.08313\n",
      " -2.8699036 -2.886477  -3.0235362 -2.1099095 -2.2935026 -2.8912911\n",
      " -3.0005968 -2.9777439 -2.9049475 -3.1782124 -2.920755  -3.0924983\n",
      " -2.2819703 -2.9793658 -3.0147817 -2.9079542 -3.0094037 -2.9215233\n",
      " -2.9718118 -2.8487241 -1.5044225 -2.8578196 -3.0283675 -2.8868914\n",
      " -2.9627116 -3.046577  -2.8856277 -2.0269835 -3.0173557 -3.0114064\n",
      " -3.0660958 -3.0421057 -2.95271   -3.125832  -2.5173695 -1.818089\n",
      " -3.0751662 -3.0180914 -2.9249506 -2.033217  -2.7368913 -2.9788892\n",
      " -3.023937  -2.012256  -2.9886434 -2.890881  -3.1850362 -2.8684945\n",
      " -2.7331843 -2.80947   -2.8086147 -2.9588366]\n",
      "[ 0.02463564  0.01593481  0.07765257 -0.0351037  -0.02653361 -0.10388175\n",
      "  0.23613152 -0.08870666 -0.00715426  0.03617822 -0.04000988 -0.22228414\n",
      "  0.00905466 -0.0507726  -0.01090548 -0.0189809   0.20103532 -0.0757807\n",
      "  0.08038943  0.03926961 -0.02864992  0.1857333   0.07216623 -0.11131156\n",
      " -0.08677819 -0.05183733  0.14445591  0.06369095  0.0235851   0.00971961\n",
      " -0.05001725 -0.07511904  0.11165271  0.05322583  0.07390921  0.05761454\n",
      " -0.04645256  0.00060733 -0.00755623 -0.09971556 -0.10862573 -0.23851722\n",
      "  0.23396821  0.0046588  -0.01388813  0.08354698 -0.09898877  0.05821318\n",
      "  0.00271809 -0.09321802 -0.03112224 -0.2765412  -0.05820788  0.03802563\n",
      "  0.12591566 -0.09771312 -0.08178207 -0.02342328 -0.05557753  0.23545694\n",
      " -0.00700026  0.13327345  0.05461063  0.08503953  0.08589563 -0.08368351\n",
      "  0.07941057 -0.09276673 -0.21861055  0.07754984  0.0881221   0.04999421\n",
      " -0.00367469  0.12429296  0.03399477 -0.0300458   0.05425249  0.13426842\n",
      "  0.11019031 -0.0306585   0.0466012   0.03633257 -0.16065212 -0.24831136\n",
      "  0.04289631 -0.01783182 -0.0238513  -0.0776991  -0.07631698  0.07825292\n",
      "  0.02586135 -0.03219401 -0.09246384  0.10131138  0.07671086  0.00295068\n",
      "  0.18353833  0.08011397 -0.10867622 -0.02677961]\n",
      "[-3.119537  -3.002868  -3.0513725 -2.525921  -2.7838624 -3.0510752\n",
      " -3.0801988 -2.8319619 -3.0597441 -3.0790114 -3.124328  -2.6287272\n",
      " -3.0740132 -2.8225937 -2.9948566 -2.9988694 -2.9445395 -2.9716816\n",
      " -2.9384193 -2.7726183 -2.9173288 -3.1624558 -2.9738832 -2.9592006\n",
      " -3.1562333 -3.1532152 -2.9500978 -2.907389  -3.0287046 -2.9970155\n",
      " -2.9219246 -3.126048  -2.963078  -3.049983  -3.205573  -3.0168478\n",
      " -3.0385768 -2.9638004 -3.001963  -2.9398537 -3.0237944 -2.2293935\n",
      " -2.3466945 -3.0274146 -2.9368675 -2.885419  -2.7232027 -3.0831187\n",
      " -2.8699179 -2.8852203 -3.023522  -2.1113815 -2.293459  -2.8924775\n",
      " -3.000583  -2.9777455 -2.905735  -3.178179  -2.9204028 -3.0924847\n",
      " -2.2816544 -2.979352  -3.0149045 -2.9079187 -3.0093894 -2.9215786\n",
      " -2.971798  -2.8468764 -1.5045364 -2.8578057 -3.0283537 -2.8868775\n",
      " -2.9626975 -3.0465631 -2.8856473 -2.0322552 -3.0173419 -3.0113914\n",
      " -3.066082  -3.0420923 -2.952729  -3.1260078 -2.516954  -1.8197058\n",
      " -3.0751524 -3.0180779 -2.9249368 -2.0296044 -2.7362292 -2.9788706\n",
      " -3.0239232 -2.0049498 -2.98809   -2.8908668 -3.1850007 -2.8685088\n",
      " -2.7331712 -2.809439  -2.8109162 -2.9588232]\n",
      "[-0.01511192 -0.17439581  0.03797506  0.10496835  0.1134384  -0.12289774\n",
      " -0.02141116 -0.17631719  0.23540506 -0.07930967  0.09717011  0.43947682\n",
      "  0.08927979 -0.04769021  0.14534768  0.17444628  0.13035426  0.03742491\n",
      "  0.18675001 -0.02010036 -0.13264081 -0.00121506  0.0233377  -0.00996276\n",
      " -0.2115312   0.0198898  -0.16522744 -0.09596758 -0.14149925 -0.00439437\n",
      "  0.00815791  0.11826769  0.08797738 -0.04814686 -0.16622189 -0.07865018\n",
      "  0.03588804 -0.01173986 -0.08383401 -0.03021328  0.00277584  0.42430875\n",
      "  0.7504317   0.0409936   0.00151203 -0.04189183 -0.09679778 -0.00648694\n",
      "  0.00492828 -0.08093507  0.01677625  0.36065632  0.26704204  0.31557542\n",
      " -0.00953686 -0.08806148 -0.09460488  0.03955068 -0.12004723  0.07699961\n",
      "  0.49143684  0.05896139 -0.04250701  0.1714218   0.10409921 -0.05186411\n",
      "  0.04132893  0.04320157  0.77736884 -0.05023466 -0.11931293  0.05687146\n",
      "  0.0748557   0.10873633  0.01264477  0.6292407   0.07123163  0.06869736\n",
      "  0.01741758 -0.00376465 -0.17196247 -0.05983773 -0.06096853  1.2007464\n",
      "  0.01942991  0.01882687 -0.08589932  0.08503535  0.35544124  0.14829491\n",
      " -0.09308365  0.5739152   0.01674318 -0.04447107  0.01781567 -0.1102157\n",
      "  0.0527475   0.23414256  0.2803718   0.02518496]\n",
      "[-0.01502918 -0.17432572  0.03794181  0.10496539  0.1134697  -0.12289894\n",
      " -0.0214119  -0.17631605  0.23541552 -0.07928257  0.09715938  0.4394756\n",
      "  0.0892813  -0.04769336  0.14539158  0.17446627  0.1303478   0.03742687\n",
      "  0.18675764 -0.02009449 -0.1326387  -0.0012224   0.02335375 -0.00996418\n",
      " -0.21153064  0.01990662 -0.16520503 -0.09598079 -0.14146839 -0.00439649\n",
      "  0.00812578  0.11827045  0.08797392 -0.04814712 -0.16621552 -0.07865314\n",
      "  0.03589636 -0.01175561 -0.0837708  -0.03021148  0.00277611  0.42431167\n",
      "  0.75043505  0.04093893  0.00144225 -0.04189714 -0.09679567 -0.00644823\n",
      "  0.00490538 -0.08093733  0.01681244  0.36065927  0.2669744   0.31557304\n",
      " -0.00956918 -0.08806688 -0.09460311  0.0395845  -0.12004762  0.07697096\n",
      "  0.49153152  0.05897029 -0.04254636  0.17145151  0.10404196 -0.05178247\n",
      "  0.04132005  0.04319866  0.77736413 -0.0501809  -0.1193352   0.05687294\n",
      "  0.07491107  0.10873882  0.01264487  0.6292419   0.07121413  0.06866603\n",
      "  0.01744989 -0.00379602 -0.1719297  -0.05989041 -0.06097002  1.2007409\n",
      "  0.01942823  0.01888193 -0.08590798  0.0850376   0.35544026  0.14831789\n",
      " -0.09289423  0.57391083  0.01674036 -0.0444685   0.01781334 -0.1101983\n",
      "  0.0527551   0.23422998  0.28036645  0.02507656]\n",
      "[-5.1952043 -5.205025  -5.1952853 -5.1947494 -5.198268  -5.1982994\n",
      " -5.1952624 -5.2026515 -5.2160716 -5.1960254 -5.1967354 -5.2017226\n",
      " -5.1970735 -5.195269  -5.2013717 -5.20403   -5.1990194 -5.195988\n",
      " -5.2056246 -5.1952777 -5.1999874 -5.1952233 -5.1952953 -5.195284\n",
      " -5.2039533 -5.195461  -5.2041464 -5.196819  -5.2002153 -5.1952515\n",
      " -5.1952333 -5.204803  -5.196887  -5.1953735 -5.2025666 -5.196458\n",
      " -5.1953516 -5.195252  -5.1963196 -5.1951    -5.197848  -5.195603\n",
      " -5.195224  -5.1953435 -5.1952443 -5.1953206 -5.1949744 -5.1952615\n",
      " -5.1952133 -5.195324  -5.1952233 -5.1986856 -5.201116  -5.1988273\n",
      " -5.19521   -5.196383  -5.1952205 -5.195431  -5.1977754 -5.195952\n",
      " -5.1956267 -5.1955686 -5.1956086 -5.195353  -5.1971664 -5.195268\n",
      " -5.1953034 -5.1954255 -5.2048507 -5.1954064 -5.1989555 -5.1954184\n",
      " -5.1962895 -5.1974077 -5.1952167 -5.195445  -5.195812  -5.195745\n",
      " -5.195254  -5.195207  -5.2056327 -5.1957893 -5.19526   -5.1948504\n",
      " -5.195307  -5.195253  -5.1966586 -5.194747  -5.2087092 -5.19568\n",
      " -5.196624  -5.194976  -5.195905  -5.195326  -5.1952243 -5.200439\n",
      " -5.1956835 -5.199632  -5.195134  -5.195315 ]\n",
      "[ 0.06932483 -0.13219994  0.25817662  0.12546094 -0.03528387  0.12096855\n",
      " -0.08495233  0.14244545 -0.06088295  0.09469442  0.09940237  0.15552746\n",
      " -0.16237396 -0.03180941  0.01908958  0.15330777 -0.07758669 -0.1590685\n",
      "  0.11681222 -0.04100302 -0.03061438  0.08961356  0.02922874 -0.07523583\n",
      "  0.04760635 -0.1473289   0.04430071 -0.0121887   0.02693194 -0.05438956\n",
      "  0.11476678  0.12658492 -0.05004518  0.04276414 -0.34723866 -0.03853445\n",
      "  0.16408697  0.02092792 -0.04789323  0.03562046  0.02967376  0.05916061\n",
      "  0.43701175  0.13977957  0.05935329  0.03311757 -0.17257454  0.13507637\n",
      "  0.04131819  0.01171077 -0.07254932  0.2207758   0.0147565   0.14309053\n",
      "  0.01332013  0.02088753 -0.00050325 -0.07170745  0.05145698  0.24180715\n",
      "  0.37382218 -0.13888057 -0.15140894  0.04611477  0.01211753 -0.130012\n",
      "  0.02926099  0.16869327  0.1428762   0.0539734   0.10173985 -0.07591008\n",
      " -0.17460528  0.168137   -0.05212066  0.14012383  0.01575347 -0.09684058\n",
      " -0.00654442  0.02956535  0.04360285  0.0364166  -0.14041935  0.08637164\n",
      " -0.03882337  0.07297851 -0.016244   -0.0191589   0.12098282  0.01490562\n",
      "  0.00260632  0.08701673  0.0266372  -0.0350375   0.0443835   0.05893061\n",
      "  0.29346976  0.09665868  0.07474386  0.05973482]\n",
      "[-3.0185845 -2.844336  -3.003243  -1.6313019 -2.8214855 -1.6039805\n",
      " -3.1104317 -1.6396674 -2.308767  -2.8532581 -2.6943285 -1.667457\n",
      " -2.831241  -1.5403409 -2.7950177 -2.2190917 -2.9871583 -1.5648429\n",
      " -2.8341804 -2.9531982 -2.4903855 -3.2067876 -2.9630935 -1.7864918\n",
      " -1.5911393 -1.8098989 -2.8925035 -2.817257  -2.6443489 -1.7811801\n",
      " -1.7644242 -1.5640322 -2.976844  -3.0753114 -2.888938  -2.978882\n",
      " -2.0800705 -2.1876009 -2.8247156 -1.5651184 -1.6444737 -1.5990311\n",
      " -1.9029608 -2.0085542 -2.1682925 -2.9399364 -1.5305218 -2.5662959\n",
      " -2.040764  -1.598749  -2.017506  -1.7698838 -1.6212512 -1.597216\n",
      " -2.8872826 -2.5352361 -1.6179321 -2.7957144 -1.6275096 -3.1922789\n",
      " -1.6205038 -3.12427   -2.7296557 -2.35788   -2.7471406 -1.6896093\n",
      " -2.8666186 -1.6205447 -1.8110583 -2.8710024 -2.9261336 -2.7336016\n",
      " -2.9178722 -2.9827733 -2.8828511 -1.6076428 -2.6565259 -3.1055288\n",
      " -3.0188093 -2.8887854 -3.0678868 -2.7660103 -1.7723328 -1.6639212\n",
      " -2.7895784 -2.9994097 -2.403532  -1.5608227 -1.5694631 -2.5249252\n",
      " -2.8353207 -1.7005333 -1.603619  -3.032994  -2.9705606 -1.6403927\n",
      " -3.0497034 -2.3365753 -1.707534  -2.8554049]\n",
      "[ 0.06932393 -0.132202    0.2581766   0.12545644 -0.03528389  0.12096739\n",
      " -0.08495452  0.14244562 -0.060884    0.09468753  0.09940252  0.1555326\n",
      " -0.16237386 -0.03180113  0.0190894   0.15330772 -0.07760248 -0.15906577\n",
      "  0.11683296 -0.04102097 -0.03061431  0.08961228  0.0292234  -0.07523669\n",
      "  0.04760672 -0.14732918  0.04417457 -0.01219086  0.02692726 -0.05438966\n",
      "  0.1147669   0.12658702 -0.05004466  0.04276409 -0.34723872 -0.03852449\n",
      "  0.16408674  0.02090743 -0.04789461  0.03561811  0.02967422  0.05916294\n",
      "  0.43699616  0.13977954  0.05932789  0.03311747 -0.17257418  0.13507405\n",
      "  0.04133947  0.01170881 -0.07254936  0.22077727  0.01475802  0.14308915\n",
      "  0.01332015  0.02090661 -0.00050281 -0.07169222  0.05145629  0.24180575\n",
      "  0.373787   -0.13888556 -0.15140907  0.0461129   0.01212038 -0.13001317\n",
      "  0.02926077  0.16869986  0.14287859  0.05397295  0.10164411 -0.07590993\n",
      " -0.17460564  0.16813955 -0.05212053  0.14011787  0.015754   -0.09684233\n",
      " -0.0065273   0.02956559  0.04365182  0.03642403 -0.14042382  0.08635912\n",
      " -0.03882377  0.07297451 -0.01622768 -0.01915666  0.12098072  0.01489533\n",
      "  0.0026042   0.08700681  0.02663978 -0.03503759  0.04438308  0.05892837\n",
      "  0.2934698   0.0966306   0.07474331  0.05977631]\n",
      "[-3.0185702 -2.844322  -3.003229  -1.6303823 -2.8214717 -1.6033337\n",
      " -3.1104116 -1.6395124 -2.308721  -2.8532438 -2.6943154 -1.6645797\n",
      " -2.8312273 -1.5402157 -2.7950041 -2.2190478 -2.9871447 -1.5646157\n",
      " -2.8341668 -2.9531844 -2.4903746 -3.206744  -2.9630797 -1.7861595\n",
      " -1.5910069 -1.8098568 -2.8924894 -2.8172429 -2.6443322 -1.7810904\n",
      " -1.7643143 -1.563841  -2.9768302 -3.0752976 -2.8889241 -2.9788682\n",
      " -2.0800147 -2.187543  -2.8247013 -1.5648768 -1.643876  -1.5977314\n",
      " -1.8982553 -2.008469  -2.1682541 -2.9399226 -1.5303851 -2.566232\n",
      " -2.0406537 -1.5983715 -2.0174482 -1.7678697 -1.6209168 -1.5961802\n",
      " -2.8872683 -2.5352168 -1.6177998 -2.7957003 -1.6272418 -3.1922464\n",
      " -1.6195058 -3.124252  -2.7296157 -2.3576157 -2.7471275 -1.6894803\n",
      " -2.8666043 -1.6200837 -1.8092164 -2.8709888 -2.9261189 -2.7335641\n",
      " -2.9178584 -2.9827456 -2.8828368 -1.6065123 -2.6564775 -3.1055138\n",
      " -3.0187955 -2.8887718 -3.067873  -2.7659965 -1.7715636 -1.6613535\n",
      " -2.7895432 -2.9993954 -2.4035206 -1.5598377 -1.5691327 -2.5248373\n",
      " -2.8353066 -1.6980144 -1.6033313 -3.03298   -2.970547  -1.640133\n",
      " -3.0496898 -2.3363311 -1.7071089 -2.8553913]\n",
      "0.11315394\n",
      "0.11316293\n",
      "-5.197457\n",
      "[-0.06401605  0.1005632   0.08579154  0.06763682 -0.1535773  -0.01618148\n",
      "  0.05525934  0.00890165  0.10896156 -0.040799    0.04538126  0.20255376\n",
      " -0.08932563  0.07485552 -0.10755403  0.07362535  0.04522211 -0.00189968\n",
      "  0.03371181  0.11824253  0.02945688  0.02930677 -0.03738442 -0.02275623\n",
      "  0.00751766 -0.05562349  0.03483553  0.00649871 -0.03202847  0.25504515\n",
      " -0.07611712 -0.0818511  -0.00966675 -0.10583641  0.02481451  0.06211291\n",
      " -0.02527145  0.02562701 -0.0485704  -0.01074175 -0.11193819  0.29634368\n",
      "  0.27151045  0.23132849  0.05290034 -0.1393948   0.03977368  0.0484157\n",
      "  0.04547725 -0.08764429  0.02894619  0.15606056  0.09192207  0.18814917\n",
      "  0.00230421 -0.15111007 -0.08085751 -0.05142203 -0.0576909   0.0483567\n",
      "  0.1751516   0.06345671  0.23184568  0.08759836  0.12425579 -0.00918064\n",
      "  0.07114604 -0.02476602  0.17776625 -0.01910862  0.05875902  0.15570657\n",
      " -0.04331877  0.06751028  0.02933975  0.22238298  0.09593894  0.04354566\n",
      " -0.17650662 -0.16056435  0.0194942   0.14195012  0.05072923  0.28528544\n",
      " -0.13961351 -0.20133893  0.11078494  0.1268029   0.18855806  0.11893489\n",
      " -0.20756738  0.1120312   0.00400979 -0.10603166  0.05256416  0.17931496\n",
      " -0.12866718  0.08300209  0.23967285 -0.07821884]\n",
      "[-3.1423562 -2.7375784 -2.9218678 -2.3559608 -2.9167664 -2.070983\n",
      " -3.099978  -2.368573  -3.0141256 -2.9563603 -3.0491848 -2.4045348\n",
      " -3.0766153 -1.8845167 -2.9766963 -2.8877697 -3.2195587 -2.268412\n",
      " -2.9314504 -3.0554514 -3.043514  -2.8957171 -3.1703556 -2.6806107\n",
      " -2.0771613 -2.7474482 -3.0469937 -3.3016055 -3.0738688 -2.7966974\n",
      " -2.832583  -2.1831343 -2.9687757 -2.8547497 -2.9332983 -3.1494672\n",
      " -2.4195116 -2.8503451 -2.9894834 -2.4025269 -2.34338   -2.1776547\n",
      " -2.5527046 -2.7949953 -2.8768451 -3.1860504 -2.4864666 -2.8577714\n",
      " -2.83924   -2.2167373 -2.897504  -2.4397225 -2.3835196 -2.7038522\n",
      " -3.0603328 -3.0245585 -2.3061464 -3.0027409 -2.4626055 -2.9815605\n",
      " -1.9427911 -2.9885297 -3.075002  -2.914553  -2.935056  -2.4306173\n",
      " -3.0247872 -2.1656063 -2.5992599 -2.940355  -2.9805834 -2.9160783\n",
      " -3.0076566 -2.8224323 -3.0618243 -2.024724  -3.1035528 -3.1071856\n",
      " -3.1573303 -3.0600457 -3.0930393 -2.8897142 -2.6023254 -2.3111606\n",
      " -3.169415  -3.0604734 -2.8879    -2.312428  -2.2200003 -2.9928446\n",
      " -2.9319658 -2.4990501 -2.1073396 -3.1778574 -3.1418295 -2.7124283\n",
      " -2.996974  -3.1110709 -2.1582692 -2.9371476]\n",
      "[-0.06398745  0.10056307  0.08566339  0.06763476 -0.15358056 -0.01618015\n",
      "  0.0552595   0.00890351  0.10890651 -0.04072048  0.04536924  0.20255926\n",
      " -0.08932554  0.07485402 -0.10755418  0.07362476  0.04535339 -0.00190122\n",
      "  0.03371188  0.11824263  0.02949531  0.0293025  -0.03737102 -0.02275771\n",
      "  0.00751701 -0.055624    0.03483554  0.00649866 -0.03199439  0.25504512\n",
      " -0.0761473  -0.08185367 -0.00966981 -0.10585286  0.02479499  0.06211464\n",
      " -0.025242    0.02562735 -0.04857051 -0.01074037 -0.11193315  0.29634017\n",
      "  0.27152354  0.23132847  0.05291207 -0.1393941   0.0397735   0.04841565\n",
      "  0.0454771  -0.08764111  0.02894631  0.15606596  0.09192929  0.18814863\n",
      "  0.00230456 -0.15111026 -0.08085401 -0.05142218 -0.05769176  0.04835673\n",
      "  0.17512757  0.06346133  0.23184621  0.08762611  0.12426237 -0.00918132\n",
      "  0.07114638 -0.02476143  0.17777054 -0.01911164  0.05875967  0.15570778\n",
      " -0.0433249   0.0675059   0.0294776   0.22238383  0.09593882  0.04354577\n",
      " -0.17655303 -0.16056415  0.01949407  0.14195801  0.05073185  0.28528592\n",
      " -0.13961522 -0.20133968  0.11078521  0.12680198  0.18855587  0.11904535\n",
      " -0.20756741  0.11203007  0.00401032 -0.10603203  0.05256449  0.17931472\n",
      " -0.12866738  0.08300602  0.23966712 -0.07835097]\n",
      "[-3.142331  -2.7375655 -2.921854  -2.345917  -2.9167535 -2.0623012\n",
      " -3.0999632 -2.3639398 -3.0141115 -2.9563465 -3.0491707 -2.3935187\n",
      " -3.0766017 -1.8795133 -2.9766822 -2.8877556 -3.2195144 -2.260658\n",
      " -2.9314368 -3.0554373 -3.0435002 -2.8957036 -3.1703231 -2.674934\n",
      " -2.0723171 -2.7474346 -3.0469801 -3.3015258 -3.0738537 -2.7966824\n",
      " -2.8324955 -2.1765983 -2.9687622 -2.854736  -2.9332845 -3.1494403\n",
      " -2.417394  -2.8503325 -2.9894698 -2.3955598 -2.3341875 -2.1689956\n",
      " -2.5517426 -2.7948596 -2.8768308 -3.1860154 -2.4864106 -2.8577578\n",
      " -2.839226  -2.2075672 -2.8974898 -2.4287467 -2.3834283 -2.703042\n",
      " -3.0603192 -3.0245223 -2.3042336 -3.002726  -2.4539554 -2.9815457\n",
      " -1.9417281 -2.9885159 -3.0749881 -2.914496  -2.9350426 -2.4287958\n",
      " -3.0247731 -2.1570227 -2.5884852 -2.9403415 -2.9805698 -2.916065\n",
      " -3.007628  -2.8224187 -3.0618105 -2.0179796 -3.1035306 -3.1071682\n",
      " -3.1573038 -3.060017  -3.0930176 -2.8896987 -2.5928767 -2.3013632\n",
      " -3.1693838 -3.0604599 -2.8878765 -2.3098745 -2.2153068 -2.9926968\n",
      " -2.931952  -2.4875212 -2.0991194 -3.1778235 -3.141804  -2.712389\n",
      " -2.99696   -3.110988  -2.151441  -2.937135 ]\n",
      "0.011576228\n",
      "0.01161559\n",
      "-5.195224\n"
     ]
    }
   ],
   "source": [
    "\n",
    "# Build model.\n",
    "input = tf.keras.layers.Input(1)\n",
    "h1 = tfp.layers.DenseLocalReparameterization(100,activation=tf.keras.activations.relu,kernel_prior_fn=prior,bias_prior_fn=prior,kernel_divergence_fn=kl_div,bias_divergence_fn=kl_div)(input)\n",
    "m = tfp.layers.DenseLocalReparameterization(1,kernel_prior_fn=prior,bias_prior_fn=prior,kernel_divergence_fn=kl_div,bias_divergence_fn=kl_div)(h1)\n",
    "s = tfp.layers.DenseLocalReparameterization(1,activation=tf.keras.activations.softplus,kernel_prior_fn=prior,bias_prior_fn=prior,kernel_divergence_fn=kl_div,bias_divergence_fn=kl_div)(h1)\n",
    "p = tfp.layers.DistributionLambda(lambda t: tfd.Normal(loc=t[0], scale=t[1]))([m,s])\n",
    "model = tf.keras.Model(inputs=input, outputs=p)\n",
    "\n",
    "# Do inference.\n",
    "model.compile(optimizer=tf.optimizers.Adam(learning_rate=0.001), loss=expectednegloglik)\n",
    "model.fit(x, y, epochs=1000, verbose=False);\n",
    "\n",
    "# Profit.\n",
    "[print(np.squeeze(w.numpy())) for w in model.weights];\n",
    "yhat = model(x_tst)\n",
    "assert isinstance(yhat, tfd.Distribution)"
   ]
  },
  {
   "cell_type": "code",
   "execution_count": 40,
   "metadata": {
    "colab": {
     "base_uri": "https://localhost:8080/",
     "height": 166
    },
    "id": "WVTDjXrqdETN",
    "outputId": "d0c33701-1e8b-41af-885c-e7b40a2719a3"
   },
   "outputs": [
    {
     "data": {
      "image/png": "[encoded data removed]",
      "text/plain": [
       "<Figure size 432x108 with 1 Axes>"
      ]
     },
     "metadata": {
      "needs_background": "light"
     },
     "output_type": "display_data"
    }
   ],
   "source": [
    "plt.figure(figsize=[6, 1.5])  # inches\n",
    "plt.plot(x, y, 'b.', label='observed');\n",
    "\n",
    "yhats = [model(x_tst) for _ in range(100)]\n",
    "avgm = np.zeros_like(x_tst[..., 0])\n",
    "ms = []\n",
    "ss = []\n",
    "for i, yhat in enumerate(yhats):\n",
    "  m = np.squeeze(yhat.mean())\n",
    "  s = np.squeeze(yhat.stddev())\n",
    "  if i < 15:\n",
    "    plt.plot(x_tst, m, 'r', label='ensemble means' if i == 0 else None, linewidth=1.)\n",
    "    plt.plot(x_tst, m + 2 * s, 'g', linewidth=0.5, label='ensemble means + 2 ensemble stdev' if i == 0 else None);\n",
    "    plt.plot(x_tst, m - 2 * s, 'g', linewidth=0.5, label='ensemble means - 2 ensemble stdev' if i == 0 else None);\n",
    "  ms += [m]\n",
    "  ss += [s]\n",
    "ms = np.array(ms)\n",
    "avgm = ms.mean(axis=0)\n",
    "ss = np.array(ss)\n",
    "avgs = np.sqrt((ms**2+ss**2).mean(axis=0)-avgm**2)\n",
    "plt.plot(x_tst, avgm, 'r', label='overall mean', linewidth=4)\n",
    "plt.plot(x_tst, avgm + 2 * avgs, 'g', linewidth=4, label='overall mean + 2 overall stdev');\n",
    "plt.plot(x_tst, avgm - 2 * avgs, 'g', linewidth=4, label='overall means - 2 overall stdev');\n",
    "\n",
    "plt.ylim(-20,30);\n",
    "plt.yticks(np.linspace(-20, 30, 4)[1:]);\n",
    "plt.xticks(np.linspace(*x_range, num=9));\n",
    "\n",
    "ax=plt.gca();\n",
    "ax.xaxis.set_ticks_position('bottom')\n",
    "ax.yaxis.set_ticks_position('left')\n",
    "ax.spines['left'].set_position(('data', 0))\n",
    "ax.spines['top'].set_visible(False)\n",
    "ax.spines['right'].set_visible(False)\n",
    "#ax.spines['left'].set_smart_bounds(True)\n",
    "#ax.spines['bottom'].set_smart_bounds(True)\n",
    "plt.legend(loc='center left', fancybox=True, framealpha=0., bbox_to_anchor=(1.05, 0.5))\n",
    "\n",
    "plt.savefig('/tmp/fig4.png', bbox_inches='tight', dpi=300)"
   ]
  },
  {
   "cell_type": "code",
   "execution_count": 41,
   "metadata": {
    "colab": {
     "base_uri": "https://localhost:8080/"
    },
    "id": "h7jlEwTDgXzv",
    "outputId": "786715ea-96f0-4898-fc61-ed9f50a1ab71"
   },
   "outputs": [
    {
     "name": "stderr",
     "output_type": "stream",
     "text": [
      "/usr/local/lib/python3.8/dist-packages/tensorflow_probability/python/layers/util.py:95: UserWarning: `layer.add_variable` is deprecated and will be removed in a future version. Please use the `layer.add_weight()` method instead.\n",
      "  loc = add_variable_fn(\n",
      "/usr/local/lib/python3.8/dist-packages/tensorflow_probability/python/layers/util.py:105: UserWarning: `layer.add_variable` is deprecated and will be removed in a future version. Please use the `layer.add_weight()` method instead.\n",
      "  untransformed_scale = add_variable_fn(\n"
     ]
    },
    {
     "name": "stdout",
     "output_type": "stream",
     "text": [
      "[ 0.03180962  0.2289848  -0.10047504  0.0102689  -0.20567873 -0.04096468\n",
      " -0.14729711 -0.01925973 -0.0051179  -0.11112158 -0.07540628 -0.07231212\n",
      " -0.15004857 -0.09031952 -0.0444605  -0.04197851 -0.1467451  -0.09471143\n",
      " -0.02110189 -0.08592314 -0.16805972 -0.10836977  0.00080462  0.03609511\n",
      " -0.01338024  0.04776598 -0.13643353 -0.03161345  0.00258883 -0.05523034\n",
      " -0.05288046  0.21414776 -0.03883167  0.1868527  -0.21678796 -0.00702837\n",
      " -0.18683477 -0.25941852  0.28933552 -0.08187345 -0.0026049   0.28028294\n",
      " -0.08394476  0.05741284 -0.17887412 -0.12687656 -0.24989946  0.13904458\n",
      " -0.07155503 -0.00293955  0.00378733  0.16712093  0.09704605 -0.06458968\n",
      " -0.08569732 -0.15133479 -0.03370351 -0.20415288 -0.15364502 -0.0337864\n",
      " -0.06369416 -0.04708513  0.05237954  0.11578082 -0.04035248  0.12293615\n",
      " -0.20556904 -0.04264817 -0.13651241  0.06632231 -0.14226574 -0.11118429\n",
      " -0.16617808 -0.0498019   0.21325272 -0.02544764  0.10658851  0.00496703\n",
      " -0.08447634  0.10364991 -0.00405313 -0.10360433 -0.10039071  0.2394822\n",
      "  0.01174498  0.00840033 -0.12451583  0.00428278 -0.00126002 -0.09430583\n",
      "  0.00414046 -0.04079299 -0.12043289  0.00343608 -0.05961657  0.05444831\n",
      " -0.03701898  0.1006518   0.01281322  0.06849233]\n",
      "[-1.6635691 -1.8563409 -2.6793425 -1.5526831 -1.9951141 -2.4206214\n",
      " -1.8540375 -1.550732  -2.0363944 -1.6700981 -1.944651  -1.843258\n",
      " -1.6620054 -1.7031116 -2.0579298 -2.1804426 -2.1635046 -1.5613055\n",
      " -2.2759612 -1.8552063 -1.667843  -2.358213  -2.4753785 -1.6889131\n",
      " -1.7916546 -1.9486868 -1.6974238 -1.8156384 -2.0021765 -1.7698148\n",
      " -1.693772  -1.8411376 -1.6247884 -1.7166448 -1.9166901 -1.7882107\n",
      " -1.9255402 -2.001941  -2.0228953 -1.5317713 -2.2840605 -1.7826664\n",
      " -1.7710658 -1.6208777 -1.7200665 -2.1219683 -1.8510226 -1.8198736\n",
      " -2.365439  -2.086989  -1.8807473 -1.688119  -1.9210296 -1.9545746\n",
      " -1.9636422 -2.0294623 -2.5295684 -1.8199849 -1.9487431 -1.8420025\n",
      " -2.0591757 -2.383642  -2.0616548 -1.6415737 -1.6520817 -1.810096\n",
      " -1.6379128 -1.8225948 -2.1498938 -1.7047498 -1.73025   -1.7366698\n",
      " -2.065216  -1.9680152 -1.7346445 -2.0217533 -1.6812377 -1.9923884\n",
      " -2.2387116 -1.697352  -1.9695338 -1.9059464 -1.5850883 -1.8803246\n",
      " -1.9561167 -1.9438326 -1.9242795 -1.6564481 -2.0322576 -2.4102314\n",
      " -2.2563949 -2.0218847 -1.9168863 -1.8185973 -1.921257  -1.7902142\n",
      " -1.9094634 -1.6448059 -1.7881955 -1.8812019]\n",
      "[ 0.03180938  0.22898492 -0.10059974  0.01026542 -0.20567825 -0.04096423\n",
      " -0.14729512 -0.01926015 -0.00511789 -0.1111218  -0.07540637 -0.07231242\n",
      " -0.15005253 -0.09032422 -0.0444636  -0.04197256 -0.14674465 -0.09470538\n",
      " -0.02110441 -0.0859232  -0.16805974 -0.10837347  0.00080346  0.03609518\n",
      " -0.01338036  0.047766   -0.13642246 -0.03161284  0.00258882 -0.05523035\n",
      " -0.05287744  0.214148   -0.03883003  0.18685274 -0.2167859  -0.00702833\n",
      " -0.18683662 -0.25942364  0.28933603 -0.08187235 -0.00260549  0.2802833\n",
      " -0.08394001  0.05741288 -0.17888287 -0.12687652 -0.24989824  0.13904466\n",
      " -0.07155512 -0.00293953  0.00378755  0.16712318  0.09704608 -0.06458969\n",
      " -0.08569878 -0.1513323  -0.03370292 -0.20415178 -0.15364811 -0.03378639\n",
      " -0.06369434 -0.04708716  0.05237954  0.1157807  -0.04035249  0.12293681\n",
      " -0.20557833 -0.0426486  -0.13651288  0.06632223 -0.14226456 -0.11118688\n",
      " -0.16617818 -0.0498019   0.2132578  -0.02544764  0.10659571  0.00496702\n",
      " -0.08447622  0.10365025 -0.00405304 -0.10360427 -0.10039025  0.23948203\n",
      "  0.01174494  0.00840046 -0.12451623  0.00428237 -0.00125998 -0.09427656\n",
      "  0.00404702 -0.04079225 -0.12043402  0.00343526 -0.05961646  0.05444831\n",
      " -0.03701873  0.10065364  0.0128132   0.06849236]\n",
      "[-1.6633153 -1.8563365 -2.6793573 -1.5526836 -1.9951308 -2.4206994\n",
      " -1.852889  -1.5503825 -2.0364034 -1.6700703 -1.9446288 -1.843317\n",
      " -1.661648  -1.7023392 -2.0569155 -2.1796863 -2.1634672 -1.5603983\n",
      " -2.2762096 -1.8552021 -1.6678388 -2.3583987 -2.475552  -1.6888636\n",
      " -1.7915434 -1.9485437 -1.6966305 -1.8151838 -2.002167  -1.7697297\n",
      " -1.6921519 -1.8411102 -1.6237941 -1.7165997 -1.9170249 -1.7876996\n",
      " -1.9239458 -2.0016491 -2.022887  -1.5317085 -2.2841244 -1.7826501\n",
      " -1.7704759 -1.6208701 -1.7192713 -2.1219602 -1.8503803 -1.8197961\n",
      " -2.365388  -2.0869648 -1.8806896 -1.6877106 -1.9210013 -1.9545698\n",
      " -1.9625257 -2.028964  -2.529673  -1.8199192 -1.9488728 -1.8419944\n",
      " -2.0591557 -2.3836317 -2.061596  -1.641433  -1.6520784 -1.8097414\n",
      " -1.6373463 -1.8226913 -2.150096  -1.7047464 -1.7309328 -1.7349538\n",
      " -2.0652082 -1.9680117 -1.7344866 -2.0217452 -1.6808678 -1.9923686\n",
      " -2.2387373 -1.6970223 -1.9695745 -1.9049863 -1.5845474 -1.8803127\n",
      " -1.9561121 -1.9438039 -1.9245366 -1.6570766 -2.0322483 -2.410153\n",
      " -2.2567916 -2.0220678 -1.9171621 -1.8185022 -1.9214102 -1.7901703\n",
      " -1.9094667 -1.6446486 -1.7881756 -1.88108  ]\n",
      "[ 0.72493756  0.52185917 -0.21939269  0.00327377 -0.05184088  0.00270679\n",
      "  0.00276588 -0.13818245 -0.15146905  0.29911608  0.22184478 -0.11102659\n",
      "  0.70353025  0.02138967  0.07933853  0.18914528  0.10544205  0.02493973\n",
      " -0.03431967 -0.00359851 -0.1327465   0.03701625 -0.15834045  0.03397157\n",
      "  0.24861895 -0.06414916  0.01911482  0.04438368 -0.08900089 -0.09596356\n",
      " -0.00940527  0.41214275  0.46307918  0.5808663  -0.08610349 -0.02867388\n",
      " -0.02029342  0.12524892  0.49387535  0.05382206  0.06858943  0.15069391\n",
      "  0.31794053  0.4987212   0.6662274  -0.02137959  0.11562794  0.0536861\n",
      " -0.22922044  0.0221228  -0.05653908  0.28987703 -0.094142   -0.09099627\n",
      "  0.12682635  0.14650588 -0.00919446 -0.15120788  0.04974661  0.03834046\n",
      " -0.09170809 -0.10225316  0.2547645   0.10617482 -0.16213377  0.5188164\n",
      " -0.03030389 -0.24524796 -0.24011514  0.0883057  -0.03526824 -0.10012287\n",
      " -0.00514912 -0.08028696  0.49793786  0.04559422  0.28304648 -0.09945948\n",
      " -0.02301125  0.09271997 -0.12695932 -0.14363796  0.43402788  0.20528516\n",
      " -0.04763578  0.0701315  -0.18179339  0.08955232  0.22214028  0.08178004\n",
      " -0.03825853  0.05440416 -0.11421608 -0.2182123   0.0035077   0.0874917\n",
      " -0.21971211  0.320189    0.04862806  0.34955394]\n",
      "[ 0.7251525   0.52185845 -0.21953869  0.00326363 -0.05181044  0.0027723\n",
      "  0.00287431 -0.13814072 -0.15146765  0.2991815   0.22184001 -0.11095662\n",
      "  0.70358306  0.02138456  0.07916588  0.18881148  0.10525952  0.02510949\n",
      " -0.0342698  -0.00359975 -0.13273367  0.03703296 -0.15834895  0.03402271\n",
      "  0.24838394 -0.06425738  0.0190233   0.04440793 -0.08898964 -0.09588008\n",
      " -0.00955118  0.4121229   0.46310806  0.5808568  -0.08615945 -0.02876459\n",
      " -0.02031657  0.12526102  0.49387473  0.05382643  0.06888712  0.15069778\n",
      "  0.3183233   0.49876305  0.6665936  -0.02136593  0.11569735  0.05385202\n",
      " -0.22921674  0.0221057  -0.05645106  0.28988713 -0.09414282 -0.09098882\n",
      "  0.12673296  0.14643367 -0.00920447 -0.15122107  0.04986186  0.03836278\n",
      " -0.09154744 -0.10232595  0.25475958  0.10617369 -0.16213208  0.5188074\n",
      " -0.03029137 -0.245244   -0.24008319  0.08830743 -0.03524312 -0.10028157\n",
      " -0.00513505 -0.08026346  0.49795228  0.04558165  0.2831374  -0.09946758\n",
      " -0.02305939  0.09240319 -0.12697788 -0.14353625  0.4342649   0.20503816\n",
      " -0.04764341  0.07011998 -0.18185182  0.08954551  0.22214003  0.08181457\n",
      " -0.03827174  0.05438223 -0.1142137  -0.21813934  0.00352814  0.08749159\n",
      " -0.21937539  0.3202435   0.04862481  0.34954888]\n",
      "[-5.195111  -5.1972895 -5.2035656 -5.1953015 -5.195197  -5.1964874\n",
      " -5.1953063 -5.19513   -5.1952357 -5.195083  -5.200526  -5.1958413\n",
      " -5.195192  -5.1951003 -5.195094  -5.1964536 -5.195832  -5.1950974\n",
      " -5.195159  -5.1955233 -5.203302  -5.1968107 -5.196787  -5.1961718\n",
      " -5.19677   -5.1972966 -5.195435  -5.1955085 -5.1960917 -5.195267\n",
      " -5.195868  -5.195253  -5.196806  -5.195904  -5.195251  -5.1954665\n",
      " -5.1958823 -5.19551   -5.198271  -5.195336  -5.197832  -5.1975794\n",
      " -5.1952558 -5.1953287 -5.201199  -5.195935  -5.1955976 -5.1961718\n",
      " -5.2057457 -5.1965575 -5.1951113 -5.19522   -5.2001667 -5.1951795\n",
      " -5.1952844 -5.195653  -5.195731  -5.197191  -5.1956744 -5.1951904\n",
      " -5.1951065 -5.195187  -5.195851  -5.1952357 -5.2056704 -5.1951714\n",
      " -5.196884  -5.2074194 -5.209722  -5.195153  -5.195105  -5.1977506\n",
      " -5.195219  -5.1955757 -5.1969104 -5.1967087 -5.203454  -5.1951795\n",
      " -5.195148  -5.196935  -5.1952677 -5.2030067 -5.1951303 -5.1981673\n",
      " -5.195151  -5.1958942 -5.200718  -5.2003036 -5.197674  -5.1951175\n",
      " -5.1951065 -5.199292  -5.1954517 -5.2031074 -5.195138  -5.195161\n",
      " -5.198981  -5.19524   -5.195596  -5.2265434]\n",
      "[ 0.1997523   0.14357062  0.02255812 -0.03059155 -0.05161643  0.04337773\n",
      " -0.09680253  0.00752855 -0.00446309  0.13833559  0.07549628  0.10333365\n",
      "  0.46500543 -0.07506584 -0.05565493  0.03863129  0.12920423 -0.02097741\n",
      "  0.19887944 -0.1020486   0.12173552 -0.08096357 -0.06263345 -0.05666082\n",
      "  0.05175401  0.04797113 -0.09180987  0.10021354 -0.08438645 -0.02775327\n",
      "  0.20543607  0.04735558  0.18528415  0.0798505   0.10280671 -0.14202005\n",
      "  0.04072657  0.00071326  0.06659327 -0.06420831 -0.10483779  0.05316605\n",
      "  0.23178141  0.2783637   0.38636816 -0.00632617  0.03848351 -0.09972158\n",
      " -0.17191972  0.04543452 -0.02899893 -0.10379625  0.05808438 -0.03844842\n",
      " -0.01586696  0.14831015 -0.01373299 -0.12491903  0.17308871 -0.01055475\n",
      " -0.04254925 -0.15339403  0.14488012 -0.02762472  0.02076033  0.13934696\n",
      "  0.11039774 -0.00248727  0.01758271  0.02679721  0.07992192 -0.07140993\n",
      "  0.05730672  0.02563793  0.11518461 -0.03039215  0.05718818 -0.02586109\n",
      "  0.04076926  0.07945273  0.0783558   0.05436858  0.15296976  0.11901718\n",
      " -0.05640123  0.1485506  -0.10948382  0.01548535 -0.03921704  0.01774048\n",
      " -0.04900339 -0.12421251  0.01862339 -0.09173402  0.15518412 -0.10826633\n",
      "  0.03434503  0.01496911  0.13972405 -0.02329666]\n",
      "[-1.6606553 -1.7552968 -1.5856392 -1.5597951 -1.7073143 -1.6009873\n",
      " -1.5780973 -1.5947161 -1.5382018 -1.5587357 -1.6025854 -1.5623257\n",
      " -1.5994136 -1.5619067 -1.5837053 -1.5862417 -1.6239489 -1.5440298\n",
      " -1.5347778 -1.7105391 -1.5384872 -1.6105907 -1.5948458 -1.6498967\n",
      " -1.6650516 -1.5963691 -1.656394  -1.5725428 -1.608801  -1.5759557\n",
      " -1.6026107 -1.696245  -1.6959265 -1.5886794 -1.6235845 -1.6828165\n",
      " -1.657349  -1.6284512 -1.7172704 -1.65147   -1.6414491 -1.8389182\n",
      " -1.6376233 -1.5381749 -1.5374339 -1.5485599 -1.723358  -1.7332232\n",
      " -1.4354286 -1.6193185 -1.5477626 -1.715056  -1.6274769 -1.5599059\n",
      " -1.5648836 -1.5078967 -1.6154609 -1.5853968 -1.6529539 -1.4559695\n",
      " -1.6160227 -1.6670206 -1.5765495 -1.6421753 -1.5485574 -1.876291\n",
      " -1.6525326 -1.6351652 -1.5643386 -1.6653727 -1.5961791 -1.5737172\n",
      " -1.608801  -1.5494665 -1.6467574 -1.6947938 -1.5810677 -1.6114322\n",
      " -1.5658326 -1.7785763 -1.6051798 -1.5309961 -1.615326  -1.7737106\n",
      " -1.5031899 -1.6784838 -1.6348413 -1.5292909 -1.6251147 -1.6702468\n",
      " -1.5725757 -1.770667  -1.6214162 -1.6278285 -1.6497623 -1.6600914\n",
      " -1.6289887 -1.7564136 -1.7651446 -1.643539 ]\n",
      "[ 0.19975051  0.14357032  0.02255677 -0.03057734 -0.05161533  0.04337287\n",
      " -0.09680659  0.00752727 -0.00446071  0.13833563  0.07549634  0.1033318\n",
      "  0.46495697 -0.07505521 -0.05565494  0.03863231  0.12920937 -0.02098798\n",
      "  0.19888246 -0.10204883  0.12173633 -0.08096502 -0.0626338  -0.05666091\n",
      "  0.05175374  0.0479707  -0.09180512  0.10021293 -0.08438875 -0.0277449\n",
      "  0.20545194  0.04735509  0.18528907  0.07985003  0.10281084 -0.14202066\n",
      "  0.04071444  0.00071268  0.06659266 -0.06420828 -0.10483876  0.05316565\n",
      "  0.2317768   0.2783638   0.3863774  -0.00632611  0.03847633 -0.09972247\n",
      " -0.17191944  0.04543452 -0.0289959  -0.10379791  0.05808423 -0.03844861\n",
      " -0.01586726  0.1482991  -0.01372701 -0.1249144   0.17309128 -0.0105548\n",
      " -0.04254958 -0.15339436  0.14488004 -0.02762591  0.02076014  0.13934729\n",
      "  0.11040728 -0.00248843  0.0175834   0.02679715  0.07992383 -0.07140293\n",
      "  0.05730673  0.02563771  0.11518523 -0.03039179  0.05718854 -0.02586116\n",
      "  0.04076806  0.0794523   0.07835526  0.0543601   0.15296938  0.11901663\n",
      " -0.05640168  0.14854988 -0.10948081  0.01548424 -0.03921709  0.0177659\n",
      " -0.04900362 -0.1242122   0.01861723 -0.09173512  0.15517563 -0.10826652\n",
      "  0.03434483  0.01496554  0.13972448 -0.02329809]\n",
      "[-1.6605836 -1.7552521 -1.5856596 -1.5596935 -1.7072442 -1.6009963\n",
      " -1.577997  -1.5946707 -1.5381805 -1.5586492 -1.6025724 -1.5622863\n",
      " -1.5990767 -1.5617325 -1.5836554 -1.5862815 -1.6238694 -1.5438751\n",
      " -1.5347401 -1.710521  -1.5384513 -1.6105577 -1.5948092 -1.6498214\n",
      " -1.6650378 -1.5963522 -1.6561923 -1.572394  -1.6087611 -1.5758467\n",
      " -1.6024387 -1.6962085 -1.6958008 -1.5884904 -1.6233989 -1.6827517\n",
      " -1.6571542 -1.6282815 -1.7172421 -1.6514579 -1.6414151 -1.8389078\n",
      " -1.6374363 -1.538131  -1.5369986 -1.5485532 -1.7232445 -1.7331878\n",
      " -1.4353672 -1.6193047 -1.547697  -1.7147453 -1.6274674 -1.5598923\n",
      " -1.5647197 -1.5077605 -1.6153712 -1.5853804 -1.6528771 -1.4559408\n",
      " -1.6158154 -1.6670163 -1.5765046 -1.6420366 -1.5485464 -1.876272\n",
      " -1.6523118 -1.6351743 -1.5641497 -1.6653591 -1.5961673 -1.5736165\n",
      " -1.6087738 -1.5494623 -1.6462011 -1.6947919 -1.5807077 -1.6114281\n",
      " -1.5657661 -1.7784524 -1.6051294 -1.5308381 -1.6153027 -1.77367\n",
      " -1.5031579 -1.6784558 -1.6348407 -1.5291363 -1.6251113 -1.6702545\n",
      " -1.572532  -1.7706472 -1.6212744 -1.6276937 -1.6496584 -1.6600645\n",
      " -1.6289622 -1.756379  -1.7651067 -1.643435 ]\n",
      "0.0142004965\n",
      "0.014451949\n",
      "-5.1960883\n",
      "[ 0.1420201   0.25326395 -0.25508514 -0.01013576 -0.05691404 -0.07860336\n",
      "  0.23204388  0.03392522 -0.01553879  0.2229082   0.12362754  0.0009146\n",
      "  0.44564283  0.09398165  0.18191774  0.21133316  0.04263343  0.10843965\n",
      " -0.07113855 -0.00649128  0.17310338 -0.16348836 -0.10181294  0.11700509\n",
      "  0.19471791  0.10001682  0.07298578  0.08746901  0.07015652  0.02006531\n",
      "  0.24070865  0.3228138   0.16891389  0.29769933 -0.06967033  0.11601307\n",
      "  0.2994859   0.2709304   0.21796212  0.17136976 -0.0681958   0.2326339\n",
      "  0.09694408  0.07309063  0.25962102 -0.06949439  0.18910685  0.20091297\n",
      "  0.02074854  0.05124178 -0.00773551  0.24262209  0.08484309  0.08144936\n",
      "  0.2100026   0.19210757 -0.11643454  0.0633899  -0.0395003   0.13894951\n",
      " -0.00442124 -0.00997514  0.19215292  0.12507783  0.0822752   0.16389613\n",
      "  0.06337708 -0.05089066 -0.11276737  0.11592653 -0.05625414  0.12667267\n",
      "  0.13711408  0.10413513  0.21636194  0.02299879  0.15245692  0.06130078\n",
      " -0.02613086  0.09986635 -0.10920849  0.146154    0.14937033  0.25727427\n",
      "  0.018039    0.03233699 -0.05109605 -0.0424234   0.22861624  0.21285887\n",
      " -0.0834693  -0.06030727 -0.07092915 -0.00544642 -0.02198006  0.11645927\n",
      " -0.02302449  0.14570478  0.15127575  0.2088015 ]\n",
      "[-1.648411  -1.8147988 -1.8036722 -1.5925485 -2.4203525 -1.7963443\n",
      " -1.9941783 -1.6381377 -1.9163299 -1.6331466 -1.8262435 -1.7781676\n",
      " -1.633252  -1.854884  -1.8921757 -1.8073375 -1.9296216 -1.6457964\n",
      " -1.9738537 -1.76466   -1.859337  -2.0096838 -2.0018694 -1.974898\n",
      " -1.9404601 -2.083049  -1.8247257 -1.6380277 -1.92682   -1.6686395\n",
      " -1.6468164 -1.9986323 -1.8217916 -1.8297343 -1.9441549 -1.7595694\n",
      " -2.0446472 -2.5302923 -2.0397701 -1.8398064 -2.0048199 -2.0908742\n",
      " -1.6608359 -1.5645876 -1.6186944 -2.0816264 -2.016643  -1.9802314\n",
      " -1.7737811 -1.7977649 -1.6156774 -2.1595929 -1.8473653 -1.9251922\n",
      " -1.6627253 -1.6967812 -2.0201986 -1.9596262 -1.9685067 -1.7187257\n",
      " -2.182975  -1.8953896 -1.7925307 -1.6283687 -1.6643689 -1.987448\n",
      " -2.0253088 -1.7613742 -1.8824396 -2.1001208 -2.274541  -1.9700698\n",
      " -1.9777098 -1.6328622 -2.225175  -2.1017473 -1.8100003 -1.8509507\n",
      " -2.0800016 -1.8489428 -1.8022982 -1.6252085 -1.693658  -1.7708724\n",
      " -1.7320598 -1.8585367 -1.9573777 -1.6360816 -1.6011399 -1.8423536\n",
      " -2.0906496 -1.8858377 -2.0510378 -1.712187  -2.0435503 -1.9189203\n",
      " -1.7172145 -1.8583475 -1.8692838 -1.7501218]\n",
      "[ 0.1420203   0.25326398 -0.25508508 -0.01013708 -0.05691203 -0.07860269\n",
      "  0.23204707  0.03392719 -0.0155377   0.22290829  0.12362754  0.00091325\n",
      "  0.44565195  0.09397785  0.18192019  0.21133485  0.04263534  0.10844405\n",
      " -0.07113642 -0.00649134  0.17310344 -0.16348666 -0.10181238  0.11700536\n",
      "  0.19471787  0.10001691  0.07298107  0.0874698   0.07015686  0.0200655\n",
      "  0.24070443  0.32281387  0.16891563  0.2976995  -0.06966954  0.11601361\n",
      "  0.2994911   0.27093047  0.21796212  0.17136979 -0.06819584  0.23263396\n",
      "  0.09694612  0.07309068  0.25962687 -0.06949438  0.18911053  0.20091306\n",
      "  0.02074902  0.05124186 -0.00772971  0.24262297  0.08484304  0.08144942\n",
      "  0.21000491  0.19211003 -0.11643352  0.06338773 -0.03950042  0.13894965\n",
      " -0.00442187 -0.00997502  0.1921535   0.12507784  0.0822752   0.16389671\n",
      "  0.06337914 -0.05089263 -0.11276611  0.11592654 -0.05625411  0.12667575\n",
      "  0.13711411  0.10413515  0.21636364  0.02299876  0.15245703  0.06130085\n",
      " -0.02613165  0.09982774 -0.10920817  0.14615957  0.14937028  0.25727436\n",
      "  0.01803909  0.03233656 -0.05109552 -0.04241204  0.22861633  0.21285883\n",
      " -0.08346738 -0.06030715 -0.07093216 -0.00544774 -0.02198033  0.11645947\n",
      " -0.02302428  0.14570528  0.15127565  0.20880176]\n",
      "[-1.6483318 -1.8148028 -1.8036832 -1.5925689 -2.4203591 -1.7963548\n",
      " -1.9941771 -1.6381234 -1.9163326 -1.6331432 -1.8262397 -1.778225\n",
      " -1.6332985 -1.8549106 -1.892139  -1.8073149 -1.9297215 -1.6458279\n",
      " -1.9738739 -1.7646562 -1.8593335 -2.0096807 -2.0018787 -1.974896\n",
      " -1.9404565 -2.0830414 -1.8247558 -1.6380836 -1.9268163 -1.6686604\n",
      " -1.6468544 -1.998629  -1.8217963 -1.8297377 -1.9442168 -1.7595598\n",
      " -2.0445716 -2.5302773 -2.0397618 -1.8398029 -2.004818  -2.0908663\n",
      " -1.660767  -1.5645891 -1.618698  -2.0816185 -2.0166738 -1.9802305\n",
      " -1.7737881 -1.7977618 -1.6156204 -2.1595864 -1.8473649 -1.9251887\n",
      " -1.6627119 -1.6968279 -2.0201907 -1.9595449 -1.9685072 -1.718729\n",
      " -2.182976  -1.895387  -1.792529  -1.6283777 -1.6643655 -1.9874626\n",
      " -2.0250897 -1.761361  -1.8824227 -2.1001291 -2.2745082 -1.9700459\n",
      " -1.9777062 -1.6328593 -2.225187  -2.1017392 -1.8100039 -1.8509473\n",
      " -2.08001   -1.8489416 -1.8023012 -1.6252096 -1.6936427 -1.7708691\n",
      " -1.7320569 -1.858553  -1.9574207 -1.6361952 -1.6011368 -1.8423533\n",
      " -2.0906725 -1.8858397 -2.0510454 -1.712185  -2.043587  -1.9189236\n",
      " -1.7172109 -1.8583509 -1.8692881 -1.750118 ]\n",
      "0.3522185\n",
      "0.3522079\n",
      "-5.214069\n"
     ]
    }
   ],
   "source": [
    "\n",
    "# Build model.\n",
    "input = tf.keras.layers.Input(1)\n",
    "h1 = tfp.layers.DenseFlipout(100,activation=tf.keras.activations.relu,kernel_prior_fn=prior,bias_prior_fn=prior,kernel_divergence_fn=kl_div,bias_divergence_fn=kl_div)(input)\n",
    "m = tfp.layers.DenseFlipout(1,kernel_prior_fn=prior,bias_prior_fn=prior,kernel_divergence_fn=kl_div,bias_divergence_fn=kl_div)(h1)\n",
    "s = tfp.layers.DenseFlipout(1,activation=tf.keras.activations.softplus,kernel_prior_fn=prior,bias_prior_fn=prior,kernel_divergence_fn=kl_div,bias_divergence_fn=kl_div)(h1)\n",
    "p = tfp.layers.DistributionLambda(lambda t: tfd.Normal(loc=t[0], scale=t[1]))([m,s])\n",
    "model = tf.keras.Model(inputs=input, outputs=p)\n",
    "\n",
    "# Do inference.\n",
    "model.compile(optimizer=tf.optimizers.Adam(learning_rate=0.001), loss=expectednegloglik)\n",
    "model.fit(x, y, epochs=1000, verbose=False);\n",
    "\n",
    "# Profit.\n",
    "[print(np.squeeze(w.numpy())) for w in model.weights];\n",
    "yhat = model(x_tst)\n",
    "assert isinstance(yhat, tfd.Distribution)"
   ]
  },
  {
   "cell_type": "code",
   "execution_count": 42,
   "metadata": {
    "colab": {
     "base_uri": "https://localhost:8080/",
     "height": 166
    },
    "id": "dItEnkyddM05",
    "outputId": "cff96b52-f356-4195-f713-e494537ce8c7"
   },
   "outputs": [
    {
     "data": {
      "image/png": "[encoded data removed]",
      "text/plain": [
       "<Figure size 432x108 with 1 Axes>"
      ]
     },
     "metadata": {
      "needs_background": "light"
     },
     "output_type": "display_data"
    }
   ],
   "source": [
    "plt.figure(figsize=[6, 1.5])  # inches\n",
    "plt.plot(x, y, 'b.', label='observed');\n",
    "\n",
    "yhats = [model(x_tst) for _ in range(100)]\n",
    "avgm = np.zeros_like(x_tst[..., 0])\n",
    "ms = []\n",
    "ss = []\n",
    "for i, yhat in enumerate(yhats):\n",
    "  m = np.squeeze(yhat.mean())\n",
    "  s = np.squeeze(yhat.stddev())\n",
    "  if i < 15:\n",
    "    plt.plot(x_tst, m, 'r', label='ensemble means' if i == 0 else None, linewidth=1.)\n",
    "    plt.plot(x_tst, m + 2 * s, 'g', linewidth=0.5, label='ensemble means + 2 ensemble stdev' if i == 0 else None);\n",
    "    plt.plot(x_tst, m - 2 * s, 'g', linewidth=0.5, label='ensemble means - 2 ensemble stdev' if i == 0 else None);\n",
    "  ms += [m]\n",
    "  ss += [s]\n",
    "ms = np.array(ms)\n",
    "avgm = ms.mean(axis=0)\n",
    "ss = np.array(ss)\n",
    "avgs = np.sqrt((ms**2+ss**2).mean(axis=0)-avgm**2)\n",
    "plt.plot(x_tst, avgm, 'r', label='overall mean', linewidth=4)\n",
    "plt.plot(x_tst, avgm + 2 * avgs, 'g', linewidth=4, label='overall mean + 2 overall stdev');\n",
    "plt.plot(x_tst, avgm - 2 * avgs, 'g', linewidth=4, label='overall means - 2 overall stdev');\n",
    "\n",
    "plt.ylim(-20,50);\n",
    "plt.yticks(np.linspace(-20, 50, 4)[1:]);\n",
    "plt.xticks(np.linspace(*x_range, num=9));\n",
    "\n",
    "ax=plt.gca();\n",
    "ax.xaxis.set_ticks_position('bottom')\n",
    "ax.yaxis.set_ticks_position('left')\n",
    "ax.spines['left'].set_position(('data', 0))\n",
    "ax.spines['top'].set_visible(False)\n",
    "ax.spines['right'].set_visible(False)\n",
    "#ax.spines['left'].set_smart_bounds(True)\n",
    "#ax.spines['bottom'].set_smart_bounds(True)\n",
    "plt.legend(loc='center left', fancybox=True, framealpha=0., bbox_to_anchor=(1.05, 0.5))\n",
    "\n",
    "plt.savefig('/tmp/fig4.png', bbox_inches='tight', dpi=300)"
   ]
  },
  {
   "cell_type": "code",
   "execution_count": 43,
   "metadata": {
    "id": "ANtDqbiZgoFP"
   },
   "outputs": [],
   "source": [
    "# Copyright 2015 The TensorFlow Authors. All Rights Reserved.\n",
    "#\n",
    "# Licensed under the Apache License, Version 2.0 (the \"License\");\n",
    "# you may not use this file except in compliance with the License.\n",
    "# You may obtain a copy of the License at\n",
    "#\n",
    "#     http://www.apache.org/licenses/LICENSE-2.0\n",
    "#\n",
    "# Unless required by applicable law or agreed to in writing, software\n",
    "# distributed under the License is distributed on an \"AS IS\" BASIS,\n",
    "# WITHOUT WARRANTIES OR CONDITIONS OF ANY KIND, either express or implied.\n",
    "# See the License for the specific language governing permissions and\n",
    "# limitations under the License.\n",
    "# ==============================================================================\n",
    "\"\"\"Contains the MCDropout layer.\"\"\"\n",
    "\n",
    "\n",
    "import tensorflow.compat.v2 as tf\n",
    "\n",
    "from keras import backend\n",
    "from keras.engine import base_layer\n",
    "from keras.utils import control_flow_util\n",
    "\n",
    "# isort: off\n",
    "from tensorflow.python.util.tf_export import keras_export\n",
    "\n",
    "\n",
    "#@keras_export(\"keras.layers.Dropout\")\n",
    "class MCDropout(base_layer.BaseRandomLayer):\n",
    "    \"\"\"Applies MCDropout to the input.\n",
    "\n",
    "    The MCDropout layer randomly sets input units to 0 with a frequency of `rate`\n",
    "    at each step, which helps prevent overfitting.\n",
    "    Inputs not set to 0 are scaled up by 1/(1 - rate) such that the sum over\n",
    "    all inputs is unchanged.\n",
    "\n",
    "    >>> tf.random.set_seed(0)\n",
    "    >>> layer = tf.keras.layers.Dropout(.2, input_shape=(2,))\n",
    "    >>> data = np.arange(10).reshape(5, 2).astype(np.float32)\n",
    "    >>> print(data)\n",
    "    [[0. 1.]\n",
    "     [2. 3.]\n",
    "     [4. 5.]\n",
    "     [6. 7.]\n",
    "     [8. 9.]]\n",
    "    >>> outputs = layer(data)\n",
    "    >>> print(outputs)\n",
    "    tf.Tensor(\n",
    "    [[ 0.    1.25]\n",
    "     [ 2.5   3.75]\n",
    "     [ 5.    6.25]\n",
    "     [ 7.5   8.75]\n",
    "     [10.    0.  ]], shape=(5, 2), dtype=float32)\n",
    "\n",
    "    Args:\n",
    "      rate: Float between 0 and 1. Fraction of the input units to drop.\n",
    "      noise_shape: 1D integer tensor representing the shape of the\n",
    "        binary dropout mask that will be multiplied with the input.\n",
    "        For instance, if your inputs have shape\n",
    "        `(batch_size, timesteps, features)` and\n",
    "        you want the dropout mask to be the same for all timesteps,\n",
    "        you can use `noise_shape=(batch_size, 1, features)`.\n",
    "      seed: A Python integer to use as random seed.\n",
    "\n",
    "    Call arguments:\n",
    "      inputs: Input tensor (of any rank).\n",
    "    \"\"\"\n",
    "\n",
    "    def __init__(self, rate=0.30, noise_shape=None, seed=None, **kwargs):\n",
    "        super().__init__(seed=seed, **kwargs)\n",
    "        if isinstance(rate, (int, float)) and not 0 <= rate <= 1:\n",
    "            raise ValueError(\n",
    "                f\"Invalid value {rate} received for \"\n",
    "                f\"`rate`, expected a value between 0 and 1.\"\n",
    "            )\n",
    "        self.rate = rate\n",
    "        self.noise_shape = noise_shape\n",
    "        self.seed = seed\n",
    "        self.supports_masking = True\n",
    "\n",
    "    def _get_noise_shape(self, inputs):\n",
    "        # Subclasses of `Dropout` may implement `_get_noise_shape(self,\n",
    "        # inputs)`, which will override `self.noise_shape`, and allows for\n",
    "        # custom noise shapes with dynamically sized inputs.\n",
    "        if self.noise_shape is None:\n",
    "            return None\n",
    "\n",
    "        concrete_inputs_shape = tf.shape(inputs)\n",
    "        noise_shape = []\n",
    "        for i, value in enumerate(self.noise_shape):\n",
    "            noise_shape.append(\n",
    "                concrete_inputs_shape[i] if value is None else value\n",
    "            )\n",
    "        return tf.convert_to_tensor(noise_shape)\n",
    "\n",
    "    def call(self, inputs, training=None):\n",
    "\n",
    "        output = self._random_generator.dropout(\n",
    "                inputs, self.rate, noise_shape=self._get_noise_shape(inputs))\n",
    "        \n",
    "        return output\n",
    "\n",
    "    def compute_output_shape(self, input_shape):\n",
    "        return input_shape\n",
    "\n",
    "    def get_config(self):\n",
    "        config = {\n",
    "            \"rate\": self.rate,\n",
    "            \"noise_shape\": self.noise_shape,\n",
    "            \"seed\": self.seed,\n",
    "        }\n",
    "        base_config = super().get_config()\n",
    "        return dict(list(base_config.items()) + list(config.items()))"
   ]
  },
  {
   "cell_type": "code",
   "execution_count": 44,
   "metadata": {
    "colab": {
     "base_uri": "https://localhost:8080/"
    },
    "id": "NVX1Poq2F4H0",
    "outputId": "b54fba06-8652-4f92-ecf8-e2a4d5d7db66"
   },
   "outputs": [
    {
     "name": "stdout",
     "output_type": "stream",
     "text": [
      "[-1.89754684e-02 -1.01914421e-01 -1.20804884e-01 -1.04754195e-01\n",
      "  2.35114135e-02 -1.27003729e-01 -4.18788567e-02 -1.11501634e-01\n",
      " -1.75305903e-02 -1.45719433e-02 -1.03453244e-03  1.11405909e-01\n",
      "  1.05651863e-01  1.80702526e-02  5.16500212e-02  7.54114091e-02\n",
      " -1.22076608e-01  4.83371876e-02  7.33512565e-02  1.45927006e-02\n",
      " -1.28005147e-01  2.64927279e-02 -8.02740753e-02  1.81501508e-02\n",
      " -6.71689361e-02 -9.80309770e-03 -1.10584915e-01 -3.08989584e-02\n",
      " -8.22984502e-02  6.62053823e-02 -3.36714759e-02 -1.67707894e-02\n",
      " -1.56889185e-01 -3.12554277e-02 -6.49057701e-02  9.39342380e-02\n",
      " -3.61812524e-02 -1.22342616e-01 -8.16720054e-02 -1.10184535e-01\n",
      " -1.03686877e-01 -1.09303072e-01  2.04371717e-02  3.09158508e-02\n",
      " -1.06228828e-01  5.80161437e-02  3.63391005e-02 -4.69483733e-02\n",
      " -1.34616315e-01  8.32943916e-02 -2.37455126e-02  3.72222438e-03\n",
      "  8.74771923e-02 -1.12196393e-01  6.95493678e-03 -1.09864496e-01\n",
      " -5.56875281e-02  5.94172701e-02  2.55787522e-02 -9.68241729e-05\n",
      " -9.76011215e-04  4.69499566e-02 -1.59891605e-01 -1.90198461e-05\n",
      " -5.26024513e-02 -2.83828955e-02 -3.72475386e-02 -6.96908608e-02\n",
      " -4.68853675e-02  8.37560073e-02 -1.39424726e-01 -3.47952247e-02\n",
      "  9.69383679e-03 -1.46881074e-01 -9.68685895e-02  6.19309023e-02\n",
      " -7.58060208e-03  9.33140293e-02  3.77572216e-02 -7.10737109e-02\n",
      "  2.48179901e-02  7.56086111e-02 -1.49217665e-01 -7.27667361e-02\n",
      "  3.81614380e-02 -5.16327806e-02 -6.72397241e-02  1.32475704e-01\n",
      " -1.00039914e-01  1.96170956e-02  7.06611499e-02 -1.46518037e-01\n",
      " -1.54075190e-01 -1.16851546e-01  1.59484819e-02 -1.94705464e-03\n",
      " -1.09624319e-01  1.01373307e-01 -1.69953242e-01 -8.73477086e-02\n",
      "  1.06502347e-01 -4.16123979e-02 -6.57546818e-02 -8.59519988e-02\n",
      "  6.64031878e-02 -3.26096565e-02  1.31922737e-01 -1.53188139e-01\n",
      " -1.03767969e-01  9.50032622e-02  1.71689149e-02  1.03474326e-01\n",
      " -8.76763314e-02  2.50217170e-02 -8.20111558e-02 -1.54818371e-01\n",
      "  3.68551537e-02  3.62112299e-02  1.14840642e-01  2.20158976e-02\n",
      "  1.21441055e-02 -2.14080755e-02  3.63202877e-02 -8.56084190e-03\n",
      "  5.18669151e-02 -1.09655783e-01 -2.04743613e-02 -8.70821550e-02\n",
      "  5.94174862e-02  9.50072482e-02 -4.81292307e-02 -1.00659147e-01\n",
      "  1.05748966e-01  5.28762154e-02 -4.84333374e-02 -1.83410510e-01\n",
      " -1.70068499e-02  1.45357735e-02 -9.77574512e-02 -1.38244763e-01\n",
      " -3.85387428e-03 -9.22055244e-02 -8.06033984e-02 -1.40500665e-01\n",
      "  9.09685642e-02  7.38734826e-02 -4.20299657e-02 -8.51974562e-02\n",
      "  2.60908585e-02 -7.03115463e-02 -3.59662212e-02  3.72438692e-02\n",
      " -3.36857401e-02 -1.54375732e-01 -8.42829049e-02 -1.48321450e-01\n",
      " -1.45252898e-01  2.58637536e-02 -1.04928672e-01  1.75225977e-02\n",
      " -3.66661549e-02 -7.43483007e-02 -1.21087462e-01 -1.20025039e-01\n",
      " -2.00334918e-02  1.27470046e-01  2.47923862e-02 -4.22242284e-02\n",
      " -3.09286918e-02  8.46933499e-02  1.23171084e-01  4.48057577e-02\n",
      " -6.03816065e-04  4.78413329e-02 -1.58430889e-01 -4.67998348e-02\n",
      "  1.77759528e-02 -8.69641528e-02  1.06036790e-01 -1.49808392e-01\n",
      " -1.13581464e-01  1.17838737e-02  3.91705653e-05  1.30087705e-02\n",
      " -2.64948383e-02 -5.01889549e-02 -1.16377510e-01 -2.87647825e-02\n",
      "  6.01013638e-02  8.35683942e-02 -1.17524602e-02 -1.75826654e-01\n",
      "  4.24282178e-02 -1.05828598e-01 -1.42407760e-01 -6.58816025e-02\n",
      " -1.24279689e-02  7.59106353e-02 -1.47675127e-01  1.33801743e-01]\n",
      "[ 0.24977411  0.02758228 -0.01644493 -0.03661105  0.04525955  0.03071672\n",
      "  0.00343689  0.2804763   0.05338933  0.0577434   0.13459451 -0.07595039\n",
      " -0.1011465   0.13084036 -0.08306907  0.70808125 -0.0204941   0.12953562\n",
      "  0.17446755  0.1973345   0.2731083   0.03953357 -0.16707806  0.0206311\n",
      "  0.03663595 -0.00127396  0.04734321  0.04873202  0.03998588 -0.03515783\n",
      " -0.02634965  0.05029808  0.07734428  0.08502132  0.09509683 -0.22570726\n",
      " -0.0260817   0.03932882  0.10297306  0.10102421  0.03115297 -0.03088439\n",
      "  0.24606547  0.22146365 -0.03464413 -0.07505192  0.46626258  0.03114642\n",
      "  0.02921889  0.39625928  0.02943438  0.06564721 -0.06704516 -0.01982313\n",
      " -0.00282295 -0.03846532 -0.00889804  0.08617364  0.1493332  -0.006371\n",
      " -0.04337447  0.15406704  0.01274235 -0.0048911  -0.05472036  0.07979348\n",
      " -0.01136614 -0.03194778 -0.02908354 -0.22132958  0.1940836  -0.02874896\n",
      " -0.01596177 -0.0189524  -0.02949183  0.09737407 -0.00657294  0.10215627\n",
      " -0.09110367  0.06992253 -0.02728551  0.02339173  0.02336345 -0.03293564\n",
      " -0.03864972  0.3236452  -0.07238405  0.2498345  -0.00813407  0.19255266\n",
      "  0.15728004 -0.03925547  0.05475306  0.03736815  0.1252671   0.46026546\n",
      " -0.03637481  0.06504404  0.04702374  0.03265586 -0.04591979 -0.0316896\n",
      " -0.02190091 -0.01886328  0.0133397  -0.00511638  0.16229425  0.08222799\n",
      "  0.03840911 -0.22122876  0.06101974  0.5432793  -0.03724135  0.13414179\n",
      "  0.03073925 -0.0563422   0.00782096 -0.08928548 -0.37264758 -0.07056265\n",
      " -0.07194626 -0.042151    0.48442492  0.03574404 -0.09146245 -0.02935721\n",
      " -0.02952819  0.02860413 -0.24466796  0.27215168  0.00921753 -0.03711053\n",
      "  0.3215196   0.23422311 -0.02839701  0.10506541  0.05574134  0.14224325\n",
      "  0.01227165  0.02464714  0.16227823 -0.03418345 -0.04349561  0.07459188\n",
      "  0.14229746  0.16957168 -0.06389435  0.04307457  0.4373582   0.03747706\n",
      "  0.05757395  0.8800819   0.04810066 -0.03585177 -0.02741726 -0.03243747\n",
      "  0.07049969  0.01148794 -0.04123369 -0.08796474 -0.025006    0.05076018\n",
      " -0.02522282 -0.01031367 -0.04732832 -0.01907945 -0.04677665 -0.0462009\n",
      "  0.00966699 -0.12163907  0.69634825  0.09069655 -0.01410322  0.18159425\n",
      "  0.05645107 -0.02435217 -0.06890212 -0.03682377 -0.20867507  0.06838564\n",
      " -0.03688215  0.2677954  -0.04761731  0.77707696  0.03573625  0.03652987\n",
      " -0.03372522  0.03836785 -0.06445377  0.09289647 -0.02243601  0.05996661\n",
      " -0.03988963 -0.04666282  0.2194174  -0.04867204  0.29639223 -0.01137548\n",
      "  0.04246913  0.00754383]\n",
      "[ 0.16625239 -0.04958804 -0.07460644 -0.09885766 -0.0254863   0.16372328\n",
      " -0.14788285  0.20646094 -0.05399992 -0.06887899  0.12799267  0.02304209\n",
      " -0.03384719 -0.03017317 -0.03973892  0.086092    0.02639406  0.20852163\n",
      "  0.08682617  0.088869    0.01236783 -0.03468271 -0.15022707  0.1560196\n",
      "  0.04526028  0.16443858  0.04359672  0.04225623  0.14691137  0.12310025\n",
      " -0.00416872 -0.03181612  0.06155678  0.14307158  0.05549065 -0.12971875\n",
      " -0.01624145  0.04821338 -0.00636871  0.12805514  0.05338397 -0.0280752\n",
      "  0.16004616  0.18186644 -0.06867959 -0.01444372  0.17889214 -0.11266988\n",
      " -0.00625653  0.15827663 -0.08707171  0.21835737 -0.10192477  0.02791251\n",
      "  0.13732663 -0.10667216  0.17131191  0.10867351  0.0768843  -0.06352898\n",
      " -0.12708503  0.15728046 -0.09169729 -0.11624356 -0.03234269  0.14769353\n",
      " -0.12938689 -0.0515982  -0.10248048 -0.05426056  0.12211113 -0.14823279\n",
      "  0.14573295  0.07024931  0.0045919   0.09565593  0.11298247  0.09305391\n",
      " -0.07097368  0.04628714  0.09751969  0.01276956  0.07312714 -0.0669035\n",
      "  0.10142083 -0.00855057 -0.14193197  0.1738903   0.11444798  0.13107598\n",
      "  0.09085475 -0.1470565   0.16539997  0.06390679  0.02115154  0.41895965\n",
      " -0.12449528  0.05816099  0.12010123  0.00631871  0.05960856 -0.05469776\n",
      "  0.01944253  0.07541255  0.04933804  0.12544346  0.06675445  0.1446681\n",
      "  0.05932672 -0.13290462 -0.06825319  0.15627092 -0.14398961  0.03747569\n",
      "  0.05097881 -0.08266246  0.19413002 -0.06419697 -0.09565241 -0.10170106\n",
      " -0.0935934  -0.05090806  0.23660362 -0.09643921 -0.04903126  0.01954\n",
      " -0.04460714 -0.00655667 -0.12553015  0.15953954  0.16833073 -0.15088859\n",
      "  0.12577857  0.16394442 -0.01811161  0.12334978  0.17568724  0.06839065\n",
      " -0.10629384 -0.01670687  0.03357405 -0.08197794 -0.06021223  0.16785344\n",
      "  0.1680085   0.18155558 -0.05698394  0.11732828  0.24681206  0.00640908\n",
      "  0.09383825  0.17794351  0.15211181 -0.09122033 -0.02145053 -0.02728295\n",
      "  0.03521472  0.2077167  -0.05630259 -0.11320051 -0.05047823  0.07887236\n",
      "  0.02194455  0.15279742 -0.09852999  0.08389256  0.03206505 -0.1592265\n",
      "  0.01780636 -0.11122061  0.19252427  0.04298205 -0.10179697  0.1248761\n",
      "  0.13576142 -0.00972658 -0.04091525 -0.01440392 -0.08277488  0.17343916\n",
      " -0.09138571  0.31181377 -0.11853046  0.36755612 -0.10427105  0.00458379\n",
      " -0.06611264 -0.12391237  0.03422534  0.05606805 -0.11211716  0.14361538\n",
      " -0.03879743 -0.10835651  0.02936571 -0.13737513  0.20554277  0.08952709\n",
      "  0.15155612 -0.02162624]\n",
      "0.16654155\n",
      "[-0.01541229  0.09603038  0.03918946 -0.05168365  0.10851811 -0.04714512\n",
      "  0.07923646  0.06548019  0.12000225  0.11458521 -0.02539168 -0.04908568\n",
      " -0.03394057  0.1517478  -0.12948522  0.01730758 -0.05050853  0.11938553\n",
      "  0.05837982  0.12048301  0.00843005  0.09894434  0.0241529  -0.06600895\n",
      "  0.11481388 -0.1142206   0.07297404  0.07395186  0.10934659 -0.09407627\n",
      " -0.14890051  0.04598568 -0.0095724   0.04840134  0.02421823 -0.01251211\n",
      " -0.03458518  0.05314778  0.13958678 -0.03329264  0.10282713 -0.09328071\n",
      "  0.09447221 -0.01141727 -0.06501182 -0.0873979  -0.0132148   0.14742456\n",
      "  0.1123411   0.0019793   0.08656126 -0.0404013   0.04415121 -0.04450049\n",
      " -0.10205183 -0.04188458 -0.10467306  0.06328973  0.07652529 -0.00761156\n",
      "  0.01441798  0.11437988  0.13696879  0.00394559 -0.03877275  0.06850625\n",
      "  0.06278405 -0.15526092 -0.08143168 -0.00020967  0.00526753 -0.09761391\n",
      " -0.12799703 -0.0774241  -0.15321814  0.10022286 -0.10784087  0.07197594\n",
      " -0.11729184  0.02131411 -0.09811378  0.07663425  0.16802402 -0.07901931\n",
      " -0.0877906   0.06221708  0.04409099  0.03724375 -0.06888497  0.11652702\n",
      "  0.01800204 -0.08282354  0.04436735  0.06539511  0.06326182  0.01388892\n",
      " -0.12985829  0.05532413  0.07434454  0.1585896  -0.0384264  -0.06933171\n",
      " -0.05112339 -0.08691076 -0.00570526 -0.07685012  0.0054112   0.0050992\n",
      "  0.06134771 -0.0167756   0.10033686 -0.00079445 -0.10811859  0.0708304\n",
      "  0.13140495  0.00916996 -0.08304749 -0.07116535  0.00847325  0.09483925\n",
      "  0.04547565  0.01144082  0.04867775  0.11817444 -0.04562323 -0.15902615\n",
      "  0.02052846  0.08342582  0.03213925  0.04983874 -0.06815182 -0.14203337\n",
      "  0.00732314  0.0420867  -0.05115293  0.02309961  0.1496454   0.14642718\n",
      "  0.10328683  0.1719344   0.01172818 -0.12999801 -0.0168942   0.04235286\n",
      "  0.08289763 -0.01443173  0.02198733  0.1505729   0.04546911  0.16858952\n",
      "  0.06400596  0.01544418  0.12749289 -0.07898366 -0.02723636 -0.14941213\n",
      "  0.03692584 -0.08220641 -0.1069141  -0.09910885 -0.08230007  0.05278984\n",
      " -0.03794618 -0.09240635  0.01111459 -0.0276712  -0.07650057 -0.01218331\n",
      " -0.00379394 -0.11673287  0.004037    0.00684328 -0.07550833  0.07604809\n",
      "  0.06931099 -0.02978812 -0.08513145 -0.1454268  -0.00342087 -0.04014336\n",
      " -0.04081649  0.16497913 -0.11944601  0.04264833  0.12078829  0.10139644\n",
      " -0.06477101  0.17415059 -0.0857806   0.06062867 -0.08696433  0.02077104\n",
      "  0.03781033 -0.07870005  0.01648724  0.00283372  0.15188679 -0.03182834\n",
      "  0.09303677  0.02354378]\n",
      "0.046415437\n"
     ]
    }
   ],
   "source": [
    "l2_reg = tf.keras.regularizers.l2(l2=0.0000001)\n",
    "# Build model.\n",
    "input = tf.keras.layers.Input(1)\n",
    "h1 = tf.keras.layers.Dense(200,activation=tf.keras.activations.relu,kernel_regularizer=l2_reg,bias_regularizer=l2_reg)(input)\n",
    "h1 = MCDropout(rate=0.2)(h1)\n",
    "m = tf.keras.layers.Dense(1,kernel_regularizer=l2_reg,bias_regularizer=l2_reg)(h1)\n",
    "s = tf.keras.layers.Dense(1,activation=tf.keras.activations.exponential,kernel_regularizer=l2_reg,bias_regularizer=l2_reg)(h1)\n",
    "p = tfp.layers.DistributionLambda(lambda t: tfd.Normal(loc=t[0], scale=t[1]))([m,s])\n",
    "model = tf.keras.Model(inputs=input, outputs=p)\n",
    "\n",
    "# Do inference.\n",
    "model.compile(optimizer=tf.optimizers.Adam(learning_rate=0.0005), loss=expectednegloglik)\n",
    "model.fit(x, y, epochs=1000, verbose=False);\n",
    "\n",
    "# Profit.\n",
    "[print(np.squeeze(w.numpy())) for w in model.weights];\n",
    "yhat = model(x_tst)\n",
    "assert isinstance(yhat, tfd.Distribution)"
   ]
  },
  {
   "cell_type": "code",
   "execution_count": 45,
   "metadata": {
    "colab": {
     "base_uri": "https://localhost:8080/",
     "height": 166
    },
    "id": "W_x4s1p_N5r2",
    "outputId": "3f49f829-51e0-4d51-ff04-ee4c78b7a1c9"
   },
   "outputs": [
    {
     "data": {
      "image/png": "[encoded data removed]",
      "text/plain": [
       "<Figure size 432x108 with 1 Axes>"
      ]
     },
     "metadata": {
      "needs_background": "light"
     },
     "output_type": "display_data"
    }
   ],
   "source": [
    "plt.figure(figsize=[6, 1.5])  # inches\n",
    "plt.plot(x, y, 'b.', label='observed');\n",
    "\n",
    "yhats = [model(x_tst) for _ in range(100)]\n",
    "avgm = np.zeros_like(x_tst[..., 0])\n",
    "ms = []\n",
    "ss = []\n",
    "for i, yhat in enumerate(yhats):\n",
    "  m = np.squeeze(yhat.mean())\n",
    "  s = np.squeeze(yhat.stddev())\n",
    "  if i < 15:\n",
    "    plt.plot(x_tst, m, 'r', label='ensemble means' if i == 0 else None, linewidth=1.)\n",
    "    plt.plot(x_tst, m + 2 * s, 'g', linewidth=0.5, label='ensemble means + 2 ensemble stdev' if i == 0 else None);\n",
    "    plt.plot(x_tst, m - 2 * s, 'g', linewidth=0.5, label='ensemble means - 2 ensemble stdev' if i == 0 else None);\n",
    "  ms += [m]\n",
    "  ss += [s]\n",
    "ms = np.array(ms)\n",
    "avgm = ms.mean(axis=0)\n",
    "ss = np.array(ss)\n",
    "avgs = np.sqrt((ms**2+ss**2).mean(axis=0)-avgm**2)\n",
    "plt.plot(x_tst, avgm, 'r', label='overall mean', linewidth=4)\n",
    "plt.plot(x_tst, avgm + 2 * avgs, 'g', linewidth=4, label='overall mean + 2 overall stdev');\n",
    "plt.plot(x_tst, avgm - 2 * avgs, 'g', linewidth=4, label='overall means - 2 overall stdev');\n",
    "\n",
    "plt.ylim(-50,60);\n",
    "plt.yticks(np.linspace(-50, 60, 4)[1:]);\n",
    "plt.xticks(np.linspace(*x_range, num=9));\n",
    "\n",
    "ax=plt.gca();\n",
    "ax.xaxis.set_ticks_position('bottom')\n",
    "ax.yaxis.set_ticks_position('left')\n",
    "ax.spines['left'].set_position(('data', 0))\n",
    "ax.spines['top'].set_visible(False)\n",
    "ax.spines['right'].set_visible(False)\n",
    "#ax.spines['left'].set_smart_bounds(True)\n",
    "#ax.spines['bottom'].set_smart_bounds(True)\n",
    "plt.legend(loc='center left', fancybox=True, framealpha=0., bbox_to_anchor=(1.05, 0.5))\n",
    "\n",
    "plt.savefig('/tmp/fig4.png', bbox_inches='tight', dpi=300)"
   ]
  },
  {
   "cell_type": "code",
   "execution_count": 46,
   "metadata": {
    "id": "Ys9fQ7PeZSa2"
   },
   "outputs": [],
   "source": [
    "import tensorflow as tf\n",
    "import numpy as np\n",
    "import math\n",
    "class LaplaceApproximation(tf.keras.Model):\n",
    "\n",
    "    def __init__(self,model):\n",
    "        super().__init__()\n",
    "        self.model = model\n",
    "        self.mean = None\n",
    "        self.std = None\n",
    "        self.lam = None\n",
    "\n",
    "    def fit(self,dataset,training=False):\n",
    "        \"\"\"\n",
    "        Fit the Laplace approximation for a model. Setting the mean of the Laplace approximation to the weights of the model \n",
    "            and, using the diagonal of the Fisher matrix, set the standard deviation of the Laplace approximation.\n",
    "        :param model: Model whose Fisher matrix is to be computed.\n",
    "        :param dataset: Dataset which the model has been trained on, but which will not be seen in the future. \n",
    "            Formatted as (inputs, labels).\n",
    "        :param samples: Number of samples to take from the dataset. More samples\n",
    "            gives a better approximation of the true variance.\n",
    "        \"\"\"\n",
    "        inputs, labels = dataset\n",
    "        trainable_weights = self.model.trainable_weights\n",
    "        variance = [tf.zeros_like(tensor) for tensor in trainable_weights]\n",
    "        n_epochs = 3\n",
    "        pb = tf.keras.utils.Progbar(inputs.shape[0])\n",
    "        for e in range(n_epochs):\n",
    "          for i in range(inputs.shape[0]):\n",
    "              pb.update(i)\n",
    "              index = i#np.random.randint(len(inputs))\n",
    "              # Select an element from the dataset.\n",
    "              data = inputs[index]\n",
    "              target = labels[index]\n",
    "\n",
    "              # When extracting from the array we lost a dimension so put it back.\n",
    "              data = tf.expand_dims(data, axis=0)\n",
    "\n",
    "              # Collect gradients.\n",
    "              with tf.GradientTape() as tape:\n",
    "                  output = self.model(data,training=training)\n",
    "                  log_likelihood = output.log_prob(target)\n",
    "\n",
    "              gradients = tape.gradient(log_likelihood, trainable_weights)\n",
    "\n",
    "              # If the model has converged, we can assume that the current weights\n",
    "              # are the mean, and each gradient we see is a deviation. The variance is\n",
    "              # the average of the square of this deviation.\n",
    "              variance = [var + (grad ** 2)/n_epochs for var, grad in zip(variance, gradients)]\n",
    "\n",
    "        self.fisher_diagonal = [tensor.numpy() for tensor in variance]\n",
    "        #self.fisher_diagonal = [tensor.numpy() / samples * inputs.shape[0] for tensor in variance]\n",
    "        \n",
    "        mins = [np.min(f) for f in self.fisher_diagonal]\n",
    "        for i,x in enumerate(mins):\n",
    "          if i==0 or min > x:\n",
    "            min = x\n",
    "        print(min)\n",
    "        #print('FISHER')\n",
    "        #print(fisher_diagonal)\n",
    "        self.mean = self.model.get_weights()       \n",
    "        \n",
    "\n",
    "    def reset_weights(self):\n",
    "        if self.mean:\n",
    "            self.model.set_weights(self.mean)\n",
    "\n",
    "    def set_std(self, weight_decay):\n",
    "      self.std = [np.reciprocal(np.sqrt(x+weight_decay)) for x in self.fisher_diagonal]\n",
    "\n",
    "    def call(self, inputs, training=False):\n",
    "        e = [np.random.standard_normal(x.shape) for x in self.mean]\n",
    "        sample = [m+s*e for m, s, e in zip(self.mean,self.std,e)]\n",
    "        self.model.set_weights(sample)\n",
    "        return self.model(inputs,training=training)"
   ]
  },
  {
   "cell_type": "code",
   "execution_count": 47,
   "metadata": {
    "colab": {
     "base_uri": "https://localhost:8080/"
    },
    "id": "twMWQnYdYcUo",
    "outputId": "fa995399-baa0-49e8-f0d5-18d77ea61915"
   },
   "outputs": [
    {
     "name": "stdout",
     "output_type": "stream",
     "text": [
      "148/150 [============================>.] - ETA: 0s0.0\n"
     ]
    }
   ],
   "source": [
    "la = LaplaceApproximation(model)\n",
    "la.fit([x,y])\n",
    "la.set_std(weight_decay=1000)"
   ]
  },
  {
   "cell_type": "code",
   "execution_count": 48,
   "metadata": {
    "colab": {
     "base_uri": "https://localhost:8080/",
     "height": 166
    },
    "id": "NKFFbSYBYeC7",
    "outputId": "10d99e8f-e5c5-4797-8198-eb936632eb76"
   },
   "outputs": [
    {
     "data": {
      "image/png": "[encoded data removed]",
      "text/plain": [
       "<Figure size 432x108 with 1 Axes>"
      ]
     },
     "metadata": {
      "needs_background": "light"
     },
     "output_type": "display_data"
    }
   ],
   "source": [
    "plt.figure(figsize=[6, 1.5])  # inches\n",
    "plt.plot(x, y, 'b.', label='observed');\n",
    "\n",
    "yhats = [model(x_tst) for _ in range(100)]\n",
    "avgm = np.zeros_like(x_tst[..., 0])\n",
    "ms = []\n",
    "ss = []\n",
    "for i, yhat in enumerate(yhats):\n",
    "  m = np.squeeze(yhat.mean())\n",
    "  s = np.squeeze(yhat.stddev())\n",
    "  if i < 15:\n",
    "    plt.plot(x_tst, m, 'r', label='ensemble means' if i == 0 else None, linewidth=1.)\n",
    "    plt.plot(x_tst, m + 2 * s, 'g', linewidth=0.5, label='ensemble means + 2 ensemble stdev' if i == 0 else None);\n",
    "    plt.plot(x_tst, m - 2 * s, 'g', linewidth=0.5, label='ensemble means - 2 ensemble stdev' if i == 0 else None);\n",
    "  ms += [m]\n",
    "  ss += [s]\n",
    "ms = np.array(ms)\n",
    "avgm = ms.mean(axis=0)\n",
    "ss = np.array(ss)\n",
    "avgs = np.sqrt((ms**2+ss**2).mean(axis=0)-avgm**2)\n",
    "plt.plot(x_tst, avgm, 'r', label='overall mean', linewidth=4)\n",
    "plt.plot(x_tst, avgm + 2 * avgs, 'g', linewidth=4, label='overall mean + 2 overall stdev');\n",
    "plt.plot(x_tst, avgm - 2 * avgs, 'g', linewidth=4, label='overall means - 2 overall stdev');\n",
    "\n",
    "plt.ylim(-50,60);\n",
    "plt.yticks(np.linspace(-50, 60, 4)[1:]);\n",
    "plt.xticks(np.linspace(*x_range, num=9));\n",
    "\n",
    "ax=plt.gca();\n",
    "ax.xaxis.set_ticks_position('bottom')\n",
    "ax.yaxis.set_ticks_position('left')\n",
    "ax.spines['left'].set_position(('data', 0))\n",
    "ax.spines['top'].set_visible(False)\n",
    "ax.spines['right'].set_visible(False)\n",
    "#ax.spines['left'].set_smart_bounds(True)\n",
    "#ax.spines['bottom'].set_smart_bounds(True)\n",
    "plt.legend(loc='center left', fancybox=True, framealpha=0., bbox_to_anchor=(1.05, 0.5))\n",
    "\n",
    "plt.savefig('/tmp/fig4.png', bbox_inches='tight', dpi=300)"
   ]
  },
  {
   "cell_type": "code",
   "execution_count": 55,
   "metadata": {
    "id": "wd_PN587TO0h"
   },
   "outputs": [],
   "source": [
    "import tensorflow as tf\n",
    "import tensorflow.keras.backend as K\n",
    "from tensorflow.keras.layers import Wrapper, InputSpec\n",
    "\n",
    "# IMPORTANT: these layers perform dropout BEFORE the wrapped operation.\n",
    "\n",
    "# base class\n",
    "\n",
    "\n",
    "class ConcreteDropout(Wrapper):\n",
    "    \"\"\"\n",
    "    Base class for ConcreteDropout. It allows to learn the dropout probability for a given layer.\n",
    "    # Arguments\n",
    "        layer: a layer instance.\n",
    "        weight_regularizer:\n",
    "            A positive number which satisfies\n",
    "                $weight_regularizer = l**2 / (\\tau * N)$\n",
    "            with prior lengthscale l, model precision $\\tau$ (inverse observation noise),\n",
    "            and N the number of instances in the dataset.\n",
    "            Note that kernel_regularizer is not needed.\n",
    "        dropout_regularizer:\n",
    "            A positive number which satisfies\n",
    "                $dropout_regularizer = 2 / (\\tau * N)$\n",
    "            with model precision $\\tau$ (inverse observation noise) and N the number of\n",
    "            instances in the dataset.\n",
    "            Note the relation between dropout_regularizer and weight_regularizer:\n",
    "                $weight_regularizer / dropout_regularizer = l**2 / 2$\n",
    "            with prior lengthscale l. Note also that the factor of two should be\n",
    "            ignored for cross-entropy loss, and used only for the eculedian loss.\n",
    "        temperature:\n",
    "            The temperature of the Concrete Distribution. \n",
    "            Must be low enough in order to have the correct KL approximation\n",
    "            For:\n",
    "                $t \\rightarrow 0$ we obtain the discrete distribution.\n",
    "                $t \\rightarrow \\infty$ we obtain a uniform distribution\n",
    "    \"\"\"\n",
    "\n",
    "    def __init__(self, layer, weight_regularizer=1e-6, dropout_regularizer=1e-5,\n",
    "                 init_min=0.1, init_max=0.1, is_mc_dropout=True, data_format=None, temperature=0.1, **kwargs):\n",
    "        assert 'kernel_regularizer' not in kwargs, \"Must not provide a kernel regularizer.\"\n",
    "        super(ConcreteDropout, self).__init__(layer, **kwargs)\n",
    "        self.temperature = temperature\n",
    "        self.weight_regularizer = weight_regularizer\n",
    "        self.dropout_regularizer = dropout_regularizer\n",
    "        self.is_mc_dropout = is_mc_dropout\n",
    "        self.supports_masking = True\n",
    "        self.p_logit = None\n",
    "        self.init_min = tf.math.log(init_min) - tf.math.log(1. - init_min)\n",
    "        self.init_max = tf.math.log(init_max) - tf.math.log(1. - init_max)\n",
    "        self.data_format = 'channels_last' if data_format is None else 'channels_first'\n",
    "\n",
    "    def build(self, input_shape=None):\n",
    "        self.input_spec = InputSpec(shape=input_shape)\n",
    "        # build the superclass layers\n",
    "        if not self.layer.built:\n",
    "            self.layer.build(input_shape)\n",
    "            self.layer.built = True\n",
    "        super(ConcreteDropout, self).build()\n",
    "\n",
    "        # initialise p (learnable dropout probability)\n",
    "        self.p_logit = self.add_weight(name='p_logit',\n",
    "                                       shape=(1,),\n",
    "                                       initializer=tf.random_uniform_initializer(\n",
    "                                           self.init_min, self.init_max),\n",
    "                                       dtype=tf.dtypes.float32,\n",
    "                                       trainable=True)\n",
    "\n",
    "    def _get_noise_shape(self, inputs):\n",
    "        raise NotImplementedError(\n",
    "            \"Subclasses of ConcreteDropout must implement the noise shape\")\n",
    "\n",
    "    def compute_output_shape(self, input_shape):\n",
    "        return self.layer.compute_output_shape(input_shape)\n",
    "\n",
    "    def spatial_concrete_dropout(self, x, p):\n",
    "        '''\n",
    "        Concrete dropout - used at training time (gradients can be propagated)\n",
    "        :param x: input\n",
    "        :return:  approx. dropped out input\n",
    "        '''\n",
    "        eps = K.cast_to_floatx(\n",
    "            K.epsilon())  # machine precision epsilon for numerical stability inside the log\n",
    "\n",
    "        # this is the shape of the dropout noise, same as tf.nn.dropout\n",
    "        noise_shape = self._get_noise_shape(x)\n",
    "\n",
    "        unif_noise = K.random_uniform(shape=noise_shape)  # uniform noise\n",
    "        # bracket inside equation 5, where u=uniform_noise\n",
    "        drop_prob = (\n",
    "            tf.math.log(p + eps)\n",
    "            - tf.math.log1p(eps - p)\n",
    "            + tf.math.log(unif_noise + eps)\n",
    "            - tf.math.log1p(eps - unif_noise)\n",
    "        )\n",
    "        drop_prob = tf.math.sigmoid(drop_prob / self.temperature)  # z of eq 5\n",
    "        random_tensor = 1. - drop_prob\n",
    "\n",
    "        retain_prob = 1. - p\n",
    "        x *= random_tensor  # we multiply the input by the concrete dropout mask\n",
    "        x /= retain_prob  # we normalise by the probability to retain\n",
    "\n",
    "        return x\n",
    "\n",
    "    def call(self, inputs, training=None):\n",
    "        p = tf.nn.sigmoid(self.p_logit)\n",
    "        # We will now compute the KL terms following eq.3 of 1705.07832\n",
    "        weight = self.layer.kernel\n",
    "        # The kernel regularizer corresponds to the first term\n",
    "        # Note: we  divide by (1 - p) because  we  scaled  layer  output  by(1 - p)\n",
    "        kernel_regularizer = self.weight_regularizer * tf.reduce_sum(tf.square(\n",
    "            weight)) / (1. - p)\n",
    "        # the dropout regularizer corresponds to the second term\n",
    "        dropout_regularizer = p * tf.math.log(p)\n",
    "        dropout_regularizer += (1. - p) * tf.math.log1p(- p)\n",
    "        dropout_regularizer *= self.dropout_regularizer * self.input_dim\n",
    "        # this is the KL term to be added as a loss\n",
    "        regularizer = tf.reduce_sum(kernel_regularizer + dropout_regularizer)\n",
    "\n",
    "        self.layer.add_loss(regularizer)\n",
    "\n",
    "        if self.is_mc_dropout:\n",
    "            return self.layer.call(self.spatial_concrete_dropout(inputs, p))\n",
    "        else:\n",
    "            def relaxed_dropped_inputs():\n",
    "                return self.layer.call(self.spatial_concrete_dropout(inputs, p))\n",
    "            return K.in_train_phase(relaxed_dropped_inputs,\n",
    "                                    self.layer.call(inputs),\n",
    "                                    training=training)\n",
    "\n",
    "# dense layers\n",
    "\n",
    "\n",
    "class ConcreteDenseDropout(ConcreteDropout):\n",
    "    \"\"\"\n",
    "    This wrapper allows to learn the dropout probability for any given Dense input layer.\n",
    "    ```python\n",
    "        x = # some input layer\n",
    "        x = ConcreteDenseDropout(Dense(64))(x)\n",
    "    ```\n",
    "    # Arguments\n",
    "        layer: a layer instance.\n",
    "        weight_regularizer:\n",
    "            A positive number which satisfies\n",
    "                $weight_regularizer = l**2 / (\\tau * N)$\n",
    "            with prior lengthscale l, model precision $\\tau$ (inverse observation noise),\n",
    "            and N the number of instances in the dataset.\n",
    "            Note that kernel_regularizer is not needed.\n",
    "        dropout_regularizer:\n",
    "            A positive number which satisfies\n",
    "                $dropout_regularizer = 2 / (\\tau * N)$\n",
    "            with model precision $\\tau$ (inverse observation noise) and N the number of\n",
    "            instances in the dataset.\n",
    "            Note the relation between dropout_regularizer and weight_regularizer:\n",
    "                $weight_regularizer / dropout_regularizer = l**2 / 2$\n",
    "            with prior lengthscale l. Note also that the factor of two should be\n",
    "            ignored for cross-entropy loss, and used only for the eculedian loss.\n",
    "        temperature:\n",
    "            The temperature of the Concrete Distribution. \n",
    "            Must be low enough in order to have the correct KL approximation.\n",
    "            For:\n",
    "                $t \\rightarrow 0$ we obtain the discrete distribution\n",
    "                $t \\rightarrow \\infty$ we obtain a uniform distribution\n",
    "    \"\"\"\n",
    "\n",
    "    def __init__(self, layer, temperature=0.1, **kwargs):\n",
    "        super(ConcreteDenseDropout, self).__init__(\n",
    "            layer, temperature=temperature, **kwargs)\n",
    "\n",
    "    # implement the noise shape for regular dropout\n",
    "    def _get_noise_shape(self, inputs):\n",
    "        input_shape = tf.shape(inputs)\n",
    "        return input_shape\n",
    "\n",
    "    def build(self, input_shape=None):\n",
    "        self.input_spec = InputSpec(shape=input_shape)\n",
    "\n",
    "        super(ConcreteDenseDropout, self).build(input_shape=input_shape)\n",
    "\n",
    "        # initialise regulariser / prior KL term\n",
    "        assert len(input_shape) == 2, 'this wrapper only supports Dense layers'\n",
    "        self.input_dim = input_shape[1]  # we drop only channels\n",
    "\n",
    "    def call(self, inputs, training=None):\n",
    "        return super().call(inputs, training=training)\n"
   ]
  },
  {
   "cell_type": "code",
   "execution_count": 56,
   "metadata": {
    "id": "9GekY0_hQIMQ"
   },
   "outputs": [],
   "source": [
    "def get_weight_regularizer(N, s=1e-2):\n",
    "    return 1. / (2. *s**2 * N)\n",
    "\n",
    "def get_dropout_regularizer(N):\n",
    "    reg = 1 / N\n",
    "    return reg"
   ]
  },
  {
   "cell_type": "code",
   "execution_count": 59,
   "metadata": {
    "colab": {
     "base_uri": "https://localhost:8080/"
    },
    "id": "GQYJte8l_8Ik",
    "outputId": "05e108c0-3ad1-42cd-ddba-460f04511e31"
   },
   "outputs": [
    {
     "name": "stdout",
     "output_type": "stream",
     "text": [
      "[-2.36819565e-01  1.43356338e-01  9.64464918e-02 -4.53559160e-02\n",
      "  1.96159065e-01  1.42416641e-01 -1.47744760e-01  2.01863170e-01\n",
      " -1.80517673e-01 -3.04848724e-03 -1.80114076e-01  1.79981828e-01\n",
      "  1.25016332e-01 -1.32889003e-01 -1.91107810e-01 -6.34268224e-02\n",
      "  1.86388910e-01 -1.04572356e-01  2.20002323e-01  1.69732794e-01\n",
      "  2.11362302e-01  2.09484935e-01 -1.56586766e-02 -1.02639891e-01\n",
      " -2.39333138e-03 -8.64782259e-02  1.55399356e-03  1.19921461e-01\n",
      " -1.70120150e-01 -1.02906935e-01 -3.18598226e-02 -1.85954452e-01\n",
      " -1.94608331e-01 -2.09961697e-01 -7.87979662e-02 -2.30296120e-01\n",
      "  6.79358989e-02 -1.94665149e-01  1.46348193e-01 -1.20873256e-02\n",
      " -1.23067424e-01 -2.27081659e-03  3.45186517e-02 -4.93895449e-03\n",
      "  2.00883284e-01 -2.25839272e-01 -5.29231876e-02  2.01524973e-01\n",
      " -8.12067986e-02 -2.99493340e-03  5.23776039e-02  1.43926382e-01\n",
      "  8.47141370e-02 -2.25968510e-01 -1.18843049e-01 -1.64770856e-01\n",
      " -4.81151901e-02  1.24724887e-01 -6.83727637e-02  1.61392584e-01\n",
      " -1.67246044e-01 -8.87342766e-02  1.25316218e-01 -2.25463748e-01\n",
      " -3.93463634e-02 -1.59869716e-01  1.85033605e-01 -7.48899654e-02\n",
      "  2.10969523e-01 -8.30602795e-02  1.11327924e-01  1.47761434e-01\n",
      " -1.05901800e-01  1.07444199e-02 -8.21117684e-02  3.94963436e-02\n",
      "  1.70397595e-01  1.71766385e-01 -7.38675008e-03  2.01611459e-01\n",
      " -8.31329599e-02 -4.44164500e-02  2.30923608e-01  1.66130424e-01\n",
      "  1.63342021e-02 -7.81247858e-03  2.06528842e-01  1.03384294e-01\n",
      " -1.61240920e-01  1.95016682e-01  1.83366403e-01 -2.01799124e-01\n",
      "  2.01925635e-01 -1.11869660e-04 -2.36869439e-01 -2.03912094e-01\n",
      " -3.09488736e-03  8.67368951e-02 -2.58721448e-02  5.03681079e-02]\n",
      "[ 0.01408741  0.15075622 -0.21518052 -0.13870029  0.02144058  0.13145646\n",
      "  0.12516774 -0.09042713  0.06732568  0.25661305 -0.0780862  -0.07412288\n",
      "  0.13617997  0.01277821 -0.00031333  0.10124803 -0.04782634  0.01614088\n",
      "  0.14349371  0.0167322   0.17740299 -0.01419235 -0.03049355  0.0058196\n",
      "  0.26805276  0.02981773  0.2895822  -0.09104004  0.03372334 -0.05985421\n",
      "  0.09206242  0.03378766  0.05311899  0.01721299  0.06152511 -0.04441883\n",
      "  0.1217103  -0.02033384 -0.08778605 -0.04311937  0.03709969  0.17387182\n",
      " -0.01916756 -0.00295914  0.10465731 -0.04165217  0.18390645  0.19644767\n",
      "  0.00428018  0.23327698 -0.00273686  0.07459366  0.0736187   0.00410903\n",
      " -0.01877106 -0.02445795 -0.00194194  0.17982715  0.00771572  0.14812207\n",
      "  0.00033326  0.12967442  0.19634594 -0.09443589 -0.03486127  0.02645895\n",
      "  0.13260652  0.03972611  0.12266708 -0.00474992  0.02887199 -0.09041112\n",
      "  0.04168149 -0.07211081 -0.02666353 -0.15469046  0.03271621  0.11038703\n",
      " -0.01839969  0.0981907   0.11464726 -0.00236293  0.10422508 -0.13643883\n",
      "  0.21428302  0.06672194  0.10619144 -0.18436895  0.04066989 -0.02914428\n",
      " -0.03480798 -0.05941196  0.10843109 -0.00337479  0.02668572 -0.00601249\n",
      "  0.17977887 -0.05885754  0.07181219  0.20352569]\n",
      "-1.6901882\n",
      "[[ 0.06571116  0.10238574  0.00302799 ... -0.17761332 -0.06489182\n",
      "   0.01720162]\n",
      " [ 0.13257067 -0.01968611  0.03818014 ...  0.05693885  0.08914714\n",
      "   0.12307895]\n",
      " [ 0.14526066  0.00610735 -0.12412418 ... -0.14476565  0.09040347\n",
      "  -0.10803366]\n",
      " ...\n",
      " [-0.06263369  0.15037827 -0.0789165  ... -0.05986299 -0.00867792\n",
      "  -0.13862173]\n",
      " [-0.05496436  0.16743359 -0.00503332 ...  0.1101819  -0.05272583\n",
      "   0.07284501]\n",
      " [-0.14694346  0.18904032 -0.05268374 ... -0.16386989 -0.03870492\n",
      "   0.18205881]]\n",
      "[-0.01779417  0.2212574  -0.02459856  0.09376042 -0.0263672  -0.03060219\n",
      "  0.22896199 -0.03059298 -0.08697985  0.21181488 -0.06733175  0.03512685\n",
      "  0.00737908  0.00067255  0.07312287  0.08661626 -0.0451715   0.07266321\n",
      " -0.02970969  0.04928088  0.00203771  0.08471144 -0.04563283  0.0424134\n",
      " -0.02561481 -0.02382886  0.01270016  0.11486819  0.16149236  0.23830958\n",
      "  0.04832456  0.02716231 -0.05115366 -0.0523062   0.02712417  0.0010462\n",
      " -0.24479903  0.00959262  0.00488997  0.02888463 -0.10953238 -0.19943044\n",
      " -0.05678479 -0.00979366  0.11988915 -0.06342302 -0.14264296  0.01765728\n",
      "  0.07209051  0.0614188   0.08933444  0.33590177  0.34927955 -0.01955931\n",
      "  0.09816634  0.06454386  0.06243237  0.3418105  -0.01344563 -0.0773944\n",
      " -0.03311472 -0.01805693 -0.06295741 -0.01320986  0.02320714 -0.01382768\n",
      " -0.13693742 -0.02140295  0.18401338  0.03667712  0.06355957  0.1641203\n",
      "  0.06771116 -0.00494915 -0.01557029 -0.03855838 -0.01022404  0.00631066\n",
      "  0.07138168 -0.08055141  0.11692061 -0.05872468 -0.00235262  0.05910051\n",
      "  0.00655657  0.05216718  0.02401915 -0.00713514  0.01172447 -0.0221174\n",
      " -0.00707291  0.04696686  0.17101479  0.11537323  0.04939555 -0.01811584\n",
      "  0.09107987 -0.00339545  0.12101981  0.22734383]\n",
      "[-0.02704395  0.22153442 -0.11094584  0.13218601 -0.07528805  0.0614944\n",
      "  0.20678768 -0.06310558 -0.10842378  0.5465292  -0.12030412 -0.13517289\n",
      "  0.09871603  0.07986476  0.09659122  0.10437331 -0.12318771  0.05689454\n",
      " -0.13565773  0.24530986 -0.1061506   0.18200895 -0.10745546  0.14217663\n",
      " -0.19641574 -0.00480577 -0.02357499  0.19288145  0.21996039  0.31500626\n",
      "  0.03284359 -0.02406543 -0.1514974  -0.19302008 -0.01189743  0.109574\n",
      " -0.11562045 -0.08032606  0.09564048  0.04838023 -0.16423745 -0.2138386\n",
      " -0.2047532   0.09494518  0.13417928 -0.20280401 -0.18658186  0.22606066\n",
      "  0.14372177  0.17158498  0.08363312  0.32622424  0.46689263 -0.06410602\n",
      "  0.11122713  0.22180505  0.23559113  0.3689545   0.14136201 -0.22443673\n",
      " -0.18692552 -0.17453459 -0.20554014 -0.01781361 -0.08883893 -0.08522893\n",
      " -0.10120919 -0.17029579  0.46930647  0.11912917  0.18418095  0.21024792\n",
      "  0.0423741  -0.14159574  0.11118472 -0.13973232  0.05272053 -0.05157135\n",
      "  0.14845687 -0.13305008  0.09739301 -0.2244985  -0.18602823  0.16479222\n",
      " -0.18461236  0.01178903  0.02149697 -0.20289534 -0.12990229  0.00305016\n",
      "  0.06308291  0.08577675  0.1141008   0.23282985  0.09363164 -0.02939769\n",
      "  0.10871574 -0.1598334   0.2858145   0.09412974]\n",
      "0.17931159\n",
      "[-0.1633944  -0.08029519 -0.17416392  0.19254422 -0.1397734  -0.2145987\n",
      "  0.03088213 -0.1570059  -0.0374976   0.12304451 -0.20852871  0.19982925\n",
      " -0.15057531 -0.18319653  0.19790313 -0.05218134 -0.14509867  0.17698504\n",
      "  0.01731777 -0.20013463  0.14354497  0.02203916 -0.12065732 -0.1217612\n",
      " -0.20048988 -0.18232553 -0.16893041  0.06224304  0.02293431  0.16735758\n",
      "  0.09818009  0.15913016 -0.0077049   0.12048366  0.0895466  -0.19448656\n",
      "  0.01834687  0.11694274 -0.15415435  0.09094867 -0.12163775  0.03055415\n",
      " -0.02361563 -0.09633327  0.03644316  0.02444423  0.06458317 -0.17124757\n",
      " -0.13705567 -0.12188543 -0.0228859   0.0376301  -0.01205121 -0.13806765\n",
      "  0.15986224  0.131394    0.14596562  0.00474454 -0.15303157  0.00424283\n",
      " -0.10141217  0.22044381 -0.18696763 -0.15291128  0.19375543 -0.06156567\n",
      "  0.02314062 -0.1581753   0.21782513 -0.11529355 -0.1204446   0.09509047\n",
      "  0.07188142  0.19912751 -0.19838935 -0.04008605 -0.09173295  0.10146626\n",
      "  0.14951937 -0.05872297  0.27827892  0.09916153 -0.20192014  0.20270258\n",
      "  0.2241411   0.12027292  0.22996147  0.09375542  0.21811044 -0.02937968\n",
      " -0.19623645 -0.04614865  0.00719949  0.06427074  0.17925605 -0.18787146\n",
      "  0.12956578  0.12624954  0.23364764  0.01746122]\n",
      "0.02792037\n"
     ]
    }
   ],
   "source": [
    "l2_reg = tf.keras.regularizers.l2(l2=0.0000001)\n",
    "w_reg = get_weight_regularizer(x.shape[0],100)\n",
    "p_reg = get_dropout_regularizer(x.shape[0])                              \n",
    "# Build model.\n",
    "input = tf.keras.layers.Input(1)\n",
    "h1 = tf.keras.layers.Dense(100,kernel_regularizer=l2_reg,bias_regularizer=l2_reg,activation=tf.keras.activations.relu)(input)\n",
    "dense2 = tf.keras.layers.Dense(100,activation=tf.keras.activations.relu)\n",
    "h2 = ConcreteDenseDropout(dense2, weight_regularizer=w_reg, dropout_regularizer=p_reg)(h1)\n",
    "m = tf.keras.layers.Dense(1,kernel_regularizer=l2_reg,bias_regularizer=l2_reg)(h2)\n",
    "s = tf.keras.layers.Dense(1,activation=tf.keras.activations.exponential,kernel_regularizer=l2_reg,bias_regularizer=l2_reg)(h2)\n",
    "p = tfp.layers.DistributionLambda(lambda t: tfd.Normal(loc=t[0], scale=t[1]))([m,s])\n",
    "model = tf.keras.Model(inputs=input, outputs=p)\n",
    "\n",
    "# Do inference.\n",
    "model.compile(optimizer=tf.optimizers.Adam(learning_rate=0.0001), loss=expectednegloglik)\n",
    "model.fit(x, y, epochs=1000, verbose=False);\n",
    "\n",
    "# Profit.\n",
    "[print(np.squeeze(w.numpy())) for w in model.weights];\n",
    "yhat = model(x_tst)\n",
    "assert isinstance(yhat, tfd.Distribution)"
   ]
  },
  {
   "cell_type": "code",
   "execution_count": 60,
   "metadata": {
    "colab": {
     "base_uri": "https://localhost:8080/",
     "height": 166
    },
    "id": "TqLZ3R2kCPFI",
    "outputId": "9750a1b6-e9d7-4070-ece3-1740fee8a1c2"
   },
   "outputs": [
    {
     "data": {
      "image/png": "[encoded data removed]",
      "text/plain": [
       "<Figure size 432x108 with 1 Axes>"
      ]
     },
     "metadata": {
      "needs_background": "light"
     },
     "output_type": "display_data"
    }
   ],
   "source": [
    "plt.figure(figsize=[6, 1.5])  # inches\n",
    "plt.plot(x, y, 'b.', label='observed');\n",
    "\n",
    "yhats = [model(x_tst) for _ in range(100)]\n",
    "avgm = np.zeros_like(x_tst[..., 0])\n",
    "ms = []\n",
    "ss = []\n",
    "for i, yhat in enumerate(yhats):\n",
    "  m = np.squeeze(yhat.mean())\n",
    "  s = np.squeeze(yhat.stddev())\n",
    "  if i < 15:\n",
    "    plt.plot(x_tst, m, 'r', label='ensemble means' if i == 0 else None, linewidth=1.)\n",
    "    plt.plot(x_tst, m + 2 * s, 'g', linewidth=0.5, label='ensemble means + 2 ensemble stdev' if i == 0 else None);\n",
    "    plt.plot(x_tst, m - 2 * s, 'g', linewidth=0.5, label='ensemble means - 2 ensemble stdev' if i == 0 else None);\n",
    "  ms += [m]\n",
    "  ss += [s]\n",
    "ms = np.array(ms)\n",
    "avgm = ms.mean(axis=0)\n",
    "ss = np.array(ss)\n",
    "avgs = np.sqrt((ms**2+ss**2).mean(axis=0)-avgm**2)\n",
    "plt.plot(x_tst, avgm, 'r', label='overall mean', linewidth=4)\n",
    "plt.plot(x_tst, avgm + 2 * avgs, 'g', linewidth=4, label='overall mean + 2 overall stdev');\n",
    "plt.plot(x_tst, avgm - 2 * avgs, 'g', linewidth=4, label='overall means - 2 overall stdev');\n",
    "\n",
    "plt.ylim(-20,30);\n",
    "plt.yticks(np.linspace(-20, 30, 4)[1:]);\n",
    "plt.xticks(np.linspace(*x_range, num=9));\n",
    "\n",
    "ax=plt.gca();\n",
    "ax.xaxis.set_ticks_position('bottom')\n",
    "ax.yaxis.set_ticks_position('left')\n",
    "ax.spines['left'].set_position(('data', 0))\n",
    "ax.spines['top'].set_visible(False)\n",
    "ax.spines['right'].set_visible(False)\n",
    "#ax.spines['left'].set_smart_bounds(True)\n",
    "#ax.spines['bottom'].set_smart_bounds(True)\n",
    "plt.legend(loc='center left', fancybox=True, framealpha=0., bbox_to_anchor=(1.05, 0.5))\n",
    "\n",
    "plt.savefig('/tmp/fig4.png', bbox_inches='tight', dpi=300)"
   ]
  },
  {
   "cell_type": "code",
   "execution_count": null,
   "metadata": {
    "id": "ym1KzQYrEV71"
   },
   "outputs": [],
   "source": []
  }
 ],
 "metadata": {
  "colab": {
   "provenance": []
  },
  "kernelspec": {
   "display_name": "Python 3",
   "name": "python3"
  }
 },
 "nbformat": 4,
 "nbformat_minor": 0
}
