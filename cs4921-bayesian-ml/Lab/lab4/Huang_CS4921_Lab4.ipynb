{
 "cells": [
  {
   "cell_type": "markdown",
   "metadata": {},
   "source": [
    "# Lab 4: Variational Inference with a Fully-Factorized Gaussian Variational Distribution"
   ]
  },
  {
   "cell_type": "code",
   "execution_count": 43,
   "metadata": {},
   "outputs": [],
   "source": [
    "import pandas as pd\n",
    "import numpy as np\n",
    "import tensorflow as tf\n",
    "import tensorflow_probability as tfp\n",
    "tfd = tfp.distributions"
   ]
  },
  {
   "cell_type": "markdown",
   "metadata": {},
   "source": [
    "# Naval Propulsion Model"
   ]
  },
  {
   "cell_type": "markdown",
   "metadata": {},
   "source": [
    "<span>1.</span>Train a Bayesian neural network using variational inference, a fully-factorized Gaussian variational distribution,\n",
    "and a Gaussian prediction with heteroscedastic uncertainty for the Naval Propulsion dataset."
   ]
  },
  {
   "cell_type": "code",
   "execution_count": 44,
   "metadata": {},
   "outputs": [],
   "source": [
    "naval_data = pd.read_csv('../data/naval.csv')"
   ]
  },
  {
   "cell_type": "code",
   "execution_count": 45,
   "metadata": {},
   "outputs": [
    {
     "name": "stdout",
     "output_type": "stream",
     "text": [
      "<class 'pandas.core.frame.DataFrame'>\n",
      "RangeIndex: 11934 entries, 0 to 11933\n",
      "Data columns (total 18 columns):\n",
      " #   Column                                              Non-Null Count  Dtype  \n",
      "---  ------                                              --------------  -----  \n",
      " 0   1 - Lever position (lp) [ ]                         11934 non-null  float64\n",
      " 1   2 - Ship speed (v) [knots]                          11934 non-null  float64\n",
      " 2   3 - Gas Turbine shaft torque (GTT) [kN m]           11934 non-null  float64\n",
      " 3   4 - Gas Turbine rate of revolutions (GTn) [rpm]     11934 non-null  float64\n",
      " 4   5 - Gas Generator rate of revolutions (GGn) [rpm]   11934 non-null  float64\n",
      " 5   6 - Starboard Propeller Torque (Ts) [kN]            11934 non-null  float64\n",
      " 6   7 - Port Propeller Torque (Tp) [kN]                 11934 non-null  float64\n",
      " 7   8 - HP Turbine exit temperature (T48) [C]           11934 non-null  float64\n",
      " 8   9 - GT Compressor inlet air temperature (T1) [C]    11934 non-null  float64\n",
      " 9   10 - GT Compressor outlet air temperature (T2) [C]  11934 non-null  float64\n",
      " 10  11 - HP Turbine exit pressure (P48) [bar]           11934 non-null  float64\n",
      " 11  12 - GT Compressor inlet air pressure (P1) [bar]    11934 non-null  float64\n",
      " 12  13 - GT Compressor outlet air pressure (P2) [bar]   11934 non-null  float64\n",
      " 13  14 - Gas Turbine exhaust gas pressure (Pexh) [bar]  11934 non-null  float64\n",
      " 14  15 - Turbine Injecton Control (TIC) [%]             11934 non-null  float64\n",
      " 15  16 - Fuel flow (mf) [kg/s]                          11934 non-null  float64\n",
      " 16  17 - GT Compressor decay state coefficient.         11934 non-null  float64\n",
      " 17  18 - GT Turbine decay state coefficient.            11934 non-null  float64\n",
      "dtypes: float64(18)\n",
      "memory usage: 1.6 MB\n"
     ]
    }
   ],
   "source": [
    "naval_data.info()"
   ]
  },
  {
   "cell_type": "code",
   "execution_count": 46,
   "metadata": {},
   "outputs": [
    {
     "name": "stdout",
     "output_type": "stream",
     "text": [
      "<class 'pandas.core.series.Series'>\n",
      "RangeIndex: 11934 entries, 0 to 11933\n",
      "Series name: 17 - GT Compressor decay state coefficient.\n",
      "Non-Null Count  Dtype  \n",
      "--------------  -----  \n",
      "11934 non-null  float64\n",
      "dtypes: float64(1)\n",
      "memory usage: 93.4 KB\n",
      "0        0.95\n",
      "1        0.95\n",
      "2        0.95\n",
      "3        0.95\n",
      "4        0.95\n",
      "         ... \n",
      "11929    1.00\n",
      "11930    1.00\n",
      "11931    1.00\n",
      "11932    1.00\n",
      "11933    1.00\n",
      "Name: 17 - GT Compressor decay state coefficient., Length: 11934, dtype: float64\n",
      "<class 'pandas.core.frame.DataFrame'>\n",
      "RangeIndex: 11934 entries, 0 to 11933\n",
      "Data columns (total 16 columns):\n",
      " #   Column                                              Non-Null Count  Dtype  \n",
      "---  ------                                              --------------  -----  \n",
      " 0   1 - Lever position (lp) [ ]                         11934 non-null  float64\n",
      " 1   2 - Ship speed (v) [knots]                          11934 non-null  float64\n",
      " 2   3 - Gas Turbine shaft torque (GTT) [kN m]           11934 non-null  float64\n",
      " 3   4 - Gas Turbine rate of revolutions (GTn) [rpm]     11934 non-null  float64\n",
      " 4   5 - Gas Generator rate of revolutions (GGn) [rpm]   11934 non-null  float64\n",
      " 5   6 - Starboard Propeller Torque (Ts) [kN]            11934 non-null  float64\n",
      " 6   7 - Port Propeller Torque (Tp) [kN]                 11934 non-null  float64\n",
      " 7   8 - HP Turbine exit temperature (T48) [C]           11934 non-null  float64\n",
      " 8   9 - GT Compressor inlet air temperature (T1) [C]    11934 non-null  float64\n",
      " 9   10 - GT Compressor outlet air temperature (T2) [C]  11934 non-null  float64\n",
      " 10  11 - HP Turbine exit pressure (P48) [bar]           11934 non-null  float64\n",
      " 11  12 - GT Compressor inlet air pressure (P1) [bar]    11934 non-null  float64\n",
      " 12  13 - GT Compressor outlet air pressure (P2) [bar]   11934 non-null  float64\n",
      " 13  14 - Gas Turbine exhaust gas pressure (Pexh) [bar]  11934 non-null  float64\n",
      " 14  15 - Turbine Injecton Control (TIC) [%]             11934 non-null  float64\n",
      " 15  16 - Fuel flow (mf) [kg/s]                          11934 non-null  float64\n",
      "dtypes: float64(16)\n",
      "memory usage: 1.5 MB\n"
     ]
    }
   ],
   "source": [
    "y = naval_data[naval_data.columns[16]]\n",
    "X = naval_data.iloc[:,0:16]\n",
    "y.info()\n",
    "print(y)\n",
    "X.info()"
   ]
  },
  {
   "cell_type": "code",
   "execution_count": 47,
   "metadata": {},
   "outputs": [
    {
     "name": "stdout",
     "output_type": "stream",
     "text": [
      "[[-1.53324812 -1.54919334 -1.2166697  ... -0.9486833  -1.02557391\n",
      "  -1.14440517]\n",
      " [-1.17161304 -1.161895   -0.91565197 ... -0.9486833  -0.88780617\n",
      "  -0.7403042 ]\n",
      " [-0.77191112 -0.77459667 -0.85156724 ... -0.9486833  -0.79492904\n",
      "  -0.79549848]\n",
      " ...\n",
      " [ 0.75456956  0.77459667  0.53031625 ...  0.9486833   0.32733629\n",
      "   0.33795544]\n",
      " [ 1.15807816  1.161895    1.07187738 ...  0.9486833   0.94651716\n",
      "   0.96086229]\n",
      " [ 1.57300683  1.54919334  2.05571343 ...  1.8973666   2.03008369\n",
      "   2.04503561]]\n",
      "[[-1.69841555]\n",
      " [-1.69841555]\n",
      " [-1.69841555]\n",
      " ...\n",
      " [ 1.69841555]\n",
      " [ 1.69841555]\n",
      " [ 1.69841555]]\n"
     ]
    }
   ],
   "source": [
    "from sklearn.preprocessing import StandardScaler\n",
    "\n",
    "scaler_X = StandardScaler()\n",
    "scaler_y = StandardScaler()\n",
    "\n",
    "X = scaler_X.fit_transform(X)\n",
    "y = y.to_numpy()\n",
    "y = y.reshape(-1,1)\n",
    "y = scaler_y.fit_transform(y)\n",
    "\n",
    "print(X)\n",
    "print(y)"
   ]
  },
  {
   "cell_type": "code",
   "execution_count": 48,
   "metadata": {},
   "outputs": [],
   "source": [
    "n_examples = y.shape[0]\n",
    "expectNLL = lambda y, rv_y: -rv_y.log_prob(y)/n_examples"
   ]
  },
  {
   "cell_type": "code",
   "execution_count": 49,
   "metadata": {},
   "outputs": [],
   "source": [
    "prior = tfp.layers.default_mean_field_normal_fn(\n",
    "    is_singular=False,\n",
    "    loc_initializer=tf.zeros_initializer(),\n",
    "    untransformed_scale_initializer=tf.constant_initializer(0.01),\n",
    "    loc_regularizer=None,\n",
    "    untransformed_scale_regularizer=None,\n",
    "    loc_constraint=None,\n",
    "    untransformed_scale_constraint=None\n",
    ")"
   ]
  },
  {
   "cell_type": "code",
   "execution_count": 50,
   "metadata": {},
   "outputs": [],
   "source": [
    "def get_kernel_divergence_fn(train_size, kl_weight=1.0):\n",
    "  def kernel_divergence_fn(q, p, _):\n",
    "    kernel_divergence = tfp.distributions.kl_divergence(q, p) / tf.cast(train_size, tf.float32)\n",
    "    return kl_weight * kernel_divergence\n",
    "  return kernel_divergence_fn"
   ]
  },
  {
   "cell_type": "code",
   "execution_count": 51,
   "metadata": {},
   "outputs": [],
   "source": [
    "kl_div = get_kernel_divergence_fn(y.shape[0])"
   ]
  },
  {
   "cell_type": "code",
   "execution_count": 52,
   "metadata": {},
   "outputs": [
    {
     "name": "stderr",
     "output_type": "stream",
     "text": [
      "/home/alexander.huang/.conda/envs/py38/lib/python3.8/site-packages/tensorflow_probability/python/layers/util.py:95: UserWarning: `layer.add_variable` is deprecated and will be removed in a future version. Please use the `layer.add_weight()` method instead.\n",
      "  loc = add_variable_fn(\n",
      "/home/alexander.huang/.conda/envs/py38/lib/python3.8/site-packages/tensorflow_probability/python/layers/util.py:105: UserWarning: `layer.add_variable` is deprecated and will be removed in a future version. Please use the `layer.add_weight()` method instead.\n",
      "  untransformed_scale = add_variable_fn(\n"
     ]
    },
    {
     "name": "stdout",
     "output_type": "stream",
     "text": [
      "Model: \"NavalModel\"\n",
      "__________________________________________________________________________________________________\n",
      " Layer (type)                   Output Shape         Param #     Connected to                     \n",
      "==================================================================================================\n",
      " input_6 (InputLayer)           [(None, 16)]         0           []                               \n",
      "                                                                                                  \n",
      " dense_local_reparameterization  (None, 100)         6700        ['input_6[0][0]']                \n",
      " _15 (DenseLocalReparameterizat                                                                   \n",
      " ion)                                                                                             \n",
      "                                                                                                  \n",
      " dense_local_reparameterization  (None, 1)           403         ['dense_local_reparameterization_\n",
      " _16 (DenseLocalReparameterizat                                  15[0][0]']                       \n",
      " ion)                                                                                             \n",
      "                                                                                                  \n",
      " dense_local_reparameterization  (None, 1)           403         ['dense_local_reparameterization_\n",
      " _17 (DenseLocalReparameterizat                                  15[0][0]']                       \n",
      " ion)                                                                                             \n",
      "                                                                                                  \n",
      " distribution_lambda_5 (Distrib  ((None, 1),         0           ['dense_local_reparameterization_\n",
      " utionLambda)                    (None, 1))                      16[0][0]',                       \n",
      "                                                                  'dense_local_reparameterization_\n",
      "                                                                 17[0][0]']                       \n",
      "                                                                                                  \n",
      "==================================================================================================\n",
      "Total params: 7,506\n",
      "Trainable params: 7,506\n",
      "Non-trainable params: 0\n",
      "__________________________________________________________________________________________________\n",
      "None\n"
     ]
    }
   ],
   "source": [
    "input = tf.keras.layers.Input(16)\n",
    "h1 = tfp.layers.DenseLocalReparameterization(100,activation=tf.keras.activations.relu,kernel_prior_fn=prior,bias_prior_fn=prior,kernel_divergence_fn=kl_div,bias_divergence_fn=kl_div)(input)\n",
    "m = tfp.layers.DenseLocalReparameterization(1,kernel_prior_fn=prior,bias_prior_fn=prior,kernel_divergence_fn=kl_div,bias_divergence_fn=kl_div)(h1)\n",
    "s = tfp.layers.DenseLocalReparameterization(1,activation=tf.keras.activations.softplus,kernel_prior_fn=prior,bias_prior_fn=prior,kernel_divergence_fn=kl_div,bias_divergence_fn=kl_div)(h1)\n",
    "p = tfp.layers.DistributionLambda(lambda t: tfd.Normal(loc=t[0], scale=t[1]))([m,s])\n",
    "model = tf.keras.Model(inputs=input, outputs=p, name=\"NavalModel\")\n",
    "\n",
    "model.compile(optimizer=tf.optimizers.Adam(learning_rate=0.00000001), loss=expectNLL)\n",
    "print(model.summary())"
   ]
  },
  {
   "cell_type": "code",
   "execution_count": 53,
   "metadata": {
    "scrolled": true
   },
   "outputs": [
    {
     "name": "stdout",
     "output_type": "stream",
     "text": [
      "373/373 [==============================] - 1s 2ms/step\n",
      "373/373 [==============================] - 1s 2ms/step\n",
      "373/373 [==============================] - 1s 2ms/step\n",
      "373/373 [==============================] - 1s 2ms/step\n",
      "373/373 [==============================] - 1s 2ms/step\n",
      "373/373 [==============================] - 1s 2ms/step\n",
      "373/373 [==============================] - 1s 1ms/step\n",
      "373/373 [==============================] - 1s 2ms/step\n",
      "373/373 [==============================] - 1s 2ms/step\n",
      "373/373 [==============================] - 1s 2ms/step\n"
     ]
    }
   ],
   "source": [
    "n_models = 10\n",
    "predictions = []\n",
    "means = []\n",
    "\n",
    "for _ in range(n_models):\n",
    "    model.fit(X, y, epochs=10, verbose=False)\n",
    "    yhat = model.predict(X)\n",
    "    yhat = scaler_y.inverse_transform(yhat)\n",
    "    predictions.append(yhat)\n",
    "    y_dist = model(X)\n",
    "    mean = y_dist.mean().numpy()\n",
    "    means.append(mean)"
   ]
  },
  {
   "cell_type": "markdown",
   "metadata": {},
   "source": [
    "<span>2.</span>Find the epistemic uncertainty for all Naval Propulsion examples."
   ]
  },
  {
   "cell_type": "code",
   "execution_count": 54,
   "metadata": {},
   "outputs": [
    {
     "name": "stdout",
     "output_type": "stream",
     "text": [
      "Epistemic Uncertainty 0.043565214\n"
     ]
    }
   ],
   "source": [
    "result = 0\n",
    "result = np.var(means)\n",
    "print('Epistemic Uncertainty', result)"
   ]
  },
  {
   "cell_type": "code",
   "execution_count": 55,
   "metadata": {},
   "outputs": [
    {
     "name": "stdout",
     "output_type": "stream",
     "text": [
      "RMSE: 1.39465003810513\n"
     ]
    }
   ],
   "source": [
    "from sklearn.metrics import mean_squared_error\n",
    "# print RMSE from predictions of one of the models\n",
    "print('RMSE:', np.sqrt(mean_squared_error(y, predictions[0])))"
   ]
  },
  {
   "cell_type": "markdown",
   "metadata": {},
   "source": [
    "# Ionosphere Model"
   ]
  },
  {
   "cell_type": "markdown",
   "metadata": {},
   "source": [
    "<span>3.</span>Train a Bayesian neural network using variational inference, a fully-factorized Gaussian variational distribution, and a Bernoulli prediction for the Ionosphere dataset."
   ]
  },
  {
   "cell_type": "code",
   "execution_count": 56,
   "metadata": {},
   "outputs": [
    {
     "name": "stdout",
     "output_type": "stream",
     "text": [
      "<bound method DataFrame.info of      0   1        2        3        4        5        6        7        8   \\\n",
      "0     1   0  0.99539 -0.05889  0.85243  0.02306  0.83398 -0.37708  1.00000   \n",
      "1     1   0  1.00000 -0.18829  0.93035 -0.36156 -0.10868 -0.93597  1.00000   \n",
      "2     1   0  1.00000 -0.03365  1.00000  0.00485  1.00000 -0.12062  0.88965   \n",
      "3     1   0  1.00000 -0.45161  1.00000  1.00000  0.71216 -1.00000  0.00000   \n",
      "4     1   0  1.00000 -0.02401  0.94140  0.06531  0.92106 -0.23255  0.77152   \n",
      "..   ..  ..      ...      ...      ...      ...      ...      ...      ...   \n",
      "346   1   0  0.83508  0.08298  0.73739 -0.14706  0.84349 -0.05567  0.90441   \n",
      "347   1   0  0.95113  0.00419  0.95183 -0.02723  0.93438 -0.01920  0.94590   \n",
      "348   1   0  0.94701 -0.00034  0.93207 -0.03227  0.95177 -0.03431  0.95584   \n",
      "349   1   0  0.90608 -0.01657  0.98122 -0.01989  0.95691 -0.03646  0.85746   \n",
      "350   1   0  0.84710  0.13533  0.73638 -0.06151  0.87873  0.08260  0.88928   \n",
      "\n",
      "          9   ...       25       26       27       28       29       30  \\\n",
      "0    0.03760  ... -0.51171  0.41078 -0.46168  0.21266 -0.34090  0.42267   \n",
      "1   -0.04549  ... -0.26569 -0.20468 -0.18401 -0.19040 -0.11593 -0.16626   \n",
      "2    0.01198  ... -0.40220  0.58984 -0.22145  0.43100 -0.17365  0.60436   \n",
      "3    0.00000  ...  0.90695  0.51613  1.00000  1.00000 -0.20099  0.25682   \n",
      "4   -0.16399  ... -0.65158  0.13290 -0.53206  0.02431 -0.62197 -0.05707   \n",
      "..       ...  ...      ...      ...      ...      ...      ...      ...   \n",
      "346 -0.04622  ... -0.04202  0.83479  0.00123  1.00000  0.12815  0.86660   \n",
      "347  0.01606  ...  0.01361  0.93522  0.04925  0.93159  0.08168  0.94066   \n",
      "348  0.02446  ...  0.03193  0.92489  0.02542  0.92120  0.02242  0.92459   \n",
      "349  0.00110  ... -0.02099  0.89147 -0.07760  0.82983 -0.17238  0.96022   \n",
      "350 -0.09139  ... -0.15114  0.81147 -0.04822  0.78207 -0.00703  0.75747   \n",
      "\n",
      "          31       32       33  34  \n",
      "0   -0.54487  0.18641 -0.45300   g  \n",
      "1   -0.06288 -0.13738 -0.02447   b  \n",
      "2   -0.24180  0.56045 -0.38238   g  \n",
      "3    1.00000 -0.32382  1.00000   b  \n",
      "4   -0.59573 -0.04608 -0.65697   g  \n",
      "..       ...      ...      ...  ..  \n",
      "346 -0.10714  0.90546 -0.04307   g  \n",
      "347 -0.00035  0.91483  0.04712   g  \n",
      "348  0.00442  0.92697 -0.00577   g  \n",
      "349 -0.03757  0.87403 -0.16243   g  \n",
      "350 -0.06678  0.85764 -0.06151   g  \n",
      "\n",
      "[351 rows x 35 columns]>\n"
     ]
    }
   ],
   "source": [
    "ion_data = pd.read_csv('../data/ionosphere.csv', header=None)\n",
    "print(ion_data.info)"
   ]
  },
  {
   "cell_type": "code",
   "execution_count": 57,
   "metadata": {},
   "outputs": [
    {
     "name": "stdout",
     "output_type": "stream",
     "text": [
      "g class: 0\n",
      "b class: 1\n",
      "[0 1 0 1 0 1 0 1 0 1 0 1 0 1 0 1 0 1 0 1 0 1 0 1 0 1 0 1 0 1 0 1 0 1 0 1 0\n",
      " 1 0 1 0 1 0 1 0 1 0 1 0 1 0 1 0 1 0 1 0 1 0 1 0 1 0 1 0 1 0 1 0 1 0 1 0 1\n",
      " 0 1 0 1 0 1 0 1 0 1 0 1 0 1 0 1 0 1 0 1 0 1 0 0 1 0 1 0 1 0 1 0 1 0 1 0 1\n",
      " 0 1 0 1 0 1 0 1 0 1 0 1 0 1 0 1 0 1 0 1 0 1 0 1 0 1 0 1 0 1 0 1 0 1 0 1 0\n",
      " 1 0 1 0 1 0 1 0 1 0 1 0 1 0 1 0 1 0 1 0 1 0 1 0 1 0 1 0 1 0 1 0 1 0 1 0 1\n",
      " 0 1 0 1 0 1 0 1 0 1 0 1 0 1 0 1 0 1 0 1 0 1 0 1 0 1 0 1 0 1 0 1 0 1 0 1 0\n",
      " 1 0 1 0 1 0 1 0 1 0 1 0 1 0 1 0 1 0 1 0 1 0 1 0 1 0 1 0 1 0 1 0 0 0 0 0 0\n",
      " 0 0 0 0 0 0 0 0 0 0 0 0 0 0 0 0 0 0 0 0 0 0 0 0 0 0 0 0 0 0 0 0 0 0 0 0 0\n",
      " 0 0 0 0 0 0 0 0 0 0 0 0 0 0 0 0 0 0 0 0 0 0 0 0 0 0 0 0 0 0 0 0 0 0 0 0 0\n",
      " 0 0 0 0 0 0 0 0 0 0 0 0 0 0 0 0 0 0]\n"
     ]
    }
   ],
   "source": [
    "\"\"\"\n",
    "# One hot, label is last two columns\n",
    "def one_hot(cat, hot):\n",
    "    if cat == hot:\n",
    "        return int(1)\n",
    "    else:\n",
    "        return int(0)\n",
    "    \n",
    "ion_data[35] = ion_data[34].apply(one_hot, hot='g')\n",
    "ion_data[36] = ion_data[34].apply(one_hot, hot='b')\n",
    "\"\"\"\n",
    "\n",
    "def ordinal_encoder(category):\n",
    "    dict = {'g': 0, 'b': 1}\n",
    "    return dict[category]\n",
    "\n",
    "print('g class:', ordinal_encoder('g'))\n",
    "print('b class:', ordinal_encoder('b'))\n",
    "ion_data[34] = ion_data[34].apply(ordinal_encoder)\n",
    "print(ion_data[34].to_numpy())"
   ]
  },
  {
   "cell_type": "code",
   "execution_count": 58,
   "metadata": {},
   "outputs": [
    {
     "name": "stdout",
     "output_type": "stream",
     "text": [
      "(351, 33)\n",
      "(351, 1)\n"
     ]
    }
   ],
   "source": [
    "# split x and y\n",
    "x = ion_data.iloc[:,0:33].to_numpy()\n",
    "y = ion_data.iloc[:,34].to_numpy().reshape(-1,1)\n",
    "\n",
    "# Scaling\n",
    "scaler = StandardScaler()\n",
    "x = scaler.fit_transform(x)\n",
    "print(x.shape)\n",
    "print(y.shape)"
   ]
  },
  {
   "cell_type": "code",
   "execution_count": 63,
   "metadata": {},
   "outputs": [
    {
     "name": "stderr",
     "output_type": "stream",
     "text": [
      "/home/alexander.huang/.conda/envs/py38/lib/python3.8/site-packages/tensorflow_probability/python/layers/util.py:95: UserWarning: `layer.add_variable` is deprecated and will be removed in a future version. Please use the `layer.add_weight()` method instead.\n",
      "  loc = add_variable_fn(\n",
      "/home/alexander.huang/.conda/envs/py38/lib/python3.8/site-packages/tensorflow_probability/python/layers/util.py:105: UserWarning: `layer.add_variable` is deprecated and will be removed in a future version. Please use the `layer.add_weight()` method instead.\n",
      "  untransformed_scale = add_variable_fn(\n"
     ]
    },
    {
     "name": "stdout",
     "output_type": "stream",
     "text": [
      "Model: \"IonosphereNNMLEwDistr\"\n",
      "_________________________________________________________________\n",
      " Layer (type)                Output Shape              Param #   \n",
      "=================================================================\n",
      " input_8 (InputLayer)        [(None, 33)]              0         \n",
      "                                                                 \n",
      " dense_local_reparameterizat  (None, 100)              13500     \n",
      " ion_20 (DenseLocalReparamet                                     \n",
      " erization)                                                      \n",
      "                                                                 \n",
      " dense_local_reparameterizat  (None, 1)                403       \n",
      " ion_21 (DenseLocalReparamet                                     \n",
      " erization)                                                      \n",
      "                                                                 \n",
      " output (DistributionLambda)  ((None, 1),              0         \n",
      "                              (None, 1))                         \n",
      "                                                                 \n",
      "=================================================================\n",
      "Total params: 13,903\n",
      "Trainable params: 13,903\n",
      "Non-trainable params: 0\n",
      "_________________________________________________________________\n",
      "None\n"
     ]
    }
   ],
   "source": [
    "input2 = tf.keras.layers.Input(33)\n",
    "h21 = tfp.layers.DenseLocalReparameterization(100,activation=tf.keras.activations.relu,kernel_prior_fn=prior,bias_prior_fn=prior,kernel_divergence_fn=kl_div,bias_divergence_fn=kl_div)(input2)\n",
    "p_val = tfp.layers.DenseLocalReparameterization(1,kernel_prior_fn=prior,bias_prior_fn=prior,kernel_divergence_fn=kl_div,bias_divergence_fn=kl_div)(h21)\n",
    "out2 = tfp.layers.DistributionLambda(lambda t: tfp.distributions.Bernoulli(probs=t,  dtype=tf.float64), name=\"output\")(p_val)\n",
    "\n",
    "model2 = tf.keras.Model(inputs=input2, outputs=out2, name=\"IonosphereNNMLEwDistr\")\n",
    " \n",
    "model2.compile(optimizer=tf.optimizers.Adam(learning_rate=0.0000001), loss=expectNLL)\n",
    "print(model2.summary())"
   ]
  },
  {
   "cell_type": "code",
   "execution_count": 64,
   "metadata": {},
   "outputs": [
    {
     "name": "stdout",
     "output_type": "stream",
     "text": [
      "11/11 [==============================] - 0s 2ms/step\n",
      "11/11 [==============================] - 0s 2ms/step\n",
      "11/11 [==============================] - 0s 2ms/step\n",
      "11/11 [==============================] - 0s 2ms/step\n",
      "11/11 [==============================] - 0s 2ms/step\n",
      "11/11 [==============================] - 0s 2ms/step\n",
      "11/11 [==============================] - 0s 2ms/step\n",
      "11/11 [==============================] - 0s 2ms/step\n",
      "11/11 [==============================] - 0s 2ms/step\n",
      "11/11 [==============================] - 0s 2ms/step\n"
     ]
    }
   ],
   "source": [
    "n_models = 10\n",
    "predictions = []\n",
    "means = []\n",
    "\n",
    "for _ in range(n_models):\n",
    "    model2.fit(x, y, epochs=50, verbose=False)\n",
    "    yhat2 = model2.predict(x)\n",
    "    yhat2 = scaler_y.inverse_transform(yhat)\n",
    "    predictions.append(yhat)\n",
    "    y_dist2 = model2(x)\n",
    "    mean = y_dist2.mean().numpy()\n",
    "    means.append(mean)"
   ]
  },
  {
   "cell_type": "code",
   "execution_count": 65,
   "metadata": {},
   "outputs": [
    {
     "name": "stdout",
     "output_type": "stream",
     "text": [
      "11/11 [==============================] - 0s 2ms/step\n",
      "              precision    recall  f1-score   support\n",
      "\n",
      "           0       0.70      0.97      0.81       225\n",
      "           1       0.82      0.25      0.38       126\n",
      "\n",
      "    accuracy                           0.71       351\n",
      "   macro avg       0.76      0.61      0.59       351\n",
      "weighted avg       0.74      0.71      0.66       351\n",
      "\n"
     ]
    }
   ],
   "source": [
    "from sklearn.metrics import classification_report\n",
    "\n",
    "yhat3 = model2.predict(x)\n",
    "\n",
    "def labelmaker(prob):\n",
    "    if prob > 0.4:\n",
    "        return 1\n",
    "    else:\n",
    "        return 0\n",
    "\n",
    "yhat3 = np.apply_along_axis(labelmaker, 1, yhat3)\n",
    "print(classification_report(y.flatten(), yhat3.flatten()))"
   ]
  },
  {
   "cell_type": "markdown",
   "metadata": {},
   "source": [
    "<span>4.</span> Find the epistemic uncertainty for all Ionosphere examples."
   ]
  },
  {
   "cell_type": "code",
   "execution_count": 69,
   "metadata": {},
   "outputs": [
    {
     "name": "stdout",
     "output_type": "stream",
     "text": [
      "Epistemic Uncertainty 0.1577162\n"
     ]
    }
   ],
   "source": [
    "result = 0\n",
    "result = np.var(means)\n",
    "print('Epistemic Uncertainty', result)"
   ]
  }
 ],
 "metadata": {
  "kernelspec": {
   "display_name": "py38",
   "language": "python",
   "name": "py38"
  },
  "language_info": {
   "codemirror_mode": {
    "name": "ipython",
    "version": 3
   },
   "file_extension": ".py",
   "mimetype": "text/x-python",
   "name": "python",
   "nbconvert_exporter": "python",
   "pygments_lexer": "ipython3",
   "version": "3.8.13"
  }
 },
 "nbformat": 4,
 "nbformat_minor": 2
}
