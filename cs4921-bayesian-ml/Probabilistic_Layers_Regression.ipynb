{
 "cells": [
  {
   "cell_type": "markdown",
   "metadata": {
    "id": "ZrwVQsM9TiUw"
   },
   "source": [
    "##### Copyright 2019 The TensorFlow Probability Authors.\n",
    "\n",
    "Licensed under the Apache License, Version 2.0 (the \"License\");"
   ]
  },
  {
   "cell_type": "code",
   "execution_count": null,
   "metadata": {
    "id": "CpDUTVKYTowI"
   },
   "outputs": [],
   "source": [
    "#@title Licensed under the Apache License, Version 2.0 (the \"License\"); { display-mode: \"form\" }\n",
    "# you may not use this file except in compliance with the License.\n",
    "# You may obtain a copy of the License at\n",
    "#\n",
    "# https://www.apache.org/licenses/LICENSE-2.0\n",
    "#\n",
    "# Unless required by applicable law or agreed to in writing, software\n",
    "# distributed under the License is distributed on an \"AS IS\" BASIS,\n",
    "# WITHOUT WARRANTIES OR CONDITIONS OF ANY KIND, either express or implied.\n",
    "# See the License for the specific language governing permissions and\n",
    "# limitations under the License."
   ]
  },
  {
   "cell_type": "markdown",
   "metadata": {
    "id": "ltPJCG6pAUoc"
   },
   "source": [
    "# TFP Probabilistic Layers: Regression\n",
    "\n",
    "<table class=\"tfo-notebook-buttons\" align=\"left\">\n",
    "  <td>\n",
    "    <a target=\"_blank\" href=\"https://www.tensorflow.org/probability/examples/Probabilistic_Layers_Regression\"><img src=\"https://www.tensorflow.org/images/tf_logo_32px.png\" />View on TensorFlow.org</a>\n",
    "  </td>\n",
    "  <td>\n",
    "    <a target=\"_blank\" href=\"https://colab.research.google.com/github/tensorflow/probability/blob/main/tensorflow_probability/examples/jupyter_notebooks/Probabilistic_Layers_Regression.ipynb\"><img src=\"https://www.tensorflow.org/images/colab_logo_32px.png\" />Run in Google Colab</a>\n",
    "  </td>\n",
    "  <td>\n",
    "    <a target=\"_blank\" href=\"https://github.com/tensorflow/probability/blob/main/tensorflow_probability/examples/jupyter_notebooks/Probabilistic_Layers_Regression.ipynb\"><img src=\"https://www.tensorflow.org/images/GitHub-Mark-32px.png\" />View source on GitHub</a>\n",
    "  </td>\n",
    "  <td>\n",
    "    <a href=\"https://storage.googleapis.com/tensorflow_docs/probability/tensorflow_probability/examples/jupyter_notebooks/Probabilistic_Layers_Regression.ipynb\"><img src=\"https://www.tensorflow.org/images/download_logo_32px.png\" />Download notebook</a>\n",
    "  </td>\n",
    "</table>"
   ]
  },
  {
   "cell_type": "markdown",
   "metadata": {
    "id": "WRVR-tGTR31S"
   },
   "source": [
    "In this example we show how to fit regression models using TFP's \"probabilistic layers.\""
   ]
  },
  {
   "cell_type": "markdown",
   "metadata": {
    "id": "uiR4-VOt9NFX"
   },
   "source": [
    "### Dependencies & Prerequisites\n"
   ]
  },
  {
   "cell_type": "code",
   "execution_count": 7,
   "metadata": {
    "id": "kZ0MdF1j8WJf"
   },
   "outputs": [],
   "source": [
    "#@title Import { display-mode: \"form\" }\n",
    "\n",
    "\n",
    "from pprint import pprint\n",
    "import matplotlib.pyplot as plt\n",
    "import numpy as np\n",
    "import seaborn as sns\n",
    "\n",
    "import tensorflow.compat.v2 as tf\n",
    "tf.enable_v2_behavior()\n",
    "\n",
    "import tensorflow_probability as tfp\n",
    "\n",
    "sns.reset_defaults()\n",
    "#sns.set_style('whitegrid')\n",
    "#sns.set_context('talk')\n",
    "sns.set_context(context='talk',font_scale=0.7)\n",
    "\n",
    "%matplotlib inline\n",
    "\n",
    "tfd = tfp.distributions"
   ]
  },
  {
   "cell_type": "markdown",
   "metadata": {
    "id": "7nnwjUdVoWN2"
   },
   "source": [
    "### Make things Fast!"
   ]
  },
  {
   "cell_type": "markdown",
   "metadata": {
    "id": "2CK9RaDcoYPG"
   },
   "source": [
    "Before we dive in, let's make sure we're using a GPU for this demo.  \n",
    "\n",
    "To do this, select \"Runtime\" -> \"Change runtime type\" -> \"Hardware accelerator\" -> \"GPU\".\n",
    "\n",
    "The following snippet will verify that we have access to a GPU."
   ]
  },
  {
   "cell_type": "code",
   "execution_count": 8,
   "metadata": {
    "colab": {
     "base_uri": "https://localhost:8080/"
    },
    "id": "qP_4Xr8vpA42",
    "outputId": "e13359de-b18a-4b18-ac5b-dcd89dae1c25"
   },
   "outputs": [
    {
     "name": "stdout",
     "output_type": "stream",
     "text": [
      "WARNING: GPU device not found.\n"
     ]
    }
   ],
   "source": [
    "if tf.test.gpu_device_name() != '/device:GPU:0':\n",
    "  print('WARNING: GPU device not found.')\n",
    "else:\n",
    "  print('SUCCESS: Found GPU: {}'.format(tf.test.gpu_device_name()))"
   ]
  },
  {
   "cell_type": "markdown",
   "metadata": {
    "id": "FJRBc_S0ppfE"
   },
   "source": [
    "Note: if for some reason you cannot access a GPU, this colab will still work. (Training will just take longer.)"
   ]
  },
  {
   "cell_type": "markdown",
   "metadata": {
    "id": "xuqxMmryiduM"
   },
   "source": [
    "## Motivation"
   ]
  },
  {
   "cell_type": "markdown",
   "metadata": {
    "id": "RtBLNF-tin2L"
   },
   "source": [
    "Wouldn't it be great if we could use TFP to specify a probabilistic model then simply minimize the negative log-likelihood, i.e.,"
   ]
  },
  {
   "cell_type": "code",
   "execution_count": 9,
   "metadata": {
    "id": "3PFfNeJzifo7"
   },
   "outputs": [],
   "source": [
    "negloglik = lambda y, rv_y: -rv_y.log_prob(y)"
   ]
  },
  {
   "cell_type": "markdown",
   "metadata": {
    "id": "cN4IP8n_jIvT"
   },
   "source": [
    "Well not only is it possible, but this colab shows how! (In context of linear regression problems.)"
   ]
  },
  {
   "cell_type": "code",
   "execution_count": 15,
   "metadata": {
    "id": "5zCEYpzu7bDX"
   },
   "outputs": [],
   "source": [
    "#@title Synthesize dataset.\n",
    "w0 = 0.125\n",
    "b0 = 5.\n",
    "x_range = [-20, 60]\n",
    "\n",
    "def load_dataset(n=150, n_tst=150):\n",
    "  np.random.seed(43)\n",
    "  def s(x):\n",
    "    g = (x - x_range[0]) / (x_range[1] - x_range[0])\n",
    "    return 3 * (0.25 + g**2.)\n",
    "  x = (x_range[1] - x_range[0]) * np.random.rand(n) + x_range[0]\n",
    "  eps = np.random.randn(n) * s(x)\n",
    "  y = (w0 * x * (1. + np.sin(x)) + b0) + eps\n",
    "  x = x[..., np.newaxis]\n",
    "  x_tst = np.linspace(*x_range, num=n_tst).astype(np.float32)\n",
    "  x_tst = x_tst[..., np.newaxis]\n",
    "  return y, x, x_tst\n",
    "\n",
    "y, x, x_tst = load_dataset()"
   ]
  },
  {
   "cell_type": "code",
   "execution_count": 16,
   "metadata": {
    "id": "e_MV7I1MzaFw"
   },
   "outputs": [],
   "source": [
    "n_examples = y.shape[0]"
   ]
  },
  {
   "cell_type": "code",
   "execution_count": 17,
   "metadata": {
    "id": "Do2lzfeczIQM"
   },
   "outputs": [],
   "source": [
    "expectednegloglik = lambda y, rv_y: -rv_y.log_prob(y)/n_examples"
   ]
  },
  {
   "cell_type": "markdown",
   "metadata": {
    "id": "N8Shtn_e99XC"
   },
   "source": [
    "### Case 1: MLE Linear Regression with Constant Uncertainty"
   ]
  },
  {
   "cell_type": "code",
   "execution_count": 18,
   "metadata": {
    "colab": {
     "base_uri": "https://localhost:8080/"
    },
    "id": "RxKJ_RPI0K4N",
    "outputId": "e602ff26-8d43-4b93-b1a4-00155e00eaa1"
   },
   "outputs": [
    {
     "name": "stdout",
     "output_type": "stream",
     "text": [
      "0.12854978\n",
      "5.1231384\n"
     ]
    }
   ],
   "source": [
    "# Build model.\n",
    "input = tf.keras.layers.Input(1)\n",
    "linear = tf.keras.layers.Dense(1)(input)\n",
    "p = tfp.layers.DistributionLambda(lambda t: tfd.Normal(loc=t, scale=1))(linear)\n",
    "model = tf.keras.Model(inputs=input, outputs=p)\n",
    "\n",
    "# Do inference.\n",
    "model.compile(optimizer=tf.optimizers.Adam(learning_rate=0.01), loss=expectednegloglik)\n",
    "model.fit(x, y, epochs=1000, verbose=False);\n",
    "\n",
    "# Profit.\n",
    "[print(np.squeeze(w.numpy())) for w in model.weights];\n",
    "yhat = model(x_tst)\n",
    "assert isinstance(yhat, tfd.Distribution)"
   ]
  },
  {
   "cell_type": "code",
   "execution_count": 19,
   "metadata": {
    "colab": {
     "base_uri": "https://localhost:8080/",
     "height": 138
    },
    "id": "1AE9ElaKI6Er",
    "outputId": "7ba71079-6ef9-45d2-c90a-3c7955194adc"
   },
   "outputs": [
    {
     "data": {
      "image/png": "[encoded data removed]",
      "text/plain": [
       "<Figure size 432x108 with 1 Axes>"
      ]
     },
     "metadata": {
      "needs_background": "light"
     },
     "output_type": "display_data"
    }
   ],
   "source": [
    "\n",
    "w = np.squeeze(model.layers[-2].kernel.numpy())\n",
    "b = np.squeeze(model.layers[-2].bias.numpy())\n",
    "\n",
    "plt.figure(figsize=[6, 1.5])  # inches\n",
    "#plt.figure(figsize=[8, 5])  # inches\n",
    "plt.plot(x, y, 'b.', label='observed');\n",
    "plt.plot(x_tst, yhat.mean(),'r', label='mean', linewidth=4);\n",
    "plt.ylim(-0.,17);\n",
    "plt.yticks(np.linspace(0, 15, 4)[1:]);\n",
    "plt.xticks(np.linspace(*x_range, num=9));\n",
    "\n",
    "ax=plt.gca();\n",
    "ax.xaxis.set_ticks_position('bottom')\n",
    "ax.yaxis.set_ticks_position('left')\n",
    "ax.spines['left'].set_position(('data', 0))\n",
    "ax.spines['top'].set_visible(False)\n",
    "ax.spines['right'].set_visible(False)\n",
    "#ax.spines['left'].set_smart_bounds(True)\n",
    "#ax.spines['bottom'].set_smart_bounds(True)\n",
    "plt.legend(loc='center left', fancybox=True, framealpha=0., bbox_to_anchor=(1.05, 0.5))\n",
    "\n",
    "plt.savefig('/tmp/fig1.png', bbox_inches='tight', dpi=300)"
   ]
  },
  {
   "cell_type": "markdown",
   "metadata": {
    "id": "91kwRqs4O5Yv"
   },
   "source": [
    "### Case 2: MLE Linear Model with Homoscedastic Uncertainty"
   ]
  },
  {
   "cell_type": "code",
   "execution_count": 20,
   "metadata": {
    "colab": {
     "base_uri": "https://localhost:8080/"
    },
    "id": "TLZ97_V4PP-f",
    "outputId": "566f3605-de87-4961-f85e-207ef040596c"
   },
   "outputs": [
    {
     "name": "stdout",
     "output_type": "stream",
     "text": [
      "0.13314469\n",
      "5.126857\n"
     ]
    }
   ],
   "source": [
    "# Build model.\n",
    "input = tf.keras.layers.Input(1)\n",
    "linear = tf.keras.layers.Dense(1)(input)\n",
    "s = tfp.layers.VariableLayer(shape=[1],activation=tf.keras.activations.exponential)(True)\n",
    "p = tfp.layers.DistributionLambda(lambda t: tfd.Normal(loc=t[0], scale=t[1]))([linear,s])\n",
    "model = tf.keras.Model(inputs=input, outputs=p)\n",
    "\n",
    "# Do inference.\n",
    "model.compile(optimizer=tf.optimizers.Adam(learning_rate=0.01), loss=expectednegloglik)\n",
    "model.fit(x, y, epochs=1000, verbose=False);\n",
    "\n",
    "# Profit.\n",
    "[print(np.squeeze(w.numpy())) for w in model.weights];\n",
    "yhat = model(x_tst)\n",
    "assert isinstance(yhat, tfd.Distribution)"
   ]
  },
  {
   "cell_type": "code",
   "execution_count": 21,
   "metadata": {
    "colab": {
     "base_uri": "https://localhost:8080/"
    },
    "id": "4XUYJkcJlHOZ",
    "outputId": "8174ee23-e9a4-43c0-f9fd-6335e79db155"
   },
   "outputs": [
    {
     "data": {
      "text/plain": [
       "TensorShape([150, 1])"
      ]
     },
     "execution_count": 21,
     "metadata": {},
     "output_type": "execute_result"
    }
   ],
   "source": [
    "yhat.shape"
   ]
  },
  {
   "cell_type": "code",
   "execution_count": 22,
   "metadata": {
    "colab": {
     "base_uri": "https://localhost:8080/",
     "height": 138
    },
    "id": "JSSWw2-FPCiG",
    "outputId": "d4832659-80f6-4d0e-cff0-62d53ca6637c"
   },
   "outputs": [
    {
     "data": {
      "image/png": "[encoded data removed]",
      "text/plain": [
       "<Figure size 432x108 with 1 Axes>"
      ]
     },
     "metadata": {
      "needs_background": "light"
     },
     "output_type": "display_data"
    }
   ],
   "source": [
    "\n",
    "plt.figure(figsize=[6, 1.5])  # inches\n",
    "plt.plot(x, y, 'b.', label='observed');\n",
    "\n",
    "m = yhat.mean()\n",
    "s = yhat.stddev()\n",
    "\n",
    "plt.plot(x_tst, m, 'r', linewidth=4, label='mean');\n",
    "plt.plot(x_tst, m + 2 * s, 'g', linewidth=2, label=r'mean + 2 stddev');\n",
    "plt.plot(x_tst, m - 2 * s, 'g', linewidth=2, label=r'mean - 2 stddev');\n",
    "\n",
    "plt.ylim(-0.,17);\n",
    "plt.yticks(np.linspace(0, 15, 4)[1:]);\n",
    "plt.xticks(np.linspace(*x_range, num=9));\n",
    "\n",
    "ax=plt.gca();\n",
    "ax.xaxis.set_ticks_position('bottom')\n",
    "ax.yaxis.set_ticks_position('left')\n",
    "ax.spines['left'].set_position(('data', 0))\n",
    "ax.spines['top'].set_visible(False)\n",
    "ax.spines['right'].set_visible(False)\n",
    "#ax.spines['left'].set_smart_bounds(True)\n",
    "#ax.spines['bottom'].set_smart_bounds(True)\n",
    "plt.legend(loc='center left', fancybox=True, framealpha=0., bbox_to_anchor=(1.05, 0.5))\n",
    "\n",
    "plt.savefig('/tmp/fig2.png', bbox_inches='tight', dpi=300)"
   ]
  },
  {
   "cell_type": "markdown",
   "metadata": {
    "id": "6I1ZvjQWTAfX"
   },
   "source": [
    "### Case 2: MLE Neural Network Regression with Heteroscedastic Uncertainty"
   ]
  },
  {
   "cell_type": "code",
   "execution_count": 27,
   "metadata": {
    "colab": {
     "base_uri": "https://localhost:8080/"
    },
    "id": "e5gacKQ5qrM4",
    "outputId": "582dea48-47bc-46d8-e374-f4fb1ebfbb92"
   },
   "outputs": [
    {
     "name": "stdout",
     "output_type": "stream",
     "text": [
      "[ 0.22210978 -0.05285123  0.27132493 -0.43653685 -0.3874117  -0.12958677\n",
      " -0.4089895   0.19560549  0.15850185 -0.4116444 ]\n",
      "[ 1.2610528   2.2336502   0.20482877 -0.25929427  1.5090367   0.93592495\n",
      "  0.3678086  -0.2785634  -0.51358426 -0.22132489]\n",
      "[ 1.2941326   0.21817122  0.39053163 -0.37364286  1.0653913  -0.83778274\n",
      "  0.04332319 -0.6997085  -0.60402745 -0.509842  ]\n",
      "1.9996469\n",
      "[ 0.02329431 -0.2365324   0.2910628   0.07532969 -0.05295813 -0.59310114\n",
      "  0.39926422 -0.0015304  -0.38257083  0.04452535]\n",
      "0.32935056\n"
     ]
    }
   ],
   "source": [
    "# Build model.\n",
    "input = tf.keras.layers.Input(1)\n",
    "h1 = tf.keras.layers.Dense(10,activation=tf.keras.activations.relu)(input)\n",
    "m = tf.keras.layers.Dense(1)(h1)\n",
    "s = tf.keras.layers.Dense(1,activation=tf.keras.activations.exponential)(h1)\n",
    "p = tfp.layers.DistributionLambda(lambda t: tfd.Normal(loc=t[0], scale=t[1]))([m,s])\n",
    "model = tf.keras.Model(inputs=input, outputs=p)\n",
    "\n",
    "# Do inference.\n",
    "model.compile(optimizer=tf.optimizers.Adam(learning_rate=0.01), loss=expectednegloglik)\n",
    "model.fit(x, y, epochs=1000, verbose=False);\n",
    "\n",
    "# Profit.\n",
    "[print(np.squeeze(w.numpy())) for w in model.weights];\n",
    "yhat = model(x_tst)\n",
    "assert isinstance(yhat, tfd.Distribution)"
   ]
  },
  {
   "cell_type": "code",
   "execution_count": 28,
   "metadata": {
    "colab": {
     "base_uri": "https://localhost:8080/",
     "height": 138
    },
    "id": "9SRGjArDrgus",
    "outputId": "cf23da71-68f7-416f-d0ea-c2367c839669"
   },
   "outputs": [
    {
     "data": {
      "image/png": "[encoded data removed]",
      "text/plain": [
       "<Figure size 432x108 with 1 Axes>"
      ]
     },
     "metadata": {
      "needs_background": "light"
     },
     "output_type": "display_data"
    }
   ],
   "source": [
    "plt.figure(figsize=[6, 1.5])  # inches\n",
    "plt.plot(x, y, 'b.', label='observed');\n",
    "\n",
    "m = yhat.mean()\n",
    "s = yhat.stddev()\n",
    "\n",
    "plt.plot(x_tst, m, 'r', linewidth=4, label='mean');\n",
    "plt.plot(x_tst, m + 2 * s, 'g', linewidth=2, label=r'mean + 2 stddev');\n",
    "plt.plot(x_tst, m - 2 * s, 'g', linewidth=2, label=r'mean - 2 stddev');\n",
    "\n",
    "plt.ylim(-0.,17);\n",
    "plt.yticks(np.linspace(0, 15, 4)[1:]);\n",
    "plt.xticks(np.linspace(*x_range, num=9));\n",
    "\n",
    "ax=plt.gca();\n",
    "ax.xaxis.set_ticks_position('bottom')\n",
    "ax.yaxis.set_ticks_position('left')\n",
    "ax.spines['left'].set_position(('data', 0))\n",
    "ax.spines['top'].set_visible(False)\n",
    "ax.spines['right'].set_visible(False)\n",
    "#ax.spines['left'].set_smart_bounds(True)\n",
    "#ax.spines['bottom'].set_smart_bounds(True)\n",
    "plt.legend(loc='center left', fancybox=True, framealpha=0., bbox_to_anchor=(1.05, 0.5))\n",
    "\n",
    "plt.savefig('/tmp/fig2.png', bbox_inches='tight', dpi=300)"
   ]
  },
  {
   "cell_type": "markdown",
   "metadata": {
    "id": "gEgaaos6TWYt"
   },
   "source": [
    "### Case 2: MAP Neural Network Regression with Heteroscedastic Uncertainty"
   ]
  },
  {
   "cell_type": "code",
   "execution_count": 29,
   "metadata": {
    "colab": {
     "base_uri": "https://localhost:8080/"
    },
    "id": "F4NnGnszthbA",
    "outputId": "090ba5bc-2001-47ec-ff89-184aa6b3ff74"
   },
   "outputs": [
    {
     "name": "stdout",
     "output_type": "stream",
     "text": [
      "[-3.7108586e-04 -2.0799157e-03  3.5292208e-02 -9.1406189e-02\n",
      "  8.6128727e-02  1.6743754e-01  2.3503611e-02  7.6697688e-09\n",
      " -3.2665358e-08 -1.5027208e-04 -8.2380980e-02 -1.2016506e-03\n",
      "  2.5061323e-04 -4.2595595e-08 -3.2243662e-04 -3.4951558e-05\n",
      " -6.8986952e-02 -1.9726292e-03 -2.4820928e-04 -2.0538645e-03\n",
      " -3.6387870e-03 -7.7580777e-04 -2.4358779e-03 -1.8665043e-04\n",
      "  6.6255480e-03 -2.7966764e-04  1.7960625e-02  1.4940076e-07\n",
      " -5.5524027e-03 -2.3366796e-05 -3.5992896e-06 -2.5545543e-03\n",
      "  5.6686471e-03 -9.7552576e-05 -1.7180632e-01 -1.5408838e-04\n",
      " -6.9659226e-02  6.0915295e-03 -6.9708950e-10 -1.5528512e-04\n",
      " -7.4113063e-06 -5.4474291e-04  2.5097273e-02 -2.4252374e-06\n",
      "  2.5831279e-09 -2.1684372e-03 -8.5332394e-02  6.5867499e-02\n",
      " -1.7690818e-05  4.5674641e-02  3.3336211e-02  4.1673847e-09\n",
      " -2.6008025e-02 -1.6444674e-03 -1.7188695e-05 -9.1296386e-07\n",
      "  1.4757317e-03 -1.1191782e-02 -7.8006007e-05 -1.3117234e-01\n",
      " -6.0821383e-04 -2.6134852e-01 -9.6183387e-05 -2.2128548e-05\n",
      "  1.8055759e-02 -1.2396696e-06 -7.8553050e-05 -1.3199747e-02\n",
      "  1.5344212e-02 -1.0588229e-02 -5.8801606e-04 -1.9026185e-04\n",
      " -1.1027446e-03 -3.0797347e-09 -7.7698725e-10 -5.1247895e-02\n",
      " -5.4500708e-03  7.8328839e-08 -1.3119468e-02 -7.8572314e-03\n",
      " -1.5376342e-07 -9.3061298e-02 -5.0512742e-02  1.7616294e-02\n",
      "  1.2775229e-01 -2.7663997e-01 -3.5389913e-10  3.1378586e-03\n",
      " -1.6604899e-04  3.0508839e-02  3.9251044e-04  1.2077086e-02\n",
      " -1.2804412e-04 -7.2325128e-03 -1.7858492e-03 -7.6623238e-08\n",
      "  7.8081325e-02  1.3137962e-01 -4.7457303e-07 -1.6514632e-07]\n",
      "[-2.6428418e-03 -5.2889071e-02 -4.0507853e-02  9.5942676e-01\n",
      " -6.2628098e-02  9.6249229e-01 -3.2293934e-01 -2.2603315e-05\n",
      " -1.0698805e-06 -3.4993901e-03  3.2794362e-01 -4.1866018e-03\n",
      " -1.8459834e-01 -4.1165342e-07  1.0049968e-03 -1.0819634e-03\n",
      "  2.6920569e-01 -3.9314412e-02 -2.9278651e-04 -7.3892777e-03\n",
      " -4.1241277e-04 -1.4800329e-02 -1.3086890e-03 -1.4732204e-03\n",
      " -8.9178331e-02 -2.3227686e-03 -2.5199148e-01 -2.3459319e-05\n",
      " -9.0653948e-02  1.3981556e-02 -2.7181888e-05 -7.4396911e-03\n",
      " -1.0007238e-02 -1.9964471e-03 -1.3380209e-01  5.6483777e-04\n",
      " -1.4859107e-01  4.3911695e-02 -7.0887694e-08 -1.0246731e-02\n",
      " -9.6336618e-05 -3.5305859e-03 -3.2393608e-02 -5.3829972e-05\n",
      " -1.5984699e-07 -7.7056605e-03  3.3317226e-01 -1.8850920e-01\n",
      " -6.8936970e-05  4.1933534e-01 -4.6056169e-01 -6.0440237e-07\n",
      "  1.2567086e+00  1.0076013e-01 -3.8036851e-05 -6.2127248e-05\n",
      "  1.2574573e-02  1.1644667e-01  3.7274089e-02  5.1525098e-01\n",
      " -1.1962462e-02 -1.9103812e-01 -1.3441161e-02 -6.9043710e-04\n",
      " -2.5241989e-01 -5.5750770e-05 -1.4296172e-03 -4.5175280e-02\n",
      " -2.0975433e-01 -2.7882200e-02 -2.0944097e-03 -1.1488282e-04\n",
      " -1.5423773e-02 -3.3781007e-09 -7.2302414e-10  5.1671422e-01\n",
      " -1.8520294e-02 -1.1295637e-06  5.1307764e-02 -1.6959563e-02\n",
      " -3.8547986e-07 -8.3176494e-02  2.4135241e-01 -1.5810819e-02\n",
      " -2.5643310e-02 -2.0282525e-01 -1.8356815e-06 -4.2626981e-02\n",
      "  1.0670940e-02 -4.2033890e-01 -9.9920749e-04 -1.6952805e-02\n",
      " -2.7016199e-03  7.1978003e-02  7.7982500e-02  1.9541244e-06\n",
      " -1.7914070e-02  7.9002243e-01 -9.1524989e-06 -6.0649554e-06]\n",
      "[ 7.53776054e-04 -4.02694801e-03 -1.17902346e-01  2.20773071e-01\n",
      " -1.28091797e-01  9.50221002e-01 -1.88971817e-01  7.83985161e-05\n",
      "  6.05473133e-07 -4.07357933e-04  2.90775210e-01 -4.87654610e-03\n",
      "  4.54195254e-02 -7.96426093e-07  9.90622444e-04  1.73794944e-03\n",
      "  2.64782608e-01 -5.55048995e-02 -4.02895676e-04 -1.34760141e-03\n",
      "  6.12457981e-03  6.27334882e-03  1.20603642e-03  2.15675900e-04\n",
      " -5.30660190e-02  2.02466827e-03 -1.41475037e-01  9.51890324e-05\n",
      " -4.18990441e-02  1.10351667e-02  5.93871073e-06 -3.76346684e-03\n",
      " -4.20675948e-02 -4.45712032e-03 -1.79984465e-01  5.38429478e-04\n",
      "  6.53088540e-02  2.90708300e-02  1.73832149e-08 -9.83022898e-03\n",
      " -4.74605622e-05  9.42694431e-04 -1.08587101e-01  6.60598234e-05\n",
      "  2.55290871e-07 -6.53033552e-04  3.01768720e-01 -3.61306034e-02\n",
      "  5.15287002e-06  3.33915979e-01 -3.16097170e-01 -1.05631756e-07\n",
      "  8.47593069e-01  5.78776337e-02  2.55522036e-06 -5.02195398e-05\n",
      "  1.39998626e-02  6.27769083e-02  3.07694636e-02  4.32741195e-01\n",
      " -7.36394525e-03 -3.00591528e-01 -1.11959009e-04  7.17196788e-04\n",
      " -9.48041528e-02  2.94759557e-05 -3.26525478e-04 -1.57198627e-02\n",
      " -1.20022774e-01 -5.40253520e-03 -1.20315305e-03 -4.81750540e-05\n",
      " -5.05358493e-03  2.84816171e-09 -7.75458753e-10  2.79084831e-01\n",
      " -1.04796849e-02 -5.05586513e-07  6.62860125e-02  7.28871906e-03\n",
      "  9.62070690e-09 -1.21815108e-01  1.31845787e-01 -2.56924704e-02\n",
      " -1.44746229e-01 -3.13146889e-01  3.96267978e-07 -2.15364806e-02\n",
      "  4.11762809e-03 -2.87148714e-01 -4.15866822e-03 -5.48205338e-02\n",
      " -4.96015232e-03  3.32845487e-02  2.97090057e-02  2.96031658e-07\n",
      " -1.43886283e-01  6.64035976e-01  6.91124569e-07  3.33117205e-05]\n",
      "1.5270603\n",
      "[ 3.18028178e-04  9.43004037e-04  3.26736160e-02 -5.58634460e-01\n",
      "  7.25270137e-02  4.78768200e-02 -3.97771131e-03  2.62860558e-05\n",
      "  4.21255066e-07 -8.89198948e-03 -8.99893343e-02 -1.84124813e-03\n",
      " -3.98232080e-02  2.37686359e-09  1.65935431e-04 -8.83869288e-05\n",
      " -2.99814194e-02 -4.00506333e-03  8.19908746e-05  4.64129262e-04\n",
      "  6.98135933e-03  7.06772041e-03  1.70884340e-03  5.25317118e-05\n",
      " -1.03779172e-03  1.19193562e-03 -3.31180380e-03  6.06754693e-05\n",
      " -1.62056945e-02  4.57887101e-04  2.16816875e-06 -1.52025092e-03\n",
      "  5.21487882e-03  2.57213658e-04  1.57633945e-01  1.18228854e-04\n",
      "  8.97762403e-02  1.79870380e-03  1.89717770e-08 -3.83244478e-03\n",
      " -3.78213554e-05  2.53978738e-04  1.95128508e-02  6.53915049e-05\n",
      " -8.27493523e-08  1.78226735e-03 -5.32535315e-02 -2.15935409e-01\n",
      "  1.11809841e-05  1.14280181e-02 -5.64489840e-03  4.19918706e-06\n",
      " -1.03571801e-03  4.13023983e-04  1.18037924e-05 -4.52811255e-05\n",
      "  6.80710422e-04 -2.99704187e-02  1.17794261e-03 -1.27938062e-01\n",
      " -4.49744024e-04  2.23627970e-01 -8.30222145e-02  1.04401319e-04\n",
      " -6.15070201e-02 -3.19000401e-06 -1.55309215e-04  1.88950868e-03\n",
      " -2.64324876e-03  4.77760937e-03 -3.67077067e-04 -2.12400177e-04\n",
      " -3.35634453e-03  4.56446825e-10  4.22851421e-10 -4.79975604e-02\n",
      " -1.02793972e-03  2.90036439e-09  7.75133492e-03  1.14704110e-02\n",
      "  8.59196305e-08  7.69966021e-02 -8.78392234e-02  2.23035980e-02\n",
      "  1.43211186e-01  2.43845597e-01 -1.46069157e-08 -5.68046118e-04\n",
      " -4.32163302e-04 -5.54804225e-03  1.74820583e-04  7.44016515e-03\n",
      " -2.56471627e-04 -7.42350146e-03 -4.86128789e-04 -1.21841794e-07\n",
      "  9.44080129e-02  3.08666490e-02 -9.44606455e-08  4.09274871e-05]\n",
      "0.109158404\n"
     ]
    }
   ],
   "source": [
    "l2_reg = tf.keras.regularizers.l2(l2=0.00001)\n",
    "# Build model.\n",
    "input = tf.keras.layers.Input(1)\n",
    "h1 = tf.keras.layers.Dense(100,activation=tf.keras.activations.relu,kernel_regularizer=l2_reg,bias_regularizer=l2_reg)(input)\n",
    "m = tf.keras.layers.Dense(1,kernel_regularizer=l2_reg,bias_regularizer=l2_reg)(h1)\n",
    "s = tf.keras.layers.Dense(1,activation=tf.keras.activations.exponential,kernel_regularizer=l2_reg,bias_regularizer=l2_reg)(h1)\n",
    "p = tfp.layers.DistributionLambda(lambda t: tfd.Normal(loc=t[0], scale=t[1]))([m,s])\n",
    "model = tf.keras.Model(inputs=input, outputs=p)\n",
    "\n",
    "# Do inference.\n",
    "model.compile(optimizer=tf.optimizers.Adam(learning_rate=0.01), loss=expectednegloglik)\n",
    "model.fit(x, y, epochs=1000, verbose=False);\n",
    "\n",
    "# Profit.\n",
    "[print(np.squeeze(w.numpy())) for w in model.weights];\n",
    "yhat = model(x_tst)\n",
    "assert isinstance(yhat, tfd.Distribution)"
   ]
  },
  {
   "cell_type": "code",
   "execution_count": 30,
   "metadata": {
    "colab": {
     "base_uri": "https://localhost:8080/",
     "height": 138
    },
    "id": "fn4_FWV-ty03",
    "outputId": "a7dbf53a-40af-4f3d-bc8b-83a4a5222513"
   },
   "outputs": [
    {
     "data": {
      "image/png": "[encoded data removed]",
      "text/plain": [
       "<Figure size 432x108 with 1 Axes>"
      ]
     },
     "metadata": {
      "needs_background": "light"
     },
     "output_type": "display_data"
    }
   ],
   "source": [
    "plt.figure(figsize=[6, 1.5])  # inches\n",
    "plt.plot(x, y, 'b.', label='observed');\n",
    "\n",
    "m = yhat.mean()\n",
    "s = yhat.stddev()\n",
    "\n",
    "plt.plot(x_tst, m, 'r', linewidth=4, label='mean');\n",
    "plt.plot(x_tst, m + 2 * s, 'g', linewidth=2, label=r'mean + 2 stddev');\n",
    "plt.plot(x_tst, m - 2 * s, 'g', linewidth=2, label=r'mean - 2 stddev');\n",
    "\n",
    "plt.ylim(-0.,17);\n",
    "plt.yticks(np.linspace(0, 15, 4)[1:]);\n",
    "plt.xticks(np.linspace(*x_range, num=9));\n",
    "\n",
    "ax=plt.gca();\n",
    "ax.xaxis.set_ticks_position('bottom')\n",
    "ax.yaxis.set_ticks_position('left')\n",
    "ax.spines['left'].set_position(('data', 0))\n",
    "ax.spines['top'].set_visible(False)\n",
    "ax.spines['right'].set_visible(False)\n",
    "#ax.spines['left'].set_smart_bounds(True)\n",
    "#ax.spines['bottom'].set_smart_bounds(True)\n",
    "plt.legend(loc='center left', fancybox=True, framealpha=0., bbox_to_anchor=(1.05, 0.5))\n",
    "\n",
    "plt.savefig('/tmp/fig2.png', bbox_inches='tight', dpi=300)"
   ]
  },
  {
   "cell_type": "code",
   "execution_count": 26,
   "metadata": {
    "id": "-UbDziyxUM-A"
   },
   "outputs": [],
   "source": []
  }
 ],
 "metadata": {
  "colab": {
   "provenance": []
  },
  "kernelspec": {
   "display_name": "Python 3",
   "language": "python",
   "name": "python3"
  },
  "language_info": {
   "codemirror_mode": {
    "name": "ipython",
    "version": 3
   },
   "file_extension": ".py",
   "mimetype": "text/x-python",
   "name": "python",
   "nbconvert_exporter": "python",
   "pygments_lexer": "ipython3",
   "version": "3.6.3"
  }
 },
 "nbformat": 4,
 "nbformat_minor": 1
}
