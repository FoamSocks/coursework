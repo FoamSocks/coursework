{
 "cells": [
  {
   "cell_type": "code",
   "execution_count": 1,
   "metadata": {
    "colab": {
     "base_uri": "https://localhost:8080/"
    },
    "id": "6pFVkn-p_FeC",
    "outputId": "f3ec15d2-ee51-4ac3-df5a-0811c9b36e37"
   },
   "outputs": [
    {
     "name": "stderr",
     "output_type": "stream",
     "text": [
      "2023-10-21 04:29:02.652402: I tensorflow/core/util/port.cc:110] oneDNN custom operations are on. You may see slightly different numerical results due to floating-point round-off errors from different computation orders. To turn them off, set the environment variable `TF_ENABLE_ONEDNN_OPTS=0`.\n",
      "2023-10-21 04:29:02.717016: I tensorflow/core/platform/cpu_feature_guard.cc:182] This TensorFlow binary is optimized to use available CPU instructions in performance-critical operations.\n",
      "To enable the following instructions: AVX2 AVX512F AVX512_VNNI FMA, in other operations, rebuild TensorFlow with the appropriate compiler flags.\n",
      "2023-10-21 04:29:03.973043: W tensorflow/compiler/tf2tensorrt/utils/py_utils.cc:38] TF-TRT Warning: Could not find TensorRT\n"
     ]
    },
    {
     "name": "stdout",
     "output_type": "stream",
     "text": [
      "Library Versions:\n",
      "numpy: 1.26.0\n",
      "pandas: 2.1.1\n",
      "tensorflow: 2.13.1\n",
      "tensorflow probability: 0.21.0\n"
     ]
    }
   ],
   "source": [
    "import matplotlib.pyplot as plt\n",
    "import numpy as np\n",
    "import pandas as pd\n",
    "import tensorflow as tf\n",
    "import tensorflow_probability as tfp\n",
    "from sklearn.model_selection import train_test_split\n",
    "from sklearn.metrics import mean_squared_error\n",
    "\n",
    "print(\"Library Versions:\")\n",
    "print('numpy:',np.__version__)\n",
    "print('pandas:',pd.__version__)\n",
    "print('tensorflow:',tf.__version__)\n",
    "print('tensorflow probability:', tfp.__version__)"
   ]
  },
  {
   "cell_type": "code",
   "execution_count": 2,
   "metadata": {
    "id": "-IikbLn9_FeE"
   },
   "outputs": [],
   "source": [
    "\n",
    "n_epochs = 200\n",
    "verbose_option = True"
   ]
  },
  {
   "cell_type": "markdown",
   "metadata": {
    "id": "tsCT05cA_FeE"
   },
   "source": [
    "# Regression for Naval Plant Maintenance"
   ]
  },
  {
   "cell_type": "markdown",
   "metadata": {
    "id": "kTmsAZ3C_7fr"
   },
   "source": [
    "Load regression dataset"
   ]
  },
  {
   "cell_type": "code",
   "execution_count": 3,
   "metadata": {
    "colab": {
     "base_uri": "https://localhost:8080/",
     "height": 488
    },
    "id": "KS1jos8k_FeF",
    "outputId": "5c7455fa-7bc0-42ec-e900-fbab0bbe8e74",
    "scrolled": false
   },
   "outputs": [
    {
     "data": {
      "text/html": [
       "<div>\n",
       "<style scoped>\n",
       "    .dataframe tbody tr th:only-of-type {\n",
       "        vertical-align: middle;\n",
       "    }\n",
       "\n",
       "    .dataframe tbody tr th {\n",
       "        vertical-align: top;\n",
       "    }\n",
       "\n",
       "    .dataframe thead th {\n",
       "        text-align: right;\n",
       "    }\n",
       "</style>\n",
       "<table border=\"1\" class=\"dataframe\">\n",
       "  <thead>\n",
       "    <tr style=\"text-align: right;\">\n",
       "      <th></th>\n",
       "      <th>0</th>\n",
       "      <th>1</th>\n",
       "      <th>2</th>\n",
       "      <th>3</th>\n",
       "      <th>4</th>\n",
       "      <th>5</th>\n",
       "      <th>6</th>\n",
       "      <th>7</th>\n",
       "      <th>8</th>\n",
       "      <th>9</th>\n",
       "      <th>10</th>\n",
       "      <th>11</th>\n",
       "      <th>12</th>\n",
       "      <th>13</th>\n",
       "      <th>14</th>\n",
       "      <th>15</th>\n",
       "      <th>16</th>\n",
       "      <th>17</th>\n",
       "    </tr>\n",
       "  </thead>\n",
       "  <tbody>\n",
       "    <tr>\n",
       "      <th>0</th>\n",
       "      <td>1.14</td>\n",
       "      <td>3.0</td>\n",
       "      <td>290.0</td>\n",
       "      <td>1350.0</td>\n",
       "      <td>6680.0</td>\n",
       "      <td>7.58</td>\n",
       "      <td>7.58</td>\n",
       "      <td>464.0</td>\n",
       "      <td>288.0</td>\n",
       "      <td>551.0</td>\n",
       "      <td>1.10</td>\n",
       "      <td>0.998</td>\n",
       "      <td>5.95</td>\n",
       "      <td>1.02</td>\n",
       "      <td>7.14</td>\n",
       "      <td>0.082</td>\n",
       "      <td>0.95</td>\n",
       "      <td>0.975</td>\n",
       "    </tr>\n",
       "    <tr>\n",
       "      <th>1</th>\n",
       "      <td>2.09</td>\n",
       "      <td>6.0</td>\n",
       "      <td>6960.0</td>\n",
       "      <td>1380.0</td>\n",
       "      <td>6830.0</td>\n",
       "      <td>28.20</td>\n",
       "      <td>28.20</td>\n",
       "      <td>635.0</td>\n",
       "      <td>288.0</td>\n",
       "      <td>582.0</td>\n",
       "      <td>1.33</td>\n",
       "      <td>0.998</td>\n",
       "      <td>7.28</td>\n",
       "      <td>1.02</td>\n",
       "      <td>10.70</td>\n",
       "      <td>0.287</td>\n",
       "      <td>0.95</td>\n",
       "      <td>0.975</td>\n",
       "    </tr>\n",
       "    <tr>\n",
       "      <th>2</th>\n",
       "      <td>3.14</td>\n",
       "      <td>9.0</td>\n",
       "      <td>8380.0</td>\n",
       "      <td>1390.0</td>\n",
       "      <td>7110.0</td>\n",
       "      <td>60.40</td>\n",
       "      <td>60.40</td>\n",
       "      <td>606.0</td>\n",
       "      <td>288.0</td>\n",
       "      <td>588.0</td>\n",
       "      <td>1.39</td>\n",
       "      <td>0.998</td>\n",
       "      <td>7.57</td>\n",
       "      <td>1.02</td>\n",
       "      <td>13.10</td>\n",
       "      <td>0.259</td>\n",
       "      <td>0.95</td>\n",
       "      <td>0.975</td>\n",
       "    </tr>\n",
       "    <tr>\n",
       "      <th>3</th>\n",
       "      <td>4.16</td>\n",
       "      <td>12.0</td>\n",
       "      <td>14700.0</td>\n",
       "      <td>1550.0</td>\n",
       "      <td>7790.0</td>\n",
       "      <td>114.00</td>\n",
       "      <td>114.00</td>\n",
       "      <td>661.0</td>\n",
       "      <td>288.0</td>\n",
       "      <td>614.0</td>\n",
       "      <td>1.66</td>\n",
       "      <td>0.998</td>\n",
       "      <td>9.01</td>\n",
       "      <td>1.02</td>\n",
       "      <td>18.10</td>\n",
       "      <td>0.358</td>\n",
       "      <td>0.95</td>\n",
       "      <td>0.975</td>\n",
       "    </tr>\n",
       "    <tr>\n",
       "      <th>4</th>\n",
       "      <td>5.14</td>\n",
       "      <td>15.0</td>\n",
       "      <td>21600.0</td>\n",
       "      <td>1920.0</td>\n",
       "      <td>8490.0</td>\n",
       "      <td>175.00</td>\n",
       "      <td>175.00</td>\n",
       "      <td>731.0</td>\n",
       "      <td>288.0</td>\n",
       "      <td>646.0</td>\n",
       "      <td>2.08</td>\n",
       "      <td>0.998</td>\n",
       "      <td>11.20</td>\n",
       "      <td>1.03</td>\n",
       "      <td>26.40</td>\n",
       "      <td>0.522</td>\n",
       "      <td>0.95</td>\n",
       "      <td>0.975</td>\n",
       "    </tr>\n",
       "    <tr>\n",
       "      <th>...</th>\n",
       "      <td>...</td>\n",
       "      <td>...</td>\n",
       "      <td>...</td>\n",
       "      <td>...</td>\n",
       "      <td>...</td>\n",
       "      <td>...</td>\n",
       "      <td>...</td>\n",
       "      <td>...</td>\n",
       "      <td>...</td>\n",
       "      <td>...</td>\n",
       "      <td>...</td>\n",
       "      <td>...</td>\n",
       "      <td>...</td>\n",
       "      <td>...</td>\n",
       "      <td>...</td>\n",
       "      <td>...</td>\n",
       "      <td>...</td>\n",
       "      <td>...</td>\n",
       "    </tr>\n",
       "    <tr>\n",
       "      <th>11929</th>\n",
       "      <td>5.14</td>\n",
       "      <td>15.0</td>\n",
       "      <td>21600.0</td>\n",
       "      <td>1920.0</td>\n",
       "      <td>8470.0</td>\n",
       "      <td>175.00</td>\n",
       "      <td>175.00</td>\n",
       "      <td>682.0</td>\n",
       "      <td>288.0</td>\n",
       "      <td>629.0</td>\n",
       "      <td>2.09</td>\n",
       "      <td>0.998</td>\n",
       "      <td>11.00</td>\n",
       "      <td>1.03</td>\n",
       "      <td>23.80</td>\n",
       "      <td>0.471</td>\n",
       "      <td>1.00</td>\n",
       "      <td>1.000</td>\n",
       "    </tr>\n",
       "    <tr>\n",
       "      <th>11930</th>\n",
       "      <td>6.18</td>\n",
       "      <td>18.0</td>\n",
       "      <td>29800.0</td>\n",
       "      <td>2310.0</td>\n",
       "      <td>8800.0</td>\n",
       "      <td>246.00</td>\n",
       "      <td>246.00</td>\n",
       "      <td>747.0</td>\n",
       "      <td>288.0</td>\n",
       "      <td>659.0</td>\n",
       "      <td>2.51</td>\n",
       "      <td>0.998</td>\n",
       "      <td>13.10</td>\n",
       "      <td>1.03</td>\n",
       "      <td>32.70</td>\n",
       "      <td>0.647</td>\n",
       "      <td>1.00</td>\n",
       "      <td>1.000</td>\n",
       "    </tr>\n",
       "    <tr>\n",
       "      <th>11931</th>\n",
       "      <td>7.15</td>\n",
       "      <td>21.0</td>\n",
       "      <td>39000.0</td>\n",
       "      <td>2680.0</td>\n",
       "      <td>9120.0</td>\n",
       "      <td>332.00</td>\n",
       "      <td>332.00</td>\n",
       "      <td>796.0</td>\n",
       "      <td>288.0</td>\n",
       "      <td>680.0</td>\n",
       "      <td>2.98</td>\n",
       "      <td>0.998</td>\n",
       "      <td>15.40</td>\n",
       "      <td>1.04</td>\n",
       "      <td>42.10</td>\n",
       "      <td>0.834</td>\n",
       "      <td>1.00</td>\n",
       "      <td>1.000</td>\n",
       "    </tr>\n",
       "    <tr>\n",
       "      <th>11932</th>\n",
       "      <td>8.21</td>\n",
       "      <td>24.0</td>\n",
       "      <td>51000.0</td>\n",
       "      <td>3090.0</td>\n",
       "      <td>9300.0</td>\n",
       "      <td>438.00</td>\n",
       "      <td>438.00</td>\n",
       "      <td>893.0</td>\n",
       "      <td>288.0</td>\n",
       "      <td>722.0</td>\n",
       "      <td>3.59</td>\n",
       "      <td>0.998</td>\n",
       "      <td>18.30</td>\n",
       "      <td>1.04</td>\n",
       "      <td>58.10</td>\n",
       "      <td>1.150</td>\n",
       "      <td>1.00</td>\n",
       "      <td>1.000</td>\n",
       "    </tr>\n",
       "    <tr>\n",
       "      <th>11933</th>\n",
       "      <td>9.30</td>\n",
       "      <td>27.0</td>\n",
       "      <td>72800.0</td>\n",
       "      <td>3560.0</td>\n",
       "      <td>9740.0</td>\n",
       "      <td>645.00</td>\n",
       "      <td>645.00</td>\n",
       "      <td>1040.0</td>\n",
       "      <td>288.0</td>\n",
       "      <td>768.0</td>\n",
       "      <td>4.53</td>\n",
       "      <td>0.998</td>\n",
       "      <td>22.50</td>\n",
       "      <td>1.05</td>\n",
       "      <td>86.10</td>\n",
       "      <td>1.700</td>\n",
       "      <td>1.00</td>\n",
       "      <td>1.000</td>\n",
       "    </tr>\n",
       "  </tbody>\n",
       "</table>\n",
       "<p>11934 rows × 18 columns</p>\n",
       "</div>"
      ],
      "text/plain": [
       "         0     1        2       3       4       5       6       7      8   \\\n",
       "0      1.14   3.0    290.0  1350.0  6680.0    7.58    7.58   464.0  288.0   \n",
       "1      2.09   6.0   6960.0  1380.0  6830.0   28.20   28.20   635.0  288.0   \n",
       "2      3.14   9.0   8380.0  1390.0  7110.0   60.40   60.40   606.0  288.0   \n",
       "3      4.16  12.0  14700.0  1550.0  7790.0  114.00  114.00   661.0  288.0   \n",
       "4      5.14  15.0  21600.0  1920.0  8490.0  175.00  175.00   731.0  288.0   \n",
       "...     ...   ...      ...     ...     ...     ...     ...     ...    ...   \n",
       "11929  5.14  15.0  21600.0  1920.0  8470.0  175.00  175.00   682.0  288.0   \n",
       "11930  6.18  18.0  29800.0  2310.0  8800.0  246.00  246.00   747.0  288.0   \n",
       "11931  7.15  21.0  39000.0  2680.0  9120.0  332.00  332.00   796.0  288.0   \n",
       "11932  8.21  24.0  51000.0  3090.0  9300.0  438.00  438.00   893.0  288.0   \n",
       "11933  9.30  27.0  72800.0  3560.0  9740.0  645.00  645.00  1040.0  288.0   \n",
       "\n",
       "          9     10     11     12    13     14     15    16     17  \n",
       "0      551.0  1.10  0.998   5.95  1.02   7.14  0.082  0.95  0.975  \n",
       "1      582.0  1.33  0.998   7.28  1.02  10.70  0.287  0.95  0.975  \n",
       "2      588.0  1.39  0.998   7.57  1.02  13.10  0.259  0.95  0.975  \n",
       "3      614.0  1.66  0.998   9.01  1.02  18.10  0.358  0.95  0.975  \n",
       "4      646.0  2.08  0.998  11.20  1.03  26.40  0.522  0.95  0.975  \n",
       "...      ...   ...    ...    ...   ...    ...    ...   ...    ...  \n",
       "11929  629.0  2.09  0.998  11.00  1.03  23.80  0.471  1.00  1.000  \n",
       "11930  659.0  2.51  0.998  13.10  1.03  32.70  0.647  1.00  1.000  \n",
       "11931  680.0  2.98  0.998  15.40  1.04  42.10  0.834  1.00  1.000  \n",
       "11932  722.0  3.59  0.998  18.30  1.04  58.10  1.150  1.00  1.000  \n",
       "11933  768.0  4.53  0.998  22.50  1.05  86.10  1.700  1.00  1.000  \n",
       "\n",
       "[11934 rows x 18 columns]"
      ]
     },
     "execution_count": 3,
     "metadata": {},
     "output_type": "execute_result"
    }
   ],
   "source": [
    "npm = pd.read_csv('navalplantmaintenance.csv',header=None)\n",
    "npm"
   ]
  },
  {
   "cell_type": "markdown",
   "metadata": {
    "id": "bmqdSe1HAFm4"
   },
   "source": [
    "Split dataset into training and test datasets"
   ]
  },
  {
   "cell_type": "code",
   "execution_count": 4,
   "metadata": {
    "id": "8IFZRE6__uGx"
   },
   "outputs": [],
   "source": [
    "npm_train, npm_test = train_test_split(npm,test_size=0.25,random_state=42)"
   ]
  },
  {
   "cell_type": "markdown",
   "metadata": {
    "id": "hu3uGokoBQqZ"
   },
   "source": [
    "Create the training and test input matrices using the first 16 columns and the training and test target matrices using the 18th columns."
   ]
  },
  {
   "cell_type": "code",
   "execution_count": 5,
   "metadata": {
    "id": "84mZYs5K_m9f"
   },
   "outputs": [],
   "source": [
    "npm_train_np = npm_train.to_numpy()\n",
    "npm_test_np = npm_test.to_numpy()\n",
    "x_train_np = npm_train_np[:,:16]\n",
    "x_test_np = npm_test_np[:,:16]\n",
    "y_train_np = npm_train_np[:,17]\n",
    "y_test_np = npm_test_np[:,17]"
   ]
  },
  {
   "cell_type": "markdown",
   "metadata": {
    "id": "31BDK50UCheG"
   },
   "source": [
    "Z-score the input and output data using the training dataset statistics"
   ]
  },
  {
   "cell_type": "code",
   "execution_count": 6,
   "metadata": {
    "id": "dAnvfTwACgl2"
   },
   "outputs": [],
   "source": [
    "x_mu = x_train_np.mean(axis=0)\n",
    "x_sigma = x_train_np.std(axis=0)\n",
    "y_mu=y_train_np.mean(axis=0)\n",
    "y_sigma=y_train_np.std(axis=0)"
   ]
  },
  {
   "cell_type": "code",
   "execution_count": 7,
   "metadata": {
    "id": "E1Cuf-Q-DkHF"
   },
   "outputs": [],
   "source": [
    "def scale(x,x_mu,x_sigma):\n",
    "  x_sigma += 1e-16\n",
    "  return (x-x_mu)/x_sigma"
   ]
  },
  {
   "cell_type": "code",
   "execution_count": 8,
   "metadata": {
    "id": "TTKGrKJvD4bA"
   },
   "outputs": [],
   "source": [
    "def unscale(x,x_mu,x_sigma):\n",
    "  x_sigma += 1e-16\n",
    "  return x_sigma*x+x_mu"
   ]
  },
  {
   "cell_type": "code",
   "execution_count": 9,
   "metadata": {
    "id": "zOslGOGG_FeG"
   },
   "outputs": [],
   "source": [
    "x_train_np_z = scale(x_train_np,x_mu,x_sigma)\n",
    "y_train_np_z = scale(y_train_np,y_mu,y_sigma)\n",
    "x_test_np_z = scale(x_test_np,x_mu,x_sigma)\n",
    "y_test_np_z = scale(y_test_np,y_mu,y_sigma)"
   ]
  },
  {
   "cell_type": "markdown",
   "metadata": {
    "id": "ThaYyJS6_FeG"
   },
   "source": [
    "Using Tensoflow, perform non-linear regression."
   ]
  },
  {
   "cell_type": "code",
   "execution_count": 10,
   "metadata": {
    "id": "PlPF-xRaIBWw"
   },
   "outputs": [],
   "source": [
    "loss_object = tf.keras.losses.MeanSquaredError()"
   ]
  },
  {
   "cell_type": "code",
   "execution_count": 11,
   "metadata": {
    "colab": {
     "base_uri": "https://localhost:8080/"
    },
    "id": "Q_-4RTaL_FeI",
    "outputId": "21f07042-5daf-410b-9ac0-09730cc5b8d4",
    "scrolled": false
   },
   "outputs": [
    {
     "name": "stdout",
     "output_type": "stream",
     "text": [
      "Model: \"model\"\n",
      "_________________________________________________________________\n",
      " Layer (type)                Output Shape              Param #   \n",
      "=================================================================\n",
      " input_1 (InputLayer)        [(None, 16)]              0         \n",
      "                                                                 \n",
      " hidden1 (Dense)             (None, 50)                850       \n",
      "                                                                 \n",
      " hidden2 (Dense)             (None, 50)                2550      \n",
      "                                                                 \n",
      " mu (Dense)                  (None, 1)                 51        \n",
      "                                                                 \n",
      "=================================================================\n",
      "Total params: 3451 (13.48 KB)\n",
      "Trainable params: 3451 (13.48 KB)\n",
      "Non-trainable params: 0 (0.00 Byte)\n",
      "_________________________________________________________________\n",
      "None\n"
     ]
    },
    {
     "name": "stderr",
     "output_type": "stream",
     "text": [
      "2023-10-21 04:29:30.008419: I tensorflow/core/common_runtime/gpu/gpu_device.cc:1639] Created device /job:localhost/replica:0/task:0/device:GPU:0 with 46497 MB memory:  -> device: 0, name: NVIDIA RTX 6000 Ada Generation, pci bus id: 0000:1a:00.0, compute capability: 8.9\n",
      "2023-10-21 04:29:30.010036: I tensorflow/core/common_runtime/gpu/gpu_device.cc:1639] Created device /job:localhost/replica:0/task:0/device:GPU:1 with 46497 MB memory:  -> device: 1, name: NVIDIA RTX 6000 Ada Generation, pci bus id: 0000:1c:00.0, compute capability: 8.9\n",
      "2023-10-21 04:29:30.011380: I tensorflow/core/common_runtime/gpu/gpu_device.cc:1639] Created device /job:localhost/replica:0/task:0/device:GPU:2 with 46497 MB memory:  -> device: 2, name: NVIDIA RTX 6000 Ada Generation, pci bus id: 0000:1d:00.0, compute capability: 8.9\n",
      "2023-10-21 04:29:30.012204: I tensorflow/core/common_runtime/gpu/gpu_device.cc:1639] Created device /job:localhost/replica:0/task:0/device:GPU:3 with 46497 MB memory:  -> device: 3, name: NVIDIA RTX 6000 Ada Generation, pci bus id: 0000:1e:00.0, compute capability: 8.9\n",
      "2023-10-21 04:29:30.013462: I tensorflow/core/common_runtime/gpu/gpu_device.cc:1639] Created device /job:localhost/replica:0/task:0/device:GPU:4 with 22814 MB memory:  -> device: 4, name: Quadro RTX 6000, pci bus id: 0000:3d:00.0, compute capability: 7.5\n",
      "2023-10-21 04:29:30.014759: I tensorflow/core/common_runtime/gpu/gpu_device.cc:1639] Created device /job:localhost/replica:0/task:0/device:GPU:5 with 22814 MB memory:  -> device: 5, name: Quadro RTX 6000, pci bus id: 0000:3f:00.0, compute capability: 7.5\n",
      "2023-10-21 04:29:30.015565: I tensorflow/core/common_runtime/gpu/gpu_device.cc:1639] Created device /job:localhost/replica:0/task:0/device:GPU:6 with 22814 MB memory:  -> device: 6, name: Quadro RTX 6000, pci bus id: 0000:40:00.0, compute capability: 7.5\n",
      "2023-10-21 04:29:30.016348: I tensorflow/core/common_runtime/gpu/gpu_device.cc:1639] Created device /job:localhost/replica:0/task:0/device:GPU:7 with 22814 MB memory:  -> device: 7, name: Quadro RTX 6000, pci bus id: 0000:41:00.0, compute capability: 7.5\n"
     ]
    }
   ],
   "source": [
    "input = tf.keras.layers.Input(16)\n",
    "h1 = tf.keras.layers.Dense(50, activation=tf.keras.activations.relu, name=\"hidden1\")(input)\n",
    "h2 = tf.keras.layers.Dense(50, activation=tf.keras.activations.relu, name=\"hidden2\")(h1)\n",
    "m = tf.keras.layers.Dense(1, name=\"mu\")(h2)\n",
    "model = tf.keras.Model(inputs=input, outputs=m)\n",
    "\n",
    "model.compile(optimizer=tf.optimizers.SGD(learning_rate=0.1), loss=loss_object)\n",
    "print(model.summary())"
   ]
  },
  {
   "cell_type": "code",
   "execution_count": 12,
   "metadata": {
    "colab": {
     "base_uri": "https://localhost:8080/"
    },
    "id": "4u9qdraD_FeI",
    "outputId": "3bfa40fc-2196-4cd9-ed64-ab66037a748d"
   },
   "outputs": [
    {
     "name": "stdout",
     "output_type": "stream",
     "text": [
      "Epoch 1/200\n"
     ]
    },
    {
     "name": "stderr",
     "output_type": "stream",
     "text": [
      "2023-10-21 04:29:36.656375: I tensorflow/compiler/xla/stream_executor/cuda/cuda_blas.cc:606] TensorFloat-32 will be used for the matrix multiplication. This will only be logged once.\n",
      "2023-10-21 04:29:36.672327: I tensorflow/compiler/xla/service/service.cc:168] XLA service 0x7f39c1dadf80 initialized for platform CUDA (this does not guarantee that XLA will be used). Devices:\n",
      "2023-10-21 04:29:36.672361: I tensorflow/compiler/xla/service/service.cc:176]   StreamExecutor device (0): NVIDIA RTX 6000 Ada Generation, Compute Capability 8.9\n",
      "2023-10-21 04:29:36.672369: I tensorflow/compiler/xla/service/service.cc:176]   StreamExecutor device (1): NVIDIA RTX 6000 Ada Generation, Compute Capability 8.9\n",
      "2023-10-21 04:29:36.672376: I tensorflow/compiler/xla/service/service.cc:176]   StreamExecutor device (2): NVIDIA RTX 6000 Ada Generation, Compute Capability 8.9\n",
      "2023-10-21 04:29:36.672383: I tensorflow/compiler/xla/service/service.cc:176]   StreamExecutor device (3): NVIDIA RTX 6000 Ada Generation, Compute Capability 8.9\n",
      "2023-10-21 04:29:36.672389: I tensorflow/compiler/xla/service/service.cc:176]   StreamExecutor device (4): Quadro RTX 6000, Compute Capability 7.5\n",
      "2023-10-21 04:29:36.672396: I tensorflow/compiler/xla/service/service.cc:176]   StreamExecutor device (5): Quadro RTX 6000, Compute Capability 7.5\n",
      "2023-10-21 04:29:36.672402: I tensorflow/compiler/xla/service/service.cc:176]   StreamExecutor device (6): Quadro RTX 6000, Compute Capability 7.5\n",
      "2023-10-21 04:29:36.672409: I tensorflow/compiler/xla/service/service.cc:176]   StreamExecutor device (7): Quadro RTX 6000, Compute Capability 7.5\n",
      "2023-10-21 04:29:36.900494: I tensorflow/compiler/xla/stream_executor/cuda/cuda_dnn.cc:432] Loaded cuDNN version 8800\n",
      "2023-10-21 04:29:37.557292: I ./tensorflow/compiler/jit/device_compiler.h:186] Compiled cluster using XLA!  This line is logged at most once for the lifetime of the process.\n"
     ]
    },
    {
     "name": "stdout",
     "output_type": "stream",
     "text": [
      "280/280 [==============================] - 4s 2ms/step - loss: 0.9890\n",
      "Epoch 2/200\n",
      "280/280 [==============================] - 1s 2ms/step - loss: 0.9085\n",
      "Epoch 3/200\n",
      "280/280 [==============================] - 1s 2ms/step - loss: 0.8667\n",
      "Epoch 4/200\n",
      "280/280 [==============================] - 1s 2ms/step - loss: 0.7883\n",
      "Epoch 5/200\n",
      "280/280 [==============================] - 1s 2ms/step - loss: 0.7433\n",
      "Epoch 6/200\n",
      "280/280 [==============================] - 1s 2ms/step - loss: 0.7133\n",
      "Epoch 7/200\n",
      "280/280 [==============================] - 1s 2ms/step - loss: 0.6800\n",
      "Epoch 8/200\n",
      "280/280 [==============================] - 1s 2ms/step - loss: 0.6544\n",
      "Epoch 9/200\n",
      "280/280 [==============================] - 1s 2ms/step - loss: 0.6411\n",
      "Epoch 10/200\n",
      "280/280 [==============================] - 1s 2ms/step - loss: 0.6013\n",
      "Epoch 11/200\n",
      "280/280 [==============================] - 1s 2ms/step - loss: 0.5879\n",
      "Epoch 12/200\n",
      "280/280 [==============================] - 1s 2ms/step - loss: 0.5703\n",
      "Epoch 13/200\n",
      "280/280 [==============================] - 1s 2ms/step - loss: 0.5604\n",
      "Epoch 14/200\n",
      "280/280 [==============================] - 1s 2ms/step - loss: 0.5438\n",
      "Epoch 15/200\n",
      "280/280 [==============================] - 1s 2ms/step - loss: 0.5255\n",
      "Epoch 16/200\n",
      "280/280 [==============================] - 1s 2ms/step - loss: 0.5161\n",
      "Epoch 17/200\n",
      "280/280 [==============================] - 1s 2ms/step - loss: 0.4853\n",
      "Epoch 18/200\n",
      "280/280 [==============================] - 1s 2ms/step - loss: 0.5023\n",
      "Epoch 19/200\n",
      "280/280 [==============================] - 1s 2ms/step - loss: 0.4942\n",
      "Epoch 20/200\n",
      "280/280 [==============================] - 1s 2ms/step - loss: 0.4727\n",
      "Epoch 21/200\n",
      "280/280 [==============================] - 1s 2ms/step - loss: 0.4629\n",
      "Epoch 22/200\n",
      "280/280 [==============================] - 1s 2ms/step - loss: 0.4533\n",
      "Epoch 23/200\n",
      "280/280 [==============================] - 1s 2ms/step - loss: 0.4383\n",
      "Epoch 24/200\n",
      "280/280 [==============================] - 1s 2ms/step - loss: 0.4287\n",
      "Epoch 25/200\n",
      "280/280 [==============================] - 1s 2ms/step - loss: 0.4231\n",
      "Epoch 26/200\n",
      "280/280 [==============================] - 1s 2ms/step - loss: 0.3965\n",
      "Epoch 27/200\n",
      "280/280 [==============================] - 1s 2ms/step - loss: 0.3963\n",
      "Epoch 28/200\n",
      "280/280 [==============================] - 1s 2ms/step - loss: 0.4009\n",
      "Epoch 29/200\n",
      "280/280 [==============================] - 1s 2ms/step - loss: 0.3874\n",
      "Epoch 30/200\n",
      "280/280 [==============================] - 1s 2ms/step - loss: 0.3720\n",
      "Epoch 31/200\n",
      "280/280 [==============================] - 1s 2ms/step - loss: 0.3708\n",
      "Epoch 32/200\n",
      "280/280 [==============================] - 1s 2ms/step - loss: 0.3636\n",
      "Epoch 33/200\n",
      "280/280 [==============================] - 1s 2ms/step - loss: 0.3603\n",
      "Epoch 34/200\n",
      "280/280 [==============================] - 1s 2ms/step - loss: 0.3560\n",
      "Epoch 35/200\n",
      "280/280 [==============================] - 1s 2ms/step - loss: 0.3657\n",
      "Epoch 36/200\n",
      "280/280 [==============================] - 1s 2ms/step - loss: 0.3333\n",
      "Epoch 37/200\n",
      "280/280 [==============================] - 1s 2ms/step - loss: 0.3385\n",
      "Epoch 38/200\n",
      "280/280 [==============================] - 1s 2ms/step - loss: 0.3429\n",
      "Epoch 39/200\n",
      "280/280 [==============================] - 1s 2ms/step - loss: 0.3452\n",
      "Epoch 40/200\n",
      "280/280 [==============================] - 1s 2ms/step - loss: 0.3239\n",
      "Epoch 41/200\n",
      "280/280 [==============================] - 1s 2ms/step - loss: 0.3326\n",
      "Epoch 42/200\n",
      "280/280 [==============================] - 1s 2ms/step - loss: 0.2956\n",
      "Epoch 43/200\n",
      "280/280 [==============================] - 0s 2ms/step - loss: 0.3155\n",
      "Epoch 44/200\n",
      "280/280 [==============================] - 1s 2ms/step - loss: 0.3129\n",
      "Epoch 45/200\n",
      "280/280 [==============================] - 1s 2ms/step - loss: 0.3222\n",
      "Epoch 46/200\n",
      "280/280 [==============================] - 1s 2ms/step - loss: 0.2935\n",
      "Epoch 47/200\n",
      "280/280 [==============================] - 1s 2ms/step - loss: 0.2873\n",
      "Epoch 48/200\n",
      "280/280 [==============================] - 1s 2ms/step - loss: 0.2871\n",
      "Epoch 49/200\n",
      "280/280 [==============================] - 1s 2ms/step - loss: 0.2738\n",
      "Epoch 50/200\n",
      "280/280 [==============================] - 1s 2ms/step - loss: 0.2824\n",
      "Epoch 51/200\n",
      "280/280 [==============================] - 1s 2ms/step - loss: 0.2978\n",
      "Epoch 52/200\n",
      "280/280 [==============================] - 1s 2ms/step - loss: 0.2806\n",
      "Epoch 53/200\n",
      "280/280 [==============================] - 1s 2ms/step - loss: 0.2758\n",
      "Epoch 54/200\n",
      "280/280 [==============================] - 1s 2ms/step - loss: 0.2575\n",
      "Epoch 55/200\n",
      "280/280 [==============================] - 1s 2ms/step - loss: 0.2615\n",
      "Epoch 56/200\n",
      "280/280 [==============================] - 1s 2ms/step - loss: 0.2526\n",
      "Epoch 57/200\n",
      "280/280 [==============================] - 1s 2ms/step - loss: 0.2536\n",
      "Epoch 58/200\n",
      "280/280 [==============================] - 1s 2ms/step - loss: 0.2592\n",
      "Epoch 59/200\n",
      "280/280 [==============================] - 1s 2ms/step - loss: 0.2493\n",
      "Epoch 60/200\n",
      "280/280 [==============================] - 1s 2ms/step - loss: 0.2393\n",
      "Epoch 61/200\n",
      "280/280 [==============================] - 1s 2ms/step - loss: 0.2507\n",
      "Epoch 62/200\n",
      "280/280 [==============================] - 1s 2ms/step - loss: 0.2426\n",
      "Epoch 63/200\n",
      "280/280 [==============================] - 1s 2ms/step - loss: 0.2312\n",
      "Epoch 64/200\n",
      "280/280 [==============================] - 0s 2ms/step - loss: 0.2264\n",
      "Epoch 65/200\n",
      "280/280 [==============================] - 1s 2ms/step - loss: 0.2282\n",
      "Epoch 66/200\n",
      "280/280 [==============================] - 1s 2ms/step - loss: 0.2288\n",
      "Epoch 67/200\n",
      "280/280 [==============================] - 1s 2ms/step - loss: 0.2200\n",
      "Epoch 68/200\n",
      "280/280 [==============================] - 1s 2ms/step - loss: 0.2230\n",
      "Epoch 69/200\n",
      "280/280 [==============================] - 0s 2ms/step - loss: 0.2318\n",
      "Epoch 70/200\n",
      "280/280 [==============================] - 1s 2ms/step - loss: 0.2238\n",
      "Epoch 71/200\n",
      "280/280 [==============================] - 0s 2ms/step - loss: 0.2133\n",
      "Epoch 72/200\n",
      "280/280 [==============================] - 1s 2ms/step - loss: 0.2193\n",
      "Epoch 73/200\n",
      "280/280 [==============================] - 1s 2ms/step - loss: 0.2142\n",
      "Epoch 74/200\n",
      "280/280 [==============================] - 1s 2ms/step - loss: 0.2211\n",
      "Epoch 75/200\n",
      "280/280 [==============================] - 1s 2ms/step - loss: 0.2008\n",
      "Epoch 76/200\n",
      "280/280 [==============================] - 1s 2ms/step - loss: 0.2085\n",
      "Epoch 77/200\n",
      "280/280 [==============================] - 1s 2ms/step - loss: 0.2006\n",
      "Epoch 78/200\n",
      "280/280 [==============================] - 1s 2ms/step - loss: 0.2015\n",
      "Epoch 79/200\n",
      "280/280 [==============================] - 1s 2ms/step - loss: 0.1930\n",
      "Epoch 80/200\n",
      "280/280 [==============================] - 0s 2ms/step - loss: 0.1923\n",
      "Epoch 81/200\n",
      "280/280 [==============================] - 1s 2ms/step - loss: 0.1930\n",
      "Epoch 82/200\n",
      "280/280 [==============================] - 1s 2ms/step - loss: 0.1909\n",
      "Epoch 83/200\n",
      "280/280 [==============================] - 1s 2ms/step - loss: 0.1886\n",
      "Epoch 84/200\n",
      "280/280 [==============================] - 1s 2ms/step - loss: 0.1871\n",
      "Epoch 85/200\n",
      "280/280 [==============================] - 1s 2ms/step - loss: 0.1920\n",
      "Epoch 86/200\n",
      "280/280 [==============================] - 1s 2ms/step - loss: 0.1653\n",
      "Epoch 87/200\n",
      "280/280 [==============================] - 0s 2ms/step - loss: 0.1883\n",
      "Epoch 88/200\n",
      "280/280 [==============================] - 0s 2ms/step - loss: 0.1959\n",
      "Epoch 89/200\n",
      "280/280 [==============================] - 0s 2ms/step - loss: 0.2092\n",
      "Epoch 90/200\n",
      "280/280 [==============================] - 1s 2ms/step - loss: 0.1919\n",
      "Epoch 91/200\n",
      "280/280 [==============================] - 1s 2ms/step - loss: 0.1770\n",
      "Epoch 92/200\n",
      "280/280 [==============================] - 1s 2ms/step - loss: 0.1820\n",
      "Epoch 93/200\n",
      "280/280 [==============================] - 0s 2ms/step - loss: 0.1759\n",
      "Epoch 94/200\n",
      "280/280 [==============================] - 1s 2ms/step - loss: 0.1803\n",
      "Epoch 95/200\n",
      "280/280 [==============================] - 0s 2ms/step - loss: 0.1687\n",
      "Epoch 96/200\n",
      "280/280 [==============================] - 1s 2ms/step - loss: 0.1831\n",
      "Epoch 97/200\n",
      "280/280 [==============================] - 1s 2ms/step - loss: 0.1804\n",
      "Epoch 98/200\n",
      "280/280 [==============================] - 1s 2ms/step - loss: 0.1770\n",
      "Epoch 99/200\n",
      "280/280 [==============================] - 1s 2ms/step - loss: 0.1923\n",
      "Epoch 100/200\n",
      "280/280 [==============================] - 1s 2ms/step - loss: 0.1736\n",
      "Epoch 101/200\n",
      "280/280 [==============================] - 1s 2ms/step - loss: 0.1768\n",
      "Epoch 102/200\n",
      "280/280 [==============================] - 1s 2ms/step - loss: 0.1686\n",
      "Epoch 103/200\n",
      "280/280 [==============================] - 1s 2ms/step - loss: 0.1583\n",
      "Epoch 104/200\n",
      "280/280 [==============================] - 1s 2ms/step - loss: 0.1661\n",
      "Epoch 105/200\n",
      "280/280 [==============================] - 1s 2ms/step - loss: 0.1783\n",
      "Epoch 106/200\n",
      "280/280 [==============================] - 1s 2ms/step - loss: 0.1568\n",
      "Epoch 107/200\n",
      "280/280 [==============================] - 1s 2ms/step - loss: 0.1515\n",
      "Epoch 108/200\n",
      "280/280 [==============================] - 1s 2ms/step - loss: 0.1573\n",
      "Epoch 109/200\n",
      "280/280 [==============================] - 1s 2ms/step - loss: 0.1646\n",
      "Epoch 110/200\n",
      "280/280 [==============================] - 1s 2ms/step - loss: 0.1585\n",
      "Epoch 111/200\n",
      "280/280 [==============================] - 1s 2ms/step - loss: 0.1500\n",
      "Epoch 112/200\n",
      "280/280 [==============================] - 1s 2ms/step - loss: 0.1602\n",
      "Epoch 113/200\n",
      "280/280 [==============================] - 1s 2ms/step - loss: 0.1416\n",
      "Epoch 114/200\n",
      "280/280 [==============================] - 1s 2ms/step - loss: 0.1557\n",
      "Epoch 115/200\n",
      "280/280 [==============================] - 1s 2ms/step - loss: 0.1524\n",
      "Epoch 116/200\n",
      "280/280 [==============================] - 1s 2ms/step - loss: 0.1596\n",
      "Epoch 117/200\n",
      "280/280 [==============================] - 1s 2ms/step - loss: 0.1402\n",
      "Epoch 118/200\n",
      "280/280 [==============================] - 1s 2ms/step - loss: 0.1378\n",
      "Epoch 119/200\n",
      "280/280 [==============================] - 1s 2ms/step - loss: 0.1484\n",
      "Epoch 120/200\n",
      "280/280 [==============================] - 1s 2ms/step - loss: 0.1351\n",
      "Epoch 121/200\n",
      "280/280 [==============================] - 1s 2ms/step - loss: 0.1567\n",
      "Epoch 122/200\n",
      "280/280 [==============================] - 1s 2ms/step - loss: 0.1337\n",
      "Epoch 123/200\n",
      "280/280 [==============================] - 1s 2ms/step - loss: 0.1432\n",
      "Epoch 124/200\n",
      "280/280 [==============================] - 1s 2ms/step - loss: 0.1412\n",
      "Epoch 125/200\n",
      "280/280 [==============================] - 1s 2ms/step - loss: 0.1326\n",
      "Epoch 126/200\n",
      "280/280 [==============================] - 1s 2ms/step - loss: 0.1339\n",
      "Epoch 127/200\n",
      "280/280 [==============================] - 1s 2ms/step - loss: 0.1413\n",
      "Epoch 128/200\n",
      "280/280 [==============================] - 1s 2ms/step - loss: 0.1402\n",
      "Epoch 129/200\n",
      "280/280 [==============================] - 1s 2ms/step - loss: 0.1234\n",
      "Epoch 130/200\n",
      "280/280 [==============================] - 1s 2ms/step - loss: 0.1394\n",
      "Epoch 131/200\n",
      "280/280 [==============================] - 1s 2ms/step - loss: 0.1392\n",
      "Epoch 132/200\n",
      "280/280 [==============================] - 1s 2ms/step - loss: 0.1128\n",
      "Epoch 133/200\n",
      "280/280 [==============================] - 1s 2ms/step - loss: 0.1338\n",
      "Epoch 134/200\n",
      "280/280 [==============================] - 1s 2ms/step - loss: 0.1400\n",
      "Epoch 135/200\n",
      "280/280 [==============================] - 1s 2ms/step - loss: 0.1223\n",
      "Epoch 136/200\n",
      "280/280 [==============================] - 1s 2ms/step - loss: 0.1356\n",
      "Epoch 137/200\n",
      "280/280 [==============================] - 1s 2ms/step - loss: 0.1289\n",
      "Epoch 138/200\n",
      "280/280 [==============================] - 1s 2ms/step - loss: 0.1212\n",
      "Epoch 139/200\n",
      "280/280 [==============================] - 1s 2ms/step - loss: 0.1196\n",
      "Epoch 140/200\n",
      "280/280 [==============================] - 1s 2ms/step - loss: 0.1227\n",
      "Epoch 141/200\n",
      "280/280 [==============================] - 1s 2ms/step - loss: 0.1279\n",
      "Epoch 142/200\n",
      "280/280 [==============================] - 1s 2ms/step - loss: 0.1133\n",
      "Epoch 143/200\n",
      "280/280 [==============================] - 1s 2ms/step - loss: 0.1254\n",
      "Epoch 144/200\n",
      "280/280 [==============================] - 1s 2ms/step - loss: 0.1290\n",
      "Epoch 145/200\n",
      "280/280 [==============================] - 1s 2ms/step - loss: 0.1254\n",
      "Epoch 146/200\n",
      "280/280 [==============================] - 1s 2ms/step - loss: 0.1311\n",
      "Epoch 147/200\n",
      "280/280 [==============================] - 0s 2ms/step - loss: 0.1178\n",
      "Epoch 148/200\n",
      "280/280 [==============================] - 0s 2ms/step - loss: 0.1112\n",
      "Epoch 149/200\n",
      "280/280 [==============================] - 0s 2ms/step - loss: 0.1150\n",
      "Epoch 150/200\n",
      "280/280 [==============================] - 1s 2ms/step - loss: 0.1216\n",
      "Epoch 151/200\n",
      "280/280 [==============================] - 1s 2ms/step - loss: 0.1220\n",
      "Epoch 152/200\n",
      "280/280 [==============================] - 1s 2ms/step - loss: 0.1052\n",
      "Epoch 153/200\n",
      "280/280 [==============================] - 1s 2ms/step - loss: 0.1192\n",
      "Epoch 154/200\n",
      "280/280 [==============================] - 1s 2ms/step - loss: 0.1164\n",
      "Epoch 155/200\n",
      "280/280 [==============================] - 1s 2ms/step - loss: 0.1017\n",
      "Epoch 156/200\n",
      "280/280 [==============================] - 1s 2ms/step - loss: 0.1113\n",
      "Epoch 157/200\n",
      "280/280 [==============================] - 1s 2ms/step - loss: 0.1149\n",
      "Epoch 158/200\n",
      "280/280 [==============================] - 1s 2ms/step - loss: 0.1150\n",
      "Epoch 159/200\n",
      "280/280 [==============================] - 1s 2ms/step - loss: 0.0930\n",
      "Epoch 160/200\n",
      "280/280 [==============================] - 1s 2ms/step - loss: 0.1105\n",
      "Epoch 161/200\n",
      "280/280 [==============================] - 1s 2ms/step - loss: 0.1023\n",
      "Epoch 162/200\n",
      "280/280 [==============================] - 1s 2ms/step - loss: 0.0983\n",
      "Epoch 163/200\n",
      "280/280 [==============================] - 1s 2ms/step - loss: 0.0890\n",
      "Epoch 164/200\n",
      "280/280 [==============================] - 0s 2ms/step - loss: 0.1058\n",
      "Epoch 165/200\n",
      "280/280 [==============================] - 1s 2ms/step - loss: 0.1148\n",
      "Epoch 166/200\n",
      "280/280 [==============================] - 1s 2ms/step - loss: 0.1142\n",
      "Epoch 167/200\n",
      "280/280 [==============================] - 1s 2ms/step - loss: 0.1066\n",
      "Epoch 168/200\n",
      "280/280 [==============================] - 0s 2ms/step - loss: 0.0998\n",
      "Epoch 169/200\n",
      "280/280 [==============================] - 1s 2ms/step - loss: 0.0993\n",
      "Epoch 170/200\n",
      "280/280 [==============================] - 0s 2ms/step - loss: 0.1027\n",
      "Epoch 171/200\n",
      "280/280 [==============================] - 1s 2ms/step - loss: 0.1149\n",
      "Epoch 172/200\n",
      "280/280 [==============================] - 1s 2ms/step - loss: 0.0852\n",
      "Epoch 173/200\n",
      "280/280 [==============================] - 1s 2ms/step - loss: 0.1052\n",
      "Epoch 174/200\n",
      "280/280 [==============================] - 1s 2ms/step - loss: 0.1245\n",
      "Epoch 175/200\n",
      "280/280 [==============================] - 0s 2ms/step - loss: 0.1017\n",
      "Epoch 176/200\n",
      "280/280 [==============================] - 1s 2ms/step - loss: 0.0953\n",
      "Epoch 177/200\n",
      "280/280 [==============================] - 1s 2ms/step - loss: 0.0860\n",
      "Epoch 178/200\n",
      "280/280 [==============================] - 1s 2ms/step - loss: 0.0925\n",
      "Epoch 179/200\n",
      "280/280 [==============================] - 1s 2ms/step - loss: 0.0858\n",
      "Epoch 180/200\n",
      "280/280 [==============================] - 0s 2ms/step - loss: 0.0991\n",
      "Epoch 181/200\n",
      "280/280 [==============================] - 0s 2ms/step - loss: 0.0915\n",
      "Epoch 182/200\n",
      "280/280 [==============================] - 1s 2ms/step - loss: 0.0937\n",
      "Epoch 183/200\n",
      "280/280 [==============================] - 1s 2ms/step - loss: 0.0924\n",
      "Epoch 184/200\n",
      "280/280 [==============================] - 1s 2ms/step - loss: 0.0802\n",
      "Epoch 185/200\n",
      "280/280 [==============================] - 1s 2ms/step - loss: 0.0905\n",
      "Epoch 186/200\n",
      "280/280 [==============================] - 1s 2ms/step - loss: 0.0908\n",
      "Epoch 187/200\n",
      "280/280 [==============================] - 1s 2ms/step - loss: 0.0881\n",
      "Epoch 188/200\n",
      "280/280 [==============================] - 1s 2ms/step - loss: 0.0996\n",
      "Epoch 189/200\n",
      "280/280 [==============================] - 1s 2ms/step - loss: 0.0752\n",
      "Epoch 190/200\n",
      "280/280 [==============================] - 1s 2ms/step - loss: 0.0893\n",
      "Epoch 191/200\n",
      "280/280 [==============================] - 1s 2ms/step - loss: 0.0856\n",
      "Epoch 192/200\n",
      "280/280 [==============================] - 1s 2ms/step - loss: 0.0854\n",
      "Epoch 193/200\n",
      "280/280 [==============================] - 1s 2ms/step - loss: 0.0848\n",
      "Epoch 194/200\n",
      "280/280 [==============================] - 1s 2ms/step - loss: 0.0880\n",
      "Epoch 195/200\n",
      "280/280 [==============================] - 1s 2ms/step - loss: 0.0846\n",
      "Epoch 196/200\n",
      "280/280 [==============================] - 1s 2ms/step - loss: 0.0878\n",
      "Epoch 197/200\n",
      "280/280 [==============================] - 1s 2ms/step - loss: 0.0842\n",
      "Epoch 198/200\n",
      "280/280 [==============================] - 1s 2ms/step - loss: 0.0806\n",
      "Epoch 199/200\n",
      "280/280 [==============================] - 1s 2ms/step - loss: 0.0833\n",
      "Epoch 200/200\n",
      "280/280 [==============================] - 1s 2ms/step - loss: 0.0798\n"
     ]
    },
    {
     "data": {
      "text/plain": [
       "<keras.src.callbacks.History at 0x7f49d848c550>"
      ]
     },
     "execution_count": 12,
     "metadata": {},
     "output_type": "execute_result"
    }
   ],
   "source": [
    "# Training\n",
    "model.fit(x_train_np_z, y_train_np_z, epochs=n_epochs, verbose=verbose_option)"
   ]
  },
  {
   "cell_type": "markdown",
   "metadata": {
    "id": "43Dpn1DJQX-1"
   },
   "source": [
    "Compute the Mean Squared Error (MSE) for the trained non-linear homoscedastic regression model for the test data"
   ]
  },
  {
   "cell_type": "code",
   "execution_count": 13,
   "metadata": {
    "colab": {
     "base_uri": "https://localhost:8080/"
    },
    "id": "6SWwnVIa_FeI",
    "outputId": "07f07c55-56c5-488d-b49d-a2592598ac79"
   },
   "outputs": [
    {
     "name": "stdout",
     "output_type": "stream",
     "text": [
      "MSE: 5.301783104445356e-06\n"
     ]
    }
   ],
   "source": [
    "y_test_pred_z = model(x_test_np_z)\n",
    "y_test_pred = unscale(y_test_pred_z,y_mu,y_sigma) #TODO: Calculate the un-z-scored predicted mean\n",
    "print('MSE:', mean_squared_error(y_test_np, y_test_pred.numpy()))"
   ]
  },
  {
   "cell_type": "markdown",
   "metadata": {
    "id": "ThVRSgim4tKC"
   },
   "source": [
    "1. Create white-box, untargeted PGD adversarial examples with an L-inf bound of 0.03 for the test set for the non-linear regression model."
   ]
  },
  {
   "cell_type": "code",
   "execution_count": 14,
   "metadata": {},
   "outputs": [],
   "source": [
    "def create_adversarial_pattern(model,input_example, target,loss_object,steps=5):\n",
    "    input_example = tf.convert_to_tensor(input_example)\n",
    "    noise = tf.zeros_like(input_example)\n",
    "    for i in range(steps):\n",
    "        with tf.GradientTape() as tape:\n",
    "            tape.watch(noise)\n",
    "            prediction = model(input_example+noise)\n",
    "            loss = loss_object(target, prediction)\n",
    "    \n",
    "            # Get the gradients of the loss w.r.t to the input example.\n",
    "        gradient = tape.gradient(loss, noise)\n",
    "            # Get the sign of the gradients to create the perturbation\n",
    "        noise += tf.sign(gradient)*0.01\n",
    "        noise = tf.clip_by_value(noise, -0.03, 0.03) \n",
    "    return noise"
   ]
  },
  {
   "cell_type": "code",
   "execution_count": 15,
   "metadata": {},
   "outputs": [],
   "source": [
    "noise_np_z = np.zeros(shape=x_test_np_z.shape)\n",
    "for i in range(x_test_np_z.shape[0]):\n",
    "    noise_np_z[i] = create_adversarial_pattern(model,np.reshape(x_test_np_z[i],[1,-1]), y_test_np_z[i],loss_object)"
   ]
  },
  {
   "cell_type": "markdown",
   "metadata": {
    "id": "phCZTE3D5dom"
   },
   "source": [
    "2. Compute the Mean Squared Error (MSE) for the trained non-linear regression model for white-box, untargeted PGD adversarial examples with an L-inf bound of 0.03."
   ]
  },
  {
   "cell_type": "code",
   "execution_count": 20,
   "metadata": {
    "id": "JqdRUNOx5qLs"
   },
   "outputs": [
    {
     "name": "stdout",
     "output_type": "stream",
     "text": [
      "MSE for Epsilon = 0.01: 0.0003017997693821864\n"
     ]
    }
   ],
   "source": [
    "eps = 0.01\n",
    "y_test_pred_z = model(x_test_np_z+noise_np_z) \n",
    "y_test_pred = unscale(y_test_pred_z,y_mu,y_sigma)\n",
    "print('MSE for Epsilon = ' + str(eps)+':', mean_squared_error(y_test_np, y_test_pred.numpy()))"
   ]
  },
  {
   "cell_type": "markdown",
   "metadata": {
    "id": "6Bzsa9lp_FeJ"
   },
   "source": [
    "# Classification for Ship Detection\n"
   ]
  },
  {
   "cell_type": "markdown",
   "metadata": {
    "id": "-12maakP7JxW"
   },
   "source": [
    "Load Ship Detection Dataset"
   ]
  },
  {
   "cell_type": "code",
   "execution_count": 22,
   "metadata": {
    "id": "HyJTcSuO6qMi"
   },
   "outputs": [
    {
     "name": "stdout",
     "output_type": "stream",
     "text": [
      "Found 4000 files belonging to 2 classes.\n",
      "Using 3200 files for training.\n",
      "Using 800 files for validation.\n"
     ]
    }
   ],
   "source": [
    "import tensorflow as tf\n",
    "from tensorflow import keras\n",
    "from tensorflow.keras import layers\n",
    "\n",
    "ROOT_PATH = \"shipsnet\"\n",
    "LR = 1e-3\n",
    "BATCH_SIZE=1000\n",
    "\n",
    "def normalize_img(image, label):\n",
    "    return (tf.cast(image, tf.float32) / 255.0, label)\n",
    "\n",
    "# https://www.tensorflow.org/api_docs/python/tf/keras/utils/image_dataset_from_directory\n",
    "train_dataset, test_dataset = tf.keras.utils.image_dataset_from_directory(ROOT_PATH,\n",
    "                            labels = 'inferred',\n",
    "                            label_mode = 'categorical',\n",
    "                            class_names = None,\n",
    "                            color_mode = \"rgb\",\n",
    "                            batch_size = BATCH_SIZE,\n",
    "                            image_size = (80, 80),\n",
    "                            shuffle = True,\n",
    "                            seed = 42,\n",
    "                            subset=\"both\",\n",
    "                            validation_split = 0.2,\n",
    ")\n",
    "\n",
    "train_dataset = train_dataset.map(normalize_img, num_parallel_calls=tf.data.AUTOTUNE)\n",
    "train_dataset = train_dataset.cache()\n",
    "train_dataset = train_dataset.prefetch(tf.data.AUTOTUNE)\n",
    "\n",
    "test_dataset = test_dataset.map(normalize_img, num_parallel_calls=tf.data.AUTOTUNE)\n",
    "test_dataset = test_dataset.cache()\n",
    "test_dataset = test_dataset.prefetch(tf.data.AUTOTUNE)"
   ]
  },
  {
   "cell_type": "markdown",
   "metadata": {
    "id": "nu0wsOv-96rG"
   },
   "source": [
    "Using Tensoflow, perform  non-linear binary classification model for the classification dataset."
   ]
  },
  {
   "cell_type": "code",
   "execution_count": 23,
   "metadata": {
    "id": "BK6Ujsag7Pa0"
   },
   "outputs": [],
   "source": [
    "inputs = layers.Input(shape=(80,80,3))\n",
    "flat = layers.Flatten()(inputs)\n",
    "h1 = layers.Dense(50, activation=\"relu\")(flat)\n",
    "h2 = layers.Dense(50, activation=\"relu\")(h1)\n",
    "h3 = layers.Dense(50, activation=\"relu\")(h2)\n",
    "p = layers.Dense(2,activation=tf.keras.activations.softmax)(h3)\n",
    "\n",
    "model = keras.Model(inputs=inputs, outputs=p)\n",
    "\n",
    "model.compile(\n",
    "    loss=tf.keras.losses.CategoricalCrossentropy(from_logits=False),\n",
    "    optimizer=tf.keras.optimizers.Adam(LR),\n",
    "    metrics=[tf.keras.metrics.CategoricalAccuracy(),\n",
    "    tf.keras.metrics.CategoricalCrossentropy(from_logits=False)]\n",
    ")"
   ]
  },
  {
   "cell_type": "code",
   "execution_count": 24,
   "metadata": {
    "id": "-OciPSGu-jLx"
   },
   "outputs": [
    {
     "name": "stdout",
     "output_type": "stream",
     "text": [
      "Epoch 1/200\n"
     ]
    },
    {
     "name": "stderr",
     "output_type": "stream",
     "text": [
      "2023-10-21 04:38:04.580313: I tensorflow/compiler/mlir/tensorflow/utils/dump_mlir_util.cc:255] disabling MLIR crash reproducer, set env var `MLIR_CRASH_REPRODUCER_DIRECTORY` to enable.\n"
     ]
    },
    {
     "name": "stdout",
     "output_type": "stream",
     "text": [
      "4/4 [==============================] - 3s 16ms/step - loss: 0.9652 - categorical_accuracy: 0.6741 - categorical_crossentropy: 0.9652\n",
      "Epoch 2/200\n",
      "4/4 [==============================] - 0s 14ms/step - loss: 0.6139 - categorical_accuracy: 0.6356 - categorical_crossentropy: 0.6139\n",
      "Epoch 3/200\n",
      "4/4 [==============================] - 0s 18ms/step - loss: 0.5391 - categorical_accuracy: 0.7909 - categorical_crossentropy: 0.5391\n",
      "Epoch 4/200\n",
      "4/4 [==============================] - 0s 14ms/step - loss: 0.5140 - categorical_accuracy: 0.7844 - categorical_crossentropy: 0.5140\n",
      "Epoch 5/200\n",
      "4/4 [==============================] - 0s 16ms/step - loss: 0.4418 - categorical_accuracy: 0.8022 - categorical_crossentropy: 0.4418\n",
      "Epoch 6/200\n",
      "4/4 [==============================] - 0s 14ms/step - loss: 0.3963 - categorical_accuracy: 0.8313 - categorical_crossentropy: 0.3963\n",
      "Epoch 7/200\n",
      "4/4 [==============================] - 0s 16ms/step - loss: 0.3754 - categorical_accuracy: 0.8394 - categorical_crossentropy: 0.3754\n",
      "Epoch 8/200\n",
      "4/4 [==============================] - 0s 13ms/step - loss: 0.3715 - categorical_accuracy: 0.8400 - categorical_crossentropy: 0.3715\n",
      "Epoch 9/200\n",
      "4/4 [==============================] - 0s 15ms/step - loss: 0.3737 - categorical_accuracy: 0.8406 - categorical_crossentropy: 0.3737\n",
      "Epoch 10/200\n",
      "4/4 [==============================] - 0s 14ms/step - loss: 0.3755 - categorical_accuracy: 0.8459 - categorical_crossentropy: 0.3755\n",
      "Epoch 11/200\n",
      "4/4 [==============================] - 0s 13ms/step - loss: 0.3952 - categorical_accuracy: 0.8425 - categorical_crossentropy: 0.3952\n",
      "Epoch 12/200\n",
      "4/4 [==============================] - 0s 13ms/step - loss: 0.4306 - categorical_accuracy: 0.8313 - categorical_crossentropy: 0.4306\n",
      "Epoch 13/200\n",
      "4/4 [==============================] - 0s 18ms/step - loss: 0.3995 - categorical_accuracy: 0.8406 - categorical_crossentropy: 0.3995\n",
      "Epoch 14/200\n",
      "4/4 [==============================] - 0s 14ms/step - loss: 0.3477 - categorical_accuracy: 0.8544 - categorical_crossentropy: 0.3477\n",
      "Epoch 15/200\n",
      "4/4 [==============================] - 0s 13ms/step - loss: 0.3168 - categorical_accuracy: 0.8662 - categorical_crossentropy: 0.3168\n",
      "Epoch 16/200\n",
      "4/4 [==============================] - 0s 12ms/step - loss: 0.3123 - categorical_accuracy: 0.8662 - categorical_crossentropy: 0.3123\n",
      "Epoch 17/200\n",
      "4/4 [==============================] - 0s 13ms/step - loss: 0.3295 - categorical_accuracy: 0.8641 - categorical_crossentropy: 0.3295\n",
      "Epoch 18/200\n",
      "4/4 [==============================] - 0s 15ms/step - loss: 0.3343 - categorical_accuracy: 0.8628 - categorical_crossentropy: 0.3343\n",
      "Epoch 19/200\n",
      "4/4 [==============================] - 0s 13ms/step - loss: 0.3197 - categorical_accuracy: 0.8672 - categorical_crossentropy: 0.3197\n",
      "Epoch 20/200\n",
      "4/4 [==============================] - 0s 13ms/step - loss: 0.3021 - categorical_accuracy: 0.8700 - categorical_crossentropy: 0.3021\n",
      "Epoch 21/200\n",
      "4/4 [==============================] - 0s 12ms/step - loss: 0.2919 - categorical_accuracy: 0.8741 - categorical_crossentropy: 0.2919\n",
      "Epoch 22/200\n",
      "4/4 [==============================] - 0s 19ms/step - loss: 0.2914 - categorical_accuracy: 0.8747 - categorical_crossentropy: 0.2914\n",
      "Epoch 23/200\n",
      "4/4 [==============================] - 0s 14ms/step - loss: 0.2965 - categorical_accuracy: 0.8766 - categorical_crossentropy: 0.2965\n",
      "Epoch 24/200\n",
      "4/4 [==============================] - 0s 13ms/step - loss: 0.3059 - categorical_accuracy: 0.8753 - categorical_crossentropy: 0.3059\n",
      "Epoch 25/200\n",
      "4/4 [==============================] - 0s 13ms/step - loss: 0.3153 - categorical_accuracy: 0.8744 - categorical_crossentropy: 0.3153\n",
      "Epoch 26/200\n",
      "4/4 [==============================] - 0s 14ms/step - loss: 0.3145 - categorical_accuracy: 0.8731 - categorical_crossentropy: 0.3145\n",
      "Epoch 27/200\n",
      "4/4 [==============================] - 0s 15ms/step - loss: 0.3020 - categorical_accuracy: 0.8737 - categorical_crossentropy: 0.3020\n",
      "Epoch 28/200\n",
      "4/4 [==============================] - 0s 16ms/step - loss: 0.2858 - categorical_accuracy: 0.8841 - categorical_crossentropy: 0.2858\n",
      "Epoch 29/200\n",
      "4/4 [==============================] - 0s 13ms/step - loss: 0.2993 - categorical_accuracy: 0.8791 - categorical_crossentropy: 0.2993\n",
      "Epoch 30/200\n",
      "4/4 [==============================] - 0s 13ms/step - loss: 0.3614 - categorical_accuracy: 0.8625 - categorical_crossentropy: 0.3614\n",
      "Epoch 31/200\n",
      "4/4 [==============================] - 0s 12ms/step - loss: 0.3506 - categorical_accuracy: 0.8600 - categorical_crossentropy: 0.3506\n",
      "Epoch 32/200\n",
      "4/4 [==============================] - 0s 16ms/step - loss: 0.2954 - categorical_accuracy: 0.8784 - categorical_crossentropy: 0.2954\n",
      "Epoch 33/200\n",
      "4/4 [==============================] - 0s 12ms/step - loss: 0.2652 - categorical_accuracy: 0.8916 - categorical_crossentropy: 0.2652\n",
      "Epoch 34/200\n",
      "4/4 [==============================] - 0s 13ms/step - loss: 0.2517 - categorical_accuracy: 0.8934 - categorical_crossentropy: 0.2517\n",
      "Epoch 35/200\n",
      "4/4 [==============================] - 0s 15ms/step - loss: 0.2580 - categorical_accuracy: 0.8931 - categorical_crossentropy: 0.2580\n",
      "Epoch 36/200\n",
      "4/4 [==============================] - 0s 15ms/step - loss: 0.2729 - categorical_accuracy: 0.8891 - categorical_crossentropy: 0.2729\n",
      "Epoch 37/200\n",
      "4/4 [==============================] - 0s 15ms/step - loss: 0.2692 - categorical_accuracy: 0.8894 - categorical_crossentropy: 0.2692\n",
      "Epoch 38/200\n",
      "4/4 [==============================] - 0s 16ms/step - loss: 0.2547 - categorical_accuracy: 0.8913 - categorical_crossentropy: 0.2547\n",
      "Epoch 39/200\n",
      "4/4 [==============================] - 0s 12ms/step - loss: 0.2439 - categorical_accuracy: 0.8950 - categorical_crossentropy: 0.2439\n",
      "Epoch 40/200\n",
      "4/4 [==============================] - 0s 12ms/step - loss: 0.2380 - categorical_accuracy: 0.8991 - categorical_crossentropy: 0.2380\n",
      "Epoch 41/200\n",
      "4/4 [==============================] - 0s 12ms/step - loss: 0.2358 - categorical_accuracy: 0.9013 - categorical_crossentropy: 0.2358\n",
      "Epoch 42/200\n",
      "4/4 [==============================] - 0s 12ms/step - loss: 0.2379 - categorical_accuracy: 0.9016 - categorical_crossentropy: 0.2379\n",
      "Epoch 43/200\n",
      "4/4 [==============================] - 0s 14ms/step - loss: 0.2416 - categorical_accuracy: 0.8988 - categorical_crossentropy: 0.2416\n",
      "Epoch 44/200\n",
      "4/4 [==============================] - 0s 14ms/step - loss: 0.2450 - categorical_accuracy: 0.9000 - categorical_crossentropy: 0.2450\n",
      "Epoch 45/200\n",
      "4/4 [==============================] - 0s 12ms/step - loss: 0.2455 - categorical_accuracy: 0.8988 - categorical_crossentropy: 0.2455\n",
      "Epoch 46/200\n",
      "4/4 [==============================] - 0s 14ms/step - loss: 0.2443 - categorical_accuracy: 0.8991 - categorical_crossentropy: 0.2443\n",
      "Epoch 47/200\n",
      "4/4 [==============================] - 0s 15ms/step - loss: 0.2432 - categorical_accuracy: 0.8994 - categorical_crossentropy: 0.2432\n",
      "Epoch 48/200\n",
      "4/4 [==============================] - 0s 14ms/step - loss: 0.2420 - categorical_accuracy: 0.9019 - categorical_crossentropy: 0.2420\n",
      "Epoch 49/200\n",
      "4/4 [==============================] - 0s 12ms/step - loss: 0.2421 - categorical_accuracy: 0.9006 - categorical_crossentropy: 0.2421\n",
      "Epoch 50/200\n",
      "4/4 [==============================] - 0s 12ms/step - loss: 0.2436 - categorical_accuracy: 0.9003 - categorical_crossentropy: 0.2436\n",
      "Epoch 51/200\n",
      "4/4 [==============================] - 0s 12ms/step - loss: 0.2453 - categorical_accuracy: 0.8991 - categorical_crossentropy: 0.2453\n",
      "Epoch 52/200\n",
      "4/4 [==============================] - 0s 12ms/step - loss: 0.2468 - categorical_accuracy: 0.9000 - categorical_crossentropy: 0.2468\n",
      "Epoch 53/200\n",
      "4/4 [==============================] - 0s 15ms/step - loss: 0.2466 - categorical_accuracy: 0.9013 - categorical_crossentropy: 0.2466\n",
      "Epoch 54/200\n",
      "4/4 [==============================] - 0s 13ms/step - loss: 0.2441 - categorical_accuracy: 0.9025 - categorical_crossentropy: 0.2441\n",
      "Epoch 55/200\n",
      "4/4 [==============================] - 0s 15ms/step - loss: 0.2374 - categorical_accuracy: 0.9050 - categorical_crossentropy: 0.2374\n",
      "Epoch 56/200\n",
      "4/4 [==============================] - 0s 13ms/step - loss: 0.2302 - categorical_accuracy: 0.9062 - categorical_crossentropy: 0.2302\n",
      "Epoch 57/200\n",
      "4/4 [==============================] - 0s 12ms/step - loss: 0.2237 - categorical_accuracy: 0.9081 - categorical_crossentropy: 0.2237\n",
      "Epoch 58/200\n",
      "4/4 [==============================] - 0s 12ms/step - loss: 0.2188 - categorical_accuracy: 0.9087 - categorical_crossentropy: 0.2188\n",
      "Epoch 59/200\n",
      "4/4 [==============================] - 0s 12ms/step - loss: 0.2154 - categorical_accuracy: 0.9112 - categorical_crossentropy: 0.2154\n",
      "Epoch 60/200\n",
      "4/4 [==============================] - 0s 12ms/step - loss: 0.2141 - categorical_accuracy: 0.9128 - categorical_crossentropy: 0.2141\n",
      "Epoch 61/200\n",
      "4/4 [==============================] - 0s 13ms/step - loss: 0.2138 - categorical_accuracy: 0.9144 - categorical_crossentropy: 0.2138\n",
      "Epoch 62/200\n",
      "4/4 [==============================] - 0s 13ms/step - loss: 0.2153 - categorical_accuracy: 0.9159 - categorical_crossentropy: 0.2153\n",
      "Epoch 63/200\n",
      "4/4 [==============================] - 0s 15ms/step - loss: 0.2180 - categorical_accuracy: 0.9141 - categorical_crossentropy: 0.2180\n",
      "Epoch 64/200\n",
      "4/4 [==============================] - 0s 14ms/step - loss: 0.2233 - categorical_accuracy: 0.9147 - categorical_crossentropy: 0.2233\n",
      "Epoch 65/200\n",
      "4/4 [==============================] - 0s 13ms/step - loss: 0.2323 - categorical_accuracy: 0.9131 - categorical_crossentropy: 0.2323\n",
      "Epoch 66/200\n",
      "4/4 [==============================] - 0s 14ms/step - loss: 0.2441 - categorical_accuracy: 0.9050 - categorical_crossentropy: 0.2441\n",
      "Epoch 67/200\n",
      "4/4 [==============================] - 0s 14ms/step - loss: 0.2499 - categorical_accuracy: 0.9050 - categorical_crossentropy: 0.2499\n",
      "Epoch 68/200\n",
      "4/4 [==============================] - 0s 13ms/step - loss: 0.2461 - categorical_accuracy: 0.8981 - categorical_crossentropy: 0.2461\n",
      "Epoch 69/200\n",
      "4/4 [==============================] - 0s 13ms/step - loss: 0.2365 - categorical_accuracy: 0.9056 - categorical_crossentropy: 0.2365\n",
      "Epoch 70/200\n",
      "4/4 [==============================] - 0s 12ms/step - loss: 0.2165 - categorical_accuracy: 0.9122 - categorical_crossentropy: 0.2165\n",
      "Epoch 71/200\n",
      "4/4 [==============================] - 0s 13ms/step - loss: 0.1991 - categorical_accuracy: 0.9153 - categorical_crossentropy: 0.1991\n",
      "Epoch 72/200\n",
      "4/4 [==============================] - 0s 15ms/step - loss: 0.1881 - categorical_accuracy: 0.9219 - categorical_crossentropy: 0.1881\n",
      "Epoch 73/200\n",
      "4/4 [==============================] - 0s 14ms/step - loss: 0.1822 - categorical_accuracy: 0.9253 - categorical_crossentropy: 0.1822\n",
      "Epoch 74/200\n",
      "4/4 [==============================] - 0s 17ms/step - loss: 0.1791 - categorical_accuracy: 0.9306 - categorical_crossentropy: 0.1791\n",
      "Epoch 75/200\n",
      "4/4 [==============================] - 0s 15ms/step - loss: 0.1772 - categorical_accuracy: 0.9306 - categorical_crossentropy: 0.1772\n",
      "Epoch 76/200\n",
      "4/4 [==============================] - 0s 12ms/step - loss: 0.1771 - categorical_accuracy: 0.9303 - categorical_crossentropy: 0.1771\n",
      "Epoch 77/200\n",
      "4/4 [==============================] - 0s 12ms/step - loss: 0.1775 - categorical_accuracy: 0.9294 - categorical_crossentropy: 0.1775\n",
      "Epoch 78/200\n",
      "4/4 [==============================] - 0s 12ms/step - loss: 0.1787 - categorical_accuracy: 0.9300 - categorical_crossentropy: 0.1787\n",
      "Epoch 79/200\n",
      "4/4 [==============================] - 0s 12ms/step - loss: 0.1798 - categorical_accuracy: 0.9284 - categorical_crossentropy: 0.1798\n",
      "Epoch 80/200\n",
      "4/4 [==============================] - 0s 12ms/step - loss: 0.1822 - categorical_accuracy: 0.9297 - categorical_crossentropy: 0.1822\n",
      "Epoch 81/200\n",
      "4/4 [==============================] - 0s 12ms/step - loss: 0.1879 - categorical_accuracy: 0.9253 - categorical_crossentropy: 0.1879\n",
      "Epoch 82/200\n",
      "4/4 [==============================] - 0s 12ms/step - loss: 0.1929 - categorical_accuracy: 0.9259 - categorical_crossentropy: 0.1929\n",
      "Epoch 83/200\n",
      "4/4 [==============================] - 0s 12ms/step - loss: 0.2032 - categorical_accuracy: 0.9191 - categorical_crossentropy: 0.2032\n",
      "Epoch 84/200\n",
      "4/4 [==============================] - 0s 12ms/step - loss: 0.2143 - categorical_accuracy: 0.9212 - categorical_crossentropy: 0.2143\n",
      "Epoch 85/200\n",
      "4/4 [==============================] - 0s 15ms/step - loss: 0.2180 - categorical_accuracy: 0.9141 - categorical_crossentropy: 0.2180\n",
      "Epoch 86/200\n",
      "4/4 [==============================] - 0s 13ms/step - loss: 0.2354 - categorical_accuracy: 0.9097 - categorical_crossentropy: 0.2354\n",
      "Epoch 87/200\n",
      "4/4 [==============================] - 0s 13ms/step - loss: 0.2776 - categorical_accuracy: 0.8934 - categorical_crossentropy: 0.2776\n",
      "Epoch 88/200\n",
      "4/4 [==============================] - 0s 12ms/step - loss: 0.3136 - categorical_accuracy: 0.8775 - categorical_crossentropy: 0.3136\n",
      "Epoch 89/200\n",
      "4/4 [==============================] - 0s 12ms/step - loss: 0.2389 - categorical_accuracy: 0.9078 - categorical_crossentropy: 0.2389\n",
      "Epoch 90/200\n",
      "4/4 [==============================] - 0s 19ms/step - loss: 0.1950 - categorical_accuracy: 0.9197 - categorical_crossentropy: 0.1950\n",
      "Epoch 91/200\n",
      "4/4 [==============================] - 0s 15ms/step - loss: 0.1796 - categorical_accuracy: 0.9272 - categorical_crossentropy: 0.1796\n",
      "Epoch 92/200\n",
      "4/4 [==============================] - 0s 12ms/step - loss: 0.1652 - categorical_accuracy: 0.9347 - categorical_crossentropy: 0.1652\n",
      "Epoch 93/200\n",
      "4/4 [==============================] - 0s 13ms/step - loss: 0.1657 - categorical_accuracy: 0.9331 - categorical_crossentropy: 0.1657\n",
      "Epoch 94/200\n",
      "4/4 [==============================] - 0s 12ms/step - loss: 0.1674 - categorical_accuracy: 0.9344 - categorical_crossentropy: 0.1674\n",
      "Epoch 95/200\n",
      "4/4 [==============================] - 0s 12ms/step - loss: 0.1612 - categorical_accuracy: 0.9347 - categorical_crossentropy: 0.1612\n",
      "Epoch 96/200\n",
      "4/4 [==============================] - 0s 12ms/step - loss: 0.1533 - categorical_accuracy: 0.9372 - categorical_crossentropy: 0.1533\n",
      "Epoch 97/200\n",
      "4/4 [==============================] - 0s 12ms/step - loss: 0.1484 - categorical_accuracy: 0.9419 - categorical_crossentropy: 0.1484\n",
      "Epoch 98/200\n",
      "4/4 [==============================] - 0s 18ms/step - loss: 0.1457 - categorical_accuracy: 0.9444 - categorical_crossentropy: 0.1457\n",
      "Epoch 99/200\n",
      "4/4 [==============================] - 0s 16ms/step - loss: 0.1444 - categorical_accuracy: 0.9444 - categorical_crossentropy: 0.1444\n",
      "Epoch 100/200\n",
      "4/4 [==============================] - 0s 13ms/step - loss: 0.1430 - categorical_accuracy: 0.9456 - categorical_crossentropy: 0.1430\n",
      "Epoch 101/200\n",
      "4/4 [==============================] - 0s 12ms/step - loss: 0.1430 - categorical_accuracy: 0.9453 - categorical_crossentropy: 0.1430\n",
      "Epoch 102/200\n",
      "4/4 [==============================] - 0s 15ms/step - loss: 0.1424 - categorical_accuracy: 0.9431 - categorical_crossentropy: 0.1424\n",
      "Epoch 103/200\n",
      "4/4 [==============================] - 0s 13ms/step - loss: 0.1418 - categorical_accuracy: 0.9453 - categorical_crossentropy: 0.1418\n",
      "Epoch 104/200\n",
      "4/4 [==============================] - 0s 15ms/step - loss: 0.1408 - categorical_accuracy: 0.9478 - categorical_crossentropy: 0.1408\n",
      "Epoch 105/200\n",
      "4/4 [==============================] - 0s 13ms/step - loss: 0.1392 - categorical_accuracy: 0.9475 - categorical_crossentropy: 0.1392\n",
      "Epoch 106/200\n",
      "4/4 [==============================] - 0s 17ms/step - loss: 0.1371 - categorical_accuracy: 0.9494 - categorical_crossentropy: 0.1371\n",
      "Epoch 107/200\n",
      "4/4 [==============================] - 0s 14ms/step - loss: 0.1364 - categorical_accuracy: 0.9484 - categorical_crossentropy: 0.1364\n",
      "Epoch 108/200\n",
      "4/4 [==============================] - 0s 12ms/step - loss: 0.1351 - categorical_accuracy: 0.9481 - categorical_crossentropy: 0.1351\n",
      "Epoch 109/200\n",
      "4/4 [==============================] - 0s 12ms/step - loss: 0.1354 - categorical_accuracy: 0.9472 - categorical_crossentropy: 0.1354\n",
      "Epoch 110/200\n",
      "4/4 [==============================] - 0s 12ms/step - loss: 0.1366 - categorical_accuracy: 0.9456 - categorical_crossentropy: 0.1366\n",
      "Epoch 111/200\n",
      "4/4 [==============================] - 0s 17ms/step - loss: 0.1400 - categorical_accuracy: 0.9425 - categorical_crossentropy: 0.1400\n",
      "Epoch 112/200\n",
      "4/4 [==============================] - 0s 16ms/step - loss: 0.1457 - categorical_accuracy: 0.9409 - categorical_crossentropy: 0.1457\n",
      "Epoch 113/200\n",
      "4/4 [==============================] - 0s 17ms/step - loss: 0.1536 - categorical_accuracy: 0.9366 - categorical_crossentropy: 0.1536\n",
      "Epoch 114/200\n",
      "4/4 [==============================] - 0s 14ms/step - loss: 0.1713 - categorical_accuracy: 0.9294 - categorical_crossentropy: 0.1713\n",
      "Epoch 115/200\n",
      "4/4 [==============================] - 0s 12ms/step - loss: 0.1980 - categorical_accuracy: 0.9206 - categorical_crossentropy: 0.1980\n",
      "Epoch 116/200\n",
      "4/4 [==============================] - 0s 12ms/step - loss: 0.2366 - categorical_accuracy: 0.9094 - categorical_crossentropy: 0.2366\n",
      "Epoch 117/200\n",
      "4/4 [==============================] - 0s 12ms/step - loss: 0.2705 - categorical_accuracy: 0.8975 - categorical_crossentropy: 0.2705\n",
      "Epoch 118/200\n",
      "4/4 [==============================] - 0s 12ms/step - loss: 0.1999 - categorical_accuracy: 0.9269 - categorical_crossentropy: 0.1999\n",
      "Epoch 119/200\n",
      "4/4 [==============================] - 0s 12ms/step - loss: 0.1579 - categorical_accuracy: 0.9344 - categorical_crossentropy: 0.1579\n",
      "Epoch 120/200\n",
      "4/4 [==============================] - 0s 13ms/step - loss: 0.1453 - categorical_accuracy: 0.9459 - categorical_crossentropy: 0.1453\n",
      "Epoch 121/200\n",
      "4/4 [==============================] - 0s 12ms/step - loss: 0.1369 - categorical_accuracy: 0.9475 - categorical_crossentropy: 0.1369\n",
      "Epoch 122/200\n",
      "4/4 [==============================] - 0s 16ms/step - loss: 0.1320 - categorical_accuracy: 0.9478 - categorical_crossentropy: 0.1320\n",
      "Epoch 123/200\n",
      "4/4 [==============================] - 0s 14ms/step - loss: 0.1230 - categorical_accuracy: 0.9531 - categorical_crossentropy: 0.1230\n",
      "Epoch 124/200\n",
      "4/4 [==============================] - 0s 12ms/step - loss: 0.1187 - categorical_accuracy: 0.9569 - categorical_crossentropy: 0.1187\n",
      "Epoch 125/200\n",
      "4/4 [==============================] - 0s 13ms/step - loss: 0.1149 - categorical_accuracy: 0.9578 - categorical_crossentropy: 0.1149\n",
      "Epoch 126/200\n",
      "4/4 [==============================] - 0s 12ms/step - loss: 0.1127 - categorical_accuracy: 0.9569 - categorical_crossentropy: 0.1127\n",
      "Epoch 127/200\n",
      "4/4 [==============================] - 0s 12ms/step - loss: 0.1111 - categorical_accuracy: 0.9569 - categorical_crossentropy: 0.1111\n",
      "Epoch 128/200\n",
      "4/4 [==============================] - 0s 12ms/step - loss: 0.1094 - categorical_accuracy: 0.9597 - categorical_crossentropy: 0.1094\n",
      "Epoch 129/200\n",
      "4/4 [==============================] - 0s 12ms/step - loss: 0.1091 - categorical_accuracy: 0.9569 - categorical_crossentropy: 0.1091\n",
      "Epoch 130/200\n",
      "4/4 [==============================] - 0s 12ms/step - loss: 0.1057 - categorical_accuracy: 0.9591 - categorical_crossentropy: 0.1057\n",
      "Epoch 131/200\n",
      "4/4 [==============================] - 0s 12ms/step - loss: 0.1042 - categorical_accuracy: 0.9594 - categorical_crossentropy: 0.1042\n",
      "Epoch 132/200\n",
      "4/4 [==============================] - 0s 12ms/step - loss: 0.1035 - categorical_accuracy: 0.9584 - categorical_crossentropy: 0.1035\n",
      "Epoch 133/200\n",
      "4/4 [==============================] - 0s 12ms/step - loss: 0.1035 - categorical_accuracy: 0.9597 - categorical_crossentropy: 0.1035\n",
      "Epoch 134/200\n",
      "4/4 [==============================] - 0s 12ms/step - loss: 0.1042 - categorical_accuracy: 0.9597 - categorical_crossentropy: 0.1042\n",
      "Epoch 135/200\n",
      "4/4 [==============================] - 0s 12ms/step - loss: 0.1041 - categorical_accuracy: 0.9588 - categorical_crossentropy: 0.1041\n",
      "Epoch 136/200\n",
      "4/4 [==============================] - 0s 12ms/step - loss: 0.1043 - categorical_accuracy: 0.9563 - categorical_crossentropy: 0.1043\n",
      "Epoch 137/200\n",
      "4/4 [==============================] - 0s 13ms/step - loss: 0.1056 - categorical_accuracy: 0.9556 - categorical_crossentropy: 0.1056\n",
      "Epoch 138/200\n",
      "4/4 [==============================] - 0s 12ms/step - loss: 0.1091 - categorical_accuracy: 0.9553 - categorical_crossentropy: 0.1091\n",
      "Epoch 139/200\n",
      "4/4 [==============================] - 0s 12ms/step - loss: 0.1127 - categorical_accuracy: 0.9550 - categorical_crossentropy: 0.1127\n",
      "Epoch 140/200\n",
      "4/4 [==============================] - 0s 12ms/step - loss: 0.1191 - categorical_accuracy: 0.9525 - categorical_crossentropy: 0.1191\n",
      "Epoch 141/200\n",
      "4/4 [==============================] - 0s 12ms/step - loss: 0.1287 - categorical_accuracy: 0.9481 - categorical_crossentropy: 0.1287\n",
      "Epoch 142/200\n",
      "4/4 [==============================] - 0s 12ms/step - loss: 0.1349 - categorical_accuracy: 0.9472 - categorical_crossentropy: 0.1349\n",
      "Epoch 143/200\n",
      "4/4 [==============================] - 0s 12ms/step - loss: 0.1359 - categorical_accuracy: 0.9472 - categorical_crossentropy: 0.1359\n",
      "Epoch 144/200\n",
      "4/4 [==============================] - 0s 12ms/step - loss: 0.1307 - categorical_accuracy: 0.9503 - categorical_crossentropy: 0.1307\n",
      "Epoch 145/200\n",
      "4/4 [==============================] - 0s 12ms/step - loss: 0.1096 - categorical_accuracy: 0.9591 - categorical_crossentropy: 0.1096\n",
      "Epoch 146/200\n",
      "4/4 [==============================] - 0s 12ms/step - loss: 0.0948 - categorical_accuracy: 0.9606 - categorical_crossentropy: 0.0948\n",
      "Epoch 147/200\n",
      "4/4 [==============================] - 0s 12ms/step - loss: 0.0914 - categorical_accuracy: 0.9666 - categorical_crossentropy: 0.0914\n",
      "Epoch 148/200\n",
      "4/4 [==============================] - 0s 12ms/step - loss: 0.0915 - categorical_accuracy: 0.9653 - categorical_crossentropy: 0.0915\n",
      "Epoch 149/200\n",
      "4/4 [==============================] - 0s 12ms/step - loss: 0.0887 - categorical_accuracy: 0.9666 - categorical_crossentropy: 0.0887\n",
      "Epoch 150/200\n",
      "4/4 [==============================] - 0s 13ms/step - loss: 0.0832 - categorical_accuracy: 0.9700 - categorical_crossentropy: 0.0832\n",
      "Epoch 151/200\n",
      "4/4 [==============================] - 0s 12ms/step - loss: 0.0796 - categorical_accuracy: 0.9741 - categorical_crossentropy: 0.0796\n",
      "Epoch 152/200\n",
      "4/4 [==============================] - 0s 12ms/step - loss: 0.0760 - categorical_accuracy: 0.9731 - categorical_crossentropy: 0.0760\n",
      "Epoch 153/200\n",
      "4/4 [==============================] - 0s 12ms/step - loss: 0.0749 - categorical_accuracy: 0.9725 - categorical_crossentropy: 0.0749\n",
      "Epoch 154/200\n",
      "4/4 [==============================] - 0s 13ms/step - loss: 0.0729 - categorical_accuracy: 0.9716 - categorical_crossentropy: 0.0729\n",
      "Epoch 155/200\n",
      "4/4 [==============================] - 0s 12ms/step - loss: 0.0731 - categorical_accuracy: 0.9737 - categorical_crossentropy: 0.0731\n",
      "Epoch 156/200\n",
      "4/4 [==============================] - 0s 12ms/step - loss: 0.0700 - categorical_accuracy: 0.9762 - categorical_crossentropy: 0.0700\n",
      "Epoch 157/200\n",
      "4/4 [==============================] - 0s 12ms/step - loss: 0.0670 - categorical_accuracy: 0.9769 - categorical_crossentropy: 0.0670\n",
      "Epoch 158/200\n",
      "4/4 [==============================] - 0s 12ms/step - loss: 0.0668 - categorical_accuracy: 0.9759 - categorical_crossentropy: 0.0668\n",
      "Epoch 159/200\n",
      "4/4 [==============================] - 0s 12ms/step - loss: 0.0651 - categorical_accuracy: 0.9775 - categorical_crossentropy: 0.0651\n",
      "Epoch 160/200\n",
      "4/4 [==============================] - 0s 12ms/step - loss: 0.0628 - categorical_accuracy: 0.9791 - categorical_crossentropy: 0.0628\n",
      "Epoch 161/200\n",
      "4/4 [==============================] - 0s 12ms/step - loss: 0.0639 - categorical_accuracy: 0.9781 - categorical_crossentropy: 0.0639\n",
      "Epoch 162/200\n",
      "4/4 [==============================] - 0s 12ms/step - loss: 0.0613 - categorical_accuracy: 0.9794 - categorical_crossentropy: 0.0613\n",
      "Epoch 163/200\n",
      "4/4 [==============================] - 0s 12ms/step - loss: 0.0866 - categorical_accuracy: 0.9666 - categorical_crossentropy: 0.0866\n",
      "Epoch 164/200\n",
      "4/4 [==============================] - 0s 12ms/step - loss: 0.1894 - categorical_accuracy: 0.9316 - categorical_crossentropy: 0.1894\n",
      "Epoch 165/200\n",
      "4/4 [==============================] - 0s 12ms/step - loss: 0.6280 - categorical_accuracy: 0.8609 - categorical_crossentropy: 0.6280\n",
      "Epoch 166/200\n",
      "4/4 [==============================] - 0s 12ms/step - loss: 1.3839 - categorical_accuracy: 0.7256 - categorical_crossentropy: 1.3839\n",
      "Epoch 167/200\n",
      "4/4 [==============================] - 0s 13ms/step - loss: 0.6540 - categorical_accuracy: 0.8050 - categorical_crossentropy: 0.6540\n",
      "Epoch 168/200\n",
      "4/4 [==============================] - 0s 12ms/step - loss: 0.6310 - categorical_accuracy: 0.7713 - categorical_crossentropy: 0.6310\n",
      "Epoch 169/200\n",
      "4/4 [==============================] - 0s 12ms/step - loss: 0.4538 - categorical_accuracy: 0.8197 - categorical_crossentropy: 0.4538\n",
      "Epoch 170/200\n",
      "4/4 [==============================] - 0s 12ms/step - loss: 0.3074 - categorical_accuracy: 0.8744 - categorical_crossentropy: 0.3074\n",
      "Epoch 171/200\n",
      "4/4 [==============================] - 0s 12ms/step - loss: 0.2932 - categorical_accuracy: 0.8813 - categorical_crossentropy: 0.2932\n",
      "Epoch 172/200\n",
      "4/4 [==============================] - 0s 12ms/step - loss: 0.2541 - categorical_accuracy: 0.8938 - categorical_crossentropy: 0.2541\n",
      "Epoch 173/200\n",
      "4/4 [==============================] - 0s 12ms/step - loss: 0.2268 - categorical_accuracy: 0.9131 - categorical_crossentropy: 0.2268\n",
      "Epoch 174/200\n",
      "4/4 [==============================] - 0s 13ms/step - loss: 0.2222 - categorical_accuracy: 0.9109 - categorical_crossentropy: 0.2222\n",
      "Epoch 175/200\n",
      "4/4 [==============================] - 0s 12ms/step - loss: 0.2014 - categorical_accuracy: 0.9228 - categorical_crossentropy: 0.2014\n",
      "Epoch 176/200\n",
      "4/4 [==============================] - 0s 12ms/step - loss: 0.1903 - categorical_accuracy: 0.9287 - categorical_crossentropy: 0.1903\n",
      "Epoch 177/200\n",
      "4/4 [==============================] - 0s 12ms/step - loss: 0.1846 - categorical_accuracy: 0.9256 - categorical_crossentropy: 0.1846\n",
      "Epoch 178/200\n",
      "4/4 [==============================] - 0s 12ms/step - loss: 0.1744 - categorical_accuracy: 0.9328 - categorical_crossentropy: 0.1744\n",
      "Epoch 179/200\n",
      "4/4 [==============================] - 0s 12ms/step - loss: 0.1694 - categorical_accuracy: 0.9381 - categorical_crossentropy: 0.1694\n",
      "Epoch 180/200\n",
      "4/4 [==============================] - 0s 12ms/step - loss: 0.1606 - categorical_accuracy: 0.9403 - categorical_crossentropy: 0.1606\n",
      "Epoch 181/200\n",
      "4/4 [==============================] - 0s 14ms/step - loss: 0.1499 - categorical_accuracy: 0.9459 - categorical_crossentropy: 0.1499\n",
      "Epoch 182/200\n",
      "4/4 [==============================] - 0s 12ms/step - loss: 0.1444 - categorical_accuracy: 0.9481 - categorical_crossentropy: 0.1444\n",
      "Epoch 183/200\n",
      "4/4 [==============================] - 0s 12ms/step - loss: 0.1393 - categorical_accuracy: 0.9506 - categorical_crossentropy: 0.1393\n",
      "Epoch 184/200\n",
      "4/4 [==============================] - 0s 12ms/step - loss: 0.1326 - categorical_accuracy: 0.9516 - categorical_crossentropy: 0.1326\n",
      "Epoch 185/200\n",
      "4/4 [==============================] - 0s 12ms/step - loss: 0.1275 - categorical_accuracy: 0.9528 - categorical_crossentropy: 0.1275\n",
      "Epoch 186/200\n",
      "4/4 [==============================] - 0s 12ms/step - loss: 0.1237 - categorical_accuracy: 0.9584 - categorical_crossentropy: 0.1237\n",
      "Epoch 187/200\n",
      "4/4 [==============================] - 0s 12ms/step - loss: 0.1195 - categorical_accuracy: 0.9594 - categorical_crossentropy: 0.1195\n",
      "Epoch 188/200\n",
      "4/4 [==============================] - 0s 12ms/step - loss: 0.1155 - categorical_accuracy: 0.9606 - categorical_crossentropy: 0.1155\n",
      "Epoch 189/200\n",
      "4/4 [==============================] - 0s 13ms/step - loss: 0.1115 - categorical_accuracy: 0.9609 - categorical_crossentropy: 0.1115\n",
      "Epoch 190/200\n",
      "4/4 [==============================] - 0s 12ms/step - loss: 0.1084 - categorical_accuracy: 0.9613 - categorical_crossentropy: 0.1084\n",
      "Epoch 191/200\n",
      "4/4 [==============================] - 0s 12ms/step - loss: 0.1056 - categorical_accuracy: 0.9622 - categorical_crossentropy: 0.1056\n",
      "Epoch 192/200\n",
      "4/4 [==============================] - 0s 12ms/step - loss: 0.1024 - categorical_accuracy: 0.9631 - categorical_crossentropy: 0.1024\n",
      "Epoch 193/200\n",
      "4/4 [==============================] - 0s 13ms/step - loss: 0.0996 - categorical_accuracy: 0.9644 - categorical_crossentropy: 0.0996\n",
      "Epoch 194/200\n",
      "4/4 [==============================] - 0s 12ms/step - loss: 0.0970 - categorical_accuracy: 0.9659 - categorical_crossentropy: 0.0970\n",
      "Epoch 195/200\n",
      "4/4 [==============================] - 0s 12ms/step - loss: 0.0946 - categorical_accuracy: 0.9669 - categorical_crossentropy: 0.0946\n",
      "Epoch 196/200\n",
      "4/4 [==============================] - 0s 12ms/step - loss: 0.0924 - categorical_accuracy: 0.9669 - categorical_crossentropy: 0.0924\n",
      "Epoch 197/200\n",
      "4/4 [==============================] - 0s 12ms/step - loss: 0.0910 - categorical_accuracy: 0.9672 - categorical_crossentropy: 0.0910\n",
      "Epoch 198/200\n",
      "4/4 [==============================] - 0s 12ms/step - loss: 0.0894 - categorical_accuracy: 0.9688 - categorical_crossentropy: 0.0894\n",
      "Epoch 199/200\n",
      "4/4 [==============================] - 0s 12ms/step - loss: 0.0874 - categorical_accuracy: 0.9681 - categorical_crossentropy: 0.0874\n",
      "Epoch 200/200\n",
      "4/4 [==============================] - 0s 11ms/step - loss: 0.0856 - categorical_accuracy: 0.9697 - categorical_crossentropy: 0.0856\n"
     ]
    },
    {
     "data": {
      "text/plain": [
       "<keras.src.callbacks.History at 0x7f4b79c27190>"
      ]
     },
     "execution_count": 24,
     "metadata": {},
     "output_type": "execute_result"
    }
   ],
   "source": [
    "model.fit(train_dataset, epochs=n_epochs, verbose=True)"
   ]
  },
  {
   "cell_type": "markdown",
   "metadata": {},
   "source": [
    "Evaluate the classification model on the test data"
   ]
  },
  {
   "cell_type": "code",
   "execution_count": 25,
   "metadata": {},
   "outputs": [
    {
     "name": "stdout",
     "output_type": "stream",
     "text": [
      "1/1 [==============================] - 0s 378ms/step - loss: 0.1372 - categorical_accuracy: 0.9525 - categorical_crossentropy: 0.1372\n"
     ]
    },
    {
     "data": {
      "text/plain": [
       "[0.13724669814109802, 0.9524999856948853, 0.13724669814109802]"
      ]
     },
     "execution_count": 25,
     "metadata": {},
     "output_type": "execute_result"
    }
   ],
   "source": [
    "model.evaluate(test_dataset.take(-1))"
   ]
  },
  {
   "cell_type": "code",
   "execution_count": 26,
   "metadata": {},
   "outputs": [],
   "source": [
    "examples, labels = list(test_dataset.as_numpy_iterator())[0]"
   ]
  },
  {
   "cell_type": "code",
   "execution_count": 27,
   "metadata": {},
   "outputs": [
    {
     "data": {
      "text/plain": [
       "0.008016728"
      ]
     },
     "execution_count": 27,
     "metadata": {},
     "output_type": "execute_result"
    }
   ],
   "source": [
    "model(np.reshape(examples[5],[1,80,80,3])).numpy()[0,0]"
   ]
  },
  {
   "cell_type": "code",
   "execution_count": 28,
   "metadata": {},
   "outputs": [
    {
     "data": {
      "image/png": "[encoded data removed]",
      "text/plain": [
       "<Figure size 640x480 with 1 Axes>"
      ]
     },
     "metadata": {},
     "output_type": "display_data"
    }
   ],
   "source": [
    "plt.figure()\n",
    "plt.imshow(examples[5])\n",
    "confidence = model(np.reshape(examples[5],[1,80,80,3])).numpy()[0,1]\n",
    "if confidence < 0.5:\n",
    "    pred = 0\n",
    "    confidence = 1. - confidence\n",
    "else:\n",
    "    pred = 1\n",
    "plt.title('{} : {:.2f}% Confidence'.format(str(pred), confidence*100))\n",
    "plt.show()"
   ]
  },
  {
   "cell_type": "markdown",
   "metadata": {},
   "source": [
    "3. Create and evaluate a white-box, untargeted PGD adversarial example with an L-inf bound of 0.03 for the test set for the non-linear classification model."
   ]
  },
  {
   "cell_type": "code",
   "execution_count": 29,
   "metadata": {
    "id": "rMf-niv4_FeM"
   },
   "outputs": [],
   "source": [
    "loss_object = tf.keras.losses.CategoricalCrossentropy(from_logits=False)\n",
    "noise_np = create_adversarial_pattern(model,np.reshape(examples[5],[1,80,80,3]), np.array([[1,0]]),loss_object,100)"
   ]
  },
  {
   "cell_type": "code",
   "execution_count": 30,
   "metadata": {},
   "outputs": [
    {
     "data": {
      "text/plain": [
       "<tf.Tensor: shape=(1, 80, 80, 3), dtype=float32, numpy=\n",
       "array([[[[-0.03,  0.03, -0.03],\n",
       "         [ 0.03, -0.03, -0.03],\n",
       "         [-0.03,  0.03, -0.03],\n",
       "         ...,\n",
       "         [-0.03,  0.03,  0.03],\n",
       "         [ 0.  , -0.03, -0.03],\n",
       "         [ 0.03,  0.  ,  0.03]],\n",
       "\n",
       "        [[-0.03, -0.03,  0.03],\n",
       "         [-0.03, -0.03,  0.03],\n",
       "         [ 0.  ,  0.03, -0.03],\n",
       "         ...,\n",
       "         [-0.03,  0.03,  0.03],\n",
       "         [-0.03,  0.03,  0.03],\n",
       "         [-0.03,  0.03, -0.03]],\n",
       "\n",
       "        [[ 0.03, -0.03, -0.03],\n",
       "         [ 0.03,  0.03,  0.03],\n",
       "         [ 0.03,  0.03, -0.03],\n",
       "         ...,\n",
       "         [-0.03, -0.03, -0.03],\n",
       "         [-0.03,  0.03, -0.03],\n",
       "         [-0.03, -0.03, -0.03]],\n",
       "\n",
       "        ...,\n",
       "\n",
       "        [[-0.03,  0.03, -0.03],\n",
       "         [-0.03,  0.03, -0.03],\n",
       "         [-0.03, -0.03, -0.03],\n",
       "         ...,\n",
       "         [-0.03,  0.03, -0.03],\n",
       "         [-0.03, -0.03, -0.03],\n",
       "         [-0.03, -0.03, -0.03]],\n",
       "\n",
       "        [[-0.03,  0.03, -0.03],\n",
       "         [-0.03, -0.03, -0.03],\n",
       "         [-0.03,  0.03,  0.03],\n",
       "         ...,\n",
       "         [-0.03, -0.03, -0.03],\n",
       "         [-0.03, -0.03, -0.03],\n",
       "         [-0.03, -0.03, -0.03]],\n",
       "\n",
       "        [[-0.03,  0.03, -0.03],\n",
       "         [-0.03,  0.03, -0.03],\n",
       "         [-0.03, -0.03,  0.03],\n",
       "         ...,\n",
       "         [-0.03,  0.03,  0.03],\n",
       "         [-0.03, -0.03, -0.03],\n",
       "         [-0.03, -0.03, -0.03]]]], dtype=float32)>"
      ]
     },
     "execution_count": 30,
     "metadata": {},
     "output_type": "execute_result"
    }
   ],
   "source": [
    "noise_np"
   ]
  },
  {
   "cell_type": "code",
   "execution_count": 31,
   "metadata": {},
   "outputs": [
    {
     "name": "stderr",
     "output_type": "stream",
     "text": [
      "Clipping input data to the valid range for imshow with RGB data ([0..1] for floats or [0..255] for integers).\n"
     ]
    },
    {
     "data": {
      "image/png": "[encoded data removed]",
      "text/plain": [
       "<Figure size 640x480 with 1 Axes>"
      ]
     },
     "metadata": {},
     "output_type": "display_data"
    }
   ],
   "source": [
    "plt.figure()\n",
    "plt.imshow(noise_np[0])\n",
    "plt.title('Signed Gradient')\n",
    "plt.show()"
   ]
  },
  {
   "cell_type": "code",
   "execution_count": 32,
   "metadata": {},
   "outputs": [
    {
     "name": "stderr",
     "output_type": "stream",
     "text": [
      "Clipping input data to the valid range for imshow with RGB data ([0..1] for floats or [0..255] for integers).\n"
     ]
    },
    {
     "data": {
      "image/png": "[encoded data removed]",
      "text/plain": [
       "<Figure size 640x480 with 1 Axes>"
      ]
     },
     "metadata": {},
     "output_type": "display_data"
    }
   ],
   "source": [
    "plt.figure()\n",
    "adv_example = examples[5]-noise_np \n",
    "plt.imshow(np.clip(adv_example[0],0,255))\n",
    "confidence = model(np.reshape(adv_example,[1,80,80,3])).numpy()[0,1] \n",
    "if confidence < 0.5:\n",
    "    pred = 0\n",
    "    confidence = 1. - confidence\n",
    "else:\n",
    "    pred = 1\n",
    "plt.title('{} : {:.2f}% Confidence'.format(str(pred), confidence*100))\n",
    "plt.show()"
   ]
  },
  {
   "cell_type": "code",
   "execution_count": null,
   "metadata": {},
   "outputs": [],
   "source": []
  }
 ],
 "metadata": {
  "colab": {
   "provenance": []
  },
  "kernelspec": {
   "display_name": "Python 3 (ipykernel)",
   "language": "python",
   "name": "python3"
  },
  "language_info": {
   "codemirror_mode": {
    "name": "ipython",
    "version": 3
   },
   "file_extension": ".py",
   "mimetype": "text/x-python",
   "name": "python",
   "nbconvert_exporter": "python",
   "pygments_lexer": "ipython3",
   "version": "3.11.4"
  }
 },
 "nbformat": 4,
 "nbformat_minor": 1
}
