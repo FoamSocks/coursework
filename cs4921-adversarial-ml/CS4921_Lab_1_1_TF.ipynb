{
 "cells": [
  {
   "cell_type": "code",
   "execution_count": 1,
   "metadata": {
    "colab": {
     "base_uri": "https://localhost:8080/"
    },
    "id": "6pFVkn-p_FeC",
    "outputId": "f3ec15d2-ee51-4ac3-df5a-0811c9b36e37"
   },
   "outputs": [
    {
     "name": "stderr",
     "output_type": "stream",
     "text": [
      "2023-10-06 20:39:42.511371: I tensorflow/core/util/port.cc:110] oneDNN custom operations are on. You may see slightly different numerical results due to floating-point round-off errors from different computation orders. To turn them off, set the environment variable `TF_ENABLE_ONEDNN_OPTS=0`.\n",
      "2023-10-06 20:39:42.575767: I tensorflow/core/platform/cpu_feature_guard.cc:182] This TensorFlow binary is optimized to use available CPU instructions in performance-critical operations.\n",
      "To enable the following instructions: AVX2 AVX512F AVX512_VNNI FMA, in other operations, rebuild TensorFlow with the appropriate compiler flags.\n",
      "2023-10-06 20:39:43.888147: W tensorflow/compiler/tf2tensorrt/utils/py_utils.cc:38] TF-TRT Warning: Could not find TensorRT\n"
     ]
    },
    {
     "name": "stdout",
     "output_type": "stream",
     "text": [
      "Library Versions:\n",
      "numpy: 1.26.0\n",
      "pandas: 2.1.1\n",
      "tensorflow: 2.13.1\n",
      "tensorflow probability: 0.21.0\n"
     ]
    }
   ],
   "source": [
    "import matplotlib.pyplot as plt\n",
    "import numpy as np\n",
    "import pandas as pd\n",
    "import tensorflow as tf\n",
    "import tensorflow_probability as tfp\n",
    "from sklearn.model_selection import train_test_split\n",
    "from sklearn.metrics import mean_squared_error\n",
    "\n",
    "print(\"Library Versions:\")\n",
    "print('numpy:',np.__version__)\n",
    "print('pandas:',pd.__version__)\n",
    "print('tensorflow:',tf.__version__)\n",
    "print('tensorflow probability:', tfp.__version__)"
   ]
  },
  {
   "cell_type": "code",
   "execution_count": 2,
   "metadata": {
    "id": "-IikbLn9_FeE"
   },
   "outputs": [],
   "source": [
    "\n",
    "n_epochs = 200\n",
    "verbose_option = True"
   ]
  },
  {
   "cell_type": "markdown",
   "metadata": {
    "id": "tsCT05cA_FeE"
   },
   "source": [
    "# Regression for Naval Plant Maintenance"
   ]
  },
  {
   "cell_type": "markdown",
   "metadata": {
    "id": "kTmsAZ3C_7fr"
   },
   "source": [
    "Load regression dataset"
   ]
  },
  {
   "cell_type": "code",
   "execution_count": 3,
   "metadata": {
    "colab": {
     "base_uri": "https://localhost:8080/",
     "height": 488
    },
    "id": "KS1jos8k_FeF",
    "outputId": "5c7455fa-7bc0-42ec-e900-fbab0bbe8e74",
    "scrolled": false
   },
   "outputs": [
    {
     "data": {
      "text/html": [
       "<div>\n",
       "<style scoped>\n",
       "    .dataframe tbody tr th:only-of-type {\n",
       "        vertical-align: middle;\n",
       "    }\n",
       "\n",
       "    .dataframe tbody tr th {\n",
       "        vertical-align: top;\n",
       "    }\n",
       "\n",
       "    .dataframe thead th {\n",
       "        text-align: right;\n",
       "    }\n",
       "</style>\n",
       "<table border=\"1\" class=\"dataframe\">\n",
       "  <thead>\n",
       "    <tr style=\"text-align: right;\">\n",
       "      <th></th>\n",
       "      <th>0</th>\n",
       "      <th>1</th>\n",
       "      <th>2</th>\n",
       "      <th>3</th>\n",
       "      <th>4</th>\n",
       "      <th>5</th>\n",
       "      <th>6</th>\n",
       "      <th>7</th>\n",
       "      <th>8</th>\n",
       "      <th>9</th>\n",
       "      <th>10</th>\n",
       "      <th>11</th>\n",
       "      <th>12</th>\n",
       "      <th>13</th>\n",
       "      <th>14</th>\n",
       "      <th>15</th>\n",
       "      <th>16</th>\n",
       "      <th>17</th>\n",
       "    </tr>\n",
       "  </thead>\n",
       "  <tbody>\n",
       "    <tr>\n",
       "      <th>0</th>\n",
       "      <td>1.14</td>\n",
       "      <td>3.0</td>\n",
       "      <td>290.0</td>\n",
       "      <td>1350.0</td>\n",
       "      <td>6680.0</td>\n",
       "      <td>7.58</td>\n",
       "      <td>7.58</td>\n",
       "      <td>464.0</td>\n",
       "      <td>288.0</td>\n",
       "      <td>551.0</td>\n",
       "      <td>1.10</td>\n",
       "      <td>0.998</td>\n",
       "      <td>5.95</td>\n",
       "      <td>1.02</td>\n",
       "      <td>7.14</td>\n",
       "      <td>0.082</td>\n",
       "      <td>0.95</td>\n",
       "      <td>0.975</td>\n",
       "    </tr>\n",
       "    <tr>\n",
       "      <th>1</th>\n",
       "      <td>2.09</td>\n",
       "      <td>6.0</td>\n",
       "      <td>6960.0</td>\n",
       "      <td>1380.0</td>\n",
       "      <td>6830.0</td>\n",
       "      <td>28.20</td>\n",
       "      <td>28.20</td>\n",
       "      <td>635.0</td>\n",
       "      <td>288.0</td>\n",
       "      <td>582.0</td>\n",
       "      <td>1.33</td>\n",
       "      <td>0.998</td>\n",
       "      <td>7.28</td>\n",
       "      <td>1.02</td>\n",
       "      <td>10.70</td>\n",
       "      <td>0.287</td>\n",
       "      <td>0.95</td>\n",
       "      <td>0.975</td>\n",
       "    </tr>\n",
       "    <tr>\n",
       "      <th>2</th>\n",
       "      <td>3.14</td>\n",
       "      <td>9.0</td>\n",
       "      <td>8380.0</td>\n",
       "      <td>1390.0</td>\n",
       "      <td>7110.0</td>\n",
       "      <td>60.40</td>\n",
       "      <td>60.40</td>\n",
       "      <td>606.0</td>\n",
       "      <td>288.0</td>\n",
       "      <td>588.0</td>\n",
       "      <td>1.39</td>\n",
       "      <td>0.998</td>\n",
       "      <td>7.57</td>\n",
       "      <td>1.02</td>\n",
       "      <td>13.10</td>\n",
       "      <td>0.259</td>\n",
       "      <td>0.95</td>\n",
       "      <td>0.975</td>\n",
       "    </tr>\n",
       "    <tr>\n",
       "      <th>3</th>\n",
       "      <td>4.16</td>\n",
       "      <td>12.0</td>\n",
       "      <td>14700.0</td>\n",
       "      <td>1550.0</td>\n",
       "      <td>7790.0</td>\n",
       "      <td>114.00</td>\n",
       "      <td>114.00</td>\n",
       "      <td>661.0</td>\n",
       "      <td>288.0</td>\n",
       "      <td>614.0</td>\n",
       "      <td>1.66</td>\n",
       "      <td>0.998</td>\n",
       "      <td>9.01</td>\n",
       "      <td>1.02</td>\n",
       "      <td>18.10</td>\n",
       "      <td>0.358</td>\n",
       "      <td>0.95</td>\n",
       "      <td>0.975</td>\n",
       "    </tr>\n",
       "    <tr>\n",
       "      <th>4</th>\n",
       "      <td>5.14</td>\n",
       "      <td>15.0</td>\n",
       "      <td>21600.0</td>\n",
       "      <td>1920.0</td>\n",
       "      <td>8490.0</td>\n",
       "      <td>175.00</td>\n",
       "      <td>175.00</td>\n",
       "      <td>731.0</td>\n",
       "      <td>288.0</td>\n",
       "      <td>646.0</td>\n",
       "      <td>2.08</td>\n",
       "      <td>0.998</td>\n",
       "      <td>11.20</td>\n",
       "      <td>1.03</td>\n",
       "      <td>26.40</td>\n",
       "      <td>0.522</td>\n",
       "      <td>0.95</td>\n",
       "      <td>0.975</td>\n",
       "    </tr>\n",
       "    <tr>\n",
       "      <th>...</th>\n",
       "      <td>...</td>\n",
       "      <td>...</td>\n",
       "      <td>...</td>\n",
       "      <td>...</td>\n",
       "      <td>...</td>\n",
       "      <td>...</td>\n",
       "      <td>...</td>\n",
       "      <td>...</td>\n",
       "      <td>...</td>\n",
       "      <td>...</td>\n",
       "      <td>...</td>\n",
       "      <td>...</td>\n",
       "      <td>...</td>\n",
       "      <td>...</td>\n",
       "      <td>...</td>\n",
       "      <td>...</td>\n",
       "      <td>...</td>\n",
       "      <td>...</td>\n",
       "    </tr>\n",
       "    <tr>\n",
       "      <th>11929</th>\n",
       "      <td>5.14</td>\n",
       "      <td>15.0</td>\n",
       "      <td>21600.0</td>\n",
       "      <td>1920.0</td>\n",
       "      <td>8470.0</td>\n",
       "      <td>175.00</td>\n",
       "      <td>175.00</td>\n",
       "      <td>682.0</td>\n",
       "      <td>288.0</td>\n",
       "      <td>629.0</td>\n",
       "      <td>2.09</td>\n",
       "      <td>0.998</td>\n",
       "      <td>11.00</td>\n",
       "      <td>1.03</td>\n",
       "      <td>23.80</td>\n",
       "      <td>0.471</td>\n",
       "      <td>1.00</td>\n",
       "      <td>1.000</td>\n",
       "    </tr>\n",
       "    <tr>\n",
       "      <th>11930</th>\n",
       "      <td>6.18</td>\n",
       "      <td>18.0</td>\n",
       "      <td>29800.0</td>\n",
       "      <td>2310.0</td>\n",
       "      <td>8800.0</td>\n",
       "      <td>246.00</td>\n",
       "      <td>246.00</td>\n",
       "      <td>747.0</td>\n",
       "      <td>288.0</td>\n",
       "      <td>659.0</td>\n",
       "      <td>2.51</td>\n",
       "      <td>0.998</td>\n",
       "      <td>13.10</td>\n",
       "      <td>1.03</td>\n",
       "      <td>32.70</td>\n",
       "      <td>0.647</td>\n",
       "      <td>1.00</td>\n",
       "      <td>1.000</td>\n",
       "    </tr>\n",
       "    <tr>\n",
       "      <th>11931</th>\n",
       "      <td>7.15</td>\n",
       "      <td>21.0</td>\n",
       "      <td>39000.0</td>\n",
       "      <td>2680.0</td>\n",
       "      <td>9120.0</td>\n",
       "      <td>332.00</td>\n",
       "      <td>332.00</td>\n",
       "      <td>796.0</td>\n",
       "      <td>288.0</td>\n",
       "      <td>680.0</td>\n",
       "      <td>2.98</td>\n",
       "      <td>0.998</td>\n",
       "      <td>15.40</td>\n",
       "      <td>1.04</td>\n",
       "      <td>42.10</td>\n",
       "      <td>0.834</td>\n",
       "      <td>1.00</td>\n",
       "      <td>1.000</td>\n",
       "    </tr>\n",
       "    <tr>\n",
       "      <th>11932</th>\n",
       "      <td>8.21</td>\n",
       "      <td>24.0</td>\n",
       "      <td>51000.0</td>\n",
       "      <td>3090.0</td>\n",
       "      <td>9300.0</td>\n",
       "      <td>438.00</td>\n",
       "      <td>438.00</td>\n",
       "      <td>893.0</td>\n",
       "      <td>288.0</td>\n",
       "      <td>722.0</td>\n",
       "      <td>3.59</td>\n",
       "      <td>0.998</td>\n",
       "      <td>18.30</td>\n",
       "      <td>1.04</td>\n",
       "      <td>58.10</td>\n",
       "      <td>1.150</td>\n",
       "      <td>1.00</td>\n",
       "      <td>1.000</td>\n",
       "    </tr>\n",
       "    <tr>\n",
       "      <th>11933</th>\n",
       "      <td>9.30</td>\n",
       "      <td>27.0</td>\n",
       "      <td>72800.0</td>\n",
       "      <td>3560.0</td>\n",
       "      <td>9740.0</td>\n",
       "      <td>645.00</td>\n",
       "      <td>645.00</td>\n",
       "      <td>1040.0</td>\n",
       "      <td>288.0</td>\n",
       "      <td>768.0</td>\n",
       "      <td>4.53</td>\n",
       "      <td>0.998</td>\n",
       "      <td>22.50</td>\n",
       "      <td>1.05</td>\n",
       "      <td>86.10</td>\n",
       "      <td>1.700</td>\n",
       "      <td>1.00</td>\n",
       "      <td>1.000</td>\n",
       "    </tr>\n",
       "  </tbody>\n",
       "</table>\n",
       "<p>11934 rows × 18 columns</p>\n",
       "</div>"
      ],
      "text/plain": [
       "         0     1        2       3       4       5       6       7      8   \\\n",
       "0      1.14   3.0    290.0  1350.0  6680.0    7.58    7.58   464.0  288.0   \n",
       "1      2.09   6.0   6960.0  1380.0  6830.0   28.20   28.20   635.0  288.0   \n",
       "2      3.14   9.0   8380.0  1390.0  7110.0   60.40   60.40   606.0  288.0   \n",
       "3      4.16  12.0  14700.0  1550.0  7790.0  114.00  114.00   661.0  288.0   \n",
       "4      5.14  15.0  21600.0  1920.0  8490.0  175.00  175.00   731.0  288.0   \n",
       "...     ...   ...      ...     ...     ...     ...     ...     ...    ...   \n",
       "11929  5.14  15.0  21600.0  1920.0  8470.0  175.00  175.00   682.0  288.0   \n",
       "11930  6.18  18.0  29800.0  2310.0  8800.0  246.00  246.00   747.0  288.0   \n",
       "11931  7.15  21.0  39000.0  2680.0  9120.0  332.00  332.00   796.0  288.0   \n",
       "11932  8.21  24.0  51000.0  3090.0  9300.0  438.00  438.00   893.0  288.0   \n",
       "11933  9.30  27.0  72800.0  3560.0  9740.0  645.00  645.00  1040.0  288.0   \n",
       "\n",
       "          9     10     11     12    13     14     15    16     17  \n",
       "0      551.0  1.10  0.998   5.95  1.02   7.14  0.082  0.95  0.975  \n",
       "1      582.0  1.33  0.998   7.28  1.02  10.70  0.287  0.95  0.975  \n",
       "2      588.0  1.39  0.998   7.57  1.02  13.10  0.259  0.95  0.975  \n",
       "3      614.0  1.66  0.998   9.01  1.02  18.10  0.358  0.95  0.975  \n",
       "4      646.0  2.08  0.998  11.20  1.03  26.40  0.522  0.95  0.975  \n",
       "...      ...   ...    ...    ...   ...    ...    ...   ...    ...  \n",
       "11929  629.0  2.09  0.998  11.00  1.03  23.80  0.471  1.00  1.000  \n",
       "11930  659.0  2.51  0.998  13.10  1.03  32.70  0.647  1.00  1.000  \n",
       "11931  680.0  2.98  0.998  15.40  1.04  42.10  0.834  1.00  1.000  \n",
       "11932  722.0  3.59  0.998  18.30  1.04  58.10  1.150  1.00  1.000  \n",
       "11933  768.0  4.53  0.998  22.50  1.05  86.10  1.700  1.00  1.000  \n",
       "\n",
       "[11934 rows x 18 columns]"
      ]
     },
     "execution_count": 3,
     "metadata": {},
     "output_type": "execute_result"
    }
   ],
   "source": [
    "npm = pd.read_csv('navalplantmaintenance.csv',header=None)\n",
    "npm"
   ]
  },
  {
   "cell_type": "markdown",
   "metadata": {
    "id": "bmqdSe1HAFm4"
   },
   "source": [
    "Split dataset into training and test datasets"
   ]
  },
  {
   "cell_type": "code",
   "execution_count": 4,
   "metadata": {
    "id": "8IFZRE6__uGx"
   },
   "outputs": [],
   "source": [
    "npm_train, npm_test = train_test_split(npm,test_size=0.25,random_state=42)"
   ]
  },
  {
   "cell_type": "markdown",
   "metadata": {
    "id": "hu3uGokoBQqZ"
   },
   "source": [
    "Create the training and test input matrices using the first 16 columns and the training and test target matrices using the 18th columns."
   ]
  },
  {
   "cell_type": "code",
   "execution_count": 5,
   "metadata": {
    "id": "84mZYs5K_m9f"
   },
   "outputs": [],
   "source": [
    "npm_train_np = npm_train.to_numpy()\n",
    "npm_test_np = npm_test.to_numpy()\n",
    "x_train_np = npm_train_np[:,:16]\n",
    "x_test_np = npm_test_np[:,:16]\n",
    "y_train_np = npm_train_np[:,17]\n",
    "y_test_np = npm_test_np[:,17]"
   ]
  },
  {
   "cell_type": "markdown",
   "metadata": {
    "id": "31BDK50UCheG"
   },
   "source": [
    "Z-score the input and output data using the training dataset statistics"
   ]
  },
  {
   "cell_type": "code",
   "execution_count": 6,
   "metadata": {
    "id": "dAnvfTwACgl2"
   },
   "outputs": [],
   "source": [
    "x_mu = x_train_np.mean(axis=0)\n",
    "x_sigma = x_train_np.std(axis=0)\n",
    "y_mu=y_train_np.mean(axis=0)\n",
    "y_sigma=y_train_np.std(axis=0)"
   ]
  },
  {
   "cell_type": "code",
   "execution_count": 7,
   "metadata": {
    "id": "E1Cuf-Q-DkHF"
   },
   "outputs": [],
   "source": [
    "def scale(x,x_mu,x_sigma):\n",
    "  x_sigma += 1e-16\n",
    "  return (x-x_mu)/x_sigma"
   ]
  },
  {
   "cell_type": "code",
   "execution_count": 8,
   "metadata": {
    "id": "TTKGrKJvD4bA"
   },
   "outputs": [],
   "source": [
    "def unscale(x,x_mu,x_sigma):\n",
    "  x_sigma += 1e-16\n",
    "  return x_sigma*x+x_mu"
   ]
  },
  {
   "cell_type": "code",
   "execution_count": 9,
   "metadata": {
    "id": "zOslGOGG_FeG"
   },
   "outputs": [],
   "source": [
    "x_train_np_z = scale(x_train_np,x_mu,x_sigma)\n",
    "y_train_np_z = scale(y_train_np,y_mu,y_sigma)\n",
    "x_test_np_z = scale(x_test_np,x_mu,x_sigma)\n",
    "y_test_np_z = scale(y_test_np,y_mu,y_sigma)"
   ]
  },
  {
   "cell_type": "markdown",
   "metadata": {
    "id": "ThaYyJS6_FeG"
   },
   "source": [
    "Using Tensoflow, perform non-linear regression."
   ]
  },
  {
   "cell_type": "code",
   "execution_count": 10,
   "metadata": {
    "id": "PlPF-xRaIBWw"
   },
   "outputs": [],
   "source": [
    "loss_object = tf.keras.losses.MeanSquaredError()"
   ]
  },
  {
   "cell_type": "code",
   "execution_count": 11,
   "metadata": {
    "colab": {
     "base_uri": "https://localhost:8080/"
    },
    "id": "Q_-4RTaL_FeI",
    "outputId": "21f07042-5daf-410b-9ac0-09730cc5b8d4",
    "scrolled": false
   },
   "outputs": [
    {
     "name": "stdout",
     "output_type": "stream",
     "text": [
      "Model: \"model\"\n",
      "_________________________________________________________________\n",
      " Layer (type)                Output Shape              Param #   \n",
      "=================================================================\n",
      " input_1 (InputLayer)        [(None, 16)]              0         \n",
      "                                                                 \n",
      " hidden1 (Dense)             (None, 50)                850       \n",
      "                                                                 \n",
      " hidden2 (Dense)             (None, 50)                2550      \n",
      "                                                                 \n",
      " mu (Dense)                  (None, 1)                 51        \n",
      "                                                                 \n",
      "=================================================================\n",
      "Total params: 3451 (13.48 KB)\n",
      "Trainable params: 3451 (13.48 KB)\n",
      "Non-trainable params: 0 (0.00 Byte)\n",
      "_________________________________________________________________\n",
      "None\n"
     ]
    },
    {
     "name": "stderr",
     "output_type": "stream",
     "text": [
      "2023-10-06 20:39:47.770450: I tensorflow/core/common_runtime/gpu/gpu_device.cc:1639] Created device /job:localhost/replica:0/task:0/device:GPU:0 with 46497 MB memory:  -> device: 0, name: NVIDIA RTX 6000 Ada Generation, pci bus id: 0000:1a:00.0, compute capability: 8.9\n"
     ]
    }
   ],
   "source": [
    "input = tf.keras.layers.Input(16)\n",
    "h1 = tf.keras.layers.Dense(50, activation=tf.keras.activations.relu, name=\"hidden1\")(input)\n",
    "h2 = tf.keras.layers.Dense(50, activation=tf.keras.activations.relu, name=\"hidden2\")(h1)\n",
    "m = tf.keras.layers.Dense(1, name=\"mu\")(h2)\n",
    "model = tf.keras.Model(inputs=input, outputs=m)\n",
    "\n",
    "model.compile(optimizer=tf.optimizers.SGD(learning_rate=0.1), loss=loss_object)\n",
    "print(model.summary())"
   ]
  },
  {
   "cell_type": "code",
   "execution_count": 12,
   "metadata": {
    "colab": {
     "base_uri": "https://localhost:8080/"
    },
    "id": "4u9qdraD_FeI",
    "outputId": "3bfa40fc-2196-4cd9-ed64-ab66037a748d"
   },
   "outputs": [
    {
     "name": "stdout",
     "output_type": "stream",
     "text": [
      "Epoch 1/200\n"
     ]
    },
    {
     "name": "stderr",
     "output_type": "stream",
     "text": [
      "2023-10-06 20:39:50.189068: I tensorflow/compiler/xla/stream_executor/cuda/cuda_blas.cc:606] TensorFloat-32 will be used for the matrix multiplication. This will only be logged once.\n",
      "2023-10-06 20:39:50.216283: I tensorflow/compiler/xla/service/service.cc:168] XLA service 0x7fd57fa066f0 initialized for platform CUDA (this does not guarantee that XLA will be used). Devices:\n",
      "2023-10-06 20:39:50.216325: I tensorflow/compiler/xla/service/service.cc:176]   StreamExecutor device (0): NVIDIA RTX 6000 Ada Generation, Compute Capability 8.9\n",
      "2023-10-06 20:39:50.481319: I tensorflow/compiler/xla/stream_executor/cuda/cuda_dnn.cc:432] Loaded cuDNN version 8600\n",
      "2023-10-06 20:39:50.750602: I ./tensorflow/compiler/jit/device_compiler.h:186] Compiled cluster using XLA!  This line is logged at most once for the lifetime of the process.\n"
     ]
    },
    {
     "name": "stdout",
     "output_type": "stream",
     "text": [
      "280/280 [==============================] - 3s 2ms/step - loss: 0.9992\n",
      "Epoch 2/200\n",
      "280/280 [==============================] - 1s 2ms/step - loss: 0.9426\n",
      "Epoch 3/200\n",
      "280/280 [==============================] - 1s 2ms/step - loss: 0.8783\n",
      "Epoch 4/200\n",
      "280/280 [==============================] - 1s 2ms/step - loss: 0.8148\n",
      "Epoch 5/200\n",
      "280/280 [==============================] - 1s 2ms/step - loss: 0.7753\n",
      "Epoch 6/200\n",
      "280/280 [==============================] - 1s 2ms/step - loss: 0.7297\n",
      "Epoch 7/200\n",
      "280/280 [==============================] - 1s 2ms/step - loss: 0.6925\n",
      "Epoch 8/200\n",
      "280/280 [==============================] - 1s 2ms/step - loss: 0.6817\n",
      "Epoch 9/200\n",
      "280/280 [==============================] - 1s 2ms/step - loss: 0.6507\n",
      "Epoch 10/200\n",
      "280/280 [==============================] - 1s 2ms/step - loss: 0.6248\n",
      "Epoch 11/200\n",
      "280/280 [==============================] - 1s 2ms/step - loss: 0.5982\n",
      "Epoch 12/200\n",
      "280/280 [==============================] - 1s 2ms/step - loss: 0.5942\n",
      "Epoch 13/200\n",
      "280/280 [==============================] - 1s 2ms/step - loss: 0.5685\n",
      "Epoch 14/200\n",
      "280/280 [==============================] - 1s 2ms/step - loss: 0.5529\n",
      "Epoch 15/200\n",
      "280/280 [==============================] - 1s 2ms/step - loss: 0.5401\n",
      "Epoch 16/200\n",
      "280/280 [==============================] - 1s 2ms/step - loss: 0.5114\n",
      "Epoch 17/200\n",
      "280/280 [==============================] - 1s 2ms/step - loss: 0.5052\n",
      "Epoch 18/200\n",
      "280/280 [==============================] - 1s 2ms/step - loss: 0.4863\n",
      "Epoch 19/200\n",
      "280/280 [==============================] - 1s 2ms/step - loss: 0.4763\n",
      "Epoch 20/200\n",
      "280/280 [==============================] - 1s 2ms/step - loss: 0.4649\n",
      "Epoch 21/200\n",
      "280/280 [==============================] - 1s 2ms/step - loss: 0.4362\n",
      "Epoch 22/200\n",
      "280/280 [==============================] - 1s 2ms/step - loss: 0.4389\n",
      "Epoch 23/200\n",
      "280/280 [==============================] - 1s 2ms/step - loss: 0.4338\n",
      "Epoch 24/200\n",
      "280/280 [==============================] - 1s 2ms/step - loss: 0.4156\n",
      "Epoch 25/200\n",
      "280/280 [==============================] - 1s 2ms/step - loss: 0.4039\n",
      "Epoch 26/200\n",
      "280/280 [==============================] - 1s 2ms/step - loss: 0.4087\n",
      "Epoch 27/200\n",
      "280/280 [==============================] - 1s 2ms/step - loss: 0.3955\n",
      "Epoch 28/200\n",
      "280/280 [==============================] - 1s 2ms/step - loss: 0.4033\n",
      "Epoch 29/200\n",
      "280/280 [==============================] - 1s 2ms/step - loss: 0.3625\n",
      "Epoch 30/200\n",
      "280/280 [==============================] - 1s 2ms/step - loss: 0.3634\n",
      "Epoch 31/200\n",
      "280/280 [==============================] - 1s 2ms/step - loss: 0.3479\n",
      "Epoch 32/200\n",
      "280/280 [==============================] - 1s 2ms/step - loss: 0.3498\n",
      "Epoch 33/200\n",
      "280/280 [==============================] - 1s 2ms/step - loss: 0.3589\n",
      "Epoch 34/200\n",
      "280/280 [==============================] - 1s 2ms/step - loss: 0.3336\n",
      "Epoch 35/200\n",
      "280/280 [==============================] - 1s 2ms/step - loss: 0.3418\n",
      "Epoch 36/200\n",
      "280/280 [==============================] - 1s 2ms/step - loss: 0.3313\n",
      "Epoch 37/200\n",
      "280/280 [==============================] - 1s 2ms/step - loss: 0.3382\n",
      "Epoch 38/200\n",
      "280/280 [==============================] - 1s 2ms/step - loss: 0.3089\n",
      "Epoch 39/200\n",
      "280/280 [==============================] - 1s 2ms/step - loss: 0.3298\n",
      "Epoch 40/200\n",
      "280/280 [==============================] - 1s 2ms/step - loss: 0.3126\n",
      "Epoch 41/200\n",
      "280/280 [==============================] - 1s 2ms/step - loss: 0.3168\n",
      "Epoch 42/200\n",
      "280/280 [==============================] - 1s 2ms/step - loss: 0.2941\n",
      "Epoch 43/200\n",
      "280/280 [==============================] - 1s 2ms/step - loss: 0.2812\n",
      "Epoch 44/200\n",
      "280/280 [==============================] - 1s 2ms/step - loss: 0.2968\n",
      "Epoch 45/200\n",
      "280/280 [==============================] - 1s 2ms/step - loss: 0.2864\n",
      "Epoch 46/200\n",
      "280/280 [==============================] - 1s 2ms/step - loss: 0.3039\n",
      "Epoch 47/200\n",
      "280/280 [==============================] - 1s 2ms/step - loss: 0.2809\n",
      "Epoch 48/200\n",
      "280/280 [==============================] - 1s 2ms/step - loss: 0.2853\n",
      "Epoch 49/200\n",
      "280/280 [==============================] - 1s 2ms/step - loss: 0.2690\n",
      "Epoch 50/200\n",
      "280/280 [==============================] - 1s 2ms/step - loss: 0.2589\n",
      "Epoch 51/200\n",
      "280/280 [==============================] - 1s 2ms/step - loss: 0.2686\n",
      "Epoch 52/200\n",
      "280/280 [==============================] - 1s 2ms/step - loss: 0.2647\n",
      "Epoch 53/200\n",
      "280/280 [==============================] - 1s 2ms/step - loss: 0.2495\n",
      "Epoch 54/200\n",
      "280/280 [==============================] - 1s 2ms/step - loss: 0.2480\n",
      "Epoch 55/200\n",
      "280/280 [==============================] - 1s 2ms/step - loss: 0.2553\n",
      "Epoch 56/200\n",
      "280/280 [==============================] - 1s 2ms/step - loss: 0.2523\n",
      "Epoch 57/200\n",
      "280/280 [==============================] - 1s 2ms/step - loss: 0.2428\n",
      "Epoch 58/200\n",
      "280/280 [==============================] - 1s 2ms/step - loss: 0.2538\n",
      "Epoch 59/200\n",
      "280/280 [==============================] - 1s 2ms/step - loss: 0.2342\n",
      "Epoch 60/200\n",
      "280/280 [==============================] - 1s 2ms/step - loss: 0.2429\n",
      "Epoch 61/200\n",
      "280/280 [==============================] - 1s 2ms/step - loss: 0.2567\n",
      "Epoch 62/200\n",
      "280/280 [==============================] - 1s 2ms/step - loss: 0.2426\n",
      "Epoch 63/200\n",
      "280/280 [==============================] - 1s 2ms/step - loss: 0.2241\n",
      "Epoch 64/200\n",
      "280/280 [==============================] - 1s 2ms/step - loss: 0.2338\n",
      "Epoch 65/200\n",
      "280/280 [==============================] - 1s 2ms/step - loss: 0.2220\n",
      "Epoch 66/200\n",
      "280/280 [==============================] - 1s 2ms/step - loss: 0.2211\n",
      "Epoch 67/200\n",
      "280/280 [==============================] - 1s 2ms/step - loss: 0.2215\n",
      "Epoch 68/200\n",
      "280/280 [==============================] - 1s 2ms/step - loss: 0.2109\n",
      "Epoch 69/200\n",
      "280/280 [==============================] - 1s 2ms/step - loss: 0.2253\n",
      "Epoch 70/200\n",
      "280/280 [==============================] - 1s 2ms/step - loss: 0.2109\n",
      "Epoch 71/200\n",
      "280/280 [==============================] - 1s 2ms/step - loss: 0.2077\n",
      "Epoch 72/200\n",
      "280/280 [==============================] - 1s 2ms/step - loss: 0.2091\n",
      "Epoch 73/200\n",
      "280/280 [==============================] - 1s 2ms/step - loss: 0.2135\n",
      "Epoch 74/200\n",
      "280/280 [==============================] - 1s 2ms/step - loss: 0.2045\n",
      "Epoch 75/200\n",
      "280/280 [==============================] - 1s 2ms/step - loss: 0.1948\n",
      "Epoch 76/200\n",
      "280/280 [==============================] - 1s 2ms/step - loss: 0.1950\n",
      "Epoch 77/200\n",
      "280/280 [==============================] - 1s 2ms/step - loss: 0.2156\n",
      "Epoch 78/200\n",
      "280/280 [==============================] - 1s 2ms/step - loss: 0.2022\n",
      "Epoch 79/200\n",
      "280/280 [==============================] - 1s 2ms/step - loss: 0.2049\n",
      "Epoch 80/200\n",
      "280/280 [==============================] - 1s 2ms/step - loss: 0.1948\n",
      "Epoch 81/200\n",
      "280/280 [==============================] - 1s 2ms/step - loss: 0.1895\n",
      "Epoch 82/200\n",
      "280/280 [==============================] - 1s 2ms/step - loss: 0.1846\n",
      "Epoch 83/200\n",
      "280/280 [==============================] - 1s 2ms/step - loss: 0.1818\n",
      "Epoch 84/200\n",
      "280/280 [==============================] - 1s 2ms/step - loss: 0.1899\n",
      "Epoch 85/200\n",
      "280/280 [==============================] - 1s 2ms/step - loss: 0.1822\n",
      "Epoch 86/200\n",
      "280/280 [==============================] - 1s 2ms/step - loss: 0.1826\n",
      "Epoch 87/200\n",
      "280/280 [==============================] - 1s 2ms/step - loss: 0.1825\n",
      "Epoch 88/200\n",
      "280/280 [==============================] - 1s 2ms/step - loss: 0.1789\n",
      "Epoch 89/200\n",
      "280/280 [==============================] - 1s 2ms/step - loss: 0.1693\n",
      "Epoch 90/200\n",
      "280/280 [==============================] - 1s 2ms/step - loss: 0.1822\n",
      "Epoch 91/200\n",
      "280/280 [==============================] - 1s 2ms/step - loss: 0.1696\n",
      "Epoch 92/200\n",
      "280/280 [==============================] - 1s 2ms/step - loss: 0.1728\n",
      "Epoch 93/200\n",
      "280/280 [==============================] - 1s 2ms/step - loss: 0.1774\n",
      "Epoch 94/200\n",
      "280/280 [==============================] - 1s 2ms/step - loss: 0.1732\n",
      "Epoch 95/200\n",
      "280/280 [==============================] - 1s 2ms/step - loss: 0.1689\n",
      "Epoch 96/200\n",
      "280/280 [==============================] - 1s 2ms/step - loss: 0.1609\n",
      "Epoch 97/200\n",
      "280/280 [==============================] - 1s 2ms/step - loss: 0.1665\n",
      "Epoch 98/200\n",
      "280/280 [==============================] - 1s 2ms/step - loss: 0.1793\n",
      "Epoch 99/200\n",
      "280/280 [==============================] - 1s 2ms/step - loss: 0.1563\n"
     ]
    },
    {
     "name": "stdout",
     "output_type": "stream",
     "text": [
      "Epoch 100/200\n",
      "280/280 [==============================] - 1s 2ms/step - loss: 0.1738\n",
      "Epoch 101/200\n",
      "280/280 [==============================] - 1s 2ms/step - loss: 0.1636\n",
      "Epoch 102/200\n",
      "280/280 [==============================] - 1s 2ms/step - loss: 0.1540\n",
      "Epoch 103/200\n",
      "280/280 [==============================] - 1s 2ms/step - loss: 0.1467\n",
      "Epoch 104/200\n",
      "280/280 [==============================] - 1s 2ms/step - loss: 0.1600\n",
      "Epoch 105/200\n",
      "280/280 [==============================] - 1s 2ms/step - loss: 0.1519\n",
      "Epoch 106/200\n",
      "280/280 [==============================] - 1s 2ms/step - loss: 0.1589\n",
      "Epoch 107/200\n",
      "280/280 [==============================] - 1s 2ms/step - loss: 0.1370\n",
      "Epoch 108/200\n",
      "280/280 [==============================] - 1s 2ms/step - loss: 0.1619\n",
      "Epoch 109/200\n",
      "280/280 [==============================] - 1s 2ms/step - loss: 0.1481\n",
      "Epoch 110/200\n",
      "280/280 [==============================] - 1s 2ms/step - loss: 0.1603\n",
      "Epoch 111/200\n",
      "280/280 [==============================] - 1s 2ms/step - loss: 0.1425\n",
      "Epoch 112/200\n",
      "280/280 [==============================] - 1s 2ms/step - loss: 0.1685\n",
      "Epoch 113/200\n",
      "280/280 [==============================] - 1s 2ms/step - loss: 0.1555\n",
      "Epoch 114/200\n",
      "280/280 [==============================] - 1s 2ms/step - loss: 0.1356\n",
      "Epoch 115/200\n",
      "280/280 [==============================] - 1s 2ms/step - loss: 0.1518\n",
      "Epoch 116/200\n",
      "280/280 [==============================] - 1s 2ms/step - loss: 0.1468\n",
      "Epoch 117/200\n",
      "280/280 [==============================] - 1s 2ms/step - loss: 0.1293\n",
      "Epoch 118/200\n",
      "280/280 [==============================] - 1s 2ms/step - loss: 0.1472\n",
      "Epoch 119/200\n",
      "280/280 [==============================] - 1s 2ms/step - loss: 0.1315\n",
      "Epoch 120/200\n",
      "280/280 [==============================] - 1s 2ms/step - loss: 0.1289\n",
      "Epoch 121/200\n",
      "280/280 [==============================] - 1s 2ms/step - loss: 0.1399\n",
      "Epoch 122/200\n",
      "280/280 [==============================] - 1s 2ms/step - loss: 0.1325\n",
      "Epoch 123/200\n",
      "280/280 [==============================] - 1s 2ms/step - loss: 0.1178\n",
      "Epoch 124/200\n",
      "280/280 [==============================] - 1s 2ms/step - loss: 0.1280\n",
      "Epoch 125/200\n",
      "280/280 [==============================] - 1s 2ms/step - loss: 0.1278\n",
      "Epoch 126/200\n",
      "280/280 [==============================] - 1s 2ms/step - loss: 0.1309\n",
      "Epoch 127/200\n",
      "280/280 [==============================] - 1s 2ms/step - loss: 0.1289\n",
      "Epoch 128/200\n",
      "280/280 [==============================] - 1s 2ms/step - loss: 0.1319\n",
      "Epoch 129/200\n",
      "280/280 [==============================] - 1s 2ms/step - loss: 0.1278\n",
      "Epoch 130/200\n",
      "280/280 [==============================] - 1s 2ms/step - loss: 0.1297\n",
      "Epoch 131/200\n",
      "280/280 [==============================] - 1s 2ms/step - loss: 0.1158\n",
      "Epoch 132/200\n",
      "280/280 [==============================] - 1s 2ms/step - loss: 0.1302\n",
      "Epoch 133/200\n",
      "280/280 [==============================] - 1s 2ms/step - loss: 0.1210\n",
      "Epoch 134/200\n",
      "280/280 [==============================] - 1s 2ms/step - loss: 0.1125\n",
      "Epoch 135/200\n",
      "280/280 [==============================] - 1s 2ms/step - loss: 0.1131\n",
      "Epoch 136/200\n",
      "280/280 [==============================] - 1s 2ms/step - loss: 0.1125\n",
      "Epoch 137/200\n",
      "280/280 [==============================] - 1s 2ms/step - loss: 0.1167\n",
      "Epoch 138/200\n",
      "280/280 [==============================] - 1s 2ms/step - loss: 0.1123\n",
      "Epoch 139/200\n",
      "280/280 [==============================] - 1s 2ms/step - loss: 0.1151\n",
      "Epoch 140/200\n",
      "280/280 [==============================] - 1s 2ms/step - loss: 0.1241\n",
      "Epoch 141/200\n",
      "280/280 [==============================] - 1s 2ms/step - loss: 0.1121\n",
      "Epoch 142/200\n",
      "280/280 [==============================] - 1s 2ms/step - loss: 0.1112\n",
      "Epoch 143/200\n",
      "280/280 [==============================] - 1s 2ms/step - loss: 0.1289\n",
      "Epoch 144/200\n",
      "280/280 [==============================] - 1s 2ms/step - loss: 0.1056\n",
      "Epoch 145/200\n",
      "280/280 [==============================] - 1s 2ms/step - loss: 0.1403\n",
      "Epoch 146/200\n",
      "280/280 [==============================] - 1s 2ms/step - loss: 0.1243\n",
      "Epoch 147/200\n",
      "280/280 [==============================] - 1s 2ms/step - loss: 0.1163\n",
      "Epoch 148/200\n",
      "280/280 [==============================] - 1s 2ms/step - loss: 0.1171\n",
      "Epoch 149/200\n",
      "280/280 [==============================] - 1s 2ms/step - loss: 0.1177\n",
      "Epoch 150/200\n",
      "280/280 [==============================] - 1s 2ms/step - loss: 0.1133\n",
      "Epoch 151/200\n",
      "280/280 [==============================] - 1s 2ms/step - loss: 0.1359\n",
      "Epoch 152/200\n",
      "280/280 [==============================] - 1s 2ms/step - loss: 0.1099\n",
      "Epoch 153/200\n",
      "280/280 [==============================] - 1s 2ms/step - loss: 0.1228\n",
      "Epoch 154/200\n",
      "280/280 [==============================] - 1s 2ms/step - loss: 0.1093\n",
      "Epoch 155/200\n",
      "280/280 [==============================] - 1s 2ms/step - loss: 0.1133\n",
      "Epoch 156/200\n",
      "280/280 [==============================] - 1s 2ms/step - loss: 0.1171\n",
      "Epoch 157/200\n",
      "280/280 [==============================] - 1s 2ms/step - loss: 0.1025\n",
      "Epoch 158/200\n",
      "280/280 [==============================] - 1s 2ms/step - loss: 0.1167\n",
      "Epoch 159/200\n",
      "280/280 [==============================] - 1s 2ms/step - loss: 0.1078\n",
      "Epoch 160/200\n",
      "280/280 [==============================] - 1s 2ms/step - loss: 0.1099\n",
      "Epoch 161/200\n",
      "280/280 [==============================] - 1s 2ms/step - loss: 0.0971\n",
      "Epoch 162/200\n",
      "280/280 [==============================] - 1s 2ms/step - loss: 0.1081\n",
      "Epoch 163/200\n",
      "280/280 [==============================] - 1s 2ms/step - loss: 0.1048\n",
      "Epoch 164/200\n",
      "280/280 [==============================] - 1s 2ms/step - loss: 0.0970\n",
      "Epoch 165/200\n",
      "280/280 [==============================] - 1s 2ms/step - loss: 0.1007\n",
      "Epoch 166/200\n",
      "280/280 [==============================] - 1s 2ms/step - loss: 0.0912\n",
      "Epoch 167/200\n",
      "280/280 [==============================] - 1s 2ms/step - loss: 0.1086\n",
      "Epoch 168/200\n",
      "280/280 [==============================] - 1s 2ms/step - loss: 0.1061\n",
      "Epoch 169/200\n",
      "280/280 [==============================] - 1s 2ms/step - loss: 0.1133\n",
      "Epoch 170/200\n",
      "280/280 [==============================] - 1s 2ms/step - loss: 0.1009\n",
      "Epoch 171/200\n",
      "280/280 [==============================] - 1s 2ms/step - loss: 0.0908\n",
      "Epoch 172/200\n",
      "280/280 [==============================] - 1s 2ms/step - loss: 0.0945\n",
      "Epoch 173/200\n",
      "280/280 [==============================] - 1s 2ms/step - loss: 0.0969\n",
      "Epoch 174/200\n",
      "280/280 [==============================] - 1s 2ms/step - loss: 0.0965\n",
      "Epoch 175/200\n",
      "280/280 [==============================] - 1s 2ms/step - loss: 0.1046\n",
      "Epoch 176/200\n",
      "280/280 [==============================] - 1s 2ms/step - loss: 0.1038\n",
      "Epoch 177/200\n",
      "280/280 [==============================] - 1s 2ms/step - loss: 0.0945\n",
      "Epoch 178/200\n",
      "280/280 [==============================] - 1s 2ms/step - loss: 0.0880\n",
      "Epoch 179/200\n",
      "280/280 [==============================] - 1s 2ms/step - loss: 0.0928\n",
      "Epoch 180/200\n",
      "280/280 [==============================] - 1s 2ms/step - loss: 0.1067\n",
      "Epoch 181/200\n",
      "280/280 [==============================] - 1s 2ms/step - loss: 0.0973\n",
      "Epoch 182/200\n",
      "280/280 [==============================] - 1s 2ms/step - loss: 0.1260\n",
      "Epoch 183/200\n",
      "280/280 [==============================] - 1s 2ms/step - loss: 0.0809\n",
      "Epoch 184/200\n",
      "280/280 [==============================] - 1s 2ms/step - loss: 0.0915\n",
      "Epoch 185/200\n",
      "280/280 [==============================] - 1s 2ms/step - loss: 0.0860\n",
      "Epoch 186/200\n",
      "280/280 [==============================] - 1s 2ms/step - loss: 0.0916\n",
      "Epoch 187/200\n",
      "280/280 [==============================] - 1s 2ms/step - loss: 0.0804\n",
      "Epoch 188/200\n",
      "280/280 [==============================] - 1s 2ms/step - loss: 0.0809\n",
      "Epoch 189/200\n",
      "280/280 [==============================] - 1s 2ms/step - loss: 0.0958\n",
      "Epoch 190/200\n",
      "280/280 [==============================] - 1s 2ms/step - loss: 0.0765\n",
      "Epoch 191/200\n",
      "280/280 [==============================] - 1s 2ms/step - loss: 0.0830\n",
      "Epoch 192/200\n",
      "280/280 [==============================] - 1s 2ms/step - loss: 0.0810\n",
      "Epoch 193/200\n",
      "280/280 [==============================] - 1s 2ms/step - loss: 0.0752\n",
      "Epoch 194/200\n",
      "280/280 [==============================] - 1s 2ms/step - loss: 0.0905\n",
      "Epoch 195/200\n",
      "280/280 [==============================] - 1s 2ms/step - loss: 0.1183\n",
      "Epoch 196/200\n",
      "280/280 [==============================] - 1s 2ms/step - loss: 0.0848\n",
      "Epoch 197/200\n"
     ]
    },
    {
     "name": "stdout",
     "output_type": "stream",
     "text": [
      "280/280 [==============================] - 1s 2ms/step - loss: 0.0825\n",
      "Epoch 198/200\n",
      "280/280 [==============================] - 1s 2ms/step - loss: 0.0930\n",
      "Epoch 199/200\n",
      "280/280 [==============================] - 1s 2ms/step - loss: 0.0809\n",
      "Epoch 200/200\n",
      "280/280 [==============================] - 1s 2ms/step - loss: 0.0844\n"
     ]
    },
    {
     "data": {
      "text/plain": [
       "<keras.src.callbacks.History at 0x7fe29ed2e550>"
      ]
     },
     "execution_count": 12,
     "metadata": {},
     "output_type": "execute_result"
    }
   ],
   "source": [
    "# Training\n",
    "model.fit(x_train_np_z, y_train_np_z, epochs=n_epochs, verbose=verbose_option)"
   ]
  },
  {
   "cell_type": "markdown",
   "metadata": {
    "id": "43Dpn1DJQX-1"
   },
   "source": [
    "Compute the Mean Squared Error (MSE) for the trained non-linear homoscedastic regression model for the test data"
   ]
  },
  {
   "cell_type": "code",
   "execution_count": 13,
   "metadata": {
    "colab": {
     "base_uri": "https://localhost:8080/"
    },
    "id": "6SWwnVIa_FeI",
    "outputId": "07f07c55-56c5-488d-b49d-a2592598ac79"
   },
   "outputs": [
    {
     "name": "stdout",
     "output_type": "stream",
     "text": [
      "MSE: 4.454219990513917e-06\n"
     ]
    }
   ],
   "source": [
    "y_test_pred_z = model(x_test_np_z)\n",
    "y_test_pred = unscale(y_test_pred_z,y_mu,y_sigma) #TODO: Calculate the un-z-scored predicted mean\n",
    "print('MSE:', mean_squared_error(y_test_np, y_test_pred.numpy()))"
   ]
  },
  {
   "cell_type": "markdown",
   "metadata": {
    "id": "ThVRSgim4tKC"
   },
   "source": [
    "1. Create white-box, untargeted FGSM adversarial examples for the test set for the non-linear regression model."
   ]
  },
  {
   "cell_type": "code",
   "execution_count": 14,
   "metadata": {},
   "outputs": [],
   "source": [
    "def create_adversarial_pattern(model,input_example, target,loss_object):\n",
    "    input_example = tf.convert_to_tensor(input_example)\n",
    "    with tf.GradientTape() as tape:\n",
    "        tape.watch(input_example)\n",
    "        prediction = model(input_example) \n",
    "        loss = loss_object(target, prediction) \n",
    "\n",
    "        # Get the gradients of the loss w.r.t to the input example.\n",
    "        gradient = tape.gradient(loss, input_example)\n",
    "        # Get the sign of the gradients to create the perturbation\n",
    "        signed_grad = tf.sign(gradient)\n",
    "    return signed_grad"
   ]
  },
  {
   "cell_type": "code",
   "execution_count": 15,
   "metadata": {},
   "outputs": [],
   "source": [
    "signed_grad_np_z = np.zeros(shape=x_test_np_z.shape)\n",
    "for i in range(x_test_np_z.shape[0]):\n",
    "    signed_grad_np_z[i] = create_adversarial_pattern(model, np.reshape(x_test_np_z[i], [1,-1]), y_test_np_z[i], loss_object)"
   ]
  },
  {
   "cell_type": "markdown",
   "metadata": {
    "id": "phCZTE3D5dom"
   },
   "source": [
    "2. Compute the Mean Squared Error (MSE) for the trained non-linear regression model for the white-box, untargeted FGSM adversarial examples using:\n",
    "- Epsilon = 0.01\n",
    "- Epsilon= 0.1\n",
    "- Epsilon = 1."
   ]
  },
  {
   "cell_type": "code",
   "execution_count": 16,
   "metadata": {
    "id": "JqdRUNOx5qLs"
   },
   "outputs": [
    {
     "name": "stdout",
     "output_type": "stream",
     "text": [
      "MSE for Epsilon = 0.01: 6.0206313974842456e-05\n",
      "MSE for Epsilon = 0.1: 0.0018554663208178684\n",
      "MSE for Epsilon = 1.0: 0.15482808551042987\n"
     ]
    }
   ],
   "source": [
    "for eps in [0.01,0.1,1.]:\n",
    "    y_test_pred_z = model(x_test_np_z+eps*signed_grad_np_z)\n",
    "    y_test_pred = unscale(y_test_pred_z,y_mu,y_sigma) #TODO: Calculate the un-z-scored predicted mean\n",
    "    print('MSE for Epsilon = ' + str(eps)+':', mean_squared_error(y_test_np, y_test_pred.numpy()))"
   ]
  },
  {
   "cell_type": "markdown",
   "metadata": {
    "id": "6Bzsa9lp_FeJ"
   },
   "source": [
    "# Classification for Ship Detection\n"
   ]
  },
  {
   "cell_type": "markdown",
   "metadata": {
    "id": "-12maakP7JxW"
   },
   "source": [
    "Load Ship Detection Dataset"
   ]
  },
  {
   "cell_type": "code",
   "execution_count": 17,
   "metadata": {
    "id": "HyJTcSuO6qMi"
   },
   "outputs": [
    {
     "name": "stdout",
     "output_type": "stream",
     "text": [
      "Found 4000 files belonging to 2 classes.\n",
      "Using 3200 files for training.\n",
      "Using 800 files for validation.\n"
     ]
    }
   ],
   "source": [
    "import tensorflow as tf\n",
    "from tensorflow import keras\n",
    "from tensorflow.keras import layers\n",
    "\n",
    "ROOT_PATH = \"shipsnet\"\n",
    "LR = 1e-3\n",
    "BATCH_SIZE=1000\n",
    "\n",
    "def normalize_img(image, label):\n",
    "    return (tf.cast(image, tf.float32) / 255.0, label)\n",
    "\n",
    "# https://www.tensorflow.org/api_docs/python/tf/keras/utils/image_dataset_from_directory\n",
    "train_dataset, test_dataset = tf.keras.utils.image_dataset_from_directory(ROOT_PATH,\n",
    "                            labels = 'inferred',\n",
    "                            label_mode = 'binary',\n",
    "                            class_names = None,\n",
    "                            color_mode = \"rgb\",\n",
    "                            batch_size = BATCH_SIZE,\n",
    "                            image_size = (80, 80),\n",
    "                            shuffle = True,\n",
    "                            seed = 42,\n",
    "                            subset=\"both\",\n",
    "                            validation_split = 0.2,\n",
    ")\n",
    "\n",
    "train_dataset = train_dataset.map(normalize_img, num_parallel_calls=tf.data.AUTOTUNE)\n",
    "train_dataset = train_dataset.cache()\n",
    "train_dataset = train_dataset.prefetch(tf.data.AUTOTUNE)\n",
    "\n",
    "test_dataset = test_dataset.map(normalize_img, num_parallel_calls=tf.data.AUTOTUNE)\n",
    "test_dataset = test_dataset.cache()\n",
    "test_dataset = test_dataset.prefetch(tf.data.AUTOTUNE)"
   ]
  },
  {
   "cell_type": "markdown",
   "metadata": {
    "id": "nu0wsOv-96rG"
   },
   "source": [
    "Using Tensoflow, perform  non-linear binary classification model for the classification dataset."
   ]
  },
  {
   "cell_type": "code",
   "execution_count": 18,
   "metadata": {
    "id": "BK6Ujsag7Pa0"
   },
   "outputs": [],
   "source": [
    "inputs = layers.Input(shape=(80,80,3))\n",
    "flat = layers.Flatten()(inputs)\n",
    "h1 = layers.Dense(50, activation=\"relu\")(flat)\n",
    "h2 = layers.Dense(50, activation=\"relu\")(h1)\n",
    "h3 = layers.Dense(50, activation=\"relu\")(h2)\n",
    "p = layers.Dense(1,activation=tf.keras.activations.sigmoid)(h3)\n",
    "\n",
    "model = keras.Model(inputs=inputs, outputs=p)\n",
    "\n",
    "model.compile(\n",
    "    loss=tf.keras.losses.BinaryCrossentropy(from_logits=False),\n",
    "    optimizer=tf.keras.optimizers.Adam(LR),\n",
    "    metrics=[tf.keras.metrics.BinaryAccuracy(),\n",
    "    tf.keras.metrics.BinaryCrossentropy(from_logits=False)]\n",
    ")"
   ]
  },
  {
   "cell_type": "code",
   "execution_count": 19,
   "metadata": {
    "id": "-OciPSGu-jLx"
   },
   "outputs": [
    {
     "name": "stdout",
     "output_type": "stream",
     "text": [
      "Epoch 1/200\n"
     ]
    },
    {
     "name": "stderr",
     "output_type": "stream",
     "text": [
      "2023-10-06 20:42:01.330705: I tensorflow/compiler/mlir/tensorflow/utils/dump_mlir_util.cc:255] disabling MLIR crash reproducer, set env var `MLIR_CRASH_REPRODUCER_DIRECTORY` to enable.\n"
     ]
    },
    {
     "name": "stdout",
     "output_type": "stream",
     "text": [
      "4/4 [==============================] - 4s 18ms/step - loss: 1.4888 - binary_accuracy: 0.4391 - binary_crossentropy: 1.4888\n",
      "Epoch 2/200\n",
      "4/4 [==============================] - 0s 16ms/step - loss: 1.2229 - binary_accuracy: 0.7572 - binary_crossentropy: 1.2229\n",
      "Epoch 3/200\n",
      "4/4 [==============================] - 0s 16ms/step - loss: 0.6318 - binary_accuracy: 0.7606 - binary_crossentropy: 0.6318\n",
      "Epoch 4/200\n",
      "4/4 [==============================] - 0s 16ms/step - loss: 0.5510 - binary_accuracy: 0.7628 - binary_crossentropy: 0.5510\n",
      "Epoch 5/200\n",
      "4/4 [==============================] - 0s 16ms/step - loss: 0.5464 - binary_accuracy: 0.7625 - binary_crossentropy: 0.5464\n",
      "Epoch 6/200\n",
      "4/4 [==============================] - 0s 16ms/step - loss: 0.5054 - binary_accuracy: 0.7822 - binary_crossentropy: 0.5054\n",
      "Epoch 7/200\n",
      "4/4 [==============================] - 0s 16ms/step - loss: 0.4909 - binary_accuracy: 0.7775 - binary_crossentropy: 0.4909\n",
      "Epoch 8/200\n",
      "4/4 [==============================] - 0s 16ms/step - loss: 0.4509 - binary_accuracy: 0.8059 - binary_crossentropy: 0.4509\n",
      "Epoch 9/200\n",
      "4/4 [==============================] - 0s 16ms/step - loss: 0.4369 - binary_accuracy: 0.8169 - binary_crossentropy: 0.4369\n",
      "Epoch 10/200\n",
      "4/4 [==============================] - 0s 16ms/step - loss: 0.4129 - binary_accuracy: 0.8203 - binary_crossentropy: 0.4129\n",
      "Epoch 11/200\n",
      "4/4 [==============================] - 0s 16ms/step - loss: 0.3921 - binary_accuracy: 0.8350 - binary_crossentropy: 0.3921\n",
      "Epoch 12/200\n",
      "4/4 [==============================] - 0s 16ms/step - loss: 0.3852 - binary_accuracy: 0.8363 - binary_crossentropy: 0.3852\n",
      "Epoch 13/200\n",
      "4/4 [==============================] - 0s 17ms/step - loss: 0.3730 - binary_accuracy: 0.8400 - binary_crossentropy: 0.3730\n",
      "Epoch 14/200\n",
      "4/4 [==============================] - 0s 17ms/step - loss: 0.3588 - binary_accuracy: 0.8438 - binary_crossentropy: 0.3588\n",
      "Epoch 15/200\n",
      "4/4 [==============================] - 0s 16ms/step - loss: 0.3507 - binary_accuracy: 0.8503 - binary_crossentropy: 0.3507\n",
      "Epoch 16/200\n",
      "4/4 [==============================] - 0s 16ms/step - loss: 0.3465 - binary_accuracy: 0.8562 - binary_crossentropy: 0.3465\n",
      "Epoch 17/200\n",
      "4/4 [==============================] - 0s 16ms/step - loss: 0.3434 - binary_accuracy: 0.8587 - binary_crossentropy: 0.3434\n",
      "Epoch 18/200\n",
      "4/4 [==============================] - 0s 16ms/step - loss: 0.3394 - binary_accuracy: 0.8594 - binary_crossentropy: 0.3394\n",
      "Epoch 19/200\n",
      "4/4 [==============================] - 0s 16ms/step - loss: 0.3334 - binary_accuracy: 0.8606 - binary_crossentropy: 0.3334\n",
      "Epoch 20/200\n",
      "4/4 [==============================] - 0s 16ms/step - loss: 0.3276 - binary_accuracy: 0.8644 - binary_crossentropy: 0.3276\n",
      "Epoch 21/200\n",
      "4/4 [==============================] - 0s 16ms/step - loss: 0.3221 - binary_accuracy: 0.8669 - binary_crossentropy: 0.3221\n",
      "Epoch 22/200\n",
      "4/4 [==============================] - 0s 16ms/step - loss: 0.3182 - binary_accuracy: 0.8678 - binary_crossentropy: 0.3182\n",
      "Epoch 23/200\n",
      "4/4 [==============================] - 0s 16ms/step - loss: 0.3154 - binary_accuracy: 0.8675 - binary_crossentropy: 0.3154\n",
      "Epoch 24/200\n",
      "4/4 [==============================] - 0s 16ms/step - loss: 0.3137 - binary_accuracy: 0.8681 - binary_crossentropy: 0.3137\n",
      "Epoch 25/200\n",
      "4/4 [==============================] - 0s 16ms/step - loss: 0.3119 - binary_accuracy: 0.8694 - binary_crossentropy: 0.3119\n",
      "Epoch 26/200\n",
      "4/4 [==============================] - 0s 16ms/step - loss: 0.3111 - binary_accuracy: 0.8716 - binary_crossentropy: 0.3111\n",
      "Epoch 27/200\n",
      "4/4 [==============================] - 0s 17ms/step - loss: 0.3099 - binary_accuracy: 0.8725 - binary_crossentropy: 0.3099\n",
      "Epoch 28/200\n",
      "4/4 [==============================] - 0s 16ms/step - loss: 0.3061 - binary_accuracy: 0.8737 - binary_crossentropy: 0.3061\n",
      "Epoch 29/200\n",
      "4/4 [==============================] - 0s 16ms/step - loss: 0.3001 - binary_accuracy: 0.8766 - binary_crossentropy: 0.3001\n",
      "Epoch 30/200\n",
      "4/4 [==============================] - 0s 16ms/step - loss: 0.2918 - binary_accuracy: 0.8816 - binary_crossentropy: 0.2918\n",
      "Epoch 31/200\n",
      "4/4 [==============================] - 0s 16ms/step - loss: 0.2858 - binary_accuracy: 0.8859 - binary_crossentropy: 0.2858\n",
      "Epoch 32/200\n",
      "4/4 [==============================] - 0s 16ms/step - loss: 0.2803 - binary_accuracy: 0.8872 - binary_crossentropy: 0.2803\n",
      "Epoch 33/200\n",
      "4/4 [==============================] - 0s 16ms/step - loss: 0.2759 - binary_accuracy: 0.8875 - binary_crossentropy: 0.2759\n",
      "Epoch 34/200\n",
      "4/4 [==============================] - 0s 16ms/step - loss: 0.2751 - binary_accuracy: 0.8881 - binary_crossentropy: 0.2751\n",
      "Epoch 35/200\n",
      "4/4 [==============================] - 0s 16ms/step - loss: 0.2790 - binary_accuracy: 0.8875 - binary_crossentropy: 0.2790\n",
      "Epoch 36/200\n",
      "4/4 [==============================] - 0s 16ms/step - loss: 0.2879 - binary_accuracy: 0.8859 - binary_crossentropy: 0.2879\n",
      "Epoch 37/200\n",
      "4/4 [==============================] - 0s 16ms/step - loss: 0.2963 - binary_accuracy: 0.8806 - binary_crossentropy: 0.2963\n",
      "Epoch 38/200\n",
      "4/4 [==============================] - 0s 16ms/step - loss: 0.3019 - binary_accuracy: 0.8772 - binary_crossentropy: 0.3019\n",
      "Epoch 39/200\n",
      "4/4 [==============================] - 0s 16ms/step - loss: 0.2910 - binary_accuracy: 0.8819 - binary_crossentropy: 0.2910\n",
      "Epoch 40/200\n",
      "4/4 [==============================] - 0s 16ms/step - loss: 0.2706 - binary_accuracy: 0.8925 - binary_crossentropy: 0.2706\n",
      "Epoch 41/200\n",
      "4/4 [==============================] - 0s 17ms/step - loss: 0.2612 - binary_accuracy: 0.8928 - binary_crossentropy: 0.2612\n",
      "Epoch 42/200\n",
      "4/4 [==============================] - 0s 16ms/step - loss: 0.2560 - binary_accuracy: 0.8969 - binary_crossentropy: 0.2560\n",
      "Epoch 43/200\n",
      "4/4 [==============================] - 0s 16ms/step - loss: 0.2552 - binary_accuracy: 0.8972 - binary_crossentropy: 0.2552\n",
      "Epoch 44/200\n",
      "4/4 [==============================] - 0s 16ms/step - loss: 0.2579 - binary_accuracy: 0.9022 - binary_crossentropy: 0.2579\n",
      "Epoch 45/200\n",
      "4/4 [==============================] - 0s 16ms/step - loss: 0.2686 - binary_accuracy: 0.8919 - binary_crossentropy: 0.2686\n",
      "Epoch 46/200\n",
      "4/4 [==============================] - 0s 16ms/step - loss: 0.2966 - binary_accuracy: 0.8884 - binary_crossentropy: 0.2966\n",
      "Epoch 47/200\n",
      "4/4 [==============================] - 0s 16ms/step - loss: 0.3110 - binary_accuracy: 0.8737 - binary_crossentropy: 0.3110\n",
      "Epoch 48/200\n",
      "4/4 [==============================] - 0s 16ms/step - loss: 0.2825 - binary_accuracy: 0.8906 - binary_crossentropy: 0.2825\n",
      "Epoch 49/200\n",
      "4/4 [==============================] - 0s 16ms/step - loss: 0.2411 - binary_accuracy: 0.9006 - binary_crossentropy: 0.2411\n",
      "Epoch 50/200\n",
      "4/4 [==============================] - 0s 16ms/step - loss: 0.2228 - binary_accuracy: 0.9034 - binary_crossentropy: 0.2228\n",
      "Epoch 51/200\n",
      "4/4 [==============================] - 0s 16ms/step - loss: 0.2114 - binary_accuracy: 0.9100 - binary_crossentropy: 0.2114\n",
      "Epoch 52/200\n",
      "4/4 [==============================] - 0s 16ms/step - loss: 0.2031 - binary_accuracy: 0.9162 - binary_crossentropy: 0.2031\n",
      "Epoch 53/200\n",
      "4/4 [==============================] - 0s 16ms/step - loss: 0.1997 - binary_accuracy: 0.9175 - binary_crossentropy: 0.1997\n",
      "Epoch 54/200\n",
      "4/4 [==============================] - 0s 16ms/step - loss: 0.2001 - binary_accuracy: 0.9200 - binary_crossentropy: 0.2001\n",
      "Epoch 55/200\n",
      "4/4 [==============================] - 0s 17ms/step - loss: 0.2009 - binary_accuracy: 0.9200 - binary_crossentropy: 0.2009\n",
      "Epoch 56/200\n",
      "4/4 [==============================] - 0s 16ms/step - loss: 0.2019 - binary_accuracy: 0.9216 - binary_crossentropy: 0.2019\n",
      "Epoch 57/200\n",
      "4/4 [==============================] - 0s 16ms/step - loss: 0.2047 - binary_accuracy: 0.9184 - binary_crossentropy: 0.2047\n",
      "Epoch 58/200\n",
      "4/4 [==============================] - 0s 16ms/step - loss: 0.2044 - binary_accuracy: 0.9191 - binary_crossentropy: 0.2044\n",
      "Epoch 59/200\n",
      "4/4 [==============================] - 0s 16ms/step - loss: 0.2031 - binary_accuracy: 0.9203 - binary_crossentropy: 0.2031\n",
      "Epoch 60/200\n",
      "4/4 [==============================] - 0s 16ms/step - loss: 0.2009 - binary_accuracy: 0.9219 - binary_crossentropy: 0.2009\n",
      "Epoch 61/200\n"
     ]
    },
    {
     "name": "stdout",
     "output_type": "stream",
     "text": [
      "4/4 [==============================] - 0s 16ms/step - loss: 0.1985 - binary_accuracy: 0.9222 - binary_crossentropy: 0.1985\n",
      "Epoch 62/200\n",
      "4/4 [==============================] - 0s 16ms/step - loss: 0.2032 - binary_accuracy: 0.9184 - binary_crossentropy: 0.2032\n",
      "Epoch 63/200\n",
      "4/4 [==============================] - 0s 16ms/step - loss: 0.1927 - binary_accuracy: 0.9234 - binary_crossentropy: 0.1927\n",
      "Epoch 64/200\n",
      "4/4 [==============================] - 0s 16ms/step - loss: 0.1918 - binary_accuracy: 0.9225 - binary_crossentropy: 0.1918\n",
      "Epoch 65/200\n",
      "4/4 [==============================] - 0s 16ms/step - loss: 0.1900 - binary_accuracy: 0.9194 - binary_crossentropy: 0.1900\n",
      "Epoch 66/200\n",
      "4/4 [==============================] - 0s 16ms/step - loss: 0.1823 - binary_accuracy: 0.9272 - binary_crossentropy: 0.1823\n",
      "Epoch 67/200\n",
      "4/4 [==============================] - 0s 16ms/step - loss: 0.1752 - binary_accuracy: 0.9297 - binary_crossentropy: 0.1752\n",
      "Epoch 68/200\n",
      "4/4 [==============================] - 0s 16ms/step - loss: 0.1688 - binary_accuracy: 0.9269 - binary_crossentropy: 0.1688\n",
      "Epoch 69/200\n",
      "4/4 [==============================] - 0s 16ms/step - loss: 0.1624 - binary_accuracy: 0.9319 - binary_crossentropy: 0.1624\n",
      "Epoch 70/200\n",
      "4/4 [==============================] - 0s 16ms/step - loss: 0.1610 - binary_accuracy: 0.9341 - binary_crossentropy: 0.1610\n",
      "Epoch 71/200\n",
      "4/4 [==============================] - 0s 16ms/step - loss: 0.1591 - binary_accuracy: 0.9369 - binary_crossentropy: 0.1591\n",
      "Epoch 72/200\n",
      "4/4 [==============================] - 0s 16ms/step - loss: 0.1564 - binary_accuracy: 0.9353 - binary_crossentropy: 0.1564\n",
      "Epoch 73/200\n",
      "4/4 [==============================] - 0s 16ms/step - loss: 0.1519 - binary_accuracy: 0.9378 - binary_crossentropy: 0.1519\n",
      "Epoch 74/200\n",
      "4/4 [==============================] - 0s 16ms/step - loss: 0.1476 - binary_accuracy: 0.9406 - binary_crossentropy: 0.1476\n",
      "Epoch 75/200\n",
      "4/4 [==============================] - 0s 16ms/step - loss: 0.1481 - binary_accuracy: 0.9400 - binary_crossentropy: 0.1481\n",
      "Epoch 76/200\n",
      "4/4 [==============================] - 0s 16ms/step - loss: 0.1419 - binary_accuracy: 0.9413 - binary_crossentropy: 0.1419\n",
      "Epoch 77/200\n",
      "4/4 [==============================] - 0s 16ms/step - loss: 0.1398 - binary_accuracy: 0.9441 - binary_crossentropy: 0.1398\n",
      "Epoch 78/200\n",
      "4/4 [==============================] - 0s 16ms/step - loss: 0.1363 - binary_accuracy: 0.9444 - binary_crossentropy: 0.1363\n",
      "Epoch 79/200\n",
      "4/4 [==============================] - 0s 16ms/step - loss: 0.1337 - binary_accuracy: 0.9469 - binary_crossentropy: 0.1337\n",
      "Epoch 80/200\n",
      "4/4 [==============================] - 0s 16ms/step - loss: 0.1293 - binary_accuracy: 0.9500 - binary_crossentropy: 0.1293\n",
      "Epoch 81/200\n",
      "4/4 [==============================] - 0s 16ms/step - loss: 0.1396 - binary_accuracy: 0.9463 - binary_crossentropy: 0.1396\n",
      "Epoch 82/200\n",
      "4/4 [==============================] - 0s 16ms/step - loss: 0.1309 - binary_accuracy: 0.9475 - binary_crossentropy: 0.1309\n",
      "Epoch 83/200\n",
      "4/4 [==============================] - 0s 16ms/step - loss: 0.1344 - binary_accuracy: 0.9456 - binary_crossentropy: 0.1344\n",
      "Epoch 84/200\n",
      "4/4 [==============================] - 0s 16ms/step - loss: 0.1757 - binary_accuracy: 0.9294 - binary_crossentropy: 0.1757\n",
      "Epoch 85/200\n",
      "4/4 [==============================] - 0s 16ms/step - loss: 0.3271 - binary_accuracy: 0.9056 - binary_crossentropy: 0.3271\n",
      "Epoch 86/200\n",
      "4/4 [==============================] - 0s 16ms/step - loss: 0.4246 - binary_accuracy: 0.8447 - binary_crossentropy: 0.4246\n",
      "Epoch 87/200\n",
      "4/4 [==============================] - 0s 16ms/step - loss: 0.2550 - binary_accuracy: 0.9084 - binary_crossentropy: 0.2550\n",
      "Epoch 88/200\n",
      "4/4 [==============================] - 0s 16ms/step - loss: 0.4589 - binary_accuracy: 0.8219 - binary_crossentropy: 0.4589\n",
      "Epoch 89/200\n",
      "4/4 [==============================] - 0s 16ms/step - loss: 0.3496 - binary_accuracy: 0.8516 - binary_crossentropy: 0.3496\n",
      "Epoch 90/200\n",
      "4/4 [==============================] - 0s 16ms/step - loss: 0.3199 - binary_accuracy: 0.8794 - binary_crossentropy: 0.3199\n",
      "Epoch 91/200\n",
      "4/4 [==============================] - 0s 16ms/step - loss: 0.3288 - binary_accuracy: 0.8603 - binary_crossentropy: 0.3288\n",
      "Epoch 92/200\n",
      "4/4 [==============================] - 0s 16ms/step - loss: 0.2824 - binary_accuracy: 0.8956 - binary_crossentropy: 0.2824\n",
      "Epoch 93/200\n",
      "4/4 [==============================] - 0s 16ms/step - loss: 0.2738 - binary_accuracy: 0.8881 - binary_crossentropy: 0.2738\n",
      "Epoch 94/200\n",
      "4/4 [==============================] - 0s 16ms/step - loss: 0.2567 - binary_accuracy: 0.8906 - binary_crossentropy: 0.2567\n",
      "Epoch 95/200\n",
      "4/4 [==============================] - 0s 16ms/step - loss: 0.2274 - binary_accuracy: 0.9109 - binary_crossentropy: 0.2274\n",
      "Epoch 96/200\n",
      "4/4 [==============================] - 0s 17ms/step - loss: 0.2152 - binary_accuracy: 0.9206 - binary_crossentropy: 0.2152\n",
      "Epoch 97/200\n",
      "4/4 [==============================] - 0s 16ms/step - loss: 0.2262 - binary_accuracy: 0.9097 - binary_crossentropy: 0.2262\n",
      "Epoch 98/200\n",
      "4/4 [==============================] - 0s 16ms/step - loss: 0.2227 - binary_accuracy: 0.9119 - binary_crossentropy: 0.2227\n",
      "Epoch 99/200\n",
      "4/4 [==============================] - 0s 16ms/step - loss: 0.2087 - binary_accuracy: 0.9147 - binary_crossentropy: 0.2087\n",
      "Epoch 100/200\n",
      "4/4 [==============================] - 0s 16ms/step - loss: 0.2004 - binary_accuracy: 0.9209 - binary_crossentropy: 0.2004\n",
      "Epoch 101/200\n",
      "4/4 [==============================] - 0s 16ms/step - loss: 0.1988 - binary_accuracy: 0.9231 - binary_crossentropy: 0.1988\n",
      "Epoch 102/200\n",
      "4/4 [==============================] - 0s 16ms/step - loss: 0.2026 - binary_accuracy: 0.9187 - binary_crossentropy: 0.2026\n",
      "Epoch 103/200\n",
      "4/4 [==============================] - 0s 16ms/step - loss: 0.2080 - binary_accuracy: 0.9172 - binary_crossentropy: 0.2080\n",
      "Epoch 104/200\n",
      "4/4 [==============================] - 0s 16ms/step - loss: 0.2114 - binary_accuracy: 0.9144 - binary_crossentropy: 0.2114\n",
      "Epoch 105/200\n",
      "4/4 [==============================] - 0s 16ms/step - loss: 0.2119 - binary_accuracy: 0.9134 - binary_crossentropy: 0.2119\n",
      "Epoch 106/200\n",
      "4/4 [==============================] - 0s 16ms/step - loss: 0.2104 - binary_accuracy: 0.9166 - binary_crossentropy: 0.2104\n",
      "Epoch 107/200\n",
      "4/4 [==============================] - 0s 16ms/step - loss: 0.2073 - binary_accuracy: 0.9184 - binary_crossentropy: 0.2073\n",
      "Epoch 108/200\n",
      "4/4 [==============================] - 0s 16ms/step - loss: 0.2033 - binary_accuracy: 0.9181 - binary_crossentropy: 0.2033\n",
      "Epoch 109/200\n",
      "4/4 [==============================] - 0s 16ms/step - loss: 0.1974 - binary_accuracy: 0.9212 - binary_crossentropy: 0.1974\n",
      "Epoch 110/200\n",
      "4/4 [==============================] - 0s 16ms/step - loss: 0.1928 - binary_accuracy: 0.9222 - binary_crossentropy: 0.1928\n",
      "Epoch 111/200\n",
      "4/4 [==============================] - 0s 16ms/step - loss: 0.1910 - binary_accuracy: 0.9225 - binary_crossentropy: 0.1910\n",
      "Epoch 112/200\n",
      "4/4 [==============================] - 0s 16ms/step - loss: 0.1956 - binary_accuracy: 0.9200 - binary_crossentropy: 0.1956\n",
      "Epoch 113/200\n",
      "4/4 [==============================] - 0s 16ms/step - loss: 0.2036 - binary_accuracy: 0.9175 - binary_crossentropy: 0.2036\n",
      "Epoch 114/200\n",
      "4/4 [==============================] - 0s 16ms/step - loss: 0.2101 - binary_accuracy: 0.9147 - binary_crossentropy: 0.2101\n",
      "Epoch 115/200\n",
      "4/4 [==============================] - 0s 16ms/step - loss: 0.2185 - binary_accuracy: 0.9134 - binary_crossentropy: 0.2185\n",
      "Epoch 116/200\n",
      "4/4 [==============================] - 0s 16ms/step - loss: 0.2389 - binary_accuracy: 0.9091 - binary_crossentropy: 0.2389\n",
      "Epoch 117/200\n",
      "4/4 [==============================] - 0s 16ms/step - loss: 0.2742 - binary_accuracy: 0.8944 - binary_crossentropy: 0.2742\n",
      "Epoch 118/200\n",
      "4/4 [==============================] - 0s 16ms/step - loss: 0.2730 - binary_accuracy: 0.8972 - binary_crossentropy: 0.2730\n",
      "Epoch 119/200\n",
      "4/4 [==============================] - 0s 16ms/step - loss: 0.2211 - binary_accuracy: 0.9112 - binary_crossentropy: 0.2211\n",
      "Epoch 120/200\n",
      "4/4 [==============================] - 0s 16ms/step - loss: 0.1887 - binary_accuracy: 0.9228 - binary_crossentropy: 0.1887\n",
      "Epoch 121/200\n"
     ]
    },
    {
     "name": "stdout",
     "output_type": "stream",
     "text": [
      "4/4 [==============================] - 0s 16ms/step - loss: 0.1748 - binary_accuracy: 0.9297 - binary_crossentropy: 0.1748\n",
      "Epoch 122/200\n",
      "4/4 [==============================] - 0s 16ms/step - loss: 0.1690 - binary_accuracy: 0.9319 - binary_crossentropy: 0.1690\n",
      "Epoch 123/200\n",
      "4/4 [==============================] - 0s 16ms/step - loss: 0.1665 - binary_accuracy: 0.9341 - binary_crossentropy: 0.1665\n",
      "Epoch 124/200\n",
      "4/4 [==============================] - 0s 16ms/step - loss: 0.1683 - binary_accuracy: 0.9328 - binary_crossentropy: 0.1683\n",
      "Epoch 125/200\n",
      "4/4 [==============================] - 0s 16ms/step - loss: 0.1745 - binary_accuracy: 0.9291 - binary_crossentropy: 0.1745\n",
      "Epoch 126/200\n",
      "4/4 [==============================] - 0s 16ms/step - loss: 0.1825 - binary_accuracy: 0.9269 - binary_crossentropy: 0.1825\n",
      "Epoch 127/200\n",
      "4/4 [==============================] - 0s 16ms/step - loss: 0.1927 - binary_accuracy: 0.9234 - binary_crossentropy: 0.1927\n",
      "Epoch 128/200\n",
      "4/4 [==============================] - 0s 16ms/step - loss: 0.2030 - binary_accuracy: 0.9200 - binary_crossentropy: 0.2030\n",
      "Epoch 129/200\n",
      "4/4 [==============================] - 0s 16ms/step - loss: 0.2070 - binary_accuracy: 0.9200 - binary_crossentropy: 0.2070\n",
      "Epoch 130/200\n",
      "4/4 [==============================] - 0s 16ms/step - loss: 0.2011 - binary_accuracy: 0.9219 - binary_crossentropy: 0.2011\n",
      "Epoch 131/200\n",
      "4/4 [==============================] - 0s 16ms/step - loss: 0.1882 - binary_accuracy: 0.9262 - binary_crossentropy: 0.1882\n",
      "Epoch 132/200\n",
      "4/4 [==============================] - 0s 16ms/step - loss: 0.1765 - binary_accuracy: 0.9300 - binary_crossentropy: 0.1765\n",
      "Epoch 133/200\n",
      "4/4 [==============================] - 0s 16ms/step - loss: 0.1684 - binary_accuracy: 0.9328 - binary_crossentropy: 0.1684\n",
      "Epoch 134/200\n",
      "4/4 [==============================] - 0s 16ms/step - loss: 0.1640 - binary_accuracy: 0.9350 - binary_crossentropy: 0.1640\n",
      "Epoch 135/200\n",
      "4/4 [==============================] - 0s 16ms/step - loss: 0.1623 - binary_accuracy: 0.9347 - binary_crossentropy: 0.1623\n",
      "Epoch 136/200\n",
      "4/4 [==============================] - 0s 16ms/step - loss: 0.1622 - binary_accuracy: 0.9356 - binary_crossentropy: 0.1622\n",
      "Epoch 137/200\n",
      "4/4 [==============================] - 0s 17ms/step - loss: 0.1641 - binary_accuracy: 0.9353 - binary_crossentropy: 0.1641\n",
      "Epoch 138/200\n",
      "4/4 [==============================] - 0s 16ms/step - loss: 0.1669 - binary_accuracy: 0.9334 - binary_crossentropy: 0.1669\n",
      "Epoch 139/200\n",
      "4/4 [==============================] - 0s 16ms/step - loss: 0.1720 - binary_accuracy: 0.9303 - binary_crossentropy: 0.1720\n",
      "Epoch 140/200\n",
      "4/4 [==============================] - 0s 16ms/step - loss: 0.1781 - binary_accuracy: 0.9306 - binary_crossentropy: 0.1781\n",
      "Epoch 141/200\n",
      "4/4 [==============================] - 0s 16ms/step - loss: 0.1869 - binary_accuracy: 0.9256 - binary_crossentropy: 0.1869\n",
      "Epoch 142/200\n",
      "4/4 [==============================] - 0s 16ms/step - loss: 0.1967 - binary_accuracy: 0.9222 - binary_crossentropy: 0.1967\n",
      "Epoch 143/200\n",
      "4/4 [==============================] - 0s 16ms/step - loss: 0.2045 - binary_accuracy: 0.9212 - binary_crossentropy: 0.2045\n",
      "Epoch 144/200\n",
      "4/4 [==============================] - 0s 16ms/step - loss: 0.2015 - binary_accuracy: 0.9219 - binary_crossentropy: 0.2015\n",
      "Epoch 145/200\n",
      "4/4 [==============================] - 0s 16ms/step - loss: 0.1823 - binary_accuracy: 0.9291 - binary_crossentropy: 0.1823\n",
      "Epoch 146/200\n",
      "4/4 [==============================] - 0s 16ms/step - loss: 0.1613 - binary_accuracy: 0.9378 - binary_crossentropy: 0.1613\n",
      "Epoch 147/200\n",
      "4/4 [==============================] - 0s 16ms/step - loss: 0.1500 - binary_accuracy: 0.9422 - binary_crossentropy: 0.1500\n",
      "Epoch 148/200\n",
      "4/4 [==============================] - 0s 16ms/step - loss: 0.1457 - binary_accuracy: 0.9422 - binary_crossentropy: 0.1457\n",
      "Epoch 149/200\n",
      "4/4 [==============================] - 0s 16ms/step - loss: 0.1443 - binary_accuracy: 0.9416 - binary_crossentropy: 0.1443\n",
      "Epoch 150/200\n",
      "4/4 [==============================] - 0s 16ms/step - loss: 0.1448 - binary_accuracy: 0.9419 - binary_crossentropy: 0.1448\n",
      "Epoch 151/200\n",
      "4/4 [==============================] - 0s 17ms/step - loss: 0.1468 - binary_accuracy: 0.9409 - binary_crossentropy: 0.1468\n",
      "Epoch 152/200\n",
      "4/4 [==============================] - 0s 16ms/step - loss: 0.1496 - binary_accuracy: 0.9406 - binary_crossentropy: 0.1496\n",
      "Epoch 153/200\n",
      "4/4 [==============================] - 0s 16ms/step - loss: 0.1534 - binary_accuracy: 0.9388 - binary_crossentropy: 0.1534\n",
      "Epoch 154/200\n",
      "4/4 [==============================] - 0s 16ms/step - loss: 0.1570 - binary_accuracy: 0.9366 - binary_crossentropy: 0.1570\n",
      "Epoch 155/200\n",
      "4/4 [==============================] - 0s 16ms/step - loss: 0.1619 - binary_accuracy: 0.9353 - binary_crossentropy: 0.1619\n",
      "Epoch 156/200\n",
      "4/4 [==============================] - 0s 16ms/step - loss: 0.1704 - binary_accuracy: 0.9322 - binary_crossentropy: 0.1704\n",
      "Epoch 157/200\n",
      "4/4 [==============================] - 0s 16ms/step - loss: 0.1829 - binary_accuracy: 0.9228 - binary_crossentropy: 0.1829\n",
      "Epoch 158/200\n",
      "4/4 [==============================] - 0s 16ms/step - loss: 0.1995 - binary_accuracy: 0.9194 - binary_crossentropy: 0.1995\n",
      "Epoch 159/200\n",
      "4/4 [==============================] - 0s 16ms/step - loss: 0.2090 - binary_accuracy: 0.9194 - binary_crossentropy: 0.2090\n",
      "Epoch 160/200\n",
      "4/4 [==============================] - 0s 16ms/step - loss: 0.1920 - binary_accuracy: 0.9262 - binary_crossentropy: 0.1920\n",
      "Epoch 161/200\n",
      "4/4 [==============================] - 0s 16ms/step - loss: 0.1617 - binary_accuracy: 0.9366 - binary_crossentropy: 0.1617\n",
      "Epoch 162/200\n",
      "4/4 [==============================] - 0s 16ms/step - loss: 0.1423 - binary_accuracy: 0.9447 - binary_crossentropy: 0.1423\n",
      "Epoch 163/200\n",
      "4/4 [==============================] - 0s 16ms/step - loss: 0.1349 - binary_accuracy: 0.9500 - binary_crossentropy: 0.1349\n",
      "Epoch 164/200\n",
      "4/4 [==============================] - 0s 16ms/step - loss: 0.1318 - binary_accuracy: 0.9525 - binary_crossentropy: 0.1318\n",
      "Epoch 165/200\n",
      "4/4 [==============================] - 0s 17ms/step - loss: 0.1294 - binary_accuracy: 0.9534 - binary_crossentropy: 0.1294\n",
      "Epoch 166/200\n",
      "4/4 [==============================] - 0s 16ms/step - loss: 0.1276 - binary_accuracy: 0.9519 - binary_crossentropy: 0.1276\n",
      "Epoch 167/200\n",
      "4/4 [==============================] - 0s 16ms/step - loss: 0.1264 - binary_accuracy: 0.9525 - binary_crossentropy: 0.1264\n",
      "Epoch 168/200\n",
      "4/4 [==============================] - 0s 16ms/step - loss: 0.1259 - binary_accuracy: 0.9522 - binary_crossentropy: 0.1259\n",
      "Epoch 169/200\n",
      "4/4 [==============================] - 0s 16ms/step - loss: 0.1260 - binary_accuracy: 0.9516 - binary_crossentropy: 0.1260\n",
      "Epoch 170/200\n",
      "4/4 [==============================] - 0s 16ms/step - loss: 0.1269 - binary_accuracy: 0.9509 - binary_crossentropy: 0.1269\n",
      "Epoch 171/200\n",
      "4/4 [==============================] - 0s 16ms/step - loss: 0.1279 - binary_accuracy: 0.9491 - binary_crossentropy: 0.1279\n",
      "Epoch 172/200\n",
      "4/4 [==============================] - 0s 16ms/step - loss: 0.1292 - binary_accuracy: 0.9478 - binary_crossentropy: 0.1292\n",
      "Epoch 173/200\n",
      "4/4 [==============================] - 0s 16ms/step - loss: 0.1307 - binary_accuracy: 0.9459 - binary_crossentropy: 0.1307\n",
      "Epoch 174/200\n",
      "4/4 [==============================] - 0s 16ms/step - loss: 0.1321 - binary_accuracy: 0.9456 - binary_crossentropy: 0.1321\n",
      "Epoch 175/200\n",
      "4/4 [==============================] - 0s 16ms/step - loss: 0.1336 - binary_accuracy: 0.9469 - binary_crossentropy: 0.1336\n",
      "Epoch 176/200\n",
      "4/4 [==============================] - 0s 16ms/step - loss: 0.1394 - binary_accuracy: 0.9438 - binary_crossentropy: 0.1394\n",
      "Epoch 177/200\n",
      "4/4 [==============================] - 0s 16ms/step - loss: 0.1471 - binary_accuracy: 0.9416 - binary_crossentropy: 0.1471\n",
      "Epoch 178/200\n",
      "4/4 [==============================] - 0s 16ms/step - loss: 0.1644 - binary_accuracy: 0.9341 - binary_crossentropy: 0.1644\n",
      "Epoch 179/200\n",
      "4/4 [==============================] - 0s 17ms/step - loss: 0.1885 - binary_accuracy: 0.9259 - binary_crossentropy: 0.1885\n",
      "Epoch 180/200\n"
     ]
    },
    {
     "name": "stdout",
     "output_type": "stream",
     "text": [
      "4/4 [==============================] - 0s 16ms/step - loss: 0.2012 - binary_accuracy: 0.9228 - binary_crossentropy: 0.2012\n",
      "Epoch 181/200\n",
      "4/4 [==============================] - 0s 16ms/step - loss: 0.1566 - binary_accuracy: 0.9394 - binary_crossentropy: 0.1566\n",
      "Epoch 182/200\n",
      "4/4 [==============================] - 0s 16ms/step - loss: 0.1327 - binary_accuracy: 0.9525 - binary_crossentropy: 0.1327\n",
      "Epoch 183/200\n",
      "4/4 [==============================] - 0s 16ms/step - loss: 0.1264 - binary_accuracy: 0.9516 - binary_crossentropy: 0.1264\n",
      "Epoch 184/200\n",
      "4/4 [==============================] - 0s 16ms/step - loss: 0.1240 - binary_accuracy: 0.9525 - binary_crossentropy: 0.1240\n",
      "Epoch 185/200\n",
      "4/4 [==============================] - 0s 16ms/step - loss: 0.1253 - binary_accuracy: 0.9522 - binary_crossentropy: 0.1253\n",
      "Epoch 186/200\n",
      "4/4 [==============================] - 0s 16ms/step - loss: 0.1229 - binary_accuracy: 0.9547 - binary_crossentropy: 0.1229\n",
      "Epoch 187/200\n",
      "4/4 [==============================] - 0s 16ms/step - loss: 0.1161 - binary_accuracy: 0.9581 - binary_crossentropy: 0.1161\n",
      "Epoch 188/200\n",
      "4/4 [==============================] - 0s 16ms/step - loss: 0.1121 - binary_accuracy: 0.9603 - binary_crossentropy: 0.1121\n",
      "Epoch 189/200\n",
      "4/4 [==============================] - 0s 16ms/step - loss: 0.1077 - binary_accuracy: 0.9616 - binary_crossentropy: 0.1077\n",
      "Epoch 190/200\n",
      "4/4 [==============================] - 0s 16ms/step - loss: 0.1054 - binary_accuracy: 0.9631 - binary_crossentropy: 0.1054\n",
      "Epoch 191/200\n",
      "4/4 [==============================] - 0s 16ms/step - loss: 0.1048 - binary_accuracy: 0.9638 - binary_crossentropy: 0.1048\n",
      "Epoch 192/200\n",
      "4/4 [==============================] - 0s 16ms/step - loss: 0.1056 - binary_accuracy: 0.9634 - binary_crossentropy: 0.1056\n",
      "Epoch 193/200\n",
      "4/4 [==============================] - 0s 16ms/step - loss: 0.1085 - binary_accuracy: 0.9603 - binary_crossentropy: 0.1085\n",
      "Epoch 194/200\n",
      "4/4 [==============================] - 0s 16ms/step - loss: 0.1131 - binary_accuracy: 0.9563 - binary_crossentropy: 0.1131\n",
      "Epoch 195/200\n",
      "4/4 [==============================] - 0s 16ms/step - loss: 0.1190 - binary_accuracy: 0.9538 - binary_crossentropy: 0.1190\n",
      "Epoch 196/200\n",
      "4/4 [==============================] - 0s 16ms/step - loss: 0.1329 - binary_accuracy: 0.9469 - binary_crossentropy: 0.1329\n",
      "Epoch 197/200\n",
      "4/4 [==============================] - 0s 16ms/step - loss: 0.1573 - binary_accuracy: 0.9378 - binary_crossentropy: 0.1573\n",
      "Epoch 198/200\n",
      "4/4 [==============================] - 0s 16ms/step - loss: 0.1713 - binary_accuracy: 0.9341 - binary_crossentropy: 0.1713\n",
      "Epoch 199/200\n",
      "4/4 [==============================] - 0s 16ms/step - loss: 0.1601 - binary_accuracy: 0.9366 - binary_crossentropy: 0.1601\n",
      "Epoch 200/200\n",
      "4/4 [==============================] - 0s 16ms/step - loss: 0.1355 - binary_accuracy: 0.9491 - binary_crossentropy: 0.1355\n"
     ]
    },
    {
     "data": {
      "text/plain": [
       "<keras.src.callbacks.History at 0x7fe2a4ae6550>"
      ]
     },
     "execution_count": 19,
     "metadata": {},
     "output_type": "execute_result"
    }
   ],
   "source": [
    "model.fit(train_dataset, epochs=n_epochs, verbose=True)"
   ]
  },
  {
   "cell_type": "markdown",
   "metadata": {},
   "source": [
    "Evaluate the classification model on the test data"
   ]
  },
  {
   "cell_type": "code",
   "execution_count": 20,
   "metadata": {},
   "outputs": [
    {
     "name": "stdout",
     "output_type": "stream",
     "text": [
      "1/1 [==============================] - 1s 654ms/step - loss: 0.1744 - binary_accuracy: 0.9438 - binary_crossentropy: 0.1744\n"
     ]
    },
    {
     "data": {
      "text/plain": [
       "[0.17440803349018097, 0.9437500238418579, 0.17440803349018097]"
      ]
     },
     "execution_count": 20,
     "metadata": {},
     "output_type": "execute_result"
    }
   ],
   "source": [
    "model.evaluate(test_dataset.take(-1))"
   ]
  },
  {
   "cell_type": "markdown",
   "metadata": {
    "id": "JvccIumXAUwf"
   },
   "source": [
    "3. Create the signed input gradient for a ship test set example for the non-linear classification model."
   ]
  },
  {
   "cell_type": "code",
   "execution_count": 21,
   "metadata": {},
   "outputs": [],
   "source": [
    "examples, labels = list(test_dataset.as_numpy_iterator())[0]"
   ]
  },
  {
   "cell_type": "code",
   "execution_count": 22,
   "metadata": {},
   "outputs": [
    {
     "data": {
      "text/plain": [
       "array([0.85633266], dtype=float32)"
      ]
     },
     "execution_count": 22,
     "metadata": {},
     "output_type": "execute_result"
    }
   ],
   "source": [
    "model(np.reshape(examples[0],[1,80,80,3])).numpy()[0]"
   ]
  },
  {
   "cell_type": "code",
   "execution_count": 23,
   "metadata": {},
   "outputs": [
    {
     "data": {
      "image/png": "[encoded data removed]",
      "text/plain": [
       "<Figure size 640x480 with 1 Axes>"
      ]
     },
     "metadata": {},
     "output_type": "display_data"
    }
   ],
   "source": [
    "plt.figure()\n",
    "plt.imshow(examples[5])\n",
    "confidence = model(np.reshape(examples[0], [1,80,80,3])).numpy()[0,0]\n",
    "if confidence < 0.5:\n",
    "    pred = 0\n",
    "    confidence = 1. - confidence\n",
    "else:\n",
    "    pred = 1\n",
    "plt.title('{} : {:.2f}% Confidence'.format(str(pred), confidence*100))\n",
    "plt.show()"
   ]
  },
  {
   "cell_type": "code",
   "execution_count": 24,
   "metadata": {
    "id": "rMf-niv4_FeM"
   },
   "outputs": [],
   "source": [
    "loss_object = tf.keras.losses.BinaryCrossentropy()\n",
    "signed_grad_np = create_adversarial_pattern(model, np.reshape(examples[5], [1,80,80,3]), np.array([[0]]), loss_object)"
   ]
  },
  {
   "cell_type": "code",
   "execution_count": 25,
   "metadata": {},
   "outputs": [
    {
     "name": "stderr",
     "output_type": "stream",
     "text": [
      "Clipping input data to the valid range for imshow with RGB data ([0..1] for floats or [0..255] for integers).\n"
     ]
    },
    {
     "data": {
      "image/png": "[encoded data removed]",
      "text/plain": [
       "<Figure size 640x480 with 1 Axes>"
      ]
     },
     "metadata": {},
     "output_type": "display_data"
    }
   ],
   "source": [
    "plt.figure()\n",
    "plt.imshow(signed_grad_np[0])\n",
    "plt.title('Signed Gradient')\n",
    "plt.show()"
   ]
  },
  {
   "cell_type": "markdown",
   "metadata": {},
   "source": [
    "4. Evaluate the white-box, targeted (targeting 0) FGSM adversarial examples for a ship test set example for the non-linear classification model using epsilons of 0.01, 0.03, and 0.1."
   ]
  },
  {
   "cell_type": "code",
   "execution_count": 26,
   "metadata": {},
   "outputs": [
    {
     "name": "stderr",
     "output_type": "stream",
     "text": [
      "Clipping input data to the valid range for imshow with RGB data ([0..1] for floats or [0..255] for integers).\n"
     ]
    },
    {
     "data": {
      "image/png": "[encoded data removed]",
      "text/plain": [
       "<Figure size 640x480 with 1 Axes>"
      ]
     },
     "metadata": {},
     "output_type": "display_data"
    }
   ],
   "source": [
    "#Epsilon: 0.01\n",
    "plt.figure()\n",
    "adv_example = examples[5]-signed_grad_np[0]*0.01\n",
    "plt.imshow(np.clip(adv_example,0,255))\n",
    "confidence = model(np.reshape(adv_example, [1,80,80,3])).numpy()[0,0]\n",
    "if confidence < 0.5:\n",
    "    pred = 0\n",
    "    confidence = 1. - confidence\n",
    "else:\n",
    "    pred = 1\n",
    "plt.title('{} : {:.2f}% Confidence'.format(str(pred), confidence*100))\n",
    "plt.show()"
   ]
  },
  {
   "cell_type": "code",
   "execution_count": 27,
   "metadata": {},
   "outputs": [
    {
     "name": "stderr",
     "output_type": "stream",
     "text": [
      "Clipping input data to the valid range for imshow with RGB data ([0..1] for floats or [0..255] for integers).\n"
     ]
    },
    {
     "data": {
      "image/png": "[encoded data removed]",
      "text/plain": [
       "<Figure size 640x480 with 1 Axes>"
      ]
     },
     "metadata": {},
     "output_type": "display_data"
    }
   ],
   "source": [
    "#Epsilon: 0.03\n",
    "plt.figure()\n",
    "adv_example = examples[5]-signed_grad_np[0]*0.03\n",
    "plt.imshow(np.clip(adv_example,0,255))\n",
    "confidence = model(np.reshape(adv_example,[1,80,80,3])).numpy()[0,0]\n",
    "if confidence < 0.5:\n",
    "    pred = 0\n",
    "    confidence = 1. - confidence\n",
    "else:\n",
    "    pred = 1\n",
    "plt.title('{} : {:.2f}% Confidence'.format(str(pred), confidence*100))\n",
    "plt.show()"
   ]
  },
  {
   "cell_type": "code",
   "execution_count": 28,
   "metadata": {},
   "outputs": [
    {
     "name": "stderr",
     "output_type": "stream",
     "text": [
      "Clipping input data to the valid range for imshow with RGB data ([0..1] for floats or [0..255] for integers).\n"
     ]
    },
    {
     "data": {
      "image/png": "[encoded data removed]",
      "text/plain": [
       "<Figure size 640x480 with 1 Axes>"
      ]
     },
     "metadata": {},
     "output_type": "display_data"
    }
   ],
   "source": [
    "#Epsilon: 0.1\n",
    "plt.figure()\n",
    "adv_example = examples[5]-signed_grad_np[0]*0.1\n",
    "plt.imshow(np.clip(adv_example,0,255))\n",
    "confidence = model(np.reshape(adv_example,[1,80,80,3])).numpy()[0,0]\n",
    "if confidence < 0.5:\n",
    "    pred = 0\n",
    "    confidence = 1. - confidence\n",
    "else:\n",
    "    pred = 1\n",
    "plt.title('{} : {:.2f}% Confidence'.format(str(pred), confidence*100))\n",
    "plt.show()"
   ]
  },
  {
   "cell_type": "markdown",
   "metadata": {},
   "source": [
    "5. Create a black-box, targeted (targeting 0) FGSM adversarial example for a ship test set example for the original non-linear classification model using an epsilon of 0.04."
   ]
  },
  {
   "cell_type": "code",
   "execution_count": 29,
   "metadata": {},
   "outputs": [],
   "source": [
    "inputs_bb = layers.Input(shape=(80,80,3))\n",
    "flat_bb = layers.Flatten()(inputs_bb)\n",
    "h1_bb = layers.Dense(50, activation=\"relu\")(flat_bb)\n",
    "h2_bb = layers.Dense(50, activation=\"relu\")(h1_bb)\n",
    "p_bb = layers.Dense(1,activation=tf.keras.activations.sigmoid)(h2_bb)\n",
    "\n",
    "model_bb = keras.Model(inputs=inputs_bb, outputs=p_bb)\n",
    "\n",
    "model_bb.compile(\n",
    "    loss=tf.keras.losses.BinaryCrossentropy(from_logits=False),\n",
    "    optimizer=tf.keras.optimizers.Adam(LR),\n",
    "    metrics=[tf.keras.metrics.BinaryAccuracy(),\n",
    "    tf.keras.metrics.BinaryCrossentropy(from_logits=False)]\n",
    ")"
   ]
  },
  {
   "cell_type": "code",
   "execution_count": 30,
   "metadata": {},
   "outputs": [
    {
     "name": "stdout",
     "output_type": "stream",
     "text": [
      "Epoch 1/200\n",
      "4/4 [==============================] - 1s 17ms/step - loss: 1.0548 - binary_accuracy: 0.4366 - binary_crossentropy: 1.0548\n",
      "Epoch 2/200\n",
      "4/4 [==============================] - 0s 16ms/step - loss: 0.8225 - binary_accuracy: 0.7747 - binary_crossentropy: 0.8225\n",
      "Epoch 3/200\n",
      "4/4 [==============================] - 0s 16ms/step - loss: 0.5464 - binary_accuracy: 0.7725 - binary_crossentropy: 0.5464\n",
      "Epoch 4/200\n",
      "4/4 [==============================] - 0s 16ms/step - loss: 0.4483 - binary_accuracy: 0.8150 - binary_crossentropy: 0.4483\n",
      "Epoch 5/200\n",
      "4/4 [==============================] - 0s 16ms/step - loss: 0.4147 - binary_accuracy: 0.8328 - binary_crossentropy: 0.4147\n",
      "Epoch 6/200\n",
      "4/4 [==============================] - 0s 16ms/step - loss: 0.4100 - binary_accuracy: 0.8238 - binary_crossentropy: 0.4100\n",
      "Epoch 7/200\n",
      "4/4 [==============================] - 0s 16ms/step - loss: 0.3752 - binary_accuracy: 0.8356 - binary_crossentropy: 0.3752\n",
      "Epoch 8/200\n",
      "4/4 [==============================] - 0s 16ms/step - loss: 0.3650 - binary_accuracy: 0.8453 - binary_crossentropy: 0.3650\n",
      "Epoch 9/200\n",
      "4/4 [==============================] - 0s 16ms/step - loss: 0.3658 - binary_accuracy: 0.8406 - binary_crossentropy: 0.3658\n",
      "Epoch 10/200\n",
      "4/4 [==============================] - 0s 16ms/step - loss: 0.3483 - binary_accuracy: 0.8506 - binary_crossentropy: 0.3483\n",
      "Epoch 11/200\n",
      "4/4 [==============================] - 0s 16ms/step - loss: 0.3403 - binary_accuracy: 0.8550 - binary_crossentropy: 0.3403\n",
      "Epoch 12/200\n",
      "4/4 [==============================] - 0s 16ms/step - loss: 0.3407 - binary_accuracy: 0.8553 - binary_crossentropy: 0.3407\n",
      "Epoch 13/200\n",
      "4/4 [==============================] - 0s 16ms/step - loss: 0.3313 - binary_accuracy: 0.8603 - binary_crossentropy: 0.3313\n",
      "Epoch 14/200\n",
      "4/4 [==============================] - 0s 16ms/step - loss: 0.3228 - binary_accuracy: 0.8634 - binary_crossentropy: 0.3228\n",
      "Epoch 15/200\n",
      "4/4 [==============================] - 0s 16ms/step - loss: 0.3214 - binary_accuracy: 0.8656 - binary_crossentropy: 0.3214\n",
      "Epoch 16/200\n",
      "4/4 [==============================] - 0s 16ms/step - loss: 0.3196 - binary_accuracy: 0.8656 - binary_crossentropy: 0.3196\n",
      "Epoch 17/200\n",
      "4/4 [==============================] - 0s 16ms/step - loss: 0.3120 - binary_accuracy: 0.8691 - binary_crossentropy: 0.3120\n",
      "Epoch 18/200\n",
      "4/4 [==============================] - 0s 16ms/step - loss: 0.3052 - binary_accuracy: 0.8719 - binary_crossentropy: 0.3052\n",
      "Epoch 19/200\n",
      "4/4 [==============================] - 0s 16ms/step - loss: 0.3057 - binary_accuracy: 0.8728 - binary_crossentropy: 0.3057\n",
      "Epoch 20/200\n",
      "4/4 [==============================] - 0s 16ms/step - loss: 0.3098 - binary_accuracy: 0.8691 - binary_crossentropy: 0.3098\n",
      "Epoch 21/200\n",
      "4/4 [==============================] - 0s 16ms/step - loss: 0.3107 - binary_accuracy: 0.8691 - binary_crossentropy: 0.3107\n",
      "Epoch 22/200\n",
      "4/4 [==============================] - 0s 16ms/step - loss: 0.3070 - binary_accuracy: 0.8712 - binary_crossentropy: 0.3070\n",
      "Epoch 23/200\n",
      "4/4 [==============================] - 0s 16ms/step - loss: 0.3003 - binary_accuracy: 0.8744 - binary_crossentropy: 0.3003\n",
      "Epoch 24/200\n",
      "4/4 [==============================] - 0s 16ms/step - loss: 0.2931 - binary_accuracy: 0.8800 - binary_crossentropy: 0.2931\n",
      "Epoch 25/200\n",
      "4/4 [==============================] - 0s 16ms/step - loss: 0.2871 - binary_accuracy: 0.8819 - binary_crossentropy: 0.2871\n",
      "Epoch 26/200\n",
      "4/4 [==============================] - 0s 16ms/step - loss: 0.2834 - binary_accuracy: 0.8844 - binary_crossentropy: 0.2834\n",
      "Epoch 27/200\n",
      "4/4 [==============================] - 0s 16ms/step - loss: 0.2813 - binary_accuracy: 0.8856 - binary_crossentropy: 0.2813\n",
      "Epoch 28/200\n",
      "4/4 [==============================] - 0s 16ms/step - loss: 0.2806 - binary_accuracy: 0.8859 - binary_crossentropy: 0.2806\n",
      "Epoch 29/200\n",
      "4/4 [==============================] - 0s 16ms/step - loss: 0.2810 - binary_accuracy: 0.8878 - binary_crossentropy: 0.2810\n",
      "Epoch 30/200\n",
      "4/4 [==============================] - 0s 16ms/step - loss: 0.2819 - binary_accuracy: 0.8872 - binary_crossentropy: 0.2819\n",
      "Epoch 31/200\n",
      "4/4 [==============================] - 0s 16ms/step - loss: 0.2826 - binary_accuracy: 0.8872 - binary_crossentropy: 0.2826\n",
      "Epoch 32/200\n",
      "4/4 [==============================] - 0s 16ms/step - loss: 0.2828 - binary_accuracy: 0.8869 - binary_crossentropy: 0.2828\n",
      "Epoch 33/200\n",
      "4/4 [==============================] - 0s 16ms/step - loss: 0.2815 - binary_accuracy: 0.8878 - binary_crossentropy: 0.2815\n",
      "Epoch 34/200\n",
      "4/4 [==============================] - 0s 16ms/step - loss: 0.2784 - binary_accuracy: 0.8894 - binary_crossentropy: 0.2784\n",
      "Epoch 35/200\n",
      "4/4 [==============================] - 0s 16ms/step - loss: 0.2738 - binary_accuracy: 0.8897 - binary_crossentropy: 0.2738\n",
      "Epoch 36/200\n",
      "4/4 [==============================] - 0s 16ms/step - loss: 0.2687 - binary_accuracy: 0.8913 - binary_crossentropy: 0.2687\n",
      "Epoch 37/200\n",
      "4/4 [==============================] - 0s 16ms/step - loss: 0.2635 - binary_accuracy: 0.8931 - binary_crossentropy: 0.2635\n",
      "Epoch 38/200\n",
      "4/4 [==============================] - 0s 16ms/step - loss: 0.2590 - binary_accuracy: 0.8941 - binary_crossentropy: 0.2590\n",
      "Epoch 39/200\n",
      "4/4 [==============================] - 0s 16ms/step - loss: 0.2554 - binary_accuracy: 0.8941 - binary_crossentropy: 0.2554\n",
      "Epoch 40/200\n",
      "4/4 [==============================] - 0s 16ms/step - loss: 0.2534 - binary_accuracy: 0.8969 - binary_crossentropy: 0.2534\n",
      "Epoch 41/200\n",
      "4/4 [==============================] - 0s 16ms/step - loss: 0.2529 - binary_accuracy: 0.8966 - binary_crossentropy: 0.2529\n",
      "Epoch 42/200\n",
      "4/4 [==============================] - 0s 17ms/step - loss: 0.2533 - binary_accuracy: 0.8963 - binary_crossentropy: 0.2533\n",
      "Epoch 43/200\n",
      "4/4 [==============================] - 0s 20ms/step - loss: 0.2553 - binary_accuracy: 0.8966 - binary_crossentropy: 0.2553\n",
      "Epoch 44/200\n",
      "4/4 [==============================] - 0s 16ms/step - loss: 0.2576 - binary_accuracy: 0.8975 - binary_crossentropy: 0.2576\n",
      "Epoch 45/200\n",
      "4/4 [==============================] - 0s 16ms/step - loss: 0.2592 - binary_accuracy: 0.8969 - binary_crossentropy: 0.2592\n",
      "Epoch 46/200\n",
      "4/4 [==============================] - 0s 16ms/step - loss: 0.2604 - binary_accuracy: 0.8956 - binary_crossentropy: 0.2604\n",
      "Epoch 47/200\n",
      "4/4 [==============================] - 0s 16ms/step - loss: 0.2603 - binary_accuracy: 0.8956 - binary_crossentropy: 0.2603\n",
      "Epoch 48/200\n",
      "4/4 [==============================] - 0s 16ms/step - loss: 0.2574 - binary_accuracy: 0.8963 - binary_crossentropy: 0.2574\n",
      "Epoch 49/200\n",
      "4/4 [==============================] - 0s 16ms/step - loss: 0.2519 - binary_accuracy: 0.8991 - binary_crossentropy: 0.2519\n",
      "Epoch 50/200\n",
      "4/4 [==============================] - 0s 16ms/step - loss: 0.2453 - binary_accuracy: 0.8997 - binary_crossentropy: 0.2453\n",
      "Epoch 51/200\n",
      "4/4 [==============================] - 0s 16ms/step - loss: 0.2387 - binary_accuracy: 0.9028 - binary_crossentropy: 0.2387\n",
      "Epoch 52/200\n",
      "4/4 [==============================] - 0s 16ms/step - loss: 0.2327 - binary_accuracy: 0.9047 - binary_crossentropy: 0.2327\n",
      "Epoch 53/200\n",
      "4/4 [==============================] - 0s 16ms/step - loss: 0.2285 - binary_accuracy: 0.9075 - binary_crossentropy: 0.2285\n",
      "Epoch 54/200\n",
      "4/4 [==============================] - 0s 16ms/step - loss: 0.2258 - binary_accuracy: 0.9078 - binary_crossentropy: 0.2258\n",
      "Epoch 55/200\n",
      "4/4 [==============================] - 0s 16ms/step - loss: 0.2245 - binary_accuracy: 0.9069 - binary_crossentropy: 0.2245\n",
      "Epoch 56/200\n",
      "4/4 [==============================] - 0s 16ms/step - loss: 0.2243 - binary_accuracy: 0.9084 - binary_crossentropy: 0.2243\n",
      "Epoch 57/200\n",
      "4/4 [==============================] - 0s 16ms/step - loss: 0.2255 - binary_accuracy: 0.9084 - binary_crossentropy: 0.2255\n",
      "Epoch 58/200\n",
      "4/4 [==============================] - 0s 16ms/step - loss: 0.2277 - binary_accuracy: 0.9109 - binary_crossentropy: 0.2277\n",
      "Epoch 59/200\n",
      "4/4 [==============================] - 0s 16ms/step - loss: 0.2310 - binary_accuracy: 0.9100 - binary_crossentropy: 0.2310\n",
      "Epoch 60/200\n",
      "4/4 [==============================] - 0s 16ms/step - loss: 0.2358 - binary_accuracy: 0.9087 - binary_crossentropy: 0.2358\n",
      "Epoch 61/200\n"
     ]
    },
    {
     "name": "stdout",
     "output_type": "stream",
     "text": [
      "4/4 [==============================] - 0s 16ms/step - loss: 0.2422 - binary_accuracy: 0.9056 - binary_crossentropy: 0.2422\n",
      "Epoch 62/200\n",
      "4/4 [==============================] - 0s 16ms/step - loss: 0.2498 - binary_accuracy: 0.9019 - binary_crossentropy: 0.2498\n",
      "Epoch 63/200\n",
      "4/4 [==============================] - 0s 16ms/step - loss: 0.2585 - binary_accuracy: 0.8972 - binary_crossentropy: 0.2585\n",
      "Epoch 64/200\n",
      "4/4 [==============================] - 0s 16ms/step - loss: 0.2643 - binary_accuracy: 0.8934 - binary_crossentropy: 0.2643\n",
      "Epoch 65/200\n",
      "4/4 [==============================] - 0s 16ms/step - loss: 0.2652 - binary_accuracy: 0.8953 - binary_crossentropy: 0.2652\n",
      "Epoch 66/200\n",
      "4/4 [==============================] - 0s 16ms/step - loss: 0.2544 - binary_accuracy: 0.8956 - binary_crossentropy: 0.2544\n",
      "Epoch 67/200\n",
      "4/4 [==============================] - 0s 16ms/step - loss: 0.2305 - binary_accuracy: 0.9062 - binary_crossentropy: 0.2305\n",
      "Epoch 68/200\n",
      "4/4 [==============================] - 0s 16ms/step - loss: 0.2112 - binary_accuracy: 0.9144 - binary_crossentropy: 0.2112\n",
      "Epoch 69/200\n",
      "4/4 [==============================] - 0s 16ms/step - loss: 0.2002 - binary_accuracy: 0.9184 - binary_crossentropy: 0.2002\n",
      "Epoch 70/200\n",
      "4/4 [==============================] - 0s 16ms/step - loss: 0.1944 - binary_accuracy: 0.9203 - binary_crossentropy: 0.1944\n",
      "Epoch 71/200\n",
      "4/4 [==============================] - 0s 16ms/step - loss: 0.1914 - binary_accuracy: 0.9231 - binary_crossentropy: 0.1914\n",
      "Epoch 72/200\n",
      "4/4 [==============================] - 0s 16ms/step - loss: 0.1909 - binary_accuracy: 0.9247 - binary_crossentropy: 0.1909\n",
      "Epoch 73/200\n",
      "4/4 [==============================] - 0s 16ms/step - loss: 0.1924 - binary_accuracy: 0.9244 - binary_crossentropy: 0.1924\n",
      "Epoch 74/200\n",
      "4/4 [==============================] - 0s 16ms/step - loss: 0.1944 - binary_accuracy: 0.9231 - binary_crossentropy: 0.1944\n",
      "Epoch 75/200\n",
      "4/4 [==============================] - 0s 16ms/step - loss: 0.1965 - binary_accuracy: 0.9209 - binary_crossentropy: 0.1965\n",
      "Epoch 76/200\n",
      "4/4 [==============================] - 0s 16ms/step - loss: 0.1988 - binary_accuracy: 0.9203 - binary_crossentropy: 0.1988\n",
      "Epoch 77/200\n",
      "4/4 [==============================] - 0s 16ms/step - loss: 0.2009 - binary_accuracy: 0.9194 - binary_crossentropy: 0.2009\n",
      "Epoch 78/200\n",
      "4/4 [==============================] - 0s 16ms/step - loss: 0.2030 - binary_accuracy: 0.9200 - binary_crossentropy: 0.2030\n",
      "Epoch 79/200\n",
      "4/4 [==============================] - 0s 16ms/step - loss: 0.2054 - binary_accuracy: 0.9197 - binary_crossentropy: 0.2054\n",
      "Epoch 80/200\n",
      "4/4 [==============================] - 0s 16ms/step - loss: 0.2069 - binary_accuracy: 0.9194 - binary_crossentropy: 0.2069\n",
      "Epoch 81/200\n",
      "4/4 [==============================] - 0s 16ms/step - loss: 0.2092 - binary_accuracy: 0.9181 - binary_crossentropy: 0.2092\n",
      "Epoch 82/200\n",
      "4/4 [==============================] - 0s 16ms/step - loss: 0.2104 - binary_accuracy: 0.9187 - binary_crossentropy: 0.2104\n",
      "Epoch 83/200\n",
      "4/4 [==============================] - 0s 16ms/step - loss: 0.2120 - binary_accuracy: 0.9178 - binary_crossentropy: 0.2120\n",
      "Epoch 84/200\n",
      "4/4 [==============================] - 0s 16ms/step - loss: 0.2110 - binary_accuracy: 0.9175 - binary_crossentropy: 0.2110\n",
      "Epoch 85/200\n",
      "4/4 [==============================] - 0s 16ms/step - loss: 0.2099 - binary_accuracy: 0.9175 - binary_crossentropy: 0.2099\n",
      "Epoch 86/200\n",
      "4/4 [==============================] - 0s 16ms/step - loss: 0.2073 - binary_accuracy: 0.9194 - binary_crossentropy: 0.2073\n",
      "Epoch 87/200\n",
      "4/4 [==============================] - 0s 16ms/step - loss: 0.2029 - binary_accuracy: 0.9212 - binary_crossentropy: 0.2029\n",
      "Epoch 88/200\n",
      "4/4 [==============================] - 0s 16ms/step - loss: 0.1991 - binary_accuracy: 0.9219 - binary_crossentropy: 0.1991\n",
      "Epoch 89/200\n",
      "4/4 [==============================] - 0s 16ms/step - loss: 0.1919 - binary_accuracy: 0.9228 - binary_crossentropy: 0.1919\n",
      "Epoch 90/200\n",
      "4/4 [==============================] - 0s 16ms/step - loss: 0.1871 - binary_accuracy: 0.9231 - binary_crossentropy: 0.1871\n",
      "Epoch 91/200\n",
      "4/4 [==============================] - 0s 16ms/step - loss: 0.1832 - binary_accuracy: 0.9259 - binary_crossentropy: 0.1832\n",
      "Epoch 92/200\n",
      "4/4 [==============================] - 0s 16ms/step - loss: 0.1797 - binary_accuracy: 0.9275 - binary_crossentropy: 0.1797\n",
      "Epoch 93/200\n",
      "4/4 [==============================] - 0s 16ms/step - loss: 0.1772 - binary_accuracy: 0.9306 - binary_crossentropy: 0.1772\n",
      "Epoch 94/200\n",
      "4/4 [==============================] - 0s 16ms/step - loss: 0.1750 - binary_accuracy: 0.9322 - binary_crossentropy: 0.1750\n",
      "Epoch 95/200\n",
      "4/4 [==============================] - 0s 16ms/step - loss: 0.1732 - binary_accuracy: 0.9316 - binary_crossentropy: 0.1732\n",
      "Epoch 96/200\n",
      "4/4 [==============================] - 0s 16ms/step - loss: 0.1717 - binary_accuracy: 0.9309 - binary_crossentropy: 0.1717\n",
      "Epoch 97/200\n",
      "4/4 [==============================] - 0s 16ms/step - loss: 0.1709 - binary_accuracy: 0.9306 - binary_crossentropy: 0.1709\n",
      "Epoch 98/200\n",
      "4/4 [==============================] - 0s 16ms/step - loss: 0.1692 - binary_accuracy: 0.9322 - binary_crossentropy: 0.1692\n",
      "Epoch 99/200\n",
      "4/4 [==============================] - 0s 16ms/step - loss: 0.1688 - binary_accuracy: 0.9319 - binary_crossentropy: 0.1688\n",
      "Epoch 100/200\n",
      "4/4 [==============================] - 0s 16ms/step - loss: 0.1672 - binary_accuracy: 0.9334 - binary_crossentropy: 0.1672\n",
      "Epoch 101/200\n",
      "4/4 [==============================] - 0s 16ms/step - loss: 0.1670 - binary_accuracy: 0.9341 - binary_crossentropy: 0.1670\n",
      "Epoch 102/200\n",
      "4/4 [==============================] - 0s 16ms/step - loss: 0.1656 - binary_accuracy: 0.9344 - binary_crossentropy: 0.1656\n",
      "Epoch 103/200\n",
      "4/4 [==============================] - 0s 16ms/step - loss: 0.1651 - binary_accuracy: 0.9353 - binary_crossentropy: 0.1651\n",
      "Epoch 104/200\n",
      "4/4 [==============================] - 0s 16ms/step - loss: 0.1643 - binary_accuracy: 0.9350 - binary_crossentropy: 0.1643\n",
      "Epoch 105/200\n",
      "4/4 [==============================] - 0s 16ms/step - loss: 0.1627 - binary_accuracy: 0.9372 - binary_crossentropy: 0.1627\n",
      "Epoch 106/200\n",
      "4/4 [==============================] - 0s 16ms/step - loss: 0.1623 - binary_accuracy: 0.9369 - binary_crossentropy: 0.1623\n",
      "Epoch 107/200\n",
      "4/4 [==============================] - 0s 16ms/step - loss: 0.1607 - binary_accuracy: 0.9384 - binary_crossentropy: 0.1607\n",
      "Epoch 108/200\n",
      "4/4 [==============================] - 0s 16ms/step - loss: 0.1601 - binary_accuracy: 0.9397 - binary_crossentropy: 0.1601\n",
      "Epoch 109/200\n",
      "4/4 [==============================] - 0s 16ms/step - loss: 0.1590 - binary_accuracy: 0.9397 - binary_crossentropy: 0.1590\n",
      "Epoch 110/200\n",
      "4/4 [==============================] - 0s 16ms/step - loss: 0.1580 - binary_accuracy: 0.9400 - binary_crossentropy: 0.1580\n",
      "Epoch 111/200\n",
      "4/4 [==============================] - 0s 16ms/step - loss: 0.1573 - binary_accuracy: 0.9406 - binary_crossentropy: 0.1573\n",
      "Epoch 112/200\n",
      "4/4 [==============================] - 0s 16ms/step - loss: 0.1560 - binary_accuracy: 0.9403 - binary_crossentropy: 0.1560\n",
      "Epoch 113/200\n",
      "4/4 [==============================] - 0s 16ms/step - loss: 0.1553 - binary_accuracy: 0.9416 - binary_crossentropy: 0.1553\n",
      "Epoch 114/200\n",
      "4/4 [==============================] - 0s 16ms/step - loss: 0.1543 - binary_accuracy: 0.9403 - binary_crossentropy: 0.1543\n",
      "Epoch 115/200\n",
      "4/4 [==============================] - 0s 17ms/step - loss: 0.1539 - binary_accuracy: 0.9413 - binary_crossentropy: 0.1539\n",
      "Epoch 116/200\n",
      "4/4 [==============================] - 0s 17ms/step - loss: 0.1530 - binary_accuracy: 0.9413 - binary_crossentropy: 0.1530\n",
      "Epoch 117/200\n",
      "4/4 [==============================] - 0s 16ms/step - loss: 0.1521 - binary_accuracy: 0.9416 - binary_crossentropy: 0.1521\n",
      "Epoch 118/200\n",
      "4/4 [==============================] - 0s 16ms/step - loss: 0.1504 - binary_accuracy: 0.9422 - binary_crossentropy: 0.1504\n",
      "Epoch 119/200\n",
      "4/4 [==============================] - 0s 16ms/step - loss: 0.1501 - binary_accuracy: 0.9425 - binary_crossentropy: 0.1501\n",
      "Epoch 120/200\n",
      "4/4 [==============================] - 0s 16ms/step - loss: 0.1487 - binary_accuracy: 0.9413 - binary_crossentropy: 0.1487\n",
      "Epoch 121/200\n"
     ]
    },
    {
     "name": "stdout",
     "output_type": "stream",
     "text": [
      "4/4 [==============================] - 0s 16ms/step - loss: 0.1489 - binary_accuracy: 0.9438 - binary_crossentropy: 0.1489\n",
      "Epoch 122/200\n",
      "4/4 [==============================] - 0s 16ms/step - loss: 0.1474 - binary_accuracy: 0.9416 - binary_crossentropy: 0.1474\n",
      "Epoch 123/200\n",
      "4/4 [==============================] - 0s 16ms/step - loss: 0.1465 - binary_accuracy: 0.9441 - binary_crossentropy: 0.1465\n",
      "Epoch 124/200\n",
      "4/4 [==============================] - 0s 16ms/step - loss: 0.1453 - binary_accuracy: 0.9431 - binary_crossentropy: 0.1453\n",
      "Epoch 125/200\n",
      "4/4 [==============================] - 0s 16ms/step - loss: 0.1440 - binary_accuracy: 0.9456 - binary_crossentropy: 0.1440\n",
      "Epoch 126/200\n",
      "4/4 [==============================] - 0s 16ms/step - loss: 0.1426 - binary_accuracy: 0.9438 - binary_crossentropy: 0.1426\n",
      "Epoch 127/200\n",
      "4/4 [==============================] - 0s 16ms/step - loss: 0.1409 - binary_accuracy: 0.9447 - binary_crossentropy: 0.1409\n",
      "Epoch 128/200\n",
      "4/4 [==============================] - 0s 16ms/step - loss: 0.1403 - binary_accuracy: 0.9453 - binary_crossentropy: 0.1403\n",
      "Epoch 129/200\n",
      "4/4 [==============================] - 0s 16ms/step - loss: 0.1395 - binary_accuracy: 0.9469 - binary_crossentropy: 0.1395\n",
      "Epoch 130/200\n",
      "4/4 [==============================] - 0s 16ms/step - loss: 0.1395 - binary_accuracy: 0.9472 - binary_crossentropy: 0.1395\n",
      "Epoch 131/200\n",
      "4/4 [==============================] - 0s 16ms/step - loss: 0.1383 - binary_accuracy: 0.9478 - binary_crossentropy: 0.1383\n",
      "Epoch 132/200\n",
      "4/4 [==============================] - 0s 16ms/step - loss: 0.1381 - binary_accuracy: 0.9475 - binary_crossentropy: 0.1381\n",
      "Epoch 133/200\n",
      "4/4 [==============================] - 0s 16ms/step - loss: 0.1363 - binary_accuracy: 0.9481 - binary_crossentropy: 0.1363\n",
      "Epoch 134/200\n",
      "4/4 [==============================] - 0s 16ms/step - loss: 0.1365 - binary_accuracy: 0.9472 - binary_crossentropy: 0.1365\n",
      "Epoch 135/200\n",
      "4/4 [==============================] - 0s 16ms/step - loss: 0.1339 - binary_accuracy: 0.9484 - binary_crossentropy: 0.1339\n",
      "Epoch 136/200\n",
      "4/4 [==============================] - 0s 16ms/step - loss: 0.1348 - binary_accuracy: 0.9478 - binary_crossentropy: 0.1348\n",
      "Epoch 137/200\n",
      "4/4 [==============================] - 0s 16ms/step - loss: 0.1314 - binary_accuracy: 0.9500 - binary_crossentropy: 0.1314\n",
      "Epoch 138/200\n",
      "4/4 [==============================] - 0s 16ms/step - loss: 0.1338 - binary_accuracy: 0.9484 - binary_crossentropy: 0.1338\n",
      "Epoch 139/200\n",
      "4/4 [==============================] - 0s 16ms/step - loss: 0.1267 - binary_accuracy: 0.9531 - binary_crossentropy: 0.1267\n",
      "Epoch 140/200\n",
      "4/4 [==============================] - 0s 16ms/step - loss: 0.1279 - binary_accuracy: 0.9506 - binary_crossentropy: 0.1279\n",
      "Epoch 141/200\n",
      "4/4 [==============================] - 0s 16ms/step - loss: 0.1249 - binary_accuracy: 0.9553 - binary_crossentropy: 0.1249\n",
      "Epoch 142/200\n",
      "4/4 [==============================] - 0s 16ms/step - loss: 0.1264 - binary_accuracy: 0.9513 - binary_crossentropy: 0.1264\n",
      "Epoch 143/200\n",
      "4/4 [==============================] - 0s 16ms/step - loss: 0.1229 - binary_accuracy: 0.9563 - binary_crossentropy: 0.1229\n",
      "Epoch 144/200\n",
      "4/4 [==============================] - 0s 16ms/step - loss: 0.1237 - binary_accuracy: 0.9541 - binary_crossentropy: 0.1237\n",
      "Epoch 145/200\n",
      "4/4 [==============================] - 0s 16ms/step - loss: 0.1208 - binary_accuracy: 0.9566 - binary_crossentropy: 0.1208\n",
      "Epoch 146/200\n",
      "4/4 [==============================] - 0s 16ms/step - loss: 0.1240 - binary_accuracy: 0.9519 - binary_crossentropy: 0.1240\n",
      "Epoch 147/200\n",
      "4/4 [==============================] - 0s 16ms/step - loss: 0.1182 - binary_accuracy: 0.9584 - binary_crossentropy: 0.1182\n",
      "Epoch 148/200\n",
      "4/4 [==============================] - 0s 16ms/step - loss: 0.1212 - binary_accuracy: 0.9534 - binary_crossentropy: 0.1212\n",
      "Epoch 149/200\n",
      "4/4 [==============================] - 0s 16ms/step - loss: 0.1161 - binary_accuracy: 0.9591 - binary_crossentropy: 0.1161\n",
      "Epoch 150/200\n",
      "4/4 [==============================] - 0s 16ms/step - loss: 0.1189 - binary_accuracy: 0.9550 - binary_crossentropy: 0.1189\n",
      "Epoch 151/200\n",
      "4/4 [==============================] - 0s 16ms/step - loss: 0.1138 - binary_accuracy: 0.9597 - binary_crossentropy: 0.1138\n",
      "Epoch 152/200\n",
      "4/4 [==============================] - 0s 16ms/step - loss: 0.1169 - binary_accuracy: 0.9566 - binary_crossentropy: 0.1169\n",
      "Epoch 153/200\n",
      "4/4 [==============================] - 0s 16ms/step - loss: 0.1115 - binary_accuracy: 0.9606 - binary_crossentropy: 0.1115\n",
      "Epoch 154/200\n",
      "4/4 [==============================] - 0s 16ms/step - loss: 0.1155 - binary_accuracy: 0.9581 - binary_crossentropy: 0.1155\n",
      "Epoch 155/200\n",
      "4/4 [==============================] - 0s 16ms/step - loss: 0.1092 - binary_accuracy: 0.9619 - binary_crossentropy: 0.1092\n",
      "Epoch 156/200\n",
      "4/4 [==============================] - 0s 16ms/step - loss: 0.1130 - binary_accuracy: 0.9591 - binary_crossentropy: 0.1130\n",
      "Epoch 157/200\n",
      "4/4 [==============================] - 0s 16ms/step - loss: 0.1082 - binary_accuracy: 0.9619 - binary_crossentropy: 0.1082\n",
      "Epoch 158/200\n",
      "4/4 [==============================] - 0s 16ms/step - loss: 0.1099 - binary_accuracy: 0.9600 - binary_crossentropy: 0.1099\n",
      "Epoch 159/200\n",
      "4/4 [==============================] - 0s 16ms/step - loss: 0.1069 - binary_accuracy: 0.9628 - binary_crossentropy: 0.1069\n",
      "Epoch 160/200\n",
      "4/4 [==============================] - 0s 16ms/step - loss: 0.1059 - binary_accuracy: 0.9644 - binary_crossentropy: 0.1059\n",
      "Epoch 161/200\n",
      "4/4 [==============================] - 0s 16ms/step - loss: 0.1089 - binary_accuracy: 0.9613 - binary_crossentropy: 0.1089\n",
      "Epoch 162/200\n",
      "4/4 [==============================] - 0s 16ms/step - loss: 0.1036 - binary_accuracy: 0.9656 - binary_crossentropy: 0.1036\n",
      "Epoch 163/200\n",
      "4/4 [==============================] - 0s 16ms/step - loss: 0.1045 - binary_accuracy: 0.9638 - binary_crossentropy: 0.1045\n",
      "Epoch 164/200\n",
      "4/4 [==============================] - 0s 16ms/step - loss: 0.1049 - binary_accuracy: 0.9638 - binary_crossentropy: 0.1049\n",
      "Epoch 165/200\n",
      "4/4 [==============================] - 0s 16ms/step - loss: 0.1012 - binary_accuracy: 0.9672 - binary_crossentropy: 0.1012\n",
      "Epoch 166/200\n",
      "4/4 [==============================] - 0s 16ms/step - loss: 0.1020 - binary_accuracy: 0.9656 - binary_crossentropy: 0.1020\n",
      "Epoch 167/200\n",
      "4/4 [==============================] - 0s 16ms/step - loss: 0.1030 - binary_accuracy: 0.9647 - binary_crossentropy: 0.1030\n",
      "Epoch 168/200\n",
      "4/4 [==============================] - 0s 16ms/step - loss: 0.0978 - binary_accuracy: 0.9678 - binary_crossentropy: 0.0978\n",
      "Epoch 169/200\n",
      "4/4 [==============================] - 0s 16ms/step - loss: 0.1005 - binary_accuracy: 0.9666 - binary_crossentropy: 0.1005\n",
      "Epoch 170/200\n",
      "4/4 [==============================] - 0s 16ms/step - loss: 0.1024 - binary_accuracy: 0.9650 - binary_crossentropy: 0.1024\n",
      "Epoch 171/200\n",
      "4/4 [==============================] - 0s 16ms/step - loss: 0.0938 - binary_accuracy: 0.9700 - binary_crossentropy: 0.0938\n",
      "Epoch 172/200\n",
      "4/4 [==============================] - 0s 16ms/step - loss: 0.1048 - binary_accuracy: 0.9616 - binary_crossentropy: 0.1048\n",
      "Epoch 173/200\n",
      "4/4 [==============================] - 0s 16ms/step - loss: 0.0937 - binary_accuracy: 0.9703 - binary_crossentropy: 0.0937\n",
      "Epoch 174/200\n",
      "4/4 [==============================] - 0s 16ms/step - loss: 0.0942 - binary_accuracy: 0.9691 - binary_crossentropy: 0.0942\n",
      "Epoch 175/200\n",
      "4/4 [==============================] - 0s 16ms/step - loss: 0.1038 - binary_accuracy: 0.9628 - binary_crossentropy: 0.1038\n",
      "Epoch 176/200\n",
      "4/4 [==============================] - 0s 16ms/step - loss: 0.0898 - binary_accuracy: 0.9712 - binary_crossentropy: 0.0898\n",
      "Epoch 177/200\n",
      "4/4 [==============================] - 0s 16ms/step - loss: 0.1020 - binary_accuracy: 0.9631 - binary_crossentropy: 0.1020\n",
      "Epoch 178/200\n",
      "4/4 [==============================] - 0s 16ms/step - loss: 0.0899 - binary_accuracy: 0.9712 - binary_crossentropy: 0.0899\n",
      "Epoch 179/200\n",
      "4/4 [==============================] - 0s 16ms/step - loss: 0.0919 - binary_accuracy: 0.9716 - binary_crossentropy: 0.0919\n",
      "Epoch 180/200\n"
     ]
    },
    {
     "name": "stdout",
     "output_type": "stream",
     "text": [
      "4/4 [==============================] - 0s 16ms/step - loss: 0.1007 - binary_accuracy: 0.9666 - binary_crossentropy: 0.1007\n",
      "Epoch 181/200\n",
      "4/4 [==============================] - 0s 16ms/step - loss: 0.0875 - binary_accuracy: 0.9706 - binary_crossentropy: 0.0875\n",
      "Epoch 182/200\n",
      "4/4 [==============================] - 0s 16ms/step - loss: 0.1194 - binary_accuracy: 0.9538 - binary_crossentropy: 0.1194\n",
      "Epoch 183/200\n",
      "4/4 [==============================] - 0s 16ms/step - loss: 0.0920 - binary_accuracy: 0.9681 - binary_crossentropy: 0.0920\n",
      "Epoch 184/200\n",
      "4/4 [==============================] - 0s 16ms/step - loss: 0.1175 - binary_accuracy: 0.9531 - binary_crossentropy: 0.1175\n",
      "Epoch 185/200\n",
      "4/4 [==============================] - 0s 16ms/step - loss: 0.0957 - binary_accuracy: 0.9653 - binary_crossentropy: 0.0957\n",
      "Epoch 186/200\n",
      "4/4 [==============================] - 0s 16ms/step - loss: 0.1281 - binary_accuracy: 0.9506 - binary_crossentropy: 0.1281\n",
      "Epoch 187/200\n",
      "4/4 [==============================] - 0s 16ms/step - loss: 0.1063 - binary_accuracy: 0.9613 - binary_crossentropy: 0.1063\n",
      "Epoch 188/200\n",
      "4/4 [==============================] - 0s 16ms/step - loss: 0.1159 - binary_accuracy: 0.9547 - binary_crossentropy: 0.1159\n",
      "Epoch 189/200\n",
      "4/4 [==============================] - 0s 16ms/step - loss: 0.0917 - binary_accuracy: 0.9647 - binary_crossentropy: 0.0917\n",
      "Epoch 190/200\n",
      "4/4 [==============================] - 0s 16ms/step - loss: 0.1118 - binary_accuracy: 0.9575 - binary_crossentropy: 0.1118\n",
      "Epoch 191/200\n",
      "4/4 [==============================] - 0s 16ms/step - loss: 0.0911 - binary_accuracy: 0.9666 - binary_crossentropy: 0.0911\n",
      "Epoch 192/200\n",
      "4/4 [==============================] - 0s 16ms/step - loss: 0.0961 - binary_accuracy: 0.9653 - binary_crossentropy: 0.0961\n",
      "Epoch 193/200\n",
      "4/4 [==============================] - 0s 16ms/step - loss: 0.0816 - binary_accuracy: 0.9737 - binary_crossentropy: 0.0816\n",
      "Epoch 194/200\n",
      "4/4 [==============================] - 0s 16ms/step - loss: 0.1013 - binary_accuracy: 0.9609 - binary_crossentropy: 0.1013\n",
      "Epoch 195/200\n",
      "4/4 [==============================] - 0s 16ms/step - loss: 0.0796 - binary_accuracy: 0.9753 - binary_crossentropy: 0.0796\n",
      "Epoch 196/200\n",
      "4/4 [==============================] - 0s 16ms/step - loss: 0.0884 - binary_accuracy: 0.9700 - binary_crossentropy: 0.0884\n",
      "Epoch 197/200\n",
      "4/4 [==============================] - 0s 16ms/step - loss: 0.0806 - binary_accuracy: 0.9744 - binary_crossentropy: 0.0806\n",
      "Epoch 198/200\n",
      "4/4 [==============================] - 0s 16ms/step - loss: 0.0899 - binary_accuracy: 0.9691 - binary_crossentropy: 0.0899\n",
      "Epoch 199/200\n",
      "4/4 [==============================] - 0s 16ms/step - loss: 0.0763 - binary_accuracy: 0.9756 - binary_crossentropy: 0.0763\n",
      "Epoch 200/200\n",
      "4/4 [==============================] - 0s 16ms/step - loss: 0.0937 - binary_accuracy: 0.9647 - binary_crossentropy: 0.0937\n"
     ]
    },
    {
     "data": {
      "text/plain": [
       "<keras.src.callbacks.History at 0x7fe20c60b490>"
      ]
     },
     "execution_count": 30,
     "metadata": {},
     "output_type": "execute_result"
    }
   ],
   "source": [
    "model_bb.fit(train_dataset, epochs=n_epochs, verbose=True)"
   ]
  },
  {
   "cell_type": "code",
   "execution_count": 31,
   "metadata": {},
   "outputs": [],
   "source": [
    "signed_grad_np_bb = create_adversarial_pattern(model_bb, np.reshape(examples[5], [1,80,80,3]), np.array([[0]]), loss_object)"
   ]
  },
  {
   "cell_type": "code",
   "execution_count": 32,
   "metadata": {},
   "outputs": [
    {
     "name": "stderr",
     "output_type": "stream",
     "text": [
      "Clipping input data to the valid range for imshow with RGB data ([0..1] for floats or [0..255] for integers).\n"
     ]
    },
    {
     "data": {
      "image/png": "[encoded data removed]",
      "text/plain": [
       "<Figure size 640x480 with 1 Axes>"
      ]
     },
     "metadata": {},
     "output_type": "display_data"
    }
   ],
   "source": [
    "plt.figure()\n",
    "adv_example_bb = examples[5]-signed_grad_np_bb[0]*0.04\n",
    "plt.imshow(np.clip(adv_example_bb,0,255))\n",
    "confidence = model_bb(np.reshape(adv_example_bb,[1,80,80,3])).numpy()[0,0]\n",
    "if confidence < 0.5:\n",
    "    pred = 0\n",
    "    confidence = 1. - confidence\n",
    "else:\n",
    "    pred = 1\n",
    "plt.title('{} : {:.2f}% Confidence'.format(str(pred), confidence*100))\n",
    "plt.show()"
   ]
  },
  {
   "cell_type": "markdown",
   "metadata": {},
   "source": [
    "6. Evaluate black-box, targeted (targeting 0) FGSM adversarial examples for a ship test set example for the non-linear classification model."
   ]
  },
  {
   "cell_type": "code",
   "execution_count": 33,
   "metadata": {},
   "outputs": [
    {
     "name": "stderr",
     "output_type": "stream",
     "text": [
      "Clipping input data to the valid range for imshow with RGB data ([0..1] for floats or [0..255] for integers).\n"
     ]
    },
    {
     "data": {
      "image/png": "[encoded data removed]",
      "text/plain": [
       "<Figure size 640x480 with 1 Axes>"
      ]
     },
     "metadata": {},
     "output_type": "display_data"
    }
   ],
   "source": [
    "plt.figure()\n",
    "plt.imshow(np.clip(adv_example_bb,0,255))\n",
    "confidence = model(np.reshape(adv_example_bb,[1,80,80,3])).numpy()[0,0]\n",
    "if confidence < 0.5:\n",
    "    pred = 0\n",
    "    confidence = 1. - confidence\n",
    "else:\n",
    "    pred = 1\n",
    "plt.title('{} : {:.2f}% Confidence'.format(str(pred), confidence*100))\n",
    "plt.show()"
   ]
  },
  {
   "cell_type": "code",
   "execution_count": null,
   "metadata": {},
   "outputs": [],
   "source": []
  }
 ],
 "metadata": {
  "colab": {
   "provenance": []
  },
  "kernelspec": {
   "display_name": "tf",
   "language": "python",
   "name": "tf"
  },
  "language_info": {
   "codemirror_mode": {
    "name": "ipython",
    "version": 3
   },
   "file_extension": ".py",
   "mimetype": "text/x-python",
   "name": "python",
   "nbconvert_exporter": "python",
   "pygments_lexer": "ipython3",
   "version": "3.11.4"
  }
 },
 "nbformat": 4,
 "nbformat_minor": 1
}
