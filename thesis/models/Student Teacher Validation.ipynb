{
 "cells": [
  {
   "cell_type": "code",
   "execution_count": 2,
   "metadata": {},
   "outputs": [],
   "source": [
    "import pandas as pd\n",
    "import numpy as np"
   ]
  },
  {
   "cell_type": "code",
   "execution_count": 3,
   "metadata": {},
   "outputs": [
    {
     "name": "stdout",
     "output_type": "stream",
     "text": [
      "48914275_outbound_dnn_run_2023-08-24 11:55:08.408130\r\n",
      "48914302_outbound_dnn_run_2023-08-24 12:52:57.102379\r\n",
      "48914452_outbound_stdnn_run_2023-08-24 16:40:00.282208\r\n",
      "48914463_outbound_stdnn_run_2023-08-24 17:35:59.325309\r\n",
      "48950875_outbound_stdnn_run_2023-08-28 10:49:53.851112\r\n",
      "best\r\n",
      "inference_48949457.txt\r\n",
      "inference_48949458.txt\r\n",
      "inference.py\r\n",
      "__init__.py\r\n",
      "models.py\r\n",
      "_output\r\n",
      "__pycache__\r\n",
      "runs\r\n",
      "soft_training_labels.parq\r\n",
      "st_training_predictions.parq\r\n",
      "student_learned_training_labels.parq\r\n",
      "student_teacher.py\r\n",
      "st_val_predictions.parq\r\n",
      "submit_dnn.sh\r\n",
      "submit_gbrfc.sh\r\n",
      "submit_inference.sh\r\n",
      "submit_rfc.sh\r\n",
      "submit_st.sh\r\n",
      "submit_tuner.sh\r\n",
      "teacher_soft_training_labels.parq\r\n",
      "train.py\r\n",
      "tuner\r\n",
      "Untitled.ipynb\r\n"
     ]
    }
   ],
   "source": [
    "!ls"
   ]
  },
  {
   "cell_type": "code",
   "execution_count": 43,
   "metadata": {},
   "outputs": [],
   "source": [
    "teacher_pred = pd.read_parquet('teacher_soft_training_labels.parq')"
   ]
  },
  {
   "cell_type": "code",
   "execution_count": 44,
   "metadata": {},
   "outputs": [
    {
     "data": {
      "text/html": [
       "<div>\n",
       "<style scoped>\n",
       "    .dataframe tbody tr th:only-of-type {\n",
       "        vertical-align: middle;\n",
       "    }\n",
       "\n",
       "    .dataframe tbody tr th {\n",
       "        vertical-align: top;\n",
       "    }\n",
       "\n",
       "    .dataframe thead th {\n",
       "        text-align: right;\n",
       "    }\n",
       "</style>\n",
       "<table border=\"1\" class=\"dataframe\">\n",
       "  <thead>\n",
       "    <tr style=\"text-align: right;\">\n",
       "      <th></th>\n",
       "      <th>label_1</th>\n",
       "    </tr>\n",
       "  </thead>\n",
       "  <tbody>\n",
       "    <tr>\n",
       "      <th>0</th>\n",
       "      <td>0.021041</td>\n",
       "    </tr>\n",
       "    <tr>\n",
       "      <th>1</th>\n",
       "      <td>0.021554</td>\n",
       "    </tr>\n",
       "    <tr>\n",
       "      <th>2</th>\n",
       "      <td>0.354701</td>\n",
       "    </tr>\n",
       "    <tr>\n",
       "      <th>3</th>\n",
       "      <td>0.106668</td>\n",
       "    </tr>\n",
       "    <tr>\n",
       "      <th>4</th>\n",
       "      <td>0.009926</td>\n",
       "    </tr>\n",
       "    <tr>\n",
       "      <th>...</th>\n",
       "      <td>...</td>\n",
       "    </tr>\n",
       "    <tr>\n",
       "      <th>13194566</th>\n",
       "      <td>0.986173</td>\n",
       "    </tr>\n",
       "    <tr>\n",
       "      <th>13194567</th>\n",
       "      <td>0.985376</td>\n",
       "    </tr>\n",
       "    <tr>\n",
       "      <th>13194568</th>\n",
       "      <td>0.988153</td>\n",
       "    </tr>\n",
       "    <tr>\n",
       "      <th>13194569</th>\n",
       "      <td>0.987431</td>\n",
       "    </tr>\n",
       "    <tr>\n",
       "      <th>13194570</th>\n",
       "      <td>0.985413</td>\n",
       "    </tr>\n",
       "  </tbody>\n",
       "</table>\n",
       "<p>13194571 rows × 1 columns</p>\n",
       "</div>"
      ],
      "text/plain": [
       "           label_1\n",
       "0         0.021041\n",
       "1         0.021554\n",
       "2         0.354701\n",
       "3         0.106668\n",
       "4         0.009926\n",
       "...            ...\n",
       "13194566  0.986173\n",
       "13194567  0.985376\n",
       "13194568  0.988153\n",
       "13194569  0.987431\n",
       "13194570  0.985413\n",
       "\n",
       "[13194571 rows x 1 columns]"
      ]
     },
     "execution_count": 44,
     "metadata": {},
     "output_type": "execute_result"
    }
   ],
   "source": [
    "teacher_pred"
   ]
  },
  {
   "cell_type": "code",
   "execution_count": 45,
   "metadata": {},
   "outputs": [],
   "source": [
    "student_pred = pd.read_parquet('student_learned_training_labels.parq')"
   ]
  },
  {
   "cell_type": "code",
   "execution_count": 46,
   "metadata": {},
   "outputs": [
    {
     "data": {
      "text/html": [
       "<div>\n",
       "<style scoped>\n",
       "    .dataframe tbody tr th:only-of-type {\n",
       "        vertical-align: middle;\n",
       "    }\n",
       "\n",
       "    .dataframe tbody tr th {\n",
       "        vertical-align: top;\n",
       "    }\n",
       "\n",
       "    .dataframe thead th {\n",
       "        text-align: right;\n",
       "    }\n",
       "</style>\n",
       "<table border=\"1\" class=\"dataframe\">\n",
       "  <thead>\n",
       "    <tr style=\"text-align: right;\">\n",
       "      <th></th>\n",
       "      <th>model_train_pred</th>\n",
       "    </tr>\n",
       "  </thead>\n",
       "  <tbody>\n",
       "    <tr>\n",
       "      <th>0</th>\n",
       "      <td>0.011274</td>\n",
       "    </tr>\n",
       "    <tr>\n",
       "      <th>1</th>\n",
       "      <td>0.024941</td>\n",
       "    </tr>\n",
       "    <tr>\n",
       "      <th>2</th>\n",
       "      <td>0.408227</td>\n",
       "    </tr>\n",
       "    <tr>\n",
       "      <th>3</th>\n",
       "      <td>0.129211</td>\n",
       "    </tr>\n",
       "    <tr>\n",
       "      <th>4</th>\n",
       "      <td>0.013278</td>\n",
       "    </tr>\n",
       "    <tr>\n",
       "      <th>...</th>\n",
       "      <td>...</td>\n",
       "    </tr>\n",
       "    <tr>\n",
       "      <th>13194566</th>\n",
       "      <td>0.955553</td>\n",
       "    </tr>\n",
       "    <tr>\n",
       "      <th>13194567</th>\n",
       "      <td>0.960881</td>\n",
       "    </tr>\n",
       "    <tr>\n",
       "      <th>13194568</th>\n",
       "      <td>0.958336</td>\n",
       "    </tr>\n",
       "    <tr>\n",
       "      <th>13194569</th>\n",
       "      <td>0.965071</td>\n",
       "    </tr>\n",
       "    <tr>\n",
       "      <th>13194570</th>\n",
       "      <td>0.960889</td>\n",
       "    </tr>\n",
       "  </tbody>\n",
       "</table>\n",
       "<p>13194571 rows × 1 columns</p>\n",
       "</div>"
      ],
      "text/plain": [
       "          model_train_pred\n",
       "0                 0.011274\n",
       "1                 0.024941\n",
       "2                 0.408227\n",
       "3                 0.129211\n",
       "4                 0.013278\n",
       "...                    ...\n",
       "13194566          0.955553\n",
       "13194567          0.960881\n",
       "13194568          0.958336\n",
       "13194569          0.965071\n",
       "13194570          0.960889\n",
       "\n",
       "[13194571 rows x 1 columns]"
      ]
     },
     "execution_count": 46,
     "metadata": {},
     "output_type": "execute_result"
    }
   ],
   "source": [
    "student_pred"
   ]
  },
  {
   "cell_type": "code",
   "execution_count": 47,
   "metadata": {},
   "outputs": [],
   "source": [
    "results = pd.concat([teacher_pred, student_pred], axis=1)"
   ]
  },
  {
   "cell_type": "code",
   "execution_count": 48,
   "metadata": {},
   "outputs": [
    {
     "data": {
      "text/html": [
       "<div>\n",
       "<style scoped>\n",
       "    .dataframe tbody tr th:only-of-type {\n",
       "        vertical-align: middle;\n",
       "    }\n",
       "\n",
       "    .dataframe tbody tr th {\n",
       "        vertical-align: top;\n",
       "    }\n",
       "\n",
       "    .dataframe thead th {\n",
       "        text-align: right;\n",
       "    }\n",
       "</style>\n",
       "<table border=\"1\" class=\"dataframe\">\n",
       "  <thead>\n",
       "    <tr style=\"text-align: right;\">\n",
       "      <th></th>\n",
       "      <th>label_1</th>\n",
       "      <th>model_train_pred</th>\n",
       "    </tr>\n",
       "  </thead>\n",
       "  <tbody>\n",
       "    <tr>\n",
       "      <th>0</th>\n",
       "      <td>0.021041</td>\n",
       "      <td>0.011274</td>\n",
       "    </tr>\n",
       "    <tr>\n",
       "      <th>1</th>\n",
       "      <td>0.021554</td>\n",
       "      <td>0.024941</td>\n",
       "    </tr>\n",
       "    <tr>\n",
       "      <th>2</th>\n",
       "      <td>0.354701</td>\n",
       "      <td>0.408227</td>\n",
       "    </tr>\n",
       "    <tr>\n",
       "      <th>3</th>\n",
       "      <td>0.106668</td>\n",
       "      <td>0.129211</td>\n",
       "    </tr>\n",
       "    <tr>\n",
       "      <th>4</th>\n",
       "      <td>0.009926</td>\n",
       "      <td>0.013278</td>\n",
       "    </tr>\n",
       "    <tr>\n",
       "      <th>...</th>\n",
       "      <td>...</td>\n",
       "      <td>...</td>\n",
       "    </tr>\n",
       "    <tr>\n",
       "      <th>13194566</th>\n",
       "      <td>0.986173</td>\n",
       "      <td>0.955553</td>\n",
       "    </tr>\n",
       "    <tr>\n",
       "      <th>13194567</th>\n",
       "      <td>0.985376</td>\n",
       "      <td>0.960881</td>\n",
       "    </tr>\n",
       "    <tr>\n",
       "      <th>13194568</th>\n",
       "      <td>0.988153</td>\n",
       "      <td>0.958336</td>\n",
       "    </tr>\n",
       "    <tr>\n",
       "      <th>13194569</th>\n",
       "      <td>0.987431</td>\n",
       "      <td>0.965071</td>\n",
       "    </tr>\n",
       "    <tr>\n",
       "      <th>13194570</th>\n",
       "      <td>0.985413</td>\n",
       "      <td>0.960889</td>\n",
       "    </tr>\n",
       "  </tbody>\n",
       "</table>\n",
       "<p>13194571 rows × 2 columns</p>\n",
       "</div>"
      ],
      "text/plain": [
       "           label_1  model_train_pred\n",
       "0         0.021041          0.011274\n",
       "1         0.021554          0.024941\n",
       "2         0.354701          0.408227\n",
       "3         0.106668          0.129211\n",
       "4         0.009926          0.013278\n",
       "...            ...               ...\n",
       "13194566  0.986173          0.955553\n",
       "13194567  0.985376          0.960881\n",
       "13194568  0.988153          0.958336\n",
       "13194569  0.987431          0.965071\n",
       "13194570  0.985413          0.960889\n",
       "\n",
       "[13194571 rows x 2 columns]"
      ]
     },
     "execution_count": 48,
     "metadata": {},
     "output_type": "execute_result"
    }
   ],
   "source": [
    "results"
   ]
  },
  {
   "cell_type": "code",
   "execution_count": 50,
   "metadata": {},
   "outputs": [],
   "source": [
    "t_pred = results['label_1'].to_numpy()\n",
    "s_pred = results['model_train_pred'].to_numpy()\n",
    "\n",
    "diff = t_pred - s_pred\n",
    "results['diff'] = pd.Series(data=diff)"
   ]
  },
  {
   "cell_type": "code",
   "execution_count": 51,
   "metadata": {},
   "outputs": [
    {
     "data": {
      "text/html": [
       "<div>\n",
       "<style scoped>\n",
       "    .dataframe tbody tr th:only-of-type {\n",
       "        vertical-align: middle;\n",
       "    }\n",
       "\n",
       "    .dataframe tbody tr th {\n",
       "        vertical-align: top;\n",
       "    }\n",
       "\n",
       "    .dataframe thead th {\n",
       "        text-align: right;\n",
       "    }\n",
       "</style>\n",
       "<table border=\"1\" class=\"dataframe\">\n",
       "  <thead>\n",
       "    <tr style=\"text-align: right;\">\n",
       "      <th></th>\n",
       "      <th>label_1</th>\n",
       "      <th>model_train_pred</th>\n",
       "      <th>diff</th>\n",
       "    </tr>\n",
       "  </thead>\n",
       "  <tbody>\n",
       "    <tr>\n",
       "      <th>0</th>\n",
       "      <td>0.021041</td>\n",
       "      <td>0.011274</td>\n",
       "      <td>0.009767</td>\n",
       "    </tr>\n",
       "    <tr>\n",
       "      <th>1</th>\n",
       "      <td>0.021554</td>\n",
       "      <td>0.024941</td>\n",
       "      <td>-0.003387</td>\n",
       "    </tr>\n",
       "    <tr>\n",
       "      <th>2</th>\n",
       "      <td>0.354701</td>\n",
       "      <td>0.408227</td>\n",
       "      <td>-0.053526</td>\n",
       "    </tr>\n",
       "    <tr>\n",
       "      <th>3</th>\n",
       "      <td>0.106668</td>\n",
       "      <td>0.129211</td>\n",
       "      <td>-0.022543</td>\n",
       "    </tr>\n",
       "    <tr>\n",
       "      <th>4</th>\n",
       "      <td>0.009926</td>\n",
       "      <td>0.013278</td>\n",
       "      <td>-0.003352</td>\n",
       "    </tr>\n",
       "    <tr>\n",
       "      <th>...</th>\n",
       "      <td>...</td>\n",
       "      <td>...</td>\n",
       "      <td>...</td>\n",
       "    </tr>\n",
       "    <tr>\n",
       "      <th>13194566</th>\n",
       "      <td>0.986173</td>\n",
       "      <td>0.955553</td>\n",
       "      <td>0.030620</td>\n",
       "    </tr>\n",
       "    <tr>\n",
       "      <th>13194567</th>\n",
       "      <td>0.985376</td>\n",
       "      <td>0.960881</td>\n",
       "      <td>0.024495</td>\n",
       "    </tr>\n",
       "    <tr>\n",
       "      <th>13194568</th>\n",
       "      <td>0.988153</td>\n",
       "      <td>0.958336</td>\n",
       "      <td>0.029817</td>\n",
       "    </tr>\n",
       "    <tr>\n",
       "      <th>13194569</th>\n",
       "      <td>0.987431</td>\n",
       "      <td>0.965071</td>\n",
       "      <td>0.022361</td>\n",
       "    </tr>\n",
       "    <tr>\n",
       "      <th>13194570</th>\n",
       "      <td>0.985413</td>\n",
       "      <td>0.960889</td>\n",
       "      <td>0.024524</td>\n",
       "    </tr>\n",
       "  </tbody>\n",
       "</table>\n",
       "<p>13194571 rows × 3 columns</p>\n",
       "</div>"
      ],
      "text/plain": [
       "           label_1  model_train_pred      diff\n",
       "0         0.021041          0.011274  0.009767\n",
       "1         0.021554          0.024941 -0.003387\n",
       "2         0.354701          0.408227 -0.053526\n",
       "3         0.106668          0.129211 -0.022543\n",
       "4         0.009926          0.013278 -0.003352\n",
       "...            ...               ...       ...\n",
       "13194566  0.986173          0.955553  0.030620\n",
       "13194567  0.985376          0.960881  0.024495\n",
       "13194568  0.988153          0.958336  0.029817\n",
       "13194569  0.987431          0.965071  0.022361\n",
       "13194570  0.985413          0.960889  0.024524\n",
       "\n",
       "[13194571 rows x 3 columns]"
      ]
     },
     "execution_count": 51,
     "metadata": {},
     "output_type": "execute_result"
    }
   ],
   "source": [
    "results"
   ]
  },
  {
   "cell_type": "code",
   "execution_count": 52,
   "metadata": {},
   "outputs": [
    {
     "data": {
      "text/plain": [
       "0.03586939091931898"
      ]
     },
     "execution_count": 52,
     "metadata": {},
     "output_type": "execute_result"
    }
   ],
   "source": [
    "np.mean(np.abs(diff))"
   ]
  },
  {
   "cell_type": "code",
   "execution_count": 53,
   "metadata": {},
   "outputs": [
    {
     "data": {
      "text/plain": [
       "0.8621090113388767"
      ]
     },
     "execution_count": 53,
     "metadata": {},
     "output_type": "execute_result"
    }
   ],
   "source": [
    "np.max(np.abs(diff))"
   ]
  },
  {
   "cell_type": "code",
   "execution_count": 54,
   "metadata": {},
   "outputs": [],
   "source": [
    "sort = np.sort(np.abs(diff))"
   ]
  },
  {
   "cell_type": "code",
   "execution_count": 55,
   "metadata": {},
   "outputs": [
    {
     "data": {
      "text/plain": [
       "array([7.42141059e-09, 7.42141059e-09, 7.42141059e-09, ...,\n",
       "       8.52781294e-01, 8.52788685e-01, 8.62109011e-01])"
      ]
     },
     "execution_count": 55,
     "metadata": {},
     "output_type": "execute_result"
    }
   ],
   "source": [
    "sort"
   ]
  },
  {
   "cell_type": "code",
   "execution_count": 56,
   "metadata": {},
   "outputs": [
    {
     "data": {
      "text/plain": [
       "0.07972051535438325"
      ]
     },
     "execution_count": 56,
     "metadata": {},
     "output_type": "execute_result"
    }
   ],
   "source": [
    "(sort > 0.1).sum()/len(sort)"
   ]
  },
  {
   "cell_type": "code",
   "execution_count": 57,
   "metadata": {},
   "outputs": [
    {
     "data": {
      "text/plain": [
       "1051878"
      ]
     },
     "execution_count": 57,
     "metadata": {},
     "output_type": "execute_result"
    }
   ],
   "source": [
    "(sort > 0.1).sum()"
   ]
  },
  {
   "cell_type": "code",
   "execution_count": 42,
   "metadata": {},
   "outputs": [
    {
     "name": "stdout",
     "output_type": "stream",
     "text": [
      "48914275_outbound_dnn_run_2023-08-24 11:55:08.408130\r\n",
      "48914302_outbound_dnn_run_2023-08-24 12:52:57.102379\r\n",
      "48914452_outbound_stdnn_run_2023-08-24 16:40:00.282208\r\n",
      "48914463_outbound_stdnn_run_2023-08-24 17:35:59.325309\r\n",
      "48950875_outbound_stdnn_run_2023-08-28 10:49:53.851112\r\n",
      "48950927_outbound_gbrfc_run2023-08-28 12:29:02.161626\r\n",
      "48950962_outbound_gbrfc_run2023-08-28 13:30:57.548611\r\n",
      "48950964_outbound_gbrfc_run2023-08-28 13:33:37.306402\r\n",
      "best\r\n",
      "inference_48949457.txt\r\n",
      "inference_48949458.txt\r\n",
      "inference.py\r\n",
      "__init__.py\r\n",
      "models.py\r\n",
      "_output\r\n",
      "__pycache__\r\n",
      "runs\r\n",
      "student_learned_test_labels.parq\r\n",
      "student_learned_training_labels.parq\r\n",
      "student_learned_val_labels.parq\r\n",
      "student_teacher.py\r\n",
      "Student Teacher Validation.ipynb\r\n",
      "submit_dnn.sh\r\n",
      "submit_gbrfc.sh\r\n",
      "submit_inference.sh\r\n",
      "submit_rfc.sh\r\n",
      "submit_st.sh\r\n",
      "submit_tuner.sh\r\n",
      "teacher_soft_test_labels.parq\r\n",
      "teacher_soft_training_labels.parq\r\n",
      "teacher_soft_validation_labels.parq\r\n",
      "train.py\r\n",
      "tuner\r\n"
     ]
    }
   ],
   "source": [
    "!ls"
   ]
  },
  {
   "cell_type": "code",
   "execution_count": 60,
   "metadata": {},
   "outputs": [],
   "source": [
    "t_val = pd.read_parquet('teacher_soft_validation_labels.parq').to_numpy()\n",
    "s_val = pd.read_parquet('student_learned_val_labels.parq').to_numpy()\n",
    "t_test = pd.read_parquet('teacher_soft_test_labels.parq').to_numpy()\n",
    "s_test = pd.read_parquet('student_learned_test_labels.parq').to_numpy()"
   ]
  },
  {
   "cell_type": "code",
   "execution_count": 69,
   "metadata": {},
   "outputs": [],
   "source": [
    "val_diff = t_val - s_val\n",
    "test_diff = t_test - s_test"
   ]
  },
  {
   "cell_type": "code",
   "execution_count": 71,
   "metadata": {},
   "outputs": [
    {
     "name": "stdout",
     "output_type": "stream",
     "text": [
      "[[-0.00187227]\n",
      " [ 0.01729717]\n",
      " [-0.0123517 ]\n",
      " ...\n",
      " [ 0.02040807]\n",
      " [ 0.02040807]\n",
      " [-0.21556187]]\n",
      "[[-0.03966042]\n",
      " [-0.01110816]\n",
      " [-0.07029392]\n",
      " ...\n",
      " [-0.00394075]\n",
      " [ 0.01780371]\n",
      " [-0.08690896]]\n"
     ]
    }
   ],
   "source": [
    "print(val_diff)\n",
    "print(test_diff)"
   ]
  },
  {
   "cell_type": "code",
   "execution_count": 63,
   "metadata": {},
   "outputs": [
    {
     "data": {
      "text/plain": [
       "0.029662033448562494"
      ]
     },
     "execution_count": 63,
     "metadata": {},
     "output_type": "execute_result"
    }
   ],
   "source": [
    "np.mean(np.abs(val_diff))"
   ]
  },
  {
   "cell_type": "code",
   "execution_count": 66,
   "metadata": {},
   "outputs": [
    {
     "data": {
      "text/plain": [
       "0.006238913141663344"
      ]
     },
     "execution_count": 66,
     "metadata": {},
     "output_type": "execute_result"
    }
   ],
   "source": [
    "(val_diff > 0.1).sum()/len(val_diff)"
   ]
  },
  {
   "cell_type": "code",
   "execution_count": 72,
   "metadata": {},
   "outputs": [
    {
     "data": {
      "text/plain": [
       "0.02642390960655843"
      ]
     },
     "execution_count": 72,
     "metadata": {},
     "output_type": "execute_result"
    }
   ],
   "source": [
    "np.mean(np.abs(test_diff))"
   ]
  },
  {
   "cell_type": "code",
   "execution_count": 73,
   "metadata": {},
   "outputs": [
    {
     "data": {
      "text/plain": [
       "0.010604630462120238"
      ]
     },
     "execution_count": 73,
     "metadata": {},
     "output_type": "execute_result"
    }
   ],
   "source": [
    "(test_diff > 0.1).sum()/len(test_diff)"
   ]
  },
  {
   "cell_type": "code",
   "execution_count": 74,
   "metadata": {},
   "outputs": [
    {
     "data": {
      "text/plain": [
       "array([[0.],\n",
       "       [0.],\n",
       "       [0.],\n",
       "       ...,\n",
       "       [1.],\n",
       "       [1.],\n",
       "       [0.]], dtype=float32)"
      ]
     },
     "execution_count": 74,
     "metadata": {},
     "output_type": "execute_result"
    }
   ],
   "source": [
    "np.round(s_test)"
   ]
  },
  {
   "cell_type": "code",
   "execution_count": 75,
   "metadata": {},
   "outputs": [
    {
     "data": {
      "text/plain": [
       "array([[0.],\n",
       "       [0.],\n",
       "       [0.],\n",
       "       ...,\n",
       "       [1.],\n",
       "       [1.],\n",
       "       [0.]])"
      ]
     },
     "execution_count": 75,
     "metadata": {},
     "output_type": "execute_result"
    }
   ],
   "source": [
    "np.round(t_test)"
   ]
  },
  {
   "cell_type": "code",
   "execution_count": 78,
   "metadata": {},
   "outputs": [
    {
     "data": {
      "text/plain": [
       "0.9795860303539905"
      ]
     },
     "execution_count": 78,
     "metadata": {},
     "output_type": "execute_result"
    }
   ],
   "source": [
    "(np.round(s_test) == np.round(t_test)).sum()/len(t_test)"
   ]
  },
  {
   "cell_type": "code",
   "execution_count": 80,
   "metadata": {},
   "outputs": [
    {
     "data": {
      "text/plain": [
       "110610"
      ]
     },
     "execution_count": 80,
     "metadata": {},
     "output_type": "execute_result"
    }
   ],
   "source": [
    "(np.round(s_test) == 1).sum()"
   ]
  },
  {
   "cell_type": "code",
   "execution_count": 81,
   "metadata": {},
   "outputs": [
    {
     "data": {
      "text/plain": [
       "81294"
      ]
     },
     "execution_count": 81,
     "metadata": {},
     "output_type": "execute_result"
    }
   ],
   "source": [
    "(np.round(t_test) == 1).sum()"
   ]
  },
  {
   "cell_type": "code",
   "execution_count": 82,
   "metadata": {},
   "outputs": [
    {
     "data": {
      "text/plain": [
       "array([[0.],\n",
       "       [0.],\n",
       "       [0.],\n",
       "       ...,\n",
       "       [0.],\n",
       "       [0.],\n",
       "       [0.]], dtype=float16)"
      ]
     },
     "execution_count": 82,
     "metadata": {},
     "output_type": "execute_result"
    }
   ],
   "source": [
    "(np.round(t_test > 1))"
   ]
  },
  {
   "cell_type": "code",
   "execution_count": 83,
   "metadata": {},
   "outputs": [
    {
     "data": {
      "text/html": [
       "<div>\n",
       "<style scoped>\n",
       "    .dataframe tbody tr th:only-of-type {\n",
       "        vertical-align: middle;\n",
       "    }\n",
       "\n",
       "    .dataframe tbody tr th {\n",
       "        vertical-align: top;\n",
       "    }\n",
       "\n",
       "    .dataframe thead th {\n",
       "        text-align: right;\n",
       "    }\n",
       "</style>\n",
       "<table border=\"1\" class=\"dataframe\">\n",
       "  <thead>\n",
       "    <tr style=\"text-align: right;\">\n",
       "      <th></th>\n",
       "      <th>label_1</th>\n",
       "      <th>model_train_pred</th>\n",
       "      <th>diff</th>\n",
       "    </tr>\n",
       "  </thead>\n",
       "  <tbody>\n",
       "    <tr>\n",
       "      <th>0</th>\n",
       "      <td>0.021041</td>\n",
       "      <td>0.011274</td>\n",
       "      <td>0.009767</td>\n",
       "    </tr>\n",
       "    <tr>\n",
       "      <th>1</th>\n",
       "      <td>0.021554</td>\n",
       "      <td>0.024941</td>\n",
       "      <td>-0.003387</td>\n",
       "    </tr>\n",
       "    <tr>\n",
       "      <th>2</th>\n",
       "      <td>0.354701</td>\n",
       "      <td>0.408227</td>\n",
       "      <td>-0.053526</td>\n",
       "    </tr>\n",
       "    <tr>\n",
       "      <th>3</th>\n",
       "      <td>0.106668</td>\n",
       "      <td>0.129211</td>\n",
       "      <td>-0.022543</td>\n",
       "    </tr>\n",
       "    <tr>\n",
       "      <th>4</th>\n",
       "      <td>0.009926</td>\n",
       "      <td>0.013278</td>\n",
       "      <td>-0.003352</td>\n",
       "    </tr>\n",
       "    <tr>\n",
       "      <th>...</th>\n",
       "      <td>...</td>\n",
       "      <td>...</td>\n",
       "      <td>...</td>\n",
       "    </tr>\n",
       "    <tr>\n",
       "      <th>13194566</th>\n",
       "      <td>0.986173</td>\n",
       "      <td>0.955553</td>\n",
       "      <td>0.030620</td>\n",
       "    </tr>\n",
       "    <tr>\n",
       "      <th>13194567</th>\n",
       "      <td>0.985376</td>\n",
       "      <td>0.960881</td>\n",
       "      <td>0.024495</td>\n",
       "    </tr>\n",
       "    <tr>\n",
       "      <th>13194568</th>\n",
       "      <td>0.988153</td>\n",
       "      <td>0.958336</td>\n",
       "      <td>0.029817</td>\n",
       "    </tr>\n",
       "    <tr>\n",
       "      <th>13194569</th>\n",
       "      <td>0.987431</td>\n",
       "      <td>0.965071</td>\n",
       "      <td>0.022361</td>\n",
       "    </tr>\n",
       "    <tr>\n",
       "      <th>13194570</th>\n",
       "      <td>0.985413</td>\n",
       "      <td>0.960889</td>\n",
       "      <td>0.024524</td>\n",
       "    </tr>\n",
       "  </tbody>\n",
       "</table>\n",
       "<p>13194571 rows × 3 columns</p>\n",
       "</div>"
      ],
      "text/plain": [
       "           label_1  model_train_pred      diff\n",
       "0         0.021041          0.011274  0.009767\n",
       "1         0.021554          0.024941 -0.003387\n",
       "2         0.354701          0.408227 -0.053526\n",
       "3         0.106668          0.129211 -0.022543\n",
       "4         0.009926          0.013278 -0.003352\n",
       "...            ...               ...       ...\n",
       "13194566  0.986173          0.955553  0.030620\n",
       "13194567  0.985376          0.960881  0.024495\n",
       "13194568  0.988153          0.958336  0.029817\n",
       "13194569  0.987431          0.965071  0.022361\n",
       "13194570  0.985413          0.960889  0.024524\n",
       "\n",
       "[13194571 rows x 3 columns]"
      ]
     },
     "execution_count": 83,
     "metadata": {},
     "output_type": "execute_result"
    }
   ],
   "source": [
    "results"
   ]
  },
  {
   "cell_type": "code",
   "execution_count": 84,
   "metadata": {},
   "outputs": [
    {
     "data": {
      "text/plain": [
       "array([[ 0.02104096,  0.01127434,  0.00976662],\n",
       "       [ 0.02155414,  0.02494113, -0.00338699],\n",
       "       [ 0.35470119,  0.40822715, -0.05352596],\n",
       "       ...,\n",
       "       [ 0.98815275,  0.958336  ,  0.02981676],\n",
       "       [ 0.9874313 ,  0.96507061,  0.02236069],\n",
       "       [ 0.98541273,  0.96088898,  0.02452375]])"
      ]
     },
     "execution_count": 84,
     "metadata": {},
     "output_type": "execute_result"
    }
   ],
   "source": [
    "results.to_numpy()"
   ]
  },
  {
   "cell_type": "code",
   "execution_count": 96,
   "metadata": {},
   "outputs": [],
   "source": [
    "import tensorflow as tf\n",
    "from tensorflow import keras\n"
   ]
  },
  {
   "cell_type": "code",
   "execution_count": 97,
   "metadata": {},
   "outputs": [],
   "source": [
    "model_path='/smallwork/alexander.huang/models/2023-09-05/48958189_outbound_stdnn_run_2023-09-05 17:36:51.434726/checkpoint100-0.17.h5'"
   ]
  },
  {
   "cell_type": "code",
   "execution_count": 98,
   "metadata": {},
   "outputs": [],
   "source": [
    "model = keras.models.load_model(model_path)"
   ]
  },
  {
   "cell_type": "code",
   "execution_count": 99,
   "metadata": {},
   "outputs": [
    {
     "name": "stdout",
     "output_type": "stream",
     "text": [
      "Model: \"stdnn\"\n",
      "_________________________________________________________________\n",
      " Layer (type)                Output Shape              Param #   \n",
      "=================================================================\n",
      " input_1 (InputLayer)        [(None, 268)]             0         \n",
      "                                                                 \n",
      " hidden_1 (Dense)            (None, 512)               137728    \n",
      "                                                                 \n",
      " dropout (Dropout)           (None, 512)               0         \n",
      "                                                                 \n",
      " hidden_2 (Dense)            (None, 512)               262656    \n",
      "                                                                 \n",
      " dropout_1 (Dropout)         (None, 512)               0         \n",
      "                                                                 \n",
      " temperature (Lambda)        (None, 512)               0         \n",
      "                                                                 \n",
      " output (Dense)              (None, 2)                 1026      \n",
      "                                                                 \n",
      "=================================================================\n",
      "Total params: 401410 (1.53 MB)\n",
      "Trainable params: 401410 (1.53 MB)\n",
      "Non-trainable params: 0 (0.00 Byte)\n",
      "_________________________________________________________________\n"
     ]
    }
   ],
   "source": [
    "model.summary()"
   ]
  },
  {
   "cell_type": "code",
   "execution_count": 106,
   "metadata": {},
   "outputs": [],
   "source": [
    "model2 = keras.models.Sequential()\n",
    "layers = [l for l in model.layers]\n",
    "l1 = layers[:5]\n",
    "l2 = [layers[6]]\n",
    "layers = l1 + l2\n",
    "for layer in layers:\n",
    "    model2.add(layer)\n",
    "model2 = keras.Model(inputs=model2.input, outputs=model2.output)"
   ]
  },
  {
   "cell_type": "code",
   "execution_count": 107,
   "metadata": {},
   "outputs": [
    {
     "name": "stdout",
     "output_type": "stream",
     "text": [
      "Model: \"model_13\"\n",
      "_________________________________________________________________\n",
      " Layer (type)                Output Shape              Param #   \n",
      "=================================================================\n",
      " input_1 (InputLayer)        [(None, 268)]             0         \n",
      "                                                                 \n",
      " hidden_1 (Dense)            (None, 512)               137728    \n",
      "                                                                 \n",
      " dropout (Dropout)           (None, 512)               0         \n",
      "                                                                 \n",
      " hidden_2 (Dense)            (None, 512)               262656    \n",
      "                                                                 \n",
      " dropout_1 (Dropout)         (None, 512)               0         \n",
      "                                                                 \n",
      " output (Dense)              (None, 2)                 1026      \n",
      "                                                                 \n",
      "=================================================================\n",
      "Total params: 401410 (1.53 MB)\n",
      "Trainable params: 401410 (1.53 MB)\n",
      "Non-trainable params: 0 (0.00 Byte)\n",
      "_________________________________________________________________\n"
     ]
    }
   ],
   "source": [
    "model2.summary()"
   ]
  },
  {
   "cell_type": "code",
   "execution_count": null,
   "metadata": {},
   "outputs": [],
   "source": []
  }
 ],
 "metadata": {
  "kernelspec": {
   "display_name": "thesis",
   "language": "python",
   "name": "thesis"
  },
  "language_info": {
   "codemirror_mode": {
    "name": "ipython",
    "version": 3
   },
   "file_extension": ".py",
   "mimetype": "text/x-python",
   "name": "python",
   "nbconvert_exporter": "python",
   "pygments_lexer": "ipython3",
   "version": "3.11.4"
  }
 },
 "nbformat": 4,
 "nbformat_minor": 2
}
