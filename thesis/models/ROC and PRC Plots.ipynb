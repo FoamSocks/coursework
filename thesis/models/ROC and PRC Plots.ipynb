{
 "cells": [
  {
   "cell_type": "code",
   "execution_count": 57,
   "id": "714c0773",
   "metadata": {},
   "outputs": [],
   "source": [
    "from sklearn.metrics import roc_curve, auc, RocCurveDisplay, precision_recall_curve, f1_score, PrecisionRecallDisplay, classification_report\n",
    "import matplotlib.pyplot as plt\n",
    "import os\n",
    "import yaml\n",
    "import sys\n",
    "import numpy as np\n",
    "from tqdm import tqdm\n",
    "from sklearn.metrics import classification_report\n",
    "\n",
    "import models as M\n",
    "from train import load_data\n",
    "\n",
    "def find_prc_threshold(y_true, y_pred):\n",
    "    precision, recall, thresholds = precision_recall_curve(y_true, y_pred)\n",
    "    f1score_matrix = (2*precision*recall)/(precision+recall)\n",
    "    index = np.argmax(f1score_matrix)\n",
    "    opt_thresh_prc = thresholds[index]\n",
    "    print(f1score_matrix[index])\n",
    "    print(opt_thresh_prc)\n",
    "    return opt_thresh_prc"
   ]
  },
  {
   "cell_type": "markdown",
   "id": "da3c27bf",
   "metadata": {},
   "source": [
    "# Outbound"
   ]
  },
  {
   "cell_type": "code",
   "execution_count": 3,
   "id": "33bd0200",
   "metadata": {},
   "outputs": [
    {
     "name": "stdout",
     "output_type": "stream",
     "text": [
      "\n",
      "======== loadiing train and test data ==========\n",
      "load x_train\n",
      "load y_train\n",
      "load x_test\n",
      "load x_test\n",
      "load x_val\n",
      "load y_val\n",
      "...load complete.\n",
      "imported training data:\n",
      "x_train shape: (12220423, 250)\n",
      "y_train shape: (12220423,)\n",
      "[(0.0, 11968256), (1.0, 252167)]\n",
      "imported validation data:\n",
      "x_val shape: (1359117, 250)\n",
      "y_val shape: (1359117,)\n",
      "[(0.0, 1330996), (1.0, 28121)]\n",
      "imported test data:\n",
      "x_test shape: (3585962, 250)\n",
      "y_test shape: (3585962,)\n",
      "[(0.0, 3496914), (1.0, 89048)]\n",
      "Model: \"dnn\"\n",
      "_________________________________________________________________\n",
      " Layer (type)                Output Shape              Param #   \n",
      "=================================================================\n",
      " input_1 (InputLayer)        [(None, 250)]             0         \n",
      "                                                                 \n",
      " hidden_1 (Dense)            (None, 512)               128512    \n",
      "                                                                 \n",
      " dropout (Dropout)           (None, 512)               0         \n",
      "                                                                 \n",
      " hidden_2 (Dense)            (None, 512)               262656    \n",
      "                                                                 \n",
      " dropout_1 (Dropout)         (None, 512)               0         \n",
      "                                                                 \n",
      " output (Dense)              (None, 2)                 1026      \n",
      "                                                                 \n",
      "=================================================================\n",
      "Total params: 392194 (1.50 MB)\n",
      "Trainable params: 392194 (1.50 MB)\n",
      "Non-trainable params: 0 (0.00 Byte)\n",
      "_________________________________________________________________\n",
      "None\n"
     ]
    },
    {
     "name": "stderr",
     "output_type": "stream",
     "text": [
      "2023-10-31 15:03:55.668533: I tensorflow/core/common_runtime/gpu/gpu_device.cc:1639] Created device /job:localhost/replica:0/task:0/device:GPU:0 with 46497 MB memory:  -> device: 0, name: NVIDIA RTX 6000 Ada Generation, pci bus id: 0000:1a:00.0, compute capability: 8.9\n"
     ]
    }
   ],
   "source": [
    "# loading model and data\n",
    "DNN_MODEL_PATH = '/smallwork/alexander.huang/models/2023-10-13/49111756_outbound_dnn_run_2023-10-13 13:27:28.481509/checkpoint100-0.06.h5'\n",
    "DNN_PARAMS_PATH = '/smallwork/alexander.huang/models/2023-10-13/49111756_outbound_dnn_run_2023-10-13 13:27:28.481509/params.yml'\n",
    "\n",
    "SAVE_DIR = '/smallwork/alexander.huang/roc/'\n",
    "DIRECTION = 'outbound'\n",
    "RUN_DIR = SAVE_DIR + '/' + DIRECTION + '_dnn/'\n",
    "os.makedirs(RUN_DIR, exist_ok=True)\n",
    "\n",
    "# load data\n",
    "_, _, x_val, y_val, x_test, y_test = load_data(DIRECTION)\n",
    "\n",
    "# load dnn model params\n",
    "with open(DNN_PARAMS_PATH) as file:\n",
    "    params = yaml.load(file, Loader=yaml.loader.FullLoader)\n",
    "\n",
    "# init dnn model with params\n",
    "model = M.get_dnn_model(params)\n",
    "\n",
    "# load dnn model weights\n",
    "model.load_weights(DNN_MODEL_PATH)\n",
    "\n",
    "print(model.summary())"
   ]
  },
  {
   "cell_type": "code",
   "execution_count": 4,
   "id": "8c7af55c",
   "metadata": {},
   "outputs": [
    {
     "name": "stdout",
     "output_type": "stream",
     "text": [
      "  138/42473 [..............................] - ETA: 46s   "
     ]
    },
    {
     "name": "stderr",
     "output_type": "stream",
     "text": [
      "2023-10-31 15:04:04.524621: I tensorflow/compiler/xla/stream_executor/cuda/cuda_blas.cc:606] TensorFloat-32 will be used for the matrix multiplication. This will only be logged once.\n"
     ]
    },
    {
     "name": "stdout",
     "output_type": "stream",
     "text": [
      "42473/42473 [==============================] - 48s 1ms/step\n"
     ]
    }
   ],
   "source": [
    "yhat_val = model.predict(x_val)"
   ]
  },
  {
   "cell_type": "code",
   "execution_count": 5,
   "id": "a45d0538",
   "metadata": {},
   "outputs": [],
   "source": [
    "val_positives = yhat_val[:, 1]"
   ]
  },
  {
   "cell_type": "code",
   "execution_count": 11,
   "id": "c3314ce2",
   "metadata": {},
   "outputs": [],
   "source": [
    "val_negatives = yhat_val[:, 0]\n",
    "y_val_neg = 1-y_val"
   ]
  },
  {
   "cell_type": "code",
   "execution_count": 12,
   "id": "fcb70600",
   "metadata": {
    "scrolled": false
   },
   "outputs": [
    {
     "data": {
      "text/plain": [
       "<sklearn.metrics._plot.roc_curve.RocCurveDisplay at 0x7f72b8477090>"
      ]
     },
     "execution_count": 12,
     "metadata": {},
     "output_type": "execute_result"
    },
    {
     "data": {
      "image/png": "[encoded data removed]",
      "text/plain": [
       "<Figure size 640x480 with 1 Axes>"
      ]
     },
     "metadata": {},
     "output_type": "display_data"
    },
    {
     "data": {
      "image/png": "[encoded data removed]",
      "text/plain": [
       "<Figure size 640x480 with 1 Axes>"
      ]
     },
     "metadata": {},
     "output_type": "display_data"
    }
   ],
   "source": [
    "fpr, tpr, thresholds = roc_curve(y_val, val_positives)\n",
    "roc_auc = auc(fpr, tpr)\n",
    "display = RocCurveDisplay.from_predictions(y_val, val_positives, name=str(DIRECTION+' dnn'))\n",
    "\n",
    "display.plot()"
   ]
  },
  {
   "cell_type": "code",
   "execution_count": 13,
   "id": "d4d917e2",
   "metadata": {},
   "outputs": [
    {
     "data": {
      "text/plain": [
       "<sklearn.metrics._plot.roc_curve.RocCurveDisplay at 0x7f72a43811d0>"
      ]
     },
     "execution_count": 13,
     "metadata": {},
     "output_type": "execute_result"
    },
    {
     "data": {
      "image/png": "[encoded data removed]",
      "text/plain": [
       "<Figure size 640x480 with 1 Axes>"
      ]
     },
     "metadata": {},
     "output_type": "display_data"
    }
   ],
   "source": [
    "fpr, tpr, thresholds = roc_curve(y_val_neg, val_negatives)\n",
    "roc_auc = auc(fpr, tpr)\n",
    "display = RocCurveDisplay(fpr=fpr, tpr=tpr, roc_auc=roc_auc, estimator_name=str(DIRECTION+' dnn'))\n",
    "\n",
    "display.plot()"
   ]
  },
  {
   "cell_type": "code",
   "execution_count": 14,
   "id": "ea724064",
   "metadata": {},
   "outputs": [
    {
     "name": "stdout",
     "output_type": "stream",
     "text": [
      "[          inf 9.9993443e-01 9.9993277e-01 ... 3.3088327e-06 3.3087949e-06\n",
      " 8.9670357e-07]\n"
     ]
    }
   ],
   "source": [
    "geometric_means = np.sqrt(tpr * (1-fpr))\n",
    "index = np.argmax(geometric_means)\n",
    "print(thresholds)"
   ]
  },
  {
   "cell_type": "code",
   "execution_count": 15,
   "id": "326e24c3",
   "metadata": {},
   "outputs": [
    {
     "name": "stdout",
     "output_type": "stream",
     "text": [
      "Best Threshold: 0.8903637\n"
     ]
    }
   ],
   "source": [
    "print('Best Threshold:', thresholds[index])\n",
    "opt_thresh = thresholds[index]"
   ]
  },
  {
   "cell_type": "code",
   "execution_count": 16,
   "id": "2fd020a7",
   "metadata": {},
   "outputs": [
    {
     "name": "stdout",
     "output_type": "stream",
     "text": [
      "112062/112062 [==============================] - 123s 1ms/step\n"
     ]
    }
   ],
   "source": [
    "yhat_test = model.predict(x_test)\n",
    "y_pred_test = np.argmax(yhat_test, axis=1)"
   ]
  },
  {
   "cell_type": "markdown",
   "id": "f7f14d40",
   "metadata": {},
   "source": [
    "Original model with threshold 0.5"
   ]
  },
  {
   "cell_type": "code",
   "execution_count": 17,
   "id": "6d005c58",
   "metadata": {},
   "outputs": [
    {
     "name": "stdout",
     "output_type": "stream",
     "text": [
      "              precision    recall  f1-score   support\n",
      "\n",
      "         0.0     0.9974    0.9921    0.9948   3496914\n",
      "         1.0     0.7436    0.9000    0.8143     89048\n",
      "\n",
      "    accuracy                         0.9898   3585962\n",
      "   macro avg     0.8705    0.9460    0.9045   3585962\n",
      "weighted avg     0.9911    0.9898    0.9903   3585962\n",
      "\n"
     ]
    }
   ],
   "source": [
    "print(classification_report(y_test, y_pred_test, digits=4))"
   ]
  },
  {
   "cell_type": "code",
   "execution_count": 18,
   "id": "7d7d0933",
   "metadata": {},
   "outputs": [],
   "source": [
    "test_positives = yhat_test[:,1]"
   ]
  },
  {
   "cell_type": "markdown",
   "id": "d5ae6667",
   "metadata": {},
   "source": [
    "Using ROC-derived threshold"
   ]
  },
  {
   "cell_type": "code",
   "execution_count": 19,
   "id": "8addecdf",
   "metadata": {},
   "outputs": [
    {
     "name": "stdout",
     "output_type": "stream",
     "text": [
      "              precision    recall  f1-score   support\n",
      "\n",
      "         0.0     0.9773    0.9997    0.9884   3496914\n",
      "         1.0     0.8684    0.0894    0.1622     89048\n",
      "\n",
      "    accuracy                         0.9771   3585962\n",
      "   macro avg     0.9229    0.5446    0.5753   3585962\n",
      "weighted avg     0.9746    0.9771    0.9679   3585962\n",
      "\n"
     ]
    }
   ],
   "source": [
    "y_pred = np.where(test_positives > opt_thresh, 1, 0)\n",
    "print(classification_report(y_test, y_pred, digits=4))"
   ]
  },
  {
   "cell_type": "markdown",
   "id": "890ef1dc",
   "metadata": {},
   "source": [
    "# DNN PRC Threshold"
   ]
  },
  {
   "cell_type": "code",
   "execution_count": 52,
   "id": "ac55bf66",
   "metadata": {},
   "outputs": [
    {
     "name": "stdout",
     "output_type": "stream",
     "text": [
      "Best PRC threshold: 0.7503859\n"
     ]
    }
   ],
   "source": [
    "opt_thresh_prc = find_prc_threshold(y_val, val_positives)\n",
    "\n",
    "print('Best PRC threshold:', opt_thresh_prc)"
   ]
  },
  {
   "cell_type": "code",
   "execution_count": 23,
   "id": "953fe4b0",
   "metadata": {},
   "outputs": [
    {
     "data": {
      "image/png": "[encoded data removed]",
      "text/plain": [
       "<Figure size 640x480 with 1 Axes>"
      ]
     },
     "metadata": {},
     "output_type": "display_data"
    }
   ],
   "source": [
    "from sklearn.metrics import PrecisionRecallDisplay\n",
    "\n",
    "prc_display = PrecisionRecallDisplay.from_predictions(y_val, val_positives, name=str(DIRECTION+' dnn (blocked)'), plot_chance_level=True)"
   ]
  },
  {
   "cell_type": "code",
   "execution_count": 24,
   "id": "8ae9a3a5",
   "metadata": {
    "scrolled": false
   },
   "outputs": [
    {
     "data": {
      "image/png": "[encoded data removed]",
      "text/plain": [
       "<Figure size 640x480 with 1 Axes>"
      ]
     },
     "metadata": {},
     "output_type": "display_data"
    }
   ],
   "source": [
    "prc_display_n = PrecisionRecallDisplay.from_predictions(y_val_neg, val_negatives, name=str(DIRECTION+' dnn (allowed)'), plot_chance_level=True)"
   ]
  },
  {
   "cell_type": "code",
   "execution_count": 25,
   "id": "d352e87f",
   "metadata": {
    "scrolled": false
   },
   "outputs": [
    {
     "name": "stdout",
     "output_type": "stream",
     "text": [
      "              precision    recall  f1-score   support\n",
      "\n",
      "         0.0     0.9773    0.9996    0.9884   3496914\n",
      "         1.0     0.8653    0.0897    0.1625     89048\n",
      "\n",
      "    accuracy                         0.9770   3585962\n",
      "   macro avg     0.9213    0.5447    0.5754   3585962\n",
      "weighted avg     0.9746    0.9770    0.9679   3585962\n",
      "\n"
     ]
    }
   ],
   "source": [
    "y_pred = np.where(test_positives > opt_thresh_prc, 1, 0)\n",
    "print(classification_report(y_test, y_pred, digits=4))"
   ]
  },
  {
   "cell_type": "markdown",
   "id": "e61cddd4",
   "metadata": {},
   "source": [
    "# Concrete Dropout PRC and ROC"
   ]
  },
  {
   "cell_type": "code",
   "execution_count": 29,
   "id": "a6f5cf31",
   "metadata": {},
   "outputs": [],
   "source": [
    "CD_TEST_PRED = '/smallwork/alexander.huang/concrete_dropout/outbound/49114892/predictions.npy'\n",
    "MCD_TEST_PRED = '/smallwork/alexander.huang/mcdropout/outbound/49114307/predictions.npy'"
   ]
  },
  {
   "cell_type": "code",
   "execution_count": 34,
   "id": "1128f6c4",
   "metadata": {},
   "outputs": [
    {
     "name": "stdout",
     "output_type": "stream",
     "text": [
      "Model: \"concrete_dropout_model\"\n",
      "_________________________________________________________________\n",
      " Layer (type)                Output Shape              Param #   \n",
      "=================================================================\n",
      " input_5 (InputLayer)        [(None, 250)]             0         \n",
      "                                                                 \n",
      " hidden_1 (Dense)            (None, 512)               128512    \n",
      "                                                                 \n",
      " hidden_1_drop (ConcreteDen  (None, 512)               262657    \n",
      " seDropout)                                                      \n",
      "                                                                 \n",
      " hidden_2_drop (ConcreteDen  (None, 2)                 1027      \n",
      " seDropout)                                                      \n",
      "                                                                 \n",
      "=================================================================\n",
      "Total params: 392196 (1.50 MB)\n",
      "Trainable params: 392196 (1.50 MB)\n",
      "Non-trainable params: 0 (0.00 Byte)\n",
      "_________________________________________________________________\n",
      "None\n"
     ]
    }
   ],
   "source": [
    "# loading model and data\n",
    "CD_MODEL_PATH = '/smallwork/alexander.huang/models/2023-10-19/49114380_outbound_cdnn_run_2023-10-19 12:54:16.460900/checkpoint100-0.06.h5'\n",
    "CD_PARAMS_PATH = '/smallwork/alexander.huang/models/2023-10-19/49114380_outbound_cdnn_run_2023-10-19 12:54:16.460900/params.yml'\n",
    "\n",
    "# load dnn model params\n",
    "with open(CD_PARAMS_PATH) as file:\n",
    "    params = yaml.load(file, Loader=yaml.loader.FullLoader)\n",
    "\n",
    "# init dnn model with params\n",
    "model = M.get_cdnn_model(params)\n",
    "\n",
    "# load dnn model weights\n",
    "model.load_weights(CD_MODEL_PATH)\n",
    "\n",
    "print(model.summary())"
   ]
  },
  {
   "cell_type": "code",
   "execution_count": 35,
   "id": "9b99902c",
   "metadata": {},
   "outputs": [],
   "source": [
    "cd_test_pred = np.load(CD_TEST_PRED)"
   ]
  },
  {
   "cell_type": "code",
   "execution_count": 37,
   "id": "cf963942",
   "metadata": {},
   "outputs": [
    {
     "name": "stdout",
     "output_type": "stream",
     "text": [
      "(3585962,)\n"
     ]
    }
   ],
   "source": [
    "cd_pred_test = np.mean(cd_test_pred, axis=0)\n",
    "print(cd_pred_test.shape)"
   ]
  },
  {
   "cell_type": "code",
   "execution_count": 43,
   "id": "41c7b903",
   "metadata": {
    "scrolled": true
   },
   "outputs": [
    {
     "name": "stderr",
     "output_type": "stream",
     "text": [
      "\n",
      "  0%|                                                                                            | 0/20 [00:00<?, ?it/s]\u001b[A"
     ]
    },
    {
     "name": "stdout",
     "output_type": "stream",
     "text": [
      "42473/42473 - 49s - 49s/epoch - 1ms/step\n"
     ]
    },
    {
     "name": "stderr",
     "output_type": "stream",
     "text": [
      "\n",
      "  5%|████▏                                                                               | 1/20 [01:04<20:28, 64.66s/it]\u001b[A"
     ]
    },
    {
     "name": "stdout",
     "output_type": "stream",
     "text": [
      "42473/42473 - 49s - 49s/epoch - 1ms/step\n"
     ]
    },
    {
     "name": "stderr",
     "output_type": "stream",
     "text": [
      "\n",
      " 10%|████████▍                                                                           | 2/20 [02:08<19:18, 64.37s/it]\u001b[A"
     ]
    },
    {
     "name": "stdout",
     "output_type": "stream",
     "text": [
      "42473/42473 - 50s - 50s/epoch - 1ms/step\n"
     ]
    },
    {
     "name": "stderr",
     "output_type": "stream",
     "text": [
      "\n",
      " 15%|████████████▌                                                                       | 3/20 [03:13<18:19, 64.66s/it]\u001b[A"
     ]
    },
    {
     "name": "stdout",
     "output_type": "stream",
     "text": [
      "42473/42473 - 49s - 49s/epoch - 1ms/step\n"
     ]
    },
    {
     "name": "stderr",
     "output_type": "stream",
     "text": [
      "\n",
      " 20%|████████████████▊                                                                   | 4/20 [04:18<17:11, 64.50s/it]\u001b[A"
     ]
    },
    {
     "name": "stdout",
     "output_type": "stream",
     "text": [
      "42473/42473 - 49s - 49s/epoch - 1ms/step\n"
     ]
    },
    {
     "name": "stderr",
     "output_type": "stream",
     "text": [
      "\n",
      " 25%|█████████████████████                                                               | 5/20 [05:22<16:07, 64.49s/it]\u001b[A"
     ]
    },
    {
     "name": "stdout",
     "output_type": "stream",
     "text": [
      "42473/42473 - 49s - 49s/epoch - 1ms/step\n"
     ]
    },
    {
     "name": "stderr",
     "output_type": "stream",
     "text": [
      "\n",
      " 30%|█████████████████████████▏                                                          | 6/20 [06:27<15:02, 64.50s/it]\u001b[A"
     ]
    },
    {
     "name": "stdout",
     "output_type": "stream",
     "text": [
      "42473/42473 - 49s - 49s/epoch - 1ms/step\n"
     ]
    },
    {
     "name": "stderr",
     "output_type": "stream",
     "text": [
      "\n",
      " 35%|█████████████████████████████▍                                                      | 7/20 [07:31<13:57, 64.40s/it]\u001b[A"
     ]
    },
    {
     "name": "stdout",
     "output_type": "stream",
     "text": [
      "42473/42473 - 49s - 49s/epoch - 1ms/step\n"
     ]
    },
    {
     "name": "stderr",
     "output_type": "stream",
     "text": [
      "\n",
      " 40%|█████████████████████████████████▌                                                  | 8/20 [08:35<12:52, 64.35s/it]\u001b[A"
     ]
    },
    {
     "name": "stdout",
     "output_type": "stream",
     "text": [
      "42473/42473 - 49s - 49s/epoch - 1ms/step\n"
     ]
    },
    {
     "name": "stderr",
     "output_type": "stream",
     "text": [
      "\n",
      " 45%|█████████████████████████████████████▊                                              | 9/20 [09:39<11:47, 64.30s/it]\u001b[A"
     ]
    },
    {
     "name": "stdout",
     "output_type": "stream",
     "text": [
      "42473/42473 - 49s - 49s/epoch - 1ms/step\n"
     ]
    },
    {
     "name": "stderr",
     "output_type": "stream",
     "text": [
      "\n",
      " 50%|█████████████████████████████████████████▌                                         | 10/20 [10:43<10:42, 64.25s/it]\u001b[A"
     ]
    },
    {
     "name": "stdout",
     "output_type": "stream",
     "text": [
      "42473/42473 - 49s - 49s/epoch - 1ms/step\n"
     ]
    },
    {
     "name": "stderr",
     "output_type": "stream",
     "text": [
      "\n",
      " 55%|█████████████████████████████████████████████▋                                     | 11/20 [11:47<09:37, 64.17s/it]\u001b[A"
     ]
    },
    {
     "name": "stdout",
     "output_type": "stream",
     "text": [
      "42473/42473 - 49s - 49s/epoch - 1ms/step\n"
     ]
    },
    {
     "name": "stderr",
     "output_type": "stream",
     "text": [
      "\n",
      " 60%|█████████████████████████████████████████████████▊                                 | 12/20 [12:52<08:34, 64.29s/it]\u001b[A"
     ]
    },
    {
     "name": "stdout",
     "output_type": "stream",
     "text": [
      "42473/42473 - 49s - 49s/epoch - 1ms/step\n"
     ]
    },
    {
     "name": "stderr",
     "output_type": "stream",
     "text": [
      "\n",
      " 65%|█████████████████████████████████████████████████████▉                             | 13/20 [13:56<07:29, 64.25s/it]\u001b[A"
     ]
    },
    {
     "name": "stdout",
     "output_type": "stream",
     "text": [
      "42473/42473 - 49s - 49s/epoch - 1ms/step\n"
     ]
    },
    {
     "name": "stderr",
     "output_type": "stream",
     "text": [
      "\n",
      " 70%|██████████████████████████████████████████████████████████                         | 14/20 [15:01<06:26, 64.36s/it]\u001b[A"
     ]
    },
    {
     "name": "stdout",
     "output_type": "stream",
     "text": [
      "42473/42473 - 49s - 49s/epoch - 1ms/step\n"
     ]
    },
    {
     "name": "stderr",
     "output_type": "stream",
     "text": [
      "\n",
      " 75%|██████████████████████████████████████████████████████████████▎                    | 15/20 [16:05<05:21, 64.32s/it]\u001b[A"
     ]
    },
    {
     "name": "stdout",
     "output_type": "stream",
     "text": [
      "42473/42473 - 49s - 49s/epoch - 1ms/step\n"
     ]
    },
    {
     "name": "stderr",
     "output_type": "stream",
     "text": [
      "\n",
      " 80%|██████████████████████████████████████████████████████████████████▍                | 16/20 [17:09<04:17, 64.35s/it]\u001b[A"
     ]
    },
    {
     "name": "stdout",
     "output_type": "stream",
     "text": [
      "42473/42473 - 49s - 49s/epoch - 1ms/step\n"
     ]
    },
    {
     "name": "stderr",
     "output_type": "stream",
     "text": [
      "\n",
      " 85%|██████████████████████████████████████████████████████████████████████▌            | 17/20 [18:14<03:12, 64.32s/it]\u001b[A"
     ]
    },
    {
     "name": "stdout",
     "output_type": "stream",
     "text": [
      "42473/42473 - 49s - 49s/epoch - 1ms/step\n"
     ]
    },
    {
     "name": "stderr",
     "output_type": "stream",
     "text": [
      "\n",
      " 90%|██████████████████████████████████████████████████████████████████████████▋        | 18/20 [19:18<02:08, 64.34s/it]\u001b[A"
     ]
    },
    {
     "name": "stdout",
     "output_type": "stream",
     "text": [
      "42473/42473 - 49s - 49s/epoch - 1ms/step\n"
     ]
    },
    {
     "name": "stderr",
     "output_type": "stream",
     "text": [
      "\n",
      " 95%|██████████████████████████████████████████████████████████████████████████████▊    | 19/20 [20:22<01:04, 64.20s/it]\u001b[A"
     ]
    },
    {
     "name": "stdout",
     "output_type": "stream",
     "text": [
      "42473/42473 - 49s - 49s/epoch - 1ms/step\n"
     ]
    },
    {
     "name": "stderr",
     "output_type": "stream",
     "text": [
      "\n",
      "100%|███████████████████████████████████████████████████████████████████████████████████| 20/20 [21:26<00:00, 64.34s/it]\u001b[A\n"
     ]
    }
   ],
   "source": [
    "cd_val_pred = np.stack([model.predict(x_val, verbose=2) for _ in tqdm(range(20))])"
   ]
  },
  {
   "cell_type": "code",
   "execution_count": 44,
   "id": "6ce465cf",
   "metadata": {},
   "outputs": [],
   "source": [
    "cd_pred_val = np.mean(cd_val_pred, axis=0)"
   ]
  },
  {
   "cell_type": "code",
   "execution_count": 45,
   "id": "225f4b30",
   "metadata": {},
   "outputs": [],
   "source": [
    "val_positives = cd_pred_val[:,1]\n",
    "test_positives = cd_pred_test[:,1]"
   ]
  },
  {
   "cell_type": "code",
   "execution_count": 58,
   "id": "9a8ae082",
   "metadata": {},
   "outputs": [
    {
     "name": "stdout",
     "output_type": "stream",
     "text": [
      "0.7321942199698671\n",
      "0.7503859\n",
      "Best PRC threshold: 0.7503859\n"
     ]
    }
   ],
   "source": [
    "opt_thresh_prc = find_prc_threshold(y_val, val_positives)\n",
    "\n",
    "print('Best PRC threshold:', opt_thresh_prc)"
   ]
  },
  {
   "cell_type": "code",
   "execution_count": 48,
   "id": "0de0775f",
   "metadata": {},
   "outputs": [
    {
     "name": "stdout",
     "output_type": "stream",
     "text": [
      "              precision    recall  f1-score   support\n",
      "\n",
      "         0.0     0.9773    0.9996    0.9884   3496914\n",
      "         1.0     0.8646    0.0897    0.1625     89048\n",
      "\n",
      "    accuracy                         0.9770   3585962\n",
      "   macro avg     0.9210    0.5447    0.5754   3585962\n",
      "weighted avg     0.9745    0.9770    0.9679   3585962\n",
      "\n"
     ]
    }
   ],
   "source": [
    "cd_prc_test = np.where(test_positives > opt_thresh_prc, 1, 0)\n",
    "print(classification_report(y_test, cd_prc_test, digits=4))"
   ]
  },
  {
   "cell_type": "code",
   "execution_count": 50,
   "id": "dbd93b15",
   "metadata": {},
   "outputs": [
    {
     "data": {
      "image/png": "[encoded data removed]",
      "text/plain": [
       "<Figure size 640x480 with 1 Axes>"
      ]
     },
     "metadata": {},
     "output_type": "display_data"
    }
   ],
   "source": [
    "prc_display = PrecisionRecallDisplay.from_predictions(y_val, val_positives, name=str(DIRECTION+' concrete dropout (blocked)'), plot_chance_level=True)"
   ]
  },
  {
   "cell_type": "markdown",
   "id": "f2c6e892",
   "metadata": {},
   "source": [
    "# MC Dropout"
   ]
  },
  {
   "cell_type": "code",
   "execution_count": null,
   "id": "2f878f15",
   "metadata": {},
   "outputs": [],
   "source": [
    "mc_pred = np.load(MCD_MODEL_PATH)\n",
    "print(mc_pred.shape)"
   ]
  },
  {
   "cell_type": "code",
   "execution_count": null,
   "id": "b63482ea",
   "metadata": {},
   "outputs": [],
   "source": [
    "y_pred_mcd = np.mean(mc_pred, axis=0)\n",
    "print(y_pred_mcd.shape)"
   ]
  },
  {
   "cell_type": "code",
   "execution_count": null,
   "id": "61589e6d",
   "metadata": {},
   "outputs": [],
   "source": [
    "mcd_pos = y_pred_mcd[:, 1]"
   ]
  },
  {
   "cell_type": "code",
   "execution_count": null,
   "id": "e32a5657",
   "metadata": {},
   "outputs": [],
   "source": [
    "thresh = find_prc_threshold(y_test, mcd_pos)"
   ]
  },
  {
   "cell_type": "code",
   "execution_count": null,
   "id": "d643ae11",
   "metadata": {},
   "outputs": [],
   "source": [
    "print('MCD Best Threshold:', thresh)"
   ]
  },
  {
   "cell_type": "code",
   "execution_count": null,
   "id": "661b5552",
   "metadata": {},
   "outputs": [],
   "source": [
    "y_pred = np.where(mcd_pos > thresh, 1, 0)\n",
    "print(classification_report(y_test, y_pred, digits=4))"
   ]
  },
  {
   "cell_type": "code",
   "execution_count": null,
   "id": "cd6a72eb",
   "metadata": {},
   "outputs": [],
   "source": [
    "prc_display = PrecisionRecallDisplay.from_predictions(y_test, mcd_pos, name=str(DIRECTION+' Monte Carlo dropout (blocked)'), plot_chance_level=True)"
   ]
  },
  {
   "cell_type": "markdown",
   "id": "b040af30",
   "metadata": {},
   "source": [
    "# Inbound Data"
   ]
  },
  {
   "cell_type": "code",
   "execution_count": null,
   "id": "ff5eebcc",
   "metadata": {
    "scrolled": false
   },
   "outputs": [],
   "source": [
    "# load data\n",
    "_, _, _, _, x_test, y_test = load_data('inbound')"
   ]
  },
  {
   "cell_type": "code",
   "execution_count": null,
   "id": "bded2455",
   "metadata": {},
   "outputs": [],
   "source": [
    "imcd_path = '/smallwork/alexander.huang/mcdropout/inbound/49120851/predictions.npy'\n",
    "icd_path = '/smallwork/alexander.huang/concrete_dropout/inbound/49164662/predictions.npy'\n",
    "\n",
    "# Load saved predictions\n",
    "imcd_pred = np.load(imcd_path)\n",
    "icd_pred = np.load(icd_path)"
   ]
  },
  {
   "cell_type": "code",
   "execution_count": null,
   "id": "339c2c4c",
   "metadata": {},
   "outputs": [],
   "source": [
    "# predictions\n",
    "imcd_yhat = np.mean(imcd_pred, axis=0)\n",
    "icd_yhat = np.mean(icd_pred, axis=0)\n",
    "\n",
    "print(imcd_yhat.shape)\n",
    "print(icd_yhat.shape)"
   ]
  },
  {
   "cell_type": "code",
   "execution_count": null,
   "id": "5581603d",
   "metadata": {},
   "outputs": [],
   "source": [
    "imcd_positives = imcd_yhat[:,1]\n",
    "icd_positives = icd_yhat[:,1]"
   ]
  },
  {
   "cell_type": "code",
   "execution_count": null,
   "id": "35601e77",
   "metadata": {},
   "outputs": [],
   "source": [
    "precision, recall, prc_thresholds = precision_recall_curve(y_test, imcd_positives)\n",
    "f1score_matrix = (2*precision*recall)/(precision+recall)\n",
    "prc_index = np.argmax(f1score_matrix)\n",
    "mcd_thresh = prc_thresholds[prc_index]\n",
    "\n",
    "print('Best PRC threshold:', mcd_thresh)"
   ]
  },
  {
   "cell_type": "code",
   "execution_count": null,
   "id": "2e6ee217",
   "metadata": {
    "scrolled": true
   },
   "outputs": [],
   "source": [
    "y_pred = np.where(imcd_positives > mcd_thresh, 1, 0)\n",
    "print(classification_report(y_test, y_pred, digits=4))"
   ]
  },
  {
   "cell_type": "code",
   "execution_count": null,
   "id": "45ce5158",
   "metadata": {},
   "outputs": [],
   "source": [
    "prc_display = PrecisionRecallDisplay.from_predictions(y_test, imcd_positives, name=str('inbound Monte Carlo dropout (blocked)'), plot_chance_level=True)"
   ]
  },
  {
   "cell_type": "code",
   "execution_count": null,
   "id": "98b53bc8",
   "metadata": {
    "scrolled": true
   },
   "outputs": [],
   "source": [
    "precision, recall, prc_thresholds = precision_recall_curve(y_test, icd_positives)\n",
    "f1score_matrix = (2*precision*recall)/(precision+recall)\n",
    "prc_index = np.argmax(f1score_matrix)\n",
    "cd_thresh = prc_thresholds[prc_index]\n",
    "\n",
    "print('Best PRC threshold:', cd_thresh)"
   ]
  },
  {
   "cell_type": "code",
   "execution_count": null,
   "id": "b2a202b2",
   "metadata": {},
   "outputs": [],
   "source": [
    "y_pred = np.where(imcd_positives > cd_thresh, 1, 0)\n",
    "print(classification_report(y_test, y_pred, digits=4))"
   ]
  },
  {
   "cell_type": "code",
   "execution_count": null,
   "id": "34bcfcf0",
   "metadata": {},
   "outputs": [],
   "source": [
    "prc_display = PrecisionRecallDisplay.from_predictions(y_test, icd_positives, name=str('inbound concrete dropout (blocked)'), plot_chance_level=True)"
   ]
  },
  {
   "cell_type": "code",
   "execution_count": null,
   "id": "35adb613",
   "metadata": {},
   "outputs": [],
   "source": [
    "# loading model and data\n",
    "DNN_MODEL_PATH = '/smallwork/alexander.huang/models/2023-10-16/49112464_inbound_dnn_run_2023-10-16 12:58:36.901380/checkpoint100-0.14.h5'\n",
    "DNN_PARAMS_PATH = '/smallwork/alexander.huang/models/2023-10-16/49112464_inbound_dnn_run_2023-10-16 12:58:36.901380/params.yml'\n",
    "\n",
    "# load dnn model params\n",
    "with open(DNN_PARAMS_PATH) as file:\n",
    "    params = yaml.load(file, Loader=yaml.loader.FullLoader)\n",
    "\n",
    "# init dnn model with params\n",
    "model = M.get_dnn_model(params)\n",
    "\n",
    "# load dnn model weights\n",
    "model.load_weights(DNN_MODEL_PATH)\n",
    "\n",
    "print(model.summary())"
   ]
  },
  {
   "cell_type": "code",
   "execution_count": null,
   "id": "98e4cdec",
   "metadata": {},
   "outputs": [],
   "source": [
    "y_proba = model.predict(x_test)"
   ]
  },
  {
   "cell_type": "code",
   "execution_count": null,
   "id": "d30aeba6",
   "metadata": {},
   "outputs": [],
   "source": [
    "positives = y_proba[:, 1]\n",
    "print(positives.shape)\n",
    "print(positives)"
   ]
  },
  {
   "cell_type": "code",
   "execution_count": null,
   "id": "d1439a28",
   "metadata": {},
   "outputs": [],
   "source": [
    "opt_thresh_prc = find_prc_threshold(y_test, positives)\n",
    "\n",
    "print('Best PRC threshold:', opt_thresh_prc)"
   ]
  },
  {
   "cell_type": "code",
   "execution_count": null,
   "id": "c9f8bf0f",
   "metadata": {},
   "outputs": [],
   "source": [
    "prc_display = PrecisionRecallDisplay.from_predictions(y_test, \n",
    "                                                      positives, \n",
    "                                                      name=str('inbound dnn (blocked)'), \n",
    "                                                      plot_chance_level=True)"
   ]
  },
  {
   "cell_type": "code",
   "execution_count": null,
   "id": "8c6d6159",
   "metadata": {},
   "outputs": [],
   "source": [
    "y_pred = np.where(positives > opt_thresh_prc, 1, 0)\n",
    "print(classification_report(y_test, y_pred, digits=4))"
   ]
  },
  {
   "cell_type": "code",
   "execution_count": null,
   "id": "4b413456",
   "metadata": {},
   "outputs": [],
   "source": []
  }
 ],
 "metadata": {
  "kernelspec": {
   "display_name": "tf",
   "language": "python",
   "name": "tf"
  },
  "language_info": {
   "codemirror_mode": {
    "name": "ipython",
    "version": 3
   },
   "file_extension": ".py",
   "mimetype": "text/x-python",
   "name": "python",
   "nbconvert_exporter": "python",
   "pygments_lexer": "ipython3",
   "version": "3.11.4"
  }
 },
 "nbformat": 4,
 "nbformat_minor": 5
}
