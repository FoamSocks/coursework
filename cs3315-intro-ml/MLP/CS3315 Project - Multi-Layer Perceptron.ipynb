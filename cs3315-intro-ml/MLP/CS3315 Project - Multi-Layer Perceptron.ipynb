{
 "cells": [
  {
   "cell_type": "markdown",
   "metadata": {},
   "source": [
    "# CS3315 Project: MLP with Keras"
   ]
  },
  {
   "cell_type": "code",
   "execution_count": 1,
   "metadata": {},
   "outputs": [],
   "source": [
    "import numpy as np\n",
    "import pandas as pd\n",
    "from sklearn.linear_model import Perceptron"
   ]
  },
  {
   "cell_type": "code",
   "execution_count": 2,
   "metadata": {
    "scrolled": false
   },
   "outputs": [
    {
     "name": "stdout",
     "output_type": "stream",
     "text": [
      "<class 'pandas.core.frame.DataFrame'>\n",
      "RangeIndex: 765360 entries, 0 to 765359\n",
      "Data columns (total 16 columns):\n",
      " #   Column         Non-Null Count   Dtype  \n",
      "---  ------         --------------   -----  \n",
      " 0   avg_ipt        765360 non-null  float64\n",
      " 1   bytes_in       765360 non-null  int64  \n",
      " 2   bytes_out      765360 non-null  int64  \n",
      " 3   dest_ip        765360 non-null  int64  \n",
      " 4   dest_port      740863 non-null  float64\n",
      " 5   entropy        765360 non-null  float64\n",
      " 6   num_pkts_out   765360 non-null  int64  \n",
      " 7   num_pkts_in    765360 non-null  int64  \n",
      " 8   proto          765360 non-null  int64  \n",
      " 9   src_ip         765360 non-null  int64  \n",
      " 10  src_port       740863 non-null  float64\n",
      " 11  time_end       765360 non-null  int64  \n",
      " 12  time_start     765360 non-null  int64  \n",
      " 13  total_entropy  765360 non-null  float64\n",
      " 14  label          765360 non-null  object \n",
      " 15  duration       765360 non-null  float64\n",
      "dtypes: float64(6), int64(9), object(1)\n",
      "memory usage: 93.4+ MB\n"
     ]
    },
    {
     "data": {
      "text/html": [
       "<div>\n",
       "<style scoped>\n",
       "    .dataframe tbody tr th:only-of-type {\n",
       "        vertical-align: middle;\n",
       "    }\n",
       "\n",
       "    .dataframe tbody tr th {\n",
       "        vertical-align: top;\n",
       "    }\n",
       "\n",
       "    .dataframe thead th {\n",
       "        text-align: right;\n",
       "    }\n",
       "</style>\n",
       "<table border=\"1\" class=\"dataframe\">\n",
       "  <thead>\n",
       "    <tr style=\"text-align: right;\">\n",
       "      <th></th>\n",
       "      <th>avg_ipt</th>\n",
       "      <th>bytes_in</th>\n",
       "      <th>bytes_out</th>\n",
       "      <th>dest_ip</th>\n",
       "      <th>dest_port</th>\n",
       "      <th>entropy</th>\n",
       "      <th>num_pkts_out</th>\n",
       "      <th>num_pkts_in</th>\n",
       "      <th>proto</th>\n",
       "      <th>src_ip</th>\n",
       "      <th>src_port</th>\n",
       "      <th>time_end</th>\n",
       "      <th>time_start</th>\n",
       "      <th>total_entropy</th>\n",
       "      <th>label</th>\n",
       "      <th>duration</th>\n",
       "    </tr>\n",
       "  </thead>\n",
       "  <tbody>\n",
       "    <tr>\n",
       "      <th>0</th>\n",
       "      <td>7.5</td>\n",
       "      <td>342</td>\n",
       "      <td>3679</td>\n",
       "      <td>786</td>\n",
       "      <td>9200.0</td>\n",
       "      <td>5.436687</td>\n",
       "      <td>2</td>\n",
       "      <td>2</td>\n",
       "      <td>6</td>\n",
       "      <td>786</td>\n",
       "      <td>57392.0</td>\n",
       "      <td>1592533725648144</td>\n",
       "      <td>1592533725632946</td>\n",
       "      <td>21860.918</td>\n",
       "      <td>benign</td>\n",
       "      <td>0.015198</td>\n",
       "    </tr>\n",
       "    <tr>\n",
       "      <th>1</th>\n",
       "      <td>0.0</td>\n",
       "      <td>0</td>\n",
       "      <td>0</td>\n",
       "      <td>786</td>\n",
       "      <td>55972.0</td>\n",
       "      <td>0.000000</td>\n",
       "      <td>1</td>\n",
       "      <td>1</td>\n",
       "      <td>6</td>\n",
       "      <td>49453</td>\n",
       "      <td>49493.0</td>\n",
       "      <td>1592533744644904</td>\n",
       "      <td>1592533744644904</td>\n",
       "      <td>0.000</td>\n",
       "      <td>outlier</td>\n",
       "      <td>0.000000</td>\n",
       "    </tr>\n",
       "  </tbody>\n",
       "</table>\n",
       "</div>"
      ],
      "text/plain": [
       "   avg_ipt  bytes_in  bytes_out  dest_ip  dest_port   entropy  num_pkts_out  \\\n",
       "0      7.5       342       3679      786     9200.0  5.436687             2   \n",
       "1      0.0         0          0      786    55972.0  0.000000             1   \n",
       "\n",
       "   num_pkts_in  proto  src_ip  src_port          time_end        time_start  \\\n",
       "0            2      6     786   57392.0  1592533725648144  1592533725632946   \n",
       "1            1      6   49453   49493.0  1592533744644904  1592533744644904   \n",
       "\n",
       "   total_entropy    label  duration  \n",
       "0      21860.918   benign  0.015198  \n",
       "1          0.000  outlier  0.000000  "
      ]
     },
     "execution_count": 2,
     "metadata": {},
     "output_type": "execute_result"
    }
   ],
   "source": [
    "# import data\n",
    "filename = 'data/2020.06.19.csv'\n",
    "df = pd.read_csv(filename)\n",
    "\n",
    "# sample small subset\n",
    "# df = df.sample(500000, random_state=78)\n",
    "df.info()\n",
    "df.head(2)"
   ]
  },
  {
   "cell_type": "code",
   "execution_count": 3,
   "metadata": {
    "scrolled": true
   },
   "outputs": [
    {
     "data": {
      "text/plain": [
       "avg_ipt          0\n",
       "bytes_in         0\n",
       "bytes_out        0\n",
       "dest_ip          0\n",
       "dest_port        0\n",
       "entropy          0\n",
       "num_pkts_out     0\n",
       "num_pkts_in      0\n",
       "proto            0\n",
       "src_ip           0\n",
       "src_port         0\n",
       "time_end         0\n",
       "time_start       0\n",
       "total_entropy    0\n",
       "label            0\n",
       "duration         0\n",
       "dtype: int64"
      ]
     },
     "execution_count": 3,
     "metadata": {},
     "output_type": "execute_result"
    }
   ],
   "source": [
    "# clean data\n",
    "df.dropna(inplace=True)\n",
    "df.isna().sum()\n",
    "\n",
    "# need to clean for features that are 0 and don't make sense (bytes = 0?)"
   ]
  },
  {
   "cell_type": "code",
   "execution_count": 4,
   "metadata": {},
   "outputs": [
    {
     "name": "stdout",
     "output_type": "stream",
     "text": [
      "label values: ['benign' 'outlier' 'malicious']\n",
      "benign 0\n",
      "outlier 1\n",
      "malicious 2\n"
     ]
    }
   ],
   "source": [
    "print('label values:', df['label'].unique())\n",
    "\n",
    "def ordinal_encoder(category):\n",
    "    dict = {'benign':0, 'outlier':1, 'malicious':2}\n",
    "    return dict[category]\n",
    "\n",
    "print('benign', ordinal_encoder('benign'))\n",
    "print('outlier', ordinal_encoder('outlier'))\n",
    "print('malicious', ordinal_encoder('malicious'))\n",
    "df['label'] = df['label'].apply(ordinal_encoder)"
   ]
  },
  {
   "cell_type": "code",
   "execution_count": 5,
   "metadata": {},
   "outputs": [],
   "source": [
    "features = ['avg_ipt', \n",
    "            'bytes_in', \n",
    "            'bytes_out', \n",
    "            'dest_ip', \n",
    "            'dest_port', \n",
    "            'entropy', \n",
    "            'num_pkts_in',\n",
    "            'num_pkts_out', \n",
    "            'proto', \n",
    "            'src_ip', \n",
    "            'src_port', \n",
    "            'time_end', \n",
    "            'time_start', \n",
    "            'total_entropy', \n",
    "            'duration']\n",
    "\n",
    "X = df.loc[:, features]\n",
    "y = df.loc[:,'label']"
   ]
  },
  {
   "cell_type": "code",
   "execution_count": 6,
   "metadata": {},
   "outputs": [],
   "source": [
    "# Scale features\n",
    "from sklearn.pipeline import Pipeline\n",
    "from sklearn.preprocessing import StandardScaler\n",
    "# try PolyScaler?\n",
    "\n",
    "scaler = StandardScaler()\n",
    "scaler.fit(X)\n",
    "X = scaler.transform(X)"
   ]
  },
  {
   "cell_type": "code",
   "execution_count": 7,
   "metadata": {},
   "outputs": [
    {
     "name": "stdout",
     "output_type": "stream",
     "text": [
      "Training set:  X:  (592690, 15) y:  (592690,) Validation set:  X:  (148173, 15) printy:  (148173,)\n",
      "[-0.05565213 -0.24851657 -0.4012423  -0.13191521 -0.1413975  -1.3449873\n",
      " -0.27015576 -0.2850236  -0.40847424 -0.50115682  0.54239382  0.33245924\n",
      "  0.33237538 -0.20292837 -0.33436206]\n",
      "0\n"
     ]
    }
   ],
   "source": [
    "# test/train split\n",
    "\n",
    "from sklearn.model_selection import train_test_split\n",
    "\n",
    "# 80/20 training/validation split\n",
    "X_train, X_val, y_train, y_val = train_test_split(X,y, train_size=.8, test_size=.2, random_state=42)\n",
    "\n",
    "y_train = y_train.to_numpy()\n",
    "y_val = y_val.to_numpy()\n",
    "\n",
    "# should print number of shape: (num features, num entries)\n",
    "print('Training set: ', 'X: ', X_train.shape, 'y: ', y_train.shape, 'Validation set: ', 'X: ', X_val.shape, 'printy: ', y_val.shape)\n",
    "\n",
    "print(X_train[1])\n",
    "print(y_train[1])\n"
   ]
  },
  {
   "cell_type": "code",
   "execution_count": 8,
   "metadata": {},
   "outputs": [
    {
     "name": "stderr",
     "output_type": "stream",
     "text": [
      "2022-12-01 20:11:34.181032: I tensorflow/core/platform/cpu_feature_guard.cc:193] This TensorFlow binary is optimized with oneAPI Deep Neural Network Library (oneDNN) to use the following CPU instructions in performance-critical operations:  AVX2 FMA\n",
      "To enable them in other operations, rebuild TensorFlow with the appropriate compiler flags.\n"
     ]
    },
    {
     "name": "stdout",
     "output_type": "stream",
     "text": [
      "2.12.0-dev20221112\n",
      "2.12.0\n"
     ]
    }
   ],
   "source": [
    "# import tensorflow and keras\n",
    "\n",
    "import tensorflow as tf\n",
    "from tensorflow import keras\n",
    "print(tf.__version__)\n",
    "print(keras.__version__)\n",
    "\n",
    "import os"
   ]
  },
  {
   "cell_type": "code",
   "execution_count": 9,
   "metadata": {
    "scrolled": false
   },
   "outputs": [
    {
     "name": "stdout",
     "output_type": "stream",
     "text": [
      "15\n",
      "Model: \"sequential\"\n",
      "_________________________________________________________________\n",
      " Layer (type)                Output Shape              Param #   \n",
      "=================================================================\n",
      " dense (Dense)               (None, 300)               4800      \n",
      "                                                                 \n",
      " dense_1 (Dense)             (None, 200)               60200     \n",
      "                                                                 \n",
      " dense_2 (Dense)             (None, 3)                 603       \n",
      "                                                                 \n",
      "=================================================================\n",
      "Total params: 65,603\n",
      "Trainable params: 65,603\n",
      "Non-trainable params: 0\n",
      "_________________________________________________________________\n"
     ]
    }
   ],
   "source": [
    "# keras sequential API model (pg 299)\n",
    "\n",
    "model = keras.models.Sequential([\n",
    "    keras.layers.InputLayer(input_shape=(X_train.shape[1])),\n",
    "    keras.layers.Dense(300, activation=\"relu\"),\n",
    "    keras.layers.Dense(200, activation=\"relu\"),\n",
    "    keras.layers.Dense(3, activation=\"softmax\")\n",
    "])\n",
    "print(X_train.shape[1])\n",
    "\n",
    "model.summary()"
   ]
  },
  {
   "cell_type": "code",
   "execution_count": 10,
   "metadata": {},
   "outputs": [],
   "source": [
    "# TODO: adjust kernel initializer or bias initializer? \n",
    "# https://keras.io/initializers/"
   ]
  },
  {
   "cell_type": "code",
   "execution_count": 11,
   "metadata": {},
   "outputs": [],
   "source": [
    "# compile the model\n",
    "model.compile(loss=\"sparse_categorical_crossentropy\",\n",
    "             optimizer = \"adam\",\n",
    "             metrics=\"accuracy\")"
   ]
  },
  {
   "cell_type": "code",
   "execution_count": 12,
   "metadata": {
    "scrolled": false
   },
   "outputs": [
    {
     "name": "stdout",
     "output_type": "stream",
     "text": [
      "(592690, 15)\n",
      "Epoch 1/30\n",
      "18522/18522 [==============================] - 36s 2ms/step - loss: 0.1993 - accuracy: 0.9124 - val_loss: 0.1757 - val_accuracy: 0.9210\n",
      "Epoch 2/30\n",
      "18522/18522 [==============================] - 34s 2ms/step - loss: 0.1467 - accuracy: 0.9387 - val_loss: 0.1395 - val_accuracy: 0.9430\n",
      "Epoch 3/30\n",
      "18522/18522 [==============================] - 34s 2ms/step - loss: 0.1299 - accuracy: 0.9459 - val_loss: 0.1327 - val_accuracy: 0.9474\n",
      "Epoch 4/30\n",
      "18522/18522 [==============================] - 34s 2ms/step - loss: 0.1217 - accuracy: 0.9491 - val_loss: 0.1217 - val_accuracy: 0.9503\n",
      "Epoch 5/30\n",
      "18522/18522 [==============================] - 34s 2ms/step - loss: 0.1157 - accuracy: 0.9510 - val_loss: 0.1102 - val_accuracy: 0.9567\n",
      "Epoch 6/30\n",
      "18522/18522 [==============================] - 33s 2ms/step - loss: 0.1092 - accuracy: 0.9538 - val_loss: 0.1061 - val_accuracy: 0.9577\n",
      "Epoch 7/30\n",
      "18522/18522 [==============================] - 33s 2ms/step - loss: 0.1029 - accuracy: 0.9564 - val_loss: 0.1034 - val_accuracy: 0.9555\n",
      "Epoch 8/30\n",
      "18522/18522 [==============================] - 35s 2ms/step - loss: 0.0987 - accuracy: 0.9589 - val_loss: 0.1014 - val_accuracy: 0.9586\n",
      "Epoch 9/30\n",
      "18522/18522 [==============================] - 37s 2ms/step - loss: 0.0937 - accuracy: 0.9616 - val_loss: 0.0922 - val_accuracy: 0.9659\n",
      "Epoch 10/30\n",
      "18522/18522 [==============================] - 35s 2ms/step - loss: 0.0891 - accuracy: 0.9646 - val_loss: 0.0863 - val_accuracy: 0.9671\n",
      "Epoch 11/30\n",
      "18522/18522 [==============================] - 34s 2ms/step - loss: 0.0852 - accuracy: 0.9663 - val_loss: 0.0853 - val_accuracy: 0.9678\n",
      "Epoch 12/30\n",
      "18522/18522 [==============================] - 34s 2ms/step - loss: 0.0832 - accuracy: 0.9676 - val_loss: 0.0945 - val_accuracy: 0.9680\n",
      "Epoch 13/30\n",
      "18522/18522 [==============================] - 34s 2ms/step - loss: 0.0806 - accuracy: 0.9687 - val_loss: 0.0806 - val_accuracy: 0.9725\n",
      "Epoch 14/30\n",
      "18522/18522 [==============================] - 34s 2ms/step - loss: 0.0772 - accuracy: 0.9704 - val_loss: 0.0936 - val_accuracy: 0.9713\n",
      "Epoch 15/30\n",
      "18522/18522 [==============================] - 34s 2ms/step - loss: 0.0810 - accuracy: 0.9712 - val_loss: 0.0888 - val_accuracy: 0.9674\n",
      "Epoch 16/30\n",
      "18522/18522 [==============================] - 34s 2ms/step - loss: 0.0744 - accuracy: 0.9721 - val_loss: 0.0817 - val_accuracy: 0.9737\n",
      "Epoch 17/30\n",
      "18522/18522 [==============================] - 34s 2ms/step - loss: 0.0710 - accuracy: 0.9731 - val_loss: 0.0719 - val_accuracy: 0.9735\n",
      "Epoch 18/30\n",
      "18522/18522 [==============================] - 34s 2ms/step - loss: 0.0702 - accuracy: 0.9739 - val_loss: 0.0779 - val_accuracy: 0.9714\n",
      "Epoch 19/30\n",
      "18522/18522 [==============================] - 34s 2ms/step - loss: 0.0685 - accuracy: 0.9740 - val_loss: 0.0773 - val_accuracy: 0.9739\n",
      "Epoch 20/30\n",
      "18522/18522 [==============================] - 34s 2ms/step - loss: 0.0664 - accuracy: 0.9750 - val_loss: 0.0759 - val_accuracy: 0.9772\n",
      "Epoch 21/30\n",
      "18522/18522 [==============================] - 34s 2ms/step - loss: 0.0666 - accuracy: 0.9752 - val_loss: 0.0639 - val_accuracy: 0.9780\n",
      "Epoch 22/30\n",
      "18522/18522 [==============================] - 34s 2ms/step - loss: 0.0646 - accuracy: 0.9757 - val_loss: 0.0768 - val_accuracy: 0.9740\n",
      "Epoch 23/30\n",
      "18522/18522 [==============================] - 34s 2ms/step - loss: 0.0648 - accuracy: 0.9760 - val_loss: 0.0705 - val_accuracy: 0.9755\n",
      "Epoch 24/30\n",
      "18522/18522 [==============================] - 34s 2ms/step - loss: 0.0641 - accuracy: 0.9765 - val_loss: 0.0747 - val_accuracy: 0.9762\n",
      "Epoch 25/30\n",
      "18522/18522 [==============================] - 34s 2ms/step - loss: 0.0619 - accuracy: 0.9770 - val_loss: 0.0667 - val_accuracy: 0.9759\n",
      "Epoch 26/30\n",
      "18522/18522 [==============================] - 34s 2ms/step - loss: 0.0616 - accuracy: 0.9771 - val_loss: 0.0653 - val_accuracy: 0.9769\n",
      "Epoch 27/30\n",
      "18522/18522 [==============================] - 33s 2ms/step - loss: 0.0607 - accuracy: 0.9774 - val_loss: 0.0644 - val_accuracy: 0.9802\n",
      "Epoch 28/30\n",
      "18522/18522 [==============================] - 34s 2ms/step - loss: 0.0595 - accuracy: 0.9778 - val_loss: 0.0767 - val_accuracy: 0.9738\n",
      "Epoch 29/30\n",
      "18522/18522 [==============================] - 34s 2ms/step - loss: 0.0593 - accuracy: 0.9781 - val_loss: 0.0696 - val_accuracy: 0.9759\n",
      "Epoch 30/30\n",
      "18522/18522 [==============================] - 34s 2ms/step - loss: 0.0581 - accuracy: 0.9786 - val_loss: 0.0632 - val_accuracy: 0.9793\n"
     ]
    }
   ],
   "source": [
    "# train the model\n",
    "num_epochs=30\n",
    "print(X_train.shape)\n",
    "history = model.fit(X_train, y_train, \n",
    "                    epochs=num_epochs,\n",
    "                    validation_data=(X_val, y_val))\n",
    "\n",
    "# loss is nan -> probably indicative of exploding gradients -- try again when we normalize/scale features"
   ]
  },
  {
   "cell_type": "code",
   "execution_count": 13,
   "metadata": {},
   "outputs": [
    {
     "data": {
      "image/png": "[encoded data removed]",
      "text/plain": [
       "<Figure size 640x480 with 1 Axes>"
      ]
     },
     "metadata": {},
     "output_type": "display_data"
    }
   ],
   "source": [
    "# plot loss vs. accuracy (HOML p. 305)\n",
    "import matplotlib.pyplot as plt\n",
    "pd.DataFrame(history.history).plot()\n",
    "plt.grid(True)\n",
    "plt.gca().set_ylim(0,1)\n",
    "plt.show()"
   ]
  },
  {
   "cell_type": "code",
   "execution_count": 14,
   "metadata": {},
   "outputs": [],
   "source": [
    "# save model\n",
    "#model.save(\"project_mlp_2_layers\")"
   ]
  },
  {
   "cell_type": "code",
   "execution_count": 15,
   "metadata": {
    "scrolled": true
   },
   "outputs": [
    {
     "name": "stdout",
     "output_type": "stream",
     "text": [
      "4631/4631 [==============================] - 4s 775us/step\n"
     ]
    }
   ],
   "source": [
    "# test predictions\n",
    "X_new = X_val\n",
    "test_pred = np.argmax(model.predict(X_new), axis=-1)\n"
   ]
  },
  {
   "cell_type": "code",
   "execution_count": 16,
   "metadata": {},
   "outputs": [
    {
     "name": "stdout",
     "output_type": "stream",
     "text": [
      "Predicted labels:\t [0 1 0 ... 2 2 1]\n",
      "Actual labels:\t\t [0 1 0 ... 2 2 1]\n",
      "              precision    recall  f1-score   support\n",
      "\n",
      "           0       1.00      1.00      1.00     75511\n",
      "           1       0.96      0.92      0.94     24572\n",
      "           2       0.96      0.98      0.97     48090\n",
      "\n",
      "    accuracy                           0.98    148173\n",
      "   macro avg       0.97      0.97      0.97    148173\n",
      "weighted avg       0.98      0.98      0.98    148173\n",
      "\n"
     ]
    }
   ],
   "source": [
    "from sklearn.metrics import *\n",
    "print(\"Predicted labels:\\t\", test_pred)\n",
    "print(\"Actual labels:\\t\\t\", y_val)\n",
    "print(classification_report(y_val, test_pred))"
   ]
  },
  {
   "cell_type": "markdown",
   "metadata": {},
   "source": [
    "## Validate Model with Data from June 2022"
   ]
  },
  {
   "cell_type": "code",
   "execution_count": 17,
   "metadata": {},
   "outputs": [
    {
     "name": "stdout",
     "output_type": "stream",
     "text": [
      "<class 'pandas.core.frame.DataFrame'>\n",
      "RangeIndex: 770853 entries, 0 to 770852\n",
      "Data columns (total 16 columns):\n",
      " #   Column         Non-Null Count   Dtype  \n",
      "---  ------         --------------   -----  \n",
      " 0   avg_ipt        770853 non-null  float64\n",
      " 1   bytes_in       770853 non-null  int64  \n",
      " 2   bytes_out      770853 non-null  int64  \n",
      " 3   dest_ip        770853 non-null  int64  \n",
      " 4   dest_port      770853 non-null  int64  \n",
      " 5   entropy        770853 non-null  float64\n",
      " 6   num_pkts_out   770853 non-null  int64  \n",
      " 7   num_pkts_in    770853 non-null  int64  \n",
      " 8   proto          770853 non-null  int64  \n",
      " 9   src_ip         770853 non-null  int64  \n",
      " 10  src_port       770853 non-null  int64  \n",
      " 11  time_end       770853 non-null  int64  \n",
      " 12  time_start     770853 non-null  int64  \n",
      " 13  total_entropy  770853 non-null  float64\n",
      " 14  label          770853 non-null  object \n",
      " 15  duration       770853 non-null  float64\n",
      "dtypes: float64(4), int64(11), object(1)\n",
      "memory usage: 94.1+ MB\n"
     ]
    },
    {
     "data": {
      "text/html": [
       "<div>\n",
       "<style scoped>\n",
       "    .dataframe tbody tr th:only-of-type {\n",
       "        vertical-align: middle;\n",
       "    }\n",
       "\n",
       "    .dataframe tbody tr th {\n",
       "        vertical-align: top;\n",
       "    }\n",
       "\n",
       "    .dataframe thead th {\n",
       "        text-align: right;\n",
       "    }\n",
       "</style>\n",
       "<table border=\"1\" class=\"dataframe\">\n",
       "  <thead>\n",
       "    <tr style=\"text-align: right;\">\n",
       "      <th></th>\n",
       "      <th>avg_ipt</th>\n",
       "      <th>bytes_in</th>\n",
       "      <th>bytes_out</th>\n",
       "      <th>dest_ip</th>\n",
       "      <th>dest_port</th>\n",
       "      <th>entropy</th>\n",
       "      <th>num_pkts_out</th>\n",
       "      <th>num_pkts_in</th>\n",
       "      <th>proto</th>\n",
       "      <th>src_ip</th>\n",
       "      <th>src_port</th>\n",
       "      <th>time_end</th>\n",
       "      <th>time_start</th>\n",
       "      <th>total_entropy</th>\n",
       "      <th>label</th>\n",
       "      <th>duration</th>\n",
       "    </tr>\n",
       "  </thead>\n",
       "  <tbody>\n",
       "    <tr>\n",
       "      <th>0</th>\n",
       "      <td>34.57143</td>\n",
       "      <td>34</td>\n",
       "      <td>29</td>\n",
       "      <td>786</td>\n",
       "      <td>5900</td>\n",
       "      <td>5.040459</td>\n",
       "      <td>7</td>\n",
       "      <td>10</td>\n",
       "      <td>6</td>\n",
       "      <td>28753</td>\n",
       "      <td>34406</td>\n",
       "      <td>1592614653171313</td>\n",
       "      <td>1592614652702811</td>\n",
       "      <td>317.5489</td>\n",
       "      <td>malicious</td>\n",
       "      <td>0.468502</td>\n",
       "    </tr>\n",
       "    <tr>\n",
       "      <th>1</th>\n",
       "      <td>37.00000</td>\n",
       "      <td>34</td>\n",
       "      <td>29</td>\n",
       "      <td>786</td>\n",
       "      <td>5900</td>\n",
       "      <td>5.127916</td>\n",
       "      <td>7</td>\n",
       "      <td>10</td>\n",
       "      <td>6</td>\n",
       "      <td>28753</td>\n",
       "      <td>29250</td>\n",
       "      <td>1592614652343948</td>\n",
       "      <td>1592614651847887</td>\n",
       "      <td>323.0587</td>\n",
       "      <td>malicious</td>\n",
       "      <td>0.496061</td>\n",
       "    </tr>\n",
       "  </tbody>\n",
       "</table>\n",
       "</div>"
      ],
      "text/plain": [
       "    avg_ipt  bytes_in  bytes_out  dest_ip  dest_port   entropy  num_pkts_out  \\\n",
       "0  34.57143        34         29      786       5900  5.040459             7   \n",
       "1  37.00000        34         29      786       5900  5.127916             7   \n",
       "\n",
       "   num_pkts_in  proto  src_ip  src_port          time_end        time_start  \\\n",
       "0           10      6   28753     34406  1592614653171313  1592614652702811   \n",
       "1           10      6   28753     29250  1592614652343948  1592614651847887   \n",
       "\n",
       "   total_entropy      label  duration  \n",
       "0       317.5489  malicious  0.468502  \n",
       "1       323.0587  malicious  0.496061  "
      ]
     },
     "execution_count": 17,
     "metadata": {},
     "output_type": "execute_result"
    }
   ],
   "source": [
    "# import data\n",
    "filename = 'data/2020.06.20.csv'\n",
    "df2 = pd.read_csv(filename)\n",
    "\n",
    "# sample small subset\n",
    "#df2 = df2.sample(n=100000, random_state=78)\n",
    "df2.info()\n",
    "df2.head(2)"
   ]
  },
  {
   "cell_type": "code",
   "execution_count": 18,
   "metadata": {},
   "outputs": [
    {
     "data": {
      "text/plain": [
       "avg_ipt          0\n",
       "bytes_in         0\n",
       "bytes_out        0\n",
       "dest_ip          0\n",
       "dest_port        0\n",
       "entropy          0\n",
       "num_pkts_out     0\n",
       "num_pkts_in      0\n",
       "proto            0\n",
       "src_ip           0\n",
       "src_port         0\n",
       "time_end         0\n",
       "time_start       0\n",
       "total_entropy    0\n",
       "label            0\n",
       "duration         0\n",
       "dtype: int64"
      ]
     },
     "execution_count": 18,
     "metadata": {},
     "output_type": "execute_result"
    }
   ],
   "source": [
    "# clean data\n",
    "df2.dropna(inplace=True)\n",
    "df2.isna().sum()"
   ]
  },
  {
   "cell_type": "code",
   "execution_count": 19,
   "metadata": {},
   "outputs": [
    {
     "name": "stdout",
     "output_type": "stream",
     "text": [
      "label values: ['malicious' 'benign' 'outlier']\n",
      "benign 0\n",
      "outlier 1\n",
      "malicious 2\n"
     ]
    }
   ],
   "source": [
    "print('label values:', df2['label'].unique())\n",
    "\n",
    "def ordinal_encoder(category):\n",
    "    dict = {'benign':0, 'outlier':1, 'malicious':2}\n",
    "    return dict[category]\n",
    "\n",
    "print('benign', ordinal_encoder('benign'))\n",
    "print('outlier', ordinal_encoder('outlier'))\n",
    "print('malicious', ordinal_encoder('malicious'))\n",
    "df2['label'] = df2['label'].apply(ordinal_encoder)"
   ]
  },
  {
   "cell_type": "code",
   "execution_count": 20,
   "metadata": {},
   "outputs": [],
   "source": [
    "features = ['avg_ipt', \n",
    "            'bytes_in', \n",
    "            'bytes_out', \n",
    "            'dest_ip', \n",
    "            'dest_port', \n",
    "            'entropy', \n",
    "            'num_pkts_in',\n",
    "            'num_pkts_out', \n",
    "            'proto', \n",
    "            'src_ip', \n",
    "            'src_port', \n",
    "            'time_end', \n",
    "            'time_start', \n",
    "            'total_entropy', \n",
    "            'duration']\n",
    "\n",
    "X_22 = df2.loc[:, features]\n",
    "y_22 = df2.loc[:,'label']"
   ]
  },
  {
   "cell_type": "code",
   "execution_count": 21,
   "metadata": {},
   "outputs": [],
   "source": [
    "# Scale features\n",
    "from sklearn.pipeline import Pipeline\n",
    "from sklearn.preprocessing import StandardScaler\n",
    "# try PolyScaler?\n",
    "\n",
    "scaler = StandardScaler()\n",
    "scaler.fit(X_22)\n",
    "X_22 = scaler.transform(X_22)\n",
    "\n",
    "# change labels to numpy\n",
    "y_22 = y_22.to_numpy()"
   ]
  },
  {
   "cell_type": "code",
   "execution_count": 22,
   "metadata": {},
   "outputs": [
    {
     "name": "stdout",
     "output_type": "stream",
     "text": [
      "24090/24090 [==============================] - 19s 778us/step\n"
     ]
    }
   ],
   "source": [
    "# test predictions\n",
    "X_test_new = X_22\n",
    "test_pred_22 = np.argmax(model.predict(X_test_new), axis=-1)"
   ]
  },
  {
   "cell_type": "code",
   "execution_count": 23,
   "metadata": {},
   "outputs": [
    {
     "name": "stdout",
     "output_type": "stream",
     "text": [
      "Predicted labels:\t [2 2 2 ... 2 2 2]\n",
      "Actual labels:\t\t [2 2 2 ... 1 1 2]\n",
      "              precision    recall  f1-score   support\n",
      "\n",
      "           0       1.00      0.87      0.93    366310\n",
      "           1       0.26      0.23      0.24     69389\n",
      "           2       0.76      0.88      0.82    335154\n",
      "\n",
      "    accuracy                           0.82    770853\n",
      "   macro avg       0.67      0.66      0.66    770853\n",
      "weighted avg       0.83      0.82      0.82    770853\n",
      "\n"
     ]
    }
   ],
   "source": [
    "print(\"Predicted labels:\\t\", test_pred_22)\n",
    "print(\"Actual labels:\\t\\t\", y_22)\n",
    "print(classification_report(y_22, test_pred_22))"
   ]
  },
  {
   "cell_type": "code",
   "execution_count": null,
   "metadata": {},
   "outputs": [],
   "source": []
  }
 ],
 "metadata": {
  "kernelspec": {
   "display_name": "Python 3 (ipykernel)",
   "language": "python",
   "name": "python3"
  },
  "language_info": {
   "codemirror_mode": {
    "name": "ipython",
    "version": 3
   },
   "file_extension": ".py",
   "mimetype": "text/x-python",
   "name": "python",
   "nbconvert_exporter": "python",
   "pygments_lexer": "ipython3",
   "version": "3.9.13"
  },
  "vscode": {
   "interpreter": {
    "hash": "916dbcbb3f70747c44a77c7bcd40155683ae19c65e1c03b4aa3499c5328201f1"
   }
  }
 },
 "nbformat": 4,
 "nbformat_minor": 2
}
