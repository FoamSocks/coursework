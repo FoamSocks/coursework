{
  "nbformat": 4,
  "nbformat_minor": 0,
  "metadata": {
    "colab": {
      "provenance": []
    },
    "kernelspec": {
      "name": "python3",
      "display_name": "Python 3"
    },
    "language_info": {
      "name": "python"
    }
  },
  "cells": [
    {
      "cell_type": "markdown",
      "source": [
        "# CS3315 Project Unsupervised Learning\n",
        "\n",
        "* Train two models: K-means and isolation forest\n",
        "* K-means would require additional data analysis/interpretation (i.e. what additional insights does clustering provide outside of the labels?)\n",
        "*Isolation forest - interpolate some kind of \"badness\" score from the features? (i.e. discovery of new label)]\n",
        "\n",
        "Code framework from https://github.com/ageron/handson-ml2/blob/master/09_unsupervised_learning.ipynb"
      ],
      "metadata": {
        "id": "ml8SuUzceEPh"
      }
    },
    {
      "cell_type": "code",
      "source": [
        "# Python ≥3.5 is required\n",
        "import sys\n",
        "assert sys.version_info >= (3, 5)\n",
        "\n",
        "# Scikit-Learn ≥0.20 is required\n",
        "import sklearn\n",
        "assert sklearn.__version__ >= \"0.20\"\n",
        "\n",
        "# Common imports\n",
        "import numpy as np\n",
        "import os\n",
        "import pandas as pd\n",
        "\n",
        "# to make this notebook's output stable across runs\n",
        "np.random.seed(42)\n",
        "\n",
        "# To plot pretty figures\n",
        "%matplotlib inline\n",
        "import matplotlib as mpl\n",
        "import matplotlib.pyplot as plt"
      ],
      "metadata": {
        "id": "nzzslScaefii"
      },
      "execution_count": 18,
      "outputs": []
    },
    {
      "cell_type": "markdown",
      "source": [
        "### K-Means Clustering"
      ],
      "metadata": {
        "id": "koQIRgU1fFCH"
      }
    },
    {
      "cell_type": "code",
      "source": [
        "# import data to dataframe\n",
        "\n",
        "filename = '/content/2020.06.19.csv'\n",
        "df = pd.read_csv(filename)\n",
        "#df.set_index('avg_ipt',inplace=True)\n",
        "# df.info()\n",
        "# df.head(4)"
      ],
      "metadata": {
        "id": "_NZAkTKAfItG"
      },
      "execution_count": 19,
      "outputs": []
    },
    {
      "cell_type": "code",
      "source": [
        "df.dropna(inplace=True)\n",
        "df.isna().sum()"
      ],
      "metadata": {
        "id": "VfT3SC1MfOqT",
        "colab": {
          "base_uri": "https://localhost:8080/"
        },
        "outputId": "70cc602b-8250-48f0-8df6-0fbe3559ce4a"
      },
      "execution_count": 20,
      "outputs": [
        {
          "output_type": "execute_result",
          "data": {
            "text/plain": [
              "avg_ipt          0\n",
              "bytes_in         0\n",
              "bytes_out        0\n",
              "dest_ip          0\n",
              "dest_port        0\n",
              "entropy          0\n",
              "num_pkts_out     0\n",
              "num_pkts_in      0\n",
              "proto            0\n",
              "src_ip           0\n",
              "src_port         0\n",
              "time_end         0\n",
              "time_start       0\n",
              "total_entropy    0\n",
              "label            0\n",
              "duration         0\n",
              "dtype: int64"
            ]
          },
          "metadata": {},
          "execution_count": 20
        }
      ]
    },
    {
      "cell_type": "code",
      "source": [
        "#one hot encoding for labels\n",
        "\n",
        "print('label values:', df['label'].unique())\n",
        "\n",
        "def ordinal_encoder(category):\n",
        "    dict = {'benign':0, 'outlier':1, 'malicious':2}\n",
        "    return dict[category]\n",
        "\n",
        "print('benign', ordinal_encoder('benign'))\n",
        "print('outlier', ordinal_encoder('outlier'))\n",
        "print('malicious', ordinal_encoder('malicious'))\n",
        "df['label'] = df['label'].apply(ordinal_encoder)"
      ],
      "metadata": {
        "colab": {
          "base_uri": "https://localhost:8080/"
        },
        "id": "1Qbub_rTAaCE",
        "outputId": "002faae9-b994-4dae-f2f2-82b2230a36ff"
      },
      "execution_count": 21,
      "outputs": [
        {
          "output_type": "stream",
          "name": "stdout",
          "text": [
            "label values: ['benign' 'outlier' 'malicious']\n",
            "benign 0\n",
            "outlier 1\n",
            "malicious 2\n"
          ]
        }
      ]
    },
    {
      "cell_type": "code",
      "source": [
        "#destination ip and labels\n",
        "\n",
        "features = ['dest_ip',\n",
        "            'label']\n",
        "\n",
        "X = df.loc[:, features]\n",
        "\n",
        "# Scale features\n",
        "from sklearn.pipeline import Pipeline\n",
        "from sklearn.preprocessing import StandardScaler\n",
        "\n",
        "scaler = StandardScaler()\n",
        "scaler.fit(X)\n",
        "X = scaler.transform(X)\n",
        "\n",
        "\n",
        "#plotting the data on a scatterplot\n",
        "def plot_clusters(X, y=None):\n",
        "    plt.scatter(X[:, 0], X[:, 1], c=y, s=1)\n",
        "    plt.xlabel(\"$x$\", fontsize=14)\n",
        "    plt.ylabel(\"$y$\", fontsize=14, rotation=90)\n",
        "\n",
        "plt.figure(figsize=(8, 6))\n",
        "plot_clusters(X)\n",
        "plt.show()\n",
        "\n",
        "#applying k-means to the scatterplot\n",
        "from sklearn.cluster import KMeans\n",
        "\n",
        "k = 3\n",
        "kmeans = KMeans(n_clusters=k, random_state=42)\n",
        "y_pred = kmeans.fit_predict(X)\n",
        "\n",
        "def plot_data(X):\n",
        "    plt.plot(X[:, 0], X[:, 1], 'k.', markersize=2)\n",
        "\n",
        "def plot_centroids(centroids, weights=None, circle_color='w', cross_color='k'):\n",
        "    if weights is not None:\n",
        "        centroids = centroids[weights > weights.max() / 10]\n",
        "    plt.scatter(centroids[:, 0], centroids[:, 1],\n",
        "                marker='o', s=35, linewidths=8,\n",
        "                color=circle_color, zorder=10, alpha=0.9)\n",
        "    plt.scatter(centroids[:, 0], centroids[:, 1],\n",
        "                marker='x', s=2, linewidths=12,\n",
        "                color=cross_color, zorder=11, alpha=1)\n",
        "\n",
        "def plot_decision_boundaries(clusterer, X, resolution=1000, show_centroids=True,\n",
        "                             show_xlabels=True, show_ylabels=True):\n",
        "    mins = X.min(axis=0) - 0.1\n",
        "    maxs = X.max(axis=0) + 0.1\n",
        "    xx, yy = np.meshgrid(np.linspace(mins[0], maxs[0], resolution),\n",
        "                         np.linspace(mins[1], maxs[1], resolution))\n",
        "    Z = clusterer.predict(np.c_[xx.ravel(), yy.ravel()])\n",
        "    Z = Z.reshape(xx.shape)\n",
        "\n",
        "    plt.contourf(Z, extent=(mins[0], maxs[0], mins[1], maxs[1]),\n",
        "                cmap=\"Pastel2\")\n",
        "    plt.contour(Z, extent=(mins[0], maxs[0], mins[1], maxs[1]),\n",
        "                linewidths=1, colors='k')\n",
        "    plot_data(X)\n",
        "    if show_centroids:\n",
        "        plot_centroids(clusterer.cluster_centers_)\n",
        "\n",
        "    if show_xlabels:\n",
        "        plt.xlabel(\"$x$\", fontsize=14)\n",
        "    else:\n",
        "        plt.tick_params(labelbottom=False)\n",
        "    if show_ylabels:\n",
        "        plt.ylabel(\"$y$\", fontsize=14, rotation=0)\n",
        "    else:\n",
        "        plt.tick_params(labelleft=False)\n",
        "\n",
        "plt.figure(figsize=(8, 6))\n",
        "plot_decision_boundaries(kmeans, X)\n",
        "plt.show()"
      ],
      "metadata": {
        "colab": {
          "base_uri": "https://localhost:8080/",
          "height": 767
        },
        "id": "-5s7t4Q_BF7x",
        "outputId": "dd8f98b6-5359-4ac7-c24b-3bb7207cc564"
      },
      "execution_count": 28,
      "outputs": [
        {
          "output_type": "display_data",
          "data": {
            "text/plain": [
              "<Figure size 576x432 with 1 Axes>"
            ],
            "image/png": "[encoded data removed]"
          },
          "metadata": {
            "needs_background": "light"
          }
        },
        {
          "output_type": "display_data",
          "data": {
            "text/plain": [
              "<Figure size 576x432 with 1 Axes>"
            ],
            "image/png": "[encoded data removed]"
          },
          "metadata": {
            "needs_background": "light"
          }
        }
      ]
    },
    {
      "cell_type": "code",
      "source": [
        "#calculating inertia\n",
        "\n",
        "kmeans.score(X)\n",
        "\n",
        "kmeans_per_k = [KMeans(n_clusters=k, random_state=42).fit(X)\n",
        "                for k in range(1, 10)]\n",
        "inertias = [model.inertia_ for model in kmeans_per_k]"
      ],
      "metadata": {
        "id": "3KI8PFM4veyI"
      },
      "execution_count": 23,
      "outputs": []
    },
    {
      "cell_type": "code",
      "source": [
        "#plotting inertia\n",
        "\n",
        "plt.figure(figsize=(8, 3.5))\n",
        "plt.plot(range(1, 10), inertias, \"bo-\")\n",
        "plt.xlabel(\"$k$\", fontsize=14)\n",
        "plt.ylabel(\"Inertia\", fontsize=14)\n",
        "plt.annotate('Elbow',\n",
        "             xy=(3, inertias[3]),\n",
        "             xytext=(0.55, 0.55),\n",
        "             textcoords='figure fraction',\n",
        "             fontsize=16,\n",
        "             arrowprops=dict(facecolor='black', shrink=0.1)\n",
        "            )\n",
        "plt.axis()\n",
        "plt.show()"
      ],
      "metadata": {
        "colab": {
          "base_uri": "https://localhost:8080/",
          "height": 268
        },
        "id": "r8KsYPIrvftW",
        "outputId": "0a5ad578-edbe-4880-be82-bd8595df1448"
      },
      "execution_count": 24,
      "outputs": [
        {
          "output_type": "display_data",
          "data": {
            "text/plain": [
              "<Figure size 576x252 with 1 Axes>"
            ],
            "image/png": "[encoded data removed]"
          },
          "metadata": {
            "needs_background": "light"
          }
        }
      ]
    },
    {
      "cell_type": "code",
      "source": [
        "# The following is the code of to calculate the silhouette score and graph,\n",
        "# commented out because it takes 1.5 - 2 hours to run the silhourette score\n",
        "# and over 7.5 hours to calculate the graph. We never ran the graph to completion\n",
        "# due to how long it would take.\n",
        "\n",
        "# from sklearn.metrics import silhouette_score\n",
        "\n",
        "\n",
        "# silhouette_score(X, kmeans.labels_)\n",
        "\n",
        "# silhouette_score k=5 = 0.6799252733420575"
      ],
      "metadata": {
        "id": "_iiKdDanZSWO"
      },
      "execution_count": 25,
      "outputs": []
    },
    {
      "cell_type": "code",
      "source": [
        "# silhouette_scores = [silhouette_score(X, model.labels_)\n",
        "#                      for model in kmeans_per_k[1:]]\n",
        "                     \n",
        "# plt.figure(figsize=(8, 3))\n",
        "# plt.plot(range(2, 10), silhouette_scores, \"bo-\")\n",
        "# plt.xlabel(\"$k$\", fontsize=14)\n",
        "# plt.ylabel(\"Silhouette score\", fontsize=14)\n",
        "# plt.axis()\n",
        "# plt.show()"
      ],
      "metadata": {
        "id": "77VXM3oeIJu4"
      },
      "execution_count": 26,
      "outputs": []
    },
    {
      "cell_type": "code",
      "source": [
        "# from sklearn.metrics import silhouette_samples\n",
        "# from matplotlib.ticker import FixedLocator, FixedFormatter\n",
        "\n",
        "# plt.figure(figsize=(11, 9))\n",
        "\n",
        "# for k in (3, 4, 5, 6):\n",
        "#     plt.subplot(2, 2, k - 2)\n",
        "    \n",
        "#     y_pred = kmeans_per_k[k - 1].labels_\n",
        "#     silhouette_coefficients = silhouette_samples(X, y_pred)\n",
        "\n",
        "#     padding = len(X) // 30\n",
        "#     pos = padding\n",
        "#     ticks = []\n",
        "#     for i in range(k):\n",
        "#         coeffs = silhouette_coefficients[y_pred == i]\n",
        "#         coeffs.sort()\n",
        "\n",
        "#         color = mpl.cm.Spectral(i / k)\n",
        "#         plt.fill_betweenx(np.arange(pos, pos + len(coeffs)), 0, coeffs,\n",
        "#                           facecolor=color, edgecolor=color, alpha=0.7)\n",
        "#         ticks.append(pos + len(coeffs) // 2)\n",
        "#         pos += len(coeffs) + padding\n",
        "\n",
        "#     plt.gca().yaxis.set_major_locator(FixedLocator(ticks))\n",
        "#     plt.gca().yaxis.set_major_formatter(FixedFormatter(range(k)))\n",
        "#     if k in (3, 5):\n",
        "#         plt.ylabel(\"Cluster\")\n",
        "    \n",
        "#     if k in (5, 6):\n",
        "#         plt.gca().set_xticks([-0.1, 0, 0.2, 0.4, 0.6, 0.8, 1])\n",
        "#         plt.xlabel(\"Silhouette Coefficient\")\n",
        "#     else:\n",
        "#         plt.tick_params(labelbottom=False)\n",
        "\n",
        "#     plt.axvline(x=silhouette_scores[k - 2], color=\"red\", linestyle=\"--\")\n",
        "#     plt.title(\"$k={}$\".format(k), fontsize=16)\n",
        "\n",
        "# plt.show()"
      ],
      "metadata": {
        "id": "QTHTKaBiD0Om"
      },
      "execution_count": 27,
      "outputs": []
    }
  ]
}