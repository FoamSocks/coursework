{
  "nbformat": 4,
  "nbformat_minor": 0,
  "metadata": {
    "colab": {
      "provenance": []
    },
    "kernelspec": {
      "name": "python3",
      "display_name": "Python 3"
    },
    "language_info": {
      "name": "python"
    }
  },
  "cells": [
    {
      "cell_type": "markdown",
      "source": [
        "# CS3315 Project Unsupervised Learning\n",
        "\n",
        "* Train two models: K-means and isolation forest\n",
        "* K-means would require additional data analysis/interpretation (i.e. what additional insights does clustering provide outside of the labels?)\n",
        "*Isolation forest - interpolate some kind of \"badness\" score from the features? (i.e. discovery of new label)]\n",
        "\n",
        "Code framework from https://github.com/ageron/handson-ml2/blob/master/09_unsupervised_learning.ipynb"
      ],
      "metadata": {
        "id": "ml8SuUzceEPh"
      }
    },
    {
      "cell_type": "code",
      "source": [
        "# Python ≥3.5 is required\n",
        "import sys\n",
        "assert sys.version_info >= (3, 5)\n",
        "\n",
        "# Scikit-Learn ≥0.20 is required\n",
        "import sklearn\n",
        "assert sklearn.__version__ >= \"0.20\"\n",
        "\n",
        "# Common imports\n",
        "import numpy as np\n",
        "import os\n",
        "import pandas as pd\n",
        "\n",
        "# to make this notebook's output stable across runs\n",
        "np.random.seed(42)\n",
        "\n",
        "# To plot pretty figures\n",
        "%matplotlib inline\n",
        "import matplotlib as mpl\n",
        "import matplotlib.pyplot as plt"
      ],
      "metadata": {
        "id": "nzzslScaefii"
      },
      "execution_count": 1,
      "outputs": []
    },
    {
      "cell_type": "markdown",
      "source": [
        "### Isolation Forest"
      ],
      "metadata": {
        "id": "koQIRgU1fFCH"
      }
    },
    {
      "cell_type": "code",
      "source": [
        "# import data to dataframe\n",
        "\n",
        "filename = '/content/2020.06.19.csv'\n",
        "df = pd.read_csv(filename)\n",
        "#df.set_index('avg_ipt',inplace=True)\n",
        "# df.info()\n",
        "# df.head(4)"
      ],
      "metadata": {
        "id": "_NZAkTKAfItG"
      },
      "execution_count": 2,
      "outputs": []
    },
    {
      "cell_type": "code",
      "source": [
        "df.dropna(inplace=True)\n",
        "df.isna().sum()"
      ],
      "metadata": {
        "id": "VfT3SC1MfOqT",
        "colab": {
          "base_uri": "https://localhost:8080/"
        },
        "outputId": "3d72d3fb-a97b-4ce2-dede-67dbd9a67961"
      },
      "execution_count": 3,
      "outputs": [
        {
          "output_type": "execute_result",
          "data": {
            "text/plain": [
              "avg_ipt          0\n",
              "bytes_in         0\n",
              "bytes_out        0\n",
              "dest_ip          0\n",
              "dest_port        0\n",
              "entropy          0\n",
              "num_pkts_out     0\n",
              "num_pkts_in      0\n",
              "proto            0\n",
              "src_ip           0\n",
              "src_port         0\n",
              "time_end         0\n",
              "time_start       0\n",
              "total_entropy    0\n",
              "label            0\n",
              "duration         0\n",
              "dtype: int64"
            ]
          },
          "metadata": {},
          "execution_count": 3
        }
      ]
    },
    {
      "cell_type": "code",
      "source": [
        "print('label values:', df['label'].unique())\n",
        "\n",
        "def ordinal_encoder(category):\n",
        "    dict = {'benign':0, 'outlier':1, 'malicious':2}\n",
        "    return dict[category]\n",
        "\n",
        "print('benign', ordinal_encoder('benign'))\n",
        "print('outlier', ordinal_encoder('outlier'))\n",
        "print('malicious', ordinal_encoder('malicious'))\n",
        "df['label'] = df['label'].apply(ordinal_encoder)"
      ],
      "metadata": {
        "colab": {
          "base_uri": "https://localhost:8080/"
        },
        "id": "1Qbub_rTAaCE",
        "outputId": "f662f9c0-cc56-47c2-ee36-0a41ef55cfa5"
      },
      "execution_count": 4,
      "outputs": [
        {
          "output_type": "stream",
          "name": "stdout",
          "text": [
            "label values: ['benign' 'outlier' 'malicious']\n",
            "benign 0\n",
            "outlier 1\n",
            "malicious 2\n"
          ]
        }
      ]
    },
    {
      "cell_type": "code",
      "source": [
        "features = ['dest_ip', \n",
        "            'label']\n",
        "\n",
        "X = df.loc[:, features]\n",
        "y = df.loc[:,'label']"
      ],
      "metadata": {
        "id": "Ct4maYAOm5gb"
      },
      "execution_count": 5,
      "outputs": []
    },
    {
      "cell_type": "code",
      "source": [
        "features_src = ['src_ip', \n",
        "                'label']\n",
        "\n",
        "X_src = df.loc[:, features_src]\n",
        "y = df.loc[:,'label']"
      ],
      "metadata": {
        "id": "q26dVhTcGKjD"
      },
      "execution_count": 6,
      "outputs": []
    },
    {
      "cell_type": "code",
      "source": [
        "# Scale features for Destination IP\n",
        "from sklearn.pipeline import Pipeline\n",
        "from sklearn.preprocessing import StandardScaler\n",
        "\n",
        "scaler = StandardScaler()\n",
        "scaler.fit(X)\n",
        "X = scaler.transform(X)"
      ],
      "metadata": {
        "id": "1oHXZF7HJkoS"
      },
      "execution_count": 7,
      "outputs": []
    },
    {
      "cell_type": "code",
      "source": [
        "# Perform Isolation Forest for Destination IP\n",
        "from sklearn.ensemble import IsolationForest\n",
        "\n",
        "rng = np.random.RandomState(42)\n",
        "\n",
        "# fit the model\n",
        "clf = IsolationForest(max_samples=100, random_state=rng)\n",
        "clf.fit(X)\n",
        "\n",
        "# plot the line, the samples, and the nearest vectors to the plane\n",
        "xx, yy = np.meshgrid(np.linspace(-2, 8, 50), np.linspace(-1, 40, 50))\n",
        "Z = clf.decision_function(np.c_[xx.ravel(), yy.ravel()])\n",
        "Z = Z.reshape(xx.shape)\n",
        "\n",
        "plt.title(\"IsolationForest for Destination IP\")\n",
        "plt.contourf(xx, yy, Z, cmap=plt.cm.Blues_r)\n",
        "\n",
        "b1 = plt.scatter(X[:, 0], X[:, 1], c=\"white\", s=20, edgecolor=\"k\")\n",
        "plt.axis(\"tight\")\n",
        "plt.xlim((-1, 8))\n",
        "plt.ylim((-1, 2))\n",
        "plt.xlabel(\"$x$\", fontsize=14)\n",
        "plt.ylabel(\"$y$\", fontsize=14, rotation=0)\n",
        "plt.show()"
      ],
      "metadata": {
        "id": "MwIQY4R4Jr4L",
        "colab": {
          "base_uri": "https://localhost:8080/",
          "height": 299
        },
        "outputId": "59365c05-f588-4142-c7ef-be85c9b28a2d"
      },
      "execution_count": 12,
      "outputs": [
        {
          "output_type": "display_data",
          "data": {
            "text/plain": [
              "<Figure size 432x288 with 1 Axes>"
            ],
            "image/png": "[encoded data removed]"
          },
          "metadata": {
            "needs_background": "light"
          }
        }
      ]
    },
    {
      "cell_type": "code",
      "source": [
        "# Scale features for Source IP\n",
        "from sklearn.pipeline import Pipeline\n",
        "from sklearn.preprocessing import StandardScaler\n",
        "\n",
        "scaler = StandardScaler()\n",
        "scaler.fit(X_src)\n",
        "X_src = scaler.transform(X_src)"
      ],
      "metadata": {
        "id": "dHjMTvzrGiV9"
      },
      "execution_count": 9,
      "outputs": []
    },
    {
      "cell_type": "code",
      "source": [
        "# Perform Isolation Forest for Source IP\n",
        "\n",
        "# fit the model\n",
        "clf = IsolationForest(max_samples=100, random_state=rng)\n",
        "clf.fit(X_src)\n",
        "\n",
        "# plot the line, the samples, and the nearest vectors to the plane\n",
        "xx, yy = np.meshgrid(np.linspace(-2, 8, 50), np.linspace(-1, 40, 50))\n",
        "Z = clf.decision_function(np.c_[xx.ravel(), yy.ravel()])\n",
        "Z = Z.reshape(xx.shape)\n",
        "\n",
        "plt.title(\"IsolationForest for Source IP\")\n",
        "plt.contourf(xx, yy, Z, cmap=plt.cm.Blues_r)\n",
        "\n",
        "b1 = plt.scatter(X[:, 0], X[:, 1], c=\"white\", s=20, edgecolor=\"k\")\n",
        "plt.axis(\"tight\")\n",
        "plt.xlim((-1, 8))\n",
        "plt.ylim((-1, 2))\n",
        "plt.xlabel(\"$x$\", fontsize=14)\n",
        "plt.ylabel(\"$y$\", fontsize=14, rotation=0)\n",
        "plt.show()"
      ],
      "metadata": {
        "colab": {
          "base_uri": "https://localhost:8080/",
          "height": 299
        },
        "id": "y146NSSJGRQp",
        "outputId": "028b0911-2d84-441f-b65a-bd96e31a23de"
      },
      "execution_count": 11,
      "outputs": [
        {
          "output_type": "display_data",
          "data": {
            "text/plain": [
              "<Figure size 432x288 with 1 Axes>"
            ],
            "image/png": "[encoded data removed]"
          },
          "metadata": {
            "needs_background": "light"
          }
        }
      ]
    }
  ]
}