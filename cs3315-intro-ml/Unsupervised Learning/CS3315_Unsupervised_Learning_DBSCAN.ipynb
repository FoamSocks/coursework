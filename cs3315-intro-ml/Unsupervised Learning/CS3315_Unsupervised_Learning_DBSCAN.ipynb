{
  "nbformat": 4,
  "nbformat_minor": 0,
  "metadata": {
    "colab": {
      "provenance": []
    },
    "kernelspec": {
      "name": "python3",
      "display_name": "Python 3"
    },
    "language_info": {
      "name": "python"
    }
  },
  "cells": [
    {
      "cell_type": "markdown",
      "source": [
        "# CS3315 Project Unsupervised Learning\n",
        "\n",
        "* Train two models: K-means and isolation forest (?)\n",
        "* K-means would require additional data analysis/interpretation (i.e. what additional insights does clustering provide outside of the labels?)\n",
        "*Isolation forest - interpolate some kind of \"badness\" score from the features? (i.e. discovery of new label)]\n",
        "\n",
        "Code framework from https://github.com/ageron/handson-ml2/blob/master/09_unsupervised_learning.ipynb"
      ],
      "metadata": {
        "id": "ml8SuUzceEPh"
      }
    },
    {
      "cell_type": "code",
      "source": [
        "# Python ≥3.5 is required\n",
        "import sys\n",
        "assert sys.version_info >= (3, 5)\n",
        "\n",
        "# Scikit-Learn ≥0.20 is required\n",
        "import sklearn\n",
        "assert sklearn.__version__ >= \"0.20\"\n",
        "\n",
        "# Common imports\n",
        "import numpy as np\n",
        "import os\n",
        "import pandas as pd\n",
        "\n",
        "# to make this notebook's output stable across runs\n",
        "np.random.seed(42)\n",
        "\n",
        "# To plot pretty figures\n",
        "%matplotlib inline\n",
        "import matplotlib as mpl\n",
        "import matplotlib.pyplot as plt"
      ],
      "metadata": {
        "id": "nzzslScaefii"
      },
      "execution_count": null,
      "outputs": []
    },
    {
      "cell_type": "markdown",
      "source": [
        "### DBSCAN"
      ],
      "metadata": {
        "id": "koQIRgU1fFCH"
      }
    },
    {
      "cell_type": "code",
      "source": [
        "# import data to dataframe\n",
        "\n",
        "filename = '/content/2020.06.19.csv'\n",
        "df = pd.read_csv(filename)\n",
        "#df.set_index('avg_ipt',inplace=True)\n",
        "# df.info()\n",
        "# df.head(4)"
      ],
      "metadata": {
        "id": "_NZAkTKAfItG"
      },
      "execution_count": null,
      "outputs": []
    },
    {
      "cell_type": "code",
      "source": [
        "df.dropna(inplace=True)\n",
        "df.isna().sum()"
      ],
      "metadata": {
        "id": "VfT3SC1MfOqT",
        "colab": {
          "base_uri": "https://localhost:8080/"
        },
        "outputId": "506a409c-3063-402c-9ba2-86c2f1a77ec9"
      },
      "execution_count": null,
      "outputs": [
        {
          "output_type": "execute_result",
          "data": {
            "text/plain": [
              "avg_ipt          0\n",
              "bytes_in         0\n",
              "bytes_out        0\n",
              "dest_ip          0\n",
              "dest_port        0\n",
              "entropy          0\n",
              "num_pkts_out     0\n",
              "num_pkts_in      0\n",
              "proto            0\n",
              "src_ip           0\n",
              "src_port         0\n",
              "time_end         0\n",
              "time_start       0\n",
              "total_entropy    0\n",
              "label            0\n",
              "duration         0\n",
              "dtype: int64"
            ]
          },
          "metadata": {},
          "execution_count": 3
        }
      ]
    },
    {
      "cell_type": "code",
      "source": [
        "print('label values:', df['label'].unique())\n",
        "\n",
        "def ordinal_encoder(category):\n",
        "    dict = {'benign':0, 'outlier':1, 'malicious':2}\n",
        "    return dict[category]\n",
        "\n",
        "print('benign', ordinal_encoder('benign'))\n",
        "print('outlier', ordinal_encoder('outlier'))\n",
        "print('malicious', ordinal_encoder('malicious'))\n",
        "df['label'] = df['label'].apply(ordinal_encoder)"
      ],
      "metadata": {
        "colab": {
          "base_uri": "https://localhost:8080/"
        },
        "id": "1Qbub_rTAaCE",
        "outputId": "71e07c8a-5184-4d9a-985a-ccd04f8c7e0d"
      },
      "execution_count": null,
      "outputs": [
        {
          "output_type": "stream",
          "name": "stdout",
          "text": [
            "label values: ['benign' 'outlier' 'malicious']\n",
            "benign 0\n",
            "outlier 1\n",
            "malicious 2\n"
          ]
        }
      ]
    },
    {
      "cell_type": "code",
      "source": [
        " features = ['src_ip', \n",
        "            'entropy']\n",
        "\n",
        "X = df.loc[:, features]\n",
        "y = df.loc[:,'label']"
      ],
      "metadata": {
        "id": "Ct4maYAOm5gb"
      },
      "execution_count": null,
      "outputs": []
    },
    {
      "cell_type": "code",
      "source": [
        "# Scale features\n",
        "from sklearn.pipeline import Pipeline\n",
        "from sklearn.preprocessing import StandardScaler\n",
        "\n",
        "scaler = StandardScaler()\n",
        "scaler.fit(X)\n",
        "X = scaler.transform(X)"
      ],
      "metadata": {
        "id": "1oHXZF7HJkoS"
      },
      "execution_count": null,
      "outputs": []
    },
    {
      "cell_type": "code",
      "source": [
        "# implementing DBSCAN\n",
        "# Not successfully run because Jupyter crashed due to limited RAM\n",
        "\n",
        "from sklearn.cluster import DBSCAN\n",
        "\n",
        "dbscan = DBSCAN(eps=0.05, min_samples=5)\n",
        "dbscan.fit(X)"
      ],
      "metadata": {
        "id": "MwIQY4R4Jr4L"
      },
      "execution_count": null,
      "outputs": []
    }
  ]
}