{
 "cells": [
  {
   "cell_type": "markdown",
   "metadata": {
    "id": "ZrwVQsM9TiUw"
   },
   "source": [
    "##### Copyright 2019 The TensorFlow Probability Authors.\n",
    "\n",
    "Licensed under the Apache License, Version 2.0 (the \"License\");"
   ]
  },
  {
   "cell_type": "code",
   "execution_count": null,
   "metadata": {
    "id": "CpDUTVKYTowI",
    "vscode": {
     "languageId": "python"
    }
   },
   "outputs": [],
   "source": [
    "#@title Licensed under the Apache License, Version 2.0 (the \"License\"); { display-mode: \"form\" }\n",
    "# you may not use this file except in compliance with the License.\n",
    "# You may obtain a copy of the License at\n",
    "#\n",
    "# https://www.apache.org/licenses/LICENSE-2.0\n",
    "#\n",
    "# Unless required by applicable law or agreed to in writing, software\n",
    "# distributed under the License is distributed on an \"AS IS\" BASIS,\n",
    "# WITHOUT WARRANTIES OR CONDITIONS OF ANY KIND, either express or implied.\n",
    "# See the License for the specific language governing permissions and\n",
    "# limitations under the License."
   ]
  },
  {
   "cell_type": "markdown",
   "metadata": {
    "id": "ltPJCG6pAUoc"
   },
   "source": [
    "# TFP Probabilistic Layers: Regression\n",
    "\n",
    "<table class=\"tfo-notebook-buttons\" align=\"left\">\n",
    "  <td>\n",
    "    <a target=\"_blank\" href=\"https://www.tensorflow.org/probability/examples/Probabilistic_Layers_Regression\"><img src=\"https://www.tensorflow.org/images/tf_logo_32px.png\" />View on TensorFlow.org</a>\n",
    "  </td>\n",
    "  <td>\n",
    "    <a target=\"_blank\" href=\"https://colab.research.google.com/github/tensorflow/probability/blob/main/tensorflow_probability/examples/jupyter_notebooks/Probabilistic_Layers_Regression.ipynb\"><img src=\"https://www.tensorflow.org/images/colab_logo_32px.png\" />Run in Google Colab</a>\n",
    "  </td>\n",
    "  <td>\n",
    "    <a target=\"_blank\" href=\"https://github.com/tensorflow/probability/blob/main/tensorflow_probability/examples/jupyter_notebooks/Probabilistic_Layers_Regression.ipynb\"><img src=\"https://www.tensorflow.org/images/GitHub-Mark-32px.png\" />View source on GitHub</a>\n",
    "  </td>\n",
    "  <td>\n",
    "    <a href=\"https://storage.googleapis.com/tensorflow_docs/probability/tensorflow_probability/examples/jupyter_notebooks/Probabilistic_Layers_Regression.ipynb\"><img src=\"https://www.tensorflow.org/images/download_logo_32px.png\" />Download notebook</a>\n",
    "  </td>\n",
    "</table>"
   ]
  },
  {
   "cell_type": "markdown",
   "metadata": {
    "id": "WRVR-tGTR31S"
   },
   "source": [
    "In this example we show how to fit regression models using TFP's \"probabilistic layers.\""
   ]
  },
  {
   "cell_type": "markdown",
   "metadata": {
    "id": "uiR4-VOt9NFX"
   },
   "source": [
    "### Dependencies & Prerequisites\n"
   ]
  },
  {
   "cell_type": "code",
   "execution_count": 100,
   "metadata": {
    "id": "kZ0MdF1j8WJf",
    "vscode": {
     "languageId": "python"
    }
   },
   "outputs": [],
   "source": [
    "#@title Import { display-mode: \"form\" }\n",
    "\n",
    "\n",
    "from pprint import pprint\n",
    "import matplotlib.pyplot as plt\n",
    "import numpy as np\n",
    "import seaborn as sns\n",
    "\n",
    "import tensorflow.compat.v2 as tf\n",
    "tf.enable_v2_behavior()\n",
    "\n",
    "import tensorflow_probability as tfp\n",
    "\n",
    "sns.reset_defaults()\n",
    "#sns.set_style('whitegrid')\n",
    "#sns.set_context('talk')\n",
    "sns.set_context(context='talk',font_scale=0.7)\n",
    "\n",
    "%matplotlib inline\n",
    "\n",
    "tfd = tfp.distributions"
   ]
  },
  {
   "cell_type": "markdown",
   "metadata": {
    "id": "7nnwjUdVoWN2"
   },
   "source": [
    "### Make things Fast!"
   ]
  },
  {
   "cell_type": "markdown",
   "metadata": {
    "id": "2CK9RaDcoYPG"
   },
   "source": [
    "Before we dive in, let's make sure we're using a GPU for this demo.  \n",
    "\n",
    "To do this, select \"Runtime\" -> \"Change runtime type\" -> \"Hardware accelerator\" -> \"GPU\".\n",
    "\n",
    "The following snippet will verify that we have access to a GPU."
   ]
  },
  {
   "cell_type": "code",
   "execution_count": 101,
   "metadata": {
    "colab": {
     "base_uri": "https://localhost:8080/"
    },
    "id": "qP_4Xr8vpA42",
    "outputId": "af9e5cb6-5c4f-4f27-b26e-8bccf4ad260a",
    "vscode": {
     "languageId": "python"
    }
   },
   "outputs": [
    {
     "name": "stdout",
     "output_type": "stream",
     "text": [
      "WARNING: GPU device not found.\n"
     ]
    }
   ],
   "source": [
    "if tf.test.gpu_device_name() != '/device:GPU:0':\n",
    "  print('WARNING: GPU device not found.')\n",
    "else:\n",
    "  print('SUCCESS: Found GPU: {}'.format(tf.test.gpu_device_name()))"
   ]
  },
  {
   "cell_type": "markdown",
   "metadata": {
    "id": "FJRBc_S0ppfE"
   },
   "source": [
    "Note: if for some reason you cannot access a GPU, this colab will still work. (Training will just take longer.)"
   ]
  },
  {
   "cell_type": "markdown",
   "metadata": {
    "id": "xuqxMmryiduM"
   },
   "source": [
    "## Motivation"
   ]
  },
  {
   "cell_type": "markdown",
   "metadata": {
    "id": "RtBLNF-tin2L"
   },
   "source": [
    "Wouldn't it be great if we could use TFP to specify a probabilistic model then simply minimize the negative log-likelihood, i.e.,"
   ]
  },
  {
   "cell_type": "code",
   "execution_count": 102,
   "metadata": {
    "id": "3PFfNeJzifo7",
    "vscode": {
     "languageId": "python"
    }
   },
   "outputs": [],
   "source": [
    "negloglik = lambda y, rv_y: -rv_y.log_prob(y)"
   ]
  },
  {
   "cell_type": "markdown",
   "metadata": {
    "id": "cN4IP8n_jIvT"
   },
   "source": [
    "Well not only is it possible, but this colab shows how! (In context of linear regression problems.)"
   ]
  },
  {
   "cell_type": "code",
   "execution_count": 103,
   "metadata": {
    "id": "5zCEYpzu7bDX",
    "vscode": {
     "languageId": "python"
    }
   },
   "outputs": [],
   "source": [
    "#@title Synthesize dataset.\n",
    "w0 = 0.125\n",
    "b0 = 5.\n",
    "x_range = [-20, 60]\n",
    "\n",
    "def load_dataset(n=150, n_tst=150):\n",
    "  np.random.seed(43)\n",
    "  def s(x):\n",
    "    g = (x - x_range[0]) / (x_range[1] - x_range[0])\n",
    "    return 3 * (0.25 + g**2.)\n",
    "  x = (x_range[1] - x_range[0]) * np.random.rand(n) + x_range[0]\n",
    "  eps = np.random.randn(n) * s(x)\n",
    "  y = (w0 * x * (1. + np.sin(x)) + b0) + eps\n",
    "  x = x[..., np.newaxis]\n",
    "  x_tst = np.linspace(*x_range, num=n_tst).astype(np.float32)\n",
    "  x_tst = x_tst[..., np.newaxis]\n",
    "  return y, x, x_tst\n",
    "\n",
    "y, x, x_tst = load_dataset()"
   ]
  },
  {
   "cell_type": "code",
   "execution_count": 104,
   "metadata": {
    "colab": {
     "base_uri": "https://localhost:8080/"
    },
    "id": "XW9COvZayoeb",
    "outputId": "201f1291-a2bb-4f8b-b71c-66800f68f550",
    "vscode": {
     "languageId": "python"
    }
   },
   "outputs": [
    {
     "data": {
      "text/plain": [
       "array([[-10.79563469],\n",
       "       [ 28.72532314],\n",
       "       [ -9.32872287],\n",
       "       [ -0.7528304 ],\n",
       "       [  6.17112446],\n",
       "       [ 48.73099928],\n",
       "       [ 33.28721705],\n",
       "       [ 23.29297698],\n",
       "       [-17.67889405],\n",
       "       [ 38.6998637 ],\n",
       "       [ 11.59600147],\n",
       "       [ 44.16376949],\n",
       "       [  0.35369007],\n",
       "       [-15.44920507],\n",
       "       [ 49.33189127],\n",
       "       [ -2.31768033],\n",
       "       [ 12.39915584],\n",
       "       [  5.28771768],\n",
       "       [-13.866984  ],\n",
       "       [ 47.45797554],\n",
       "       [ 47.91513182],\n",
       "       [ 57.71720731],\n",
       "       [ 10.83015315],\n",
       "       [ 56.35905001],\n",
       "       [ 15.66066887],\n",
       "       [ 33.57797214],\n",
       "       [-13.39999602],\n",
       "       [ 51.7678864 ],\n",
       "       [  3.84028006],\n",
       "       [  0.98438581],\n",
       "       [-19.58963607],\n",
       "       [ 23.45620122],\n",
       "       [ 18.04770936],\n",
       "       [ 30.90989421],\n",
       "       [ 58.25633073],\n",
       "       [ 52.69302063],\n",
       "       [ 52.81224606],\n",
       "       [ 22.02045369],\n",
       "       [-11.67848401],\n",
       "       [ -5.52683238],\n",
       "       [ 56.24321768],\n",
       "       [ 12.95623867],\n",
       "       [ 49.20136965],\n",
       "       [ 33.77418236],\n",
       "       [ 30.30286367],\n",
       "       [  2.04470213],\n",
       "       [ 51.73978158],\n",
       "       [ -3.44869029],\n",
       "       [ 12.35241945],\n",
       "       [ 59.48579939],\n",
       "       [ 38.85816652],\n",
       "       [ 15.604913  ],\n",
       "       [ 24.85305356],\n",
       "       [ 12.90043913],\n",
       "       [ 38.15903936],\n",
       "       [ 11.93575087],\n",
       "       [ 33.61161318],\n",
       "       [ 36.37724863],\n",
       "       [ 28.7647897 ],\n",
       "       [ 23.20275713],\n",
       "       [ -3.51345193],\n",
       "       [ -4.06708187],\n",
       "       [ 43.65910919],\n",
       "       [  3.22662222],\n",
       "       [ 32.47702623],\n",
       "       [  3.96934206],\n",
       "       [ -8.44172973],\n",
       "       [ 12.31653336],\n",
       "       [  4.82156215],\n",
       "       [ -0.5281587 ],\n",
       "       [ 27.04832341],\n",
       "       [ -0.37253976],\n",
       "       [ 39.82164894],\n",
       "       [ 37.61173183],\n",
       "       [ 35.62086936],\n",
       "       [-11.78057771],\n",
       "       [ 55.49139425],\n",
       "       [ 20.26717063],\n",
       "       [ 51.97388955],\n",
       "       [ -4.11360925],\n",
       "       [ 27.55593495],\n",
       "       [ 57.23268653],\n",
       "       [ 59.89585967],\n",
       "       [-18.06651   ],\n",
       "       [ 18.50426668],\n",
       "       [  3.31381517],\n",
       "       [-14.90235453],\n",
       "       [ 25.56995192],\n",
       "       [-19.59333722],\n",
       "       [ 28.90220717],\n",
       "       [ 49.61451816],\n",
       "       [ 50.6881172 ],\n",
       "       [ 56.34555866],\n",
       "       [ 39.18910558],\n",
       "       [ -5.2229634 ],\n",
       "       [ 14.77426569],\n",
       "       [ 50.87195964],\n",
       "       [  0.40370243],\n",
       "       [ 15.46501558],\n",
       "       [ 29.35495807],\n",
       "       [-11.73179913],\n",
       "       [ 19.20877289],\n",
       "       [-16.42364781],\n",
       "       [  4.93019754],\n",
       "       [ 40.16317491],\n",
       "       [ 37.23992692],\n",
       "       [ 55.3243395 ],\n",
       "       [ 42.15162934],\n",
       "       [ -2.7817188 ],\n",
       "       [ 52.39769445],\n",
       "       [ 24.18113176],\n",
       "       [ 47.59183101],\n",
       "       [ 53.7991587 ],\n",
       "       [ 46.31690232],\n",
       "       [ 11.53583984],\n",
       "       [ 27.85505093],\n",
       "       [ 14.61584637],\n",
       "       [ 35.53177086],\n",
       "       [ 18.77491917],\n",
       "       [ -9.73917267],\n",
       "       [ 31.54963973],\n",
       "       [ -3.62350271],\n",
       "       [ 39.59657004],\n",
       "       [-11.55062349],\n",
       "       [-19.4152405 ],\n",
       "       [  6.75911932],\n",
       "       [ 57.54044031],\n",
       "       [ 36.07805515],\n",
       "       [ 13.09484278],\n",
       "       [-10.33982636],\n",
       "       [-15.17091645],\n",
       "       [ 38.0969339 ],\n",
       "       [ 52.43607875],\n",
       "       [-18.71792657],\n",
       "       [ 26.73126646],\n",
       "       [ 38.28832402],\n",
       "       [  3.37580354],\n",
       "       [ 21.82380931],\n",
       "       [ 45.1881509 ],\n",
       "       [ 27.70615841],\n",
       "       [ 10.28442716],\n",
       "       [-13.79537556],\n",
       "       [ 18.9524941 ],\n",
       "       [ 17.45551249],\n",
       "       [ -5.47721946],\n",
       "       [-14.38912524],\n",
       "       [ 20.67207457],\n",
       "       [  6.54813879],\n",
       "       [ -2.84017437],\n",
       "       [-12.42744846]])"
      ]
     },
     "execution_count": 104,
     "metadata": {},
     "output_type": "execute_result"
    }
   ],
   "source": [
    "x"
   ]
  },
  {
   "cell_type": "code",
   "execution_count": 105,
   "metadata": {
    "id": "e_MV7I1MzaFw",
    "vscode": {
     "languageId": "python"
    }
   },
   "outputs": [],
   "source": [
    "n_examples = y.shape[0]"
   ]
  },
  {
   "cell_type": "code",
   "execution_count": 106,
   "metadata": {
    "id": "Do2lzfeczIQM",
    "vscode": {
     "languageId": "python"
    }
   },
   "outputs": [],
   "source": [
    "expectednegloglik = lambda y, rv_y: -rv_y.log_prob(y)/n_examples"
   ]
  },
  {
   "cell_type": "markdown",
   "metadata": {
    "id": "N8Shtn_e99XC"
   },
   "source": [
    "### Case 1: MLE Linear Regression with Constant Uncertainty"
   ]
  },
  {
   "cell_type": "code",
   "execution_count": 107,
   "metadata": {
    "colab": {
     "base_uri": "https://localhost:8080/"
    },
    "id": "RxKJ_RPI0K4N",
    "outputId": "5b7591c4-04be-4120-ee10-61ca239b00c9",
    "vscode": {
     "languageId": "python"
    }
   },
   "outputs": [
    {
     "name": "stdout",
     "output_type": "stream",
     "text": [
      "0.13475306\n",
      "5.1279936\n"
     ]
    }
   ],
   "source": [
    "# Build model.\n",
    "input = tf.keras.layers.Input(1)\n",
    "linear = tf.keras.layers.Dense(1)(input)\n",
    "p = tfp.layers.DistributionLambda(lambda t: tfd.Normal(loc=t, scale=1))(linear)\n",
    "model = tf.keras.Model(inputs=input, outputs=p)\n",
    "\n",
    "# Do inference.\n",
    "model.compile(optimizer=tf.optimizers.Adam(learning_rate=0.01), loss=expectednegloglik)\n",
    "model.fit(x, y, epochs=1000, verbose=False);\n",
    "\n",
    "# Profit.\n",
    "[print(np.squeeze(w.numpy())) for w in model.weights];\n",
    "yhat = model(x_tst)\n",
    "assert isinstance(yhat, tfd.Distribution)"
   ]
  },
  {
   "cell_type": "code",
   "execution_count": 108,
   "metadata": {
    "colab": {
     "base_uri": "https://localhost:8080/",
     "height": 138
    },
    "id": "1AE9ElaKI6Er",
    "outputId": "09afda94-647f-4213-b0e3-f1839bafcf91",
    "vscode": {
     "languageId": "python"
    }
   },
   "outputs": [
    {
     "data": {
      "image/png": "[encoded data removed]",
      "text/plain": [
       "<Figure size 432x108 with 1 Axes>"
      ]
     },
     "metadata": {
      "needs_background": "light"
     },
     "output_type": "display_data"
    }
   ],
   "source": [
    "\n",
    "w = np.squeeze(model.layers[-2].kernel.numpy())\n",
    "b = np.squeeze(model.layers[-2].bias.numpy())\n",
    "\n",
    "plt.figure(figsize=[6, 1.5])  # inches\n",
    "#plt.figure(figsize=[8, 5])  # inches\n",
    "plt.plot(x, y, 'b.', label='observed');\n",
    "plt.plot(x_tst, yhat.mean(),'r', label='mean', linewidth=4);\n",
    "plt.ylim(-0.,17);\n",
    "plt.yticks(np.linspace(0, 15, 4)[1:]);\n",
    "plt.xticks(np.linspace(*x_range, num=9));\n",
    "\n",
    "ax=plt.gca();\n",
    "ax.xaxis.set_ticks_position('bottom')\n",
    "ax.yaxis.set_ticks_position('left')\n",
    "ax.spines['left'].set_position(('data', 0))\n",
    "ax.spines['top'].set_visible(False)\n",
    "ax.spines['right'].set_visible(False)\n",
    "#ax.spines['left'].set_smart_bounds(True)\n",
    "#ax.spines['bottom'].set_smart_bounds(True)\n",
    "plt.legend(loc='center left', fancybox=True, framealpha=0., bbox_to_anchor=(1.05, 0.5))\n",
    "\n",
    "plt.savefig('/tmp/fig1.png', bbox_inches='tight', dpi=300)"
   ]
  },
  {
   "cell_type": "markdown",
   "metadata": {
    "id": "91kwRqs4O5Yv"
   },
   "source": [
    "### Case 2: MLE Linear Model with Homoscedastic Uncertainty"
   ]
  },
  {
   "cell_type": "code",
   "execution_count": 109,
   "metadata": {
    "colab": {
     "base_uri": "https://localhost:8080/"
    },
    "id": "TLZ97_V4PP-f",
    "outputId": "8e812c1d-6dca-4d85-f25c-6223dcce65a8",
    "vscode": {
     "languageId": "python"
    }
   },
   "outputs": [
    {
     "name": "stdout",
     "output_type": "stream",
     "text": [
      "0.13062835\n",
      "5.1233163\n"
     ]
    }
   ],
   "source": [
    "# Build model.\n",
    "input = tf.keras.layers.Input(1)\n",
    "linear = tf.keras.layers.Dense(1)(input)\n",
    "s = tf.keras.layers.Dense(1, activation=tf.keras.activations.exponential,use_bias=False)(tf.constant(np.ones([1,1])))\n",
    "p = tfp.layers.DistributionLambda(lambda t: tfd.Normal(loc=t[0], scale=t[1]))([linear,s])\n",
    "model = tf.keras.Model(inputs=input, outputs=p)\n",
    "\n",
    "# Do inference.\n",
    "model.compile(optimizer=tf.optimizers.Adam(learning_rate=0.01), loss=expectednegloglik)\n",
    "model.fit(x, y, epochs=1000, verbose=False);\n",
    "\n",
    "# Profit.\n",
    "[print(np.squeeze(w.numpy())) for w in model.weights];\n",
    "yhat = model(x_tst)\n",
    "assert isinstance(yhat, tfd.Distribution)"
   ]
  },
  {
   "cell_type": "code",
   "execution_count": 110,
   "metadata": {
    "colab": {
     "base_uri": "https://localhost:8080/"
    },
    "id": "2WxPbKhHZcbv",
    "outputId": "8c66b420-fbc3-4cb0-82ce-9fa492684672",
    "vscode": {
     "languageId": "python"
    }
   },
   "outputs": [
    {
     "data": {
      "text/plain": [
       "<tf.Tensor: shape=(150, 1), dtype=float32, numpy=\n",
       "array([[1.2234582],\n",
       "       [1.2234582],\n",
       "       [1.2234582],\n",
       "       [1.2234582],\n",
       "       [1.2234582],\n",
       "       [1.2234582],\n",
       "       [1.2234582],\n",
       "       [1.2234582],\n",
       "       [1.2234582],\n",
       "       [1.2234582],\n",
       "       [1.2234582],\n",
       "       [1.2234582],\n",
       "       [1.2234582],\n",
       "       [1.2234582],\n",
       "       [1.2234582],\n",
       "       [1.2234582],\n",
       "       [1.2234582],\n",
       "       [1.2234582],\n",
       "       [1.2234582],\n",
       "       [1.2234582],\n",
       "       [1.2234582],\n",
       "       [1.2234582],\n",
       "       [1.2234582],\n",
       "       [1.2234582],\n",
       "       [1.2234582],\n",
       "       [1.2234582],\n",
       "       [1.2234582],\n",
       "       [1.2234582],\n",
       "       [1.2234582],\n",
       "       [1.2234582],\n",
       "       [1.2234582],\n",
       "       [1.2234582],\n",
       "       [1.2234582],\n",
       "       [1.2234582],\n",
       "       [1.2234582],\n",
       "       [1.2234582],\n",
       "       [1.2234582],\n",
       "       [1.2234582],\n",
       "       [1.2234582],\n",
       "       [1.2234582],\n",
       "       [1.2234582],\n",
       "       [1.2234582],\n",
       "       [1.2234582],\n",
       "       [1.2234582],\n",
       "       [1.2234582],\n",
       "       [1.2234582],\n",
       "       [1.2234582],\n",
       "       [1.2234582],\n",
       "       [1.2234582],\n",
       "       [1.2234582],\n",
       "       [1.2234582],\n",
       "       [1.2234582],\n",
       "       [1.2234582],\n",
       "       [1.2234582],\n",
       "       [1.2234582],\n",
       "       [1.2234582],\n",
       "       [1.2234582],\n",
       "       [1.2234582],\n",
       "       [1.2234582],\n",
       "       [1.2234582],\n",
       "       [1.2234582],\n",
       "       [1.2234582],\n",
       "       [1.2234582],\n",
       "       [1.2234582],\n",
       "       [1.2234582],\n",
       "       [1.2234582],\n",
       "       [1.2234582],\n",
       "       [1.2234582],\n",
       "       [1.2234582],\n",
       "       [1.2234582],\n",
       "       [1.2234582],\n",
       "       [1.2234582],\n",
       "       [1.2234582],\n",
       "       [1.2234582],\n",
       "       [1.2234582],\n",
       "       [1.2234582],\n",
       "       [1.2234582],\n",
       "       [1.2234582],\n",
       "       [1.2234582],\n",
       "       [1.2234582],\n",
       "       [1.2234582],\n",
       "       [1.2234582],\n",
       "       [1.2234582],\n",
       "       [1.2234582],\n",
       "       [1.2234582],\n",
       "       [1.2234582],\n",
       "       [1.2234582],\n",
       "       [1.2234582],\n",
       "       [1.2234582],\n",
       "       [1.2234582],\n",
       "       [1.2234582],\n",
       "       [1.2234582],\n",
       "       [1.2234582],\n",
       "       [1.2234582],\n",
       "       [1.2234582],\n",
       "       [1.2234582],\n",
       "       [1.2234582],\n",
       "       [1.2234582],\n",
       "       [1.2234582],\n",
       "       [1.2234582],\n",
       "       [1.2234582],\n",
       "       [1.2234582],\n",
       "       [1.2234582],\n",
       "       [1.2234582],\n",
       "       [1.2234582],\n",
       "       [1.2234582],\n",
       "       [1.2234582],\n",
       "       [1.2234582],\n",
       "       [1.2234582],\n",
       "       [1.2234582],\n",
       "       [1.2234582],\n",
       "       [1.2234582],\n",
       "       [1.2234582],\n",
       "       [1.2234582],\n",
       "       [1.2234582],\n",
       "       [1.2234582],\n",
       "       [1.2234582],\n",
       "       [1.2234582],\n",
       "       [1.2234582],\n",
       "       [1.2234582],\n",
       "       [1.2234582],\n",
       "       [1.2234582],\n",
       "       [1.2234582],\n",
       "       [1.2234582],\n",
       "       [1.2234582],\n",
       "       [1.2234582],\n",
       "       [1.2234582],\n",
       "       [1.2234582],\n",
       "       [1.2234582],\n",
       "       [1.2234582],\n",
       "       [1.2234582],\n",
       "       [1.2234582],\n",
       "       [1.2234582],\n",
       "       [1.2234582],\n",
       "       [1.2234582],\n",
       "       [1.2234582],\n",
       "       [1.2234582],\n",
       "       [1.2234582],\n",
       "       [1.2234582],\n",
       "       [1.2234582],\n",
       "       [1.2234582],\n",
       "       [1.2234582],\n",
       "       [1.2234582],\n",
       "       [1.2234582],\n",
       "       [1.2234582],\n",
       "       [1.2234582],\n",
       "       [1.2234582],\n",
       "       [1.2234582],\n",
       "       [1.2234582],\n",
       "       [1.2234582]], dtype=float32)>"
      ]
     },
     "execution_count": 110,
     "metadata": {},
     "output_type": "execute_result"
    }
   ],
   "source": [
    "yhat.stddev()"
   ]
  },
  {
   "cell_type": "code",
   "execution_count": 111,
   "metadata": {
    "colab": {
     "base_uri": "https://localhost:8080/",
     "height": 138
    },
    "id": "JSSWw2-FPCiG",
    "outputId": "c0297835-47eb-466a-83e1-20571f0ee4e1",
    "vscode": {
     "languageId": "python"
    }
   },
   "outputs": [
    {
     "data": {
      "image/png": "[encoded data removed]",
      "text/plain": [
       "<Figure size 432x108 with 1 Axes>"
      ]
     },
     "metadata": {
      "needs_background": "light"
     },
     "output_type": "display_data"
    }
   ],
   "source": [
    "\n",
    "plt.figure(figsize=[6, 1.5])  # inches\n",
    "plt.plot(x, y, 'b.', label='observed');\n",
    "\n",
    "m = yhat.mean()\n",
    "s = yhat.stddev()\n",
    "\n",
    "plt.plot(x_tst, m, 'r', linewidth=4, label='mean');\n",
    "plt.plot(x_tst, m + 2 * s, 'g', linewidth=2, label=r'mean + 2 stddev');\n",
    "plt.plot(x_tst, m - 2 * s, 'g', linewidth=2, label=r'mean - 2 stddev');\n",
    "\n",
    "plt.ylim(-0.,17);\n",
    "plt.yticks(np.linspace(0, 15, 4)[1:]);\n",
    "plt.xticks(np.linspace(*x_range, num=9));\n",
    "\n",
    "ax=plt.gca();\n",
    "ax.xaxis.set_ticks_position('bottom')\n",
    "ax.yaxis.set_ticks_position('left')\n",
    "ax.spines['left'].set_position(('data', 0))\n",
    "ax.spines['top'].set_visible(False)\n",
    "ax.spines['right'].set_visible(False)\n",
    "#ax.spines['left'].set_smart_bounds(True)\n",
    "#ax.spines['bottom'].set_smart_bounds(True)\n",
    "plt.legend(loc='center left', fancybox=True, framealpha=0., bbox_to_anchor=(1.05, 0.5))\n",
    "\n",
    "plt.savefig('/tmp/fig2.png', bbox_inches='tight', dpi=300)"
   ]
  },
  {
   "cell_type": "markdown",
   "metadata": {
    "id": "6I1ZvjQWTAfX"
   },
   "source": [
    "### Case 2: MLE Neural Network Regression with Heteroscedastic Uncertainty"
   ]
  },
  {
   "cell_type": "code",
   "execution_count": 112,
   "metadata": {
    "colab": {
     "base_uri": "https://localhost:8080/"
    },
    "id": "e5gacKQ5qrM4",
    "outputId": "a3f283b0-63ac-45f6-c9cd-32c2e9363cf4",
    "vscode": {
     "languageId": "python"
    }
   },
   "outputs": [
    {
     "name": "stdout",
     "output_type": "stream",
     "text": [
      "[-0.12012678 -0.22215377 -0.5754616  -0.4866096  -0.60830575 -0.2389222\n",
      " -0.05339454 -0.10379988 -0.25173917 -0.01664297]\n",
      "[ 0.09975444  0.47372183 -0.09879512  0.10205274  0.10001115 -0.09927005\n",
      "  0.07735351 -0.09827654 -0.09527447  2.1792197 ]\n",
      "[ 0.6465339  -0.69758725 -0.3948502   0.52176344  0.2816731  -0.53920215\n",
      "  0.72609884 -0.027995    0.79650307 -0.15815078]\n",
      "0.10042015\n",
      "[ 0.34788865  0.5026825  -0.5654655   0.00700354  0.17641284 -0.27258375\n",
      "  0.69793034 -0.4444604  -0.5888244   1.6594968 ]\n",
      "0.09807489\n"
     ]
    }
   ],
   "source": [
    "# Build model.\n",
    "input = tf.keras.layers.Input(1)\n",
    "h1 = tf.keras.layers.Dense(10,activation=tf.keras.activations.relu)(input)\n",
    "m = tf.keras.layers.Dense(1)(h1)\n",
    "s = tf.keras.layers.Dense(1,activation=tf.keras.activations.exponential)(h1)\n",
    "p = tfp.layers.DistributionLambda(lambda t: tfd.Normal(loc=t[0], scale=t[1]))([m,s])\n",
    "model = tf.keras.Model(inputs=input, outputs=p)\n",
    "\n",
    "# Do inference.\n",
    "model.compile(optimizer=tf.optimizers.Adam(learning_rate=0.01), loss=expectednegloglik)\n",
    "model.fit(x, y, epochs=1000, verbose=False);\n",
    "\n",
    "# Profit.\n",
    "[print(np.squeeze(w.numpy())) for w in model.weights];\n",
    "yhat = model(x_tst)\n",
    "assert isinstance(yhat, tfd.Distribution)"
   ]
  },
  {
   "cell_type": "code",
   "execution_count": 113,
   "metadata": {
    "colab": {
     "base_uri": "https://localhost:8080/",
     "height": 138
    },
    "id": "9SRGjArDrgus",
    "outputId": "7e7a31d5-8fb3-4275-a02d-41526d9e30d8",
    "vscode": {
     "languageId": "python"
    }
   },
   "outputs": [
    {
     "data": {
      "image/png": "[encoded data removed]",
      "text/plain": [
       "<Figure size 432x108 with 1 Axes>"
      ]
     },
     "metadata": {
      "needs_background": "light"
     },
     "output_type": "display_data"
    }
   ],
   "source": [
    "plt.figure(figsize=[6, 1.5])  # inches\n",
    "plt.plot(x, y, 'b.', label='observed');\n",
    "\n",
    "m = yhat.mean()\n",
    "s = yhat.stddev()\n",
    "\n",
    "plt.plot(x_tst, m, 'r', linewidth=4, label='mean');\n",
    "plt.plot(x_tst, m + 2 * s, 'g', linewidth=2, label=r'mean + 2 stddev');\n",
    "plt.plot(x_tst, m - 2 * s, 'g', linewidth=2, label=r'mean - 2 stddev');\n",
    "\n",
    "plt.ylim(-0.,17);\n",
    "plt.yticks(np.linspace(0, 15, 4)[1:]);\n",
    "plt.xticks(np.linspace(*x_range, num=9));\n",
    "\n",
    "ax=plt.gca();\n",
    "ax.xaxis.set_ticks_position('bottom')\n",
    "ax.yaxis.set_ticks_position('left')\n",
    "ax.spines['left'].set_position(('data', 0))\n",
    "ax.spines['top'].set_visible(False)\n",
    "ax.spines['right'].set_visible(False)\n",
    "#ax.spines['left'].set_smart_bounds(True)\n",
    "#ax.spines['bottom'].set_smart_bounds(True)\n",
    "plt.legend(loc='center left', fancybox=True, framealpha=0., bbox_to_anchor=(1.05, 0.5))\n",
    "\n",
    "plt.savefig('/tmp/fig2.png', bbox_inches='tight', dpi=300)"
   ]
  },
  {
   "cell_type": "markdown",
   "metadata": {
    "id": "gEgaaos6TWYt"
   },
   "source": [
    "### Case 3: MAP Neural Network Regression with Heteroscedastic Uncertainty"
   ]
  },
  {
   "cell_type": "code",
   "execution_count": 114,
   "metadata": {
    "colab": {
     "base_uri": "https://localhost:8080/"
    },
    "id": "F4NnGnszthbA",
    "outputId": "e044bc63-eac4-4f97-fd0c-040495c0c191",
    "vscode": {
     "languageId": "python"
    }
   },
   "outputs": [
    {
     "name": "stdout",
     "output_type": "stream",
     "text": [
      "[-8.61506907e-11  6.45087957e-02  3.11989170e-05  6.34623029e-06\n",
      " -8.05311091e-03  1.76387621e-04 -2.08326179e-04 -4.83703577e-10\n",
      "  2.81299409e-02  3.31385224e-03 -2.59720683e-02 -3.97412069e-02\n",
      " -3.64109757e-04 -4.61423291e-08  5.40285558e-03 -4.43925819e-06\n",
      " -2.58598309e-02 -1.29199937e-01 -3.18981474e-03  7.78953545e-03\n",
      " -8.35545012e-04 -1.33802053e-02 -1.02385610e-01 -9.56954435e-04\n",
      " -1.34150288e-03  7.98528641e-02  1.35828517e-02 -5.08166113e-11\n",
      "  4.97203879e-02 -8.20178597e-04 -7.43892795e-15 -1.56386250e-06\n",
      " -2.73673306e-03  8.44827667e-02 -1.13169532e-02 -6.20030984e-03\n",
      " -1.02056146e-01 -2.37559642e-11 -5.13352902e-11 -1.56780977e-10\n",
      " -1.05423125e-04  2.57107941e-03 -9.43028717e-04 -8.23971575e-08\n",
      " -1.16512366e-02 -6.68758005e-02 -1.81414420e-03 -2.08292878e-03\n",
      "  5.45313247e-02 -6.46828610e-16 -1.82722439e-03  5.30610941e-06\n",
      " -3.35710487e-11  4.28676344e-02 -5.26846678e-04 -3.50436750e-07\n",
      " -2.84240231e-12 -3.29093146e-03  1.66397151e-02  1.70408580e-02\n",
      " -3.87706724e-03 -5.97590618e-02  9.98823419e-02  5.22774085e-03\n",
      "  2.12400556e-02  5.01965515e-05 -3.12534532e-09  7.14674592e-03\n",
      "  2.02420610e-03  2.95649655e-02 -1.22789549e-16 -1.13171086e-01\n",
      " -1.51856124e-01 -1.85838586e-03 -2.94588897e-02 -5.77222905e-04\n",
      " -8.04791786e-03 -4.62630305e-06 -1.71045796e-03 -2.51209742e-04\n",
      "  2.49874927e-02 -5.46540741e-06  6.27180487e-02  8.14742502e-03\n",
      "  6.61422759e-02 -7.72397399e-08 -1.64255626e-13 -2.96527543e-03\n",
      "  9.91687924e-03 -2.38368330e-08 -1.77558139e-01  1.45966494e-02\n",
      " -3.93909731e-11 -3.31941969e-03 -1.46349555e-06 -9.17376656e-06\n",
      "  4.20744559e-12 -4.80829419e-18  3.60274268e-03 -2.86531606e-04]\n",
      "[-7.3926094e-11  2.3140777e-02 -4.1210216e-05  6.4350497e-05\n",
      "  1.0235555e-01  1.4786415e-03  2.1153770e-03  3.0239808e-10\n",
      "  2.4568735e-01  4.3699285e-03 -3.3477437e-02 -4.4922635e-02\n",
      "  1.4671143e-03 -4.9354213e-08  4.8998170e-02 -6.5656013e-07\n",
      " -2.8689129e-02 -9.6302871e-03  3.4872286e-02  6.2782302e-02\n",
      "  9.4581917e-03 -3.3870505e-03 -6.2229130e-03  5.6933507e-02\n",
      " -1.3671458e-03  2.8447011e-02  1.3149966e-01 -1.0333116e-11\n",
      "  4.2193192e-01  8.1335800e-03 -2.7764031e-15  1.5859661e-05\n",
      "  1.9872941e-02  5.0031435e-01 -2.9891026e-03 -5.9227906e-03\n",
      " -6.8263009e-02 -2.2020842e-11 -9.4539532e-12 -1.1546441e-10\n",
      "  1.0125124e-03  2.3334438e-02  8.1055462e-03  2.9946085e-07\n",
      " -1.0709602e-02  7.3514849e-01  2.0677883e-02  7.8573860e-03\n",
      "  4.4253969e-01 -1.3207106e-16  1.4180921e-02  5.2555519e-05\n",
      " -3.0542201e-12  1.3541026e-01  5.6760027e-03 -1.6624811e-07\n",
      " -5.0044474e-12 -2.8484883e-03  1.8489228e-01  9.9264510e-02\n",
      " -2.6831012e-03 -4.5599733e-02  3.1820856e-02  5.6617823e-03\n",
      "  6.4728558e-03  1.3707885e-04 -7.3192052e-10  4.4817340e-02\n",
      "  3.0483904e-03  2.0050302e-01 -2.0163832e-16 -7.6291643e-02\n",
      " -1.1336961e-01  1.8640831e-02 -3.7079979e-02 -5.4072420e-04\n",
      "  5.5416107e-01  1.8031258e-05  1.2353748e-02  1.7203676e-04\n",
      "  1.1581307e-02 -7.2998841e-07  4.1510165e-01  6.6335768e-02\n",
      " -1.8072540e-01 -2.1255212e-07 -7.3364715e-14  3.1176694e-02\n",
      "  1.4150736e+00 -4.3339838e-08 -1.3055086e-01  8.5824050e-02\n",
      " -3.4631790e-11 -1.8176856e-03 -4.0136092e-07 -2.8046672e-05\n",
      "  8.0156541e-13 -3.3930862e-18  4.1660392e-03  2.8784308e-04]\n",
      "[-8.57341489e-11  1.17480280e-02 -9.86591840e-05  6.19384300e-05\n",
      "  7.05698356e-02  7.17077288e-04  1.17012870e-03 -2.75122952e-10\n",
      "  2.46887639e-01  3.53973242e-03 -3.75751080e-03 -3.10795046e-02\n",
      "  1.27233297e-03 -4.15792627e-08  4.69453298e-02 -6.91911396e-07\n",
      " -1.89902969e-02  1.50435744e-02  2.36308016e-02  6.22302555e-02\n",
      "  5.47327381e-03 -1.04948576e-03  1.25657767e-04  3.97151262e-02\n",
      " -9.32362338e-04  1.43763283e-02  1.30964532e-01  4.57365786e-12\n",
      "  4.14596081e-01  3.97168705e-03 -2.44302132e-15  1.43493908e-05\n",
      "  1.26926564e-02  4.86594170e-01 -7.67864054e-03 -4.15032543e-03\n",
      " -4.64170650e-02 -2.03996629e-11  5.32157261e-12 -1.03992787e-10\n",
      "  4.43703466e-04  2.35880315e-02  4.81215492e-03  3.30140580e-07\n",
      " -5.81768714e-03  5.21603584e-01  1.28263785e-02  5.29402168e-03\n",
      "  4.33760673e-01 -5.67639130e-18  9.06489138e-03  5.07727491e-05\n",
      " -4.73886382e-11  1.34687930e-01  3.39743146e-03  1.08406667e-07\n",
      " -2.40348865e-12 -2.01481045e-03  1.82603866e-01  9.91927534e-02\n",
      " -1.37711497e-04 -3.45091932e-02  2.46870071e-02  3.30913928e-03\n",
      "  4.51125717e-03  1.16534684e-04  1.69095293e-11  4.65072319e-02\n",
      "  2.25965912e-03  1.92539155e-01 -1.59873922e-16 -5.38382865e-02\n",
      " -7.68614858e-02  1.20558674e-02 -2.30544899e-02 -4.25095262e-04\n",
      "  5.28140783e-01  1.68073057e-05  7.90275913e-03  7.31792970e-05\n",
      "  4.87520406e-03  1.04899857e-06  4.07772154e-01  6.73921257e-02\n",
      " -2.34106109e-02 -4.02536067e-08 -3.08885303e-14  1.86862834e-02\n",
      "  1.37696731e+00 -2.00472812e-08 -1.01512000e-01  8.35181624e-02\n",
      " -6.45180645e-11  8.01851100e-04 -2.60189552e-07  1.16348010e-05\n",
      " -2.15589937e-12 -2.94751811e-18  2.72153900e-03  4.73850698e-04]\n",
      "1.0711975\n",
      "[ 4.9477693e-11  9.0645939e-02 -2.6637374e-05  1.8259686e-06\n",
      " -4.4306405e-02 -8.5479295e-04 -1.6086559e-03 -1.2465814e-10\n",
      "  2.5635328e-02  3.3266833e-03  8.3874427e-02  7.4074201e-02\n",
      " -3.2265016e-05  6.1059460e-08  2.6918771e-03  1.4125203e-06\n",
      "  4.3409783e-02 -1.7437955e-02 -2.4024773e-02  7.1808347e-03\n",
      " -6.3499114e-03  3.6652875e-03 -1.2424970e-02 -2.5458308e-02\n",
      "  1.4180876e-03  1.0796466e-01  8.3266813e-03 -3.3174564e-11\n",
      "  3.1522460e-02 -7.4061784e-03  5.7906294e-15 -3.3631154e-06\n",
      " -1.3189457e-02  4.7529235e-02  8.3985571e-03  6.8052807e-03\n",
      "  8.2578234e-02  2.4404289e-11 -7.8264400e-12  1.5935224e-10\n",
      " -9.8294532e-04  2.2067961e-03 -5.5050920e-03  6.2522489e-08\n",
      "  1.6234949e-02 -4.6750695e-01 -1.5062619e-02 -3.5843030e-03\n",
      "  3.3974223e-02 -3.7112052e-16 -8.7218573e-03  2.2211275e-06\n",
      "  6.1677517e-11  5.6204010e-02 -4.1826232e-03 -1.2040849e-07\n",
      "  6.8128437e-12  3.2873750e-03  1.1178089e-02  2.4676129e-02\n",
      "  4.2073536e-03  6.4055622e-02  9.9211961e-02  7.0211845e-03\n",
      "  2.6753834e-02  1.3603839e-04  2.2043312e-09  1.1432237e-02\n",
      "  2.5833480e-03  1.3478957e-02  3.0315849e-17  9.2741139e-02\n",
      "  1.6892286e-01 -1.2901002e-02  5.4977126e-02  5.7019951e-04\n",
      " -1.0795005e-02  3.8371513e-06 -7.9259137e-03 -1.0323502e-04\n",
      "  3.6002696e-02 -1.9042039e-06  3.5669796e-02  1.1081005e-02\n",
      " -1.5591742e-01  5.3522206e-07  1.0862868e-13 -2.5776304e-02\n",
      "  1.4894835e-02  5.5814748e-08  1.9475064e-01  2.1039844e-02\n",
      "  4.2035559e-11  2.9931280e-03 -4.4591215e-07  1.6254829e-06\n",
      " -4.6877992e-12  5.9827244e-18  4.5545683e-03  4.1606586e-04]\n",
      "-0.027005479\n"
     ]
    }
   ],
   "source": [
    "l2_reg = tf.keras.regularizers.l2(l2=0.0001)\n",
    "# Build model.\n",
    "input = tf.keras.layers.Input(1)\n",
    "h1 = tf.keras.layers.Dense(100,activation=tf.keras.activations.relu,kernel_regularizer=l2_reg,bias_regularizer=l2_reg)(input)\n",
    "m = tf.keras.layers.Dense(1,kernel_regularizer=l2_reg,bias_regularizer=l2_reg)(h1)\n",
    "s = tf.keras.layers.Dense(1,activation=tf.keras.activations.exponential,kernel_regularizer=l2_reg,bias_regularizer=l2_reg)(h1)\n",
    "p = tfp.layers.DistributionLambda(lambda t: tfd.Normal(loc=t[0], scale=t[1]))([m,s])\n",
    "model = tf.keras.Model(inputs=input, outputs=p)\n",
    "\n",
    "# Do inference.\n",
    "model.compile(optimizer=tf.optimizers.Adam(learning_rate=0.01), loss=expectednegloglik)\n",
    "model.fit(x, y, epochs=1000, verbose=False);\n",
    "\n",
    "# Profit.\n",
    "[print(np.squeeze(w.numpy())) for w in model.weights];\n",
    "yhat = model(x_tst)\n",
    "assert isinstance(yhat, tfd.Distribution)"
   ]
  },
  {
   "cell_type": "code",
   "execution_count": 115,
   "metadata": {
    "colab": {
     "base_uri": "https://localhost:8080/",
     "height": 138
    },
    "id": "fn4_FWV-ty03",
    "outputId": "4a913550-f98e-47d6-b0d2-436c76b9c2a4",
    "vscode": {
     "languageId": "python"
    }
   },
   "outputs": [
    {
     "data": {
      "image/png": "[encoded data removed]",
      "text/plain": [
       "<Figure size 432x108 with 1 Axes>"
      ]
     },
     "metadata": {
      "needs_background": "light"
     },
     "output_type": "display_data"
    }
   ],
   "source": [
    "plt.figure(figsize=[6, 1.5])  # inches\n",
    "plt.plot(x, y, 'b.', label='observed');\n",
    "\n",
    "m = yhat.mean()\n",
    "s = yhat.stddev()\n",
    "\n",
    "plt.plot(x_tst, m, 'r', linewidth=4, label='mean');\n",
    "plt.plot(x_tst, m + 2 * s, 'g', linewidth=2, label=r'mean + 2 stddev');\n",
    "plt.plot(x_tst, m - 2 * s, 'g', linewidth=2, label=r'mean - 2 stddev');\n",
    "\n",
    "plt.ylim(-0.,17);\n",
    "plt.yticks(np.linspace(0, 15, 4)[1:]);\n",
    "plt.xticks(np.linspace(*x_range, num=9));\n",
    "\n",
    "ax=plt.gca();\n",
    "ax.xaxis.set_ticks_position('bottom')\n",
    "ax.yaxis.set_ticks_position('left')\n",
    "ax.spines['left'].set_position(('data', 0))\n",
    "ax.spines['top'].set_visible(False)\n",
    "ax.spines['right'].set_visible(False)\n",
    "#ax.spines['left'].set_smart_bounds(True)\n",
    "#ax.spines['bottom'].set_smart_bounds(True)\n",
    "plt.legend(loc='center left', fancybox=True, framealpha=0., bbox_to_anchor=(1.05, 0.5))\n",
    "\n",
    "plt.savefig('/tmp/fig2.png', bbox_inches='tight', dpi=300)"
   ]
  },
  {
   "cell_type": "markdown",
   "metadata": {
    "id": "ltGTdUt5U19I"
   },
   "source": [
    "### Case 4: Laplace Approximation Neural Network Regression with Heteroscedastic Uncertainty"
   ]
  },
  {
   "cell_type": "code",
   "execution_count": 116,
   "metadata": {
    "id": "-UbDziyxUM-A",
    "vscode": {
     "languageId": "python"
    }
   },
   "outputs": [],
   "source": [
    "import tensorflow as tf\n",
    "import numpy as np\n",
    "import math\n",
    "class LaplaceApproximation(tf.keras.Model):\n",
    "\n",
    "    def __init__(self,model):\n",
    "        super().__init__()\n",
    "        self.model = model\n",
    "        self.mean = None\n",
    "        self.std = None\n",
    "        self.lam = None\n",
    "\n",
    "    def fit(self,dataset,training=False):\n",
    "        \"\"\"\n",
    "        Fit the Laplace approximation for a model. Setting the mean of the Laplace approximation to the weights of the model \n",
    "            and, using the diagonal of the Fisher matrix, set the standard deviation of the Laplace approximation.\n",
    "        :param model: Model whose Fisher matrix is to be computed.\n",
    "        :param dataset: Dataset which the model has been trained on, but which will not be seen in the future. \n",
    "            Formatted as (inputs, labels).\n",
    "        :param samples: Number of samples to take from the dataset. More samples\n",
    "            gives a better approximation of the true variance.\n",
    "        \"\"\"\n",
    "        inputs, labels = dataset\n",
    "        trainable_weights = self.model.trainable_weights\n",
    "        variance = [tf.zeros_like(tensor) for tensor in trainable_weights]\n",
    "        \n",
    "        pb = tf.keras.utils.Progbar(inputs.shape[0])\n",
    "\n",
    "        for i in range(inputs.shape[0]):\n",
    "            pb.update(i)\n",
    "            index = i#np.random.randint(len(inputs))\n",
    "            # Select an element from the dataset.\n",
    "            data = inputs[index]\n",
    "            target = labels[index]\n",
    "\n",
    "            # When extracting from the array we lost a dimension so put it back.\n",
    "            data = tf.expand_dims(data, axis=0)\n",
    "\n",
    "            # Collect gradients.\n",
    "            with tf.GradientTape() as tape:\n",
    "                output = self.model(data,training=training)\n",
    "                log_likelihood = output.log_prob(target)\n",
    "\n",
    "            gradients = tape.gradient(log_likelihood, trainable_weights)\n",
    "\n",
    "            # If the model has converged, we can assume that the current weights\n",
    "            # are the mean, and each gradient we see is a deviation. The variance is\n",
    "            # the average of the square of this deviation.\n",
    "            variance = [var + (grad ** 2) for var, grad in zip(variance, gradients)]\n",
    "\n",
    "        self.fisher_diagonal = [tensor.numpy() for tensor in variance]\n",
    "        #self.fisher_diagonal = [tensor.numpy() / samples * inputs.shape[0] for tensor in variance]\n",
    "        \n",
    "        mins = [np.min(f) for f in self.fisher_diagonal]\n",
    "        for i,x in enumerate(mins):\n",
    "          if i==0 or min > x:\n",
    "            min = x\n",
    "        print(min)\n",
    "        #print('FISHER')\n",
    "        #print(fisher_diagonal)\n",
    "        self.mean = self.model.get_weights()       \n",
    "        \n",
    "\n",
    "    def reset_weights(self):\n",
    "        if self.mean:\n",
    "            self.model.set_weights(self.mean)\n",
    "\n",
    "    def set_std(self, weight_decay):\n",
    "      self.std = [np.reciprocal(np.sqrt(x+weight_decay)) for x in self.fisher_diagonal]\n",
    "\n",
    "    def call(self, inputs, training=False):\n",
    "        e = [np.random.standard_normal(x.shape) for x in self.mean]\n",
    "        sample = [m+s*e for m, s, e in zip(self.mean,self.std,e)]\n",
    "        self.model.set_weights(sample)\n",
    "        return self.model(inputs,training=training)"
   ]
  },
  {
   "cell_type": "code",
   "execution_count": 117,
   "metadata": {
    "id": "H7kEk6DVwSP6",
    "vscode": {
     "languageId": "python"
    }
   },
   "outputs": [],
   "source": [
    "la = LaplaceApproximation(model)"
   ]
  },
  {
   "cell_type": "code",
   "execution_count": 118,
   "metadata": {
    "colab": {
     "base_uri": "https://localhost:8080/"
    },
    "id": "4zVZ4J0gwaXg",
    "outputId": "1589b12a-c56f-4bc5-e353-67d0104bbdf3",
    "vscode": {
     "languageId": "python"
    }
   },
   "outputs": [
    {
     "name": "stdout",
     "output_type": "stream",
     "text": [
      "147/150 [============================>.] - ETA: 0s1.3668522e-33\n"
     ]
    }
   ],
   "source": [
    "la.fit([x,y])"
   ]
  },
  {
   "cell_type": "code",
   "execution_count": 119,
   "metadata": {
    "id": "ayqOa8sxxe1L",
    "vscode": {
     "languageId": "python"
    }
   },
   "outputs": [],
   "source": [
    "la.set_std(100)"
   ]
  },
  {
   "cell_type": "code",
   "execution_count": 120,
   "metadata": {
    "colab": {
     "base_uri": "https://localhost:8080/",
     "height": 166
    },
    "id": "xzYnRMrywnSi",
    "outputId": "099ee86e-c425-4eb7-8306-c0148ed385f7",
    "vscode": {
     "languageId": "python"
    }
   },
   "outputs": [
    {
     "data": {
      "image/png": "[encoded data removed]",
      "text/plain": [
       "<Figure size 432x108 with 1 Axes>"
      ]
     },
     "metadata": {
      "needs_background": "light"
     },
     "output_type": "display_data"
    }
   ],
   "source": [
    "plt.figure(figsize=[6, 1.5])  # inches\n",
    "plt.plot(x, y, 'b.', label='observed');\n",
    "\n",
    "yhats = [la(x_tst) for _ in range(100)]\n",
    "avgm = np.zeros_like(x_tst[..., 0])\n",
    "ms = []\n",
    "ss = []\n",
    "for i, yhat in enumerate(yhats):\n",
    "  m = np.squeeze(yhat.mean())\n",
    "  s = np.squeeze(yhat.stddev())\n",
    "  if i < 15:\n",
    "    plt.plot(x_tst, m, 'r', label='ensemble means' if i == 0 else None, linewidth=1.)\n",
    "    plt.plot(x_tst, m + 2 * s, 'g', linewidth=0.5, label='ensemble means + 2 ensemble stdev' if i == 0 else None);\n",
    "    plt.plot(x_tst, m - 2 * s, 'g', linewidth=0.5, label='ensemble means - 2 ensemble stdev' if i == 0 else None);\n",
    "  ms += [m]\n",
    "  ss += [s]\n",
    "ms = np.array(ms)\n",
    "avgm = ms.mean(axis=0)\n",
    "ss = np.array(ss)\n",
    "avgs = np.sqrt((ms**2+ss**2).mean(axis=0)-avgm**2)\n",
    "plt.plot(x_tst, avgm, 'r', label='overall mean', linewidth=4)\n",
    "plt.plot(x_tst, avgm + 2 * avgs, 'g', linewidth=4, label='overall mean + 2 overall stdev');\n",
    "plt.plot(x_tst, avgm - 2 * avgs, 'g', linewidth=4, label='overall means - 2 overall stdev');\n",
    "\n",
    "plt.ylim(-0.,17);\n",
    "plt.yticks(np.linspace(0, 15, 4)[1:]);\n",
    "plt.xticks(np.linspace(*x_range, num=9));\n",
    "\n",
    "ax=plt.gca();\n",
    "ax.xaxis.set_ticks_position('bottom')\n",
    "ax.yaxis.set_ticks_position('left')\n",
    "ax.spines['left'].set_position(('data', 0))\n",
    "ax.spines['top'].set_visible(False)\n",
    "ax.spines['right'].set_visible(False)\n",
    "#ax.spines['left'].set_smart_bounds(True)\n",
    "#ax.spines['bottom'].set_smart_bounds(True)\n",
    "plt.legend(loc='center left', fancybox=True, framealpha=0., bbox_to_anchor=(1.05, 0.5))\n",
    "\n",
    "plt.savefig('/tmp/fig4.png', bbox_inches='tight', dpi=300)"
   ]
  },
  {
   "cell_type": "markdown",
   "metadata": {
    "id": "uhMuqC3-U7si"
   },
   "source": [
    "### Case 5: MAP Neural Network Regression with Heteroscedastic Uncertainty and Parameter Pruning"
   ]
  },
  {
   "cell_type": "code",
   "execution_count": 121,
   "metadata": {
    "id": "6SLGi7gdQsyG",
    "vscode": {
     "languageId": "python"
    }
   },
   "outputs": [],
   "source": [
    "lambda_prune= 0.83"
   ]
  },
  {
   "cell_type": "code",
   "execution_count": 122,
   "metadata": {
    "id": "R1j-oLkdQj3o",
    "vscode": {
     "languageId": "python"
    }
   },
   "outputs": [],
   "source": [
    "W1_prune = model.trainable_weights[0] * tf.cast(tf.abs(model.trainable_weights[0]/la.std[0]) > lambda_prune,tf.float32)\n",
    "b1_prune = model.trainable_weights[1] * tf.cast(tf.abs(model.trainable_weights[1]/la.std[1]) > lambda_prune,tf.float32)\n",
    "W2_mu_prune = model.trainable_weights[2] * tf.cast(tf.abs(model.trainable_weights[2]/la.std[2]) > lambda_prune,tf.float32)\n",
    "b2_mu_prune = model.trainable_weights[3] * tf.cast(tf.abs(model.trainable_weights[3]/la.std[3]) > lambda_prune,tf.float32)\n",
    "W2_sig_prune = model.trainable_weights[4] * tf.cast(tf.abs(model.trainable_weights[4]/la.std[4]) > lambda_prune,tf.float32)\n",
    "b2_sig_prune = model.trainable_weights[5] * tf.cast(tf.abs(model.trainable_weights[5]/la.std[5]) > lambda_prune,tf.float32)"
   ]
  },
  {
   "cell_type": "code",
   "execution_count": 123,
   "metadata": {
    "id": "JeaZVpmhSw9V",
    "vscode": {
     "languageId": "python"
    }
   },
   "outputs": [],
   "source": [
    "trainable_weights_pruned = [W1_prune,b1_prune,W2_mu_prune,b2_mu_prune,W2_sig_prune,b2_sig_prune]"
   ]
  },
  {
   "cell_type": "code",
   "execution_count": 154,
   "metadata": {
    "id": "bhGlXYHfViUr",
    "vscode": {
     "languageId": "python"
    }
   },
   "outputs": [],
   "source": [
    "not_pruned = 0\n",
    "pruned = 0\n",
    "for w in trainable_weights_pruned:\n",
    "  not_pruned += tf.reduce_sum(tf.cast(w!=0.,tf.float32))\n",
    "  pruned += tf.reduce_sum(tf.cast(w==0.,tf.float32))\n",
    "percent_pruned = (pruned/(pruned+not_pruned)).numpy()"
   ]
  },
  {
   "cell_type": "code",
   "execution_count": 155,
   "metadata": {
    "colab": {
     "base_uri": "https://localhost:8080/"
    },
    "id": "9Nw-t3NUWeIF",
    "outputId": "bd686a8f-05f0-4c2f-9381-6b7e87f3169a",
    "vscode": {
     "languageId": "python"
    }
   },
   "outputs": [
    {
     "data": {
      "text/plain": [
       "0.5099502"
      ]
     },
     "execution_count": 155,
     "metadata": {},
     "output_type": "execute_result"
    }
   ],
   "source": [
    "percent_pruned"
   ]
  },
  {
   "cell_type": "code",
   "execution_count": 149,
   "metadata": {
    "id": "YuP-IhsVS-BG",
    "vscode": {
     "languageId": "python"
    }
   },
   "outputs": [],
   "source": [
    "model_pruned = tf.keras.models.clone_model(model)"
   ]
  },
  {
   "cell_type": "code",
   "execution_count": 150,
   "metadata": {
    "id": "8bUd7_J7TG61",
    "vscode": {
     "languageId": "python"
    }
   },
   "outputs": [],
   "source": [
    "model_pruned.set_weights(trainable_weights_pruned)\n",
    "yhat = model_pruned(x_tst)"
   ]
  },
  {
   "cell_type": "code",
   "execution_count": 151,
   "metadata": {
    "colab": {
     "base_uri": "https://localhost:8080/",
     "height": 138
    },
    "id": "0plM2fs6TP_9",
    "outputId": "6cb7fc2d-6004-4dfa-ba77-3b5d09afc7d3",
    "vscode": {
     "languageId": "python"
    }
   },
   "outputs": [
    {
     "data": {
      "image/png": "[encoded data removed]",
      "text/plain": [
       "<Figure size 432x108 with 1 Axes>"
      ]
     },
     "metadata": {
      "needs_background": "light"
     },
     "output_type": "display_data"
    }
   ],
   "source": [
    "plt.figure(figsize=[6, 1.5])  # inches\n",
    "plt.plot(x, y, 'b.', label='observed');\n",
    "\n",
    "m = yhat.mean()\n",
    "s = yhat.stddev()\n",
    "\n",
    "plt.plot(x_tst, m, 'r', linewidth=4, label='mean');\n",
    "plt.plot(x_tst, m + 2 * s, 'g', linewidth=2, label=r'mean + 2 stddev');\n",
    "plt.plot(x_tst, m - 2 * s, 'g', linewidth=2, label=r'mean - 2 stddev');\n",
    "\n",
    "plt.ylim(-0.,17);\n",
    "plt.yticks(np.linspace(0, 15, 4)[1:]);\n",
    "plt.xticks(np.linspace(*x_range, num=9));\n",
    "\n",
    "ax=plt.gca();\n",
    "ax.xaxis.set_ticks_position('bottom')\n",
    "ax.yaxis.set_ticks_position('left')\n",
    "ax.spines['left'].set_position(('data', 0))\n",
    "ax.spines['top'].set_visible(False)\n",
    "ax.spines['right'].set_visible(False)\n",
    "#ax.spines['left'].set_smart_bounds(True)\n",
    "#ax.spines['bottom'].set_smart_bounds(True)\n",
    "plt.legend(loc='center left', fancybox=True, framealpha=0., bbox_to_anchor=(1.05, 0.5))\n",
    "\n",
    "plt.savefig('/tmp/fig2.png', bbox_inches='tight', dpi=300)"
   ]
  },
  {
   "cell_type": "code",
   "execution_count": 129,
   "metadata": {
    "id": "7f4vB5VCUmlw",
    "vscode": {
     "languageId": "python"
    }
   },
   "outputs": [],
   "source": [
    "#@title Synthesize New Dataset.\n",
    "w0 = 0.125\n",
    "b0 = 5.\n",
    "x_range = [-20, 60]\n",
    "\n",
    "def load_dataset(n=150, n_tst=150):\n",
    "  np.random.seed(42)\n",
    "  def s(x):\n",
    "    g = (x - x_range[0]) / (x_range[1] - x_range[0])\n",
    "    return 3 * (0.25 + g**2.)\n",
    "  x = (x_range[1] - x_range[0]) * np.random.rand(n) + x_range[0]\n",
    "  eps = np.random.randn(n) * s(x)\n",
    "  y = (w0 * x * (1. + np.sin(x)) + b0) + eps\n",
    "  x = x[..., np.newaxis]\n",
    "  x_tst = np.linspace(*x_range, num=n_tst).astype(np.float32)\n",
    "  x_tst = x_tst[..., np.newaxis]\n",
    "  return y, x, x_tst\n",
    "\n",
    "y_2, x_2, x_tst_2 = load_dataset()"
   ]
  },
  {
   "cell_type": "markdown",
   "metadata": {
    "id": "iXvgX4r-QFIE"
   },
   "source": [
    "### MAP Neural Network Regression with Heteroscedastic Uncertainty and a Laplace Approximation Prior"
   ]
  },
  {
   "cell_type": "code",
   "execution_count": 130,
   "metadata": {
    "id": "lWb_OFXtxa_6",
    "vscode": {
     "languageId": "python"
    }
   },
   "outputs": [],
   "source": [
    "class GaussianPriorRegularizer(tf.keras.regularizers.Regularizer):\n",
    "  def __init__(self, loc, scale,n_examples):\n",
    "    self.loc = loc\n",
    "    self.scale= scale\n",
    "\n",
    "  def __call__(self, x):\n",
    "    return 0.5/float(n_examples) * tf.math.reduce_sum(tf.square(tf.math.reciprocal(self.scale)) * tf.math.square(x-self.loc))\n",
    "\n",
    "  def get_config(self):\n",
    "    return {'loc': self.loc, 'scale': self.scale}"
   ]
  },
  {
   "cell_type": "code",
   "execution_count": 131,
   "metadata": {
    "id": "HMmE0KLRNYxm",
    "vscode": {
     "languageId": "python"
    }
   },
   "outputs": [],
   "source": [
    "W1_loc = model.trainable_weights[0]\n",
    "b1_loc = model.trainable_weights[1]\n",
    "W2_mu_loc = model.trainable_weights[2]\n",
    "b2_mu_loc = model.trainable_weights[3]\n",
    "W2_sig_loc = model.trainable_weights[4]\n",
    "b2_sig_loc = model.trainable_weights[5]"
   ]
  },
  {
   "cell_type": "code",
   "execution_count": 132,
   "metadata": {
    "id": "TFBaAp91Ps3B",
    "vscode": {
     "languageId": "python"
    }
   },
   "outputs": [],
   "source": [
    "W1_scale = la.std[0]\n",
    "b1_scale = la.std[1]\n",
    "W2_mu_scale = la.std[2]\n",
    "b2_mu_scale = la.std[3]\n",
    "W2_sig_scale = la.std[4]\n",
    "b2_sig_scale = la.std[5]"
   ]
  },
  {
   "cell_type": "code",
   "execution_count": 133,
   "metadata": {
    "id": "GpWW-1iFP_Mo",
    "vscode": {
     "languageId": "python"
    }
   },
   "outputs": [],
   "source": [
    "reg_W1 = GaussianPriorRegularizer(loc=W1_loc,scale=W1_scale,n_examples=n_examples)\n",
    "reg_b1 = GaussianPriorRegularizer(loc=b1_loc,scale=b1_scale,n_examples=n_examples)\n",
    "reg_W2_mu = GaussianPriorRegularizer(loc=W2_mu_loc,scale=W2_mu_scale,n_examples=n_examples)\n",
    "reg_b2_mu = GaussianPriorRegularizer(loc=b2_mu_loc,scale=b2_mu_scale,n_examples=n_examples)\n",
    "reg_W2_sig = GaussianPriorRegularizer(loc=W2_sig_loc,scale=W2_sig_scale,n_examples=n_examples)\n",
    "reg_b2_sig = GaussianPriorRegularizer(loc=b2_sig_loc,scale=b2_sig_scale,n_examples=n_examples)"
   ]
  },
  {
   "cell_type": "code",
   "execution_count": 134,
   "metadata": {
    "colab": {
     "base_uri": "https://localhost:8080/"
    },
    "id": "HAhrm3QdO_mU",
    "outputId": "effcac85-ef0c-4189-a117-fa4dc251e5f1",
    "vscode": {
     "languageId": "python"
    }
   },
   "outputs": [
    {
     "name": "stdout",
     "output_type": "stream",
     "text": [
      "[ 0.05916218  0.07743399  0.01005633  0.1351511   0.13374291  0.02035745\n",
      "  0.01301698  0.0312241  -0.01890122  0.07383373  0.02743894 -0.04796959\n",
      "  0.11188435  0.14525081 -0.01156635  0.03200342 -0.0156411  -0.08010915\n",
      " -0.07284796  0.059216    0.03638256  0.04651063 -0.11584144  0.0097851\n",
      " -0.02622386  0.07825387  0.06161001 -0.09949362  0.04214218  0.2318307\n",
      " -0.12449931 -0.09059707  0.01746687  0.08222549  0.05057219 -0.0311393\n",
      " -0.19439396  0.18193874 -0.14072874 -0.01146438  0.01569572  0.09969088\n",
      "  0.03807338  0.07045716  0.17910294 -0.07187615 -0.12620915 -0.03446725\n",
      "  0.07540539  0.02568623 -0.00576986  0.04615048  0.2065717   0.053888\n",
      "  0.09332075 -0.05172975  0.00230633 -0.00722388  0.01817116  0.02177383\n",
      " -0.12218009 -0.07704797  0.10533066  0.04865688  0.01161567  0.20729299\n",
      "  0.12916404  0.0496119  -0.05063994 -0.03700969 -0.0266222  -0.07855315\n",
      " -0.1667982   0.04613291 -0.04125399 -0.06164172 -0.02142069  0.14483683\n",
      "  0.17059912 -0.08512633  0.073211   -0.08640821  0.06242276  0.00500248\n",
      "  0.06448232  0.14078227 -0.15765327  0.06296022  0.00807626  0.06604911\n",
      " -0.21483064  0.12535326 -0.02738121  0.00982413  0.04711194 -0.02278496\n",
      " -0.04686235 -0.14723939 -0.02532809  0.08134269]\n",
      "[ 1.54657965e-03  3.02259415e-01  2.17080731e-02  4.35198210e-02\n",
      "  7.58091062e-02  3.18460427e-02 -3.33690010e-02  2.51208781e-04\n",
      "  2.26062447e-01  9.38954800e-02  6.62637828e-03 -1.64603457e-01\n",
      " -2.33710855e-02 -4.03483020e-04 -3.96083370e-02 -4.23827060e-02\n",
      " -8.09250027e-02  1.58629082e-02  5.49536049e-02 -1.87290728e-03\n",
      " -1.55819997e-01 -2.65650880e-02  2.04996973e-01  1.09799609e-01\n",
      "  3.97330411e-02  4.98464070e-02  1.94209784e-01 -4.80347537e-02\n",
      "  3.90470862e-01  8.84087682e-02  5.53520508e-02  1.82413608e-01\n",
      " -1.02957480e-01  5.81345499e-01  4.59934212e-03 -1.28408387e-01\n",
      "  2.10974310e-02  1.68795496e-01  1.64547726e-03 -2.31942665e-02\n",
      "  1.25082031e-01 -1.75440647e-02  8.47628415e-02 -3.76931801e-02\n",
      "  1.12897173e-01  8.44471455e-01 -1.45559115e-02  1.22046396e-02\n",
      "  5.23097634e-01  1.21869758e-01  3.83345485e-02  7.27415532e-02\n",
      " -7.22966716e-03  1.44508481e-01 -4.51496802e-02  9.91586447e-02\n",
      "  1.91223204e-01  3.83247398e-02  3.39819491e-01  2.73829490e-01\n",
      " -1.53167378e-02  5.18829888e-03  1.71149243e-02  5.84341809e-02\n",
      " -3.94875668e-02 -6.33931756e-02  1.19439788e-01 -8.05273578e-02\n",
      " -3.07995807e-02  4.10180658e-01  9.58223492e-02 -7.36084441e-03\n",
      " -2.22417057e-01  1.01787627e-01 -1.61220446e-01  2.21406594e-01\n",
      "  5.59879720e-01  7.91088566e-02  9.70500633e-02  5.39239543e-03\n",
      "  2.03999817e-01  1.08188428e-01  4.18976516e-01  1.33570015e-01\n",
      " -3.71929973e-01 -1.28811514e-02 -5.50121740e-02 -2.85922512e-02\n",
      "  1.31913257e+00 -9.94621813e-02 -1.78285122e-01  2.51704574e-01\n",
      " -1.88820228e-01  1.52449906e-02 -1.10893622e-01  6.84780851e-02\n",
      " -1.39733121e-01  1.53452590e-01 -1.26984417e-01 -6.28647134e-02]\n",
      "[ 7.49873146e-02  1.35425702e-01 -3.48213911e-02  4.93135452e-02\n",
      "  6.10263236e-02 -8.51476416e-02 -1.55047461e-01 -7.26951435e-02\n",
      "  4.24845338e-01  7.16821179e-02 -5.64920604e-02  7.51081929e-02\n",
      "  1.24212645e-01  7.70992860e-02  2.01454669e-01  5.84511608e-02\n",
      "  8.26484151e-03  1.13564067e-01  9.94134694e-02  2.12970227e-01\n",
      "  3.52166072e-02  6.95585310e-02 -1.04484878e-01 -2.94601358e-02\n",
      "  6.12457171e-02  8.33052397e-02  2.06066947e-02  1.15472168e-01\n",
      "  4.58295673e-01  2.34384704e-02  2.81101950e-02  1.90923363e-01\n",
      " -4.04332625e-03  4.93069142e-01  4.78269234e-02 -6.19041957e-02\n",
      " -1.33698851e-01 -2.26055205e-01  2.66015828e-02 -1.77701248e-03\n",
      " -1.13781661e-01  2.53080189e-01  1.01561211e-02 -7.09683672e-02\n",
      " -1.86009049e-01  4.26241755e-01  1.41738415e-01  4.85084914e-02\n",
      "  4.07044113e-01 -2.19911933e-02 -9.77756381e-02 -9.99742420e-04\n",
      "  1.78258084e-02 -1.74303539e-02 -1.30485408e-02 -4.44743149e-02\n",
      "  2.64859032e-02 -2.87449006e-02  8.74067992e-02  1.87203869e-01\n",
      " -9.18837935e-02 -2.96121966e-02  9.28701162e-02  2.22624213e-01\n",
      "  7.05547333e-02  1.35822803e-01 -8.02503452e-02  3.40020657e-02\n",
      "  5.61333112e-02  9.29541439e-02  1.62451953e-01 -2.90357471e-02\n",
      " -1.24709152e-01 -8.18543732e-02 -2.35292912e-01  1.06680719e-02\n",
      "  4.74769682e-01 -4.14609276e-02 -1.19665079e-02 -6.02383390e-02\n",
      "  6.08373173e-02 -2.11495478e-02  4.29762065e-01 -1.10596657e-01\n",
      " -1.42982244e-01 -3.15916501e-02 -6.92158639e-02 -7.82522664e-04\n",
      "  1.38092029e+00  1.60475165e-01 -8.83942544e-02  5.97077049e-03\n",
      "  1.88998178e-01  1.51627790e-03  1.27645075e-01 -8.70921910e-02\n",
      "  1.74197897e-01  7.42406249e-02 -2.93917358e-02 -1.47995129e-01]\n",
      "1.091447\n",
      "[ 0.02296079  0.07362489  0.0770681  -0.10669471  0.10048307 -0.10190395\n",
      " -0.09195718 -0.06448504 -0.03010375 -0.22971877  0.10898737  0.20184663\n",
      " -0.07471115 -0.02325566 -0.07273217  0.10842637  0.08185347 -0.18882833\n",
      " -0.11803144 -0.0547216  -0.22044565 -0.10009161  0.16013485  0.08042347\n",
      "  0.05255255  0.12113088  0.02357404  0.25397086  0.02183331 -0.1002092\n",
      " -0.09675956 -0.02131679  0.09212026  0.01869422 -0.03054774 -0.10188587\n",
      " -0.01626604  0.03676002 -0.12801723  0.16961521 -0.07386049 -0.02435797\n",
      " -0.09056682 -0.08758604  0.17154986 -0.4404528  -0.21083656 -0.11973329\n",
      "  0.11244828 -0.0740409  -0.14316362 -0.01981709  0.05874005  0.07581984\n",
      "  0.03148076 -0.01512927  0.17290631 -0.2648629   0.00282167  0.0613612\n",
      "  0.09283069  0.02117347  0.09708851 -0.0087896   0.143659   -0.04817275\n",
      " -0.02125381  0.01417072 -0.06560896  0.02324194 -0.04258874  0.07101897\n",
      "  0.14843437  0.09565535  0.16487886  0.13587943 -0.09445839 -0.03683858\n",
      "  0.00309017  0.04218897 -0.03450038  0.00740066  0.07843465  0.10785618\n",
      " -0.15016694  0.23467746 -0.10553937 -0.10516819  0.00368086  0.03026295\n",
      "  0.22773758  0.04902739  0.02939759 -0.26995283  0.10696583  0.04244606\n",
      "  0.00439903 -0.0343463   0.12081007 -0.04512227]\n",
      "0.016459875\n"
     ]
    }
   ],
   "source": [
    "\n",
    "# Build model.\n",
    "input = tf.keras.layers.Input(1)\n",
    "h1 = tf.keras.layers.Dense(100,activation=tf.keras.activations.relu,kernel_regularizer=reg_W1,bias_regularizer=reg_b1)(input)\n",
    "m = tf.keras.layers.Dense(1,kernel_regularizer=reg_W2_mu,bias_regularizer=reg_W2_mu)(h1)\n",
    "s = tf.keras.layers.Dense(1,activation=tf.keras.activations.exponential,kernel_regularizer=reg_W2_sig,bias_regularizer=reg_b2_sig)(h1)\n",
    "p = tfp.layers.DistributionLambda(lambda t: tfd.Normal(loc=t[0], scale=t[1]))([m,s])\n",
    "model_2 = tf.keras.Model(inputs=input, outputs=p)\n",
    "\n",
    "# Do inference.\n",
    "model_2.compile(optimizer=tf.optimizers.Adam(learning_rate=0.01), loss=expectednegloglik)\n",
    "model_2.fit(x_2, y_2, epochs=1000, verbose=False);\n",
    "\n",
    "# Profit.\n",
    "[print(np.squeeze(w.numpy())) for w in model.weights];\n",
    "yhat_2 = model_2(x_tst_2)\n",
    "assert isinstance(yhat_2, tfd.Distribution)"
   ]
  },
  {
   "cell_type": "code",
   "execution_count": 135,
   "metadata": {
    "colab": {
     "base_uri": "https://localhost:8080/",
     "height": 138
    },
    "id": "_bXohfdcRUcf",
    "outputId": "534489c5-278e-40ff-f5f0-7353ff9a5d24",
    "vscode": {
     "languageId": "python"
    }
   },
   "outputs": [
    {
     "data": {
      "image/png": "[encoded data removed]",
      "text/plain": [
       "<Figure size 432x108 with 1 Axes>"
      ]
     },
     "metadata": {
      "needs_background": "light"
     },
     "output_type": "display_data"
    }
   ],
   "source": [
    "plt.figure(figsize=[6, 1.5])  # inches\n",
    "plt.plot(x_2, y_2, 'b.', label='observed');\n",
    "\n",
    "m = yhat_2.mean()\n",
    "s = yhat_2.stddev()\n",
    "\n",
    "plt.plot(x_tst_2, m, 'r', linewidth=4, label='mean');\n",
    "plt.plot(x_tst_2, m + 2 * s, 'g', linewidth=2, label=r'mean + 2 stddev');\n",
    "plt.plot(x_tst_2, m - 2 * s, 'g', linewidth=2, label=r'mean - 2 stddev');\n",
    "\n",
    "plt.ylim(-0.,17);\n",
    "plt.yticks(np.linspace(0, 15, 4)[1:]);\n",
    "plt.xticks(np.linspace(*x_range, num=9));\n",
    "\n",
    "ax=plt.gca();\n",
    "ax.xaxis.set_ticks_position('bottom')\n",
    "ax.yaxis.set_ticks_position('left')\n",
    "ax.spines['left'].set_position(('data', 0))\n",
    "ax.spines['top'].set_visible(False)\n",
    "ax.spines['right'].set_visible(False)\n",
    "#ax.spines['left'].set_smart_bounds(True)\n",
    "#ax.spines['bottom'].set_smart_bounds(True)\n",
    "plt.legend(loc='center left', fancybox=True, framealpha=0., bbox_to_anchor=(1.05, 0.5))\n",
    "\n",
    "plt.savefig('/tmp/fig2.png', bbox_inches='tight', dpi=300)"
   ]
  },
  {
   "cell_type": "code",
   "execution_count": null,
   "metadata": {
    "id": "uVzS11EukmlV",
    "vscode": {
     "languageId": "python"
    }
   },
   "outputs": [],
   "source": []
  }
 ],
 "metadata": {
  "colab": {
   "provenance": []
  },
  "kernelspec": {
   "display_name": "Python 3",
   "language": "python",
   "name": "python3"
  },
  "language_info": {
   "codemirror_mode": {
    "name": "ipython",
    "version": 3
   },
   "file_extension": ".py",
   "mimetype": "text/x-python",
   "name": "python",
   "nbconvert_exporter": "python",
   "pygments_lexer": "ipython3",
   "version": "3.6.3"
  }
 },
 "nbformat": 4,
 "nbformat_minor": 1
}
